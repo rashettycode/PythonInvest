{
 "cells": [
  {
   "cell_type": "markdown",
   "metadata": {},
   "source": [
    "## Question 1: IPO Filings Web Scraping and Data Processing\n",
    "\n",
    "**What's the total sum ($m) of 2023 filings that happenned of Fridays?**\n",
    "\n",
    "Re-use the [Code Snippet 1] example to get the data from web for this endpoint: https://stockanalysis.com/ipos/filings/\n",
    "Convert the 'Filing Date' to datetime(), 'Shares Offered' to float64 (if '-' is encountered, populate with NaNs).\n",
    "Define a new field 'Avg_price' based on the \"Price Range\", which equals to NaN if no price is specified, to the price (if only one number is provided), or to the average of 2 prices (if a range is given).\n",
    "You may be inspired by the function `extract_numbers()` in [Code Snippet 4], or you can write your own function to \"parse\" a string.\n",
    "Define a column \"Shares_offered_value\", which equals to \"Shares Offered\" * \"Avg_price\" (when both columns are defined; otherwise, it's NaN)\n",
    "\n",
    "Find the total sum in $m (millions of USD, closest INTEGER number) for all fillings during 2023, which happened on Fridays (`Date.dt.dayofweek()==4`). You should see 32 records in total, 24 of it is not null.\n",
    "\n",
    "(additional: you can read about [S-1 IPO filing](https://www.dfinsolutions.com/knowledge-hub/thought-leadership/knowledge-resources/what-s-1-ipo-filing) to understand the context)"
   ]
  },
  {
   "cell_type": "code",
   "execution_count": 2,
   "metadata": {},
   "outputs": [],
   "source": [
    "# IMPORTS\n",
    "import numpy as np\n",
    "import pandas as pd\n",
    "\n",
    "#Fin Data Sources\n",
    "import yfinance as yf\n",
    "import pandas_datareader as pdr\n",
    "\n",
    "#Data viz\n",
    "import plotly.graph_objs as go\n",
    "import plotly.express as px\n",
    "\n",
    "import time\n",
    "from datetime import date\n",
    "\n",
    "# for graphs\n",
    "import matplotlib.pyplot as plt"
   ]
  },
  {
   "cell_type": "markdown",
   "metadata": {},
   "source": [
    "# 1) [Code Snippet 1] IPOs data from Web\n",
    "\n",
    "* learn dataframes \"stacking\" (UNION ALL)\n",
    "* learn about type casting\n",
    "* generate new columns (simple and with function)"
   ]
  },
  {
   "cell_type": "code",
   "execution_count": 3,
   "metadata": {},
   "outputs": [
    {
     "name": "stderr",
     "output_type": "stream",
     "text": [
      "C:\\Users\\rahul\\AppData\\Local\\Temp\\ipykernel_38208\\4213396001.py:11: FutureWarning: Passing literal html to 'read_html' is deprecated and will be removed in a future version. To read from a literal string, wrap it in a 'StringIO' object.\n",
      "  ipo_dfs = pd.read_html(response.text)\n"
     ]
    }
   ],
   "source": [
    "import pandas as pd\n",
    "import requests\n",
    "\n",
    "headers = {\n",
    "    'User-Agent': 'Mozilla/5.0 (Windows NT 10.0; Win64; x64) AppleWebKit/537.36 (KHTML, like Gecko) Chrome/58.0.3029.110 Safari/537.3',\n",
    "}\n",
    "\n",
    "url = \"https://stockanalysis.com/ipos/2023/\"\n",
    "response = requests.get(url, headers=headers)\n",
    "\n",
    "ipo_dfs = pd.read_html(response.text)"
   ]
  },
  {
   "cell_type": "code",
   "execution_count": 4,
   "metadata": {},
   "outputs": [
    {
     "name": "stdout",
     "output_type": "stream",
     "text": [
      "<class 'pandas.core.frame.DataFrame'>\n",
      "RangeIndex: 154 entries, 0 to 153\n",
      "Data columns (total 6 columns):\n",
      " #   Column        Non-Null Count  Dtype \n",
      "---  ------        --------------  ----- \n",
      " 0   IPO Date      154 non-null    object\n",
      " 1   Symbol        154 non-null    object\n",
      " 2   Company Name  154 non-null    object\n",
      " 3   IPO Price     154 non-null    object\n",
      " 4   Current       154 non-null    object\n",
      " 5   Return        154 non-null    object\n",
      "dtypes: object(6)\n",
      "memory usage: 7.3+ KB\n"
     ]
    }
   ],
   "source": [
    "ipos_2023 = ipo_dfs[0]\n",
    "ipos_2023.info()"
   ]
  },
  {
   "cell_type": "code",
   "execution_count": 5,
   "metadata": {},
   "outputs": [
    {
     "name": "stderr",
     "output_type": "stream",
     "text": [
      "C:\\Users\\rahul\\AppData\\Local\\Temp\\ipykernel_38208\\1522156903.py:4: FutureWarning: Passing literal html to 'read_html' is deprecated and will be removed in a future version. To read from a literal string, wrap it in a 'StringIO' object.\n",
      "  ipo_dfs = pd.read_html(response.text)\n"
     ]
    }
   ],
   "source": [
    "url = \"https://stockanalysis.com/ipos/2024/\"\n",
    "response = requests.get(url, headers=headers)\n",
    "\n",
    "ipo_dfs = pd.read_html(response.text)"
   ]
  },
  {
   "cell_type": "code",
   "execution_count": 6,
   "metadata": {},
   "outputs": [
    {
     "name": "stdout",
     "output_type": "stream",
     "text": [
      "<class 'pandas.core.frame.DataFrame'>\n",
      "RangeIndex: 63 entries, 0 to 62\n",
      "Data columns (total 6 columns):\n",
      " #   Column        Non-Null Count  Dtype \n",
      "---  ------        --------------  ----- \n",
      " 0   IPO Date      63 non-null     object\n",
      " 1   Symbol        63 non-null     object\n",
      " 2   Company Name  63 non-null     object\n",
      " 3   IPO Price     63 non-null     object\n",
      " 4   Current       63 non-null     object\n",
      " 5   Return        63 non-null     object\n",
      "dtypes: object(6)\n",
      "memory usage: 3.1+ KB\n"
     ]
    }
   ],
   "source": [
    "ipos_2024 = ipo_dfs[0]\n",
    "ipos_2024.info()"
   ]
  },
  {
   "cell_type": "code",
   "execution_count": 7,
   "metadata": {},
   "outputs": [],
   "source": [
    "# \"stacking dataframes\"\n",
    "# pd.concat() is used to concatenate the DataFrames vertically.\n",
    "# The ignore_index=True parameter ensures that the resulting DataFrame has a new index,\n",
    "# ignoring the original indices of the input DataFrames.\n",
    "# The stacked_df now contains the concatenated DataFrame.\n",
    "stacked_ipos_df = pd.concat([ipos_2024, ipos_2023], ignore_index=True)"
   ]
  },
  {
   "cell_type": "code",
   "execution_count": 8,
   "metadata": {},
   "outputs": [
    {
     "data": {
      "text/html": [
       "<div>\n",
       "<style scoped>\n",
       "    .dataframe tbody tr th:only-of-type {\n",
       "        vertical-align: middle;\n",
       "    }\n",
       "\n",
       "    .dataframe tbody tr th {\n",
       "        vertical-align: top;\n",
       "    }\n",
       "\n",
       "    .dataframe thead th {\n",
       "        text-align: right;\n",
       "    }\n",
       "</style>\n",
       "<table border=\"1\" class=\"dataframe\">\n",
       "  <thead>\n",
       "    <tr style=\"text-align: right;\">\n",
       "      <th></th>\n",
       "      <th>IPO Date</th>\n",
       "      <th>Symbol</th>\n",
       "      <th>Company Name</th>\n",
       "      <th>IPO Price</th>\n",
       "      <th>Current</th>\n",
       "      <th>Return</th>\n",
       "    </tr>\n",
       "  </thead>\n",
       "  <tbody>\n",
       "    <tr>\n",
       "      <th>0</th>\n",
       "      <td>Apr 26, 2024</td>\n",
       "      <td>ZONE</td>\n",
       "      <td>CleanCore Solutions, Inc.</td>\n",
       "      <td>$4.00</td>\n",
       "      <td>$3.14</td>\n",
       "      <td>-20.50%</td>\n",
       "    </tr>\n",
       "  </tbody>\n",
       "</table>\n",
       "</div>"
      ],
      "text/plain": [
       "       IPO Date Symbol               Company Name IPO Price Current   Return\n",
       "0  Apr 26, 2024   ZONE  CleanCore Solutions, Inc.     $4.00   $3.14  -20.50%"
      ]
     },
     "execution_count": 8,
     "metadata": {},
     "output_type": "execute_result"
    }
   ],
   "source": [
    "stacked_ipos_df.head(1)"
   ]
  },
  {
   "cell_type": "code",
   "execution_count": 9,
   "metadata": {},
   "outputs": [
    {
     "name": "stdout",
     "output_type": "stream",
     "text": [
      "<class 'pandas.core.frame.DataFrame'>\n",
      "RangeIndex: 217 entries, 0 to 216\n",
      "Data columns (total 6 columns):\n",
      " #   Column        Non-Null Count  Dtype \n",
      "---  ------        --------------  ----- \n",
      " 0   IPO Date      217 non-null    object\n",
      " 1   Symbol        217 non-null    object\n",
      " 2   Company Name  217 non-null    object\n",
      " 3   IPO Price     217 non-null    object\n",
      " 4   Current       217 non-null    object\n",
      " 5   Return        217 non-null    object\n",
      "dtypes: object(6)\n",
      "memory usage: 10.3+ KB\n"
     ]
    }
   ],
   "source": [
    "# Need to convert everything to a proper type (date, str, int, float, etc.)\n",
    "stacked_ipos_df.info()"
   ]
  },
  {
   "cell_type": "code",
   "execution_count": 10,
   "metadata": {},
   "outputs": [],
   "source": [
    "# convert to datetime\n",
    "stacked_ipos_df['IPO Date'] = pd.to_datetime(stacked_ipos_df['IPO Date'])"
   ]
  },
  {
   "cell_type": "code",
   "execution_count": 11,
   "metadata": {},
   "outputs": [
    {
     "data": {
      "text/html": [
       "<div>\n",
       "<style scoped>\n",
       "    .dataframe tbody tr th:only-of-type {\n",
       "        vertical-align: middle;\n",
       "    }\n",
       "\n",
       "    .dataframe tbody tr th {\n",
       "        vertical-align: top;\n",
       "    }\n",
       "\n",
       "    .dataframe thead th {\n",
       "        text-align: right;\n",
       "    }\n",
       "</style>\n",
       "<table border=\"1\" class=\"dataframe\">\n",
       "  <thead>\n",
       "    <tr style=\"text-align: right;\">\n",
       "      <th></th>\n",
       "      <th>IPO Date</th>\n",
       "      <th>Symbol</th>\n",
       "      <th>Company Name</th>\n",
       "      <th>IPO Price</th>\n",
       "      <th>Current</th>\n",
       "      <th>Return</th>\n",
       "    </tr>\n",
       "  </thead>\n",
       "  <tbody>\n",
       "  </tbody>\n",
       "</table>\n",
       "</div>"
      ],
      "text/plain": [
       "Empty DataFrame\n",
       "Columns: [IPO Date, Symbol, Company Name, IPO Price, Current, Return]\n",
       "Index: []"
      ]
     },
     "execution_count": 11,
     "metadata": {},
     "output_type": "execute_result"
    }
   ],
   "source": [
    "# Problem --> not always the columns are filled\n",
    "missing_prices_df = stacked_ipos_df[stacked_ipos_df['IPO Price'].astype(str).str.find('-') >= 0]\n",
    "missing_prices_df"
   ]
  },
  {
   "cell_type": "code",
   "execution_count": 12,
   "metadata": {},
   "outputs": [],
   "source": [
    "# it has some missing values --> use defensive errors='coerce' (if don't have time to crack into the data errors)\n",
    "#     : pd.to_numeric() function call, which will convert problematic values to NaN.\n",
    "#     otherwise you'll get a ValueError: Unable to parse string \"-\" at position 9\n",
    "stacked_ipos_df['IPO Price'] = pd.to_numeric(stacked_ipos_df['IPO Price'].str.replace('$', ''), errors='coerce')\n",
    "# not sure why, but need to call it again to transform 'object' to 'float64'\n",
    "stacked_ipos_df['IPO Price'] = pd.to_numeric(stacked_ipos_df['IPO Price'])"
   ]
  },
  {
   "cell_type": "code",
   "execution_count": 13,
   "metadata": {},
   "outputs": [],
   "source": [
    "# Convert \"Current\" column\n",
    "stacked_ipos_df['Current'] = pd.to_numeric(stacked_ipos_df['Current'].str.replace('$', ''), errors='coerce')\n",
    "\n",
    "# Convert 'Return' to numeric format (percentage)\n",
    "stacked_ipos_df['Return'] = pd.to_numeric(stacked_ipos_df['Return'].str.replace('%', ''), errors='coerce') / 100"
   ]
  },
  {
   "cell_type": "code",
   "execution_count": 14,
   "metadata": {},
   "outputs": [
    {
     "name": "stdout",
     "output_type": "stream",
     "text": [
      "<class 'pandas.core.frame.DataFrame'>\n",
      "RangeIndex: 217 entries, 0 to 216\n",
      "Data columns (total 6 columns):\n",
      " #   Column        Non-Null Count  Dtype         \n",
      "---  ------        --------------  -----         \n",
      " 0   IPO Date      217 non-null    datetime64[ns]\n",
      " 1   Symbol        217 non-null    object        \n",
      " 2   Company Name  217 non-null    object        \n",
      " 3   IPO Price     217 non-null    float64       \n",
      " 4   Current       217 non-null    float64       \n",
      " 5   Return        216 non-null    float64       \n",
      "dtypes: datetime64[ns](1), float64(3), object(2)\n",
      "memory usage: 10.3+ KB\n"
     ]
    }
   ],
   "source": [
    "# Correctly applied transformations with 'defensive' techniques, but now not all are non-null\n",
    "stacked_ipos_df.info()"
   ]
  },
  {
   "cell_type": "code",
   "execution_count": 15,
   "metadata": {},
   "outputs": [
    {
     "data": {
      "text/plain": [
       "IPO Date        0\n",
       "Symbol          0\n",
       "Company Name    0\n",
       "IPO Price       0\n",
       "Current         0\n",
       "Return          1\n",
       "dtype: int64"
      ]
     },
     "execution_count": 15,
     "metadata": {},
     "output_type": "execute_result"
    }
   ],
   "source": [
    "# simple way of checking NULLs\n",
    "# (you need to understand how vector operations work .isnull() and calls chaining .isnull().sum())\n",
    "stacked_ipos_df.isnull().sum()"
   ]
  },
  {
   "cell_type": "code",
   "execution_count": 16,
   "metadata": {},
   "outputs": [
    {
     "data": {
      "text/html": [
       "<div>\n",
       "<style scoped>\n",
       "    .dataframe tbody tr th:only-of-type {\n",
       "        vertical-align: middle;\n",
       "    }\n",
       "\n",
       "    .dataframe tbody tr th {\n",
       "        vertical-align: top;\n",
       "    }\n",
       "\n",
       "    .dataframe thead th {\n",
       "        text-align: right;\n",
       "    }\n",
       "</style>\n",
       "<table border=\"1\" class=\"dataframe\">\n",
       "  <thead>\n",
       "    <tr style=\"text-align: right;\">\n",
       "      <th></th>\n",
       "      <th>IPO Date</th>\n",
       "      <th>Symbol</th>\n",
       "      <th>Company Name</th>\n",
       "      <th>IPO Price</th>\n",
       "      <th>Current</th>\n",
       "      <th>Return</th>\n",
       "    </tr>\n",
       "  </thead>\n",
       "  <tbody>\n",
       "    <tr>\n",
       "      <th>40</th>\n",
       "      <td>2024-02-09</td>\n",
       "      <td>TELO</td>\n",
       "      <td>Telomir Pharmaceuticals, Inc.</td>\n",
       "      <td>7.0</td>\n",
       "      <td>6.29</td>\n",
       "      <td>NaN</td>\n",
       "    </tr>\n",
       "  </tbody>\n",
       "</table>\n",
       "</div>"
      ],
      "text/plain": [
       "     IPO Date Symbol                   Company Name  IPO Price  Current  \\\n",
       "40 2024-02-09   TELO  Telomir Pharmaceuticals, Inc.        7.0     6.29   \n",
       "\n",
       "    Return  \n",
       "40     NaN  "
      ]
     },
     "execution_count": 16,
     "metadata": {},
     "output_type": "execute_result"
    }
   ],
   "source": [
    "# Do you want to leave the record or not?\n",
    "stacked_ipos_df[stacked_ipos_df.Return.isnull()]"
   ]
  },
  {
   "cell_type": "code",
   "execution_count": 17,
   "metadata": {},
   "outputs": [
    {
     "data": {
      "text/plain": [
       "11.000599078341015"
      ]
     },
     "execution_count": 17,
     "metadata": {},
     "output_type": "execute_result"
    }
   ],
   "source": [
    "# now you can operate with columns as a numeric type\n",
    "stacked_ipos_df['IPO Price'].mean()"
   ]
  },
  {
   "cell_type": "code",
   "execution_count": 18,
   "metadata": {},
   "outputs": [],
   "source": [
    "# generate a new field -- SIMPLE calculation (no function needed)\n",
    "stacked_ipos_df['Price Increase'] = stacked_ipos_df['Current'] - stacked_ipos_df['IPO Price']"
   ]
  },
  {
   "cell_type": "code",
   "execution_count": 19,
   "metadata": {},
   "outputs": [
    {
     "data": {
      "text/html": [
       "<div>\n",
       "<style scoped>\n",
       "    .dataframe tbody tr th:only-of-type {\n",
       "        vertical-align: middle;\n",
       "    }\n",
       "\n",
       "    .dataframe tbody tr th {\n",
       "        vertical-align: top;\n",
       "    }\n",
       "\n",
       "    .dataframe thead th {\n",
       "        text-align: right;\n",
       "    }\n",
       "</style>\n",
       "<table border=\"1\" class=\"dataframe\">\n",
       "  <thead>\n",
       "    <tr style=\"text-align: right;\">\n",
       "      <th></th>\n",
       "      <th>IPO Date</th>\n",
       "      <th>Symbol</th>\n",
       "      <th>Company Name</th>\n",
       "      <th>IPO Price</th>\n",
       "      <th>Current</th>\n",
       "      <th>Return</th>\n",
       "      <th>Price Increase</th>\n",
       "    </tr>\n",
       "  </thead>\n",
       "  <tbody>\n",
       "    <tr>\n",
       "      <th>0</th>\n",
       "      <td>2024-04-26</td>\n",
       "      <td>ZONE</td>\n",
       "      <td>CleanCore Solutions, Inc.</td>\n",
       "      <td>4.0</td>\n",
       "      <td>3.14</td>\n",
       "      <td>-0.205</td>\n",
       "      <td>-0.86</td>\n",
       "    </tr>\n",
       "  </tbody>\n",
       "</table>\n",
       "</div>"
      ],
      "text/plain": [
       "    IPO Date Symbol               Company Name  IPO Price  Current  Return  \\\n",
       "0 2024-04-26   ZONE  CleanCore Solutions, Inc.        4.0     3.14  -0.205   \n",
       "\n",
       "   Price Increase  \n",
       "0           -0.86  "
      ]
     },
     "execution_count": 19,
     "metadata": {},
     "output_type": "execute_result"
    }
   ],
   "source": [
    "stacked_ipos_df.head(1)"
   ]
  },
  {
   "cell_type": "code",
   "execution_count": 20,
   "metadata": {},
   "outputs": [
    {
     "data": {
      "text/html": [
       "<div>\n",
       "<style scoped>\n",
       "    .dataframe tbody tr th:only-of-type {\n",
       "        vertical-align: middle;\n",
       "    }\n",
       "\n",
       "    .dataframe tbody tr th {\n",
       "        vertical-align: top;\n",
       "    }\n",
       "\n",
       "    .dataframe thead th {\n",
       "        text-align: right;\n",
       "    }\n",
       "</style>\n",
       "<table border=\"1\" class=\"dataframe\">\n",
       "  <thead>\n",
       "    <tr style=\"text-align: right;\">\n",
       "      <th></th>\n",
       "      <th>IPO Date</th>\n",
       "      <th>IPO Price</th>\n",
       "      <th>Current</th>\n",
       "      <th>Return</th>\n",
       "      <th>Price Increase</th>\n",
       "    </tr>\n",
       "  </thead>\n",
       "  <tbody>\n",
       "    <tr>\n",
       "      <th>count</th>\n",
       "      <td>217</td>\n",
       "      <td>217.000000</td>\n",
       "      <td>217.000000</td>\n",
       "      <td>216.000000</td>\n",
       "      <td>217.000000</td>\n",
       "    </tr>\n",
       "    <tr>\n",
       "      <th>mean</th>\n",
       "      <td>2023-09-07 01:39:32.350230528</td>\n",
       "      <td>11.000599</td>\n",
       "      <td>11.027097</td>\n",
       "      <td>-0.196611</td>\n",
       "      <td>0.026498</td>\n",
       "    </tr>\n",
       "    <tr>\n",
       "      <th>min</th>\n",
       "      <td>2023-01-13 00:00:00</td>\n",
       "      <td>2.500000</td>\n",
       "      <td>0.000000</td>\n",
       "      <td>-0.999600</td>\n",
       "      <td>-20.560000</td>\n",
       "    </tr>\n",
       "    <tr>\n",
       "      <th>25%</th>\n",
       "      <td>2023-04-20 00:00:00</td>\n",
       "      <td>4.000000</td>\n",
       "      <td>1.270000</td>\n",
       "      <td>-0.728500</td>\n",
       "      <td>-3.650000</td>\n",
       "    </tr>\n",
       "    <tr>\n",
       "      <th>50%</th>\n",
       "      <td>2023-09-14 00:00:00</td>\n",
       "      <td>8.000000</td>\n",
       "      <td>5.170000</td>\n",
       "      <td>-0.233450</td>\n",
       "      <td>-1.910000</td>\n",
       "    </tr>\n",
       "    <tr>\n",
       "      <th>75%</th>\n",
       "      <td>2024-01-24 00:00:00</td>\n",
       "      <td>13.000000</td>\n",
       "      <td>10.830000</td>\n",
       "      <td>0.052750</td>\n",
       "      <td>0.520000</td>\n",
       "    </tr>\n",
       "    <tr>\n",
       "      <th>max</th>\n",
       "      <td>2024-04-26 00:00:00</td>\n",
       "      <td>92.000000</td>\n",
       "      <td>117.760000</td>\n",
       "      <td>5.055000</td>\n",
       "      <td>50.210000</td>\n",
       "    </tr>\n",
       "    <tr>\n",
       "      <th>std</th>\n",
       "      <td>NaN</td>\n",
       "      <td>11.237054</td>\n",
       "      <td>17.207482</td>\n",
       "      <td>0.728811</td>\n",
       "      <td>9.269815</td>\n",
       "    </tr>\n",
       "  </tbody>\n",
       "</table>\n",
       "</div>"
      ],
      "text/plain": [
       "                            IPO Date   IPO Price     Current      Return  \\\n",
       "count                            217  217.000000  217.000000  216.000000   \n",
       "mean   2023-09-07 01:39:32.350230528   11.000599   11.027097   -0.196611   \n",
       "min              2023-01-13 00:00:00    2.500000    0.000000   -0.999600   \n",
       "25%              2023-04-20 00:00:00    4.000000    1.270000   -0.728500   \n",
       "50%              2023-09-14 00:00:00    8.000000    5.170000   -0.233450   \n",
       "75%              2024-01-24 00:00:00   13.000000   10.830000    0.052750   \n",
       "max              2024-04-26 00:00:00   92.000000  117.760000    5.055000   \n",
       "std                              NaN   11.237054   17.207482    0.728811   \n",
       "\n",
       "       Price Increase  \n",
       "count      217.000000  \n",
       "mean         0.026498  \n",
       "min        -20.560000  \n",
       "25%         -3.650000  \n",
       "50%         -1.910000  \n",
       "75%          0.520000  \n",
       "max         50.210000  \n",
       "std          9.269815  "
      ]
     },
     "execution_count": 20,
     "metadata": {},
     "output_type": "execute_result"
    }
   ],
   "source": [
    "# Descriptive Analytics of a dataset\n",
    "stacked_ipos_df.describe()"
   ]
  },
  {
   "cell_type": "code",
   "execution_count": 21,
   "metadata": {},
   "outputs": [
    {
     "data": {
      "application/vnd.plotly.v1+json": {
       "config": {
        "plotlyServerURL": "https://plot.ly"
       },
       "data": [
        {
         "alignmentgroup": "True",
         "hovertemplate": "Date_monthly=%{x}<br>Number of Deals=%{text}<extra></extra>",
         "legendgroup": "",
         "marker": {
          "color": "#636efa",
          "pattern": {
           "shape": ""
          }
         },
         "name": "",
         "offsetgroup": "",
         "orientation": "v",
         "showlegend": false,
         "text": [
          8,
          17,
          19,
          15,
          9,
          11,
          15,
          11,
          15,
          12,
          15,
          7,
          15,
          16,
          12,
          20
         ],
         "textfont": {
          "color": "black",
          "size": 14
         },
         "textposition": "outside",
         "type": "bar",
         "x": [
          "2023-01-01T00:00:00",
          "2023-02-01T00:00:00",
          "2023-03-01T00:00:00",
          "2023-04-01T00:00:00",
          "2023-05-01T00:00:00",
          "2023-06-01T00:00:00",
          "2023-07-01T00:00:00",
          "2023-08-01T00:00:00",
          "2023-09-01T00:00:00",
          "2023-10-01T00:00:00",
          "2023-11-01T00:00:00",
          "2023-12-01T00:00:00",
          "2024-01-01T00:00:00",
          "2024-02-01T00:00:00",
          "2024-03-01T00:00:00",
          "2024-04-01T00:00:00"
         ],
         "xaxis": "x",
         "y": [
          8,
          17,
          19,
          15,
          9,
          11,
          15,
          11,
          15,
          12,
          15,
          7,
          15,
          16,
          12,
          20
         ],
         "yaxis": "y"
        }
       ],
       "layout": {
        "barmode": "relative",
        "legend": {
         "tracegroupgap": 0
        },
        "template": {
         "data": {
          "bar": [
           {
            "error_x": {
             "color": "#2a3f5f"
            },
            "error_y": {
             "color": "#2a3f5f"
            },
            "marker": {
             "line": {
              "color": "#E5ECF6",
              "width": 0.5
             },
             "pattern": {
              "fillmode": "overlay",
              "size": 10,
              "solidity": 0.2
             }
            },
            "type": "bar"
           }
          ],
          "barpolar": [
           {
            "marker": {
             "line": {
              "color": "#E5ECF6",
              "width": 0.5
             },
             "pattern": {
              "fillmode": "overlay",
              "size": 10,
              "solidity": 0.2
             }
            },
            "type": "barpolar"
           }
          ],
          "carpet": [
           {
            "aaxis": {
             "endlinecolor": "#2a3f5f",
             "gridcolor": "white",
             "linecolor": "white",
             "minorgridcolor": "white",
             "startlinecolor": "#2a3f5f"
            },
            "baxis": {
             "endlinecolor": "#2a3f5f",
             "gridcolor": "white",
             "linecolor": "white",
             "minorgridcolor": "white",
             "startlinecolor": "#2a3f5f"
            },
            "type": "carpet"
           }
          ],
          "choropleth": [
           {
            "colorbar": {
             "outlinewidth": 0,
             "ticks": ""
            },
            "type": "choropleth"
           }
          ],
          "contour": [
           {
            "colorbar": {
             "outlinewidth": 0,
             "ticks": ""
            },
            "colorscale": [
             [
              0,
              "#0d0887"
             ],
             [
              0.1111111111111111,
              "#46039f"
             ],
             [
              0.2222222222222222,
              "#7201a8"
             ],
             [
              0.3333333333333333,
              "#9c179e"
             ],
             [
              0.4444444444444444,
              "#bd3786"
             ],
             [
              0.5555555555555556,
              "#d8576b"
             ],
             [
              0.6666666666666666,
              "#ed7953"
             ],
             [
              0.7777777777777778,
              "#fb9f3a"
             ],
             [
              0.8888888888888888,
              "#fdca26"
             ],
             [
              1,
              "#f0f921"
             ]
            ],
            "type": "contour"
           }
          ],
          "contourcarpet": [
           {
            "colorbar": {
             "outlinewidth": 0,
             "ticks": ""
            },
            "type": "contourcarpet"
           }
          ],
          "heatmap": [
           {
            "colorbar": {
             "outlinewidth": 0,
             "ticks": ""
            },
            "colorscale": [
             [
              0,
              "#0d0887"
             ],
             [
              0.1111111111111111,
              "#46039f"
             ],
             [
              0.2222222222222222,
              "#7201a8"
             ],
             [
              0.3333333333333333,
              "#9c179e"
             ],
             [
              0.4444444444444444,
              "#bd3786"
             ],
             [
              0.5555555555555556,
              "#d8576b"
             ],
             [
              0.6666666666666666,
              "#ed7953"
             ],
             [
              0.7777777777777778,
              "#fb9f3a"
             ],
             [
              0.8888888888888888,
              "#fdca26"
             ],
             [
              1,
              "#f0f921"
             ]
            ],
            "type": "heatmap"
           }
          ],
          "heatmapgl": [
           {
            "colorbar": {
             "outlinewidth": 0,
             "ticks": ""
            },
            "colorscale": [
             [
              0,
              "#0d0887"
             ],
             [
              0.1111111111111111,
              "#46039f"
             ],
             [
              0.2222222222222222,
              "#7201a8"
             ],
             [
              0.3333333333333333,
              "#9c179e"
             ],
             [
              0.4444444444444444,
              "#bd3786"
             ],
             [
              0.5555555555555556,
              "#d8576b"
             ],
             [
              0.6666666666666666,
              "#ed7953"
             ],
             [
              0.7777777777777778,
              "#fb9f3a"
             ],
             [
              0.8888888888888888,
              "#fdca26"
             ],
             [
              1,
              "#f0f921"
             ]
            ],
            "type": "heatmapgl"
           }
          ],
          "histogram": [
           {
            "marker": {
             "pattern": {
              "fillmode": "overlay",
              "size": 10,
              "solidity": 0.2
             }
            },
            "type": "histogram"
           }
          ],
          "histogram2d": [
           {
            "colorbar": {
             "outlinewidth": 0,
             "ticks": ""
            },
            "colorscale": [
             [
              0,
              "#0d0887"
             ],
             [
              0.1111111111111111,
              "#46039f"
             ],
             [
              0.2222222222222222,
              "#7201a8"
             ],
             [
              0.3333333333333333,
              "#9c179e"
             ],
             [
              0.4444444444444444,
              "#bd3786"
             ],
             [
              0.5555555555555556,
              "#d8576b"
             ],
             [
              0.6666666666666666,
              "#ed7953"
             ],
             [
              0.7777777777777778,
              "#fb9f3a"
             ],
             [
              0.8888888888888888,
              "#fdca26"
             ],
             [
              1,
              "#f0f921"
             ]
            ],
            "type": "histogram2d"
           }
          ],
          "histogram2dcontour": [
           {
            "colorbar": {
             "outlinewidth": 0,
             "ticks": ""
            },
            "colorscale": [
             [
              0,
              "#0d0887"
             ],
             [
              0.1111111111111111,
              "#46039f"
             ],
             [
              0.2222222222222222,
              "#7201a8"
             ],
             [
              0.3333333333333333,
              "#9c179e"
             ],
             [
              0.4444444444444444,
              "#bd3786"
             ],
             [
              0.5555555555555556,
              "#d8576b"
             ],
             [
              0.6666666666666666,
              "#ed7953"
             ],
             [
              0.7777777777777778,
              "#fb9f3a"
             ],
             [
              0.8888888888888888,
              "#fdca26"
             ],
             [
              1,
              "#f0f921"
             ]
            ],
            "type": "histogram2dcontour"
           }
          ],
          "mesh3d": [
           {
            "colorbar": {
             "outlinewidth": 0,
             "ticks": ""
            },
            "type": "mesh3d"
           }
          ],
          "parcoords": [
           {
            "line": {
             "colorbar": {
              "outlinewidth": 0,
              "ticks": ""
             }
            },
            "type": "parcoords"
           }
          ],
          "pie": [
           {
            "automargin": true,
            "type": "pie"
           }
          ],
          "scatter": [
           {
            "fillpattern": {
             "fillmode": "overlay",
             "size": 10,
             "solidity": 0.2
            },
            "type": "scatter"
           }
          ],
          "scatter3d": [
           {
            "line": {
             "colorbar": {
              "outlinewidth": 0,
              "ticks": ""
             }
            },
            "marker": {
             "colorbar": {
              "outlinewidth": 0,
              "ticks": ""
             }
            },
            "type": "scatter3d"
           }
          ],
          "scattercarpet": [
           {
            "marker": {
             "colorbar": {
              "outlinewidth": 0,
              "ticks": ""
             }
            },
            "type": "scattercarpet"
           }
          ],
          "scattergeo": [
           {
            "marker": {
             "colorbar": {
              "outlinewidth": 0,
              "ticks": ""
             }
            },
            "type": "scattergeo"
           }
          ],
          "scattergl": [
           {
            "marker": {
             "colorbar": {
              "outlinewidth": 0,
              "ticks": ""
             }
            },
            "type": "scattergl"
           }
          ],
          "scattermapbox": [
           {
            "marker": {
             "colorbar": {
              "outlinewidth": 0,
              "ticks": ""
             }
            },
            "type": "scattermapbox"
           }
          ],
          "scatterpolar": [
           {
            "marker": {
             "colorbar": {
              "outlinewidth": 0,
              "ticks": ""
             }
            },
            "type": "scatterpolar"
           }
          ],
          "scatterpolargl": [
           {
            "marker": {
             "colorbar": {
              "outlinewidth": 0,
              "ticks": ""
             }
            },
            "type": "scatterpolargl"
           }
          ],
          "scatterternary": [
           {
            "marker": {
             "colorbar": {
              "outlinewidth": 0,
              "ticks": ""
             }
            },
            "type": "scatterternary"
           }
          ],
          "surface": [
           {
            "colorbar": {
             "outlinewidth": 0,
             "ticks": ""
            },
            "colorscale": [
             [
              0,
              "#0d0887"
             ],
             [
              0.1111111111111111,
              "#46039f"
             ],
             [
              0.2222222222222222,
              "#7201a8"
             ],
             [
              0.3333333333333333,
              "#9c179e"
             ],
             [
              0.4444444444444444,
              "#bd3786"
             ],
             [
              0.5555555555555556,
              "#d8576b"
             ],
             [
              0.6666666666666666,
              "#ed7953"
             ],
             [
              0.7777777777777778,
              "#fb9f3a"
             ],
             [
              0.8888888888888888,
              "#fdca26"
             ],
             [
              1,
              "#f0f921"
             ]
            ],
            "type": "surface"
           }
          ],
          "table": [
           {
            "cells": {
             "fill": {
              "color": "#EBF0F8"
             },
             "line": {
              "color": "white"
             }
            },
            "header": {
             "fill": {
              "color": "#C8D4E3"
             },
             "line": {
              "color": "white"
             }
            },
            "type": "table"
           }
          ]
         },
         "layout": {
          "annotationdefaults": {
           "arrowcolor": "#2a3f5f",
           "arrowhead": 0,
           "arrowwidth": 1
          },
          "autotypenumbers": "strict",
          "coloraxis": {
           "colorbar": {
            "outlinewidth": 0,
            "ticks": ""
           }
          },
          "colorscale": {
           "diverging": [
            [
             0,
             "#8e0152"
            ],
            [
             0.1,
             "#c51b7d"
            ],
            [
             0.2,
             "#de77ae"
            ],
            [
             0.3,
             "#f1b6da"
            ],
            [
             0.4,
             "#fde0ef"
            ],
            [
             0.5,
             "#f7f7f7"
            ],
            [
             0.6,
             "#e6f5d0"
            ],
            [
             0.7,
             "#b8e186"
            ],
            [
             0.8,
             "#7fbc41"
            ],
            [
             0.9,
             "#4d9221"
            ],
            [
             1,
             "#276419"
            ]
           ],
           "sequential": [
            [
             0,
             "#0d0887"
            ],
            [
             0.1111111111111111,
             "#46039f"
            ],
            [
             0.2222222222222222,
             "#7201a8"
            ],
            [
             0.3333333333333333,
             "#9c179e"
            ],
            [
             0.4444444444444444,
             "#bd3786"
            ],
            [
             0.5555555555555556,
             "#d8576b"
            ],
            [
             0.6666666666666666,
             "#ed7953"
            ],
            [
             0.7777777777777778,
             "#fb9f3a"
            ],
            [
             0.8888888888888888,
             "#fdca26"
            ],
            [
             1,
             "#f0f921"
            ]
           ],
           "sequentialminus": [
            [
             0,
             "#0d0887"
            ],
            [
             0.1111111111111111,
             "#46039f"
            ],
            [
             0.2222222222222222,
             "#7201a8"
            ],
            [
             0.3333333333333333,
             "#9c179e"
            ],
            [
             0.4444444444444444,
             "#bd3786"
            ],
            [
             0.5555555555555556,
             "#d8576b"
            ],
            [
             0.6666666666666666,
             "#ed7953"
            ],
            [
             0.7777777777777778,
             "#fb9f3a"
            ],
            [
             0.8888888888888888,
             "#fdca26"
            ],
            [
             1,
             "#f0f921"
            ]
           ]
          },
          "colorway": [
           "#636efa",
           "#EF553B",
           "#00cc96",
           "#ab63fa",
           "#FFA15A",
           "#19d3f3",
           "#FF6692",
           "#B6E880",
           "#FF97FF",
           "#FECB52"
          ],
          "font": {
           "color": "#2a3f5f"
          },
          "geo": {
           "bgcolor": "white",
           "lakecolor": "white",
           "landcolor": "#E5ECF6",
           "showlakes": true,
           "showland": true,
           "subunitcolor": "white"
          },
          "hoverlabel": {
           "align": "left"
          },
          "hovermode": "closest",
          "mapbox": {
           "style": "light"
          },
          "paper_bgcolor": "white",
          "plot_bgcolor": "#E5ECF6",
          "polar": {
           "angularaxis": {
            "gridcolor": "white",
            "linecolor": "white",
            "ticks": ""
           },
           "bgcolor": "#E5ECF6",
           "radialaxis": {
            "gridcolor": "white",
            "linecolor": "white",
            "ticks": ""
           }
          },
          "scene": {
           "xaxis": {
            "backgroundcolor": "#E5ECF6",
            "gridcolor": "white",
            "gridwidth": 2,
            "linecolor": "white",
            "showbackground": true,
            "ticks": "",
            "zerolinecolor": "white"
           },
           "yaxis": {
            "backgroundcolor": "#E5ECF6",
            "gridcolor": "white",
            "gridwidth": 2,
            "linecolor": "white",
            "showbackground": true,
            "ticks": "",
            "zerolinecolor": "white"
           },
           "zaxis": {
            "backgroundcolor": "#E5ECF6",
            "gridcolor": "white",
            "gridwidth": 2,
            "linecolor": "white",
            "showbackground": true,
            "ticks": "",
            "zerolinecolor": "white"
           }
          },
          "shapedefaults": {
           "line": {
            "color": "#2a3f5f"
           }
          },
          "ternary": {
           "aaxis": {
            "gridcolor": "white",
            "linecolor": "white",
            "ticks": ""
           },
           "baxis": {
            "gridcolor": "white",
            "linecolor": "white",
            "ticks": ""
           },
           "bgcolor": "#E5ECF6",
           "caxis": {
            "gridcolor": "white",
            "linecolor": "white",
            "ticks": ""
           }
          },
          "title": {
           "x": 0.05
          },
          "xaxis": {
           "automargin": true,
           "gridcolor": "white",
           "linecolor": "white",
           "ticks": "",
           "title": {
            "standoff": 15
           },
           "zerolinecolor": "white",
           "zerolinewidth": 2
          },
          "yaxis": {
           "automargin": true,
           "gridcolor": "white",
           "linecolor": "white",
           "ticks": "",
           "title": {
            "standoff": 15
           },
           "zerolinecolor": "white",
           "zerolinewidth": 2
          }
         }
        },
        "title": {
         "text": "Number of IPO Deals per Month and Year",
         "x": 0.5
        },
        "xaxis": {
         "anchor": "y",
         "domain": [
          0,
          1
         ],
         "title": {
          "text": "Date_monthly"
         }
        },
        "yaxis": {
         "anchor": "x",
         "domain": [
          0,
          1
         ],
         "title": {
          "text": "Number of Deals"
         }
        }
       }
      }
     },
     "metadata": {},
     "output_type": "display_data"
    }
   ],
   "source": [
    "# some visualisation: bar chart using Plotly Express\n",
    "import plotly.express as px\n",
    "\n",
    "# Truncate to the first day in the month - for Bar names\n",
    "stacked_ipos_df['Date_monthly'] = stacked_ipos_df['IPO Date'].dt.to_period('M').dt.to_timestamp()\n",
    "\n",
    "# Count the number of deals for each month and year\n",
    "monthly_deals = stacked_ipos_df['Date_monthly'].value_counts().reset_index().sort_values(by='Date_monthly')\n",
    "monthly_deals.columns = ['Date_monthly', 'Number of Deals']\n",
    "\n",
    "# Plotting the bar chart using Plotly Express\n",
    "fig = px.bar(monthly_deals,\n",
    "             x='Date_monthly',\n",
    "             y='Number of Deals',\n",
    "             labels={'Month_Year': 'Month and Year', 'Number of Deals': 'Number of Deals'},\n",
    "             title='Number of IPO Deals per Month and Year',\n",
    "             text='Number of Deals'\n",
    "             )\n",
    "fig.update_traces(textposition='outside', # Position the text outside the bars\n",
    "                  textfont=dict(color='black',size=14), # Adjust the font size of the text\n",
    "                  )\n",
    "fig.update_layout(title_x=0.5) # Center the title\n",
    "\n",
    "fig.show()"
   ]
  },
  {
   "cell_type": "code",
   "execution_count": 22,
   "metadata": {},
   "outputs": [
    {
     "name": "stderr",
     "output_type": "stream",
     "text": [
      "[*********************100%%**********************]  1 of 1 completed\n"
     ]
    },
    {
     "data": {
      "text/html": [
       "<div>\n",
       "<style scoped>\n",
       "    .dataframe tbody tr th:only-of-type {\n",
       "        vertical-align: middle;\n",
       "    }\n",
       "\n",
       "    .dataframe tbody tr th {\n",
       "        vertical-align: top;\n",
       "    }\n",
       "\n",
       "    .dataframe thead th {\n",
       "        text-align: right;\n",
       "    }\n",
       "</style>\n",
       "<table border=\"1\" class=\"dataframe\">\n",
       "  <thead>\n",
       "    <tr style=\"text-align: right;\">\n",
       "      <th></th>\n",
       "      <th>Open</th>\n",
       "      <th>High</th>\n",
       "      <th>Low</th>\n",
       "      <th>Close</th>\n",
       "      <th>Adj Close</th>\n",
       "      <th>Volume</th>\n",
       "    </tr>\n",
       "    <tr>\n",
       "      <th>Date</th>\n",
       "      <th></th>\n",
       "      <th></th>\n",
       "      <th></th>\n",
       "      <th></th>\n",
       "      <th></th>\n",
       "      <th></th>\n",
       "    </tr>\n",
       "  </thead>\n",
       "  <tbody>\n",
       "    <tr>\n",
       "      <th>2024-04-24</th>\n",
       "      <td>42.660000</td>\n",
       "      <td>43.970001</td>\n",
       "      <td>42.450001</td>\n",
       "      <td>43.150002</td>\n",
       "      <td>43.150002</td>\n",
       "      <td>1384000</td>\n",
       "    </tr>\n",
       "    <tr>\n",
       "      <th>2024-04-25</th>\n",
       "      <td>41.639999</td>\n",
       "      <td>42.639999</td>\n",
       "      <td>40.849998</td>\n",
       "      <td>42.450001</td>\n",
       "      <td>42.450001</td>\n",
       "      <td>1485800</td>\n",
       "    </tr>\n",
       "    <tr>\n",
       "      <th>2024-04-26</th>\n",
       "      <td>42.980000</td>\n",
       "      <td>46.199001</td>\n",
       "      <td>42.650002</td>\n",
       "      <td>45.430000</td>\n",
       "      <td>45.430000</td>\n",
       "      <td>2751600</td>\n",
       "    </tr>\n",
       "    <tr>\n",
       "      <th>2024-04-29</th>\n",
       "      <td>46.049999</td>\n",
       "      <td>48.880001</td>\n",
       "      <td>45.849998</td>\n",
       "      <td>46.279999</td>\n",
       "      <td>46.279999</td>\n",
       "      <td>2678300</td>\n",
       "    </tr>\n",
       "    <tr>\n",
       "      <th>2024-04-30</th>\n",
       "      <td>45.470001</td>\n",
       "      <td>46.755001</td>\n",
       "      <td>44.150002</td>\n",
       "      <td>44.439999</td>\n",
       "      <td>44.439999</td>\n",
       "      <td>1695585</td>\n",
       "    </tr>\n",
       "  </tbody>\n",
       "</table>\n",
       "</div>"
      ],
      "text/plain": [
       "                 Open       High        Low      Close  Adj Close   Volume\n",
       "Date                                                                      \n",
       "2024-04-24  42.660000  43.970001  42.450001  43.150002  43.150002  1384000\n",
       "2024-04-25  41.639999  42.639999  40.849998  42.450001  42.450001  1485800\n",
       "2024-04-26  42.980000  46.199001  42.650002  45.430000  45.430000  2751600\n",
       "2024-04-29  46.049999  48.880001  45.849998  46.279999  46.279999  2678300\n",
       "2024-04-30  45.470001  46.755001  44.150002  44.439999  44.439999  1695585"
      ]
     },
     "execution_count": 22,
     "metadata": {},
     "output_type": "execute_result"
    }
   ],
   "source": [
    "# To be used for home assignment: 'You can notice a bump in the price after the IPO? And after that the price goes down\n",
    "# You're asked to design a simple strategy to buy and hold for X days (at 'Adj.Close' price, no fees)\n",
    "# Find an optimal X between 1 and 30, that delivers you a MAX mean return on ALL 2023 IPOs?\n",
    "# Write down the answer X (a number between 1 and 30)\n",
    "\n",
    "# What is the distribution of other returns 25-50-75% quantiles? Compare mean and median returns for 2023 (median may be more robust),\n",
    "  # are you losing money in 25% cases (if 25% quantile returns is < 0)\n",
    "  # Try the same X for all deals in 2024.  How the mean return in 2024 (out of sample data) is different from 2023 data?\n",
    "\n",
    "# REDDIT - recent IPO\n",
    "# https://finance.yahoo.com/quote/RDDT/\n",
    "reddit = yf.download(tickers = \"RDDT\",\n",
    "                     period = \"max\",\n",
    "                     interval = \"1d\")\n",
    "\n",
    "reddit.tail()"
   ]
  },
  {
   "cell_type": "code",
   "execution_count": 23,
   "metadata": {},
   "outputs": [
    {
     "data": {
      "text/plain": [
       "<Axes: title={'center': \"Reddit's (RDDT) price after the IPO\"}, xlabel='Date'>"
      ]
     },
     "execution_count": 23,
     "metadata": {},
     "output_type": "execute_result"
    },
    {
     "data": {
      "image/png": "[encoded data removed]",
      "text/plain": [
       "<Figure size 640x480 with 1 Axes>"
      ]
     },
     "metadata": {},
     "output_type": "display_data"
    }
   ],
   "source": [
    "reddit['Adj Close'].plot.line(title='Reddit\\'s (RDDT) price after the IPO')\n"
   ]
  },
  {
   "cell_type": "code",
   "execution_count": 24,
   "metadata": {},
   "outputs": [
    {
     "name": "stdout",
     "output_type": "stream",
     "text": [
      "Total sum for all filings on Fridays during 2023: 285 million USD\n"
     ]
    },
    {
     "name": "stderr",
     "output_type": "stream",
     "text": [
      "C:\\Users\\rahul\\AppData\\Local\\Temp\\ipykernel_38208\\3120933642.py:8: FutureWarning:\n",
      "\n",
      "Passing literal html to 'read_html' is deprecated and will be removed in a future version. To read from a literal string, wrap it in a 'StringIO' object.\n",
      "\n"
     ]
    }
   ],
   "source": [
    "import requests\n",
    "import pandas as pd\n",
    "import numpy as np\n",
    "\n",
    "# Fetch the IPO data from the web endpoint\n",
    "url = \"https://stockanalysis.com/ipos/filings/\"\n",
    "response = requests.get(url)\n",
    "ipo_data = pd.read_html(response.text)[0]\n",
    "\n",
    "# Convert 'Filing Date' to datetime and 'Shares Offered' to float, handling '-' as NaN\n",
    "ipo_data['Filing Date'] = pd.to_datetime(ipo_data['Filing Date'])\n",
    "ipo_data['Shares Offered'] = pd.to_numeric(ipo_data['Shares Offered'].replace('-', np.nan), errors='coerce')\n",
    "\n",
    "# Function to calculate the average price from a price range\n",
    "def parse_price_range(price_range):\n",
    "    if pd.isna(price_range) or price_range == '-':\n",
    "        return np.nan\n",
    "    prices = [float(p.strip().replace('$', '')) for p in price_range.split('-') if p.strip()]\n",
    "    if len(prices) == 0:\n",
    "        return np.nan\n",
    "    return sum(prices) / len(prices)\n",
    "\n",
    "# Calculate 'Avg_price' based on 'Price Range'\n",
    "ipo_data['Avg_price'] = ipo_data['Price Range'].apply(parse_price_range)\n",
    "\n",
    "# Define 'Shares_offered_value' as product of 'Shares Offered' and 'Avg_price'\n",
    "ipo_data['Shares_offered_value'] = ipo_data['Shares Offered'] * ipo_data['Avg_price']\n",
    "\n",
    "# Filter for filings in 2023 that happened on Fridays\n",
    "fridays_2023_ipo_data = ipo_data[(ipo_data['Filing Date'].dt.year == 2023) & (ipo_data['Filing Date'].dt.dayofweek == 4)]\n",
    "\n",
    "# Calculate the total sum in millions and round to nearest integer\n",
    "total_value_fridays_2023 = int(fridays_2023_ipo_data['Shares_offered_value'].sum() / 1e6)\n",
    "\n",
    "print(f\"Total sum for all filings on Fridays during 2023: {total_value_fridays_2023} million USD\")"
   ]
  },
  {
   "cell_type": "markdown",
   "metadata": {},
   "source": [
    "# Question 2: IPOs \"Fixed days hold\" strategy\n",
    "Find the optimal number of days X (between 1 and 30), where 75% quantile growth is the highest?\n",
    "\n",
    "Reuse [Code Snippet 1] to retrieve the list of IPOs from 2023 and 2024 (from URLs: https://stockanalysis.com/ipos/2023/ and https://stockanalysis.com/ipos/2024/). Get all OHLCV daily prices for all stocks with an \"IPO date\" before March 1, 2024 (\"< 2024-03-01\") - 184 tickers (without 'RYZB'). Please remove 'RYZB', as it is no longer available on Yahoo Finance.\n",
    "\n",
    "Sometimes you may need to adjust the symbol name (e.g., 'IBAC' on stockanalysis.com -> 'IBACU' on Yahoo Finance) to locate OHLCV prices for all stocks. Some of the tickers like 'DYCQ' and 'LEGT' were on the market less than 30 days (11 and 21 days, respectively). Let's leave them in the dataset; it just means that you couldn't hold them for more days than they were listed.\n",
    "\n",
    "Let's assume you managed to buy a new stock (listed on IPO) on the first day at the [Adj Close] price]. Your strategy is to hold for exactly X full days (where X is between 1 and 30) and sell at the \"Adj. Close\" price in X days (e.g., if X=1, you sell on the next day). Find X, when the 75% quantile growth (among 185 investments) is the highest.\n",
    "\n",
    "HINTs:\n",
    "\n",
    "You can generate 30 additional columns: growth_future_1d ... growth_future_30d, join that with the table of min_dates (first day when each stock has data on Yahoo Finance), and perform vector operations on the resulting dataset.\n",
    "You can use the DataFrame.describe() function to get mean, min, max, 25-50-75% quantiles.\n",
    "Addtional:\n",
    "\n",
    "You can also ensure that the mean and 50th percentile (median) investment returns are negative for most X values, implying a wager for a \"lucky\" investor who might be in the top 25%.\n",
    "What's your recommendation: Do you suggest pursuing this strategy for an optimal X?"
   ]
  },
  {
   "cell_type": "code",
   "execution_count": 25,
   "metadata": {},
   "outputs": [
    {
     "name": "stdout",
     "output_type": "stream",
     "text": [
      "{1: 0.0, 2: -0.000361263515896975, 3: -0.016532112921224314, 4: 0.009605717393955023, 5: 0.01529182037537537, 6: 0.020063270977467774, 7: 0.04793096300425319, 8: 0.04566027009113786, 9: 0.05601812121028388, 10: 0.057168092057328104, 11: 0.05213156682804014, 12: 0.06424429374448119, 13: 0.10457155267209607, 14: 0.12828240121300433, 15: 0.1228109209079484, 16: 0.1063086467080142, 17: 0.12824914769745865, 18: 0.14476454629260976}\n"
     ]
    }
   ],
   "source": [
    "import yfinance as yf\n",
    "import pandas as pd\n",
    "\n",
    "# Define a function to fetch data and calculate growth\n",
    "def calculate_growth(ticker, start_date, days):\n",
    "    stock = yf.Ticker(ticker)\n",
    "    # Ensure the end date calculation accounts for the number of days plus some buffer for non-trading days\n",
    "    end_date = start_date + pd.DateOffset(days=days + 10)  \n",
    "    history = stock.history(start=start_date, end=end_date)\n",
    "    \n",
    "    # Check if there's enough data to perform the calculation\n",
    "    if len(history) < days:\n",
    "        return None  # Not enough data\n",
    "    \n",
    "    try:\n",
    "        initial_price = history.iloc[0]['Close']\n",
    "        final_price = history.iloc[days - 1]['Close']\n",
    "        return (final_price - initial_price) / initial_price\n",
    "    except IndexError:\n",
    "        # This handles cases where the days index goes out of the data range available\n",
    "        return None\n",
    "\n",
    "# List of tickers from IPOs before 2024-03-01, excluding RYZB and others\n",
    "tickers = ['AAPL', 'GOOG']  # Example tickers, replace '...' with actual tickers\n",
    "\n",
    "# Analyze growth for each day between 1 and 30\n",
    "results = {}\n",
    "for days in range(1, 31):  # This will loop from 1 to 30 days\n",
    "    daily_growth = []\n",
    "    for ticker in tickers:\n",
    "        # Assuming start_date is predefined or fetch it from an external source\n",
    "        start_date = pd.to_datetime(\"2023-01-01\")  # Example start date\n",
    "        growth = calculate_growth(ticker, start_date, days)\n",
    "        if growth is not None:\n",
    "            daily_growth.append(growth)\n",
    "    \n",
    "    if daily_growth:\n",
    "        results[days] = sum(daily_growth) / len(daily_growth)  # Calculate average growth for the day\n",
    "\n",
    "# Print the results to check\n",
    "print(results)"
   ]
  },
  {
   "cell_type": "code",
   "execution_count": 26,
   "metadata": {},
   "outputs": [
    {
     "name": "stderr",
     "output_type": "stream",
     "text": [
      "C:\\Users\\rahul\\AppData\\Local\\Temp\\ipykernel_38208\\3511109196.py:9: FutureWarning:\n",
      "\n",
      "Passing literal html to 'read_html' is deprecated and will be removed in a future version. To read from a literal string, wrap it in a 'StringIO' object.\n",
      "\n",
      "C:\\Users\\rahul\\AppData\\Local\\Temp\\ipykernel_38208\\3511109196.py:9: FutureWarning:\n",
      "\n",
      "Passing literal html to 'read_html' is deprecated and will be removed in a future version. To read from a literal string, wrap it in a 'StringIO' object.\n",
      "\n",
      "[*********************100%%**********************]  1 of 1 completed\n",
      "[*********************100%%**********************]  1 of 1 completed\n",
      "[*********************100%%**********************]  1 of 1 completed\n",
      "[*********************100%%**********************]  1 of 1 completed\n",
      "[*********************100%%**********************]  1 of 1 completed\n",
      "[*********************100%%**********************]  1 of 1 completed\n",
      "[*********************100%%**********************]  1 of 1 completed\n",
      "[*********************100%%**********************]  1 of 1 completed\n",
      "[*********************100%%**********************]  1 of 1 completed\n",
      "[*********************100%%**********************]  1 of 1 completed\n",
      "[*********************100%%**********************]  1 of 1 completed\n",
      "[*********************100%%**********************]  1 of 1 completed\n",
      "[*********************100%%**********************]  1 of 1 completed\n",
      "[*********************100%%**********************]  1 of 1 completed\n",
      "[*********************100%%**********************]  1 of 1 completed\n",
      "[*********************100%%**********************]  1 of 1 completed\n",
      "[*********************100%%**********************]  1 of 1 completed\n",
      "[*********************100%%**********************]  1 of 1 completed\n",
      "[*********************100%%**********************]  1 of 1 completed\n",
      "[*********************100%%**********************]  1 of 1 completed\n",
      "[*********************100%%**********************]  1 of 1 completed\n",
      "[*********************100%%**********************]  1 of 1 completed\n",
      "[*********************100%%**********************]  1 of 1 completed\n",
      "[*********************100%%**********************]  1 of 1 completed\n",
      "[*********************100%%**********************]  1 of 1 completed\n",
      "[*********************100%%**********************]  1 of 1 completed\n",
      "[*********************100%%**********************]  1 of 1 completed\n",
      "[*********************100%%**********************]  1 of 1 completed\n",
      "[*********************100%%**********************]  1 of 1 completed\n",
      "[*********************100%%**********************]  1 of 1 completed\n",
      "[*********************100%%**********************]  1 of 1 completed\n",
      "[*********************100%%**********************]  1 of 1 completed\n",
      "[*********************100%%**********************]  1 of 1 completed\n",
      "[*********************100%%**********************]  1 of 1 completed\n",
      "[*********************100%%**********************]  1 of 1 completed\n",
      "[*********************100%%**********************]  1 of 1 completed\n",
      "[*********************100%%**********************]  1 of 1 completed\n",
      "[*********************100%%**********************]  1 of 1 completed\n",
      "[*********************100%%**********************]  1 of 1 completed\n",
      "[*********************100%%**********************]  1 of 1 completed\n",
      "[*********************100%%**********************]  1 of 1 completed\n",
      "[*********************100%%**********************]  1 of 1 completed\n",
      "[*********************100%%**********************]  1 of 1 completed\n",
      "[*********************100%%**********************]  1 of 1 completed\n",
      "[*********************100%%**********************]  1 of 1 completed\n",
      "[*********************100%%**********************]  1 of 1 completed\n",
      "[*********************100%%**********************]  1 of 1 completed\n",
      "[*********************100%%**********************]  1 of 1 completed\n",
      "[*********************100%%**********************]  1 of 1 completed\n",
      "[*********************100%%**********************]  1 of 1 completed\n",
      "[*********************100%%**********************]  1 of 1 completed\n",
      "[*********************100%%**********************]  1 of 1 completed\n",
      "[*********************100%%**********************]  1 of 1 completed\n",
      "[*********************100%%**********************]  1 of 1 completed\n",
      "[*********************100%%**********************]  1 of 1 completed\n",
      "[*********************100%%**********************]  1 of 1 completed\n",
      "[*********************100%%**********************]  1 of 1 completed\n",
      "[*********************100%%**********************]  1 of 1 completed\n",
      "[*********************100%%**********************]  1 of 1 completed\n",
      "[*********************100%%**********************]  1 of 1 completed\n",
      "[*********************100%%**********************]  1 of 1 completed\n",
      "[*********************100%%**********************]  1 of 1 completed\n",
      "[*********************100%%**********************]  1 of 1 completed\n",
      "[*********************100%%**********************]  1 of 1 completed\n",
      "[*********************100%%**********************]  1 of 1 completed\n",
      "[*********************100%%**********************]  1 of 1 completed\n",
      "[*********************100%%**********************]  1 of 1 completed\n",
      "[*********************100%%**********************]  1 of 1 completed\n",
      "[*********************100%%**********************]  1 of 1 completed\n",
      "[*********************100%%**********************]  1 of 1 completed\n",
      "[*********************100%%**********************]  1 of 1 completed\n",
      "[*********************100%%**********************]  1 of 1 completed\n",
      "[*********************100%%**********************]  1 of 1 completed\n",
      "[*********************100%%**********************]  1 of 1 completed\n",
      "[*********************100%%**********************]  1 of 1 completed\n",
      "[*********************100%%**********************]  1 of 1 completed\n",
      "[*********************100%%**********************]  1 of 1 completed\n",
      "[*********************100%%**********************]  1 of 1 completed\n",
      "[*********************100%%**********************]  1 of 1 completed\n",
      "[*********************100%%**********************]  1 of 1 completed\n",
      "[*********************100%%**********************]  1 of 1 completed\n",
      "[*********************100%%**********************]  1 of 1 completed\n",
      "[*********************100%%**********************]  1 of 1 completed\n",
      "[*********************100%%**********************]  1 of 1 completed\n",
      "[*********************100%%**********************]  1 of 1 completed\n",
      "[*********************100%%**********************]  1 of 1 completed\n",
      "[*********************100%%**********************]  1 of 1 completed\n",
      "[*********************100%%**********************]  1 of 1 completed\n",
      "[*********************100%%**********************]  1 of 1 completed\n",
      "[*********************100%%**********************]  1 of 1 completed\n",
      "[*********************100%%**********************]  1 of 1 completed\n",
      "[*********************100%%**********************]  1 of 1 completed\n",
      "[*********************100%%**********************]  1 of 1 completed\n",
      "[*********************100%%**********************]  1 of 1 completed\n",
      "[*********************100%%**********************]  1 of 1 completed\n",
      "[*********************100%%**********************]  1 of 1 completed\n",
      "[*********************100%%**********************]  1 of 1 completed\n",
      "[*********************100%%**********************]  1 of 1 completed\n",
      "[*********************100%%**********************]  1 of 1 completed\n",
      "[*********************100%%**********************]  1 of 1 completed\n",
      "[*********************100%%**********************]  1 of 1 completed\n",
      "[*********************100%%**********************]  1 of 1 completed\n",
      "[*********************100%%**********************]  1 of 1 completed\n",
      "[*********************100%%**********************]  1 of 1 completed\n",
      "[*********************100%%**********************]  1 of 1 completed\n",
      "[*********************100%%**********************]  1 of 1 completed\n",
      "[*********************100%%**********************]  1 of 1 completed\n",
      "[*********************100%%**********************]  1 of 1 completed\n",
      "[*********************100%%**********************]  1 of 1 completed\n",
      "[*********************100%%**********************]  1 of 1 completed\n",
      "[*********************100%%**********************]  1 of 1 completed\n",
      "[*********************100%%**********************]  1 of 1 completed\n",
      "[*********************100%%**********************]  1 of 1 completed\n",
      "[*********************100%%**********************]  1 of 1 completed\n",
      "[*********************100%%**********************]  1 of 1 completed\n",
      "[*********************100%%**********************]  1 of 1 completed\n",
      "[*********************100%%**********************]  1 of 1 completed\n",
      "[*********************100%%**********************]  1 of 1 completed\n",
      "[*********************100%%**********************]  1 of 1 completed\n",
      "[*********************100%%**********************]  1 of 1 completed\n",
      "[*********************100%%**********************]  1 of 1 completed\n",
      "[*********************100%%**********************]  1 of 1 completed\n",
      "[*********************100%%**********************]  1 of 1 completed\n",
      "[*********************100%%**********************]  1 of 1 completed\n",
      "[*********************100%%**********************]  1 of 1 completed\n",
      "[*********************100%%**********************]  1 of 1 completed\n",
      "[*********************100%%**********************]  1 of 1 completed\n",
      "[*********************100%%**********************]  1 of 1 completed\n",
      "[*********************100%%**********************]  1 of 1 completed\n",
      "[*********************100%%**********************]  1 of 1 completed\n",
      "[*********************100%%**********************]  1 of 1 completed\n",
      "[*********************100%%**********************]  1 of 1 completed\n",
      "[*********************100%%**********************]  1 of 1 completed\n",
      "[*********************100%%**********************]  1 of 1 completed\n",
      "[*********************100%%**********************]  1 of 1 completed\n",
      "[*********************100%%**********************]  1 of 1 completed\n",
      "[*********************100%%**********************]  1 of 1 completed\n",
      "\n",
      "1 Failed download:\n",
      "['PTHR']: Exception('%ticker%: No timezone found, symbol may be delisted')\n",
      "[*********************100%%**********************]  1 of 1 completed\n",
      "[*********************100%%**********************]  1 of 1 completed\n",
      "[*********************100%%**********************]  1 of 1 completed\n",
      "[*********************100%%**********************]  1 of 1 completed\n",
      "[*********************100%%**********************]  1 of 1 completed\n",
      "[*********************100%%**********************]  1 of 1 completed\n",
      "[*********************100%%**********************]  1 of 1 completed\n",
      "[*********************100%%**********************]  1 of 1 completed\n",
      "[*********************100%%**********************]  1 of 1 completed\n",
      "[*********************100%%**********************]  1 of 1 completed\n",
      "[*********************100%%**********************]  1 of 1 completed\n",
      "[*********************100%%**********************]  1 of 1 completed\n",
      "[*********************100%%**********************]  1 of 1 completed\n",
      "[*********************100%%**********************]  1 of 1 completed\n",
      "[*********************100%%**********************]  1 of 1 completed\n",
      "[*********************100%%**********************]  1 of 1 completed\n",
      "[*********************100%%**********************]  1 of 1 completed\n",
      "[*********************100%%**********************]  1 of 1 completed\n",
      "[*********************100%%**********************]  1 of 1 completed\n",
      "\n",
      "1 Failed download:\n",
      "['DYCQ']: Exception(\"%ticker%: Data doesn't exist for startDate = 1672549200, endDate = 1709355600\")\n",
      "[*********************100%%**********************]  1 of 1 completed\n",
      "[*********************100%%**********************]  1 of 1 completed\n",
      "[*********************100%%**********************]  1 of 1 completed\n",
      "[*********************100%%**********************]  1 of 1 completed\n",
      "[*********************100%%**********************]  1 of 1 completed\n",
      "[*********************100%%**********************]  1 of 1 completed\n",
      "[*********************100%%**********************]  1 of 1 completed\n",
      "[*********************100%%**********************]  1 of 1 completed\n",
      "[*********************100%%**********************]  1 of 1 completed\n",
      "[*********************100%%**********************]  1 of 1 completed\n",
      "\n",
      "1 Failed download:\n",
      "['LEGT']: Exception(\"%ticker%: Data doesn't exist for startDate = 1672549200, endDate = 1709355600\")\n",
      "[*********************100%%**********************]  1 of 1 completed\n",
      "[*********************100%%**********************]  1 of 1 completed\n",
      "[*********************100%%**********************]  1 of 1 completed\n",
      "[*********************100%%**********************]  1 of 1 completed\n",
      "[*********************100%%**********************]  1 of 1 completed\n",
      "[*********************100%%**********************]  1 of 1 completed\n",
      "[*********************100%%**********************]  1 of 1 completed\n",
      "[*********************100%%**********************]  1 of 1 completed\n",
      "[*********************100%%**********************]  1 of 1 completed\n",
      "[*********************100%%**********************]  1 of 1 completed\n",
      "[*********************100%%**********************]  1 of 1 completed\n",
      "[*********************100%%**********************]  1 of 1 completed\n",
      "[*********************100%%**********************]  1 of 1 completed\n",
      "\n",
      "1 Failed download:\n",
      "['JVSA']: Exception(\"%ticker%: Data doesn't exist for startDate = 1672549200, endDate = 1709355600\")\n",
      "[*********************100%%**********************]  1 of 1 completed\n",
      "[*********************100%%**********************]  1 of 1 completed\n",
      "[*********************100%%**********************]  1 of 1 completed\n",
      "[*********************100%%**********************]  1 of 1 completed\n",
      "[*********************100%%**********************]  1 of 1 completed\n"
     ]
    },
    {
     "name": "stdout",
     "output_type": "stream",
     "text": [
      "The optimal number of days to hold is: 19 with a 75% quantile growth of 0.05761558122849508\n"
     ]
    }
   ],
   "source": [
    "import pandas as pd\n",
    "import requests\n",
    "import yfinance as yf\n",
    "\n",
    "# URLs to scrape\n",
    "urls = ['https://stockanalysis.com/ipos/2023/', 'https://stockanalysis.com/ipos/2024/']\n",
    "\n",
    "# Scrape IPO data for 2023 and 2024\n",
    "ipo_data = pd.concat([pd.read_html(requests.get(url).text)[0] for url in urls], ignore_index=True)\n",
    "\n",
    "# Convert 'IPO Date' to datetime\n",
    "ipo_data['IPO Date'] = pd.to_datetime(ipo_data['IPO Date'])\n",
    "\n",
    "# Filter IPOs with date before March 1, 2024 and remove 'RYZB'\n",
    "ipo_data = ipo_data[(ipo_data['IPO Date'] < '2024-03-01') & (ipo_data['Symbol'] != 'RYZB')]\n",
    "\n",
    "# Adjust symbol names if necessary, example adjustment\n",
    "ipo_data['Symbol'] = ipo_data['Symbol'].replace({'IBAC': 'IBACU'})  # Adjust as needed based on actual ticker conversions\n",
    "\n",
    "# Fetch OHLCV data for each symbol from Yahoo Finance\n",
    "prices = {}\n",
    "for symbol in ipo_data['Symbol']:\n",
    "    try:\n",
    "        prices[symbol] = yf.download(symbol, start='2023-01-01', end='2024-03-02')\n",
    "    except Exception as e:\n",
    "        print(f\"Failed to download data for {symbol}: {str(e)}\")\n",
    "\n",
    "# Define a function to calculate growth\n",
    "def calculate_growth(df, ipo_date, days):\n",
    "    try:\n",
    "        buy_price = df.loc[ipo_date]['Adj Close']\n",
    "        sell_date = ipo_date + pd.Timedelta(days=days)\n",
    "        sell_price = df.loc[sell_date]['Adj Close']\n",
    "        return (sell_price - buy_price) / buy_price\n",
    "    except KeyError:\n",
    "        return np.nan\n",
    "\n",
    "# Calculate growth for 1 to 30 days and analyze quantiles\n",
    "results = {}\n",
    "for days in range(1, 31):\n",
    "    ipo_data[f'growth_future_{days}d'] = [calculate_growth(prices[symbol], ipo_date, days) for symbol, ipo_date in zip(ipo_data['Symbol'], ipo_data['IPO Date'])]\n",
    "    results[days] = ipo_data[f'growth_future_{days}d'].quantile(0.75)\n",
    "\n",
    "# Find the optimal X\n",
    "optimal_x = max(results, key=results.get)\n",
    "\n",
    "print(f\"The optimal number of days to hold is: {optimal_x} with a 75% quantile growth of {results[optimal_x]}\")\n",
    "\n",
    "# Further analysis on mean, median can be performed using describe() on the growth columns\n"
   ]
  },
  {
   "cell_type": "code",
   "execution_count": 27,
   "metadata": {},
   "outputs": [
    {
     "name": "stdout",
     "output_type": "stream",
     "text": [
      "       AAPL_growth_future_1d  GOOG_growth_future_1d  MSFT_growth_future_1d\n",
      "count             290.000000             290.000000             290.000000\n",
      "mean                0.001372               0.001713               0.002038\n",
      "std                 0.012524               0.019092               0.015278\n",
      "min                -0.048020              -0.095989              -0.043743\n",
      "25%                -0.006398              -0.009100              -0.007066\n",
      "50%                 0.000941               0.002036               0.001624\n",
      "75%                 0.008590               0.011484               0.011278\n",
      "max                 0.046927               0.072661               0.072435\n",
      "The optimal number of days to hold AAPL is 30 days with the highest 75% quantile growth of 8.60%\n",
      "The optimal number of days to hold GOOG is 30 days with the highest 75% quantile growth of 10.03%\n",
      "The optimal number of days to hold MSFT is 30 days with the highest 75% quantile growth of 11.29%\n"
     ]
    }
   ],
   "source": [
    "import yfinance as yf\n",
    "import pandas as pd\n",
    "\n",
    "# Example list of tickers, replace with your actual list\n",
    "tickers = ['AAPL', 'GOOG', 'MSFT']\n",
    "\n",
    "# Function to fetch historical data for given tickers\n",
    "def fetch_ipo_data(tickers):\n",
    "    prices = {}\n",
    "    for ticker in tickers:\n",
    "        data = yf.download(ticker, start='2023-01-01', end='2024-03-01', progress=False)\n",
    "        prices[ticker] = data['Adj Close']\n",
    "    return pd.DataFrame(prices)\n",
    "\n",
    "# Fetch data\n",
    "price_data = fetch_ipo_data(tickers)\n",
    "\n",
    "# Calculate the growth for each ticker for 1 to 30 days holding periods\n",
    "for ticker in tickers:\n",
    "    for days in range(1, 31):\n",
    "        column_name = f'{ticker}_growth_future_{days}d'\n",
    "        price_data[column_name] = price_data[ticker].shift(-days) / price_data[ticker] - 1\n",
    "\n",
    "# Example to get the description of growth for Apple after holding for 1 day\n",
    "apple_growth_describe = price_data[[f'{ticker}_growth_future_1d' for ticker in tickers]].describe()\n",
    "\n",
    "# Print statistical summary for 1-day growth of each stock\n",
    "print(apple_growth_describe)\n",
    "\n",
    "# Finding which day has the highest 75% quantile growth for each stock\n",
    "optimal_days = {}\n",
    "for ticker in tickers:\n",
    "    max_quantile_growth = 0\n",
    "    optimal_day = 1\n",
    "    for days in range(1, 31):\n",
    "        quantile_75 = price_data[f'{ticker}_growth_future_{days}d'].quantile(0.75)\n",
    "        if quantile_75 > max_quantile_growth:\n",
    "            max_quantile_growth = quantile_75\n",
    "            optimal_day = days\n",
    "    optimal_days[ticker] = (optimal_day, max_quantile_growth)\n",
    "\n",
    "# Output optimal days and growth\n",
    "for ticker, (day, growth) in optimal_days.items():\n",
    "    print(f\"The optimal number of days to hold {ticker} is {day} days with the highest 75% quantile growth of {growth:.2%}\")\n"
   ]
  },
  {
   "cell_type": "markdown",
   "metadata": {},
   "source": [
    "# Recommendation\n",
    "Based on the balance between risk and potential reward:\n",
    "\n",
    "Advisability: If both mean and median returns are generally negative except for the 75th percentile, the strategy entails high risk. This may not be advisable for risk-averse investors.\n",
    "Investor Profile Suitability: This strategy might only suit investors who are comfortable with high risks for potentially high rewards.\n",
    "\n",
    "Risk Management\n",
    "Consider implementing additional risk management strategies:\n",
    "\n",
    "Diversification: Spread investments across various IPOs from different sectors to mitigate risks.\n",
    "Limit Exposure: Allocate only a small portion of the investment portfolio to high-risk IPOs.\n",
    "Continuous Review: Regularly review and adjust the strategy based on market conditions and performance."
   ]
  },
  {
   "cell_type": "markdown",
   "metadata": {},
   "source": [
    "This script will fetch the data, compute the growth rates, perform the statistical analysis using .describe(), and then extract the 'mean' and '50%' (median) statistics properly:"
   ]
  },
  {
   "cell_type": "code",
   "execution_count": 28,
   "metadata": {},
   "outputs": [
    {
     "name": "stdout",
     "output_type": "stream",
     "text": [
      "Mean Values for Each Duration:\n",
      "1     0.001708\n",
      "2     0.003458\n",
      "3     0.005306\n",
      "4     0.007076\n",
      "5     0.008902\n",
      "6     0.010725\n",
      "7     0.012397\n",
      "8     0.014063\n",
      "9     0.015726\n",
      "10    0.017450\n",
      "11    0.019275\n",
      "12    0.021088\n",
      "13    0.022823\n",
      "14    0.024542\n",
      "15    0.026233\n",
      "16    0.027956\n",
      "17    0.029559\n",
      "18    0.031113\n",
      "19    0.032772\n",
      "20    0.034337\n",
      "21    0.035821\n",
      "22    0.037272\n",
      "23    0.038819\n",
      "24    0.040411\n",
      "25    0.041877\n",
      "26    0.043486\n",
      "27    0.045170\n",
      "28    0.046848\n",
      "29    0.048448\n",
      "30    0.050027\n",
      "Name: mean, dtype: float64\n",
      "\n",
      "Median Values for Each Duration:\n",
      "1     0.001598\n",
      "2     0.003329\n",
      "3     0.005125\n",
      "4     0.008541\n",
      "5     0.009230\n",
      "6     0.010968\n",
      "7     0.012433\n",
      "8     0.015724\n",
      "9     0.016496\n",
      "10    0.017214\n",
      "11    0.019537\n",
      "12    0.020233\n",
      "13    0.022871\n",
      "14    0.025106\n",
      "15    0.028170\n",
      "16    0.028763\n",
      "17    0.027954\n",
      "18    0.028664\n",
      "19    0.030483\n",
      "20    0.032557\n",
      "21    0.034272\n",
      "22    0.036037\n",
      "23    0.037831\n",
      "24    0.039687\n",
      "25    0.040424\n",
      "26    0.042557\n",
      "27    0.046906\n",
      "28    0.048413\n",
      "29    0.052815\n",
      "30    0.055109\n",
      "Name: 50%, dtype: float64\n",
      "\n",
      "The optimal number of days to hold based on the highest 75% quantile growth is: 30\n"
     ]
    }
   ],
   "source": [
    "import yfinance as yf\n",
    "import pandas as pd\n",
    "\n",
    "# Assuming you have a list of tickers from IPOs\n",
    "tickers = ['AAPL', 'GOOG', 'MSFT']  # Example list of tickers, replace with actual tickers from your data\n",
    "\n",
    "# Function to fetch historical data from Yahoo Finance\n",
    "def fetch_ipo_data(tickers):\n",
    "    prices = {}\n",
    "    for ticker in tickers:\n",
    "        prices[ticker] = yf.download(ticker, start='2023-01-01', end='2024-03-01', progress=False)['Adj Close']\n",
    "    return pd.DataFrame(prices)\n",
    "\n",
    "# Fetch data\n",
    "price_data = fetch_ipo_data(tickers)\n",
    "\n",
    "# Calculate the growth for each ticker for 1 to 30 days holding periods\n",
    "growth_data = {}\n",
    "for ticker in tickers:\n",
    "    for days in range(1, 31):\n",
    "        column_name = f'{ticker}_growth_future_{days}d'\n",
    "        price_data[column_name] = price_data[ticker].shift(-days) / price_data[ticker] - 1\n",
    "        if days not in growth_data:\n",
    "            growth_data[days] = []\n",
    "        growth_data[days].append(price_data[column_name])\n",
    "\n",
    "# Convert growth data dictionary to DataFrame for easier manipulation\n",
    "growth_df = pd.DataFrame({k: pd.concat(v) for k, v in growth_data.items()})\n",
    "\n",
    "# Describe the data to get statistics\n",
    "description = growth_df.describe()\n",
    "\n",
    "# Accessing mean and median from the describe DataFrame\n",
    "mean_values = description.loc['mean']\n",
    "median_values = description.loc['50%']  # '50%' is used for median\n",
    "\n",
    "# Find the day with the highest 75% quantile growth\n",
    "highest_75_quantile_growth = description.loc['75%'].idxmax()\n",
    "\n",
    "print(\"Mean Values for Each Duration:\")\n",
    "print(mean_values)\n",
    "\n",
    "print(\"\\nMedian Values for Each Duration:\")\n",
    "print(median_values)\n",
    "\n",
    "print(f\"\\nThe optimal number of days to hold based on the highest 75% quantile growth is: {highest_75_quantile_growth}\")\n"
   ]
  },
  {
   "cell_type": "markdown",
   "metadata": {},
   "source": [
    "# Question 3: Is Growth Concentrated in the Largest Stocks?\n",
    "Get the share of days (percentage as int) when Large Stocks outperform (growth_7d - growth over 7 periods back) the Largest stocks?\n",
    "\n",
    "Reuse [Code Snippet 5] to obtain OHLCV stats for 33 stocks for 10 full years of data (2014-01-01 to 2023-12-31):\n",
    "\n",
    "US_STOCKS = ['MSFT', 'AAPL', 'GOOG', 'NVDA', 'AMZN', 'META', 'BRK-B', 'LLY', 'AVGO','V', 'JPM']\n",
    "\n",
    "EU_STOCKS = ['NVO','MC.PA', 'ASML', 'RMS.PA', 'OR.PA', 'SAP', 'ACN', 'TTE', 'SIE.DE','IDEXY','CDI.PA']\n",
    "\n",
    "INDIA_STOCKS = ['RELIANCE.NS','TCS.NS','HDB','BHARTIARTL.NS','IBN','SBIN.NS','LICI.NS','INFY','ITC.NS','HINDUNILVR.NS','LT.NS']\n",
    "\n",
    "LARGEST_STOCKS = US_STOCKS + EU_STOCKS + INDIA_STOCKS\n",
    "\n",
    "Now let's add the top 12-22 stocks (as of end-April 2024):\n",
    "\n",
    "NEW_US = ['TSLA','WMT','XOM','UNH','MA','PG','JNJ','MRK','HD','COST','ORCL']\n",
    "\n",
    "NEW_EU = ['PRX.AS','CDI.PA','AIR.PA','SU.PA','ETN','SNY','BUD','DTE.DE','ALV.DE','MDT','AI.PA','EL.PA']\n",
    "\n",
    "NEW_INDIA = ['BAJFINANCE.NS','MARUTI.NS','HCLTECH.NS','TATAMOTORS.NS','SUNPHARMA.NS','ONGC.NS','ADANIENT.NS','ADANIENT.NS','NTPC.NS','KOTAKBANK.NS','TITAN.NS']\n",
    "\n",
    "LARGE_STOCKS = NEW_EU + NEW_US + NEW_INDIA\n",
    "\n",
    "You should be able to obtain stats for 33 LARGEST STOCKS and 32 LARGE STOCKS.\n",
    "\n",
    "Calculate growth_7d for every stock and every day. Get the average daily growth_7d for the LARGEST_STOCKS group vs. the LARGE_STOCKS group.\n",
    "\n",
    "For example, for the first of data you should have:\n",
    "\n",
    "Date\tticker_category\tgrowth_7d\n",
    "2014-01-01\tLARGE\t1.011684\n",
    "2014-01-01\tLARGEST\t1.011797\n",
    "On that day, the LARGEST group was growing faster than LARGE one (new stocks).\n",
    "\n",
    "Calculate the number of days when the LARGE GROUP (new smaller stocks) outperforms the LARGEST GROUP, divide it by the total number of trading days (which should be 2595 days), and convert it to a percentage (closest INTEGER value). For example, if you find that 1700 out of 2595 days meet this condition, it means that 1700/2595 = 0.655, or approximately 66% of days, the LARGE stocks were growing faster than the LARGEST ones. This suggests that you should consider extending your dataset with more stocks to seek higher growth."
   ]
  },
  {
   "cell_type": "code",
   "execution_count": 29,
   "metadata": {},
   "outputs": [
    {
     "name": "stderr",
     "output_type": "stream",
     "text": [
      "C:\\Users\\rahul\\AppData\\Local\\Temp\\ipykernel_38208\\1347526390.py:24: FutureWarning:\n",
      "\n",
      "The default fill_method='pad' in DataFrame.pct_change is deprecated and will be removed in a future version. Either fill in any non-leading NA values prior to calling pct_change or specify 'fill_method=None' to not fill NA values.\n",
      "\n",
      "C:\\Users\\rahul\\AppData\\Local\\Temp\\ipykernel_38208\\1347526390.py:25: FutureWarning:\n",
      "\n",
      "The default fill_method='pad' in DataFrame.pct_change is deprecated and will be removed in a future version. Either fill in any non-leading NA values prior to calling pct_change or specify 'fill_method=None' to not fill NA values.\n",
      "\n"
     ]
    },
    {
     "data": {
      "text/plain": [
       "46"
      ]
     },
     "execution_count": 29,
     "metadata": {},
     "output_type": "execute_result"
    }
   ],
   "source": [
    "import yfinance as yf\n",
    "import pandas as pd\n",
    "\n",
    "# Define stock groups\n",
    "US_STOCKS = ['MSFT', 'AAPL', 'GOOG', 'NVDA', 'AMZN', 'META', 'BRK-B', 'LLY', 'AVGO', 'V', 'JPM']\n",
    "EU_STOCKS = ['NVO', 'MC.PA', 'ASML', 'RMS.PA', 'OR.PA', 'SAP', 'ACN', 'TTE', 'SIE.DE', 'IDEXY', 'CDI.PA']\n",
    "INDIA_STOCKS = ['RELIANCE.NS', 'TCS.NS', 'HDB', 'BHARTIARTL.NS', 'IBN', 'SBIN.NS', 'LICI.NS', 'INFY', 'ITC.NS', 'HINDUNILVR.NS', 'LT.NS']\n",
    "LARGEST_STOCKS = US_STOCKS + EU_STOCKS + INDIA_STOCKS\n",
    "\n",
    "NEW_US = ['TSLA', 'WMT', 'XOM', 'UNH', 'MA', 'PG', 'JNJ', 'MRK', 'HD', 'COST', 'ORCL']\n",
    "NEW_EU = ['PRX.AS', 'CDI.PA', 'AIR.PA', 'SU.PA', 'ETN', 'SNY', 'BUD', 'DTE.DE', 'ALV.DE', 'MDT', 'AI.PA', 'EL.PA']\n",
    "NEW_INDIA = ['BAJFINANCE.NS', 'MARUTI.NS', 'HCLTECH.NS', 'TATAMOTORS.NS', 'SUNPHARMA.NS', 'ONGC.NS', 'ADANIENT.NS', 'ADANIENT.NS', 'NTPC.NS', 'KOTAKBANK.NS', 'TITAN.NS']\n",
    "LARGE_STOCKS = NEW_EU + NEW_US + NEW_INDIA\n",
    "\n",
    "# Fetch historical data from Yahoo Finance\n",
    "def fetch_data(tickers):\n",
    "    data = yf.download(tickers, start='2014-01-01', end='2023-12-31', progress=False)\n",
    "    return data['Adj Close']\n",
    "\n",
    "largest_data = fetch_data(LARGEST_STOCKS)\n",
    "large_data = fetch_data(LARGE_STOCKS)\n",
    "\n",
    "# Calculate 7-day growth\n",
    "growth_7d_largest = largest_data.pct_change(7).mean(axis=1)\n",
    "growth_7d_large = large_data.pct_change(7).mean(axis=1)\n",
    "\n",
    "# Compare daily performance\n",
    "days_large_outperform = (growth_7d_large > growth_7d_largest).sum()\n",
    "\n",
    "# Calculate the percentage of days\n",
    "total_days = growth_7d_largest.dropna().shape[0]\n",
    "percentage_large_outperform = int((days_large_outperform / total_days) * 100)\n",
    "\n",
    "percentage_large_outperform"
   ]
  },
  {
   "cell_type": "code",
   "execution_count": 30,
   "metadata": {},
   "outputs": [
    {
     "name": "stdout",
     "output_type": "stream",
     "text": [
      "Percentage of days when Large stocks outperformed Largest stocks: 46%\n"
     ]
    },
    {
     "name": "stderr",
     "output_type": "stream",
     "text": [
      "C:\\Users\\rahul\\AppData\\Local\\Temp\\ipykernel_38208\\1237901343.py:18: FutureWarning:\n",
      "\n",
      "The default fill_method='pad' in DataFrame.pct_change is deprecated and will be removed in a future version. Either fill in any non-leading NA values prior to calling pct_change or specify 'fill_method=None' to not fill NA values.\n",
      "\n"
     ]
    }
   ],
   "source": [
    "import yfinance as yf\n",
    "import pandas as pd\n",
    "\n",
    "# Define the stock groups\n",
    "LARGEST_STOCKS = ['MSFT', 'AAPL', 'GOOG', 'NVDA', 'AMZN', 'META', 'BRK-B', 'LLY', 'AVGO', 'V', 'JPM',\n",
    "                  'NVO', 'MC.PA', 'ASML', 'RMS.PA', 'OR.PA', 'SAP', 'ACN', 'TTE', 'SIE.DE', 'IDEXY', 'CDI.PA',\n",
    "                  'RELIANCE.NS', 'TCS.NS', 'HDB', 'BHARTIARTL.NS', 'IBN', 'SBIN.NS', 'LICI.NS', 'INFY', 'ITC.NS', 'HINDUNILVR.NS', 'LT.NS']\n",
    "LARGE_STOCKS = ['TSLA', 'WMT', 'XOM', 'UNH', 'MA', 'PG', 'JNJ', 'MRK', 'HD', 'COST', 'ORCL',\n",
    "                'PRX.AS', 'CDI.PA', 'AIR.PA', 'SU.PA', 'ETN', 'SNY', 'BUD', 'DTE.DE', 'ALV.DE', 'MDT', 'AI.PA', 'EL.PA',\n",
    "                'BAJFINANCE.NS', 'MARUTI.NS', 'HCLTECH.NS', 'TATAMOTORS.NS', 'SUNPHARMA.NS', 'ONGC.NS', 'ADANIENT.NS', 'NTPC.NS', 'KOTAKBANK.NS', 'TITAN.NS']\n",
    "\n",
    "# Fetch historical data from Yahoo Finance\n",
    "def fetch_data(tickers):\n",
    "    return yf.download(tickers, start=\"2014-01-01\", end=\"2023-12-31\", progress=False)['Adj Close']\n",
    "\n",
    "# Calculate 7-day growth rate\n",
    "def calculate_growth(data):\n",
    "    return data.pct_change(7)\n",
    "\n",
    "# Fetching data for both groups\n",
    "largest_data = fetch_data(LARGEST_STOCKS)\n",
    "large_data = fetch_data(LARGE_STOCKS)\n",
    "\n",
    "# Calculating growth\n",
    "largest_growth = calculate_growth(largest_data)\n",
    "large_growth = calculate_growth(large_data)\n",
    "\n",
    "# Daily average growth for both groups\n",
    "largest_avg_growth = largest_growth.mean(axis=1)\n",
    "large_avg_growth = large_growth.mean(axis=1)\n",
    "\n",
    "# Days where Large stocks outperform Largest\n",
    "outperform_days = (large_avg_growth > largest_avg_growth).sum()\n",
    "\n",
    "# Total number of trading days\n",
    "total_days = largest_avg_growth.count()\n",
    "\n",
    "# Calculate the percentage of days Large outperforms\n",
    "percentage_outperform = int((outperform_days / total_days) * 100)\n",
    "\n",
    "print(f\"Percentage of days when Large stocks outperformed Largest stocks: {percentage_outperform}%\")"
   ]
  },
  {
   "cell_type": "markdown",
   "metadata": {},
   "source": [
    "# Question 4: Trying Another Technical Indicators strategy\n",
    "What's the total gross profit (in THOUSANDS of $) you'll get from trading on CCI (no fees assumption)?\n",
    "\n",
    "First, run the entire Colab to obtain the full DataFrame of data (after [Code Snippet 9]), and truncate it to the last full 10 years of data (2014-01-01 to 2023-12-31). If you encounter any difficulties running the Colab - you can download it using this link.\n",
    "\n",
    "Let's assume you've learned about the awesome CCI indicator (Commodity Channel Index), and decided to use only it for your operations.\n",
    "\n",
    "You defined the \"defensive\" value of a high threshould of 200, and you trade only on Fridays (Date.dt.dayofweek()==4).\n",
    "\n",
    "That is, every time you see that CCI is >200 for any stock (out of those 33), you'll invest $1000 (each record when CCI>200) at Adj.Close price and hold it for 1 week (5 trading days) in order to sell at the Adj. Close price.\n",
    "\n",
    "What's the expected gross profit (no fees) that you get in THOUSANDS $ (closest integer value) over many operations in 10 years? One operation calculations: if you invested $1000 and received $1010 in 5 days - you add $10 to gross profit, if you received $980 - add -$20 to gross profit. You need to sum these results over all trades (460 times in 10 years).\n",
    "\n",
    "Additional:\n",
    "\n",
    "Add an approximate fees calculation over the 460 trades from this calculator https://www.degiro.ie/fees/calculator (Product:\"Shares, USA and Canada;\" Amount per transaction: \"1000 EUR\"; Transactions per year: \"460\")\n",
    "are you still profitable on those trades?\n"
   ]
  },
  {
   "cell_type": "code",
   "execution_count": 31,
   "metadata": {},
   "outputs": [
    {
     "name": "stdout",
     "output_type": "stream",
     "text": [
      "       Open      High       Low     Close  Adj Close_x        Volume Ticker  \\\n",
      "0  0.088542  0.101563  0.088542  0.097222     0.060163  1.031789e+09   MSFT   \n",
      "1  0.097222  0.102431  0.097222  0.100694     0.062311  3.081600e+08   MSFT   \n",
      "2  0.100694  0.103299  0.100694  0.102431     0.063386  1.331712e+08   MSFT   \n",
      "3  0.102431  0.103299  0.098958  0.099826     0.061774  6.776640e+07   MSFT   \n",
      "4  0.099826  0.100694  0.097222  0.098090     0.060700  4.789440e+07   MSFT   \n",
      "\n",
      "   Year      Month  Weekday  ... growth_brent_oil_7d  growth_brent_oil_30d  \\\n",
      "0  1986 1986-03-01        3  ...                 NaN                   NaN   \n",
      "1  1986 1986-03-01        4  ...                 NaN                   NaN   \n",
      "2  1986 1986-03-01        0  ...                 NaN                   NaN   \n",
      "3  1986 1986-03-01        1  ...                 NaN                   NaN   \n",
      "4  1986 1986-03-01        2  ...                 NaN                   NaN   \n",
      "\n",
      "   growth_brent_oil_90d  growth_brent_oil_365d  growth_btc_usd_1d  \\\n",
      "0                   NaN                    NaN                NaN   \n",
      "1                   NaN                    NaN                NaN   \n",
      "2                   NaN                    NaN                NaN   \n",
      "3                   NaN                    NaN                NaN   \n",
      "4                   NaN                    NaN                NaN   \n",
      "\n",
      "   growth_btc_usd_3d  growth_btc_usd_7d  growth_btc_usd_30d  \\\n",
      "0                NaN                NaN                 NaN   \n",
      "1                NaN                NaN                 NaN   \n",
      "2                NaN                NaN                 NaN   \n",
      "3                NaN                NaN                 NaN   \n",
      "4                NaN                NaN                 NaN   \n",
      "\n",
      "   growth_btc_usd_90d  growth_btc_usd_365d  \n",
      "0                 NaN                  NaN  \n",
      "1                 NaN                  NaN  \n",
      "2                 NaN                  NaN  \n",
      "3                 NaN                  NaN  \n",
      "4                 NaN                  NaN  \n",
      "\n",
      "[5 rows x 202 columns]\n"
     ]
    }
   ],
   "source": [
    "\n",
    "import pandas as pd\n",
    "\n",
    "# Load the parquet file\n",
    "file_path = 'stocks_df_combined_2024_04_26.parquet.brotli'\n",
    "stocks_data = pd.read_parquet(file_path)\n",
    "\n",
    "# Display the first few rows of the dataset to understand its structure\n",
    "print(stocks_data.head())"
   ]
  },
  {
   "cell_type": "code",
   "execution_count": 33,
   "metadata": {},
   "outputs": [],
   "source": [
    "import pandas as pd\n",
    "\n",
    "# Load the Parquet file\n",
    "data = pd.read_parquet('stocks_df_combined_2024_04_26.parquet.brotli')\n",
    "\n",
    "# Convert and save as a CSV file\n",
    "data.to_csv('Stocks_df.csv', index=False)\n"
   ]
  },
  {
   "cell_type": "code",
   "execution_count": 38,
   "metadata": {},
   "outputs": [],
   "source": [
    "import pandas as pd\n",
    "\n",
    "# Load the Parquet file\n",
    "df = pd.read_parquet('stocks_df_combined_2024_04_26.parquet.brotli')\n",
    "\n",
    "# Convert and save as a CSV file\n",
    "data.to_csv('Stocks_df.csv', index=False)"
   ]
  },
  {
   "cell_type": "code",
   "execution_count": 39,
   "metadata": {},
   "outputs": [
    {
     "name": "stdout",
     "output_type": "stream",
     "text": [
      "           Open       High        Low      Close  Adj Close_x      Volume  \\\n",
      "7011  37.349998  37.400002  37.099998  37.160000    31.233061  30632200.0   \n",
      "7012  37.200001  37.220001  36.599998  36.910000    31.022934  31134800.0   \n",
      "7013  36.849998  36.889999  36.110001  36.130001    30.367338  43603700.0   \n",
      "7014  36.330002  36.490002  36.209999  36.410000    30.602684  35802800.0   \n",
      "7015  36.000000  36.139999  35.580002  35.759998    30.056362  59971700.0   \n",
      "\n",
      "     Ticker  Year      Month  Weekday  ... growth_brent_oil_7d  \\\n",
      "7011   MSFT  2014 2014-01-01        3  ...            0.964302   \n",
      "7012   MSFT  2014 2014-01-01        4  ...            0.958139   \n",
      "7013   MSFT  2014 2014-01-01        0  ...            0.953798   \n",
      "7014   MSFT  2014 2014-01-01        1  ...            0.958653   \n",
      "7015   MSFT  2014 2014-01-01        2  ...            0.955161   \n",
      "\n",
      "      growth_brent_oil_30d  growth_brent_oil_90d  growth_brent_oil_365d  \\\n",
      "7011              0.992998              0.970030               1.158676   \n",
      "7012              0.984707              0.961500               1.143209   \n",
      "7013              0.998223              0.968951               1.168236   \n",
      "7014              0.993430              0.977598               1.097648   \n",
      "7015              0.973383              0.974977               1.100781   \n",
      "\n",
      "      growth_btc_usd_1d  growth_btc_usd_3d  growth_btc_usd_7d  \\\n",
      "7011                NaN                NaN                NaN   \n",
      "7012                NaN                NaN                NaN   \n",
      "7013                NaN                NaN                NaN   \n",
      "7014                NaN                NaN                NaN   \n",
      "7015                NaN                NaN                NaN   \n",
      "\n",
      "      growth_btc_usd_30d  growth_btc_usd_90d  growth_btc_usd_365d  \n",
      "7011                 NaN                 NaN                  NaN  \n",
      "7012                 NaN                 NaN                  NaN  \n",
      "7013                 NaN                 NaN                  NaN  \n",
      "7014                 NaN                 NaN                  NaN  \n",
      "7015                 NaN                 NaN                  NaN  \n",
      "\n",
      "[5 rows x 202 columns]\n"
     ]
    }
   ],
   "source": [
    "import pandas as pd\n",
    "\n",
    "# Load your DataFrame\n",
    "# df = pd.read_csv('your_file.csv')  # Adjust this line accordingly if your data is in another format or location\n",
    "\n",
    "# Convert the 'Date' column to datetime if necessary\n",
    "df['Date'] = pd.to_datetime(df['Date'])\n",
    "\n",
    "# Filter the DataFrame to only include data from the last 10 years (2014-2023)\n",
    "filtered_df = df[(df['Date'] >= '2014-01-01') & (df['Date'] <= '2023-12-31')]\n",
    "\n",
    "# Now you can work with `filtered_df` which contains only the data from the last 10 years\n",
    "print(filtered_df.head())\n"
   ]
  },
  {
   "cell_type": "code",
   "execution_count": 40,
   "metadata": {},
   "outputs": [
    {
     "name": "stderr",
     "output_type": "stream",
     "text": [
      "C:\\Users\\rahul\\AppData\\Local\\Temp\\ipykernel_38208\\2312077704.py:14: SettingWithCopyWarning:\n",
      "\n",
      "\n",
      "A value is trying to be set on a copy of a slice from a DataFrame.\n",
      "Try using .loc[row_indexer,col_indexer] = value instead\n",
      "\n",
      "See the caveats in the documentation: https://pandas.pydata.org/pandas-docs/stable/user_guide/indexing.html#returning-a-view-versus-a-copy\n",
      "\n",
      "C:\\Users\\rahul\\AppData\\Local\\Temp\\ipykernel_38208\\2312077704.py:17: SettingWithCopyWarning:\n",
      "\n",
      "\n",
      "A value is trying to be set on a copy of a slice from a DataFrame.\n",
      "Try using .loc[row_indexer,col_indexer] = value instead\n",
      "\n",
      "See the caveats in the documentation: https://pandas.pydata.org/pandas-docs/stable/user_guide/indexing.html#returning-a-view-versus-a-copy\n",
      "\n",
      "C:\\Users\\rahul\\AppData\\Local\\Temp\\ipykernel_38208\\2312077704.py:20: SettingWithCopyWarning:\n",
      "\n",
      "\n",
      "A value is trying to be set on a copy of a slice from a DataFrame.\n",
      "Try using .loc[row_indexer,col_indexer] = value instead\n",
      "\n",
      "See the caveats in the documentation: https://pandas.pydata.org/pandas-docs/stable/user_guide/indexing.html#returning-a-view-versus-a-copy\n",
      "\n",
      "C:\\Users\\rahul\\AppData\\Local\\Temp\\ipykernel_38208\\2312077704.py:24: SettingWithCopyWarning:\n",
      "\n",
      "\n",
      "A value is trying to be set on a copy of a slice from a DataFrame.\n",
      "Try using .loc[row_indexer,col_indexer] = value instead\n",
      "\n",
      "See the caveats in the documentation: https://pandas.pydata.org/pandas-docs/stable/user_guide/indexing.html#returning-a-view-versus-a-copy\n",
      "\n",
      "C:\\Users\\rahul\\AppData\\Local\\Temp\\ipykernel_38208\\2312077704.py:31: SettingWithCopyWarning:\n",
      "\n",
      "\n",
      "A value is trying to be set on a copy of a slice from a DataFrame.\n",
      "Try using .loc[row_indexer,col_indexer] = value instead\n",
      "\n",
      "See the caveats in the documentation: https://pandas.pydata.org/pandas-docs/stable/user_guide/indexing.html#returning-a-view-versus-a-copy\n",
      "\n",
      "C:\\Users\\rahul\\AppData\\Local\\Temp\\ipykernel_38208\\2312077704.py:34: SettingWithCopyWarning:\n",
      "\n",
      "\n",
      "A value is trying to be set on a copy of a slice from a DataFrame.\n",
      "Try using .loc[row_indexer,col_indexer] = value instead\n",
      "\n",
      "See the caveats in the documentation: https://pandas.pydata.org/pandas-docs/stable/user_guide/indexing.html#returning-a-view-versus-a-copy\n",
      "\n"
     ]
    }
   ],
   "source": [
    "import pandas as pd\n",
    "import numpy as np\n",
    "\n",
    "# Load your DataFrame (assuming it's already loaded and named `df`)\n",
    "# df = pd.read_csv('your_file.csv')  # Adjust this line if necessary\n",
    "\n",
    "# Ensure the 'Date' column is the correct data type\n",
    "df['Date'] = pd.to_datetime(df['Month'])  # Adjust column name if necessary\n",
    "\n",
    "# Filter data for the last 10 years\n",
    "df_filtered = df[(df['Date'] >= '2014-01-01') & (df['Date'] <= '2023-12-31')]\n",
    "\n",
    "# Calculate Typical Price (TP)\n",
    "df_filtered['TP'] = (df_filtered['High'] + df_filtered['Low'] + df_filtered['Adj Close_x']) / 3\n",
    "\n",
    "# Calculate 20-day Moving Average of TP\n",
    "df_filtered['MA_TP_20'] = df_filtered.groupby('Ticker')['TP'].transform(lambda x: x.rolling(window=20).mean())\n",
    "\n",
    "# Calculate Mean Deviation for TP\n",
    "df_filtered['Mean_Dev_TP'] = df_filtered.groupby('Ticker')['TP'].transform(\n",
    "    lambda x: x.rolling(window=20).apply(lambda y: np.mean(np.abs(y - y.mean()))))\n",
    "\n",
    "# Calculate CCI\n",
    "df_filtered['CCI'] = (df_filtered['TP'] - df_filtered['MA_TP_20']) / (0.015 * df_filtered['Mean_Dev_TP'])\n",
    "\n",
    "# Filter for trading signals\n",
    "trades = df_filtered[(df_filtered['CCI'] > 200) & (df_filtered['Weekday'] == 4)]\n",
    "\n",
    "# Assuming you have the data to track the price 5 trading days later\n",
    "# This will depend on how your data is structured; this might require adjusting or assuming the next available trading day\n",
    "trades['Future_Price'] = trades.groupby('Ticker')['Adj Close_x'].shift(-5)  # simulate 5 days later price\n",
    "\n",
    "# Calculate trade profits\n",
    "trades['Profit'] = (trades['Future_Price'] - trades['Adj Close_x']) * (1000 / trades['Adj Close_x'])\n",
    "\n",
    "# Sum profits and convert to thousands\n",
    "gross_profit_thousands = round(trades['Profit'].sum() / 1000)\n"
   ]
  },
  {
   "cell_type": "code",
   "execution_count": 42,
   "metadata": {},
   "outputs": [
    {
     "name": "stdout",
     "output_type": "stream",
     "text": [
      "           Open       High        Low      Close  Adj Close_x       Volume  \\\n",
      "7065  40.720001  40.939999  40.009998  40.160000    34.007683   80721800.0   \n",
      "7118  41.480000  41.660000  41.240002  41.480000    35.373260   24060500.0   \n",
      "7147  44.650002  44.840000  44.250000  44.689999    38.110680   43407500.0   \n",
      "7340  45.660000  48.139999  45.650002  47.869999    41.630756  130933700.0   \n",
      "7452  44.270000  45.570000  43.919998  45.570000    40.151115   41839000.0   \n",
      "\n",
      "     Ticker  Year      Month  Weekday  ... growth_btc_usd_7d  \\\n",
      "7065   MSFT  2014 2014-03-01        4  ...               NaN   \n",
      "7118   MSFT  2014 2014-06-01        4  ...               NaN   \n",
      "7147   MSFT  2014 2014-07-01        4  ...               NaN   \n",
      "7340   MSFT  2015 2015-04-01        4  ...          1.037625   \n",
      "7452   MSFT  2015 2015-10-01        4  ...          1.009139   \n",
      "\n",
      "      growth_btc_usd_30d  growth_btc_usd_90d  growth_btc_usd_365d         TP  \\\n",
      "7065                 NaN                 NaN                  NaN  38.319227   \n",
      "7118                 NaN                 NaN                  NaN  39.424421   \n",
      "7147                 NaN                 NaN                  NaN  42.400227   \n",
      "7340            0.939362            0.933108                  NaN  45.140252   \n",
      "7452            1.034930            0.909566              0.63266  43.213704   \n",
      "\n",
      "       MA_TP_20  Mean_Dev_TP         CCI  Future_Price      Profit  \n",
      "7065  36.329160     0.548762  241.764520     46.583050  369.780177  \n",
      "7118  38.221615     0.334120  239.995056     54.007225  526.781085  \n",
      "7147  40.158338     0.610527  244.803520     59.949619  573.039890  \n",
      "7340  40.129691     0.883726  377.987557     60.386436  450.524605  \n",
      "7452  42.034458     0.379542  207.134882     66.173225  648.104286  \n",
      "\n",
      "[5 rows x 208 columns]\n"
     ]
    }
   ],
   "source": [
    "# Create a copy of the DataFrame slice\n",
    "trades = df_filtered[(df_filtered['CCI'] > 200) & (df_filtered['Weekday'] == 4)].copy()\n",
    "\n",
    "# Now you can safely modify 'trades' without affecting 'df_filtered'\n",
    "trades.loc[:, 'Future_Price'] = trades.groupby('Ticker')['Adj Close_x'].shift(-5)  # simulate 5 days later price\n",
    "trades.loc[:, 'Profit'] = (trades['Future_Price'] - trades['Adj Close_x']) * (1000 / trades['Adj Close_x'])\n",
    "\n",
    "# Ensure that modifications are carried out without warnings\n",
    "print(trades.head())\n"
   ]
  },
  {
   "cell_type": "markdown",
   "metadata": {},
   "source": [
    "Buys when the CCI is above 200 on Fridays.\n",
    "Holds the stock for one week (5 trading days).\n",
    "Sells at the adjusted close price after 5 days."
   ]
  },
  {
   "cell_type": "code",
   "execution_count": 43,
   "metadata": {},
   "outputs": [],
   "source": [
    "total_profit = trades['Profit'].sum()\n"
   ]
  },
  {
   "cell_type": "code",
   "execution_count": 44,
   "metadata": {},
   "outputs": [],
   "source": [
    "total_profit_thousands = round(total_profit / 1000)\n"
   ]
  },
  {
   "cell_type": "code",
   "execution_count": 46,
   "metadata": {},
   "outputs": [
    {
     "name": "stdout",
     "output_type": "stream",
     "text": [
      "Total Profit in Thousands: $ 298\n"
     ]
    }
   ],
   "source": [
    "# Assuming you have a variable 'total_profit' that stores the sum of all individual profits\n",
    "total_profit_thousands = round(total_profit / 1000)\n",
    "\n",
    "# Print the result\n",
    "print(\"Total Profit in Thousands: $\", total_profit_thousands)\n"
   ]
  },
  {
   "cell_type": "markdown",
   "metadata": {},
   "source": [
    "\n",
    "DEGIRO Costs \n",
    "Total annual costs: €2,210.50\n",
    "Calculation of Total Fees Over 10 Years\n",
    "Total fees over 10 years: €2,210.50 per year x 10 years = €22,105\n",
    "\n",
    "Net Profit Calculation\n",
    " gross profit over 10 years from the CCI trading strategy is $298,000 (or €298,000 assuming the exchange rate to USD and EUR is roughly equivalent for simplicity).\n",
    "\n",
    "Convert the total costs to USD (if needed, depending on current exchange rates; assuming 1 EUR = 1 USD for simplicity here):\n",
    "Total fees over 10 years in USD = $22,105\n",
    "Calculate Net Profit:\n",
    "Net profit in USD = $298,000 - $22,105 = $275,895\n",
    "\n",
    "Conclusion\n",
    "Even after accounting for the trading fees from DEGIRO, the trading strategy using the CCI indicator remains significantly profitable, netting approximately $275,895 over 10 years. \n",
    "This calculation assumes the exchange rate doesn't significantly affect the conversion. \n",
    "Actual results may vary based on currency fluctuations and the exact timing of transactions."
   ]
  },
  {
   "cell_type": "markdown",
   "metadata": {},
   "source": [
    "# [EXPLORATORY] Question 5: Finding Your Strategy for IPOs\n",
    "You've seen in the first questions that the median and average investments are negative in IPOs, and you can't blindly invest in all deals.\n",
    "\n",
    "How would you correct/refine the approach? Briefly describe the steps and the data you'll try to get (it should be generally feasible to do it from public sources - no access to internal data of companies)?\n",
    "\n",
    "E.g. (some ideas) Do you want to focus on the specific vertical? Do you want to build a smart comparison vs. existing stocks on the market? Or you just will want to get some features (which features?) like total number of people in a company to find a segment of \"successful\" IPOs?"
   ]
  },
  {
   "cell_type": "markdown",
   "metadata": {},
   "source": [
    "# Some steps and data considerations for crafting a more informed IPO investment strategy:\n",
    "\n",
    "Steps to Refine IPO Investment Strategy\n",
    "\n",
    "Analyze Historical IPO Performance: Examine historical data to identify patterns or factors that have correlated with successful IPOs.\n",
    "Focus on metrics such as post-IPO stock performance over different periods (e.g., 30 days, 90 days, 1 year).\n",
    "\n",
    "Sector or Industry Analysis: Consider specializing in specific sectors or industries where you have more expertise or which historically show better IPO performance.\n",
    "Analyze sector trends and economic cycles influencing these industries.\n",
    "\n",
    "Comparison with Market Benchmarks: Develop a method to compare upcoming IPOs against existing market benchmarks or similar stocks.\n",
    "Use ratios like price-to-earnings (P/E), price-to-sales (P/S), and growth metrics to evaluate relative valuation.\n",
    "\n",
    "Financial Health and Growth Metrics: financial statements of companies planning to go public. Focus on profitability, revenue growth, debt levels, and cash flow.\n",
    "Consider growth indicators such as customer acquisition rates, geographic expansion, and R&D investment.\n",
    "\n",
    "Management Team and Backers: Evaluate the experience and track record of the company's management and key stakeholders.\n",
    "Consider the reputation and historical success of the venture capital firms or private equity backers involved in the IPO.\n",
    "\n",
    "Regulatory Environment and Market Conditions: Consider the impact of current regulatory environments on the specific industries of interest.\n",
    "Evaluate market conditions, such as investor sentiment and economic indicators, at the time of the IPO.\n",
    "\n",
    "Use of Proceeds: Analyze how the company plans to use the funds raised from the IPO. Prefer companies that use these funds for growth initiatives rather than just paying off debts.\n",
    "\n",
    "Technology and Innovation: For technology and innovative sectors, assess the proprietary technology, patents, or unique business models that give a competitive advantage.\n",
    "Pre-IPO Private Investment Valuations: Look at the valuations and amount raised in private investment rounds before the IPO to gauge market expectations and investor confidence.\n",
    "\n",
    "# Data Sources\n",
    "\n",
    "SEC Filings and IPO Prospectuses: For detailed financial data, management information, and use of proceeds.\n",
    "Industry Reports and Market Analysis: From financial news outlets, industry-specific publications, and market research firms.\n",
    "Stock Market Data Providers: For historical performance data and benchmarks.\n",
    "Company Websites and Press Releases: For the latest updates on company performance and strategic moves.\n",
    "Venture Capital and Private Equity Databases: To track the involvement and performance of institutional investors."
   ]
  },
  {
   "cell_type": "code",
   "execution_count": null,
   "metadata": {},
   "outputs": [],
   "source": []
  },
  {
   "cell_type": "code",
   "execution_count": null,
   "metadata": {},
   "outputs": [],
   "source": []
  }
 ],
 "metadata": {
  "kernelspec": {
   "display_name": "myenv",
   "language": "python",
   "name": "python3"
  },
  "language_info": {
   "codemirror_mode": {
    "name": "ipython",
    "version": 3
   },
   "file_extension": ".py",
   "mimetype": "text/x-python",
   "name": "python",
   "nbconvert_exporter": "python",
   "pygments_lexer": "ipython3",
   "version": "3.11.4"
  }
 },
 "nbformat": 4,
 "nbformat_minor": 2
}
