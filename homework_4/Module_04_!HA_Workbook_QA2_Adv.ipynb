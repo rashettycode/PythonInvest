{
  "cells": [
    {
      "cell_type": "markdown",
      "metadata": {
        "id": "NgeNPyTWVVPj"
      },
      "source": [
        "# Imports and Installs"
      ]
    },
    {
      "cell_type": "code",
      "execution_count": 1,
      "metadata": {
        "colab": {
          "base_uri": "https://localhost:8080/"
        },
        "id": "ClEckHA-VPaj",
        "outputId": "7ffce9e6-4ae3-4975-c9e6-275c98d1d22c"
      },
      "outputs": [
        {
          "name": "stdout",
          "output_type": "stream",
          "text": [
            "Requirement already satisfied: yfinance in c:\\users\\rahul\\anaconda3\\lib\\site-packages (0.2.28)\n",
            "Requirement already satisfied: pandas>=1.3.0 in c:\\users\\rahul\\anaconda3\\lib\\site-packages (from yfinance) (2.1.1)\n",
            "Requirement already satisfied: numpy>=1.16.5 in c:\\users\\rahul\\anaconda3\\lib\\site-packages (from yfinance) (1.24.3)\n",
            "Requirement already satisfied: requests>=2.31 in c:\\users\\rahul\\anaconda3\\lib\\site-packages (from yfinance) (2.31.0)\n",
            "Requirement already satisfied: multitasking>=0.0.7 in c:\\users\\rahul\\anaconda3\\lib\\site-packages (from yfinance) (0.0.11)\n",
            "Requirement already satisfied: lxml>=4.9.1 in c:\\users\\rahul\\anaconda3\\lib\\site-packages (from yfinance) (4.9.2)\n",
            "Requirement already satisfied: appdirs>=1.4.4 in c:\\users\\rahul\\anaconda3\\lib\\site-packages (from yfinance) (1.4.4)\n",
            "Requirement already satisfied: pytz>=2022.5 in c:\\users\\rahul\\anaconda3\\lib\\site-packages (from yfinance) (2022.7)\n",
            "Requirement already satisfied: frozendict>=2.3.4 in c:\\users\\rahul\\anaconda3\\lib\\site-packages (from yfinance) (2.3.8)\n",
            "Requirement already satisfied: beautifulsoup4>=4.11.1 in c:\\users\\rahul\\appdata\\roaming\\python\\python311\\site-packages (from yfinance) (4.12.3)\n",
            "Requirement already satisfied: html5lib>=1.1 in c:\\users\\rahul\\anaconda3\\lib\\site-packages (from yfinance) (1.1)\n",
            "Requirement already satisfied: soupsieve>1.2 in c:\\users\\rahul\\appdata\\roaming\\python\\python311\\site-packages (from beautifulsoup4>=4.11.1->yfinance) (2.5)\n",
            "Requirement already satisfied: six>=1.9 in c:\\users\\rahul\\appdata\\roaming\\python\\python311\\site-packages (from html5lib>=1.1->yfinance) (1.16.0)\n",
            "Requirement already satisfied: webencodings in c:\\users\\rahul\\appdata\\roaming\\python\\python311\\site-packages (from html5lib>=1.1->yfinance) (0.5.1)\n",
            "Requirement already satisfied: python-dateutil>=2.8.2 in c:\\users\\rahul\\appdata\\roaming\\python\\python311\\site-packages (from pandas>=1.3.0->yfinance) (2.8.2)\n",
            "Requirement already satisfied: tzdata>=2022.1 in c:\\users\\rahul\\anaconda3\\lib\\site-packages (from pandas>=1.3.0->yfinance) (2023.3)\n",
            "Requirement already satisfied: charset-normalizer<4,>=2 in c:\\users\\rahul\\anaconda3\\lib\\site-packages (from requests>=2.31->yfinance) (2.0.4)\n",
            "Requirement already satisfied: idna<4,>=2.5 in c:\\users\\rahul\\anaconda3\\lib\\site-packages (from requests>=2.31->yfinance) (3.4)\n",
            "Requirement already satisfied: urllib3<3,>=1.21.1 in c:\\users\\rahul\\anaconda3\\lib\\site-packages (from requests>=2.31->yfinance) (1.26.16)\n",
            "Requirement already satisfied: certifi>=2017.4.17 in c:\\users\\rahul\\anaconda3\\lib\\site-packages (from requests>=2.31->yfinance) (2023.7.22)\n"
          ]
        }
      ],
      "source": [
        "!pip install yfinance"
      ]
    },
    {
      "cell_type": "code",
      "execution_count": 2,
      "metadata": {
        "colab": {
          "base_uri": "https://localhost:8080/"
        },
        "id": "vX1S1BHdVXyc",
        "outputId": "7c8c02a9-4f53-4049-b820-f36f4cc94731"
      },
      "outputs": [
        {
          "name": "stdout",
          "output_type": "stream",
          "text": [
            "Found existing installation: gdown 5.2.0\n",
            "Uninstalling gdown-5.2.0:\n",
            "  Successfully uninstalled gdown-5.2.0\n",
            "Collecting gdown\n",
            "  Obtaining dependency information for gdown from https://files.pythonhosted.org/packages/54/70/e07c381e6488a77094f04c85c9caf1c8008cdc30778f7019bc52e5285ef0/gdown-5.2.0-py3-none-any.whl.metadata\n",
            "  Using cached gdown-5.2.0-py3-none-any.whl.metadata (5.8 kB)\n",
            "Requirement already satisfied: beautifulsoup4 in c:\\users\\rahul\\appdata\\roaming\\python\\python311\\site-packages (from gdown) (4.12.3)\n",
            "Requirement already satisfied: filelock in c:\\users\\rahul\\anaconda3\\lib\\site-packages (from gdown) (3.9.0)\n",
            "Requirement already satisfied: requests[socks] in c:\\users\\rahul\\anaconda3\\lib\\site-packages (from gdown) (2.31.0)\n",
            "Requirement already satisfied: tqdm in c:\\users\\rahul\\anaconda3\\lib\\site-packages (from gdown) (4.65.0)\n",
            "Requirement already satisfied: soupsieve>1.2 in c:\\users\\rahul\\appdata\\roaming\\python\\python311\\site-packages (from beautifulsoup4->gdown) (2.5)\n",
            "Requirement already satisfied: charset-normalizer<4,>=2 in c:\\users\\rahul\\anaconda3\\lib\\site-packages (from requests[socks]->gdown) (2.0.4)\n",
            "Requirement already satisfied: idna<4,>=2.5 in c:\\users\\rahul\\anaconda3\\lib\\site-packages (from requests[socks]->gdown) (3.4)\n",
            "Requirement already satisfied: urllib3<3,>=1.21.1 in c:\\users\\rahul\\anaconda3\\lib\\site-packages (from requests[socks]->gdown) (1.26.16)\n",
            "Requirement already satisfied: certifi>=2017.4.17 in c:\\users\\rahul\\anaconda3\\lib\\site-packages (from requests[socks]->gdown) (2023.7.22)\n",
            "Requirement already satisfied: PySocks!=1.5.7,>=1.5.6 in c:\\users\\rahul\\anaconda3\\lib\\site-packages (from requests[socks]->gdown) (1.7.1)\n",
            "Requirement already satisfied: colorama in c:\\users\\rahul\\appdata\\roaming\\python\\python311\\site-packages (from tqdm->gdown) (0.4.6)\n",
            "Using cached gdown-5.2.0-py3-none-any.whl (18 kB)\n",
            "Installing collected packages: gdown\n",
            "Successfully installed gdown-5.2.0\n",
            "gdown 5.2.0 at C:\\Users\\rahul\\anaconda3\\Lib\\site-packages\n"
          ]
        }
      ],
      "source": [
        "# read files shared via google-drive-link\n",
        "# https://stackoverflow.com/questions/62759748/downloading-data-from-a-shared-google-drive-link-in-google-colab\n",
        "\n",
        "!pip uninstall gdown -y && pip install gdown\n",
        "!gdown -V"
      ]
    },
    {
      "cell_type": "code",
      "execution_count": 3,
      "metadata": {
        "id": "ZqeDMHR9VamL"
      },
      "outputs": [],
      "source": [
        "# IMPORTS\n",
        "import numpy as np\n",
        "import pandas as pd\n",
        "\n",
        "#Fin Data Sources\n",
        "import yfinance as yf\n",
        "import pandas_datareader as pdr\n",
        "\n",
        "#Data viz\n",
        "import plotly.graph_objs as go\n",
        "import plotly.graph_objects as go\n",
        "import plotly.express as px\n",
        "import matplotlib.pyplot as plt\n",
        "import seaborn as sns\n",
        "\n",
        "# measure time for ML HyperParams search\n",
        "import time\n",
        "from datetime import date\n",
        "\n",
        "# ML models and utils\n",
        "from sklearn.tree import DecisionTreeClassifier\n",
        "from sklearn.ensemble import RandomForestClassifier\n",
        "from sklearn.metrics import accuracy_score\n",
        "from sklearn.metrics import precision_score\n",
        "\n",
        "# Disable SettingWithCopyWarning\n",
        "pd.options.mode.chained_assignment = None  # default='warn'"
      ]
    },
    {
      "cell_type": "markdown",
      "metadata": {
        "id": "Z3wOUBm4V0D_"
      },
      "source": [
        "# 0) One DataFrame with Dummies\n",
        "* including newly defined \"month-week_of_month\""
      ]
    },
    {
      "cell_type": "markdown",
      "metadata": {
        "id": "hdTaoVoPV35S"
      },
      "source": [
        "## 0.1) Read and truncate data (last 25 years from 2000), define variable sets\n"
      ]
    },
    {
      "cell_type": "code",
      "execution_count": 4,
      "metadata": {
        "colab": {
          "base_uri": "https://localhost:8080/"
        },
        "id": "saQHmUeAV1Dk",
        "outputId": "af157542-afd2-4b8d-c86b-bb61d2c3cf66"
      },
      "outputs": [
        {
          "name": "stdout",
          "output_type": "stream",
          "text": [
            "Downloading...\n",
            "From (original): https://drive.google.com/uc?id=1kNWWPi49td0EZhmi6LzNCa2ssC5IUxHP\n",
            "From (redirected): https://drive.google.com/uc?id=1kNWWPi49td0EZhmi6LzNCa2ssC5IUxHP&confirm=t&uuid=0a0664ac-6117-4fa7-83df-72a49e1a03e9\n",
            "To: /content/stocks_df_combined_2024_05_07.parquet.brotli\n",
            "100% 119M/119M [00:03<00:00, 31.5MB/s]\n"
          ]
        }
      ],
      "source": [
        "# # https://stackoverflow.com/questions/62759748/downloading-data-from-a-shared-google-drive-link-in-google-colab\n",
        "# # truncated data from Module 2: https://drive.google.com/file/d/1m3Qisfs2XfWk6Sw_Uk5kHLWqwQ0q8SKb/view?usp=sharing\n",
        "# !gdown https://drive.google.com/file/d/1kNWWPi49td0EZhmi6LzNCa2ssC5IUxHP/view?usp=sharing --fuzzy -O /content/"
      ]
    },
    {
      "cell_type": "code",
      "execution_count": 4,
      "metadata": {
        "id": "wO4EVPkTV5ze"
      },
      "outputs": [],
      "source": [
        "# truncated\n",
        "# df = pd.read_parquet(\"/content/stocks_df_combined_trunc_2014_2023.parquet.brotli\", )\n",
        "\n",
        "# full dataset for 33 stocks\n",
        "df_full = pd.read_parquet(\"stocks_df_combined_2024_05_07.parquet.brotli\", )"
      ]
    },
    {
      "cell_type": "code",
      "execution_count": 5,
      "metadata": {
        "colab": {
          "base_uri": "https://localhost:8080/"
        },
        "id": "535cuVR8V-DS",
        "outputId": "084186fa-31d1-4abc-f54f-4aba4facb3b6"
      },
      "outputs": [
        {
          "name": "stdout",
          "output_type": "stream",
          "text": [
            "<class 'pandas.core.frame.DataFrame'>\n",
            "Index: 221142 entries, 0 to 5426\n",
            "Columns: 202 entries, Open to growth_btc_usd_365d\n",
            "dtypes: datetime64[ns](3), float64(128), int32(64), int64(5), object(2)\n",
            "memory usage: 288.5+ MB\n"
          ]
        }
      ],
      "source": [
        "df_full.info()"
      ]
    },
    {
      "cell_type": "code",
      "execution_count": 6,
      "metadata": {
        "colab": {
          "base_uri": "https://localhost:8080/"
        },
        "id": "dslxEREBV-RU",
        "outputId": "05bac0dd-b798-4cbb-93d5-fb2ae0f17499"
      },
      "outputs": [
        {
          "data": {
            "text/plain": [
              "['growth_1d',\n",
              " 'growth_3d',\n",
              " 'growth_7d',\n",
              " 'growth_30d',\n",
              " 'growth_90d',\n",
              " 'growth_365d',\n",
              " 'growth_dax_1d',\n",
              " 'growth_dax_3d',\n",
              " 'growth_dax_7d',\n",
              " 'growth_dax_30d',\n",
              " 'growth_dax_90d',\n",
              " 'growth_dax_365d',\n",
              " 'growth_snp500_1d',\n",
              " 'growth_snp500_3d',\n",
              " 'growth_snp500_7d',\n",
              " 'growth_snp500_30d',\n",
              " 'growth_snp500_90d',\n",
              " 'growth_snp500_365d',\n",
              " 'growth_dji_1d',\n",
              " 'growth_dji_3d',\n",
              " 'growth_dji_7d',\n",
              " 'growth_dji_30d',\n",
              " 'growth_dji_90d',\n",
              " 'growth_dji_365d',\n",
              " 'growth_epi_1d',\n",
              " 'growth_epi_3d',\n",
              " 'growth_epi_7d',\n",
              " 'growth_epi_30d',\n",
              " 'growth_epi_90d',\n",
              " 'growth_epi_365d',\n",
              " 'growth_gold_1d',\n",
              " 'growth_gold_3d',\n",
              " 'growth_gold_7d',\n",
              " 'growth_gold_30d',\n",
              " 'growth_gold_90d',\n",
              " 'growth_gold_365d',\n",
              " 'growth_wti_oil_1d',\n",
              " 'growth_wti_oil_3d',\n",
              " 'growth_wti_oil_7d',\n",
              " 'growth_wti_oil_30d',\n",
              " 'growth_wti_oil_90d',\n",
              " 'growth_wti_oil_365d',\n",
              " 'growth_brent_oil_1d',\n",
              " 'growth_brent_oil_3d',\n",
              " 'growth_brent_oil_7d',\n",
              " 'growth_brent_oil_30d',\n",
              " 'growth_brent_oil_90d',\n",
              " 'growth_brent_oil_365d',\n",
              " 'growth_btc_usd_1d',\n",
              " 'growth_btc_usd_3d',\n",
              " 'growth_btc_usd_7d',\n",
              " 'growth_btc_usd_30d',\n",
              " 'growth_btc_usd_90d',\n",
              " 'growth_btc_usd_365d']"
            ]
          },
          "execution_count": 6,
          "metadata": {},
          "output_type": "execute_result"
        }
      ],
      "source": [
        "# growth indicators (but not future growth)\n",
        "GROWTH = [g for g in df_full.keys() if (g.find('growth_')==0)&(g.find('future')<0)]\n",
        "GROWTH"
      ]
    },
    {
      "cell_type": "code",
      "execution_count": 7,
      "metadata": {
        "id": "OhBqWGM6WAfs"
      },
      "outputs": [],
      "source": [
        "# leaving only Volume ==> generate ln(Volume)\n",
        "OHLCV = ['Open','High','Low','Close','Adj Close_x','Volume']"
      ]
    },
    {
      "cell_type": "code",
      "execution_count": 8,
      "metadata": {
        "id": "_ip2ve25WCvM"
      },
      "outputs": [],
      "source": [
        "CATEGORICAL = ['Month', 'Weekday', 'Ticker', 'ticker_type']"
      ]
    },
    {
      "cell_type": "code",
      "execution_count": 9,
      "metadata": {
        "colab": {
          "base_uri": "https://localhost:8080/"
        },
        "id": "pPn7cWXvi4SB",
        "outputId": "5481626f-50ed-4408-a9a7-bee7bcdcd474"
      },
      "outputs": [
        {
          "data": {
            "text/plain": [
              "count    220977.000000\n",
              "mean          1.004630\n",
              "std           0.051592\n",
              "min           0.412383\n",
              "25%           0.979594\n",
              "50%           1.003802\n",
              "75%           1.028273\n",
              "max           3.018887\n",
              "Name: growth_future_5d, dtype: float64"
            ]
          },
          "execution_count": 9,
          "metadata": {},
          "output_type": "execute_result"
        }
      ],
      "source": [
        "df_full.growth_future_5d.describe()"
      ]
    },
    {
      "cell_type": "code",
      "execution_count": 10,
      "metadata": {
        "colab": {
          "base_uri": "https://localhost:8080/"
        },
        "id": "SLUhJQ79jlse",
        "outputId": "51177337-c8a6-4040-fe05-a4a72ada4800"
      },
      "outputs": [
        {
          "data": {
            "text/plain": [
              "0.5411319423718697"
            ]
          },
          "execution_count": 10,
          "metadata": {},
          "output_type": "execute_result"
        }
      ],
      "source": [
        "# 54% of data records have positive future growth>0\n",
        "df_full.is_positive_growth_5d_future.mean()"
      ]
    },
    {
      "cell_type": "code",
      "execution_count": 11,
      "metadata": {
        "colab": {
          "base_uri": "https://localhost:8080/"
        },
        "id": "Mf_eMiRVjGHE",
        "outputId": "03d05fe6-5eec-4cb9-cae4-14787e916c29"
      },
      "outputs": [
        {
          "data": {
            "text/plain": [
              "1.0202201074172228"
            ]
          },
          "execution_count": 11,
          "metadata": {},
          "output_type": "execute_result"
        }
      ],
      "source": [
        "# moving to strong growth (54% -> ~ 32%)\n",
        "df_full.growth_future_5d.quantile(0.68)"
      ]
    },
    {
      "cell_type": "code",
      "execution_count": 12,
      "metadata": {
        "id": "8imLlR6JdwTE"
      },
      "outputs": [],
      "source": [
        "# TODO HA4 Q3: Define a new variable 'is_strong_positive_growth_5d_future' according to the task\n",
        "#  it will be automatically added the the list TO_PREDICT"
      ]
    },
    {
      "cell_type": "code",
      "execution_count": 13,
      "metadata": {
        "colab": {
          "base_uri": "https://localhost:8080/"
        },
        "id": "bbXsoQBRWDp8",
        "outputId": "fc459ada-6a94-4e8e-8969-ac2c57d7a063"
      },
      "outputs": [
        {
          "data": {
            "text/plain": [
              "['growth_future_5d', 'is_positive_growth_5d_future']"
            ]
          },
          "execution_count": 13,
          "metadata": {},
          "output_type": "execute_result"
        }
      ],
      "source": [
        "TO_PREDICT = [g for g in df_full.keys() if (g.find('future')>=0)]\n",
        "TO_PREDICT"
      ]
    },
    {
      "cell_type": "code",
      "execution_count": 14,
      "metadata": {
        "colab": {
          "base_uri": "https://localhost:8080/"
        },
        "id": "7CbNbrJdWFQc",
        "outputId": "2b09b4ea-464a-4620-beab-cf697d4cfb4b"
      },
      "outputs": [
        {
          "data": {
            "text/plain": [
              "['Year',\n",
              " 'Date',\n",
              " 'index_x',\n",
              " 'index_y',\n",
              " 'index',\n",
              " 'Quarter',\n",
              " 'Adj Close_y',\n",
              " 'Month',\n",
              " 'Weekday',\n",
              " 'Ticker',\n",
              " 'ticker_type',\n",
              " 'Open',\n",
              " 'High',\n",
              " 'Low',\n",
              " 'Close',\n",
              " 'Adj Close_x',\n",
              " 'Volume']"
            ]
          },
          "execution_count": 14,
          "metadata": {},
          "output_type": "execute_result"
        }
      ],
      "source": [
        "TO_DROP = ['Year','Date','index_x', 'index_y', 'index', 'Quarter','Adj Close_y'] + CATEGORICAL + OHLCV\n",
        "TO_DROP"
      ]
    },
    {
      "cell_type": "code",
      "execution_count": 15,
      "metadata": {
        "id": "CNc5uwyFWG3M"
      },
      "outputs": [
        {
          "name": "stderr",
          "output_type": "stream",
          "text": [
            "C:\\Users\\rahul\\AppData\\Local\\Temp\\ipykernel_66132\\2841410488.py:2: RuntimeWarning: divide by zero encountered in log\n",
            "  df_full['ln_volume'] = df_full.Volume.apply(lambda x: np.log(x))\n"
          ]
        }
      ],
      "source": [
        "# let's define on more custom numerical features\n",
        "df_full['ln_volume'] = df_full.Volume.apply(lambda x: np.log(x))"
      ]
    },
    {
      "cell_type": "code",
      "execution_count": 16,
      "metadata": {
        "id": "XC4T9xLmWJa7"
      },
      "outputs": [],
      "source": [
        "# manually defined features\n",
        "CUSTOM_NUMERICAL = ['SMA10', 'SMA20', 'growing_moving_average', 'high_minus_low_relative','volatility', 'ln_volume']"
      ]
    },
    {
      "cell_type": "code",
      "execution_count": 17,
      "metadata": {
        "id": "C41u7lvzWLJE"
      },
      "outputs": [],
      "source": [
        "# All Supported Ta-lib indicators: https://github.com/TA-Lib/ta-lib-python/blob/master/docs/funcs.md\n",
        "\n",
        "TECHNICAL_INDICATORS = ['adx', 'adxr', 'apo', 'aroon_1','aroon_2', 'aroonosc',\n",
        " 'bop', 'cci', 'cmo','dx', 'macd', 'macdsignal', 'macdhist', 'macd_ext',\n",
        " 'macdsignal_ext', 'macdhist_ext', 'macd_fix', 'macdsignal_fix',\n",
        " 'macdhist_fix', 'mfi', 'minus_di', 'mom', 'plus_di', 'dm', 'ppo',\n",
        " 'roc', 'rocp', 'rocr', 'rocr100', 'rsi', 'slowk', 'slowd', 'fastk',\n",
        " 'fastd', 'fastk_rsi', 'fastd_rsi', 'trix', 'ultosc', 'willr',\n",
        " 'ad', 'adosc', 'obv', 'atr', 'natr', 'ht_dcperiod', 'ht_dcphase',\n",
        " 'ht_phasor_inphase', 'ht_phasor_quadrature', 'ht_sine_sine', 'ht_sine_leadsine',\n",
        " 'ht_trendmod', 'avgprice', 'medprice', 'typprice', 'wclprice']"
      ]
    },
    {
      "cell_type": "code",
      "execution_count": 18,
      "metadata": {
        "colab": {
          "base_uri": "https://localhost:8080/"
        },
        "id": "9sNnG3eIWM9r",
        "outputId": "6e5b464b-7449-4e24-ddc7-e8ec4ef7e8f3"
      },
      "outputs": [
        {
          "name": "stdout",
          "output_type": "stream",
          "text": [
            "Technical patterns count = 61, examples = ['cdl2crows', 'cdl3blackrows', 'cdl3inside', 'cdl3linestrike', 'cdl3outside']\n"
          ]
        }
      ],
      "source": [
        "TECHNICAL_PATTERNS = [g for g in df_full.keys() if g.find('cdl')>=0]\n",
        "print(f'Technical patterns count = {len(TECHNICAL_PATTERNS)}, examples = {TECHNICAL_PATTERNS[0:5]}')"
      ]
    },
    {
      "cell_type": "code",
      "execution_count": 19,
      "metadata": {
        "id": "6rBloicrWOYL"
      },
      "outputs": [],
      "source": [
        "MACRO = ['gdppot_us_yoy', 'gdppot_us_qoq', 'cpi_core_yoy', 'cpi_core_mom', 'FEDFUNDS',\n",
        " 'DGS1', 'DGS5', 'DGS10']"
      ]
    },
    {
      "cell_type": "code",
      "execution_count": 20,
      "metadata": {
        "id": "t_e3W8kRWQRr"
      },
      "outputs": [],
      "source": [
        "NUMERICAL = GROWTH + TECHNICAL_INDICATORS + TECHNICAL_PATTERNS + CUSTOM_NUMERICAL + MACRO"
      ]
    },
    {
      "cell_type": "code",
      "execution_count": 21,
      "metadata": {
        "colab": {
          "base_uri": "https://localhost:8080/"
        },
        "id": "QAK0EbpDWRK7",
        "outputId": "eacc7497-a1cf-413c-ea15-2247c75766ae"
      },
      "outputs": [
        {
          "data": {
            "text/plain": [
              "[]"
            ]
          },
          "execution_count": 21,
          "metadata": {},
          "output_type": "execute_result"
        }
      ],
      "source": [
        "# CHECK: NO OTHER INDICATORS LEFT\n",
        "OTHER = [k for k in df_full.keys() if k not in OHLCV + CATEGORICAL + NUMERICAL + TO_DROP + TO_PREDICT]\n",
        "OTHER"
      ]
    },
    {
      "cell_type": "code",
      "execution_count": 22,
      "metadata": {
        "colab": {
          "base_uri": "https://localhost:8080/"
        },
        "id": "x-WWdNqjWSY7",
        "outputId": "c3443875-a29b-4674-906f-4ee6155a5186"
      },
      "outputs": [
        {
          "data": {
            "text/plain": [
              "33"
            ]
          },
          "execution_count": 22,
          "metadata": {},
          "output_type": "execute_result"
        }
      ],
      "source": [
        "df_full.Ticker.nunique()"
      ]
    },
    {
      "cell_type": "code",
      "execution_count": 23,
      "metadata": {
        "colab": {
          "base_uri": "https://localhost:8080/"
        },
        "id": "_44ozBryWTmD",
        "outputId": "d8327d9d-8fd2-4675-f7c2-b3bc79fe4579"
      },
      "outputs": [
        {
          "name": "stdout",
          "output_type": "stream",
          "text": [
            "<class 'pandas.core.frame.DataFrame'>\n",
            "Index: 182675 entries, 3490 to 5426\n",
            "Columns: 203 entries, Open to ln_volume\n",
            "dtypes: datetime64[ns](3), float64(129), int32(64), int64(5), object(2)\n",
            "memory usage: 239.7+ MB\n"
          ]
        }
      ],
      "source": [
        "# truncated df_full with 25 years of data (and defined growth variables)\n",
        "df = df_full[df_full.Date>='2000-01-01']\n",
        "df.info()"
      ]
    },
    {
      "cell_type": "markdown",
      "metadata": {
        "id": "pDASl99NXU5e"
      },
      "source": [
        "## 0.2) Dummies"
      ]
    },
    {
      "cell_type": "code",
      "execution_count": 24,
      "metadata": {
        "id": "CaRSY88HWU-D"
      },
      "outputs": [],
      "source": [
        "# dummy variables can't be generated from Date and numeric variables ==> convert to STRING (to define groups for Dummies)\n",
        "df.loc[:,'Month'] = df.Month.dt.strftime('%B')\n",
        "df.loc[:,'Weekday'] = df.Weekday.astype(str)"
      ]
    },
    {
      "cell_type": "markdown",
      "metadata": {
        "id": "qSRpQdx8Y97_"
      },
      "source": [
        "### 0.2.1) Create a new string column 'month_wom' (month_week_of_month)"
      ]
    },
    {
      "cell_type": "code",
      "execution_count": 25,
      "metadata": {
        "id": "6DQAmZvUXXLe"
      },
      "outputs": [],
      "source": [
        "# define week of month\n",
        "df.loc[:,'wom'] = df.Date.apply(lambda d: (d.day-1)//7 + 1)\n",
        "# convert to string\n",
        "df.loc[:,'wom'] = df.loc[:,'wom'].astype(str)"
      ]
    },
    {
      "cell_type": "code",
      "execution_count": 26,
      "metadata": {
        "colab": {
          "base_uri": "https://localhost:8080/"
        },
        "id": "C5FL1MRVXjgr",
        "outputId": "a725c82a-545c-45a2-a041-687588682ccc"
      },
      "outputs": [
        {
          "data": {
            "text/plain": [
              "wom\n",
              "2    42817\n",
              "3    42007\n",
              "4    41715\n",
              "1    41490\n",
              "5    14646\n",
              "Name: count, dtype: int64"
            ]
          },
          "execution_count": 26,
          "metadata": {},
          "output_type": "execute_result"
        }
      ],
      "source": [
        "# check values for week-of-month (should be between 1 and 5)\n",
        "df.wom.value_counts()"
      ]
    },
    {
      "cell_type": "code",
      "execution_count": 27,
      "metadata": {
        "id": "EugKIiAwXkqN"
      },
      "outputs": [],
      "source": [
        "df.loc[:,'month_wom'] = df.Month + '_w' + df.wom"
      ]
    },
    {
      "cell_type": "code",
      "execution_count": 28,
      "metadata": {
        "colab": {
          "base_uri": "https://localhost:8080/"
        },
        "id": "31WAyGcEXmHt",
        "outputId": "10e9040b-e267-44af-c306-c796823293d9"
      },
      "outputs": [
        {
          "data": {
            "text/plain": [
              "month_wom\n",
              "February_w1    3705\n",
              "January_w2     3686\n",
              "Name: count, dtype: int64"
            ]
          },
          "execution_count": 28,
          "metadata": {},
          "output_type": "execute_result"
        }
      ],
      "source": [
        "# examples of encoding\n",
        "df.month_wom.value_counts()[0:2]"
      ]
    },
    {
      "cell_type": "code",
      "execution_count": 29,
      "metadata": {
        "id": "Yu8tCw_lXnXd"
      },
      "outputs": [],
      "source": [
        "# del wom temp variable\n",
        "del df['wom']"
      ]
    },
    {
      "cell_type": "markdown",
      "metadata": {
        "id": "-oaBtlVfZBhV"
      },
      "source": [
        "### 0.2.2) Generate all dummies"
      ]
    },
    {
      "cell_type": "code",
      "execution_count": 30,
      "metadata": {
        "colab": {
          "base_uri": "https://localhost:8080/"
        },
        "id": "69ep2F0mXpN8",
        "outputId": "bbaf8314-1755-454f-f718-7ba26eeb4336"
      },
      "outputs": [
        {
          "data": {
            "text/plain": [
              "['Month', 'Weekday', 'Ticker', 'ticker_type', 'month_wom']"
            ]
          },
          "execution_count": 30,
          "metadata": {},
          "output_type": "execute_result"
        }
      ],
      "source": [
        "# what are the categorical features?\n",
        "CATEGORICAL.append('month_wom')\n",
        "CATEGORICAL"
      ]
    },
    {
      "cell_type": "code",
      "execution_count": 31,
      "metadata": {
        "id": "vmC3oav8ZGHJ"
      },
      "outputs": [],
      "source": [
        "# Generate dummy variables (no need for bool, let's have int32 instead)\n",
        "dummy_variables = pd.get_dummies(df[CATEGORICAL], dtype='int32')"
      ]
    },
    {
      "cell_type": "code",
      "execution_count": 32,
      "metadata": {
        "colab": {
          "base_uri": "https://localhost:8080/"
        },
        "id": "oY0lIQZhZHOU",
        "outputId": "73858b41-cc6a-40d2-c003-cdc856106770"
      },
      "outputs": [
        {
          "name": "stdout",
          "output_type": "stream",
          "text": [
            "<class 'pandas.core.frame.DataFrame'>\n",
            "Index: 182675 entries, 3490 to 5426\n",
            "Columns: 115 entries, Month_April to month_wom_September_w5\n",
            "dtypes: int32(115)\n",
            "memory usage: 81.5 MB\n"
          ]
        }
      ],
      "source": [
        "dummy_variables.info()"
      ]
    },
    {
      "cell_type": "code",
      "execution_count": 33,
      "metadata": {
        "colab": {
          "base_uri": "https://localhost:8080/"
        },
        "id": "oLhfvOTSZIok",
        "outputId": "9481afdb-346c-4949-9e37-ae88a112187a"
      },
      "outputs": [
        {
          "data": {
            "text/plain": [
              "['Month_April',\n",
              " 'Month_August',\n",
              " 'Month_December',\n",
              " 'Month_February',\n",
              " 'Month_January',\n",
              " 'Month_July',\n",
              " 'Month_June',\n",
              " 'Month_March',\n",
              " 'Month_May',\n",
              " 'Month_November',\n",
              " 'Month_October',\n",
              " 'Month_September',\n",
              " 'Weekday_0',\n",
              " 'Weekday_1',\n",
              " 'Weekday_2',\n",
              " 'Weekday_3',\n",
              " 'Weekday_4',\n",
              " 'Weekday_5',\n",
              " 'Weekday_6',\n",
              " 'Ticker_AAPL',\n",
              " 'Ticker_ACN',\n",
              " 'Ticker_AMZN',\n",
              " 'Ticker_ASML',\n",
              " 'Ticker_AVGO',\n",
              " 'Ticker_BHARTIARTL.NS',\n",
              " 'Ticker_BRK-B',\n",
              " 'Ticker_CDI.PA',\n",
              " 'Ticker_GOOG',\n",
              " 'Ticker_HDB',\n",
              " 'Ticker_HINDUNILVR.NS',\n",
              " 'Ticker_IBN',\n",
              " 'Ticker_IDEXY',\n",
              " 'Ticker_INFY',\n",
              " 'Ticker_ITC.NS',\n",
              " 'Ticker_JPM',\n",
              " 'Ticker_LICI.NS',\n",
              " 'Ticker_LLY',\n",
              " 'Ticker_LT.NS',\n",
              " 'Ticker_MC.PA',\n",
              " 'Ticker_META',\n",
              " 'Ticker_MSFT',\n",
              " 'Ticker_NVDA',\n",
              " 'Ticker_NVO',\n",
              " 'Ticker_OR.PA',\n",
              " 'Ticker_RELIANCE.NS',\n",
              " 'Ticker_RMS.PA',\n",
              " 'Ticker_SAP',\n",
              " 'Ticker_SBIN.NS',\n",
              " 'Ticker_SIE.DE',\n",
              " 'Ticker_TCS.NS',\n",
              " 'Ticker_TTE',\n",
              " 'Ticker_V',\n",
              " 'ticker_type_EU',\n",
              " 'ticker_type_INDIA',\n",
              " 'ticker_type_US',\n",
              " 'month_wom_April_w1',\n",
              " 'month_wom_April_w2',\n",
              " 'month_wom_April_w3',\n",
              " 'month_wom_April_w4',\n",
              " 'month_wom_April_w5',\n",
              " 'month_wom_August_w1',\n",
              " 'month_wom_August_w2',\n",
              " 'month_wom_August_w3',\n",
              " 'month_wom_August_w4',\n",
              " 'month_wom_August_w5',\n",
              " 'month_wom_December_w1',\n",
              " 'month_wom_December_w2',\n",
              " 'month_wom_December_w3',\n",
              " 'month_wom_December_w4',\n",
              " 'month_wom_December_w5',\n",
              " 'month_wom_February_w1',\n",
              " 'month_wom_February_w2',\n",
              " 'month_wom_February_w3',\n",
              " 'month_wom_February_w4',\n",
              " 'month_wom_February_w5',\n",
              " 'month_wom_January_w1',\n",
              " 'month_wom_January_w2',\n",
              " 'month_wom_January_w3',\n",
              " 'month_wom_January_w4',\n",
              " 'month_wom_January_w5',\n",
              " 'month_wom_July_w1',\n",
              " 'month_wom_July_w2',\n",
              " 'month_wom_July_w3',\n",
              " 'month_wom_July_w4',\n",
              " 'month_wom_July_w5',\n",
              " 'month_wom_June_w1',\n",
              " 'month_wom_June_w2',\n",
              " 'month_wom_June_w3',\n",
              " 'month_wom_June_w4',\n",
              " 'month_wom_June_w5',\n",
              " 'month_wom_March_w1',\n",
              " 'month_wom_March_w2',\n",
              " 'month_wom_March_w3',\n",
              " 'month_wom_March_w4',\n",
              " 'month_wom_March_w5',\n",
              " 'month_wom_May_w1',\n",
              " 'month_wom_May_w2',\n",
              " 'month_wom_May_w3',\n",
              " 'month_wom_May_w4',\n",
              " 'month_wom_May_w5',\n",
              " 'month_wom_November_w1',\n",
              " 'month_wom_November_w2',\n",
              " 'month_wom_November_w3',\n",
              " 'month_wom_November_w4',\n",
              " 'month_wom_November_w5',\n",
              " 'month_wom_October_w1',\n",
              " 'month_wom_October_w2',\n",
              " 'month_wom_October_w3',\n",
              " 'month_wom_October_w4',\n",
              " 'month_wom_October_w5',\n",
              " 'month_wom_September_w1',\n",
              " 'month_wom_September_w2',\n",
              " 'month_wom_September_w3',\n",
              " 'month_wom_September_w4',\n",
              " 'month_wom_September_w5']"
            ]
          },
          "execution_count": 33,
          "metadata": {},
          "output_type": "execute_result"
        }
      ],
      "source": [
        "# get dummies names in a list\n",
        "DUMMIES = dummy_variables.keys().to_list()\n",
        "DUMMIES"
      ]
    },
    {
      "cell_type": "code",
      "execution_count": 34,
      "metadata": {
        "colab": {
          "base_uri": "https://localhost:8080/"
        },
        "id": "6tOjmWbYZ4-R",
        "outputId": "b7c90c13-e737-413d-e668-a8708ceeacd8"
      },
      "outputs": [
        {
          "data": {
            "text/plain": [
              "115"
            ]
          },
          "execution_count": 34,
          "metadata": {},
          "output_type": "execute_result"
        }
      ],
      "source": [
        "len(DUMMIES)"
      ]
    },
    {
      "cell_type": "code",
      "execution_count": 35,
      "metadata": {
        "id": "ue-ErnKBZ6XZ"
      },
      "outputs": [],
      "source": [
        "# Concatenate the dummy variables with the original DataFrame\n",
        "df_with_dummies = pd.concat([df, dummy_variables], axis=1)"
      ]
    },
    {
      "cell_type": "code",
      "execution_count": 36,
      "metadata": {
        "colab": {
          "base_uri": "https://localhost:8080/"
        },
        "id": "eSYdvRh_Z8Kq",
        "outputId": "296f1de5-1643-4fd7-a13d-d96d96d0b0b2"
      },
      "outputs": [
        {
          "name": "stdout",
          "output_type": "stream",
          "text": [
            "<class 'pandas.core.frame.DataFrame'>\n",
            "Index: 182675 entries, 3490 to 5426\n",
            "Columns: 299 entries, growth_1d to month_wom_September_w5\n",
            "dtypes: float64(121), int32(177), int64(1)\n",
            "memory usage: 294.8 MB\n"
          ]
        }
      ],
      "source": [
        "df_with_dummies[NUMERICAL+DUMMIES].info()"
      ]
    },
    {
      "cell_type": "markdown",
      "metadata": {
        "id": "P5Yx6gCfZP0A"
      },
      "source": [
        "### 0.2.3 Define \"DUMMIES_SHORT\""
      ]
    },
    {
      "cell_type": "code",
      "execution_count": 37,
      "metadata": {
        "colab": {
          "base_uri": "https://localhost:8080/"
        },
        "id": "csXwAWouZWJE",
        "outputId": "f4c1d943-ed71-406e-e25c-e98239930af4"
      },
      "outputs": [
        {
          "data": {
            "text/plain": [
              "['Month_April',\n",
              " 'Month_August',\n",
              " 'Month_December',\n",
              " 'Month_February',\n",
              " 'Month_January',\n",
              " 'Month_July',\n",
              " 'Month_June',\n",
              " 'Month_March',\n",
              " 'Month_May',\n",
              " 'Month_November',\n",
              " 'Month_October',\n",
              " 'Month_September',\n",
              " 'Weekday_0',\n",
              " 'Weekday_1',\n",
              " 'Weekday_2',\n",
              " 'Weekday_3',\n",
              " 'Weekday_4',\n",
              " 'Weekday_5',\n",
              " 'Weekday_6',\n",
              " 'ticker_type_EU',\n",
              " 'ticker_type_INDIA',\n",
              " 'ticker_type_US']"
            ]
          },
          "execution_count": 37,
          "metadata": {},
          "output_type": "execute_result"
        }
      ],
      "source": [
        "# TODO HA4 Q2: Define DUMMIES_SHORT from DUMMIES -- all elements: without month_* and Ticker_*\n",
        "DUMMIES_SHORT=[]\n",
        "DUMMIES_SHORT = [col for col in DUMMIES if not (col.startswith('month_') or col.startswith('Ticker'))]\n",
        "DUMMIES_SHORT"
      ]
    },
    {
      "cell_type": "code",
      "execution_count": 38,
      "metadata": {
        "colab": {
          "base_uri": "https://localhost:8080/"
        },
        "id": "lVK6iJMcdAQX",
        "outputId": "f1a3b2fd-8064-4e02-bda8-fee829c868ad"
      },
      "outputs": [
        {
          "name": "stdout",
          "output_type": "stream",
          "text": [
            "<class 'pandas.core.frame.DataFrame'>\n",
            "Index: 182675 entries, 3490 to 5426\n",
            "Columns: 206 entries, growth_1d to ticker_type_US\n",
            "dtypes: float64(121), int32(84), int64(1)\n",
            "memory usage: 230.0 MB\n"
          ]
        }
      ],
      "source": [
        "# now check the size of the dataset\n",
        "df_with_dummies[NUMERICAL+DUMMIES_SHORT].info()"
      ]
    },
    {
      "cell_type": "markdown",
      "metadata": {
        "id": "4PlNTgNRZqKE"
      },
      "source": [
        "### 0.2.4) Temporal split"
      ]
    },
    {
      "cell_type": "code",
      "execution_count": 39,
      "metadata": {
        "id": "JgKjTey_Ztao"
      },
      "outputs": [],
      "source": [
        "def temporal_split(df, min_date, max_date, train_prop=0.7, val_prop=0.15, test_prop=0.15):\n",
        "    \"\"\"\n",
        "    Splits a DataFrame into three buckets based on the temporal order of the 'Date' column.\n",
        "\n",
        "    Args:\n",
        "        df (DataFrame): The DataFrame to split.\n",
        "        min_date (str or Timestamp): Minimum date in the DataFrame.\n",
        "        max_date (str or Timestamp): Maximum date in the DataFrame.\n",
        "        train_prop (float): Proportion of data for training set (default: 0.7).\n",
        "        val_prop (float): Proportion of data for validation set (default: 0.15).\n",
        "        test_prop (float): Proportion of data for test set (default: 0.15).\n",
        "\n",
        "    Returns:\n",
        "        DataFrame: The input DataFrame with a new column 'split' indicating the split for each row.\n",
        "    \"\"\"\n",
        "    # Define the date intervals\n",
        "    train_end = min_date + pd.Timedelta(days=(max_date - min_date).days * train_prop)\n",
        "    val_end = train_end + pd.Timedelta(days=(max_date - min_date).days * val_prop)\n",
        "\n",
        "    # Assign split labels based on date ranges\n",
        "    split_labels = []\n",
        "    for date in df['Date']:\n",
        "        if date <= train_end:\n",
        "            split_labels.append('train')\n",
        "        elif date <= val_end:\n",
        "            split_labels.append('validation')\n",
        "        else:\n",
        "            split_labels.append('test')\n",
        "\n",
        "    # Add 'split' column to the DataFrame\n",
        "    df['split'] = split_labels\n",
        "\n",
        "    return df"
      ]
    },
    {
      "cell_type": "code",
      "execution_count": 40,
      "metadata": {
        "id": "uxEHgYXSZyQr"
      },
      "outputs": [],
      "source": [
        "min_date_df = df_with_dummies.Date.min()\n",
        "max_date_df = df_with_dummies.Date.max()\n",
        "\n",
        "df_with_dummies = temporal_split(df_with_dummies,\n",
        "                                 min_date = min_date_df,\n",
        "                                 max_date = max_date_df)"
      ]
    },
    {
      "cell_type": "code",
      "execution_count": 41,
      "metadata": {
        "colab": {
          "base_uri": "https://localhost:8080/"
        },
        "id": "Tr-hylcUcxrp",
        "outputId": "76a94aad-db4b-49c5-9b0d-cdd74c415c05"
      },
      "outputs": [
        {
          "data": {
            "text/plain": [
              "split\n",
              "train         0.675834\n",
              "test          0.163290\n",
              "validation    0.160876\n",
              "Name: count, dtype: float64"
            ]
          },
          "execution_count": 41,
          "metadata": {},
          "output_type": "execute_result"
        }
      ],
      "source": [
        "# the split is approximate!\n",
        "  # as tickers can have a different history\n",
        "df_with_dummies['split'].value_counts()/len(df_with_dummies)"
      ]
    },
    {
      "cell_type": "code",
      "execution_count": 42,
      "metadata": {
        "id": "Y4cIgjawcx5J"
      },
      "outputs": [],
      "source": [
        "# remove the \"segmentation\" problem (warning message on df performance after many joins and data transformations)\n",
        "new_df = df_with_dummies.copy()"
      ]
    },
    {
      "cell_type": "code",
      "execution_count": 43,
      "metadata": {
        "colab": {
          "base_uri": "https://localhost:8080/",
          "height": 244
        },
        "id": "0Q7X54t2dXAY",
        "outputId": "5ef158cf-8ac9-47c9-b5b3-f7412b6f247a"
      },
      "outputs": [
        {
          "data": {
            "text/html": [
              "<div>\n",
              "<style scoped>\n",
              "    .dataframe tbody tr th:only-of-type {\n",
              "        vertical-align: middle;\n",
              "    }\n",
              "\n",
              "    .dataframe tbody tr th {\n",
              "        vertical-align: top;\n",
              "    }\n",
              "\n",
              "    .dataframe thead th {\n",
              "        text-align: right;\n",
              "    }\n",
              "</style>\n",
              "<table border=\"1\" class=\"dataframe\">\n",
              "  <thead>\n",
              "    <tr style=\"text-align: right;\">\n",
              "      <th></th>\n",
              "      <th>max</th>\n",
              "      <th>count</th>\n",
              "      <th>min</th>\n",
              "    </tr>\n",
              "    <tr>\n",
              "      <th>split</th>\n",
              "      <th></th>\n",
              "      <th></th>\n",
              "      <th></th>\n",
              "    </tr>\n",
              "  </thead>\n",
              "  <tbody>\n",
              "    <tr>\n",
              "      <th>test</th>\n",
              "      <td>2024-05-07</td>\n",
              "      <td>29829</td>\n",
              "      <td>2020-09-14</td>\n",
              "    </tr>\n",
              "    <tr>\n",
              "      <th>train</th>\n",
              "      <td>2017-01-16</td>\n",
              "      <td>123458</td>\n",
              "      <td>2000-01-03</td>\n",
              "    </tr>\n",
              "    <tr>\n",
              "      <th>validation</th>\n",
              "      <td>2020-09-11</td>\n",
              "      <td>29388</td>\n",
              "      <td>2017-01-17</td>\n",
              "    </tr>\n",
              "  </tbody>\n",
              "</table>\n",
              "</div>"
            ],
            "text/plain": [
              "                  max   count        min\n",
              "split                                   \n",
              "test       2024-05-07   29829 2020-09-14\n",
              "train      2017-01-16  123458 2000-01-03\n",
              "validation 2020-09-11   29388 2017-01-17"
            ]
          },
          "execution_count": 43,
          "metadata": {},
          "output_type": "execute_result"
        }
      ],
      "source": [
        "# EXACT DATES for the split:\n",
        "# time split on train/validation/test: FIXED dates of split, approx. 70%, 15%, 15% split\n",
        "new_df.groupby(['split'])['Date'].agg({'min','max','count'})"
      ]
    },
    {
      "cell_type": "code",
      "execution_count": 44,
      "metadata": {
        "colab": {
          "base_uri": "https://localhost:8080/"
        },
        "id": "p4i13Gt6fRxn",
        "outputId": "37a285fd-2914-4764-e623-4241ed0f9d1a"
      },
      "outputs": [
        {
          "name": "stdout",
          "output_type": "stream",
          "text": [
            "<class 'pandas.core.frame.DataFrame'>\n",
            "Index: 182675 entries, 3490 to 5426\n",
            "Columns: 320 entries, Open to split\n",
            "dtypes: datetime64[ns](2), float64(129), int32(178), int64(5), object(6)\n",
            "memory usage: 323.3+ MB\n"
          ]
        }
      ],
      "source": [
        "# Full dataframe (transformed and truncated to 25 years)\n",
        "new_df.info()"
      ]
    },
    {
      "cell_type": "code",
      "execution_count": 45,
      "metadata": {
        "colab": {
          "base_uri": "https://localhost:8080/",
          "height": 146
        },
        "id": "iJDIOFfNfVlx",
        "outputId": "f1303d13-ecd8-402f-8dd0-4704f591d400"
      },
      "outputs": [
        {
          "data": {
            "text/html": [
              "<div>\n",
              "<style scoped>\n",
              "    .dataframe tbody tr th:only-of-type {\n",
              "        vertical-align: middle;\n",
              "    }\n",
              "\n",
              "    .dataframe tbody tr th {\n",
              "        vertical-align: top;\n",
              "    }\n",
              "\n",
              "    .dataframe thead th {\n",
              "        text-align: right;\n",
              "    }\n",
              "</style>\n",
              "<table border=\"1\" class=\"dataframe\">\n",
              "  <thead>\n",
              "    <tr style=\"text-align: right;\">\n",
              "      <th></th>\n",
              "      <th>Open</th>\n",
              "      <th>High</th>\n",
              "      <th>Low</th>\n",
              "      <th>Close</th>\n",
              "      <th>Adj Close_x</th>\n",
              "      <th>Volume</th>\n",
              "      <th>Ticker</th>\n",
              "      <th>Year</th>\n",
              "      <th>Month</th>\n",
              "      <th>Weekday</th>\n",
              "      <th>...</th>\n",
              "      <th>month_wom_October_w2</th>\n",
              "      <th>month_wom_October_w3</th>\n",
              "      <th>month_wom_October_w4</th>\n",
              "      <th>month_wom_October_w5</th>\n",
              "      <th>month_wom_September_w1</th>\n",
              "      <th>month_wom_September_w2</th>\n",
              "      <th>month_wom_September_w3</th>\n",
              "      <th>month_wom_September_w4</th>\n",
              "      <th>month_wom_September_w5</th>\n",
              "      <th>split</th>\n",
              "    </tr>\n",
              "  </thead>\n",
              "  <tbody>\n",
              "    <tr>\n",
              "      <th>3490</th>\n",
              "      <td>58.6875</td>\n",
              "      <td>59.3125</td>\n",
              "      <td>56.0</td>\n",
              "      <td>58.28125</td>\n",
              "      <td>36.065567</td>\n",
              "      <td>53228400.0</td>\n",
              "      <td>MSFT</td>\n",
              "      <td>2000</td>\n",
              "      <td>January</td>\n",
              "      <td>0</td>\n",
              "      <td>...</td>\n",
              "      <td>0</td>\n",
              "      <td>0</td>\n",
              "      <td>0</td>\n",
              "      <td>0</td>\n",
              "      <td>0</td>\n",
              "      <td>0</td>\n",
              "      <td>0</td>\n",
              "      <td>0</td>\n",
              "      <td>0</td>\n",
              "      <td>train</td>\n",
              "    </tr>\n",
              "  </tbody>\n",
              "</table>\n",
              "<p>1 rows × 320 columns</p>\n",
              "</div>"
            ],
            "text/plain": [
              "         Open     High   Low     Close  Adj Close_x      Volume Ticker  Year  \\\n",
              "3490  58.6875  59.3125  56.0  58.28125    36.065567  53228400.0   MSFT  2000   \n",
              "\n",
              "        Month Weekday  ... month_wom_October_w2  month_wom_October_w3  \\\n",
              "3490  January       0  ...                    0                     0   \n",
              "\n",
              "      month_wom_October_w4  month_wom_October_w5  month_wom_September_w1  \\\n",
              "3490                     0                     0                       0   \n",
              "\n",
              "      month_wom_September_w2  month_wom_September_w3  month_wom_September_w4  \\\n",
              "3490                       0                       0                       0   \n",
              "\n",
              "      month_wom_September_w5  split  \n",
              "3490                       0  train  \n",
              "\n",
              "[1 rows x 320 columns]"
            ]
          },
          "execution_count": 45,
          "metadata": {},
          "output_type": "execute_result"
        }
      ],
      "source": [
        "# check one record: it has abs. values, text, and numbers\n",
        "new_df.head(1)"
      ]
    },
    {
      "cell_type": "code",
      "execution_count": 46,
      "metadata": {
        "colab": {
          "base_uri": "https://localhost:8080/",
          "height": 100
        },
        "id": "DxhUdHUgfY11",
        "outputId": "ae781fea-a555-4359-df37-4711a3b661a5"
      },
      "outputs": [
        {
          "data": {
            "text/html": [
              "<div>\n",
              "<style scoped>\n",
              "    .dataframe tbody tr th:only-of-type {\n",
              "        vertical-align: middle;\n",
              "    }\n",
              "\n",
              "    .dataframe tbody tr th {\n",
              "        vertical-align: top;\n",
              "    }\n",
              "\n",
              "    .dataframe thead th {\n",
              "        text-align: right;\n",
              "    }\n",
              "</style>\n",
              "<table border=\"1\" class=\"dataframe\">\n",
              "  <thead>\n",
              "    <tr style=\"text-align: right;\">\n",
              "      <th></th>\n",
              "      <th>growth_future_5d</th>\n",
              "      <th>is_positive_growth_5d_future</th>\n",
              "    </tr>\n",
              "  </thead>\n",
              "  <tbody>\n",
              "    <tr>\n",
              "      <th>3490</th>\n",
              "      <td>0.963003</td>\n",
              "      <td>0</td>\n",
              "    </tr>\n",
              "  </tbody>\n",
              "</table>\n",
              "</div>"
            ],
            "text/plain": [
              "      growth_future_5d  is_positive_growth_5d_future\n",
              "3490          0.963003                             0"
            ]
          },
          "execution_count": 46,
          "metadata": {},
          "output_type": "execute_result"
        }
      ],
      "source": [
        "# what do we try to predict\n",
        "new_df[TO_PREDICT].head(1)"
      ]
    },
    {
      "cell_type": "markdown",
      "metadata": {
        "id": "iCOKbMCweoCo"
      },
      "source": [
        "### 0.2.5 Define dataframes for Modeling (ML) and cleane them"
      ]
    },
    {
      "cell_type": "code",
      "execution_count": 47,
      "metadata": {
        "colab": {
          "base_uri": "https://localhost:8080/"
        },
        "id": "ORY8KtcrNS0K",
        "outputId": "043a047c-2a44-4e53-d761-33c30af0cb3a"
      },
      "outputs": [
        {
          "name": "stdout",
          "output_type": "stream",
          "text": [
            "length: X_train (123458, 207),  X_validation (29388, 207), X_test (29829, 207), X_train_valid = (152846, 207),  all combined: X_all (182675, 207)\n"
          ]
        }
      ],
      "source": [
        "# Features to be used in predictions (incl. new dummies)\n",
        "\n",
        "# TODO HA4 Q2: use correct dummies here : DUMMIES_SHOR\n",
        "\n",
        "#features_list = NUMERICAL+DUMMIES\n",
        "features_list = NUMERICAL+DUMMIES_SHORT\n",
        "\n",
        "# What we're trying to predict?\n",
        "\n",
        "# TODO HA4 Q3: use correct feature to predict 'is_strong_positive_growth_5d_future'\n",
        "\n",
        "to_predict = 'is_positive_growth_5d_future'\n",
        "\n",
        "train_df = new_df[new_df.split.isin(['train'])].copy(deep=True)\n",
        "valid_df = new_df[new_df.split.isin(['validation'])].copy(deep=True)\n",
        "train_valid_df = new_df[new_df.split.isin(['train','validation'])].copy(deep=True)\n",
        "\n",
        "test_df =  new_df[new_df.split.isin(['test'])].copy(deep=True)\n",
        "\n",
        "# ONLY numerical Separate features and target variable for training and testing sets\n",
        "X_train = train_df[features_list+[to_predict]]\n",
        "X_valid = valid_df[features_list+[to_predict]]\n",
        "\n",
        "X_train_valid = train_valid_df[features_list+[to_predict]]\n",
        "\n",
        "X_test = test_df[features_list+[to_predict]]\n",
        "\n",
        "# this to be used for predictions and join to the original dataframe new_df\n",
        "X_all =  new_df[features_list+[to_predict]].copy(deep=True)\n",
        "\n",
        "print(f'length: X_train {X_train.shape},  X_validation {X_valid.shape}, X_test {X_test.shape}, X_train_valid = {X_train_valid.shape},  all combined: X_all {X_all.shape}')"
      ]
    },
    {
      "cell_type": "code",
      "execution_count": 48,
      "metadata": {
        "id": "VhpEOSemftan"
      },
      "outputs": [],
      "source": [
        "# Prepare a dataframe for ML:\n",
        "  # +-inf to NaN, all NaNs to 0s\n",
        "def clean_dataframe_from_inf_and_nan(df:pd.DataFrame):\n",
        "  df.replace([np.inf, -np.inf], np.nan, inplace=True)\n",
        "  df.fillna(0, inplace=True)\n",
        "  return df"
      ]
    },
    {
      "cell_type": "code",
      "execution_count": 49,
      "metadata": {
        "id": "V1l1jTnWf5BR"
      },
      "outputs": [],
      "source": [
        "# Clean from +-inf and NaNs:\n",
        "\n",
        "X_train = clean_dataframe_from_inf_and_nan(X_train)\n",
        "X_valid = clean_dataframe_from_inf_and_nan(X_valid)\n",
        "X_train_valid = clean_dataframe_from_inf_and_nan(X_train_valid)\n",
        "X_test = clean_dataframe_from_inf_and_nan(X_test)\n",
        "X_all = clean_dataframe_from_inf_and_nan(X_all)"
      ]
    },
    {
      "cell_type": "code",
      "execution_count": 50,
      "metadata": {
        "id": "Gyise-_BgGIr"
      },
      "outputs": [],
      "source": [
        "y_train = X_train[to_predict]\n",
        "\n",
        "y_valid = X_valid[to_predict]\n",
        "\n",
        "y_train_valid = X_train_valid[to_predict]\n",
        "y_test = X_test[to_predict]\n",
        "y_all =  X_all[to_predict]\n",
        "\n",
        "# remove y_train, y_test from X_ dataframes\n",
        "del X_train[to_predict]\n",
        "del X_valid[to_predict]\n",
        "del X_train_valid[to_predict]\n",
        "\n",
        "del X_test[to_predict]\n",
        "\n",
        "del X_all[to_predict]"
      ]
    },
    {
      "cell_type": "markdown",
      "metadata": {
        "id": "kkKt7sJYdNF2"
      },
      "source": [
        "# 1) Modeling"
      ]
    },
    {
      "cell_type": "markdown",
      "metadata": {
        "id": "Dlhxz3d4djgT"
      },
      "source": [
        "## 1.1) Manual 'rule of thumb' predictions\n",
        "* (pred0) CCI>200 (binary, on technical indicator CCI)\n",
        "* (pred1) growth_1d>1\n",
        "* (pred2) (growth_1d>1) & (growth_snp500_1d>1)\n",
        "* (pred3) (gdppot_us_yoy <= 0.027) & (fastd >= 0.251)\n",
        "* (pred4) (gdppot_us_yoy >= 0.027) & (growth_wti_oil_30d <= 1.005)"
      ]
    },
    {
      "cell_type": "code",
      "execution_count": 51,
      "metadata": {
        "id": "PQrCT7xldUdf"
      },
      "outputs": [],
      "source": [
        "# generate manual predictions\n",
        "# Let's label all prediction features with prefix \"pred\"\n",
        "new_df['pred0_manual_cci'] = (new_df.cci>200).astype(int)\n",
        "new_df['pred1_manual_prev_g1'] = (new_df.growth_1d>1).astype(int)\n",
        "new_df['pred2_manual_prev_g1_and_snp'] = ((new_df['growth_1d'] > 1) & (new_df['growth_snp500_1d'] > 1)).astype(int)\n",
        "new_df['pred3_manual_gdp_and_fastd'] = ((new_df['gdppot_us_yoy'] <= 0.027) & (new_df['fastd'] >=0.251)).astype(int)\n",
        "new_df['pred4_manual_gdp_and_wti30d'] = ((new_df['gdppot_us_yoy'] >= 0.027) & (new_df['growth_wti_oil_30d'] <= 1.005)).astype(int)"
      ]
    },
    {
      "cell_type": "code",
      "execution_count": 52,
      "metadata": {
        "colab": {
          "base_uri": "https://localhost:8080/",
          "height": 439
        },
        "id": "3tD9asrDkC3m",
        "outputId": "93dc0b05-97a5-46cf-dc05-7784c82347d9"
      },
      "outputs": [
        {
          "data": {
            "text/html": [
              "<div>\n",
              "<style scoped>\n",
              "    .dataframe tbody tr th:only-of-type {\n",
              "        vertical-align: middle;\n",
              "    }\n",
              "\n",
              "    .dataframe tbody tr th {\n",
              "        vertical-align: top;\n",
              "    }\n",
              "\n",
              "    .dataframe thead th {\n",
              "        text-align: right;\n",
              "    }\n",
              "</style>\n",
              "<table border=\"1\" class=\"dataframe\">\n",
              "  <thead>\n",
              "    <tr style=\"text-align: right;\">\n",
              "      <th></th>\n",
              "      <th>cci</th>\n",
              "      <th>growth_1d</th>\n",
              "      <th>growth_snp500_1d</th>\n",
              "      <th>pred0_manual_cci</th>\n",
              "      <th>pred1_manual_prev_g1</th>\n",
              "      <th>pred2_manual_prev_g1_and_snp</th>\n",
              "      <th>pred3_manual_gdp_and_fastd</th>\n",
              "      <th>pred4_manual_gdp_and_wti30d</th>\n",
              "      <th>is_positive_growth_5d_future</th>\n",
              "    </tr>\n",
              "  </thead>\n",
              "  <tbody>\n",
              "    <tr>\n",
              "      <th>3490</th>\n",
              "      <td>26.847237</td>\n",
              "      <td>0.998394</td>\n",
              "      <td>0.990451</td>\n",
              "      <td>0</td>\n",
              "      <td>0</td>\n",
              "      <td>0</td>\n",
              "      <td>0</td>\n",
              "      <td>0</td>\n",
              "      <td>0</td>\n",
              "    </tr>\n",
              "    <tr>\n",
              "      <th>3491</th>\n",
              "      <td>-34.319663</td>\n",
              "      <td>0.966220</td>\n",
              "      <td>0.961655</td>\n",
              "      <td>0</td>\n",
              "      <td>0</td>\n",
              "      <td>0</td>\n",
              "      <td>0</td>\n",
              "      <td>0</td>\n",
              "      <td>0</td>\n",
              "    </tr>\n",
              "    <tr>\n",
              "      <th>3492</th>\n",
              "      <td>-97.318008</td>\n",
              "      <td>1.010544</td>\n",
              "      <td>1.001922</td>\n",
              "      <td>0</td>\n",
              "      <td>1</td>\n",
              "      <td>1</td>\n",
              "      <td>0</td>\n",
              "      <td>0</td>\n",
              "      <td>0</td>\n",
              "    </tr>\n",
              "    <tr>\n",
              "      <th>3493</th>\n",
              "      <td>-169.947507</td>\n",
              "      <td>0.966502</td>\n",
              "      <td>1.000956</td>\n",
              "      <td>0</td>\n",
              "      <td>0</td>\n",
              "      <td>0</td>\n",
              "      <td>0</td>\n",
              "      <td>0</td>\n",
              "      <td>0</td>\n",
              "    </tr>\n",
              "    <tr>\n",
              "      <th>3494</th>\n",
              "      <td>-142.142685</td>\n",
              "      <td>1.013068</td>\n",
              "      <td>1.027090</td>\n",
              "      <td>0</td>\n",
              "      <td>1</td>\n",
              "      <td>1</td>\n",
              "      <td>0</td>\n",
              "      <td>0</td>\n",
              "      <td>1</td>\n",
              "    </tr>\n",
              "    <tr>\n",
              "      <th>...</th>\n",
              "      <td>...</td>\n",
              "      <td>...</td>\n",
              "      <td>...</td>\n",
              "      <td>...</td>\n",
              "      <td>...</td>\n",
              "      <td>...</td>\n",
              "      <td>...</td>\n",
              "      <td>...</td>\n",
              "      <td>...</td>\n",
              "    </tr>\n",
              "    <tr>\n",
              "      <th>5422</th>\n",
              "      <td>-29.424989</td>\n",
              "      <td>0.988994</td>\n",
              "      <td>0.984269</td>\n",
              "      <td>0</td>\n",
              "      <td>0</td>\n",
              "      <td>0</td>\n",
              "      <td>1</td>\n",
              "      <td>0</td>\n",
              "      <td>0</td>\n",
              "    </tr>\n",
              "    <tr>\n",
              "      <th>5423</th>\n",
              "      <td>-26.657181</td>\n",
              "      <td>1.001447</td>\n",
              "      <td>1.009128</td>\n",
              "      <td>0</td>\n",
              "      <td>1</td>\n",
              "      <td>1</td>\n",
              "      <td>1</td>\n",
              "      <td>0</td>\n",
              "      <td>0</td>\n",
              "    </tr>\n",
              "    <tr>\n",
              "      <th>5424</th>\n",
              "      <td>-123.785473</td>\n",
              "      <td>0.972302</td>\n",
              "      <td>1.012557</td>\n",
              "      <td>0</td>\n",
              "      <td>0</td>\n",
              "      <td>0</td>\n",
              "      <td>1</td>\n",
              "      <td>0</td>\n",
              "      <td>0</td>\n",
              "    </tr>\n",
              "    <tr>\n",
              "      <th>5425</th>\n",
              "      <td>-181.986224</td>\n",
              "      <td>0.989571</td>\n",
              "      <td>1.010326</td>\n",
              "      <td>0</td>\n",
              "      <td>0</td>\n",
              "      <td>0</td>\n",
              "      <td>1</td>\n",
              "      <td>0</td>\n",
              "      <td>0</td>\n",
              "    </tr>\n",
              "    <tr>\n",
              "      <th>5426</th>\n",
              "      <td>-169.406977</td>\n",
              "      <td>0.989735</td>\n",
              "      <td>1.001343</td>\n",
              "      <td>0</td>\n",
              "      <td>0</td>\n",
              "      <td>0</td>\n",
              "      <td>1</td>\n",
              "      <td>0</td>\n",
              "      <td>0</td>\n",
              "    </tr>\n",
              "  </tbody>\n",
              "</table>\n",
              "<p>182675 rows × 9 columns</p>\n",
              "</div>"
            ],
            "text/plain": [
              "             cci  growth_1d  growth_snp500_1d  pred0_manual_cci  \\\n",
              "3490   26.847237   0.998394          0.990451                 0   \n",
              "3491  -34.319663   0.966220          0.961655                 0   \n",
              "3492  -97.318008   1.010544          1.001922                 0   \n",
              "3493 -169.947507   0.966502          1.000956                 0   \n",
              "3494 -142.142685   1.013068          1.027090                 0   \n",
              "...          ...        ...               ...               ...   \n",
              "5422  -29.424989   0.988994          0.984269                 0   \n",
              "5423  -26.657181   1.001447          1.009128                 0   \n",
              "5424 -123.785473   0.972302          1.012557                 0   \n",
              "5425 -181.986224   0.989571          1.010326                 0   \n",
              "5426 -169.406977   0.989735          1.001343                 0   \n",
              "\n",
              "      pred1_manual_prev_g1  pred2_manual_prev_g1_and_snp  \\\n",
              "3490                     0                             0   \n",
              "3491                     0                             0   \n",
              "3492                     1                             1   \n",
              "3493                     0                             0   \n",
              "3494                     1                             1   \n",
              "...                    ...                           ...   \n",
              "5422                     0                             0   \n",
              "5423                     1                             1   \n",
              "5424                     0                             0   \n",
              "5425                     0                             0   \n",
              "5426                     0                             0   \n",
              "\n",
              "      pred3_manual_gdp_and_fastd  pred4_manual_gdp_and_wti30d  \\\n",
              "3490                           0                            0   \n",
              "3491                           0                            0   \n",
              "3492                           0                            0   \n",
              "3493                           0                            0   \n",
              "3494                           0                            0   \n",
              "...                          ...                          ...   \n",
              "5422                           1                            0   \n",
              "5423                           1                            0   \n",
              "5424                           1                            0   \n",
              "5425                           1                            0   \n",
              "5426                           1                            0   \n",
              "\n",
              "      is_positive_growth_5d_future  \n",
              "3490                             0  \n",
              "3491                             0  \n",
              "3492                             0  \n",
              "3493                             0  \n",
              "3494                             1  \n",
              "...                            ...  \n",
              "5422                             0  \n",
              "5423                             0  \n",
              "5424                             0  \n",
              "5425                             0  \n",
              "5426                             0  \n",
              "\n",
              "[182675 rows x 9 columns]"
            ]
          },
          "execution_count": 52,
          "metadata": {},
          "output_type": "execute_result"
        }
      ],
      "source": [
        "# example output manual predictions:\n",
        "new_df[['cci','growth_1d','growth_snp500_1d','pred0_manual_cci','pred1_manual_prev_g1','pred2_manual_prev_g1_and_snp','pred3_manual_gdp_and_fastd','pred4_manual_gdp_and_wti30d', to_predict]]"
      ]
    },
    {
      "cell_type": "code",
      "execution_count": 54,
      "metadata": {
        "id": "tn-AvNGVkIku"
      },
      "outputs": [],
      "source": [
        "# Function to find all predictions (starting from 'pred'), generate is_correct (correctness of each prediction)\n",
        "# and precision on TEST dataset (assuming there is df[\"split\"] column with values 'train','validation','test'\n",
        "\n",
        "# returns 2 lists of features: PREDICTIONS and IS_CORRECT\n",
        "\n",
        "def get_predictions_correctness(df:pd.DataFrame, to_predict:str):\n",
        "  PREDICTIONS = [k for k in df.keys() if k.startswith('pred')]\n",
        "  print(f'Prediction columns founded: {PREDICTIONS}')\n",
        "\n",
        "  # add columns is_correct_\n",
        "  for pred in PREDICTIONS:\n",
        "    part1 = pred.split('_')[0] # first prefix before '_'\n",
        "    df[f'is_correct_{part1}'] =  (new_df[pred] == new_df[to_predict]).astype(int)\n",
        "\n",
        "  # IS_CORRECT features set\n",
        "  IS_CORRECT =  [k for k in df.keys() if k.startswith('is_correct_')]\n",
        "  print(f'Created columns is_correct: {IS_CORRECT}')\n",
        "\n",
        "  print('Precision on TEST set for each prediction:')\n",
        "  # define \"Precision\" for ALL predictions on a Test dataset (~4 last years of trading)\n",
        "  for i,column in enumerate(IS_CORRECT):\n",
        "    prediction_column = PREDICTIONS[i]\n",
        "    is_correct_column = column\n",
        "    filter = (new_df.split=='test') & (new_df[prediction_column]==1)\n",
        "    print(f'Prediction column:{prediction_column} , is_correct_column: {is_correct_column}')\n",
        "    print(new_df[filter][is_correct_column].value_counts())\n",
        "    print(new_df[filter][is_correct_column].value_counts()/len(new_df[filter]))\n",
        "    print('---------')\n",
        "\n",
        "  return PREDICTIONS, IS_CORRECT"
      ]
    },
    {
      "cell_type": "code",
      "execution_count": 55,
      "metadata": {
        "colab": {
          "base_uri": "https://localhost:8080/"
        },
        "id": "nUW-bTFrkM_2",
        "outputId": "002d7490-11b3-465c-ea21-48b9a548f32e"
      },
      "outputs": [
        {
          "name": "stdout",
          "output_type": "stream",
          "text": [
            "Prediction columns founded: ['pred0_manual_cci', 'pred1_manual_prev_g1', 'pred2_manual_prev_g1_and_snp', 'pred3_manual_gdp_and_fastd', 'pred4_manual_gdp_and_wti30d']\n",
            "Created columns is_correct: ['is_correct_pred0', 'is_correct_pred1', 'is_correct_pred2', 'is_correct_pred3', 'is_correct_pred4']\n",
            "Precision on TEST set for each prediction:\n",
            "Prediction column:pred0_manual_cci , is_correct_column: is_correct_pred0\n",
            "is_correct_pred0\n",
            "1    455\n",
            "0    344\n",
            "Name: count, dtype: int64\n",
            "is_correct_pred0\n",
            "1    0.569462\n",
            "0    0.430538\n",
            "Name: count, dtype: float64\n",
            "---------\n",
            "Prediction column:pred1_manual_prev_g1 , is_correct_column: is_correct_pred1\n",
            "is_correct_pred1\n",
            "1    8621\n",
            "0    6980\n",
            "Name: count, dtype: int64\n",
            "is_correct_pred1\n",
            "1    0.552593\n",
            "0    0.447407\n",
            "Name: count, dtype: float64\n",
            "---------\n",
            "Prediction column:pred2_manual_prev_g1_and_snp , is_correct_column: is_correct_pred2\n",
            "is_correct_pred2\n",
            "1    5726\n",
            "0    4729\n",
            "Name: count, dtype: int64\n",
            "is_correct_pred2\n",
            "1    0.547681\n",
            "0    0.452319\n",
            "Name: count, dtype: float64\n",
            "---------\n",
            "Prediction column:pred3_manual_gdp_and_fastd , is_correct_column: is_correct_pred3\n",
            "is_correct_pred3\n",
            "1    16560\n",
            "0    13262\n",
            "Name: count, dtype: int64\n",
            "is_correct_pred3\n",
            "1    0.555295\n",
            "0    0.444705\n",
            "Name: count, dtype: float64\n",
            "---------\n",
            "Prediction column:pred4_manual_gdp_and_wti30d , is_correct_column: is_correct_pred4\n",
            "Series([], Name: count, dtype: int64)\n",
            "Series([], Name: count, dtype: float64)\n",
            "---------\n"
          ]
        }
      ],
      "source": [
        "PREDICTIONS, IS_CORRECT = get_predictions_correctness(df = new_df, to_predict = to_predict)"
      ]
    },
    {
      "cell_type": "code",
      "execution_count": 69,
      "metadata": {
        "id": "cVPexcpfkOW-"
      },
      "outputs": [],
      "source": [
        "# TODO HA4 Q1: run prediction correctness for 'is_positive_growth_5d_future' (should be lower)"
      ]
    },
    {
      "cell_type": "code",
      "execution_count": 56,
      "metadata": {
        "colab": {
          "base_uri": "https://localhost:8080/",
          "height": 439
        },
        "id": "bEsG68yfkn3B",
        "outputId": "d1bb7184-21fd-454f-a044-2ab99a4e9077"
      },
      "outputs": [
        {
          "data": {
            "text/html": [
              "<div>\n",
              "<style scoped>\n",
              "    .dataframe tbody tr th:only-of-type {\n",
              "        vertical-align: middle;\n",
              "    }\n",
              "\n",
              "    .dataframe tbody tr th {\n",
              "        vertical-align: top;\n",
              "    }\n",
              "\n",
              "    .dataframe thead th {\n",
              "        text-align: right;\n",
              "    }\n",
              "</style>\n",
              "<table border=\"1\" class=\"dataframe\">\n",
              "  <thead>\n",
              "    <tr style=\"text-align: right;\">\n",
              "      <th></th>\n",
              "      <th>pred0_manual_cci</th>\n",
              "      <th>pred1_manual_prev_g1</th>\n",
              "      <th>pred2_manual_prev_g1_and_snp</th>\n",
              "      <th>pred3_manual_gdp_and_fastd</th>\n",
              "      <th>pred4_manual_gdp_and_wti30d</th>\n",
              "      <th>is_correct_pred0</th>\n",
              "      <th>is_correct_pred1</th>\n",
              "      <th>is_correct_pred2</th>\n",
              "      <th>is_correct_pred3</th>\n",
              "      <th>is_correct_pred4</th>\n",
              "      <th>is_positive_growth_5d_future</th>\n",
              "    </tr>\n",
              "  </thead>\n",
              "  <tbody>\n",
              "    <tr>\n",
              "      <th>3490</th>\n",
              "      <td>0</td>\n",
              "      <td>0</td>\n",
              "      <td>0</td>\n",
              "      <td>0</td>\n",
              "      <td>0</td>\n",
              "      <td>1</td>\n",
              "      <td>1</td>\n",
              "      <td>1</td>\n",
              "      <td>1</td>\n",
              "      <td>1</td>\n",
              "      <td>0</td>\n",
              "    </tr>\n",
              "    <tr>\n",
              "      <th>3491</th>\n",
              "      <td>0</td>\n",
              "      <td>0</td>\n",
              "      <td>0</td>\n",
              "      <td>0</td>\n",
              "      <td>0</td>\n",
              "      <td>1</td>\n",
              "      <td>1</td>\n",
              "      <td>1</td>\n",
              "      <td>1</td>\n",
              "      <td>1</td>\n",
              "      <td>0</td>\n",
              "    </tr>\n",
              "    <tr>\n",
              "      <th>3492</th>\n",
              "      <td>0</td>\n",
              "      <td>1</td>\n",
              "      <td>1</td>\n",
              "      <td>0</td>\n",
              "      <td>0</td>\n",
              "      <td>1</td>\n",
              "      <td>0</td>\n",
              "      <td>0</td>\n",
              "      <td>1</td>\n",
              "      <td>1</td>\n",
              "      <td>0</td>\n",
              "    </tr>\n",
              "    <tr>\n",
              "      <th>3493</th>\n",
              "      <td>0</td>\n",
              "      <td>0</td>\n",
              "      <td>0</td>\n",
              "      <td>0</td>\n",
              "      <td>0</td>\n",
              "      <td>1</td>\n",
              "      <td>1</td>\n",
              "      <td>1</td>\n",
              "      <td>1</td>\n",
              "      <td>1</td>\n",
              "      <td>0</td>\n",
              "    </tr>\n",
              "    <tr>\n",
              "      <th>3494</th>\n",
              "      <td>0</td>\n",
              "      <td>1</td>\n",
              "      <td>1</td>\n",
              "      <td>0</td>\n",
              "      <td>0</td>\n",
              "      <td>0</td>\n",
              "      <td>1</td>\n",
              "      <td>1</td>\n",
              "      <td>0</td>\n",
              "      <td>0</td>\n",
              "      <td>1</td>\n",
              "    </tr>\n",
              "    <tr>\n",
              "      <th>...</th>\n",
              "      <td>...</td>\n",
              "      <td>...</td>\n",
              "      <td>...</td>\n",
              "      <td>...</td>\n",
              "      <td>...</td>\n",
              "      <td>...</td>\n",
              "      <td>...</td>\n",
              "      <td>...</td>\n",
              "      <td>...</td>\n",
              "      <td>...</td>\n",
              "      <td>...</td>\n",
              "    </tr>\n",
              "    <tr>\n",
              "      <th>5422</th>\n",
              "      <td>0</td>\n",
              "      <td>0</td>\n",
              "      <td>0</td>\n",
              "      <td>1</td>\n",
              "      <td>0</td>\n",
              "      <td>1</td>\n",
              "      <td>1</td>\n",
              "      <td>1</td>\n",
              "      <td>0</td>\n",
              "      <td>1</td>\n",
              "      <td>0</td>\n",
              "    </tr>\n",
              "    <tr>\n",
              "      <th>5423</th>\n",
              "      <td>0</td>\n",
              "      <td>1</td>\n",
              "      <td>1</td>\n",
              "      <td>1</td>\n",
              "      <td>0</td>\n",
              "      <td>1</td>\n",
              "      <td>0</td>\n",
              "      <td>0</td>\n",
              "      <td>0</td>\n",
              "      <td>1</td>\n",
              "      <td>0</td>\n",
              "    </tr>\n",
              "    <tr>\n",
              "      <th>5424</th>\n",
              "      <td>0</td>\n",
              "      <td>0</td>\n",
              "      <td>0</td>\n",
              "      <td>1</td>\n",
              "      <td>0</td>\n",
              "      <td>1</td>\n",
              "      <td>1</td>\n",
              "      <td>1</td>\n",
              "      <td>0</td>\n",
              "      <td>1</td>\n",
              "      <td>0</td>\n",
              "    </tr>\n",
              "    <tr>\n",
              "      <th>5425</th>\n",
              "      <td>0</td>\n",
              "      <td>0</td>\n",
              "      <td>0</td>\n",
              "      <td>1</td>\n",
              "      <td>0</td>\n",
              "      <td>1</td>\n",
              "      <td>1</td>\n",
              "      <td>1</td>\n",
              "      <td>0</td>\n",
              "      <td>1</td>\n",
              "      <td>0</td>\n",
              "    </tr>\n",
              "    <tr>\n",
              "      <th>5426</th>\n",
              "      <td>0</td>\n",
              "      <td>0</td>\n",
              "      <td>0</td>\n",
              "      <td>1</td>\n",
              "      <td>0</td>\n",
              "      <td>1</td>\n",
              "      <td>1</td>\n",
              "      <td>1</td>\n",
              "      <td>0</td>\n",
              "      <td>1</td>\n",
              "      <td>0</td>\n",
              "    </tr>\n",
              "  </tbody>\n",
              "</table>\n",
              "<p>182675 rows × 11 columns</p>\n",
              "</div>"
            ],
            "text/plain": [
              "      pred0_manual_cci  pred1_manual_prev_g1  pred2_manual_prev_g1_and_snp  \\\n",
              "3490                 0                     0                             0   \n",
              "3491                 0                     0                             0   \n",
              "3492                 0                     1                             1   \n",
              "3493                 0                     0                             0   \n",
              "3494                 0                     1                             1   \n",
              "...                ...                   ...                           ...   \n",
              "5422                 0                     0                             0   \n",
              "5423                 0                     1                             1   \n",
              "5424                 0                     0                             0   \n",
              "5425                 0                     0                             0   \n",
              "5426                 0                     0                             0   \n",
              "\n",
              "      pred3_manual_gdp_and_fastd  pred4_manual_gdp_and_wti30d  \\\n",
              "3490                           0                            0   \n",
              "3491                           0                            0   \n",
              "3492                           0                            0   \n",
              "3493                           0                            0   \n",
              "3494                           0                            0   \n",
              "...                          ...                          ...   \n",
              "5422                           1                            0   \n",
              "5423                           1                            0   \n",
              "5424                           1                            0   \n",
              "5425                           1                            0   \n",
              "5426                           1                            0   \n",
              "\n",
              "      is_correct_pred0  is_correct_pred1  is_correct_pred2  is_correct_pred3  \\\n",
              "3490                 1                 1                 1                 1   \n",
              "3491                 1                 1                 1                 1   \n",
              "3492                 1                 0                 0                 1   \n",
              "3493                 1                 1                 1                 1   \n",
              "3494                 0                 1                 1                 0   \n",
              "...                ...               ...               ...               ...   \n",
              "5422                 1                 1                 1                 0   \n",
              "5423                 1                 0                 0                 0   \n",
              "5424                 1                 1                 1                 0   \n",
              "5425                 1                 1                 1                 0   \n",
              "5426                 1                 1                 1                 0   \n",
              "\n",
              "      is_correct_pred4  is_positive_growth_5d_future  \n",
              "3490                 1                             0  \n",
              "3491                 1                             0  \n",
              "3492                 1                             0  \n",
              "3493                 1                             0  \n",
              "3494                 0                             1  \n",
              "...                ...                           ...  \n",
              "5422                 1                             0  \n",
              "5423                 1                             0  \n",
              "5424                 1                             0  \n",
              "5425                 1                             0  \n",
              "5426                 1                             0  \n",
              "\n",
              "[182675 rows x 11 columns]"
            ]
          },
          "execution_count": 56,
          "metadata": {},
          "output_type": "execute_result"
        }
      ],
      "source": [
        "new_df[PREDICTIONS+IS_CORRECT+[to_predict]]"
      ]
    },
    {
      "cell_type": "markdown",
      "metadata": {
        "id": "6Tu1COw6molo"
      },
      "source": [
        "## 1.2) Decision Tree Classifier"
      ]
    },
    {
      "cell_type": "markdown",
      "metadata": {
        "id": "jZ8TBnZUmsJ_"
      },
      "source": [
        "### 1.2.1) Defining Functions to clean_df(), fit_decision_tree(), predict_decision_tree()\n",
        "* here we discuss only the Decision Tree Classifier for binary predictions (and not the Regressor)"
      ]
    },
    {
      "cell_type": "code",
      "execution_count": 57,
      "metadata": {
        "id": "l8Uy1lFdm0R3"
      },
      "outputs": [],
      "source": [
        "# Estimation/fit function (using dataframe of features X and what to predict y) --> optimising total accuracy\n",
        "# max_depth is hyperParameter\n",
        "def fit_decision_tree(X, y, max_depth=20):\n",
        "# Initialize the Decision Tree Classifier\n",
        "  clf = DecisionTreeClassifier(max_depth=max_depth,\n",
        "                               random_state=42)\n",
        "\n",
        "  # Fit the classifier to the training data\n",
        "  clf.fit(X, y)\n",
        "  return clf, X.columns"
      ]
    },
    {
      "cell_type": "code",
      "execution_count": 58,
      "metadata": {
        "colab": {
          "base_uri": "https://localhost:8080/"
        },
        "id": "a96QEniNT35b",
        "outputId": "3a6013bc-baab-490a-a813-5e825f1c7cdf"
      },
      "outputs": [
        {
          "name": "stdout",
          "output_type": "stream",
          "text": [
            "CPU times: total: 15.9 s\n",
            "Wall time: 23.1 s\n"
          ]
        }
      ],
      "source": [
        "%%time\n",
        "clf_10, train_columns = fit_decision_tree(X=X_train_valid,\n",
        "                           y=y_train_valid,\n",
        "                           max_depth=10)"
      ]
    },
    {
      "cell_type": "code",
      "execution_count": 59,
      "metadata": {
        "id": "K0qzwSYcT5YM"
      },
      "outputs": [],
      "source": [
        "# predict on a full dataset\n",
        "y_pred_all = clf_10.predict(X_all)"
      ]
    },
    {
      "cell_type": "code",
      "execution_count": 60,
      "metadata": {
        "id": "lKBzCaXcT6OL"
      },
      "outputs": [],
      "source": [
        "# defining a new prediction vector is easy now, as the dimensions will match\n",
        "new_df['pred5_clf_10'] = y_pred_all"
      ]
    },
    {
      "cell_type": "code",
      "execution_count": 61,
      "metadata": {
        "colab": {
          "base_uri": "https://localhost:8080/"
        },
        "id": "8qNAlgbnT_f1",
        "outputId": "dc526c26-25ac-40fb-e791-acf27c934e03"
      },
      "outputs": [
        {
          "name": "stdout",
          "output_type": "stream",
          "text": [
            "Prediction columns founded: ['pred0_manual_cci', 'pred1_manual_prev_g1', 'pred2_manual_prev_g1_and_snp', 'pred3_manual_gdp_and_fastd', 'pred4_manual_gdp_and_wti30d', 'pred5_clf_10']\n",
            "Created columns is_correct: ['is_correct_pred0', 'is_correct_pred1', 'is_correct_pred2', 'is_correct_pred3', 'is_correct_pred4', 'is_correct_pred5']\n",
            "Precision on TEST set for each prediction:\n",
            "Prediction column:pred0_manual_cci , is_correct_column: is_correct_pred0\n",
            "is_correct_pred0\n",
            "1    455\n",
            "0    344\n",
            "Name: count, dtype: int64\n",
            "is_correct_pred0\n",
            "1    0.569462\n",
            "0    0.430538\n",
            "Name: count, dtype: float64\n",
            "---------\n",
            "Prediction column:pred1_manual_prev_g1 , is_correct_column: is_correct_pred1\n",
            "is_correct_pred1\n",
            "1    8621\n",
            "0    6980\n",
            "Name: count, dtype: int64\n",
            "is_correct_pred1\n",
            "1    0.552593\n",
            "0    0.447407\n",
            "Name: count, dtype: float64\n",
            "---------\n",
            "Prediction column:pred2_manual_prev_g1_and_snp , is_correct_column: is_correct_pred2\n",
            "is_correct_pred2\n",
            "1    5726\n",
            "0    4729\n",
            "Name: count, dtype: int64\n",
            "is_correct_pred2\n",
            "1    0.547681\n",
            "0    0.452319\n",
            "Name: count, dtype: float64\n",
            "---------\n",
            "Prediction column:pred3_manual_gdp_and_fastd , is_correct_column: is_correct_pred3\n",
            "is_correct_pred3\n",
            "1    16560\n",
            "0    13262\n",
            "Name: count, dtype: int64\n",
            "is_correct_pred3\n",
            "1    0.555295\n",
            "0    0.444705\n",
            "Name: count, dtype: float64\n",
            "---------\n",
            "Prediction column:pred4_manual_gdp_and_wti30d , is_correct_column: is_correct_pred4\n",
            "Series([], Name: count, dtype: int64)\n",
            "Series([], Name: count, dtype: float64)\n",
            "---------\n",
            "Prediction column:pred5_clf_10 , is_correct_column: is_correct_pred5\n",
            "is_correct_pred5\n",
            "1    14499\n",
            "0    11132\n",
            "Name: count, dtype: int64\n",
            "is_correct_pred5\n",
            "1    0.565682\n",
            "0    0.434318\n",
            "Name: count, dtype: float64\n",
            "---------\n"
          ]
        }
      ],
      "source": [
        "# new prediction is added --> need to recalculate the correctness\n",
        "PREDICTIONS, IS_CORRECT = get_predictions_correctness(df = new_df, to_predict=to_predict)"
      ]
    },
    {
      "cell_type": "markdown",
      "metadata": {
        "id": "_bkIObxfUKbg"
      },
      "source": [
        "## 1.2.3 Hyperparams tuning for a Decision Tree Classifier"
      ]
    },
    {
      "cell_type": "code",
      "execution_count": 62,
      "metadata": {
        "id": "Y436uzqFUOP8"
      },
      "outputs": [],
      "source": [
        "# visualisation: decision tree for a few levels (max_depth variable)\n",
        "from sklearn.tree import plot_tree\n",
        "import matplotlib.pyplot as plt\n",
        "\n",
        "# https://stackoverflow.com/questions/20156951/how-do-i-find-which-attributes-my-tree-splits-on-when-using-scikit-learn\n",
        "from sklearn.tree import export_text"
      ]
    },
    {
      "cell_type": "code",
      "execution_count": 63,
      "metadata": {
        "colab": {
          "base_uri": "https://localhost:8080/"
        },
        "id": "Mp2WfkxZghUl",
        "outputId": "af9e3150-6128-4534-95a7-3c42cfa72570"
      },
      "outputs": [
        {
          "name": "stdout",
          "output_type": "stream",
          "text": [
            "Working with a tree of a max depth= 1\n",
            "  Precision on test is 0.5551979617151095, (precision on valid is 0.5717299578059072 - tend to overfit)\n",
            "Working with a tree of a max depth= 2\n",
            "  Precision on test is 0.5552947488431359, (precision on valid is 0.5717299578059072 - tend to overfit)\n",
            "Working with a tree of a max depth= 3\n",
            "  Precision on test is 0.5551979617151095, (precision on valid is 0.5711741334429374 - tend to overfit)\n",
            "Working with a tree of a max depth= 4\n",
            "  Precision on test is 0.5552351895933215, (precision on valid is 0.5711741334429374 - tend to overfit)\n",
            "Working with a tree of a max depth= 5\n",
            "  Precision on test is 0.5554623258936063, (precision on valid is 0.5711741334429374 - tend to overfit)\n",
            "Working with a tree of a max depth= 6\n",
            "  Precision on test is 0.5711735485873952, (precision on valid is 0.5703184100130665 - tend to overfit)\n",
            "Working with a tree of a max depth= 7\n",
            "  Precision on test is 0.5683933475740006, (precision on valid is 0.5719782090568607 - tend to overfit)\n",
            "Working with a tree of a max depth= 8\n",
            "  Precision on test is 0.5683933475740006, (precision on valid is 0.5762592956363126 - tend to overfit)\n",
            "Working with a tree of a max depth= 9\n",
            "  Precision on test is 0.5695068988047196, (precision on valid is 0.5765582422131006 - tend to overfit)\n",
            "Working with a tree of a max depth= 10\n",
            "  Precision on test is 0.5656821817330576, (precision on valid is 0.5846243152051663 - tend to overfit)\n",
            "Working with a tree of a max depth= 11\n",
            "  Precision on test is 0.5731367436842578, (precision on valid is 0.6017978052766753 - tend to overfit)\n",
            "Working with a tree of a max depth= 12\n",
            "  Precision on test is 0.5723339369103212, (precision on valid is 0.6139757899701305 - tend to overfit)\n",
            "Working with a tree of a max depth= 13\n",
            "  Precision on test is 0.5716141001855287, (precision on valid is 0.6176655655183263 - tend to overfit)\n",
            "Working with a tree of a max depth= 14\n",
            "  Precision on test is 0.5833766834287035, (precision on valid is 0.6436943685555654 - tend to overfit)\n",
            "Working with a tree of a max depth= 15\n",
            "  Precision on test is 0.5812902274848917, (precision on valid is 0.6630277583391649 - tend to overfit)\n",
            "Working with a tree of a max depth= 16\n",
            "  Precision on test is 0.5662638469284995, (precision on valid is 0.6736961967661125 - tend to overfit)\n",
            "Working with a tree of a max depth= 17\n",
            "  Precision on test is 0.560545734458778, (precision on valid is 0.7035284642875119 - tend to overfit)\n",
            "Working with a tree of a max depth= 18\n",
            "  Precision on test is 0.5626150016235524, (precision on valid is 0.7039205336148567 - tend to overfit)\n",
            "Working with a tree of a max depth= 19\n",
            "  Precision on test is 0.5700144857556736, (precision on valid is 0.7234531670335045 - tend to overfit)\n",
            "Working with a tree of a max depth= 20\n",
            "  Precision on test is 0.5641807909604519, (precision on valid is 0.7465698143664246 - tend to overfit)\n",
            "All precisions by depth: {1: 0.5552, 2: 0.5553, 3: 0.5552, 4: 0.5552, 5: 0.5555, 6: 0.5712, 7: 0.5684, 8: 0.5684, 9: 0.5695, 10: 0.5657, 11: 0.5731, 12: 0.5723, 13: 0.5716, 14: 0.5834, 15: 0.5813, 16: 0.5663, 17: 0.5605, 18: 0.5626, 19: 0.57, 20: 0.5642}\n",
            "The best precision is 0.5834 and the best depth is 14 \n"
          ]
        }
      ],
      "source": [
        "# %%time\n",
        "# # hyper params tuning for a Decision Tree\n",
        "\n",
        "precision_by_depth = {}\n",
        "best_precision = 0\n",
        "best_depth = 0\n",
        "\n",
        "for depth in range(1,21):\n",
        "    print(f'Working with a tree of a max depth= {depth}')\n",
        "    # fitting the tree on X_train, y_train\n",
        "    clf,train_columns = fit_decision_tree(X=X_train_valid,\n",
        "                            y=y_train_valid,\n",
        "                            max_depth=depth) #applying custom hyperparam\n",
        "    # getting the predictions for TEST and accuracy score\n",
        "    y_pred_valid = clf.predict(X_valid)\n",
        "    precision_valid = precision_score(y_valid, y_pred_valid)\n",
        "    y_pred_test = clf.predict(X_test)\n",
        "    precision_test = precision_score(y_test, y_pred_test)\n",
        "    print(f'  Precision on test is {precision_test}, (precision on valid is {precision_valid} - tend to overfit)')\n",
        "    # saving to the dict\n",
        "    precision_by_depth[depth] = round(precision_test,4)\n",
        "    # updating the best precision\n",
        "    if precision_test >= best_precision:\n",
        "        best_precision = round(precision_test,4)\n",
        "        best_depth = depth\n",
        "#   # plot tree - long\n",
        "#   # plt.figure(figsize=(20,10))  # Set the size of the figure\n",
        "#   # plot_tree(clf,\n",
        "#   #           filled=True,\n",
        "#   #           feature_names=train_columns,\n",
        "#   #           class_names=['Negative', 'Positive'],\n",
        "#   #           max_depth=2)\n",
        "#   # plt.show()\n",
        "#   # plot tree - short\n",
        "    #tree_rules = export_text(clf, feature_names=list(X_train), max_depth=3)\n",
        "    #print(tree_rules)\n",
        "    #print('------------------------------')\n",
        "\n",
        "\n",
        "print(f'All precisions by depth: {precision_by_depth}')\n",
        "print(f'The best precision is {best_precision} and the best depth is {best_depth} ')"
      ]
    },
    {
      "cell_type": "code",
      "execution_count": 64,
      "metadata": {
        "colab": {
          "base_uri": "https://localhost:8080/"
        },
        "id": "2jLsfPPhgjwD",
        "outputId": "983140eb-f060-4d47-ef68-02493aed542c"
      },
      "outputs": [
        {
          "name": "stdout",
          "output_type": "stream",
          "text": [
            "{1: 0.5552, 2: 0.5553, 3: 0.5552, 4: 0.5552, 5: 0.5555, 6: 0.5712, 7: 0.5684, 8: 0.5684, 9: 0.5695, 10: 0.5657, 11: 0.5731, 12: 0.5723, 13: 0.5716, 14: 0.5834, 15: 0.5813, 16: 0.5663, 17: 0.5605, 18: 0.5626, 19: 0.57, 20: 0.5642}\n"
          ]
        }
      ],
      "source": [
        "# UNCOMMENT TO RUN SEE THE RESULTS\n",
        "# Results of Hyper parameters tuning for a Decision Tree\n",
        "print(precision_by_depth)"
      ]
    },
    {
      "cell_type": "code",
      "execution_count": 65,
      "metadata": {
        "id": "vK92UZPrstQh"
      },
      "outputs": [],
      "source": [
        "# pre-calculated results of Hyperparameter tuning: full dataset (300 features) and is_positive_growth_5d\n",
        "precision_by_depth = {1: 0.5552, 2: 0.5553, 3: 0.5552, 4: 0.5552, 5: 0.5555, 6: 0.5712, 7: 0.5684, 8: 0.5684, 9: 0.57, 10: 0.5653, 11: 0.567, 12: 0.5719, 13: 0.5707, 14: 0.5845, 15: 0.5864, 16: 0.5721, 17: 0.5767, 18: 0.5682, 19: 0.5638, 20: 0.573}\n",
        "best_depth = 15\n",
        "best_precision = 0.5864"
      ]
    },
    {
      "cell_type": "code",
      "execution_count": 66,
      "metadata": {
        "colab": {
          "base_uri": "https://localhost:8080/"
        },
        "id": "IBYKRALThb8P",
        "outputId": "a0979d10-9195-4c59-e41e-2f5cdc70943b"
      },
      "outputs": [
        {
          "name": "stdout",
          "output_type": "stream",
          "text": [
            "Best precision and depth = 15, precision (on test)=0.5864\n"
          ]
        }
      ],
      "source": [
        "print(f'Best precision and depth = {best_depth}, precision (on test)={best_precision}')"
      ]
    },
    {
      "cell_type": "code",
      "execution_count": 81,
      "metadata": {
        "id": "hbGV6LjthP3u"
      },
      "outputs": [],
      "source": [
        "# TODO HA4 Q1: compare precision_by_depth with below? Any improvements? What's the optimal hyperparams?"
      ]
    },
    {
      "cell_type": "code",
      "execution_count": 82,
      "metadata": {
        "id": "OS3b4V-AhRa8"
      },
      "outputs": [],
      "source": [
        "# TODO HA4 Q2: compare precision_by_depth with below? Any improvements? What's the optimal hyperparams?"
      ]
    },
    {
      "cell_type": "code",
      "execution_count": 67,
      "metadata": {
        "colab": {
          "base_uri": "https://localhost:8080/",
          "height": 542
        },
        "id": "AYbzd0uQg_W9",
        "outputId": "b92ca7f0-1df6-429c-912e-651f84ceb43e"
      },
      "outputs": [
        {
          "data": {
            "application/vnd.plotly.v1+json": {
              "config": {
                "plotlyServerURL": "https://plot.ly"
              },
              "data": [
                {
                  "alignmentgroup": "True",
                  "hovertemplate": "Max Depth=%{x}<br>Precision Score=%{text}<extra></extra>",
                  "legendgroup": "",
                  "marker": {
                    "color": "#636efa",
                    "pattern": {
                      "shape": ""
                    }
                  },
                  "name": "",
                  "offsetgroup": "",
                  "orientation": "v",
                  "showlegend": false,
                  "text": [
                    55.52,
                    55.53,
                    55.52,
                    55.52,
                    55.55,
                    57.120000000000005,
                    56.84,
                    56.84,
                    56.99999999999999,
                    56.53,
                    56.699999999999996,
                    57.19,
                    57.07,
                    58.45,
                    58.64,
                    57.21000000000001,
                    57.67,
                    56.82000000000001,
                    56.379999999999995,
                    57.3
                  ],
                  "textposition": "outside",
                  "texttemplate": "%{text:.2f}%",
                  "type": "bar",
                  "x": [
                    1,
                    2,
                    3,
                    4,
                    5,
                    6,
                    7,
                    8,
                    9,
                    10,
                    11,
                    12,
                    13,
                    14,
                    15,
                    16,
                    17,
                    18,
                    19,
                    20
                  ],
                  "xaxis": "x",
                  "y": [
                    55.52,
                    55.53,
                    55.52,
                    55.52,
                    55.55,
                    57.120000000000005,
                    56.84,
                    56.84,
                    56.99999999999999,
                    56.53,
                    56.699999999999996,
                    57.19,
                    57.07,
                    58.45,
                    58.64,
                    57.21000000000001,
                    57.67,
                    56.82000000000001,
                    56.379999999999995,
                    57.3
                  ],
                  "yaxis": "y"
                }
              ],
              "layout": {
                "barmode": "relative",
                "legend": {
                  "tracegroupgap": 0
                },
                "margin": {
                  "t": 60
                },
                "template": {
                  "data": {
                    "bar": [
                      {
                        "error_x": {
                          "color": "#2a3f5f"
                        },
                        "error_y": {
                          "color": "#2a3f5f"
                        },
                        "marker": {
                          "line": {
                            "color": "#E5ECF6",
                            "width": 0.5
                          },
                          "pattern": {
                            "fillmode": "overlay",
                            "size": 10,
                            "solidity": 0.2
                          }
                        },
                        "type": "bar"
                      }
                    ],
                    "barpolar": [
                      {
                        "marker": {
                          "line": {
                            "color": "#E5ECF6",
                            "width": 0.5
                          },
                          "pattern": {
                            "fillmode": "overlay",
                            "size": 10,
                            "solidity": 0.2
                          }
                        },
                        "type": "barpolar"
                      }
                    ],
                    "carpet": [
                      {
                        "aaxis": {
                          "endlinecolor": "#2a3f5f",
                          "gridcolor": "white",
                          "linecolor": "white",
                          "minorgridcolor": "white",
                          "startlinecolor": "#2a3f5f"
                        },
                        "baxis": {
                          "endlinecolor": "#2a3f5f",
                          "gridcolor": "white",
                          "linecolor": "white",
                          "minorgridcolor": "white",
                          "startlinecolor": "#2a3f5f"
                        },
                        "type": "carpet"
                      }
                    ],
                    "choropleth": [
                      {
                        "colorbar": {
                          "outlinewidth": 0,
                          "ticks": ""
                        },
                        "type": "choropleth"
                      }
                    ],
                    "contour": [
                      {
                        "colorbar": {
                          "outlinewidth": 0,
                          "ticks": ""
                        },
                        "colorscale": [
                          [
                            0,
                            "#0d0887"
                          ],
                          [
                            0.1111111111111111,
                            "#46039f"
                          ],
                          [
                            0.2222222222222222,
                            "#7201a8"
                          ],
                          [
                            0.3333333333333333,
                            "#9c179e"
                          ],
                          [
                            0.4444444444444444,
                            "#bd3786"
                          ],
                          [
                            0.5555555555555556,
                            "#d8576b"
                          ],
                          [
                            0.6666666666666666,
                            "#ed7953"
                          ],
                          [
                            0.7777777777777778,
                            "#fb9f3a"
                          ],
                          [
                            0.8888888888888888,
                            "#fdca26"
                          ],
                          [
                            1,
                            "#f0f921"
                          ]
                        ],
                        "type": "contour"
                      }
                    ],
                    "contourcarpet": [
                      {
                        "colorbar": {
                          "outlinewidth": 0,
                          "ticks": ""
                        },
                        "type": "contourcarpet"
                      }
                    ],
                    "heatmap": [
                      {
                        "colorbar": {
                          "outlinewidth": 0,
                          "ticks": ""
                        },
                        "colorscale": [
                          [
                            0,
                            "#0d0887"
                          ],
                          [
                            0.1111111111111111,
                            "#46039f"
                          ],
                          [
                            0.2222222222222222,
                            "#7201a8"
                          ],
                          [
                            0.3333333333333333,
                            "#9c179e"
                          ],
                          [
                            0.4444444444444444,
                            "#bd3786"
                          ],
                          [
                            0.5555555555555556,
                            "#d8576b"
                          ],
                          [
                            0.6666666666666666,
                            "#ed7953"
                          ],
                          [
                            0.7777777777777778,
                            "#fb9f3a"
                          ],
                          [
                            0.8888888888888888,
                            "#fdca26"
                          ],
                          [
                            1,
                            "#f0f921"
                          ]
                        ],
                        "type": "heatmap"
                      }
                    ],
                    "heatmapgl": [
                      {
                        "colorbar": {
                          "outlinewidth": 0,
                          "ticks": ""
                        },
                        "colorscale": [
                          [
                            0,
                            "#0d0887"
                          ],
                          [
                            0.1111111111111111,
                            "#46039f"
                          ],
                          [
                            0.2222222222222222,
                            "#7201a8"
                          ],
                          [
                            0.3333333333333333,
                            "#9c179e"
                          ],
                          [
                            0.4444444444444444,
                            "#bd3786"
                          ],
                          [
                            0.5555555555555556,
                            "#d8576b"
                          ],
                          [
                            0.6666666666666666,
                            "#ed7953"
                          ],
                          [
                            0.7777777777777778,
                            "#fb9f3a"
                          ],
                          [
                            0.8888888888888888,
                            "#fdca26"
                          ],
                          [
                            1,
                            "#f0f921"
                          ]
                        ],
                        "type": "heatmapgl"
                      }
                    ],
                    "histogram": [
                      {
                        "marker": {
                          "pattern": {
                            "fillmode": "overlay",
                            "size": 10,
                            "solidity": 0.2
                          }
                        },
                        "type": "histogram"
                      }
                    ],
                    "histogram2d": [
                      {
                        "colorbar": {
                          "outlinewidth": 0,
                          "ticks": ""
                        },
                        "colorscale": [
                          [
                            0,
                            "#0d0887"
                          ],
                          [
                            0.1111111111111111,
                            "#46039f"
                          ],
                          [
                            0.2222222222222222,
                            "#7201a8"
                          ],
                          [
                            0.3333333333333333,
                            "#9c179e"
                          ],
                          [
                            0.4444444444444444,
                            "#bd3786"
                          ],
                          [
                            0.5555555555555556,
                            "#d8576b"
                          ],
                          [
                            0.6666666666666666,
                            "#ed7953"
                          ],
                          [
                            0.7777777777777778,
                            "#fb9f3a"
                          ],
                          [
                            0.8888888888888888,
                            "#fdca26"
                          ],
                          [
                            1,
                            "#f0f921"
                          ]
                        ],
                        "type": "histogram2d"
                      }
                    ],
                    "histogram2dcontour": [
                      {
                        "colorbar": {
                          "outlinewidth": 0,
                          "ticks": ""
                        },
                        "colorscale": [
                          [
                            0,
                            "#0d0887"
                          ],
                          [
                            0.1111111111111111,
                            "#46039f"
                          ],
                          [
                            0.2222222222222222,
                            "#7201a8"
                          ],
                          [
                            0.3333333333333333,
                            "#9c179e"
                          ],
                          [
                            0.4444444444444444,
                            "#bd3786"
                          ],
                          [
                            0.5555555555555556,
                            "#d8576b"
                          ],
                          [
                            0.6666666666666666,
                            "#ed7953"
                          ],
                          [
                            0.7777777777777778,
                            "#fb9f3a"
                          ],
                          [
                            0.8888888888888888,
                            "#fdca26"
                          ],
                          [
                            1,
                            "#f0f921"
                          ]
                        ],
                        "type": "histogram2dcontour"
                      }
                    ],
                    "mesh3d": [
                      {
                        "colorbar": {
                          "outlinewidth": 0,
                          "ticks": ""
                        },
                        "type": "mesh3d"
                      }
                    ],
                    "parcoords": [
                      {
                        "line": {
                          "colorbar": {
                            "outlinewidth": 0,
                            "ticks": ""
                          }
                        },
                        "type": "parcoords"
                      }
                    ],
                    "pie": [
                      {
                        "automargin": true,
                        "type": "pie"
                      }
                    ],
                    "scatter": [
                      {
                        "fillpattern": {
                          "fillmode": "overlay",
                          "size": 10,
                          "solidity": 0.2
                        },
                        "type": "scatter"
                      }
                    ],
                    "scatter3d": [
                      {
                        "line": {
                          "colorbar": {
                            "outlinewidth": 0,
                            "ticks": ""
                          }
                        },
                        "marker": {
                          "colorbar": {
                            "outlinewidth": 0,
                            "ticks": ""
                          }
                        },
                        "type": "scatter3d"
                      }
                    ],
                    "scattercarpet": [
                      {
                        "marker": {
                          "colorbar": {
                            "outlinewidth": 0,
                            "ticks": ""
                          }
                        },
                        "type": "scattercarpet"
                      }
                    ],
                    "scattergeo": [
                      {
                        "marker": {
                          "colorbar": {
                            "outlinewidth": 0,
                            "ticks": ""
                          }
                        },
                        "type": "scattergeo"
                      }
                    ],
                    "scattergl": [
                      {
                        "marker": {
                          "colorbar": {
                            "outlinewidth": 0,
                            "ticks": ""
                          }
                        },
                        "type": "scattergl"
                      }
                    ],
                    "scattermapbox": [
                      {
                        "marker": {
                          "colorbar": {
                            "outlinewidth": 0,
                            "ticks": ""
                          }
                        },
                        "type": "scattermapbox"
                      }
                    ],
                    "scatterpolar": [
                      {
                        "marker": {
                          "colorbar": {
                            "outlinewidth": 0,
                            "ticks": ""
                          }
                        },
                        "type": "scatterpolar"
                      }
                    ],
                    "scatterpolargl": [
                      {
                        "marker": {
                          "colorbar": {
                            "outlinewidth": 0,
                            "ticks": ""
                          }
                        },
                        "type": "scatterpolargl"
                      }
                    ],
                    "scatterternary": [
                      {
                        "marker": {
                          "colorbar": {
                            "outlinewidth": 0,
                            "ticks": ""
                          }
                        },
                        "type": "scatterternary"
                      }
                    ],
                    "surface": [
                      {
                        "colorbar": {
                          "outlinewidth": 0,
                          "ticks": ""
                        },
                        "colorscale": [
                          [
                            0,
                            "#0d0887"
                          ],
                          [
                            0.1111111111111111,
                            "#46039f"
                          ],
                          [
                            0.2222222222222222,
                            "#7201a8"
                          ],
                          [
                            0.3333333333333333,
                            "#9c179e"
                          ],
                          [
                            0.4444444444444444,
                            "#bd3786"
                          ],
                          [
                            0.5555555555555556,
                            "#d8576b"
                          ],
                          [
                            0.6666666666666666,
                            "#ed7953"
                          ],
                          [
                            0.7777777777777778,
                            "#fb9f3a"
                          ],
                          [
                            0.8888888888888888,
                            "#fdca26"
                          ],
                          [
                            1,
                            "#f0f921"
                          ]
                        ],
                        "type": "surface"
                      }
                    ],
                    "table": [
                      {
                        "cells": {
                          "fill": {
                            "color": "#EBF0F8"
                          },
                          "line": {
                            "color": "white"
                          }
                        },
                        "header": {
                          "fill": {
                            "color": "#C8D4E3"
                          },
                          "line": {
                            "color": "white"
                          }
                        },
                        "type": "table"
                      }
                    ]
                  },
                  "layout": {
                    "annotationdefaults": {
                      "arrowcolor": "#2a3f5f",
                      "arrowhead": 0,
                      "arrowwidth": 1
                    },
                    "autotypenumbers": "strict",
                    "coloraxis": {
                      "colorbar": {
                        "outlinewidth": 0,
                        "ticks": ""
                      }
                    },
                    "colorscale": {
                      "diverging": [
                        [
                          0,
                          "#8e0152"
                        ],
                        [
                          0.1,
                          "#c51b7d"
                        ],
                        [
                          0.2,
                          "#de77ae"
                        ],
                        [
                          0.3,
                          "#f1b6da"
                        ],
                        [
                          0.4,
                          "#fde0ef"
                        ],
                        [
                          0.5,
                          "#f7f7f7"
                        ],
                        [
                          0.6,
                          "#e6f5d0"
                        ],
                        [
                          0.7,
                          "#b8e186"
                        ],
                        [
                          0.8,
                          "#7fbc41"
                        ],
                        [
                          0.9,
                          "#4d9221"
                        ],
                        [
                          1,
                          "#276419"
                        ]
                      ],
                      "sequential": [
                        [
                          0,
                          "#0d0887"
                        ],
                        [
                          0.1111111111111111,
                          "#46039f"
                        ],
                        [
                          0.2222222222222222,
                          "#7201a8"
                        ],
                        [
                          0.3333333333333333,
                          "#9c179e"
                        ],
                        [
                          0.4444444444444444,
                          "#bd3786"
                        ],
                        [
                          0.5555555555555556,
                          "#d8576b"
                        ],
                        [
                          0.6666666666666666,
                          "#ed7953"
                        ],
                        [
                          0.7777777777777778,
                          "#fb9f3a"
                        ],
                        [
                          0.8888888888888888,
                          "#fdca26"
                        ],
                        [
                          1,
                          "#f0f921"
                        ]
                      ],
                      "sequentialminus": [
                        [
                          0,
                          "#0d0887"
                        ],
                        [
                          0.1111111111111111,
                          "#46039f"
                        ],
                        [
                          0.2222222222222222,
                          "#7201a8"
                        ],
                        [
                          0.3333333333333333,
                          "#9c179e"
                        ],
                        [
                          0.4444444444444444,
                          "#bd3786"
                        ],
                        [
                          0.5555555555555556,
                          "#d8576b"
                        ],
                        [
                          0.6666666666666666,
                          "#ed7953"
                        ],
                        [
                          0.7777777777777778,
                          "#fb9f3a"
                        ],
                        [
                          0.8888888888888888,
                          "#fdca26"
                        ],
                        [
                          1,
                          "#f0f921"
                        ]
                      ]
                    },
                    "colorway": [
                      "#636efa",
                      "#EF553B",
                      "#00cc96",
                      "#ab63fa",
                      "#FFA15A",
                      "#19d3f3",
                      "#FF6692",
                      "#B6E880",
                      "#FF97FF",
                      "#FECB52"
                    ],
                    "font": {
                      "color": "#2a3f5f"
                    },
                    "geo": {
                      "bgcolor": "white",
                      "lakecolor": "white",
                      "landcolor": "#E5ECF6",
                      "showlakes": true,
                      "showland": true,
                      "subunitcolor": "white"
                    },
                    "hoverlabel": {
                      "align": "left"
                    },
                    "hovermode": "closest",
                    "mapbox": {
                      "style": "light"
                    },
                    "paper_bgcolor": "white",
                    "plot_bgcolor": "#E5ECF6",
                    "polar": {
                      "angularaxis": {
                        "gridcolor": "white",
                        "linecolor": "white",
                        "ticks": ""
                      },
                      "bgcolor": "#E5ECF6",
                      "radialaxis": {
                        "gridcolor": "white",
                        "linecolor": "white",
                        "ticks": ""
                      }
                    },
                    "scene": {
                      "xaxis": {
                        "backgroundcolor": "#E5ECF6",
                        "gridcolor": "white",
                        "gridwidth": 2,
                        "linecolor": "white",
                        "showbackground": true,
                        "ticks": "",
                        "zerolinecolor": "white"
                      },
                      "yaxis": {
                        "backgroundcolor": "#E5ECF6",
                        "gridcolor": "white",
                        "gridwidth": 2,
                        "linecolor": "white",
                        "showbackground": true,
                        "ticks": "",
                        "zerolinecolor": "white"
                      },
                      "zaxis": {
                        "backgroundcolor": "#E5ECF6",
                        "gridcolor": "white",
                        "gridwidth": 2,
                        "linecolor": "white",
                        "showbackground": true,
                        "ticks": "",
                        "zerolinecolor": "white"
                      }
                    },
                    "shapedefaults": {
                      "line": {
                        "color": "#2a3f5f"
                      }
                    },
                    "ternary": {
                      "aaxis": {
                        "gridcolor": "white",
                        "linecolor": "white",
                        "ticks": ""
                      },
                      "baxis": {
                        "gridcolor": "white",
                        "linecolor": "white",
                        "ticks": ""
                      },
                      "bgcolor": "#E5ECF6",
                      "caxis": {
                        "gridcolor": "white",
                        "linecolor": "white",
                        "ticks": ""
                      }
                    },
                    "title": {
                      "x": 0.05
                    },
                    "xaxis": {
                      "automargin": true,
                      "gridcolor": "white",
                      "linecolor": "white",
                      "ticks": "",
                      "title": {
                        "standoff": 15
                      },
                      "zerolinecolor": "white",
                      "zerolinewidth": 2
                    },
                    "yaxis": {
                      "automargin": true,
                      "gridcolor": "white",
                      "linecolor": "white",
                      "ticks": "",
                      "title": {
                        "standoff": 15
                      },
                      "zerolinecolor": "white",
                      "zerolinewidth": 2
                    }
                  }
                },
                "title": {
                  "text": "Precision Score vs. Max Depth for a Decision Tree",
                  "x": 0.5,
                  "xanchor": "center"
                },
                "xaxis": {
                  "anchor": "y",
                  "domain": [
                    0,
                    1
                  ],
                  "title": {
                    "text": "Max Depth"
                  }
                },
                "yaxis": {
                  "anchor": "x",
                  "domain": [
                    0,
                    1
                  ],
                  "range": [
                    54,
                    60
                  ],
                  "title": {
                    "text": "Precision Score"
                  }
                }
              }
            }
          },
          "metadata": {},
          "output_type": "display_data"
        }
      ],
      "source": [
        "# Convert the dictionary to a DataFrame\n",
        "df = pd.DataFrame(list(precision_by_depth.items()), columns=['max_depth', 'precision_score'])\n",
        "df.loc[:,'precision_score'] = df.precision_score*100.0 # need for % visualisation\n",
        "\n",
        "# Create the bar chart using Plotly Express\n",
        "fig = px.bar(df,\n",
        "             x='max_depth',\n",
        "             y='precision_score',\n",
        "            #  title='Precision Score vs. Max Depth for a Decision Tree',\n",
        "             labels={'max_depth': 'Max Depth', 'precision_score': 'Precision Score'},\n",
        "             range_y=[54, 60],\n",
        "             text='precision_score')\n",
        "\n",
        "# Update the text format to display as percentages\n",
        "fig.update_traces(texttemplate='%{text:.2f}%', textposition='outside')\n",
        "\n",
        "# Center the title\n",
        "fig.update_layout(title={'text': 'Precision Score vs. Max Depth for a Decision Tree', 'x': 0.5, 'xanchor': 'center'})\n",
        "\n",
        "\n",
        "# Show the figure\n",
        "fig.show()"
      ]
    },
    {
      "cell_type": "code",
      "execution_count": 68,
      "metadata": {
        "colab": {
          "base_uri": "https://localhost:8080/"
        },
        "id": "f1OnBZJLtHkI",
        "outputId": "1045989c-e852-4d73-8581-655cf27e479f"
      },
      "outputs": [
        {
          "name": "stdout",
          "output_type": "stream",
          "text": [
            "CPU times: total: 20.4 s\n",
            "Wall time: 32.2 s\n"
          ]
        }
      ],
      "source": [
        "%%time\n",
        "clf_best,train_columns = fit_decision_tree(X=X_train_valid,\n",
        "                           y=y_train_valid,\n",
        "                           max_depth=best_depth)"
      ]
    },
    {
      "cell_type": "code",
      "execution_count": 69,
      "metadata": {
        "colab": {
          "base_uri": "https://localhost:8080/"
        },
        "id": "o2-2CS-ptOLM",
        "outputId": "fb51cda7-1d32-441e-8942-2d9c5e9c7da2"
      },
      "outputs": [
        {
          "name": "stdout",
          "output_type": "stream",
          "text": [
            "Number of nodes: 5369\n",
            "Number of leaves: 2685\n"
          ]
        }
      ],
      "source": [
        "# For a DecisionTreeClassifier in scikit-learn, the concept of trainable parameters differs from that of neural networks.\n",
        "# In decision trees, the parameters are the structure of the tree itself (nodes and splits) rather than weights.\n",
        "# However, you can still get a sense of the model's complexity by looking at the number of nodes and leaves.\n",
        "\n",
        "# Here's how you can get this information for your trained DecisionTreeClassifier (referred to as clf_best):\n",
        "\n",
        "# Get the number of nodes and leaves in the tree\n",
        "n_nodes = clf_best.tree_.node_count\n",
        "n_leaves = clf_best.get_n_leaves()\n",
        "\n",
        "print(f\"Number of nodes: {n_nodes}\")\n",
        "print(f\"Number of leaves: {n_leaves}\")"
      ]
    },
    {
      "cell_type": "code",
      "execution_count": 70,
      "metadata": {
        "colab": {
          "base_uri": "https://localhost:8080/",
          "height": 74
        },
        "id": "KIRNFnQFtPwf",
        "outputId": "1a31f2c9-acc7-4013-a75c-68cdd58f5aff"
      },
      "outputs": [
        {
          "data": {
            "text/html": [
              "<style>#sk-container-id-1 {color: black;}#sk-container-id-1 pre{padding: 0;}#sk-container-id-1 div.sk-toggleable {background-color: white;}#sk-container-id-1 label.sk-toggleable__label {cursor: pointer;display: block;width: 100%;margin-bottom: 0;padding: 0.3em;box-sizing: border-box;text-align: center;}#sk-container-id-1 label.sk-toggleable__label-arrow:before {content: \"▸\";float: left;margin-right: 0.25em;color: #696969;}#sk-container-id-1 label.sk-toggleable__label-arrow:hover:before {color: black;}#sk-container-id-1 div.sk-estimator:hover label.sk-toggleable__label-arrow:before {color: black;}#sk-container-id-1 div.sk-toggleable__content {max-height: 0;max-width: 0;overflow: hidden;text-align: left;background-color: #f0f8ff;}#sk-container-id-1 div.sk-toggleable__content pre {margin: 0.2em;color: black;border-radius: 0.25em;background-color: #f0f8ff;}#sk-container-id-1 input.sk-toggleable__control:checked~div.sk-toggleable__content {max-height: 200px;max-width: 100%;overflow: auto;}#sk-container-id-1 input.sk-toggleable__control:checked~label.sk-toggleable__label-arrow:before {content: \"▾\";}#sk-container-id-1 div.sk-estimator input.sk-toggleable__control:checked~label.sk-toggleable__label {background-color: #d4ebff;}#sk-container-id-1 div.sk-label input.sk-toggleable__control:checked~label.sk-toggleable__label {background-color: #d4ebff;}#sk-container-id-1 input.sk-hidden--visually {border: 0;clip: rect(1px 1px 1px 1px);clip: rect(1px, 1px, 1px, 1px);height: 1px;margin: -1px;overflow: hidden;padding: 0;position: absolute;width: 1px;}#sk-container-id-1 div.sk-estimator {font-family: monospace;background-color: #f0f8ff;border: 1px dotted black;border-radius: 0.25em;box-sizing: border-box;margin-bottom: 0.5em;}#sk-container-id-1 div.sk-estimator:hover {background-color: #d4ebff;}#sk-container-id-1 div.sk-parallel-item::after {content: \"\";width: 100%;border-bottom: 1px solid gray;flex-grow: 1;}#sk-container-id-1 div.sk-label:hover label.sk-toggleable__label {background-color: #d4ebff;}#sk-container-id-1 div.sk-serial::before {content: \"\";position: absolute;border-left: 1px solid gray;box-sizing: border-box;top: 0;bottom: 0;left: 50%;z-index: 0;}#sk-container-id-1 div.sk-serial {display: flex;flex-direction: column;align-items: center;background-color: white;padding-right: 0.2em;padding-left: 0.2em;position: relative;}#sk-container-id-1 div.sk-item {position: relative;z-index: 1;}#sk-container-id-1 div.sk-parallel {display: flex;align-items: stretch;justify-content: center;background-color: white;position: relative;}#sk-container-id-1 div.sk-item::before, #sk-container-id-1 div.sk-parallel-item::before {content: \"\";position: absolute;border-left: 1px solid gray;box-sizing: border-box;top: 0;bottom: 0;left: 50%;z-index: -1;}#sk-container-id-1 div.sk-parallel-item {display: flex;flex-direction: column;z-index: 1;position: relative;background-color: white;}#sk-container-id-1 div.sk-parallel-item:first-child::after {align-self: flex-end;width: 50%;}#sk-container-id-1 div.sk-parallel-item:last-child::after {align-self: flex-start;width: 50%;}#sk-container-id-1 div.sk-parallel-item:only-child::after {width: 0;}#sk-container-id-1 div.sk-dashed-wrapped {border: 1px dashed gray;margin: 0 0.4em 0.5em 0.4em;box-sizing: border-box;padding-bottom: 0.4em;background-color: white;}#sk-container-id-1 div.sk-label label {font-family: monospace;font-weight: bold;display: inline-block;line-height: 1.2em;}#sk-container-id-1 div.sk-label-container {text-align: center;}#sk-container-id-1 div.sk-container {/* jupyter's `normalize.less` sets `[hidden] { display: none; }` but bootstrap.min.css set `[hidden] { display: none !important; }` so we also need the `!important` here to be able to override the default hidden behavior on the sphinx rendered scikit-learn.org. See: https://github.com/scikit-learn/scikit-learn/issues/21755 */display: inline-block !important;position: relative;}#sk-container-id-1 div.sk-text-repr-fallback {display: none;}</style><div id=\"sk-container-id-1\" class=\"sk-top-container\"><div class=\"sk-text-repr-fallback\"><pre>DecisionTreeClassifier(max_depth=15, random_state=42)</pre><b>In a Jupyter environment, please rerun this cell to show the HTML representation or trust the notebook. <br />On GitHub, the HTML representation is unable to render, please try loading this page with nbviewer.org.</b></div><div class=\"sk-container\" hidden><div class=\"sk-item\"><div class=\"sk-estimator sk-toggleable\"><input class=\"sk-toggleable__control sk-hidden--visually\" id=\"sk-estimator-id-1\" type=\"checkbox\" checked><label for=\"sk-estimator-id-1\" class=\"sk-toggleable__label sk-toggleable__label-arrow\">DecisionTreeClassifier</label><div class=\"sk-toggleable__content\"><pre>DecisionTreeClassifier(max_depth=15, random_state=42)</pre></div></div></div></div></div>"
            ],
            "text/plain": [
              "DecisionTreeClassifier(max_depth=15, random_state=42)"
            ]
          },
          "execution_count": 70,
          "metadata": {},
          "output_type": "execute_result"
        }
      ],
      "source": [
        "clf_best"
      ]
    },
    {
      "cell_type": "code",
      "execution_count": 71,
      "metadata": {
        "id": "4su6awSjtQ5W"
      },
      "outputs": [],
      "source": [
        "# predict on a full dataset\n",
        "y_pred_clf_best = clf_best.predict(X_all)"
      ]
    },
    {
      "cell_type": "code",
      "execution_count": 72,
      "metadata": {
        "id": "1ZOQqQ0itR9o"
      },
      "outputs": [],
      "source": [
        "# defining a new prediction vector is easy now, as the dimensions will match\n",
        "new_df['pred6_clf_best'] = y_pred_clf_best"
      ]
    },
    {
      "cell_type": "code",
      "execution_count": 73,
      "metadata": {
        "colab": {
          "base_uri": "https://localhost:8080/"
        },
        "id": "5XxNt_9HtTlk",
        "outputId": "839b3108-9b2c-451d-a2bf-ff920d2f02d5"
      },
      "outputs": [
        {
          "name": "stdout",
          "output_type": "stream",
          "text": [
            "Prediction columns founded: ['pred0_manual_cci', 'pred1_manual_prev_g1', 'pred2_manual_prev_g1_and_snp', 'pred3_manual_gdp_and_fastd', 'pred4_manual_gdp_and_wti30d', 'pred5_clf_10', 'pred6_clf_best']\n",
            "Created columns is_correct: ['is_correct_pred0', 'is_correct_pred1', 'is_correct_pred2', 'is_correct_pred3', 'is_correct_pred4', 'is_correct_pred5', 'is_correct_pred6']\n",
            "Precision on TEST set for each prediction:\n",
            "Prediction column:pred0_manual_cci , is_correct_column: is_correct_pred0\n",
            "is_correct_pred0\n",
            "1    455\n",
            "0    344\n",
            "Name: count, dtype: int64\n",
            "is_correct_pred0\n",
            "1    0.569462\n",
            "0    0.430538\n",
            "Name: count, dtype: float64\n",
            "---------\n",
            "Prediction column:pred1_manual_prev_g1 , is_correct_column: is_correct_pred1\n",
            "is_correct_pred1\n",
            "1    8621\n",
            "0    6980\n",
            "Name: count, dtype: int64\n",
            "is_correct_pred1\n",
            "1    0.552593\n",
            "0    0.447407\n",
            "Name: count, dtype: float64\n",
            "---------\n",
            "Prediction column:pred2_manual_prev_g1_and_snp , is_correct_column: is_correct_pred2\n",
            "is_correct_pred2\n",
            "1    5726\n",
            "0    4729\n",
            "Name: count, dtype: int64\n",
            "is_correct_pred2\n",
            "1    0.547681\n",
            "0    0.452319\n",
            "Name: count, dtype: float64\n",
            "---------\n",
            "Prediction column:pred3_manual_gdp_and_fastd , is_correct_column: is_correct_pred3\n",
            "is_correct_pred3\n",
            "1    16560\n",
            "0    13262\n",
            "Name: count, dtype: int64\n",
            "is_correct_pred3\n",
            "1    0.555295\n",
            "0    0.444705\n",
            "Name: count, dtype: float64\n",
            "---------\n",
            "Prediction column:pred4_manual_gdp_and_wti30d , is_correct_column: is_correct_pred4\n",
            "Series([], Name: count, dtype: int64)\n",
            "Series([], Name: count, dtype: float64)\n",
            "---------\n",
            "Prediction column:pred5_clf_10 , is_correct_column: is_correct_pred5\n",
            "is_correct_pred5\n",
            "1    14499\n",
            "0    11132\n",
            "Name: count, dtype: int64\n",
            "is_correct_pred5\n",
            "1    0.565682\n",
            "0    0.434318\n",
            "Name: count, dtype: float64\n",
            "---------\n",
            "Prediction column:pred6_clf_best , is_correct_column: is_correct_pred6\n",
            "is_correct_pred6\n",
            "1    11831\n",
            "0     8522\n",
            "Name: count, dtype: int64\n",
            "is_correct_pred6\n",
            "1    0.58129\n",
            "0    0.41871\n",
            "Name: count, dtype: float64\n",
            "---------\n"
          ]
        }
      ],
      "source": [
        "# new prediction is added --> need to recalculate the correctness\n",
        "PREDICTIONS, IS_CORRECT = get_predictions_correctness(df = new_df, to_predict=to_predict)"
      ]
    },
    {
      "cell_type": "markdown",
      "metadata": {
        "id": "g9oeczqgpHHY"
      },
      "source": [
        "## 1.3) Random Forest\n",
        "https://scikit-learn.org/stable/modules/ensemble.html#random-forests-and-other-randomized-tree-ensembles"
      ]
    },
    {
      "cell_type": "code",
      "execution_count": 90,
      "metadata": {
        "id": "KPBgCdfopFlC"
      },
      "outputs": [],
      "source": [
        "# (ALMOST 3 HOURS) UNCOMMENT BELOW TO RUN HYPERPARAMs optimisation again\n",
        "# The best precision is 0.5778 and the best depth is 20\n",
        "# CPU times: user 2h 48min 27s, sys: 31.9 s, total: 2h 48min 59s\n",
        "# Wall time: 1h 39min 44s"
      ]
    },
    {
      "cell_type": "code",
      "execution_count": 74,
      "metadata": {
        "colab": {
          "base_uri": "https://localhost:8080/"
        },
        "id": "XmvVElr3pWLG",
        "outputId": "70c762ed-d3dd-4d89-960a-63f5089092b0"
      },
      "outputs": [
        {
          "name": "stdout",
          "output_type": "stream",
          "text": [
            "Working with HyperParams: depth = 15, estimators = 50\n",
            "Working with HyperParams: depth = 15, estimators = 100\n",
            "Working with HyperParams: depth = 15, estimators = 200\n",
            "Working with HyperParams: depth = 15, estimators = 500\n",
            "  Precision on test is 0.5719126278211412, (precision on valid is 0.7637809926966553 - tend to overfit)\n",
            "Time for training: 112.15 seconds, or 1.87 minutes\n",
            "New best precision found for depth=15, estimators = 500\n",
            "------------------------------\n",
            "Working with HyperParams: depth = 16, estimators = 50\n",
            "Working with HyperParams: depth = 16, estimators = 100\n",
            "Working with HyperParams: depth = 16, estimators = 200\n",
            "Working with HyperParams: depth = 16, estimators = 500\n",
            "  Precision on test is 0.5746240835093824, (precision on valid is 0.7901862876896486 - tend to overfit)\n",
            "Time for training: 121.16 seconds, or 2.02 minutes\n",
            "New best precision found for depth=16, estimators = 500\n",
            "------------------------------\n",
            "Working with HyperParams: depth = 17, estimators = 50\n",
            "Working with HyperParams: depth = 17, estimators = 100\n",
            "Working with HyperParams: depth = 17, estimators = 200\n",
            "Working with HyperParams: depth = 17, estimators = 500\n",
            "  Precision on test is 0.568234810039775, (precision on valid is 0.8190462041301441 - tend to overfit)\n",
            "Time for training: 126.05 seconds, or 2.10 minutes\n",
            "------------------------------\n",
            "Working with HyperParams: depth = 18, estimators = 50\n",
            "Working with HyperParams: depth = 18, estimators = 100\n",
            "Working with HyperParams: depth = 18, estimators = 200\n",
            "Working with HyperParams: depth = 18, estimators = 500\n",
            "  Precision on test is 0.5767680469036277, (precision on valid is 0.8497136428717529 - tend to overfit)\n",
            "Time for training: 130.16 seconds, or 2.17 minutes\n",
            "New best precision found for depth=18, estimators = 500\n",
            "------------------------------\n",
            "Working with HyperParams: depth = 19, estimators = 50\n",
            "Working with HyperParams: depth = 19, estimators = 100\n",
            "Working with HyperParams: depth = 19, estimators = 200\n",
            "Working with HyperParams: depth = 19, estimators = 500\n",
            "  Precision on test is 0.5700070077084793, (precision on valid is 0.8804623179227359 - tend to overfit)\n",
            "Time for training: 135.86 seconds, or 2.26 minutes\n",
            "------------------------------\n",
            "Working with HyperParams: depth = 20, estimators = 50\n",
            "Working with HyperParams: depth = 20, estimators = 100\n",
            "Working with HyperParams: depth = 20, estimators = 200\n",
            "Working with HyperParams: depth = 20, estimators = 500\n",
            "  Precision on test is 0.5782440005747952, (precision on valid is 0.9050687750460306 - tend to overfit)\n",
            "Time for training: 138.19 seconds, or 2.30 minutes\n",
            "New best precision found for depth=20, estimators = 500\n",
            "------------------------------\n",
            "Matrix of precisions: {(15, 500): 0.5719, (16, 500): 0.5746, (17, 500): 0.5682, (18, 500): 0.5768, (19, 500): 0.57, (20, 500): 0.5782}\n",
            "The best precision is 0.5782 and the best depth is 20 \n"
          ]
        }
      ],
      "source": [
        "# %%time\n",
        "# # hyper params tuning\n",
        "\n",
        "precision_matrix = {}\n",
        "best_precision = 0\n",
        "best_depth = 0\n",
        "best_estimators = 1\n",
        "\n",
        "for depth in [15, 16, 17, 18, 19, 20]:\n",
        "    for estimators in [50,100,200,500]:\n",
        "        print(f'Working with HyperParams: depth = {depth}, estimators = {estimators}')\n",
        "\n",
        "#     # Start timing\n",
        "    start_time = time.time()\n",
        "    # fitting the tree on X_train, y_train\n",
        "    rf = RandomForestClassifier(n_estimators = estimators,\n",
        "                                 max_depth = depth,\n",
        "                                 random_state = 42,\n",
        "                                 n_jobs = -1)\n",
        "\n",
        "    rf = rf.fit(X_train_valid, y_train_valid)\n",
        "\n",
        "    # getting the predictions for TEST and accuracy score\n",
        "    y_pred_valid = rf.predict(X_valid)\n",
        "    precision_valid = precision_score(y_valid, y_pred_valid)\n",
        "    y_pred_test = rf.predict(X_test)\n",
        "    precision_test = precision_score(y_test, y_pred_test)\n",
        "    print(f'  Precision on test is {precision_test}, (precision on valid is {precision_valid} - tend to overfit)')\n",
        "\n",
        "     # saving to the dict\n",
        "    precision_matrix[depth, estimators] = round(precision_test,4)\n",
        "\n",
        "    # Measure elapsed time\n",
        "    elapsed_time = time.time() - start_time\n",
        "    print(f'Time for training: {elapsed_time:.2f} seconds, or {elapsed_time/60:.2f} minutes')\n",
        "\n",
        "#     # updating the best precision\n",
        "    if precision_test >= best_precision:\n",
        "        best_precision = round(precision_test,4)\n",
        "        best_depth = depth\n",
        "        best_estimators = estimators\n",
        "        print(f'New best precision found for depth={depth}, estimators = {estimators}')\n",
        "\n",
        "    print('------------------------------')\n",
        "\n",
        "print(f'Matrix of precisions: {precision_matrix}')\n",
        "print(f'The best precision is {best_precision} and the best depth is {best_depth} ')"
      ]
    },
    {
      "cell_type": "code",
      "execution_count": 75,
      "metadata": {
        "colab": {
          "base_uri": "https://localhost:8080/"
        },
        "id": "3p7fWd63pXtw",
        "outputId": "051f37c1-a10d-4daa-dafd-48b840bfb003"
      },
      "outputs": [
        {
          "name": "stdout",
          "output_type": "stream",
          "text": [
            "{(15, 500): 0.5719, (16, 500): 0.5746, (17, 500): 0.5682, (18, 500): 0.5768, (19, 500): 0.57, (20, 500): 0.5782}\n"
          ]
        }
      ],
      "source": [
        "print(precision_matrix)"
      ]
    },
    {
      "cell_type": "code",
      "execution_count": 76,
      "metadata": {
        "id": "xh_ZPrYopZAy"
      },
      "outputs": [],
      "source": [
        "# pre-calculated best precision matrix (max_depth, n_estimators) for Random Forest for a full dataset (300 features) and is_positive_future_growth_5d\n",
        "#best_precision_matrix_random_forest = {(15, 50): 0.5664, (15, 100): 0.565, (15, 200): 0.5711, (15, 500): 0.5741, (16, 50): 0.5703, (16, 100): 0.5679, (16, 200): 0.5728, (16, 500): 0.5739, (17, 50): 0.569, (17, 100): 0.569, (17, 200): 0.5734, (17, 500): 0.5709, (18, 50): 0.5641, (18, 100): 0.5636, (18, 200): 0.5704, (18, 500): 0.5678, (19, 50): 0.5634, (19, 100): 0.5623, (19, 200): 0.5683, (19, 500): 0.568, (20, 50): 0.561, (20, 100): 0.5655, (20, 200): 0.5744, (20, 500): 0.5778}\n",
        "best_precision_matrix_random_forest = precision_matrix"
      ]
    },
    {
      "cell_type": "code",
      "execution_count": 77,
      "metadata": {
        "colab": {
          "base_uri": "https://localhost:8080/",
          "height": 542
        },
        "id": "_mLg4zDypoB4",
        "outputId": "b7a8ce1c-a96b-4597-e425-e387d8054f59"
      },
      "outputs": [
        {
          "data": {
            "application/vnd.plotly.v1+json": {
              "config": {
                "plotlyServerURL": "https://plot.ly"
              },
              "data": [
                {
                  "hovertemplate": "Number of Estimators=500<br>Max Depth=%{x}<br>Precision Score=%{y}<extra></extra>",
                  "legendgroup": "500",
                  "line": {
                    "color": "#636efa",
                    "dash": "solid"
                  },
                  "marker": {
                    "symbol": "circle"
                  },
                  "mode": "lines",
                  "name": "500",
                  "orientation": "v",
                  "showlegend": true,
                  "type": "scatter",
                  "x": [
                    15,
                    16,
                    17,
                    18,
                    19,
                    20
                  ],
                  "xaxis": "x",
                  "y": [
                    0.5719,
                    0.5746,
                    0.5682,
                    0.5768,
                    0.57,
                    0.5782
                  ],
                  "yaxis": "y"
                }
              ],
              "layout": {
                "legend": {
                  "title": {
                    "text": "Number of Estimators"
                  },
                  "tracegroupgap": 0
                },
                "template": {
                  "data": {
                    "bar": [
                      {
                        "error_x": {
                          "color": "#2a3f5f"
                        },
                        "error_y": {
                          "color": "#2a3f5f"
                        },
                        "marker": {
                          "line": {
                            "color": "#E5ECF6",
                            "width": 0.5
                          },
                          "pattern": {
                            "fillmode": "overlay",
                            "size": 10,
                            "solidity": 0.2
                          }
                        },
                        "type": "bar"
                      }
                    ],
                    "barpolar": [
                      {
                        "marker": {
                          "line": {
                            "color": "#E5ECF6",
                            "width": 0.5
                          },
                          "pattern": {
                            "fillmode": "overlay",
                            "size": 10,
                            "solidity": 0.2
                          }
                        },
                        "type": "barpolar"
                      }
                    ],
                    "carpet": [
                      {
                        "aaxis": {
                          "endlinecolor": "#2a3f5f",
                          "gridcolor": "white",
                          "linecolor": "white",
                          "minorgridcolor": "white",
                          "startlinecolor": "#2a3f5f"
                        },
                        "baxis": {
                          "endlinecolor": "#2a3f5f",
                          "gridcolor": "white",
                          "linecolor": "white",
                          "minorgridcolor": "white",
                          "startlinecolor": "#2a3f5f"
                        },
                        "type": "carpet"
                      }
                    ],
                    "choropleth": [
                      {
                        "colorbar": {
                          "outlinewidth": 0,
                          "ticks": ""
                        },
                        "type": "choropleth"
                      }
                    ],
                    "contour": [
                      {
                        "colorbar": {
                          "outlinewidth": 0,
                          "ticks": ""
                        },
                        "colorscale": [
                          [
                            0,
                            "#0d0887"
                          ],
                          [
                            0.1111111111111111,
                            "#46039f"
                          ],
                          [
                            0.2222222222222222,
                            "#7201a8"
                          ],
                          [
                            0.3333333333333333,
                            "#9c179e"
                          ],
                          [
                            0.4444444444444444,
                            "#bd3786"
                          ],
                          [
                            0.5555555555555556,
                            "#d8576b"
                          ],
                          [
                            0.6666666666666666,
                            "#ed7953"
                          ],
                          [
                            0.7777777777777778,
                            "#fb9f3a"
                          ],
                          [
                            0.8888888888888888,
                            "#fdca26"
                          ],
                          [
                            1,
                            "#f0f921"
                          ]
                        ],
                        "type": "contour"
                      }
                    ],
                    "contourcarpet": [
                      {
                        "colorbar": {
                          "outlinewidth": 0,
                          "ticks": ""
                        },
                        "type": "contourcarpet"
                      }
                    ],
                    "heatmap": [
                      {
                        "colorbar": {
                          "outlinewidth": 0,
                          "ticks": ""
                        },
                        "colorscale": [
                          [
                            0,
                            "#0d0887"
                          ],
                          [
                            0.1111111111111111,
                            "#46039f"
                          ],
                          [
                            0.2222222222222222,
                            "#7201a8"
                          ],
                          [
                            0.3333333333333333,
                            "#9c179e"
                          ],
                          [
                            0.4444444444444444,
                            "#bd3786"
                          ],
                          [
                            0.5555555555555556,
                            "#d8576b"
                          ],
                          [
                            0.6666666666666666,
                            "#ed7953"
                          ],
                          [
                            0.7777777777777778,
                            "#fb9f3a"
                          ],
                          [
                            0.8888888888888888,
                            "#fdca26"
                          ],
                          [
                            1,
                            "#f0f921"
                          ]
                        ],
                        "type": "heatmap"
                      }
                    ],
                    "heatmapgl": [
                      {
                        "colorbar": {
                          "outlinewidth": 0,
                          "ticks": ""
                        },
                        "colorscale": [
                          [
                            0,
                            "#0d0887"
                          ],
                          [
                            0.1111111111111111,
                            "#46039f"
                          ],
                          [
                            0.2222222222222222,
                            "#7201a8"
                          ],
                          [
                            0.3333333333333333,
                            "#9c179e"
                          ],
                          [
                            0.4444444444444444,
                            "#bd3786"
                          ],
                          [
                            0.5555555555555556,
                            "#d8576b"
                          ],
                          [
                            0.6666666666666666,
                            "#ed7953"
                          ],
                          [
                            0.7777777777777778,
                            "#fb9f3a"
                          ],
                          [
                            0.8888888888888888,
                            "#fdca26"
                          ],
                          [
                            1,
                            "#f0f921"
                          ]
                        ],
                        "type": "heatmapgl"
                      }
                    ],
                    "histogram": [
                      {
                        "marker": {
                          "pattern": {
                            "fillmode": "overlay",
                            "size": 10,
                            "solidity": 0.2
                          }
                        },
                        "type": "histogram"
                      }
                    ],
                    "histogram2d": [
                      {
                        "colorbar": {
                          "outlinewidth": 0,
                          "ticks": ""
                        },
                        "colorscale": [
                          [
                            0,
                            "#0d0887"
                          ],
                          [
                            0.1111111111111111,
                            "#46039f"
                          ],
                          [
                            0.2222222222222222,
                            "#7201a8"
                          ],
                          [
                            0.3333333333333333,
                            "#9c179e"
                          ],
                          [
                            0.4444444444444444,
                            "#bd3786"
                          ],
                          [
                            0.5555555555555556,
                            "#d8576b"
                          ],
                          [
                            0.6666666666666666,
                            "#ed7953"
                          ],
                          [
                            0.7777777777777778,
                            "#fb9f3a"
                          ],
                          [
                            0.8888888888888888,
                            "#fdca26"
                          ],
                          [
                            1,
                            "#f0f921"
                          ]
                        ],
                        "type": "histogram2d"
                      }
                    ],
                    "histogram2dcontour": [
                      {
                        "colorbar": {
                          "outlinewidth": 0,
                          "ticks": ""
                        },
                        "colorscale": [
                          [
                            0,
                            "#0d0887"
                          ],
                          [
                            0.1111111111111111,
                            "#46039f"
                          ],
                          [
                            0.2222222222222222,
                            "#7201a8"
                          ],
                          [
                            0.3333333333333333,
                            "#9c179e"
                          ],
                          [
                            0.4444444444444444,
                            "#bd3786"
                          ],
                          [
                            0.5555555555555556,
                            "#d8576b"
                          ],
                          [
                            0.6666666666666666,
                            "#ed7953"
                          ],
                          [
                            0.7777777777777778,
                            "#fb9f3a"
                          ],
                          [
                            0.8888888888888888,
                            "#fdca26"
                          ],
                          [
                            1,
                            "#f0f921"
                          ]
                        ],
                        "type": "histogram2dcontour"
                      }
                    ],
                    "mesh3d": [
                      {
                        "colorbar": {
                          "outlinewidth": 0,
                          "ticks": ""
                        },
                        "type": "mesh3d"
                      }
                    ],
                    "parcoords": [
                      {
                        "line": {
                          "colorbar": {
                            "outlinewidth": 0,
                            "ticks": ""
                          }
                        },
                        "type": "parcoords"
                      }
                    ],
                    "pie": [
                      {
                        "automargin": true,
                        "type": "pie"
                      }
                    ],
                    "scatter": [
                      {
                        "fillpattern": {
                          "fillmode": "overlay",
                          "size": 10,
                          "solidity": 0.2
                        },
                        "type": "scatter"
                      }
                    ],
                    "scatter3d": [
                      {
                        "line": {
                          "colorbar": {
                            "outlinewidth": 0,
                            "ticks": ""
                          }
                        },
                        "marker": {
                          "colorbar": {
                            "outlinewidth": 0,
                            "ticks": ""
                          }
                        },
                        "type": "scatter3d"
                      }
                    ],
                    "scattercarpet": [
                      {
                        "marker": {
                          "colorbar": {
                            "outlinewidth": 0,
                            "ticks": ""
                          }
                        },
                        "type": "scattercarpet"
                      }
                    ],
                    "scattergeo": [
                      {
                        "marker": {
                          "colorbar": {
                            "outlinewidth": 0,
                            "ticks": ""
                          }
                        },
                        "type": "scattergeo"
                      }
                    ],
                    "scattergl": [
                      {
                        "marker": {
                          "colorbar": {
                            "outlinewidth": 0,
                            "ticks": ""
                          }
                        },
                        "type": "scattergl"
                      }
                    ],
                    "scattermapbox": [
                      {
                        "marker": {
                          "colorbar": {
                            "outlinewidth": 0,
                            "ticks": ""
                          }
                        },
                        "type": "scattermapbox"
                      }
                    ],
                    "scatterpolar": [
                      {
                        "marker": {
                          "colorbar": {
                            "outlinewidth": 0,
                            "ticks": ""
                          }
                        },
                        "type": "scatterpolar"
                      }
                    ],
                    "scatterpolargl": [
                      {
                        "marker": {
                          "colorbar": {
                            "outlinewidth": 0,
                            "ticks": ""
                          }
                        },
                        "type": "scatterpolargl"
                      }
                    ],
                    "scatterternary": [
                      {
                        "marker": {
                          "colorbar": {
                            "outlinewidth": 0,
                            "ticks": ""
                          }
                        },
                        "type": "scatterternary"
                      }
                    ],
                    "surface": [
                      {
                        "colorbar": {
                          "outlinewidth": 0,
                          "ticks": ""
                        },
                        "colorscale": [
                          [
                            0,
                            "#0d0887"
                          ],
                          [
                            0.1111111111111111,
                            "#46039f"
                          ],
                          [
                            0.2222222222222222,
                            "#7201a8"
                          ],
                          [
                            0.3333333333333333,
                            "#9c179e"
                          ],
                          [
                            0.4444444444444444,
                            "#bd3786"
                          ],
                          [
                            0.5555555555555556,
                            "#d8576b"
                          ],
                          [
                            0.6666666666666666,
                            "#ed7953"
                          ],
                          [
                            0.7777777777777778,
                            "#fb9f3a"
                          ],
                          [
                            0.8888888888888888,
                            "#fdca26"
                          ],
                          [
                            1,
                            "#f0f921"
                          ]
                        ],
                        "type": "surface"
                      }
                    ],
                    "table": [
                      {
                        "cells": {
                          "fill": {
                            "color": "#EBF0F8"
                          },
                          "line": {
                            "color": "white"
                          }
                        },
                        "header": {
                          "fill": {
                            "color": "#C8D4E3"
                          },
                          "line": {
                            "color": "white"
                          }
                        },
                        "type": "table"
                      }
                    ]
                  },
                  "layout": {
                    "annotationdefaults": {
                      "arrowcolor": "#2a3f5f",
                      "arrowhead": 0,
                      "arrowwidth": 1
                    },
                    "autotypenumbers": "strict",
                    "coloraxis": {
                      "colorbar": {
                        "outlinewidth": 0,
                        "ticks": ""
                      }
                    },
                    "colorscale": {
                      "diverging": [
                        [
                          0,
                          "#8e0152"
                        ],
                        [
                          0.1,
                          "#c51b7d"
                        ],
                        [
                          0.2,
                          "#de77ae"
                        ],
                        [
                          0.3,
                          "#f1b6da"
                        ],
                        [
                          0.4,
                          "#fde0ef"
                        ],
                        [
                          0.5,
                          "#f7f7f7"
                        ],
                        [
                          0.6,
                          "#e6f5d0"
                        ],
                        [
                          0.7,
                          "#b8e186"
                        ],
                        [
                          0.8,
                          "#7fbc41"
                        ],
                        [
                          0.9,
                          "#4d9221"
                        ],
                        [
                          1,
                          "#276419"
                        ]
                      ],
                      "sequential": [
                        [
                          0,
                          "#0d0887"
                        ],
                        [
                          0.1111111111111111,
                          "#46039f"
                        ],
                        [
                          0.2222222222222222,
                          "#7201a8"
                        ],
                        [
                          0.3333333333333333,
                          "#9c179e"
                        ],
                        [
                          0.4444444444444444,
                          "#bd3786"
                        ],
                        [
                          0.5555555555555556,
                          "#d8576b"
                        ],
                        [
                          0.6666666666666666,
                          "#ed7953"
                        ],
                        [
                          0.7777777777777778,
                          "#fb9f3a"
                        ],
                        [
                          0.8888888888888888,
                          "#fdca26"
                        ],
                        [
                          1,
                          "#f0f921"
                        ]
                      ],
                      "sequentialminus": [
                        [
                          0,
                          "#0d0887"
                        ],
                        [
                          0.1111111111111111,
                          "#46039f"
                        ],
                        [
                          0.2222222222222222,
                          "#7201a8"
                        ],
                        [
                          0.3333333333333333,
                          "#9c179e"
                        ],
                        [
                          0.4444444444444444,
                          "#bd3786"
                        ],
                        [
                          0.5555555555555556,
                          "#d8576b"
                        ],
                        [
                          0.6666666666666666,
                          "#ed7953"
                        ],
                        [
                          0.7777777777777778,
                          "#fb9f3a"
                        ],
                        [
                          0.8888888888888888,
                          "#fdca26"
                        ],
                        [
                          1,
                          "#f0f921"
                        ]
                      ]
                    },
                    "colorway": [
                      "#636efa",
                      "#EF553B",
                      "#00cc96",
                      "#ab63fa",
                      "#FFA15A",
                      "#19d3f3",
                      "#FF6692",
                      "#B6E880",
                      "#FF97FF",
                      "#FECB52"
                    ],
                    "font": {
                      "color": "#2a3f5f"
                    },
                    "geo": {
                      "bgcolor": "white",
                      "lakecolor": "white",
                      "landcolor": "#E5ECF6",
                      "showlakes": true,
                      "showland": true,
                      "subunitcolor": "white"
                    },
                    "hoverlabel": {
                      "align": "left"
                    },
                    "hovermode": "closest",
                    "mapbox": {
                      "style": "light"
                    },
                    "paper_bgcolor": "white",
                    "plot_bgcolor": "#E5ECF6",
                    "polar": {
                      "angularaxis": {
                        "gridcolor": "white",
                        "linecolor": "white",
                        "ticks": ""
                      },
                      "bgcolor": "#E5ECF6",
                      "radialaxis": {
                        "gridcolor": "white",
                        "linecolor": "white",
                        "ticks": ""
                      }
                    },
                    "scene": {
                      "xaxis": {
                        "backgroundcolor": "#E5ECF6",
                        "gridcolor": "white",
                        "gridwidth": 2,
                        "linecolor": "white",
                        "showbackground": true,
                        "ticks": "",
                        "zerolinecolor": "white"
                      },
                      "yaxis": {
                        "backgroundcolor": "#E5ECF6",
                        "gridcolor": "white",
                        "gridwidth": 2,
                        "linecolor": "white",
                        "showbackground": true,
                        "ticks": "",
                        "zerolinecolor": "white"
                      },
                      "zaxis": {
                        "backgroundcolor": "#E5ECF6",
                        "gridcolor": "white",
                        "gridwidth": 2,
                        "linecolor": "white",
                        "showbackground": true,
                        "ticks": "",
                        "zerolinecolor": "white"
                      }
                    },
                    "shapedefaults": {
                      "line": {
                        "color": "#2a3f5f"
                      }
                    },
                    "ternary": {
                      "aaxis": {
                        "gridcolor": "white",
                        "linecolor": "white",
                        "ticks": ""
                      },
                      "baxis": {
                        "gridcolor": "white",
                        "linecolor": "white",
                        "ticks": ""
                      },
                      "bgcolor": "#E5ECF6",
                      "caxis": {
                        "gridcolor": "white",
                        "linecolor": "white",
                        "ticks": ""
                      }
                    },
                    "title": {
                      "x": 0.05
                    },
                    "xaxis": {
                      "automargin": true,
                      "gridcolor": "white",
                      "linecolor": "white",
                      "ticks": "",
                      "title": {
                        "standoff": 15
                      },
                      "zerolinecolor": "white",
                      "zerolinewidth": 2
                    },
                    "yaxis": {
                      "automargin": true,
                      "gridcolor": "white",
                      "linecolor": "white",
                      "ticks": "",
                      "title": {
                        "standoff": 15
                      },
                      "zerolinecolor": "white",
                      "zerolinewidth": 2
                    }
                  }
                },
                "title": {
                  "text": "Random Forest Models: Precision Score vs. Max Depth for Different Number of Estimators"
                },
                "xaxis": {
                  "anchor": "y",
                  "domain": [
                    0,
                    1
                  ],
                  "range": [
                    15,
                    20
                  ],
                  "title": {
                    "text": "Max Depth"
                  }
                },
                "yaxis": {
                  "anchor": "x",
                  "domain": [
                    0,
                    1
                  ],
                  "title": {
                    "text": "Precision Score"
                  }
                }
              }
            }
          },
          "metadata": {},
          "output_type": "display_data"
        }
      ],
      "source": [
        "\n",
        "# Convert data to DataFrame\n",
        "df = pd.DataFrame.from_dict(best_precision_matrix_random_forest, orient='index', columns=['precision_score']).reset_index()\n",
        "\n",
        "# Rename the columns for clarity\n",
        "df.columns = ['max_depth_and_metric', 'precision_score']\n",
        "\n",
        "# Separate the tuple into two columns\n",
        "df[['max_depth', 'n_estimators']] = pd.DataFrame(df['max_depth_and_metric'].tolist(), index=df.index)\n",
        "\n",
        "# Drop the combined column\n",
        "df = df.drop(columns=['max_depth_and_metric'])\n",
        "\n",
        "# Create line plot using Plotly Express\n",
        "fig = px.line(df, x='max_depth', y='precision_score', color='n_estimators',\n",
        "              labels={'max_depth': 'Max Depth', 'precision_score': 'Precision Score', 'n_estimators': 'Number of Estimators'},\n",
        "              title='Random Forest Models: Precision Score vs. Max Depth for Different Number of Estimators')\n",
        "\n",
        "# Adjust x-axis range\n",
        "fig.update_xaxes(range=[15, 20])\n",
        "\n",
        "# Show the figure\n",
        "fig.show()"
      ]
    },
    {
      "cell_type": "code",
      "execution_count": 78,
      "metadata": {
        "colab": {
          "base_uri": "https://localhost:8080/"
        },
        "id": "f89wTM0wpoNP",
        "outputId": "a4045aff-d6ad-4f1e-b435-5f8d01907a79"
      },
      "outputs": [
        {
          "name": "stdout",
          "output_type": "stream",
          "text": [
            "CPU times: total: 28min 44s\n",
            "Wall time: 2min 22s\n"
          ]
        }
      ],
      "source": [
        "%%time\n",
        "\n",
        "# Suboptimal Predictor with less (than optimal) Estimators (200) and lower Max_Depth (17)\n",
        "# several minutes to compute (6 min)\n",
        "\n",
        "#rf_best = RandomForestClassifier(n_estimators = 200,\n",
        "#                                 max_depth = 17,\n",
        "#                                 random_state = 42,\n",
        "#                                 n_jobs = -1)\n",
        "\n",
        "# 22 min\n",
        "rf_best = RandomForestClassifier(n_estimators = 500,\n",
        "                                 max_depth = 20,\n",
        "                                 random_state = 42,\n",
        "                                 n_jobs = -1)\n",
        "\n",
        "rf_best = rf_best.fit(X_train_valid, y_train_valid)"
      ]
    },
    {
      "cell_type": "markdown",
      "metadata": {
        "id": "9f87ZB8Jp5Ri"
      },
      "source": [
        "## 1.4 Logistic Regression\n",
        "\n",
        "https://scikit-learn.org/stable/modules/generated/sklearn.linear_model.LogisticRegression.html\n",
        "\n",
        "There can be many reasons when Logistic Regression does not converge: https://forecastegy.com/posts/how-to-solve-logistic-regression-not-converging-in-scikit-learn/"
      ]
    },
    {
      "cell_type": "code",
      "execution_count": 79,
      "metadata": {
        "colab": {
          "base_uri": "https://localhost:8080/"
        },
        "id": "nGTYxIpvqFm2",
        "outputId": "c1d24dc5-b29e-424b-921d-7265b102ef7e"
      },
      "outputs": [
        {
          "name": "stdout",
          "output_type": "stream",
          "text": [
            "Working with HyperParams: C = 1 (positive float, smaller = stronger regularization), max_iter=50\n",
            "Working with HyperParams: C = 1 (positive float, smaller = stronger regularization), max_iter=100\n",
            "Working with HyperParams: C = 1 (positive float, smaller = stronger regularization), max_iter=200\n",
            "  Precision on test is 0.5550078582654665, (precision on valid is 0.5731958032043102 - tend to overfit)\n",
            "New best precision found for C=1\n",
            "------------------------------\n",
            "Working with HyperParams: C = 0.1 (positive float, smaller = stronger regularization), max_iter=50\n",
            "Working with HyperParams: C = 0.1 (positive float, smaller = stronger regularization), max_iter=100\n",
            "Working with HyperParams: C = 0.1 (positive float, smaller = stronger regularization), max_iter=200\n",
            "  Precision on test is 0.5550078582654665, (precision on valid is 0.5731958032043102 - tend to overfit)\n",
            "New best precision found for C=0.1\n",
            "------------------------------\n",
            "Working with HyperParams: C = 0.01 (positive float, smaller = stronger regularization), max_iter=50\n",
            "Working with HyperParams: C = 0.01 (positive float, smaller = stronger regularization), max_iter=100\n",
            "Working with HyperParams: C = 0.01 (positive float, smaller = stronger regularization), max_iter=200\n",
            "  Precision on test is 0.5550078582654665, (precision on valid is 0.5731958032043102 - tend to overfit)\n",
            "New best precision found for C=0.01\n",
            "------------------------------\n",
            "Matrix of precisions: {(1, 200): 0.555, (0.1, 200): 0.555, (0.01, 200): 0.555}\n",
            "The best precision is 0.555 and the best C is 0.01, best max_iter = 200  \n"
          ]
        }
      ],
      "source": [
        "from sklearn.linear_model import LogisticRegression\n",
        "\n",
        "precision_matrix = {}\n",
        "best_precision = 0\n",
        "best_C = 0\n",
        "best_iter = 0\n",
        "\n",
        "for c in [1, 0.1, 0.01]:\n",
        "    for iter in [50, 100, 200]:\n",
        "        print(f'Working with HyperParams: C = {c} (positive float, smaller = stronger regularization), max_iter={iter}')\n",
        "    # fitting the tree on X_train, y_train\n",
        "    # hyperParam C should be between 0 and 1\n",
        "    lr = LogisticRegression(C=c,\n",
        "                             random_state=42,\n",
        "                             max_iter=iter,\n",
        "                             solver='sag',\n",
        "                             n_jobs=-1)\n",
        "\n",
        "    lr = lr.fit(X_train_valid, y_train_valid)\n",
        "\n",
        "    # getting the predictions for TEST and accuracy score\n",
        "    y_pred_valid = lr.predict(X_valid)\n",
        "    precision_valid = precision_score(y_valid, y_pred_valid)\n",
        "    y_pred_test = lr.predict(X_test)\n",
        "    precision_test = precision_score(y_test, y_pred_test)\n",
        "    print(f'  Precision on test is {precision_test}, (precision on valid is {precision_valid} - tend to overfit)')\n",
        "    # saving to the dict\n",
        "    precision_matrix[(c,iter)] = round(precision_test,4)\n",
        "    # updating the best precision\n",
        "    if precision_test >= best_precision:\n",
        "      best_precision = round(precision_test,4)\n",
        "      best_C = c\n",
        "      best_iter = iter\n",
        "      print(f'New best precision found for C={c}')\n",
        "      print('------------------------------')\n",
        "\n",
        "print(f'Matrix of precisions: {precision_matrix}')\n",
        "print(f'The best precision is {best_precision} and the best C is {best_C}, best max_iter = {best_iter}  ')"
      ]
    },
    {
      "cell_type": "code",
      "execution_count": 80,
      "metadata": {
        "colab": {
          "base_uri": "https://localhost:8080/"
        },
        "id": "6Ld4QIPXqGa-",
        "outputId": "520527a6-5b64-4bae-84d1-e23efb5c5eba"
      },
      "outputs": [
        {
          "name": "stdout",
          "output_type": "stream",
          "text": [
            "{(1, 200): 0.555, (0.1, 200): 0.555, (0.01, 200): 0.555}\n"
          ]
        }
      ],
      "source": [
        "# UNCOMMENT TO SEE THE RESULTS OF THE RUN\n",
        "print(precision_matrix)"
      ]
    },
    {
      "cell_type": "code",
      "execution_count": 81,
      "metadata": {
        "id": "QxSsyYWGqHSr"
      },
      "outputs": [],
      "source": [
        "# Params on C, iter\n",
        "#best_precision_matrix_logistic_regression = {(1, 50): 0.5551, (1, 100): 0.555, (1, 200): 0.555, (0.1, 50): 0.5551, (0.1, 100): 0.555, (0.1, 200): 0.555, (0.01, 50): 0.5551, (0.01, 100): 0.555, (0.01, 200): 0.555}\n",
        "best_precision_matrix_logistic_regression = precision_matrix"
      ]
    },
    {
      "cell_type": "code",
      "execution_count": 82,
      "metadata": {
        "colab": {
          "base_uri": "https://localhost:8080/"
        },
        "id": "I8S8HmAQqIgB",
        "outputId": "68fb236f-5734-46d8-b012-a95108a4610c"
      },
      "outputs": [
        {
          "data": {
            "text/plain": [
              "((1, 200), 0.555)"
            ]
          },
          "execution_count": 82,
          "metadata": {},
          "output_type": "execute_result"
        }
      ],
      "source": [
        "list(best_precision_matrix_logistic_regression.items())[0]"
      ]
    },
    {
      "cell_type": "code",
      "execution_count": 83,
      "metadata": {
        "colab": {
          "base_uri": "https://localhost:8080/",
          "height": 542
        },
        "id": "G35N2HI2qK3-",
        "outputId": "6c5af84e-8e2a-4763-caf2-511ea45d0a81"
      },
      "outputs": [
        {
          "data": {
            "application/vnd.plotly.v1+json": {
              "config": {
                "plotlyServerURL": "https://plot.ly"
              },
              "data": [
                {
                  "alignmentgroup": "True",
                  "hovertemplate": "Combination=%{x}<br>Precision=%{text}<extra></extra>",
                  "legendgroup": "",
                  "marker": {
                    "color": "#636efa",
                    "pattern": {
                      "shape": ""
                    }
                  },
                  "name": "",
                  "offsetgroup": "",
                  "orientation": "v",
                  "showlegend": false,
                  "text": [
                    55.50000000000001,
                    55.50000000000001,
                    55.50000000000001
                  ],
                  "textfont": {
                    "color": "white"
                  },
                  "textposition": "inside",
                  "texttemplate": "%{text:.2f}%",
                  "type": "bar",
                  "x": [
                    "C=1, max_iter=200",
                    "C=0.1, max_iter=200",
                    "C=0.01, max_iter=200"
                  ],
                  "xaxis": "x",
                  "y": [
                    55.50000000000001,
                    55.50000000000001,
                    55.50000000000001
                  ],
                  "yaxis": "y"
                }
              ],
              "layout": {
                "barmode": "relative",
                "legend": {
                  "tracegroupgap": 0
                },
                "margin": {
                  "t": 60
                },
                "template": {
                  "data": {
                    "bar": [
                      {
                        "error_x": {
                          "color": "#2a3f5f"
                        },
                        "error_y": {
                          "color": "#2a3f5f"
                        },
                        "marker": {
                          "line": {
                            "color": "#E5ECF6",
                            "width": 0.5
                          },
                          "pattern": {
                            "fillmode": "overlay",
                            "size": 10,
                            "solidity": 0.2
                          }
                        },
                        "type": "bar"
                      }
                    ],
                    "barpolar": [
                      {
                        "marker": {
                          "line": {
                            "color": "#E5ECF6",
                            "width": 0.5
                          },
                          "pattern": {
                            "fillmode": "overlay",
                            "size": 10,
                            "solidity": 0.2
                          }
                        },
                        "type": "barpolar"
                      }
                    ],
                    "carpet": [
                      {
                        "aaxis": {
                          "endlinecolor": "#2a3f5f",
                          "gridcolor": "white",
                          "linecolor": "white",
                          "minorgridcolor": "white",
                          "startlinecolor": "#2a3f5f"
                        },
                        "baxis": {
                          "endlinecolor": "#2a3f5f",
                          "gridcolor": "white",
                          "linecolor": "white",
                          "minorgridcolor": "white",
                          "startlinecolor": "#2a3f5f"
                        },
                        "type": "carpet"
                      }
                    ],
                    "choropleth": [
                      {
                        "colorbar": {
                          "outlinewidth": 0,
                          "ticks": ""
                        },
                        "type": "choropleth"
                      }
                    ],
                    "contour": [
                      {
                        "colorbar": {
                          "outlinewidth": 0,
                          "ticks": ""
                        },
                        "colorscale": [
                          [
                            0,
                            "#0d0887"
                          ],
                          [
                            0.1111111111111111,
                            "#46039f"
                          ],
                          [
                            0.2222222222222222,
                            "#7201a8"
                          ],
                          [
                            0.3333333333333333,
                            "#9c179e"
                          ],
                          [
                            0.4444444444444444,
                            "#bd3786"
                          ],
                          [
                            0.5555555555555556,
                            "#d8576b"
                          ],
                          [
                            0.6666666666666666,
                            "#ed7953"
                          ],
                          [
                            0.7777777777777778,
                            "#fb9f3a"
                          ],
                          [
                            0.8888888888888888,
                            "#fdca26"
                          ],
                          [
                            1,
                            "#f0f921"
                          ]
                        ],
                        "type": "contour"
                      }
                    ],
                    "contourcarpet": [
                      {
                        "colorbar": {
                          "outlinewidth": 0,
                          "ticks": ""
                        },
                        "type": "contourcarpet"
                      }
                    ],
                    "heatmap": [
                      {
                        "colorbar": {
                          "outlinewidth": 0,
                          "ticks": ""
                        },
                        "colorscale": [
                          [
                            0,
                            "#0d0887"
                          ],
                          [
                            0.1111111111111111,
                            "#46039f"
                          ],
                          [
                            0.2222222222222222,
                            "#7201a8"
                          ],
                          [
                            0.3333333333333333,
                            "#9c179e"
                          ],
                          [
                            0.4444444444444444,
                            "#bd3786"
                          ],
                          [
                            0.5555555555555556,
                            "#d8576b"
                          ],
                          [
                            0.6666666666666666,
                            "#ed7953"
                          ],
                          [
                            0.7777777777777778,
                            "#fb9f3a"
                          ],
                          [
                            0.8888888888888888,
                            "#fdca26"
                          ],
                          [
                            1,
                            "#f0f921"
                          ]
                        ],
                        "type": "heatmap"
                      }
                    ],
                    "heatmapgl": [
                      {
                        "colorbar": {
                          "outlinewidth": 0,
                          "ticks": ""
                        },
                        "colorscale": [
                          [
                            0,
                            "#0d0887"
                          ],
                          [
                            0.1111111111111111,
                            "#46039f"
                          ],
                          [
                            0.2222222222222222,
                            "#7201a8"
                          ],
                          [
                            0.3333333333333333,
                            "#9c179e"
                          ],
                          [
                            0.4444444444444444,
                            "#bd3786"
                          ],
                          [
                            0.5555555555555556,
                            "#d8576b"
                          ],
                          [
                            0.6666666666666666,
                            "#ed7953"
                          ],
                          [
                            0.7777777777777778,
                            "#fb9f3a"
                          ],
                          [
                            0.8888888888888888,
                            "#fdca26"
                          ],
                          [
                            1,
                            "#f0f921"
                          ]
                        ],
                        "type": "heatmapgl"
                      }
                    ],
                    "histogram": [
                      {
                        "marker": {
                          "pattern": {
                            "fillmode": "overlay",
                            "size": 10,
                            "solidity": 0.2
                          }
                        },
                        "type": "histogram"
                      }
                    ],
                    "histogram2d": [
                      {
                        "colorbar": {
                          "outlinewidth": 0,
                          "ticks": ""
                        },
                        "colorscale": [
                          [
                            0,
                            "#0d0887"
                          ],
                          [
                            0.1111111111111111,
                            "#46039f"
                          ],
                          [
                            0.2222222222222222,
                            "#7201a8"
                          ],
                          [
                            0.3333333333333333,
                            "#9c179e"
                          ],
                          [
                            0.4444444444444444,
                            "#bd3786"
                          ],
                          [
                            0.5555555555555556,
                            "#d8576b"
                          ],
                          [
                            0.6666666666666666,
                            "#ed7953"
                          ],
                          [
                            0.7777777777777778,
                            "#fb9f3a"
                          ],
                          [
                            0.8888888888888888,
                            "#fdca26"
                          ],
                          [
                            1,
                            "#f0f921"
                          ]
                        ],
                        "type": "histogram2d"
                      }
                    ],
                    "histogram2dcontour": [
                      {
                        "colorbar": {
                          "outlinewidth": 0,
                          "ticks": ""
                        },
                        "colorscale": [
                          [
                            0,
                            "#0d0887"
                          ],
                          [
                            0.1111111111111111,
                            "#46039f"
                          ],
                          [
                            0.2222222222222222,
                            "#7201a8"
                          ],
                          [
                            0.3333333333333333,
                            "#9c179e"
                          ],
                          [
                            0.4444444444444444,
                            "#bd3786"
                          ],
                          [
                            0.5555555555555556,
                            "#d8576b"
                          ],
                          [
                            0.6666666666666666,
                            "#ed7953"
                          ],
                          [
                            0.7777777777777778,
                            "#fb9f3a"
                          ],
                          [
                            0.8888888888888888,
                            "#fdca26"
                          ],
                          [
                            1,
                            "#f0f921"
                          ]
                        ],
                        "type": "histogram2dcontour"
                      }
                    ],
                    "mesh3d": [
                      {
                        "colorbar": {
                          "outlinewidth": 0,
                          "ticks": ""
                        },
                        "type": "mesh3d"
                      }
                    ],
                    "parcoords": [
                      {
                        "line": {
                          "colorbar": {
                            "outlinewidth": 0,
                            "ticks": ""
                          }
                        },
                        "type": "parcoords"
                      }
                    ],
                    "pie": [
                      {
                        "automargin": true,
                        "type": "pie"
                      }
                    ],
                    "scatter": [
                      {
                        "fillpattern": {
                          "fillmode": "overlay",
                          "size": 10,
                          "solidity": 0.2
                        },
                        "type": "scatter"
                      }
                    ],
                    "scatter3d": [
                      {
                        "line": {
                          "colorbar": {
                            "outlinewidth": 0,
                            "ticks": ""
                          }
                        },
                        "marker": {
                          "colorbar": {
                            "outlinewidth": 0,
                            "ticks": ""
                          }
                        },
                        "type": "scatter3d"
                      }
                    ],
                    "scattercarpet": [
                      {
                        "marker": {
                          "colorbar": {
                            "outlinewidth": 0,
                            "ticks": ""
                          }
                        },
                        "type": "scattercarpet"
                      }
                    ],
                    "scattergeo": [
                      {
                        "marker": {
                          "colorbar": {
                            "outlinewidth": 0,
                            "ticks": ""
                          }
                        },
                        "type": "scattergeo"
                      }
                    ],
                    "scattergl": [
                      {
                        "marker": {
                          "colorbar": {
                            "outlinewidth": 0,
                            "ticks": ""
                          }
                        },
                        "type": "scattergl"
                      }
                    ],
                    "scattermapbox": [
                      {
                        "marker": {
                          "colorbar": {
                            "outlinewidth": 0,
                            "ticks": ""
                          }
                        },
                        "type": "scattermapbox"
                      }
                    ],
                    "scatterpolar": [
                      {
                        "marker": {
                          "colorbar": {
                            "outlinewidth": 0,
                            "ticks": ""
                          }
                        },
                        "type": "scatterpolar"
                      }
                    ],
                    "scatterpolargl": [
                      {
                        "marker": {
                          "colorbar": {
                            "outlinewidth": 0,
                            "ticks": ""
                          }
                        },
                        "type": "scatterpolargl"
                      }
                    ],
                    "scatterternary": [
                      {
                        "marker": {
                          "colorbar": {
                            "outlinewidth": 0,
                            "ticks": ""
                          }
                        },
                        "type": "scatterternary"
                      }
                    ],
                    "surface": [
                      {
                        "colorbar": {
                          "outlinewidth": 0,
                          "ticks": ""
                        },
                        "colorscale": [
                          [
                            0,
                            "#0d0887"
                          ],
                          [
                            0.1111111111111111,
                            "#46039f"
                          ],
                          [
                            0.2222222222222222,
                            "#7201a8"
                          ],
                          [
                            0.3333333333333333,
                            "#9c179e"
                          ],
                          [
                            0.4444444444444444,
                            "#bd3786"
                          ],
                          [
                            0.5555555555555556,
                            "#d8576b"
                          ],
                          [
                            0.6666666666666666,
                            "#ed7953"
                          ],
                          [
                            0.7777777777777778,
                            "#fb9f3a"
                          ],
                          [
                            0.8888888888888888,
                            "#fdca26"
                          ],
                          [
                            1,
                            "#f0f921"
                          ]
                        ],
                        "type": "surface"
                      }
                    ],
                    "table": [
                      {
                        "cells": {
                          "fill": {
                            "color": "#EBF0F8"
                          },
                          "line": {
                            "color": "white"
                          }
                        },
                        "header": {
                          "fill": {
                            "color": "#C8D4E3"
                          },
                          "line": {
                            "color": "white"
                          }
                        },
                        "type": "table"
                      }
                    ]
                  },
                  "layout": {
                    "annotationdefaults": {
                      "arrowcolor": "#2a3f5f",
                      "arrowhead": 0,
                      "arrowwidth": 1
                    },
                    "autotypenumbers": "strict",
                    "coloraxis": {
                      "colorbar": {
                        "outlinewidth": 0,
                        "ticks": ""
                      }
                    },
                    "colorscale": {
                      "diverging": [
                        [
                          0,
                          "#8e0152"
                        ],
                        [
                          0.1,
                          "#c51b7d"
                        ],
                        [
                          0.2,
                          "#de77ae"
                        ],
                        [
                          0.3,
                          "#f1b6da"
                        ],
                        [
                          0.4,
                          "#fde0ef"
                        ],
                        [
                          0.5,
                          "#f7f7f7"
                        ],
                        [
                          0.6,
                          "#e6f5d0"
                        ],
                        [
                          0.7,
                          "#b8e186"
                        ],
                        [
                          0.8,
                          "#7fbc41"
                        ],
                        [
                          0.9,
                          "#4d9221"
                        ],
                        [
                          1,
                          "#276419"
                        ]
                      ],
                      "sequential": [
                        [
                          0,
                          "#0d0887"
                        ],
                        [
                          0.1111111111111111,
                          "#46039f"
                        ],
                        [
                          0.2222222222222222,
                          "#7201a8"
                        ],
                        [
                          0.3333333333333333,
                          "#9c179e"
                        ],
                        [
                          0.4444444444444444,
                          "#bd3786"
                        ],
                        [
                          0.5555555555555556,
                          "#d8576b"
                        ],
                        [
                          0.6666666666666666,
                          "#ed7953"
                        ],
                        [
                          0.7777777777777778,
                          "#fb9f3a"
                        ],
                        [
                          0.8888888888888888,
                          "#fdca26"
                        ],
                        [
                          1,
                          "#f0f921"
                        ]
                      ],
                      "sequentialminus": [
                        [
                          0,
                          "#0d0887"
                        ],
                        [
                          0.1111111111111111,
                          "#46039f"
                        ],
                        [
                          0.2222222222222222,
                          "#7201a8"
                        ],
                        [
                          0.3333333333333333,
                          "#9c179e"
                        ],
                        [
                          0.4444444444444444,
                          "#bd3786"
                        ],
                        [
                          0.5555555555555556,
                          "#d8576b"
                        ],
                        [
                          0.6666666666666666,
                          "#ed7953"
                        ],
                        [
                          0.7777777777777778,
                          "#fb9f3a"
                        ],
                        [
                          0.8888888888888888,
                          "#fdca26"
                        ],
                        [
                          1,
                          "#f0f921"
                        ]
                      ]
                    },
                    "colorway": [
                      "#636efa",
                      "#EF553B",
                      "#00cc96",
                      "#ab63fa",
                      "#FFA15A",
                      "#19d3f3",
                      "#FF6692",
                      "#B6E880",
                      "#FF97FF",
                      "#FECB52"
                    ],
                    "font": {
                      "color": "#2a3f5f"
                    },
                    "geo": {
                      "bgcolor": "white",
                      "lakecolor": "white",
                      "landcolor": "#E5ECF6",
                      "showlakes": true,
                      "showland": true,
                      "subunitcolor": "white"
                    },
                    "hoverlabel": {
                      "align": "left"
                    },
                    "hovermode": "closest",
                    "mapbox": {
                      "style": "light"
                    },
                    "paper_bgcolor": "white",
                    "plot_bgcolor": "#E5ECF6",
                    "polar": {
                      "angularaxis": {
                        "gridcolor": "white",
                        "linecolor": "white",
                        "ticks": ""
                      },
                      "bgcolor": "#E5ECF6",
                      "radialaxis": {
                        "gridcolor": "white",
                        "linecolor": "white",
                        "ticks": ""
                      }
                    },
                    "scene": {
                      "xaxis": {
                        "backgroundcolor": "#E5ECF6",
                        "gridcolor": "white",
                        "gridwidth": 2,
                        "linecolor": "white",
                        "showbackground": true,
                        "ticks": "",
                        "zerolinecolor": "white"
                      },
                      "yaxis": {
                        "backgroundcolor": "#E5ECF6",
                        "gridcolor": "white",
                        "gridwidth": 2,
                        "linecolor": "white",
                        "showbackground": true,
                        "ticks": "",
                        "zerolinecolor": "white"
                      },
                      "zaxis": {
                        "backgroundcolor": "#E5ECF6",
                        "gridcolor": "white",
                        "gridwidth": 2,
                        "linecolor": "white",
                        "showbackground": true,
                        "ticks": "",
                        "zerolinecolor": "white"
                      }
                    },
                    "shapedefaults": {
                      "line": {
                        "color": "#2a3f5f"
                      }
                    },
                    "ternary": {
                      "aaxis": {
                        "gridcolor": "white",
                        "linecolor": "white",
                        "ticks": ""
                      },
                      "baxis": {
                        "gridcolor": "white",
                        "linecolor": "white",
                        "ticks": ""
                      },
                      "bgcolor": "#E5ECF6",
                      "caxis": {
                        "gridcolor": "white",
                        "linecolor": "white",
                        "ticks": ""
                      }
                    },
                    "title": {
                      "x": 0.05
                    },
                    "xaxis": {
                      "automargin": true,
                      "gridcolor": "white",
                      "linecolor": "white",
                      "ticks": "",
                      "title": {
                        "standoff": 15
                      },
                      "zerolinecolor": "white",
                      "zerolinewidth": 2
                    },
                    "yaxis": {
                      "automargin": true,
                      "gridcolor": "white",
                      "linecolor": "white",
                      "ticks": "",
                      "title": {
                        "standoff": 15
                      },
                      "zerolinecolor": "white",
                      "zerolinewidth": 2
                    }
                  }
                },
                "title": {
                  "text": "Precision Scores for Various Logistic Regression Hyperparameter Combinations",
                  "x": 0.5,
                  "xanchor": "center",
                  "y": 0.95,
                  "yanchor": "top"
                },
                "xaxis": {
                  "anchor": "y",
                  "domain": [
                    0,
                    1
                  ],
                  "tickangle": -45,
                  "title": {
                    "text": "Hyperparams combinations of <C, Max Iterations>"
                  }
                },
                "yaxis": {
                  "anchor": "x",
                  "domain": [
                    0,
                    1
                  ],
                  "title": {
                    "text": "Precision Score"
                  }
                }
              }
            }
          },
          "metadata": {},
          "output_type": "display_data"
        }
      ],
      "source": [
        "# Visualise precision scores\n",
        "\n",
        "# Prepare the data\n",
        "rows = []\n",
        "for key, value in list(best_precision_matrix_logistic_regression.items()):\n",
        "    C, max_iter = key\n",
        "    combination_label = f'C={C}, max_iter={max_iter}'\n",
        "    rows.append({'Combination': combination_label, 'Precision': value})\n",
        "\n",
        "df = pd.DataFrame(rows)\n",
        "df.loc[:,'Precision'] = df.Precision*100.0 # need for % visualisation\n",
        "\n",
        "# Create the bar chart\n",
        "fig = px.bar(df,\n",
        "             x='Combination',\n",
        "             y='Precision',\n",
        "             text='Precision'\n",
        "             )\n",
        "\n",
        "# Customize the layout for better readability\n",
        "fig.update_layout(\n",
        "    xaxis_title='Hyperparams combinations of <C, Max Iterations>',\n",
        "    yaxis_title='Precision Score',\n",
        "    xaxis_tickangle=-45,\n",
        "    title={\n",
        "        'text': 'Precision Scores for Various Logistic Regression Hyperparameter Combinations',\n",
        "        'y':0.95,\n",
        "        'x':0.5,\n",
        "        'xanchor': 'center',\n",
        "        'yanchor': 'top'\n",
        "    }\n",
        ")\n",
        "\n",
        "\n",
        "# Update the text position\n",
        "fig.update_traces(texttemplate='%{text:.2f}%',\n",
        "                  textposition='inside',\n",
        "                  textfont_color='white')\n",
        "\n",
        "# Show the figure\n",
        "fig.show()"
      ]
    },
    {
      "cell_type": "markdown",
      "metadata": {
        "id": "_Uu1B9NuqP8w"
      },
      "source": [
        "## 1.5) ADVANCED: Deep Neural Network (DNN) and hyperparams tuning\n",
        "* Tutorial from Tensorflow.org\n",
        "* TowardsDataScience Hyperparameter Optimization with Keras\n",
        "* Machine Learning Mastery tutorial with Keras Deep Learning"
      ]
    },
    {
      "cell_type": "code",
      "execution_count": 84,
      "metadata": {
        "colab": {
          "base_uri": "https://localhost:8080/"
        },
        "id": "o_ng0r45qepY",
        "outputId": "2c1520a2-37f5-4620-eb69-7329f46c6543"
      },
      "outputs": [
        {
          "name": "stdout",
          "output_type": "stream",
          "text": [
            "1024\n"
          ]
        }
      ],
      "source": [
        "# https://towardsdatascience.com/hyperparameter-optimization-with-keras-b82e6364ca53\n",
        "\n",
        "\n",
        "# Extended params set\n",
        "\n",
        "# p = {'lr': [0.01, 0.03,0.1, 0.3,1,3,10],\n",
        "#      'first_neuron': [0,16,32,64,128,256],\n",
        "#      'second_neuron':[0,16,32,64,128,256],\n",
        "#      'first_dropout':[0,0.2,0.3],\n",
        "#      'second_dropout':[0,0.2,0.3],\n",
        "#      'activation_first':['relu','sigmoid','linear'],\n",
        "#      'activation_second':['relu','sigmoid','linear'],\n",
        "#     #  'activation_first':('relu','elu','tanh','sigmoid','linear','softplus','selu', 'softsign','exponential'),\n",
        "#     #  'activation_second':('relu','elu','tanh','sigmoid','linear','softplus','selu', 'softsign','exponential'),\n",
        "#     #  'batch_size':(2,30,10),\n",
        "#     #  'loss': ('mse','mae'),\n",
        "#     #  'epochs':[150],\n",
        "#     #  'shape': ['brick','long_funnel'],\n",
        "#      'optimizer':['adam', 'nadam', 'rmaprop','sgd'],\n",
        "#     #  'losses': [logcosh, binary_crossentropy],\n",
        "#     #  'last_activation':[sigmoid]\n",
        "#      }\n",
        "\n",
        "\n",
        "# Reduced params set and available options\n",
        "p = {'lr': [0.1],\n",
        "     'first_neuron': [12,24,32,48,96, 128, 196, 256],\n",
        "     'second_neuron':[12,24,32,48,96, 128, 196, 256],\n",
        "     'first_dropout':[0.1],\n",
        "     'second_dropout':[0.1],\n",
        "     'activation_first':['relu','sigmoid','softplus','tanh'],\n",
        "     'activation_second':['relu'],\n",
        "    #  'activation_first':('relu','elu','tanh','sigmoid','linear','softplus','selu', 'softsign','exponential'),\n",
        "    #  'activation_second':('relu','elu','tanh','sigmoid','linear','softplus','selu', 'softsign','exponential'),\n",
        "    #  'batch_size':(2,30,10),\n",
        "    #  'loss': ('mse','mae'),\n",
        "    #  'epochs':[150],\n",
        "    #  'shape': ['brick','long_funnel'],\n",
        "     'optimizer':['adam','nadam','sgd','rmaprop'],\n",
        "    #  'losses': [logcosh, binary_crossentropy],\n",
        "    #  'last_activation':[sigmoid]\n",
        "     }\n",
        "\n",
        "\n",
        "# Number of models to run and write to SHEETS:\n",
        "count_models=0\n",
        "\n",
        "nn_params = {}\n",
        "\n",
        "for lr in p['lr']:\n",
        "  for first_neuron in p['first_neuron']:\n",
        "    for second_neuron in p['second_neuron']:\n",
        "      for first_dropout in p['first_dropout']:\n",
        "        for second_dropout in p['second_dropout']:\n",
        "          for activation_first in p['activation_first']:\n",
        "            for activation_second in p['activation_second']:\n",
        "              for optimizer in p['optimizer']:\n",
        "                # print(lr,first_neuron,second_neuron,first_dropout,second_dropout,activation_first,activation_second,optimizer,sep='/')\n",
        "                count_models=count_models+1\n",
        "                nn_params['learning_rate'] = lr\n",
        "                nn_params['first_layer_neurons'] = first_neuron\n",
        "                nn_params['first_layer_dropout'] = first_dropout\n",
        "                nn_params['second_layer_neurons'] = second_neuron\n",
        "                nn_params['second_layer_dropout'] = second_dropout\n",
        "                nn_params['activation_first_layer'] = activation_first\n",
        "                nn_params['activation_second_layer'] = activation_second\n",
        "                nn_params['optimizer'] = optimizer\n",
        "                # features count as an input shape\n",
        "                nn_params['input_shape'] = len(X_train.keys())\n",
        "\n",
        "# Current set of models to try\n",
        "print(count_models)"
      ]
    },
    {
      "cell_type": "code",
      "execution_count": 85,
      "metadata": {
        "colab": {
          "base_uri": "https://localhost:8080/"
        },
        "id": "MnDNkOFdqhLM",
        "outputId": "1953fe4a-11fe-4b45-f43d-2889adc998ac"
      },
      "outputs": [
        {
          "data": {
            "text/plain": [
              "{'learning_rate': 0.1,\n",
              " 'first_layer_neurons': 256,\n",
              " 'first_layer_dropout': 0.1,\n",
              " 'second_layer_neurons': 256,\n",
              " 'second_layer_dropout': 0.1,\n",
              " 'activation_first_layer': 'tanh',\n",
              " 'activation_second_layer': 'relu',\n",
              " 'optimizer': 'rmaprop',\n",
              " 'input_shape': 206}"
            ]
          },
          "execution_count": 85,
          "metadata": {},
          "output_type": "execute_result"
        }
      ],
      "source": [
        "nn_params"
      ]
    },
    {
      "cell_type": "code",
      "execution_count": 86,
      "metadata": {
        "id": "T_vTvZ36qiK-"
      },
      "outputs": [],
      "source": [
        "import tensorflow as tf\n",
        "import keras\n",
        "from keras import layers\n",
        "# from keras.models import Sequential\n",
        "# from keras.layers import Dense, Input, Dropout, Activation"
      ]
    },
    {
      "cell_type": "code",
      "execution_count": 88,
      "metadata": {
        "id": "Qcgwn-d7qjhr"
      },
      "outputs": [],
      "source": [
        "# building one Neural Network when Parameters are known:\n",
        "import datetime\n",
        "\n",
        "# len(rez_train.keys())\n",
        "def build_model(nn_params):\n",
        "  # lr, first_neuron, second_neuron, first_dropout, second_dropout, activation_first, activation_second, optimizer\n",
        "  model = keras.Sequential([\n",
        "  layers.Dense(nn_params['first_layer_neurons'],\n",
        "               activation=nn_params['activation_first_layer'],\n",
        "               input_shape=[nn_params['input_shape']]),\n",
        "  layers.Dropout(nn_params['first_layer_dropout']),\n",
        "  layers.Dense(nn_params['second_layer_neurons'],\n",
        "               activation=nn_params['activation_second_layer']),\n",
        "  layers.Dropout(nn_params['second_layer_dropout']),\n",
        "  layers.Dense(1, activation='sigmoid') # sigmoid is important for a Neural Network\n",
        "  ])\n",
        "\n",
        "  if optimizer == 'adam':\n",
        "    opt = keras.optimizers.Adam(lr)\n",
        "  elif optimizer == 'nadam':\n",
        "    opt = keras.optimizers.Nadam(lr)\n",
        "  elif optimizer == 'rmsprop':\n",
        "    opt = keras.optimizers.RMSprop(lr)\n",
        "  elif optimizer == 'sgd':\n",
        "    opt = keras.optimizers.SGD(lr)\n",
        "  else:\n",
        "    opt = keras.optimizers.Adagrad(lr)\n",
        "  model.compile(loss='binary_crossentropy', # mae/rmse for the Regression,\n",
        "                optimizer=opt,\n",
        "                metrics=['accuracy',keras.metrics.Precision()]) # or use [keras.metrics.Precision()] for a binary model : https://keras.io/api/metrics/classification_metrics/#precision-class\n",
        "  return model"
      ]
    },
    {
      "cell_type": "code",
      "execution_count": 89,
      "metadata": {
        "colab": {
          "base_uri": "https://localhost:8080/"
        },
        "id": "YdTmqT9Nqk5J",
        "outputId": "cf9b38af-0811-4d75-9ae0-a53c2b8b5456"
      },
      "outputs": [
        {
          "data": {
            "text/plain": [
              "{'learning_rate': 0.1,\n",
              " 'first_layer_neurons': 256,\n",
              " 'first_layer_dropout': 0.1,\n",
              " 'second_layer_neurons': 256,\n",
              " 'second_layer_dropout': 0.1,\n",
              " 'activation_first_layer': 'tanh',\n",
              " 'activation_second_layer': 'relu',\n",
              " 'optimizer': 'rmaprop',\n",
              " 'input_shape': 206}"
            ]
          },
          "execution_count": 89,
          "metadata": {},
          "output_type": "execute_result"
        }
      ],
      "source": [
        "nn_params"
      ]
    },
    {
      "cell_type": "code",
      "execution_count": 90,
      "metadata": {
        "colab": {
          "base_uri": "https://localhost:8080/"
        },
        "id": "pRros7SSql87",
        "outputId": "4dba300d-d659-4375-cb39-1d36982f9b41"
      },
      "outputs": [
        {
          "name": "stdout",
          "output_type": "stream",
          "text": [
            "Model: \"sequential\"\n",
            "_________________________________________________________________\n",
            " Layer (type)                Output Shape              Param #   \n",
            "=================================================================\n",
            " dense (Dense)               (None, 256)               52992     \n",
            "                                                                 \n",
            " dropout (Dropout)           (None, 256)               0         \n",
            "                                                                 \n",
            " dense_1 (Dense)             (None, 256)               65792     \n",
            "                                                                 \n",
            " dropout_1 (Dropout)         (None, 256)               0         \n",
            "                                                                 \n",
            " dense_2 (Dense)             (None, 1)                 257       \n",
            "                                                                 \n",
            "=================================================================\n",
            "Total params: 119041 (465.00 KB)\n",
            "Trainable params: 119041 (465.00 KB)\n",
            "Non-trainable params: 0 (0.00 Byte)\n",
            "_________________________________________________________________\n"
          ]
        }
      ],
      "source": [
        "model = build_model(nn_params)\n",
        "model.summary()\n",
        "# model.get_config()"
      ]
    },
    {
      "cell_type": "code",
      "execution_count": 91,
      "metadata": {
        "colab": {
          "base_uri": "https://localhost:8080/"
        },
        "id": "pC6y2KKgqnHo",
        "outputId": "0e34f766-386c-4e3b-8413-34444acd998a"
      },
      "outputs": [
        {
          "data": {
            "text/plain": [
              "119041"
            ]
          },
          "execution_count": 91,
          "metadata": {},
          "output_type": "execute_result"
        }
      ],
      "source": [
        "# trainable params in the model with max params (largest hidden layers size)\n",
        "model.count_params()"
      ]
    },
    {
      "cell_type": "code",
      "execution_count": 92,
      "metadata": {
        "id": "rW4aYXsqqoAt"
      },
      "outputs": [],
      "source": [
        "# Display training progress by printing a single dot for each completed epoch\n",
        "class PrintDot(keras.callbacks.Callback):\n",
        "  def on_epoch_end(self, epoch, logs):\n",
        "    if epoch % 100 == 0: print()\n",
        "    print('.', end='')"
      ]
    },
    {
      "cell_type": "code",
      "execution_count": 93,
      "metadata": {
        "id": "YONjXMNqqqPr"
      },
      "outputs": [],
      "source": [
        "# read tutorial about Binary Classification with Neural Network\n",
        "# https://machinelearningmastery.com/binary-classification-tutorial-with-the-keras-deep-learning-library/\n",
        "# https://www.tensorflow.org/api_docs/python/tf/keras/Model#fit\n",
        "\n",
        "\n",
        "# HYPER_PARAMS_SPACE = PARAMS space\n",
        "# WHEN MAX_MODELS>0: return after MAX_MODELS checked\n",
        "# MAX_EPOCHS: how many epochs (periods when model weights are updated) do we need?\n",
        "def train_neural_network_with_hyperparams(HYPER_PARAMS_SPACE, MAX_MODELS=0, MAX_EPOCHS=250, EARLY_STOPPING_PATIENCE=20):\n",
        "\n",
        "  # The patience parameter is the amount of epochs to check for improvement\n",
        "  early_stop = keras.callbacks.EarlyStopping(monitor='val_accuracy',  # we want accuracy to improve every single iteration (or at least in several iterations (EARLY STOPPING PARAM))\n",
        "                                             patience = EARLY_STOPPING_PATIENCE)\n",
        "  nn_params = {} # current hyperParams settings\n",
        "  cur = 0 # models trained\n",
        "\n",
        "  # best stats\n",
        "  best_accuracy = 0\n",
        "  best_model = None\n",
        "  best_history = None\n",
        "\n",
        "  for lr in HYPER_PARAMS_SPACE['lr']:\n",
        "    for first_dropout in HYPER_PARAMS_SPACE['first_dropout']:\n",
        "      for second_dropout in HYPER_PARAMS_SPACE['second_dropout']:\n",
        "        for activation_first in HYPER_PARAMS_SPACE['activation_first']:\n",
        "          for activation_second in HYPER_PARAMS_SPACE['activation_second']:\n",
        "            for optimizer in HYPER_PARAMS_SPACE['optimizer']:\n",
        "              for first_neuron in HYPER_PARAMS_SPACE['first_neuron']:\n",
        "                for second_neuron in HYPER_PARAMS_SPACE['second_neuron']:\n",
        "                  cur = cur+1\n",
        "\n",
        "                  nn_params['learning_rate'] = lr\n",
        "                  nn_params['first_layer_neurons'] = first_neuron\n",
        "                  nn_params['first_layer_dropout'] = first_dropout\n",
        "                  nn_params['second_layer_neurons'] = second_neuron\n",
        "                  nn_params['second_layer_dropout'] = second_dropout\n",
        "                  nn_params['activation_first_layer'] = activation_first\n",
        "                  nn_params['activation_second_layer'] = activation_second\n",
        "                  nn_params['optimizer'] = optimizer\n",
        "\n",
        "                  # features count as an input shape\n",
        "                  nn_params['input_shape'] = len(X_train.keys())\n",
        "\n",
        "                  print(f'Using HyperParams:{nn_params}')\n",
        "\n",
        "                  model = build_model(nn_params)\n",
        "                  # model.summary()\n",
        "\n",
        "                  frame = pd.DataFrame(data=[cur,lr,first_neuron,second_neuron,first_dropout,second_dropout, activation_first, activation_second, optimizer])\n",
        "\n",
        "                  print(f\"Training model {cur} with trainable params {model.count_params()} :\")\n",
        "                  t_start = datetime.datetime.now()\n",
        "                  history = model.fit(\n",
        "                                        X_train_valid,\n",
        "                                        y_train_valid,\n",
        "                                        epochs=MAX_EPOCHS,\n",
        "                                        validation_data = (X_test, y_test),\n",
        "                                        verbose=1, #change to 0 if you don't want to see the progress\n",
        "                                        callbacks=[early_stop,PrintDot()])\n",
        "\n",
        "                  t_diff = datetime.datetime.now() - t_start\n",
        "                  frame = pd.DataFrame(data=[t_diff.seconds,\n",
        "                                          len(history.epoch),\n",
        "                                          history.history['val_accuracy'][0], # start of learning\n",
        "                                          history.history['val_accuracy'][len(history.epoch)-1], # end of learning\n",
        "                                          #  history.history['val_precision_2'][0], # start of learning\n",
        "                                          #  history.history['val_precision_2'][len(history.epoch)-1], # end of learning\n",
        "                                          ])\n",
        "\n",
        "                  if history.history['val_accuracy'][len(history.epoch)-1]> best_accuracy:\n",
        "                    best_accuracy = history.history['val_accuracy'][len(history.epoch)-1]\n",
        "                    best_model = model\n",
        "                    best_history = history\n",
        "\n",
        "                  # early stopping of hyper params loop\n",
        "                  if MAX_MODELS>0 and cur>=MAX_MODELS:\n",
        "                    return best_model, best_history.history\n",
        "\n",
        "                  print('==============================================================')\n",
        "\n",
        "  return best_model, best_history.history #full hyper params search on all models"
      ]
    },
    {
      "cell_type": "code",
      "execution_count": 94,
      "metadata": {
        "colab": {
          "base_uri": "https://localhost:8080/"
        },
        "id": "cR88teMWqrvW",
        "outputId": "68000a1d-d405-4243-8300-2d8c60db3913"
      },
      "outputs": [
        {
          "name": "stdout",
          "output_type": "stream",
          "text": [
            "Using HyperParams:{'learning_rate': 0.1, 'first_layer_neurons': 12, 'first_layer_dropout': 0.1, 'second_layer_neurons': 12, 'second_layer_dropout': 0.1, 'activation_first_layer': 'relu', 'activation_second_layer': 'relu', 'optimizer': 'adam', 'input_shape': 206}\n",
            "Training model 1 with trainable params 2653 :\n",
            "Epoch 1/250\n",
            "4771/4777 [============================>.] - ETA: 0s - loss: 284108.2812 - accuracy: 0.5354 - precision_1: 0.5426\n",
            "4777/4777 [==============================] - 8s 2ms/step - loss: 283785.0938 - accuracy: 0.5354 - precision_1: 0.5426 - val_loss: 113.7836 - val_accuracy: 0.5556 - val_precision_1: 0.5554\n",
            "Epoch 2/250\n",
            "4777/4777 [==============================] - 7s 1ms/step - loss: 4226.7202 - accuracy: 0.5392 - precision_1: 0.5427 - val_loss: 21.5695 - val_accuracy: 0.5555 - val_precision_1: 0.5558\n",
            "Epoch 3/250\n",
            "4777/4777 [==============================] - 7s 1ms/step - loss: 1324.0868 - accuracy: 0.5399 - precision_1: 0.5426 - val_loss: 6.9695 - val_accuracy: 0.5564 - val_precision_1: 0.5562\n",
            "Epoch 4/250\n",
            "4777/4777 [==============================] - 7s 2ms/step - loss: 512.3018 - accuracy: 0.5393 - precision_1: 0.5420 - val_loss: 3.3602 - val_accuracy: 0.5551 - val_precision_1: 0.5561\n",
            "Epoch 5/250\n",
            "4777/4777 [==============================] - 7s 2ms/step - loss: 480.5887 - accuracy: 0.5407 - precision_1: 0.5426 - val_loss: 4.2730 - val_accuracy: 0.5550 - val_precision_1: 0.5552\n",
            "Epoch 6/250\n",
            "4777/4777 [==============================] - 7s 2ms/step - loss: 257.6744 - accuracy: 0.5401 - precision_1: 0.5422 - val_loss: 3.9910 - val_accuracy: 0.5545 - val_precision_1: 0.5553\n",
            "Epoch 7/250\n",
            "4777/4777 [==============================] - 8s 2ms/step - loss: 328.0965 - accuracy: 0.5406 - precision_1: 0.5423 - val_loss: 6.5500 - val_accuracy: 0.5562 - val_precision_1: 0.5565\n",
            "Epoch 8/250\n",
            "4777/4777 [==============================] - 8s 2ms/step - loss: 117.0371 - accuracy: 0.5406 - precision_1: 0.5423 - val_loss: 3.2332 - val_accuracy: 0.5556 - val_precision_1: 0.5559\n",
            "Epoch 9/250\n",
            "4777/4777 [==============================] - 8s 2ms/step - loss: 108.3579 - accuracy: 0.5409 - precision_1: 0.5424 - val_loss: 2.2503 - val_accuracy: 0.5546 - val_precision_1: 0.5552\n",
            "Epoch 10/250\n",
            "4777/4777 [==============================] - 8s 2ms/step - loss: 65.6872 - accuracy: 0.5407 - precision_1: 0.5422 - val_loss: 1.3661 - val_accuracy: 0.5549 - val_precision_1: 0.5551\n",
            "Epoch 11/250\n",
            "4777/4777 [==============================] - 8s 2ms/step - loss: 58.2495 - accuracy: 0.5409 - precision_1: 0.5423 - val_loss: 1.9890 - val_accuracy: 0.5565 - val_precision_1: 0.5565\n",
            "Epoch 12/250\n",
            "4777/4777 [==============================] - 8s 2ms/step - loss: 98.6848 - accuracy: 0.5411 - precision_1: 0.5424 - val_loss: 1.6397 - val_accuracy: 0.5553 - val_precision_1: 0.5555\n",
            "Epoch 13/250\n",
            "4777/4777 [==============================] - 8s 2ms/step - loss: 49.3760 - accuracy: 0.5414 - precision_1: 0.5425 - val_loss: 1.2454 - val_accuracy: 0.5553 - val_precision_1: 0.5553\n",
            "Epoch 14/250\n",
            "4777/4777 [==============================] - 8s 2ms/step - loss: 91.8830 - accuracy: 0.5406 - precision_1: 0.5421 - val_loss: 1.0362 - val_accuracy: 0.5566 - val_precision_1: 0.5565\n",
            "Epoch 15/250\n",
            "4777/4777 [==============================] - 8s 2ms/step - loss: 82.5869 - accuracy: 0.5413 - precision_1: 0.5424 - val_loss: 1.7677 - val_accuracy: 0.5553 - val_precision_1: 0.5552\n",
            "Epoch 16/250\n",
            "4777/4777 [==============================] - 8s 2ms/step - loss: 274.3330 - accuracy: 0.5411 - precision_1: 0.5423 - val_loss: 1.1413 - val_accuracy: 0.5559 - val_precision_1: 0.5557\n",
            "Epoch 17/250\n",
            "4777/4777 [==============================] - 8s 2ms/step - loss: 81.0181 - accuracy: 0.5412 - precision_1: 0.5424 - val_loss: 0.9378 - val_accuracy: 0.5555 - val_precision_1: 0.5554\n",
            "Epoch 18/250\n",
            "4777/4777 [==============================] - 8s 2ms/step - loss: 29.8584 - accuracy: 0.5411 - precision_1: 0.5423 - val_loss: 1.9926 - val_accuracy: 0.5553 - val_precision_1: 0.5553\n",
            "Epoch 19/250\n",
            "4777/4777 [==============================] - 8s 2ms/step - loss: 77.5780 - accuracy: 0.5413 - precision_1: 0.5423 - val_loss: 0.8462 - val_accuracy: 0.5554 - val_precision_1: 0.5553\n",
            "Epoch 20/250\n",
            "4777/4777 [==============================] - 8s 2ms/step - loss: 54.1367 - accuracy: 0.5405 - precision_1: 0.5419 - val_loss: 1.1973 - val_accuracy: 0.5566 - val_precision_1: 0.5561\n",
            "Epoch 21/250\n",
            "4777/4777 [==============================] - 8s 2ms/step - loss: 48.7397 - accuracy: 0.5415 - precision_1: 0.5425 - val_loss: 2.3379 - val_accuracy: 0.5552 - val_precision_1: 0.5553\n",
            "Epoch 22/250\n",
            "4777/4777 [==============================] - 8s 2ms/step - loss: 23.1850 - accuracy: 0.5410 - precision_1: 0.5422 - val_loss: 1.1417 - val_accuracy: 0.5567 - val_precision_1: 0.5566\n",
            "Epoch 23/250\n",
            "4777/4777 [==============================] - 7s 2ms/step - loss: 138.6417 - accuracy: 0.5407 - precision_1: 0.5420 - val_loss: 0.9050 - val_accuracy: 0.5574 - val_precision_1: 0.5567\n",
            "Epoch 24/250\n",
            "4777/4777 [==============================] - 7s 1ms/step - loss: 29.3307 - accuracy: 0.5411 - precision_1: 0.5423 - val_loss: 1.2728 - val_accuracy: 0.5571 - val_precision_1: 0.5566\n",
            "Epoch 25/250\n",
            "4777/4777 [==============================] - 7s 1ms/step - loss: 71.5701 - accuracy: 0.5411 - precision_1: 0.5422 - val_loss: 0.8965 - val_accuracy: 0.5554 - val_precision_1: 0.5557\n",
            "Epoch 26/250\n",
            "4777/4777 [==============================] - 7s 1ms/step - loss: 35.6173 - accuracy: 0.5410 - precision_1: 0.5422 - val_loss: 0.9103 - val_accuracy: 0.5551 - val_precision_1: 0.5553\n",
            "Epoch 27/250\n",
            "4777/4777 [==============================] - 7s 2ms/step - loss: 19.1149 - accuracy: 0.5413 - precision_1: 0.5423 - val_loss: 0.8738 - val_accuracy: 0.5554 - val_precision_1: 0.5553\n",
            "Epoch 28/250\n",
            "4777/4777 [==============================] - 7s 1ms/step - loss: 16.2084 - accuracy: 0.5409 - precision_1: 0.5421 - val_loss: 0.8399 - val_accuracy: 0.5572 - val_precision_1: 0.5566\n",
            "Epoch 29/250\n",
            "4777/4777 [==============================] - 7s 1ms/step - loss: 16.0967 - accuracy: 0.5409 - precision_1: 0.5421 - val_loss: 1.8726 - val_accuracy: 0.5553 - val_precision_1: 0.5553\n",
            "Epoch 30/250\n",
            "4777/4777 [==============================] - 7s 1ms/step - loss: 24.7481 - accuracy: 0.5407 - precision_1: 0.5420 - val_loss: 0.7962 - val_accuracy: 0.5553 - val_precision_1: 0.5553\n",
            "Epoch 31/250\n",
            "4777/4777 [==============================] - 7s 2ms/step - loss: 22.6690 - accuracy: 0.5412 - precision_1: 0.5422 - val_loss: 0.7670 - val_accuracy: 0.5554 - val_precision_1: 0.5553\n",
            "Epoch 32/250\n",
            "4777/4777 [==============================] - 7s 1ms/step - loss: 132.6075 - accuracy: 0.5409 - precision_1: 0.5421 - val_loss: 0.9121 - val_accuracy: 0.5569 - val_precision_1: 0.5562\n",
            "Epoch 33/250\n",
            "4777/4777 [==============================] - 7s 1ms/step - loss: 30.8938 - accuracy: 0.5412 - precision_1: 0.5422 - val_loss: 0.7815 - val_accuracy: 0.5553 - val_precision_1: 0.5553\n",
            "==============================================================\n",
            "Using HyperParams:{'learning_rate': 0.1, 'first_layer_neurons': 12, 'first_layer_dropout': 0.1, 'second_layer_neurons': 24, 'second_layer_dropout': 0.1, 'activation_first_layer': 'relu', 'activation_second_layer': 'relu', 'optimizer': 'adam', 'input_shape': 206}\n",
            "Training model 2 with trainable params 2821 :\n",
            "Epoch 1/250\n",
            "4764/4777 [============================>.] - ETA: 0s - loss: 289813.9375 - accuracy: 0.5402 - precision_2: 0.5425\n",
            "4777/4777 [==============================] - 8s 2ms/step - loss: 289061.4375 - accuracy: 0.5403 - precision_2: 0.5426 - val_loss: 27.6995 - val_accuracy: 0.5552 - val_precision_2: 0.5554\n",
            "Epoch 2/250\n",
            "4777/4777 [==============================] - 7s 1ms/step - loss: 1878.8004 - accuracy: 0.5418 - precision_2: 0.5424 - val_loss: 33.5380 - val_accuracy: 0.5558 - val_precision_2: 0.5558\n",
            "Epoch 3/250\n",
            "4777/4777 [==============================] - 7s 1ms/step - loss: 1135.3491 - accuracy: 0.5419 - precision_2: 0.5423 - val_loss: 8.7363 - val_accuracy: 0.5552 - val_precision_2: 0.5553\n",
            "Epoch 4/250\n",
            "4777/4777 [==============================] - 7s 1ms/step - loss: 803.6603 - accuracy: 0.5418 - precision_2: 0.5422 - val_loss: 38.3938 - val_accuracy: 0.5553 - val_precision_2: 0.5552\n",
            "Epoch 5/250\n",
            "4777/4777 [==============================] - 7s 2ms/step - loss: 647.6923 - accuracy: 0.5420 - precision_2: 0.5423 - val_loss: 6.2183 - val_accuracy: 0.5552 - val_precision_2: 0.5552\n",
            "Epoch 6/250\n",
            "4777/4777 [==============================] - 7s 1ms/step - loss: 437.9568 - accuracy: 0.5420 - precision_2: 0.5423 - val_loss: 0.7985 - val_accuracy: 0.5552 - val_precision_2: 0.5552\n",
            "Epoch 7/250\n",
            "4777/4777 [==============================] - 8s 2ms/step - loss: 355.7407 - accuracy: 0.5421 - precision_2: 0.5423 - val_loss: 1.0776 - val_accuracy: 0.5557 - val_precision_2: 0.5555\n",
            "Epoch 8/250\n",
            "4777/4777 [==============================] - 7s 1ms/step - loss: 141.6493 - accuracy: 0.5421 - precision_2: 0.5422 - val_loss: 4.2761 - val_accuracy: 0.5557 - val_precision_2: 0.5555\n",
            "Epoch 9/250\n",
            "4777/4777 [==============================] - 7s 1ms/step - loss: 341.2952 - accuracy: 0.5420 - precision_2: 0.5422 - val_loss: 4.1389 - val_accuracy: 0.5555 - val_precision_2: 0.5554\n",
            "Epoch 10/250\n",
            "4777/4777 [==============================] - 7s 2ms/step - loss: 132.2106 - accuracy: 0.5421 - precision_2: 0.5423 - val_loss: 3.6053 - val_accuracy: 0.5559 - val_precision_2: 0.5557\n",
            "Epoch 11/250\n",
            "4777/4777 [==============================] - 7s 1ms/step - loss: 122.7043 - accuracy: 0.5420 - precision_2: 0.5422 - val_loss: 7.3371 - val_accuracy: 0.5552 - val_precision_2: 0.5552\n",
            "Epoch 12/250\n",
            "4777/4777 [==============================] - 7s 1ms/step - loss: 144.5586 - accuracy: 0.5421 - precision_2: 0.5423 - val_loss: 2.0392 - val_accuracy: 0.5551 - val_precision_2: 0.5552\n",
            "Epoch 13/250\n",
            "4777/4777 [==============================] - 7s 1ms/step - loss: 82.4792 - accuracy: 0.5421 - precision_2: 0.5423 - val_loss: 1.2432 - val_accuracy: 0.5557 - val_precision_2: 0.5555\n",
            "Epoch 14/250\n",
            "4777/4777 [==============================] - 7s 1ms/step - loss: 451.7511 - accuracy: 0.5421 - precision_2: 0.5422 - val_loss: 1.0565 - val_accuracy: 0.5552 - val_precision_2: 0.5552\n",
            "Epoch 15/250\n",
            "4777/4777 [==============================] - 7s 2ms/step - loss: 89.7915 - accuracy: 0.5420 - precision_2: 0.5422 - val_loss: 0.8769 - val_accuracy: 0.5552 - val_precision_2: 0.5552\n",
            "Epoch 16/250\n",
            "4777/4777 [==============================] - 7s 2ms/step - loss: 265.2144 - accuracy: 0.5423 - precision_2: 0.5424 - val_loss: 2.3032 - val_accuracy: 0.5552 - val_precision_2: 0.5552\n",
            "Epoch 17/250\n",
            "4777/4777 [==============================] - 7s 2ms/step - loss: 64.3595 - accuracy: 0.5423 - precision_2: 0.5424 - val_loss: 0.6874 - val_accuracy: 0.5552 - val_precision_2: 0.5552\n",
            "Epoch 18/250\n",
            "4777/4777 [==============================] - 7s 1ms/step - loss: 56.0900 - accuracy: 0.5422 - precision_2: 0.5423 - val_loss: 0.6873 - val_accuracy: 0.5552 - val_precision_2: 0.5552\n",
            "Epoch 19/250\n",
            "4777/4777 [==============================] - 7s 2ms/step - loss: 76.5426 - accuracy: 0.5422 - precision_2: 0.5422 - val_loss: 0.7823 - val_accuracy: 0.5552 - val_precision_2: 0.5552\n",
            "Epoch 20/250\n",
            "4777/4777 [==============================] - 7s 2ms/step - loss: 72.1537 - accuracy: 0.5422 - precision_2: 0.5423 - val_loss: 0.6873 - val_accuracy: 0.5552 - val_precision_2: 0.5552\n"
          ]
        }
      ],
      "source": [
        "# returns best_model (trained) and best_history (history of train operations)\n",
        "best_model, best_history = train_neural_network_with_hyperparams(HYPER_PARAMS_SPACE=p,\n",
        "                                                                  MAX_MODELS=2, #not more than 2 models\n",
        "                                                                  MAX_EPOCHS=250,\n",
        "                                                                  EARLY_STOPPING_PATIENCE=10\n",
        "                                                                  )"
      ]
    },
    {
      "cell_type": "code",
      "execution_count": 95,
      "metadata": {
        "id": "h8rGL_i1qsiW"
      },
      "outputs": [],
      "source": [
        "# UNCOMMENT WHEN RUN AGAIN\n",
        "best_history_nn = best_history\n",
        "best_model_nn = best_model"
      ]
    },
    {
      "cell_type": "code",
      "execution_count": 96,
      "metadata": {
        "colab": {
          "base_uri": "https://localhost:8080/"
        },
        "id": "BZtsvUUUqtST",
        "outputId": "7a2a0a9e-cfe7-43f1-b155-ce7614536f6b"
      },
      "outputs": [
        {
          "name": "stdout",
          "output_type": "stream",
          "text": [
            "Model: \"sequential_1\"\n",
            "_________________________________________________________________\n",
            " Layer (type)                Output Shape              Param #   \n",
            "=================================================================\n",
            " dense_3 (Dense)             (None, 12)                2484      \n",
            "                                                                 \n",
            " dropout_2 (Dropout)         (None, 12)                0         \n",
            "                                                                 \n",
            " dense_4 (Dense)             (None, 12)                156       \n",
            "                                                                 \n",
            " dropout_3 (Dropout)         (None, 12)                0         \n",
            "                                                                 \n",
            " dense_5 (Dense)             (None, 1)                 13        \n",
            "                                                                 \n",
            "=================================================================\n",
            "Total params: 2653 (10.36 KB)\n",
            "Trainable params: 2653 (10.36 KB)\n",
            "Non-trainable params: 0 (0.00 Byte)\n",
            "_________________________________________________________________\n"
          ]
        }
      ],
      "source": [
        " best_model_nn.summary()"
      ]
    },
    {
      "cell_type": "code",
      "execution_count": 97,
      "metadata": {
        "id": "sXAQ011hh7RP"
      },
      "outputs": [
        {
          "data": {
            "text/plain": [
              "\"best_history_nn = {'loss': [208422.703125,\\n  1121.272705078125,\\n  539.65283203125,\\n  707.9421997070312,\\n  516.6778564453125,\\n  163.7510528564453,\\n  317.2767333984375,\\n  299.3223571777344,\\n  140.26547241210938,\\n  164.22906494140625,\\n  185.18524169921875,\\n  104.50323486328125,\\n  297.9610290527344,\\n  132.68116760253906],\\n 'accuracy': [0.5328173637390137,\\n  0.5412310361862183,\\n  0.5411459803581238,\\n  0.5417086482048035,\\n  0.5411655902862549,\\n  0.5414665937423706,\\n  0.5418198704719543,\\n  0.5419376492500305,\\n  0.5415254831314087,\\n  0.542022705078125,\\n  0.5419507026672363,\\n  0.5421208143234253,\\n  0.5416563153266907,\\n  0.5420292615890503],\\n 'precision_10': [0.5425137281417847,\\n  0.5425809025764465,\\n  0.5422842502593994,\\n  0.5425357818603516,\\n  0.5421506762504578,\\n  0.542284369468689,\\n  0.5424314737319946,\\n  0.5424544215202332,\\n  0.5424001812934875,\\n  0.5425055027008057,\\n  0.5423765778541565,\\n  0.5424331426620483,\\n  0.5422753691673279,\\n  0.5424132943153381],\\n 'val_loss': [153.67572021484375,\\n  76.75631713867188,\\n  8.787810325622559,\\n  235.6031951904297,\\n  1.5380141735076904,\\n  3.1010591983795166,\\n  1.5755723714828491,\\n  4.07314920425415,\\n  3.5311925411224365,\\n  3.421612501144409,\\n  0.8826513886451721,\\n  0.7503688335418701,\\n  0.7252967953681946,\\n  4.258550643920898],\\n 'val_accuracy': [0.5481243133544922,\\n  0.5551979541778564,\\n  0.5557343363761902,\\n  0.5558684468269348,\\n  0.5551308989524841,\\n  0.5551979541778564,\\n  0.555030345916748,\\n  0.5552650094032288,\\n  0.5551979541778564,\\n  0.5554661750793457,\\n  0.5554661750793457,\\n  0.5558013916015625,\\n  0.5555667281150818,\\n  0.5554326176643372],\\n 'val_precision_10': [0.5546182990074158,\\n  0.5551979541778564,\\n  0.5555108189582825,\\n  0.5561125874519348,\\n  0.5552088618278503,\\n  0.5553352236747742,\\n  0.5553311705589294,\\n  0.5552389025688171,\\n  0.5551979541778564,\\n  0.5555592775344849,\\n  0.5555219054222107,\\n  0.5555480718612671,\\n  0.5554065108299255,\\n  0.5553468465805054]}\\n  \""
            ]
          },
          "execution_count": 97,
          "metadata": {},
          "output_type": "execute_result"
        }
      ],
      "source": [
        "'''best_history_nn = {'loss': [208422.703125,\n",
        "  1121.272705078125,\n",
        "  539.65283203125,\n",
        "  707.9421997070312,\n",
        "  516.6778564453125,\n",
        "  163.7510528564453,\n",
        "  317.2767333984375,\n",
        "  299.3223571777344,\n",
        "  140.26547241210938,\n",
        "  164.22906494140625,\n",
        "  185.18524169921875,\n",
        "  104.50323486328125,\n",
        "  297.9610290527344,\n",
        "  132.68116760253906],\n",
        " 'accuracy': [0.5328173637390137,\n",
        "  0.5412310361862183,\n",
        "  0.5411459803581238,\n",
        "  0.5417086482048035,\n",
        "  0.5411655902862549,\n",
        "  0.5414665937423706,\n",
        "  0.5418198704719543,\n",
        "  0.5419376492500305,\n",
        "  0.5415254831314087,\n",
        "  0.542022705078125,\n",
        "  0.5419507026672363,\n",
        "  0.5421208143234253,\n",
        "  0.5416563153266907,\n",
        "  0.5420292615890503],\n",
        " 'precision_10': [0.5425137281417847,\n",
        "  0.5425809025764465,\n",
        "  0.5422842502593994,\n",
        "  0.5425357818603516,\n",
        "  0.5421506762504578,\n",
        "  0.542284369468689,\n",
        "  0.5424314737319946,\n",
        "  0.5424544215202332,\n",
        "  0.5424001812934875,\n",
        "  0.5425055027008057,\n",
        "  0.5423765778541565,\n",
        "  0.5424331426620483,\n",
        "  0.5422753691673279,\n",
        "  0.5424132943153381],\n",
        " 'val_loss': [153.67572021484375,\n",
        "  76.75631713867188,\n",
        "  8.787810325622559,\n",
        "  235.6031951904297,\n",
        "  1.5380141735076904,\n",
        "  3.1010591983795166,\n",
        "  1.5755723714828491,\n",
        "  4.07314920425415,\n",
        "  3.5311925411224365,\n",
        "  3.421612501144409,\n",
        "  0.8826513886451721,\n",
        "  0.7503688335418701,\n",
        "  0.7252967953681946,\n",
        "  4.258550643920898],\n",
        " 'val_accuracy': [0.5481243133544922,\n",
        "  0.5551979541778564,\n",
        "  0.5557343363761902,\n",
        "  0.5558684468269348,\n",
        "  0.5551308989524841,\n",
        "  0.5551979541778564,\n",
        "  0.555030345916748,\n",
        "  0.5552650094032288,\n",
        "  0.5551979541778564,\n",
        "  0.5554661750793457,\n",
        "  0.5554661750793457,\n",
        "  0.5558013916015625,\n",
        "  0.5555667281150818,\n",
        "  0.5554326176643372],\n",
        " 'val_precision_10': [0.5546182990074158,\n",
        "  0.5551979541778564,\n",
        "  0.5555108189582825,\n",
        "  0.5561125874519348,\n",
        "  0.5552088618278503,\n",
        "  0.5553352236747742,\n",
        "  0.5553311705589294,\n",
        "  0.5552389025688171,\n",
        "  0.5551979541778564,\n",
        "  0.5555592775344849,\n",
        "  0.5555219054222107,\n",
        "  0.5555480718612671,\n",
        "  0.5554065108299255,\n",
        "  0.5553468465805054]}\n",
        "  '''\n"
      ]
    },
    {
      "cell_type": "code",
      "execution_count": 98,
      "metadata": {
        "colab": {
          "base_uri": "https://localhost:8080/"
        },
        "id": "OU9bIi0BDFmC",
        "outputId": "3f35b3cd-f14f-4ad3-8018-f083a07889a9"
      },
      "outputs": [
        {
          "data": {
            "text/plain": [
              "{'loss': [283785.09375,\n",
              "  4226.72021484375,\n",
              "  1324.0867919921875,\n",
              "  512.3018188476562,\n",
              "  480.58868408203125,\n",
              "  257.67437744140625,\n",
              "  328.0965270996094,\n",
              "  117.03709411621094,\n",
              "  108.3579330444336,\n",
              "  65.6871566772461,\n",
              "  58.24946594238281,\n",
              "  98.6848373413086,\n",
              "  49.376007080078125,\n",
              "  91.88304901123047,\n",
              "  82.58687591552734,\n",
              "  274.3329772949219,\n",
              "  81.0180892944336,\n",
              "  29.85841941833496,\n",
              "  77.57804870605469,\n",
              "  54.13671875,\n",
              "  48.73970031738281,\n",
              "  23.18502426147461,\n",
              "  138.64166259765625,\n",
              "  29.330656051635742,\n",
              "  71.57012939453125,\n",
              "  35.6173210144043,\n",
              "  19.114877700805664,\n",
              "  16.2083740234375,\n",
              "  16.09665870666504,\n",
              "  24.74813461303711,\n",
              "  22.669008255004883,\n",
              "  132.60752868652344,\n",
              "  30.893817901611328],\n",
              " 'accuracy': [0.535395085811615,\n",
              "  0.5392224788665771,\n",
              "  0.5398767590522766,\n",
              "  0.5393402576446533,\n",
              "  0.5407403707504272,\n",
              "  0.5400795340538025,\n",
              "  0.5406291484832764,\n",
              "  0.54060298204422,\n",
              "  0.5408973693847656,\n",
              "  0.5406749248504639,\n",
              "  0.5409104824066162,\n",
              "  0.5411459803581238,\n",
              "  0.5413945913314819,\n",
              "  0.5406422019004822,\n",
              "  0.5412964820861816,\n",
              "  0.5410870909690857,\n",
              "  0.5412375926971436,\n",
              "  0.5410870909690857,\n",
              "  0.5412637591362,\n",
              "  0.5404786467552185,\n",
              "  0.5414665937423706,\n",
              "  0.5410085916519165,\n",
              "  0.5407010912895203,\n",
              "  0.5411132574081421,\n",
              "  0.541132926940918,\n",
              "  0.5410282015800476,\n",
              "  0.5412506461143494,\n",
              "  0.5409039258956909,\n",
              "  0.5409497022628784,\n",
              "  0.5407403707504272,\n",
              "  0.5411525368690491,\n",
              "  0.5409366488456726,\n",
              "  0.541191816329956],\n",
              " 'precision_1': [0.5425887703895569,\n",
              "  0.5426731705665588,\n",
              "  0.5425688624382019,\n",
              "  0.5420356392860413,\n",
              "  0.5425838232040405,\n",
              "  0.5421956181526184,\n",
              "  0.5423138737678528,\n",
              "  0.5423197150230408,\n",
              "  0.5423543453216553,\n",
              "  0.5422229766845703,\n",
              "  0.5422950387001038,\n",
              "  0.542420506477356,\n",
              "  0.5425113439559937,\n",
              "  0.5421375036239624,\n",
              "  0.5423951745033264,\n",
              "  0.5423237681388855,\n",
              "  0.5423965454101562,\n",
              "  0.542254626750946,\n",
              "  0.542336106300354,\n",
              "  0.5419368147850037,\n",
              "  0.5424572825431824,\n",
              "  0.5421834588050842,\n",
              "  0.542046844959259,\n",
              "  0.5422572493553162,\n",
              "  0.5422416925430298,\n",
              "  0.5421618223190308,\n",
              "  0.542259931564331,\n",
              "  0.5420913100242615,\n",
              "  0.5420980453491211,\n",
              "  0.5420176982879639,\n",
              "  0.5421931743621826,\n",
              "  0.5421170592308044,\n",
              "  0.5422012805938721],\n",
              " 'val_loss': [113.78363037109375,\n",
              "  21.569530487060547,\n",
              "  6.969456672668457,\n",
              "  3.360217809677124,\n",
              "  4.272963047027588,\n",
              "  3.991030693054199,\n",
              "  6.549983501434326,\n",
              "  3.2332026958465576,\n",
              "  2.2502872943878174,\n",
              "  1.366094946861267,\n",
              "  1.9889578819274902,\n",
              "  1.6396828889846802,\n",
              "  1.2454140186309814,\n",
              "  1.0362215042114258,\n",
              "  1.7676784992218018,\n",
              "  1.1412670612335205,\n",
              "  0.9378275871276855,\n",
              "  1.9925506114959717,\n",
              "  0.8462179899215698,\n",
              "  1.1972793340682983,\n",
              "  2.3378853797912598,\n",
              "  1.1417485475540161,\n",
              "  0.9050403833389282,\n",
              "  1.272763967514038,\n",
              "  0.8964948058128357,\n",
              "  0.9102715849876404,\n",
              "  0.8737730383872986,\n",
              "  0.8398962020874023,\n",
              "  1.8726218938827515,\n",
              "  0.7962020039558411,\n",
              "  0.7670025825500488,\n",
              "  0.9120869636535645,\n",
              "  0.7815036773681641],\n",
              " 'val_accuracy': [0.5556337833404541,\n",
              "  0.5554661750793457,\n",
              "  0.5564048290252686,\n",
              "  0.5551308989524841,\n",
              "  0.5549632906913757,\n",
              "  0.5545274615287781,\n",
              "  0.5562037229537964,\n",
              "  0.5556337833404541,\n",
              "  0.5546280741691589,\n",
              "  0.554929792881012,\n",
              "  0.5565389394760132,\n",
              "  0.5553320646286011,\n",
              "  0.5552985072135925,\n",
              "  0.5566059947013855,\n",
              "  0.5552650094032288,\n",
              "  0.5559355020523071,\n",
              "  0.5554661750793457,\n",
              "  0.5552985072135925,\n",
              "  0.5553991198539734,\n",
              "  0.5566394925117493,\n",
              "  0.5551979541778564,\n",
              "  0.5567401051521301,\n",
              "  0.5573770403862,\n",
              "  0.5571088790893555,\n",
              "  0.5553655624389648,\n",
              "  0.5551308989524841,\n",
              "  0.5554326176643372,\n",
              "  0.5572094321250916,\n",
              "  0.5552985072135925,\n",
              "  0.5553320646286011,\n",
              "  0.5553991198539734,\n",
              "  0.5569412112236023,\n",
              "  0.5552985072135925],\n",
              " 'val_precision_1': [0.5554474592208862,\n",
              "  0.555761992931366,\n",
              "  0.5562084317207336,\n",
              "  0.5561431646347046,\n",
              "  0.555167555809021,\n",
              "  0.5553226470947266,\n",
              "  0.556454062461853,\n",
              "  0.5558521151542664,\n",
              "  0.5552035570144653,\n",
              "  0.5551304221153259,\n",
              "  0.5565010905265808,\n",
              "  0.5554695725440979,\n",
              "  0.5553205609321594,\n",
              "  0.5565196871757507,\n",
              "  0.5552352070808411,\n",
              "  0.555667519569397,\n",
              "  0.5553765892982483,\n",
              "  0.5552797317504883,\n",
              "  0.5553133487701416,\n",
              "  0.5560785531997681,\n",
              "  0.555272102355957,\n",
              "  0.5565836429595947,\n",
              "  0.5566961765289307,\n",
              "  0.556587815284729,\n",
              "  0.5557283163070679,\n",
              "  0.5552719235420227,\n",
              "  0.5553320050239563,\n",
              "  0.5566174983978271,\n",
              "  0.555253803730011,\n",
              "  0.555298388004303,\n",
              "  0.5553430914878845,\n",
              "  0.5562317371368408,\n",
              "  0.5552797317504883]}"
            ]
          },
          "execution_count": 98,
          "metadata": {},
          "output_type": "execute_result"
        }
      ],
      "source": [
        "best_history_nn"
      ]
    },
    {
      "cell_type": "code",
      "execution_count": 99,
      "metadata": {
        "colab": {
          "base_uri": "https://localhost:8080/"
        },
        "id": "9ITSYcHPqxwY",
        "outputId": "b30ca15d-75b2-4e44-ce9c-6628812f2039"
      },
      "outputs": [
        {
          "data": {
            "text/plain": [
              "(152846, 206)"
            ]
          },
          "execution_count": 99,
          "metadata": {},
          "output_type": "execute_result"
        }
      ],
      "source": [
        "X_train_valid.shape"
      ]
    },
    {
      "cell_type": "code",
      "execution_count": 101,
      "metadata": {},
      "outputs": [
        {
          "name": "stdout",
          "output_type": "stream",
          "text": [
            "dict_keys(['loss', 'accuracy', 'precision_1', 'val_loss', 'val_accuracy', 'val_precision_1'])\n"
          ]
        }
      ],
      "source": [
        "print(best_history_nn.keys())\n"
      ]
    },
    {
      "cell_type": "code",
      "execution_count": 103,
      "metadata": {},
      "outputs": [
        {
          "data": {
            "image/png": "[encoded data removed]",
            "text/plain": [
              "<Figure size 1000x600 with 1 Axes>"
            ]
          },
          "metadata": {},
          "output_type": "display_data"
        }
      ],
      "source": [
        "# Learning visualisation for the Deep Neural Network (DNN)\n",
        "# The model is not actually training, as the precision and accuracy score are not improving on TRAIN/TEST with more Epochs\n",
        "\n",
        "# Plotting accuracy\n",
        "\n",
        "# Plotting precision\n",
        "import matplotlib.pyplot as plt\n",
        "plt.figure(figsize=(10, 6))\n",
        "plt.plot(best_history_nn['precision_1'], label='Training Precision')\n",
        "plt.plot(best_history_nn['val_precision_1'], label='Test Precision')\n",
        "plt.xlabel('Epoch')\n",
        "plt.ylabel('Precision')\n",
        "plt.title('Training vs. Test Precision')\n",
        "plt.legend()\n",
        "plt.grid(True)\n",
        "plt.show()\n"
      ]
    },
    {
      "cell_type": "markdown",
      "metadata": {
        "id": "ieYKsFvYsK_S"
      },
      "source": [
        "# 2) Different Decision rules to improve precision (varying threshold)\n",
        "\n",
        "best model1 (clf_best): Decision Tree (max_depth=15)\n",
        "best model2 (rf_best): Random Forest (n_estimators=200, max_depth=17)"
      ]
    },
    {
      "cell_type": "markdown",
      "metadata": {
        "id": "BUAkDF7ivcmF"
      },
      "source": [
        "## 2.1. Predicting probabilities (predict_proba), getting the distribution for probabilities, and new decision rules"
      ]
    },
    {
      "cell_type": "code",
      "execution_count": 104,
      "metadata": {
        "id": "NtXS-v-vsUdf"
      },
      "outputs": [],
      "source": [
        "# y_pred_test = best_lr.predict_proba(X_test)\n",
        "\n",
        "# predicting probability instead of a lable\n",
        "\n",
        "y_pred_test = clf_best.predict_proba(X_test)\n",
        "y_pred_test_class1 = [k[1] for k in y_pred_test] # k[1] is the second element in the list of Class predictions"
      ]
    },
    {
      "cell_type": "code",
      "execution_count": 105,
      "metadata": {
        "colab": {
          "base_uri": "https://localhost:8080/"
        },
        "id": "AEEgbWi4u8uq",
        "outputId": "88740d44-6f61-4eda-9f78-cba3a01908b5"
      },
      "outputs": [
        {
          "data": {
            "text/plain": [
              "array([[0.51366425, 0.48633575],\n",
              "       [0.51366425, 0.48633575],\n",
              "       [0.51366425, 0.48633575],\n",
              "       ...,\n",
              "       [0.59356568, 0.40643432],\n",
              "       [0.59356568, 0.40643432],\n",
              "       [0.59356568, 0.40643432]])"
            ]
          },
          "execution_count": 105,
          "metadata": {},
          "output_type": "execute_result"
        }
      ],
      "source": [
        "# example prediction of probabilities\n",
        "y_pred_test"
      ]
    },
    {
      "cell_type": "code",
      "execution_count": 106,
      "metadata": {
        "colab": {
          "base_uri": "https://localhost:8080/",
          "height": 204
        },
        "id": "mgqzi2Xzu87W",
        "outputId": "60c520fe-6fbb-480c-d951-dee0a68b9cf4"
      },
      "outputs": [
        {
          "data": {
            "text/html": [
              "<div>\n",
              "<style scoped>\n",
              "    .dataframe tbody tr th:only-of-type {\n",
              "        vertical-align: middle;\n",
              "    }\n",
              "\n",
              "    .dataframe tbody tr th {\n",
              "        vertical-align: top;\n",
              "    }\n",
              "\n",
              "    .dataframe thead th {\n",
              "        text-align: right;\n",
              "    }\n",
              "</style>\n",
              "<table border=\"1\" class=\"dataframe\">\n",
              "  <thead>\n",
              "    <tr style=\"text-align: right;\">\n",
              "      <th></th>\n",
              "      <th>Class1_probability</th>\n",
              "    </tr>\n",
              "  </thead>\n",
              "  <tbody>\n",
              "    <tr>\n",
              "      <th>0</th>\n",
              "      <td>0.486336</td>\n",
              "    </tr>\n",
              "    <tr>\n",
              "      <th>1</th>\n",
              "      <td>0.486336</td>\n",
              "    </tr>\n",
              "    <tr>\n",
              "      <th>2</th>\n",
              "      <td>0.486336</td>\n",
              "    </tr>\n",
              "    <tr>\n",
              "      <th>3</th>\n",
              "      <td>0.486336</td>\n",
              "    </tr>\n",
              "    <tr>\n",
              "      <th>4</th>\n",
              "      <td>0.142857</td>\n",
              "    </tr>\n",
              "  </tbody>\n",
              "</table>\n",
              "</div>"
            ],
            "text/plain": [
              "   Class1_probability\n",
              "0            0.486336\n",
              "1            0.486336\n",
              "2            0.486336\n",
              "3            0.486336\n",
              "4            0.142857"
            ]
          },
          "execution_count": 106,
          "metadata": {},
          "output_type": "execute_result"
        }
      ],
      "source": [
        "y_pred_test_class1_df = pd.DataFrame(y_pred_test_class1, columns=['Class1_probability'])\n",
        "y_pred_test_class1_df.head()"
      ]
    },
    {
      "cell_type": "code",
      "execution_count": 107,
      "metadata": {
        "colab": {
          "base_uri": "https://localhost:8080/",
          "height": 80
        },
        "id": "SFQ-uUt9u_Y-",
        "outputId": "e7ea8da5-535b-41c7-de66-98e6435cf23f"
      },
      "outputs": [
        {
          "data": {
            "text/html": [
              "<div>\n",
              "<style scoped>\n",
              "    .dataframe tbody tr th:only-of-type {\n",
              "        vertical-align: middle;\n",
              "    }\n",
              "\n",
              "    .dataframe tbody tr th {\n",
              "        vertical-align: top;\n",
              "    }\n",
              "\n",
              "    .dataframe thead th {\n",
              "        text-align: right;\n",
              "    }\n",
              "</style>\n",
              "<table border=\"1\" class=\"dataframe\">\n",
              "  <thead>\n",
              "    <tr style=\"text-align: right;\">\n",
              "      <th></th>\n",
              "      <th>count</th>\n",
              "      <th>mean</th>\n",
              "      <th>std</th>\n",
              "      <th>min</th>\n",
              "      <th>25%</th>\n",
              "      <th>50%</th>\n",
              "      <th>75%</th>\n",
              "      <th>max</th>\n",
              "    </tr>\n",
              "  </thead>\n",
              "  <tbody>\n",
              "    <tr>\n",
              "      <th>Class1_probability</th>\n",
              "      <td>29829.0</td>\n",
              "      <td>0.551085</td>\n",
              "      <td>0.271267</td>\n",
              "      <td>0.0</td>\n",
              "      <td>0.406434</td>\n",
              "      <td>0.583523</td>\n",
              "      <td>0.750392</td>\n",
              "      <td>1.0</td>\n",
              "    </tr>\n",
              "  </tbody>\n",
              "</table>\n",
              "</div>"
            ],
            "text/plain": [
              "                      count      mean       std  min       25%       50%  \\\n",
              "Class1_probability  29829.0  0.551085  0.271267  0.0  0.406434  0.583523   \n",
              "\n",
              "                         75%  max  \n",
              "Class1_probability  0.750392  1.0  "
            ]
          },
          "execution_count": 107,
          "metadata": {},
          "output_type": "execute_result"
        }
      ],
      "source": [
        "# Mean prediction is 0.52, median is 0.58, 75% quantile is 0.75\n",
        "y_pred_test_class1_df.describe().T"
      ]
    },
    {
      "cell_type": "code",
      "execution_count": 108,
      "metadata": {
        "colab": {
          "base_uri": "https://localhost:8080/"
        },
        "id": "KGEnXnpBvAx_",
        "outputId": "ac48e8b6-b386-4fd6-e1a4-dabe609a0c24"
      },
      "outputs": [
        {
          "data": {
            "text/plain": [
              "0.5551979617151095"
            ]
          },
          "execution_count": 108,
          "metadata": {},
          "output_type": "execute_result"
        }
      ],
      "source": [
        "# Unconditional probability of a positive growth is 55.5%\n",
        "y_test.sum()/y_test.count()"
      ]
    },
    {
      "cell_type": "code",
      "execution_count": 109,
      "metadata": {
        "colab": {
          "base_uri": "https://localhost:8080/",
          "height": 452
        },
        "id": "myxaNMxTvFXw",
        "outputId": "af8ecfeb-5409-4595-e00e-81ee569b6dec"
      },
      "outputs": [
        {
          "name": "stderr",
          "output_type": "stream",
          "text": [
            "c:\\Users\\rahul\\anaconda3\\Lib\\site-packages\\seaborn\\_oldcore.py:1498: FutureWarning:\n",
            "\n",
            "is_categorical_dtype is deprecated and will be removed in a future version. Use isinstance(dtype, CategoricalDtype) instead\n",
            "\n",
            "c:\\Users\\rahul\\anaconda3\\Lib\\site-packages\\seaborn\\_oldcore.py:1119: FutureWarning:\n",
            "\n",
            "use_inf_as_na option is deprecated and will be removed in a future version. Convert inf values to NaN before operating instead.\n",
            "\n"
          ]
        },
        {
          "data": {
            "image/png": "[encoded data removed]",
            "text/plain": [
              "<Figure size 640x480 with 1 Axes>"
            ]
          },
          "metadata": {},
          "output_type": "display_data"
        }
      ],
      "source": [
        "sns.histplot(y_pred_test_class1)\n",
        "\n",
        "# Add a title\n",
        "plt.title('The distribution of predictions for the current best model (Decision Tree with max_depth=15)')\n",
        "\n",
        "# Show the plot\n",
        "plt.show()"
      ]
    },
    {
      "cell_type": "code",
      "execution_count": 110,
      "metadata": {
        "id": "jNaoTiABvIfJ"
      },
      "outputs": [],
      "source": [
        "# tpr (True Positive Rate) vs. fpr (False Positive Rate) dataframe\n",
        "# tp = True Positive\n",
        "# tn = True Negative\n",
        "# fp = False Positive\n",
        "# fn = False Negative\n",
        "# Decision Rule :  \"y_pred>= Threshold\" for Class \"1\"\n",
        "\n",
        "# when only_even=True --> we'll have a step ==0.02 and leave only even records\n",
        "\n",
        "def tpr_fpr_dataframe(y_true, y_pred, only_even=False):\n",
        "    scores = []\n",
        "\n",
        "    if only_even==False:\n",
        "      thresholds = np.linspace(0, 1, 101) #[0, 0.01, 0.02, ...0.99,1.0]\n",
        "    else:\n",
        "      thresholds = np.linspace(0, 1, 51) #[0, 0.02, 0.04,  ...0.98,1.0]\n",
        "\n",
        "    for t in thresholds:\n",
        "\n",
        "        actual_positive = (y_true == 1)\n",
        "        actual_negative = (y_true == 0)\n",
        "\n",
        "        predict_positive = (y_pred >= t)\n",
        "        predict_negative = (y_pred < t)\n",
        "\n",
        "        tp = (predict_positive & actual_positive).sum()\n",
        "        tn = (predict_negative & actual_negative).sum()\n",
        "\n",
        "        fp = (predict_positive & actual_negative).sum()\n",
        "        fn = (predict_negative & actual_positive).sum()\n",
        "\n",
        "        if tp + fp > 0:\n",
        "          precision = tp / (tp + fp)\n",
        "\n",
        "        if tp + fn > 0:\n",
        "          recall = tp / (tp + fn)\n",
        "\n",
        "        if precision+recall > 0:\n",
        "          f1_score = 2*precision*recall / (precision+recall)\n",
        "\n",
        "        accuracy = (tp+tn) / (tp+tn+fp+fn)\n",
        "\n",
        "        scores.append((t, tp, fp, fn, tn, precision, recall, accuracy, f1_score))\n",
        "\n",
        "    columns = ['threshold', 'tp', 'fp', 'fn', 'tn','precision','recall', 'accuracy','f1_score']\n",
        "    df_scores = pd.DataFrame(scores, columns=columns)\n",
        "\n",
        "    df_scores['tpr'] = df_scores.tp / (df_scores.tp + df_scores.fn)\n",
        "    df_scores['fpr'] = df_scores.fp / (df_scores.fp + df_scores.tn)\n",
        "\n",
        "    return df_scores\n"
      ]
    },
    {
      "cell_type": "code",
      "execution_count": 111,
      "metadata": {
        "id": "AM8QESf9vKZL"
      },
      "outputs": [],
      "source": [
        "df_scores = tpr_fpr_dataframe(y_test,\n",
        "                              y_pred_test_class1,\n",
        "                              only_even=True)"
      ]
    },
    {
      "cell_type": "code",
      "execution_count": 112,
      "metadata": {
        "colab": {
          "base_uri": "https://localhost:8080/",
          "height": 1000
        },
        "id": "qoQqV2yhvME7",
        "outputId": "4d417dfe-4924-4034-d3b5-0b0be2698000"
      },
      "outputs": [
        {
          "data": {
            "text/html": [
              "<div>\n",
              "<style scoped>\n",
              "    .dataframe tbody tr th:only-of-type {\n",
              "        vertical-align: middle;\n",
              "    }\n",
              "\n",
              "    .dataframe tbody tr th {\n",
              "        vertical-align: top;\n",
              "    }\n",
              "\n",
              "    .dataframe thead th {\n",
              "        text-align: right;\n",
              "    }\n",
              "</style>\n",
              "<table border=\"1\" class=\"dataframe\">\n",
              "  <thead>\n",
              "    <tr style=\"text-align: right;\">\n",
              "      <th></th>\n",
              "      <th>threshold</th>\n",
              "      <th>tp</th>\n",
              "      <th>fp</th>\n",
              "      <th>fn</th>\n",
              "      <th>tn</th>\n",
              "      <th>precision</th>\n",
              "      <th>recall</th>\n",
              "      <th>accuracy</th>\n",
              "      <th>f1_score</th>\n",
              "      <th>tpr</th>\n",
              "      <th>fpr</th>\n",
              "    </tr>\n",
              "  </thead>\n",
              "  <tbody>\n",
              "    <tr>\n",
              "      <th>0</th>\n",
              "      <td>0.00</td>\n",
              "      <td>16561</td>\n",
              "      <td>13268</td>\n",
              "      <td>0</td>\n",
              "      <td>0</td>\n",
              "      <td>0.555198</td>\n",
              "      <td>1.000000</td>\n",
              "      <td>0.555198</td>\n",
              "      <td>0.713990</td>\n",
              "      <td>1.000000</td>\n",
              "      <td>1.000000</td>\n",
              "    </tr>\n",
              "    <tr>\n",
              "      <th>1</th>\n",
              "      <td>0.02</td>\n",
              "      <td>15706</td>\n",
              "      <td>12208</td>\n",
              "      <td>855</td>\n",
              "      <td>1060</td>\n",
              "      <td>0.562657</td>\n",
              "      <td>0.948373</td>\n",
              "      <td>0.562070</td>\n",
              "      <td>0.706284</td>\n",
              "      <td>0.948373</td>\n",
              "      <td>0.920109</td>\n",
              "    </tr>\n",
              "    <tr>\n",
              "      <th>2</th>\n",
              "      <td>0.04</td>\n",
              "      <td>15706</td>\n",
              "      <td>12208</td>\n",
              "      <td>855</td>\n",
              "      <td>1060</td>\n",
              "      <td>0.562657</td>\n",
              "      <td>0.948373</td>\n",
              "      <td>0.562070</td>\n",
              "      <td>0.706284</td>\n",
              "      <td>0.948373</td>\n",
              "      <td>0.920109</td>\n",
              "    </tr>\n",
              "    <tr>\n",
              "      <th>3</th>\n",
              "      <td>0.06</td>\n",
              "      <td>15652</td>\n",
              "      <td>12188</td>\n",
              "      <td>909</td>\n",
              "      <td>1080</td>\n",
              "      <td>0.562213</td>\n",
              "      <td>0.945112</td>\n",
              "      <td>0.560931</td>\n",
              "      <td>0.705029</td>\n",
              "      <td>0.945112</td>\n",
              "      <td>0.918601</td>\n",
              "    </tr>\n",
              "    <tr>\n",
              "      <th>4</th>\n",
              "      <td>0.08</td>\n",
              "      <td>15582</td>\n",
              "      <td>12164</td>\n",
              "      <td>979</td>\n",
              "      <td>1104</td>\n",
              "      <td>0.561594</td>\n",
              "      <td>0.940885</td>\n",
              "      <td>0.559389</td>\n",
              "      <td>0.703365</td>\n",
              "      <td>0.940885</td>\n",
              "      <td>0.916792</td>\n",
              "    </tr>\n",
              "    <tr>\n",
              "      <th>5</th>\n",
              "      <td>0.10</td>\n",
              "      <td>15536</td>\n",
              "      <td>12103</td>\n",
              "      <td>1025</td>\n",
              "      <td>1165</td>\n",
              "      <td>0.562104</td>\n",
              "      <td>0.938108</td>\n",
              "      <td>0.559891</td>\n",
              "      <td>0.702986</td>\n",
              "      <td>0.938108</td>\n",
              "      <td>0.912195</td>\n",
              "    </tr>\n",
              "    <tr>\n",
              "      <th>6</th>\n",
              "      <td>0.12</td>\n",
              "      <td>15046</td>\n",
              "      <td>11564</td>\n",
              "      <td>1515</td>\n",
              "      <td>1704</td>\n",
              "      <td>0.565427</td>\n",
              "      <td>0.908520</td>\n",
              "      <td>0.561534</td>\n",
              "      <td>0.697042</td>\n",
              "      <td>0.908520</td>\n",
              "      <td>0.871571</td>\n",
              "    </tr>\n",
              "    <tr>\n",
              "      <th>7</th>\n",
              "      <td>0.14</td>\n",
              "      <td>15043</td>\n",
              "      <td>11561</td>\n",
              "      <td>1518</td>\n",
              "      <td>1707</td>\n",
              "      <td>0.565441</td>\n",
              "      <td>0.908339</td>\n",
              "      <td>0.561534</td>\n",
              "      <td>0.697000</td>\n",
              "      <td>0.908339</td>\n",
              "      <td>0.871345</td>\n",
              "    </tr>\n",
              "    <tr>\n",
              "      <th>8</th>\n",
              "      <td>0.16</td>\n",
              "      <td>14241</td>\n",
              "      <td>10919</td>\n",
              "      <td>2320</td>\n",
              "      <td>2349</td>\n",
              "      <td>0.566017</td>\n",
              "      <td>0.859912</td>\n",
              "      <td>0.556170</td>\n",
              "      <td>0.682678</td>\n",
              "      <td>0.859912</td>\n",
              "      <td>0.822957</td>\n",
              "    </tr>\n",
              "    <tr>\n",
              "      <th>9</th>\n",
              "      <td>0.18</td>\n",
              "      <td>14018</td>\n",
              "      <td>10633</td>\n",
              "      <td>2543</td>\n",
              "      <td>2635</td>\n",
              "      <td>0.568658</td>\n",
              "      <td>0.846446</td>\n",
              "      <td>0.558282</td>\n",
              "      <td>0.680287</td>\n",
              "      <td>0.846446</td>\n",
              "      <td>0.801402</td>\n",
              "    </tr>\n",
              "    <tr>\n",
              "      <th>10</th>\n",
              "      <td>0.20</td>\n",
              "      <td>14007</td>\n",
              "      <td>10628</td>\n",
              "      <td>2554</td>\n",
              "      <td>2640</td>\n",
              "      <td>0.568581</td>\n",
              "      <td>0.845782</td>\n",
              "      <td>0.558081</td>\n",
              "      <td>0.680017</td>\n",
              "      <td>0.845782</td>\n",
              "      <td>0.801025</td>\n",
              "    </tr>\n",
              "    <tr>\n",
              "      <th>11</th>\n",
              "      <td>0.22</td>\n",
              "      <td>13995</td>\n",
              "      <td>10623</td>\n",
              "      <td>2566</td>\n",
              "      <td>2645</td>\n",
              "      <td>0.568486</td>\n",
              "      <td>0.845058</td>\n",
              "      <td>0.557846</td>\n",
              "      <td>0.679715</td>\n",
              "      <td>0.845058</td>\n",
              "      <td>0.800648</td>\n",
              "    </tr>\n",
              "    <tr>\n",
              "      <th>12</th>\n",
              "      <td>0.24</td>\n",
              "      <td>13966</td>\n",
              "      <td>10454</td>\n",
              "      <td>2595</td>\n",
              "      <td>2814</td>\n",
              "      <td>0.571908</td>\n",
              "      <td>0.843307</td>\n",
              "      <td>0.562540</td>\n",
              "      <td>0.681584</td>\n",
              "      <td>0.843307</td>\n",
              "      <td>0.787911</td>\n",
              "    </tr>\n",
              "    <tr>\n",
              "      <th>13</th>\n",
              "      <td>0.26</td>\n",
              "      <td>13895</td>\n",
              "      <td>10442</td>\n",
              "      <td>2666</td>\n",
              "      <td>2826</td>\n",
              "      <td>0.570941</td>\n",
              "      <td>0.839019</td>\n",
              "      <td>0.560562</td>\n",
              "      <td>0.679495</td>\n",
              "      <td>0.839019</td>\n",
              "      <td>0.787006</td>\n",
              "    </tr>\n",
              "    <tr>\n",
              "      <th>14</th>\n",
              "      <td>0.28</td>\n",
              "      <td>13734</td>\n",
              "      <td>10376</td>\n",
              "      <td>2827</td>\n",
              "      <td>2892</td>\n",
              "      <td>0.569639</td>\n",
              "      <td>0.829298</td>\n",
              "      <td>0.557377</td>\n",
              "      <td>0.675371</td>\n",
              "      <td>0.829298</td>\n",
              "      <td>0.782032</td>\n",
              "    </tr>\n",
              "    <tr>\n",
              "      <th>15</th>\n",
              "      <td>0.30</td>\n",
              "      <td>13734</td>\n",
              "      <td>10375</td>\n",
              "      <td>2827</td>\n",
              "      <td>2893</td>\n",
              "      <td>0.569663</td>\n",
              "      <td>0.829298</td>\n",
              "      <td>0.557411</td>\n",
              "      <td>0.675387</td>\n",
              "      <td>0.829298</td>\n",
              "      <td>0.781957</td>\n",
              "    </tr>\n",
              "    <tr>\n",
              "      <th>16</th>\n",
              "      <td>0.32</td>\n",
              "      <td>13304</td>\n",
              "      <td>10116</td>\n",
              "      <td>3257</td>\n",
              "      <td>3152</td>\n",
              "      <td>0.568061</td>\n",
              "      <td>0.803333</td>\n",
              "      <td>0.551678</td>\n",
              "      <td>0.665516</td>\n",
              "      <td>0.803333</td>\n",
              "      <td>0.762436</td>\n",
              "    </tr>\n",
              "    <tr>\n",
              "      <th>17</th>\n",
              "      <td>0.34</td>\n",
              "      <td>13299</td>\n",
              "      <td>10098</td>\n",
              "      <td>3262</td>\n",
              "      <td>3170</td>\n",
              "      <td>0.568406</td>\n",
              "      <td>0.803031</td>\n",
              "      <td>0.552114</td>\n",
              "      <td>0.665649</td>\n",
              "      <td>0.803031</td>\n",
              "      <td>0.761079</td>\n",
              "    </tr>\n",
              "    <tr>\n",
              "      <th>18</th>\n",
              "      <td>0.36</td>\n",
              "      <td>13080</td>\n",
              "      <td>9940</td>\n",
              "      <td>3481</td>\n",
              "      <td>3328</td>\n",
              "      <td>0.568202</td>\n",
              "      <td>0.789807</td>\n",
              "      <td>0.550069</td>\n",
              "      <td>0.660923</td>\n",
              "      <td>0.789807</td>\n",
              "      <td>0.749171</td>\n",
              "    </tr>\n",
              "    <tr>\n",
              "      <th>19</th>\n",
              "      <td>0.38</td>\n",
              "      <td>13069</td>\n",
              "      <td>9926</td>\n",
              "      <td>3492</td>\n",
              "      <td>3342</td>\n",
              "      <td>0.568341</td>\n",
              "      <td>0.789143</td>\n",
              "      <td>0.550169</td>\n",
              "      <td>0.660785</td>\n",
              "      <td>0.789143</td>\n",
              "      <td>0.748116</td>\n",
              "    </tr>\n",
              "    <tr>\n",
              "      <th>20</th>\n",
              "      <td>0.40</td>\n",
              "      <td>12991</td>\n",
              "      <td>9872</td>\n",
              "      <td>3570</td>\n",
              "      <td>3396</td>\n",
              "      <td>0.568211</td>\n",
              "      <td>0.784433</td>\n",
              "      <td>0.549365</td>\n",
              "      <td>0.659040</td>\n",
              "      <td>0.784433</td>\n",
              "      <td>0.744046</td>\n",
              "    </tr>\n",
              "    <tr>\n",
              "      <th>21</th>\n",
              "      <td>0.42</td>\n",
              "      <td>12643</td>\n",
              "      <td>9415</td>\n",
              "      <td>3918</td>\n",
              "      <td>3853</td>\n",
              "      <td>0.573171</td>\n",
              "      <td>0.763420</td>\n",
              "      <td>0.553019</td>\n",
              "      <td>0.654755</td>\n",
              "      <td>0.763420</td>\n",
              "      <td>0.709602</td>\n",
              "    </tr>\n",
              "    <tr>\n",
              "      <th>22</th>\n",
              "      <td>0.44</td>\n",
              "      <td>12597</td>\n",
              "      <td>9379</td>\n",
              "      <td>3964</td>\n",
              "      <td>3889</td>\n",
              "      <td>0.573216</td>\n",
              "      <td>0.760642</td>\n",
              "      <td>0.552684</td>\n",
              "      <td>0.653761</td>\n",
              "      <td>0.760642</td>\n",
              "      <td>0.706889</td>\n",
              "    </tr>\n",
              "    <tr>\n",
              "      <th>23</th>\n",
              "      <td>0.46</td>\n",
              "      <td>12371</td>\n",
              "      <td>9160</td>\n",
              "      <td>4190</td>\n",
              "      <td>4108</td>\n",
              "      <td>0.574567</td>\n",
              "      <td>0.746996</td>\n",
              "      <td>0.552449</td>\n",
              "      <td>0.649533</td>\n",
              "      <td>0.746996</td>\n",
              "      <td>0.690383</td>\n",
              "    </tr>\n",
              "    <tr>\n",
              "      <th>24</th>\n",
              "      <td>0.48</td>\n",
              "      <td>12018</td>\n",
              "      <td>8798</td>\n",
              "      <td>4543</td>\n",
              "      <td>4470</td>\n",
              "      <td>0.577344</td>\n",
              "      <td>0.725681</td>\n",
              "      <td>0.552751</td>\n",
              "      <td>0.643069</td>\n",
              "      <td>0.725681</td>\n",
              "      <td>0.663099</td>\n",
              "    </tr>\n",
              "    <tr>\n",
              "      <th>25</th>\n",
              "      <td>0.50</td>\n",
              "      <td>11840</td>\n",
              "      <td>8530</td>\n",
              "      <td>4721</td>\n",
              "      <td>4738</td>\n",
              "      <td>0.581247</td>\n",
              "      <td>0.714933</td>\n",
              "      <td>0.555768</td>\n",
              "      <td>0.641196</td>\n",
              "      <td>0.714933</td>\n",
              "      <td>0.642900</td>\n",
              "    </tr>\n",
              "    <tr>\n",
              "      <th>26</th>\n",
              "      <td>0.52</td>\n",
              "      <td>11831</td>\n",
              "      <td>8522</td>\n",
              "      <td>4730</td>\n",
              "      <td>4746</td>\n",
              "      <td>0.581290</td>\n",
              "      <td>0.714389</td>\n",
              "      <td>0.555734</td>\n",
              "      <td>0.641003</td>\n",
              "      <td>0.714389</td>\n",
              "      <td>0.642297</td>\n",
              "    </tr>\n",
              "    <tr>\n",
              "      <th>27</th>\n",
              "      <td>0.54</td>\n",
              "      <td>11605</td>\n",
              "      <td>8413</td>\n",
              "      <td>4956</td>\n",
              "      <td>4855</td>\n",
              "      <td>0.579728</td>\n",
              "      <td>0.700743</td>\n",
              "      <td>0.551812</td>\n",
              "      <td>0.634517</td>\n",
              "      <td>0.700743</td>\n",
              "      <td>0.634082</td>\n",
              "    </tr>\n",
              "    <tr>\n",
              "      <th>28</th>\n",
              "      <td>0.56</td>\n",
              "      <td>10643</td>\n",
              "      <td>7723</td>\n",
              "      <td>5918</td>\n",
              "      <td>5545</td>\n",
              "      <td>0.579495</td>\n",
              "      <td>0.642654</td>\n",
              "      <td>0.542693</td>\n",
              "      <td>0.609443</td>\n",
              "      <td>0.642654</td>\n",
              "      <td>0.582077</td>\n",
              "    </tr>\n",
              "    <tr>\n",
              "      <th>29</th>\n",
              "      <td>0.58</td>\n",
              "      <td>10605</td>\n",
              "      <td>7685</td>\n",
              "      <td>5956</td>\n",
              "      <td>5583</td>\n",
              "      <td>0.579825</td>\n",
              "      <td>0.640360</td>\n",
              "      <td>0.542693</td>\n",
              "      <td>0.608591</td>\n",
              "      <td>0.640360</td>\n",
              "      <td>0.579213</td>\n",
              "    </tr>\n",
              "    <tr>\n",
              "      <th>30</th>\n",
              "      <td>0.60</td>\n",
              "      <td>7931</td>\n",
              "      <td>5820</td>\n",
              "      <td>8630</td>\n",
              "      <td>7448</td>\n",
              "      <td>0.576758</td>\n",
              "      <td>0.478896</td>\n",
              "      <td>0.515572</td>\n",
              "      <td>0.523291</td>\n",
              "      <td>0.478896</td>\n",
              "      <td>0.438649</td>\n",
              "    </tr>\n",
              "    <tr>\n",
              "      <th>31</th>\n",
              "      <td>0.62</td>\n",
              "      <td>5936</td>\n",
              "      <td>4392</td>\n",
              "      <td>10625</td>\n",
              "      <td>8876</td>\n",
              "      <td>0.574748</td>\n",
              "      <td>0.358432</td>\n",
              "      <td>0.496564</td>\n",
              "      <td>0.441519</td>\n",
              "      <td>0.358432</td>\n",
              "      <td>0.331022</td>\n",
              "    </tr>\n",
              "    <tr>\n",
              "      <th>32</th>\n",
              "      <td>0.64</td>\n",
              "      <td>5780</td>\n",
              "      <td>4178</td>\n",
              "      <td>10781</td>\n",
              "      <td>9090</td>\n",
              "      <td>0.580438</td>\n",
              "      <td>0.349013</td>\n",
              "      <td>0.498508</td>\n",
              "      <td>0.435914</td>\n",
              "      <td>0.349013</td>\n",
              "      <td>0.314893</td>\n",
              "    </tr>\n",
              "    <tr>\n",
              "      <th>33</th>\n",
              "      <td>0.66</td>\n",
              "      <td>5243</td>\n",
              "      <td>3800</td>\n",
              "      <td>11318</td>\n",
              "      <td>9468</td>\n",
              "      <td>0.579785</td>\n",
              "      <td>0.316587</td>\n",
              "      <td>0.493178</td>\n",
              "      <td>0.409545</td>\n",
              "      <td>0.316587</td>\n",
              "      <td>0.286403</td>\n",
              "    </tr>\n",
              "    <tr>\n",
              "      <th>34</th>\n",
              "      <td>0.68</td>\n",
              "      <td>5062</td>\n",
              "      <td>3708</td>\n",
              "      <td>11499</td>\n",
              "      <td>9560</td>\n",
              "      <td>0.577195</td>\n",
              "      <td>0.305658</td>\n",
              "      <td>0.490194</td>\n",
              "      <td>0.399668</td>\n",
              "      <td>0.305658</td>\n",
              "      <td>0.279469</td>\n",
              "    </tr>\n",
              "    <tr>\n",
              "      <th>35</th>\n",
              "      <td>0.70</td>\n",
              "      <td>5062</td>\n",
              "      <td>3708</td>\n",
              "      <td>11499</td>\n",
              "      <td>9560</td>\n",
              "      <td>0.577195</td>\n",
              "      <td>0.305658</td>\n",
              "      <td>0.490194</td>\n",
              "      <td>0.399668</td>\n",
              "      <td>0.305658</td>\n",
              "      <td>0.279469</td>\n",
              "    </tr>\n",
              "    <tr>\n",
              "      <th>36</th>\n",
              "      <td>0.72</td>\n",
              "      <td>4974</td>\n",
              "      <td>3635</td>\n",
              "      <td>11587</td>\n",
              "      <td>9633</td>\n",
              "      <td>0.577767</td>\n",
              "      <td>0.300344</td>\n",
              "      <td>0.489691</td>\n",
              "      <td>0.395232</td>\n",
              "      <td>0.300344</td>\n",
              "      <td>0.273967</td>\n",
              "    </tr>\n",
              "    <tr>\n",
              "      <th>37</th>\n",
              "      <td>0.74</td>\n",
              "      <td>4964</td>\n",
              "      <td>3615</td>\n",
              "      <td>11597</td>\n",
              "      <td>9653</td>\n",
              "      <td>0.578622</td>\n",
              "      <td>0.299740</td>\n",
              "      <td>0.490026</td>\n",
              "      <td>0.394909</td>\n",
              "      <td>0.299740</td>\n",
              "      <td>0.272460</td>\n",
              "    </tr>\n",
              "    <tr>\n",
              "      <th>38</th>\n",
              "      <td>0.76</td>\n",
              "      <td>3644</td>\n",
              "      <td>2818</td>\n",
              "      <td>12917</td>\n",
              "      <td>10450</td>\n",
              "      <td>0.563912</td>\n",
              "      <td>0.220035</td>\n",
              "      <td>0.472493</td>\n",
              "      <td>0.316553</td>\n",
              "      <td>0.220035</td>\n",
              "      <td>0.212391</td>\n",
              "    </tr>\n",
              "    <tr>\n",
              "      <th>39</th>\n",
              "      <td>0.78</td>\n",
              "      <td>3435</td>\n",
              "      <td>2525</td>\n",
              "      <td>13126</td>\n",
              "      <td>10743</td>\n",
              "      <td>0.576342</td>\n",
              "      <td>0.207415</td>\n",
              "      <td>0.475309</td>\n",
              "      <td>0.305049</td>\n",
              "      <td>0.207415</td>\n",
              "      <td>0.190308</td>\n",
              "    </tr>\n",
              "    <tr>\n",
              "      <th>40</th>\n",
              "      <td>0.80</td>\n",
              "      <td>2918</td>\n",
              "      <td>2276</td>\n",
              "      <td>13643</td>\n",
              "      <td>10992</td>\n",
              "      <td>0.561802</td>\n",
              "      <td>0.176197</td>\n",
              "      <td>0.466325</td>\n",
              "      <td>0.268260</td>\n",
              "      <td>0.176197</td>\n",
              "      <td>0.171541</td>\n",
              "    </tr>\n",
              "    <tr>\n",
              "      <th>41</th>\n",
              "      <td>0.82</td>\n",
              "      <td>2809</td>\n",
              "      <td>2250</td>\n",
              "      <td>13752</td>\n",
              "      <td>11018</td>\n",
              "      <td>0.555248</td>\n",
              "      <td>0.169615</td>\n",
              "      <td>0.463542</td>\n",
              "      <td>0.259852</td>\n",
              "      <td>0.169615</td>\n",
              "      <td>0.169581</td>\n",
              "    </tr>\n",
              "    <tr>\n",
              "      <th>42</th>\n",
              "      <td>0.84</td>\n",
              "      <td>1900</td>\n",
              "      <td>1647</td>\n",
              "      <td>14661</td>\n",
              "      <td>11621</td>\n",
              "      <td>0.535664</td>\n",
              "      <td>0.114727</td>\n",
              "      <td>0.453284</td>\n",
              "      <td>0.188980</td>\n",
              "      <td>0.114727</td>\n",
              "      <td>0.124133</td>\n",
              "    </tr>\n",
              "    <tr>\n",
              "      <th>43</th>\n",
              "      <td>0.86</td>\n",
              "      <td>1588</td>\n",
              "      <td>1490</td>\n",
              "      <td>14973</td>\n",
              "      <td>11778</td>\n",
              "      <td>0.515919</td>\n",
              "      <td>0.095888</td>\n",
              "      <td>0.448087</td>\n",
              "      <td>0.161719</td>\n",
              "      <td>0.095888</td>\n",
              "      <td>0.112300</td>\n",
              "    </tr>\n",
              "    <tr>\n",
              "      <th>44</th>\n",
              "      <td>0.88</td>\n",
              "      <td>1393</td>\n",
              "      <td>1372</td>\n",
              "      <td>15168</td>\n",
              "      <td>11896</td>\n",
              "      <td>0.503797</td>\n",
              "      <td>0.084113</td>\n",
              "      <td>0.445506</td>\n",
              "      <td>0.144158</td>\n",
              "      <td>0.084113</td>\n",
              "      <td>0.103407</td>\n",
              "    </tr>\n",
              "    <tr>\n",
              "      <th>45</th>\n",
              "      <td>0.90</td>\n",
              "      <td>1393</td>\n",
              "      <td>1372</td>\n",
              "      <td>15168</td>\n",
              "      <td>11896</td>\n",
              "      <td>0.503797</td>\n",
              "      <td>0.084113</td>\n",
              "      <td>0.445506</td>\n",
              "      <td>0.144158</td>\n",
              "      <td>0.084113</td>\n",
              "      <td>0.103407</td>\n",
              "    </tr>\n",
              "    <tr>\n",
              "      <th>46</th>\n",
              "      <td>0.92</td>\n",
              "      <td>1205</td>\n",
              "      <td>1178</td>\n",
              "      <td>15356</td>\n",
              "      <td>12090</td>\n",
              "      <td>0.505665</td>\n",
              "      <td>0.072761</td>\n",
              "      <td>0.445707</td>\n",
              "      <td>0.127217</td>\n",
              "      <td>0.072761</td>\n",
              "      <td>0.088785</td>\n",
              "    </tr>\n",
              "    <tr>\n",
              "      <th>47</th>\n",
              "      <td>0.94</td>\n",
              "      <td>1113</td>\n",
              "      <td>1156</td>\n",
              "      <td>15448</td>\n",
              "      <td>12112</td>\n",
              "      <td>0.490524</td>\n",
              "      <td>0.067206</td>\n",
              "      <td>0.443360</td>\n",
              "      <td>0.118216</td>\n",
              "      <td>0.067206</td>\n",
              "      <td>0.087127</td>\n",
              "    </tr>\n",
              "    <tr>\n",
              "      <th>48</th>\n",
              "      <td>0.96</td>\n",
              "      <td>1035</td>\n",
              "      <td>990</td>\n",
              "      <td>15526</td>\n",
              "      <td>12278</td>\n",
              "      <td>0.511111</td>\n",
              "      <td>0.062496</td>\n",
              "      <td>0.446311</td>\n",
              "      <td>0.111374</td>\n",
              "      <td>0.062496</td>\n",
              "      <td>0.074616</td>\n",
              "    </tr>\n",
              "    <tr>\n",
              "      <th>49</th>\n",
              "      <td>0.98</td>\n",
              "      <td>998</td>\n",
              "      <td>918</td>\n",
              "      <td>15563</td>\n",
              "      <td>12350</td>\n",
              "      <td>0.520877</td>\n",
              "      <td>0.060262</td>\n",
              "      <td>0.447484</td>\n",
              "      <td>0.108026</td>\n",
              "      <td>0.060262</td>\n",
              "      <td>0.069189</td>\n",
              "    </tr>\n",
              "    <tr>\n",
              "      <th>50</th>\n",
              "      <td>1.00</td>\n",
              "      <td>988</td>\n",
              "      <td>908</td>\n",
              "      <td>15573</td>\n",
              "      <td>12360</td>\n",
              "      <td>0.521097</td>\n",
              "      <td>0.059658</td>\n",
              "      <td>0.447484</td>\n",
              "      <td>0.107060</td>\n",
              "      <td>0.059658</td>\n",
              "      <td>0.068435</td>\n",
              "    </tr>\n",
              "  </tbody>\n",
              "</table>\n",
              "</div>"
            ],
            "text/plain": [
              "    threshold     tp     fp     fn     tn  precision    recall  accuracy  \\\n",
              "0        0.00  16561  13268      0      0   0.555198  1.000000  0.555198   \n",
              "1        0.02  15706  12208    855   1060   0.562657  0.948373  0.562070   \n",
              "2        0.04  15706  12208    855   1060   0.562657  0.948373  0.562070   \n",
              "3        0.06  15652  12188    909   1080   0.562213  0.945112  0.560931   \n",
              "4        0.08  15582  12164    979   1104   0.561594  0.940885  0.559389   \n",
              "5        0.10  15536  12103   1025   1165   0.562104  0.938108  0.559891   \n",
              "6        0.12  15046  11564   1515   1704   0.565427  0.908520  0.561534   \n",
              "7        0.14  15043  11561   1518   1707   0.565441  0.908339  0.561534   \n",
              "8        0.16  14241  10919   2320   2349   0.566017  0.859912  0.556170   \n",
              "9        0.18  14018  10633   2543   2635   0.568658  0.846446  0.558282   \n",
              "10       0.20  14007  10628   2554   2640   0.568581  0.845782  0.558081   \n",
              "11       0.22  13995  10623   2566   2645   0.568486  0.845058  0.557846   \n",
              "12       0.24  13966  10454   2595   2814   0.571908  0.843307  0.562540   \n",
              "13       0.26  13895  10442   2666   2826   0.570941  0.839019  0.560562   \n",
              "14       0.28  13734  10376   2827   2892   0.569639  0.829298  0.557377   \n",
              "15       0.30  13734  10375   2827   2893   0.569663  0.829298  0.557411   \n",
              "16       0.32  13304  10116   3257   3152   0.568061  0.803333  0.551678   \n",
              "17       0.34  13299  10098   3262   3170   0.568406  0.803031  0.552114   \n",
              "18       0.36  13080   9940   3481   3328   0.568202  0.789807  0.550069   \n",
              "19       0.38  13069   9926   3492   3342   0.568341  0.789143  0.550169   \n",
              "20       0.40  12991   9872   3570   3396   0.568211  0.784433  0.549365   \n",
              "21       0.42  12643   9415   3918   3853   0.573171  0.763420  0.553019   \n",
              "22       0.44  12597   9379   3964   3889   0.573216  0.760642  0.552684   \n",
              "23       0.46  12371   9160   4190   4108   0.574567  0.746996  0.552449   \n",
              "24       0.48  12018   8798   4543   4470   0.577344  0.725681  0.552751   \n",
              "25       0.50  11840   8530   4721   4738   0.581247  0.714933  0.555768   \n",
              "26       0.52  11831   8522   4730   4746   0.581290  0.714389  0.555734   \n",
              "27       0.54  11605   8413   4956   4855   0.579728  0.700743  0.551812   \n",
              "28       0.56  10643   7723   5918   5545   0.579495  0.642654  0.542693   \n",
              "29       0.58  10605   7685   5956   5583   0.579825  0.640360  0.542693   \n",
              "30       0.60   7931   5820   8630   7448   0.576758  0.478896  0.515572   \n",
              "31       0.62   5936   4392  10625   8876   0.574748  0.358432  0.496564   \n",
              "32       0.64   5780   4178  10781   9090   0.580438  0.349013  0.498508   \n",
              "33       0.66   5243   3800  11318   9468   0.579785  0.316587  0.493178   \n",
              "34       0.68   5062   3708  11499   9560   0.577195  0.305658  0.490194   \n",
              "35       0.70   5062   3708  11499   9560   0.577195  0.305658  0.490194   \n",
              "36       0.72   4974   3635  11587   9633   0.577767  0.300344  0.489691   \n",
              "37       0.74   4964   3615  11597   9653   0.578622  0.299740  0.490026   \n",
              "38       0.76   3644   2818  12917  10450   0.563912  0.220035  0.472493   \n",
              "39       0.78   3435   2525  13126  10743   0.576342  0.207415  0.475309   \n",
              "40       0.80   2918   2276  13643  10992   0.561802  0.176197  0.466325   \n",
              "41       0.82   2809   2250  13752  11018   0.555248  0.169615  0.463542   \n",
              "42       0.84   1900   1647  14661  11621   0.535664  0.114727  0.453284   \n",
              "43       0.86   1588   1490  14973  11778   0.515919  0.095888  0.448087   \n",
              "44       0.88   1393   1372  15168  11896   0.503797  0.084113  0.445506   \n",
              "45       0.90   1393   1372  15168  11896   0.503797  0.084113  0.445506   \n",
              "46       0.92   1205   1178  15356  12090   0.505665  0.072761  0.445707   \n",
              "47       0.94   1113   1156  15448  12112   0.490524  0.067206  0.443360   \n",
              "48       0.96   1035    990  15526  12278   0.511111  0.062496  0.446311   \n",
              "49       0.98    998    918  15563  12350   0.520877  0.060262  0.447484   \n",
              "50       1.00    988    908  15573  12360   0.521097  0.059658  0.447484   \n",
              "\n",
              "    f1_score       tpr       fpr  \n",
              "0   0.713990  1.000000  1.000000  \n",
              "1   0.706284  0.948373  0.920109  \n",
              "2   0.706284  0.948373  0.920109  \n",
              "3   0.705029  0.945112  0.918601  \n",
              "4   0.703365  0.940885  0.916792  \n",
              "5   0.702986  0.938108  0.912195  \n",
              "6   0.697042  0.908520  0.871571  \n",
              "7   0.697000  0.908339  0.871345  \n",
              "8   0.682678  0.859912  0.822957  \n",
              "9   0.680287  0.846446  0.801402  \n",
              "10  0.680017  0.845782  0.801025  \n",
              "11  0.679715  0.845058  0.800648  \n",
              "12  0.681584  0.843307  0.787911  \n",
              "13  0.679495  0.839019  0.787006  \n",
              "14  0.675371  0.829298  0.782032  \n",
              "15  0.675387  0.829298  0.781957  \n",
              "16  0.665516  0.803333  0.762436  \n",
              "17  0.665649  0.803031  0.761079  \n",
              "18  0.660923  0.789807  0.749171  \n",
              "19  0.660785  0.789143  0.748116  \n",
              "20  0.659040  0.784433  0.744046  \n",
              "21  0.654755  0.763420  0.709602  \n",
              "22  0.653761  0.760642  0.706889  \n",
              "23  0.649533  0.746996  0.690383  \n",
              "24  0.643069  0.725681  0.663099  \n",
              "25  0.641196  0.714933  0.642900  \n",
              "26  0.641003  0.714389  0.642297  \n",
              "27  0.634517  0.700743  0.634082  \n",
              "28  0.609443  0.642654  0.582077  \n",
              "29  0.608591  0.640360  0.579213  \n",
              "30  0.523291  0.478896  0.438649  \n",
              "31  0.441519  0.358432  0.331022  \n",
              "32  0.435914  0.349013  0.314893  \n",
              "33  0.409545  0.316587  0.286403  \n",
              "34  0.399668  0.305658  0.279469  \n",
              "35  0.399668  0.305658  0.279469  \n",
              "36  0.395232  0.300344  0.273967  \n",
              "37  0.394909  0.299740  0.272460  \n",
              "38  0.316553  0.220035  0.212391  \n",
              "39  0.305049  0.207415  0.190308  \n",
              "40  0.268260  0.176197  0.171541  \n",
              "41  0.259852  0.169615  0.169581  \n",
              "42  0.188980  0.114727  0.124133  \n",
              "43  0.161719  0.095888  0.112300  \n",
              "44  0.144158  0.084113  0.103407  \n",
              "45  0.144158  0.084113  0.103407  \n",
              "46  0.127217  0.072761  0.088785  \n",
              "47  0.118216  0.067206  0.087127  \n",
              "48  0.111374  0.062496  0.074616  \n",
              "49  0.108026  0.060262  0.069189  \n",
              "50  0.107060  0.059658  0.068435  "
            ]
          },
          "execution_count": 112,
          "metadata": {},
          "output_type": "execute_result"
        }
      ],
      "source": [
        "# full df_scores\n",
        "df_scores"
      ]
    },
    {
      "cell_type": "code",
      "execution_count": 113,
      "metadata": {
        "colab": {
          "base_uri": "https://localhost:8080/",
          "height": 545
        },
        "id": "sfhNxo4UvPn7",
        "outputId": "fdf8fefd-6add-48e9-b752-d95072fa3059"
      },
      "outputs": [
        {
          "data": {
            "text/html": [
              "<div>\n",
              "<style scoped>\n",
              "    .dataframe tbody tr th:only-of-type {\n",
              "        vertical-align: middle;\n",
              "    }\n",
              "\n",
              "    .dataframe tbody tr th {\n",
              "        vertical-align: top;\n",
              "    }\n",
              "\n",
              "    .dataframe thead th {\n",
              "        text-align: right;\n",
              "    }\n",
              "</style>\n",
              "<table border=\"1\" class=\"dataframe\">\n",
              "  <thead>\n",
              "    <tr style=\"text-align: right;\">\n",
              "      <th></th>\n",
              "      <th>threshold</th>\n",
              "      <th>tp</th>\n",
              "      <th>fp</th>\n",
              "      <th>fn</th>\n",
              "      <th>tn</th>\n",
              "      <th>precision</th>\n",
              "      <th>recall</th>\n",
              "      <th>accuracy</th>\n",
              "      <th>f1_score</th>\n",
              "      <th>tpr</th>\n",
              "      <th>fpr</th>\n",
              "    </tr>\n",
              "  </thead>\n",
              "  <tbody>\n",
              "    <tr>\n",
              "      <th>25</th>\n",
              "      <td>0.50</td>\n",
              "      <td>11840</td>\n",
              "      <td>8530</td>\n",
              "      <td>4721</td>\n",
              "      <td>4738</td>\n",
              "      <td>0.581247</td>\n",
              "      <td>0.714933</td>\n",
              "      <td>0.555768</td>\n",
              "      <td>0.641196</td>\n",
              "      <td>0.714933</td>\n",
              "      <td>0.642900</td>\n",
              "    </tr>\n",
              "    <tr>\n",
              "      <th>26</th>\n",
              "      <td>0.52</td>\n",
              "      <td>11831</td>\n",
              "      <td>8522</td>\n",
              "      <td>4730</td>\n",
              "      <td>4746</td>\n",
              "      <td>0.581290</td>\n",
              "      <td>0.714389</td>\n",
              "      <td>0.555734</td>\n",
              "      <td>0.641003</td>\n",
              "      <td>0.714389</td>\n",
              "      <td>0.642297</td>\n",
              "    </tr>\n",
              "    <tr>\n",
              "      <th>27</th>\n",
              "      <td>0.54</td>\n",
              "      <td>11605</td>\n",
              "      <td>8413</td>\n",
              "      <td>4956</td>\n",
              "      <td>4855</td>\n",
              "      <td>0.579728</td>\n",
              "      <td>0.700743</td>\n",
              "      <td>0.551812</td>\n",
              "      <td>0.634517</td>\n",
              "      <td>0.700743</td>\n",
              "      <td>0.634082</td>\n",
              "    </tr>\n",
              "    <tr>\n",
              "      <th>28</th>\n",
              "      <td>0.56</td>\n",
              "      <td>10643</td>\n",
              "      <td>7723</td>\n",
              "      <td>5918</td>\n",
              "      <td>5545</td>\n",
              "      <td>0.579495</td>\n",
              "      <td>0.642654</td>\n",
              "      <td>0.542693</td>\n",
              "      <td>0.609443</td>\n",
              "      <td>0.642654</td>\n",
              "      <td>0.582077</td>\n",
              "    </tr>\n",
              "    <tr>\n",
              "      <th>29</th>\n",
              "      <td>0.58</td>\n",
              "      <td>10605</td>\n",
              "      <td>7685</td>\n",
              "      <td>5956</td>\n",
              "      <td>5583</td>\n",
              "      <td>0.579825</td>\n",
              "      <td>0.640360</td>\n",
              "      <td>0.542693</td>\n",
              "      <td>0.608591</td>\n",
              "      <td>0.640360</td>\n",
              "      <td>0.579213</td>\n",
              "    </tr>\n",
              "    <tr>\n",
              "      <th>30</th>\n",
              "      <td>0.60</td>\n",
              "      <td>7931</td>\n",
              "      <td>5820</td>\n",
              "      <td>8630</td>\n",
              "      <td>7448</td>\n",
              "      <td>0.576758</td>\n",
              "      <td>0.478896</td>\n",
              "      <td>0.515572</td>\n",
              "      <td>0.523291</td>\n",
              "      <td>0.478896</td>\n",
              "      <td>0.438649</td>\n",
              "    </tr>\n",
              "    <tr>\n",
              "      <th>31</th>\n",
              "      <td>0.62</td>\n",
              "      <td>5936</td>\n",
              "      <td>4392</td>\n",
              "      <td>10625</td>\n",
              "      <td>8876</td>\n",
              "      <td>0.574748</td>\n",
              "      <td>0.358432</td>\n",
              "      <td>0.496564</td>\n",
              "      <td>0.441519</td>\n",
              "      <td>0.358432</td>\n",
              "      <td>0.331022</td>\n",
              "    </tr>\n",
              "    <tr>\n",
              "      <th>32</th>\n",
              "      <td>0.64</td>\n",
              "      <td>5780</td>\n",
              "      <td>4178</td>\n",
              "      <td>10781</td>\n",
              "      <td>9090</td>\n",
              "      <td>0.580438</td>\n",
              "      <td>0.349013</td>\n",
              "      <td>0.498508</td>\n",
              "      <td>0.435914</td>\n",
              "      <td>0.349013</td>\n",
              "      <td>0.314893</td>\n",
              "    </tr>\n",
              "    <tr>\n",
              "      <th>33</th>\n",
              "      <td>0.66</td>\n",
              "      <td>5243</td>\n",
              "      <td>3800</td>\n",
              "      <td>11318</td>\n",
              "      <td>9468</td>\n",
              "      <td>0.579785</td>\n",
              "      <td>0.316587</td>\n",
              "      <td>0.493178</td>\n",
              "      <td>0.409545</td>\n",
              "      <td>0.316587</td>\n",
              "      <td>0.286403</td>\n",
              "    </tr>\n",
              "    <tr>\n",
              "      <th>34</th>\n",
              "      <td>0.68</td>\n",
              "      <td>5062</td>\n",
              "      <td>3708</td>\n",
              "      <td>11499</td>\n",
              "      <td>9560</td>\n",
              "      <td>0.577195</td>\n",
              "      <td>0.305658</td>\n",
              "      <td>0.490194</td>\n",
              "      <td>0.399668</td>\n",
              "      <td>0.305658</td>\n",
              "      <td>0.279469</td>\n",
              "    </tr>\n",
              "    <tr>\n",
              "      <th>35</th>\n",
              "      <td>0.70</td>\n",
              "      <td>5062</td>\n",
              "      <td>3708</td>\n",
              "      <td>11499</td>\n",
              "      <td>9560</td>\n",
              "      <td>0.577195</td>\n",
              "      <td>0.305658</td>\n",
              "      <td>0.490194</td>\n",
              "      <td>0.399668</td>\n",
              "      <td>0.305658</td>\n",
              "      <td>0.279469</td>\n",
              "    </tr>\n",
              "    <tr>\n",
              "      <th>36</th>\n",
              "      <td>0.72</td>\n",
              "      <td>4974</td>\n",
              "      <td>3635</td>\n",
              "      <td>11587</td>\n",
              "      <td>9633</td>\n",
              "      <td>0.577767</td>\n",
              "      <td>0.300344</td>\n",
              "      <td>0.489691</td>\n",
              "      <td>0.395232</td>\n",
              "      <td>0.300344</td>\n",
              "      <td>0.273967</td>\n",
              "    </tr>\n",
              "    <tr>\n",
              "      <th>37</th>\n",
              "      <td>0.74</td>\n",
              "      <td>4964</td>\n",
              "      <td>3615</td>\n",
              "      <td>11597</td>\n",
              "      <td>9653</td>\n",
              "      <td>0.578622</td>\n",
              "      <td>0.299740</td>\n",
              "      <td>0.490026</td>\n",
              "      <td>0.394909</td>\n",
              "      <td>0.299740</td>\n",
              "      <td>0.272460</td>\n",
              "    </tr>\n",
              "    <tr>\n",
              "      <th>38</th>\n",
              "      <td>0.76</td>\n",
              "      <td>3644</td>\n",
              "      <td>2818</td>\n",
              "      <td>12917</td>\n",
              "      <td>10450</td>\n",
              "      <td>0.563912</td>\n",
              "      <td>0.220035</td>\n",
              "      <td>0.472493</td>\n",
              "      <td>0.316553</td>\n",
              "      <td>0.220035</td>\n",
              "      <td>0.212391</td>\n",
              "    </tr>\n",
              "    <tr>\n",
              "      <th>39</th>\n",
              "      <td>0.78</td>\n",
              "      <td>3435</td>\n",
              "      <td>2525</td>\n",
              "      <td>13126</td>\n",
              "      <td>10743</td>\n",
              "      <td>0.576342</td>\n",
              "      <td>0.207415</td>\n",
              "      <td>0.475309</td>\n",
              "      <td>0.305049</td>\n",
              "      <td>0.207415</td>\n",
              "      <td>0.190308</td>\n",
              "    </tr>\n",
              "    <tr>\n",
              "      <th>40</th>\n",
              "      <td>0.80</td>\n",
              "      <td>2918</td>\n",
              "      <td>2276</td>\n",
              "      <td>13643</td>\n",
              "      <td>10992</td>\n",
              "      <td>0.561802</td>\n",
              "      <td>0.176197</td>\n",
              "      <td>0.466325</td>\n",
              "      <td>0.268260</td>\n",
              "      <td>0.176197</td>\n",
              "      <td>0.171541</td>\n",
              "    </tr>\n",
              "  </tbody>\n",
              "</table>\n",
              "</div>"
            ],
            "text/plain": [
              "    threshold     tp    fp     fn     tn  precision    recall  accuracy  \\\n",
              "25       0.50  11840  8530   4721   4738   0.581247  0.714933  0.555768   \n",
              "26       0.52  11831  8522   4730   4746   0.581290  0.714389  0.555734   \n",
              "27       0.54  11605  8413   4956   4855   0.579728  0.700743  0.551812   \n",
              "28       0.56  10643  7723   5918   5545   0.579495  0.642654  0.542693   \n",
              "29       0.58  10605  7685   5956   5583   0.579825  0.640360  0.542693   \n",
              "30       0.60   7931  5820   8630   7448   0.576758  0.478896  0.515572   \n",
              "31       0.62   5936  4392  10625   8876   0.574748  0.358432  0.496564   \n",
              "32       0.64   5780  4178  10781   9090   0.580438  0.349013  0.498508   \n",
              "33       0.66   5243  3800  11318   9468   0.579785  0.316587  0.493178   \n",
              "34       0.68   5062  3708  11499   9560   0.577195  0.305658  0.490194   \n",
              "35       0.70   5062  3708  11499   9560   0.577195  0.305658  0.490194   \n",
              "36       0.72   4974  3635  11587   9633   0.577767  0.300344  0.489691   \n",
              "37       0.74   4964  3615  11597   9653   0.578622  0.299740  0.490026   \n",
              "38       0.76   3644  2818  12917  10450   0.563912  0.220035  0.472493   \n",
              "39       0.78   3435  2525  13126  10743   0.576342  0.207415  0.475309   \n",
              "40       0.80   2918  2276  13643  10992   0.561802  0.176197  0.466325   \n",
              "\n",
              "    f1_score       tpr       fpr  \n",
              "25  0.641196  0.714933  0.642900  \n",
              "26  0.641003  0.714389  0.642297  \n",
              "27  0.634517  0.700743  0.634082  \n",
              "28  0.609443  0.642654  0.582077  \n",
              "29  0.608591  0.640360  0.579213  \n",
              "30  0.523291  0.478896  0.438649  \n",
              "31  0.441519  0.358432  0.331022  \n",
              "32  0.435914  0.349013  0.314893  \n",
              "33  0.409545  0.316587  0.286403  \n",
              "34  0.399668  0.305658  0.279469  \n",
              "35  0.399668  0.305658  0.279469  \n",
              "36  0.395232  0.300344  0.273967  \n",
              "37  0.394909  0.299740  0.272460  \n",
              "38  0.316553  0.220035  0.212391  \n",
              "39  0.305049  0.207415  0.190308  \n",
              "40  0.268260  0.176197  0.171541  "
            ]
          },
          "execution_count": 113,
          "metadata": {},
          "output_type": "execute_result"
        }
      ],
      "source": [
        "df_scores[(df_scores.threshold>=0.5) & (df_scores.threshold<=0.8)]"
      ]
    },
    {
      "cell_type": "code",
      "execution_count": 114,
      "metadata": {
        "colab": {
          "base_uri": "https://localhost:8080/",
          "height": 489
        },
        "id": "B2AqOTxvvRV0",
        "outputId": "7d835d45-0749-4c50-f390-4691b544b0f3"
      },
      "outputs": [
        {
          "data": {
            "text/plain": [
              "<Axes: title={'center': 'Precision vs. Recall for the Best Model (Decision Tree with max_depth=15)'}, xlabel='threshold'>"
            ]
          },
          "execution_count": 114,
          "metadata": {},
          "output_type": "execute_result"
        },
        {
          "data": {
            "image/png": "[encoded data removed]",
            "text/plain": [
              "<Figure size 640x480 with 1 Axes>"
            ]
          },
          "metadata": {},
          "output_type": "display_data"
        }
      ],
      "source": [
        "# Try to find high Precision score points\n",
        "\n",
        "df_scores.plot.line(x='threshold',\n",
        "                    y=['precision','recall', 'f1_score'],\n",
        "                    title = 'Precision vs. Recall for the Best Model (Decision Tree with max_depth=15)')"
      ]
    },
    {
      "cell_type": "markdown",
      "metadata": {
        "id": "D6VPJZNVvguL"
      },
      "source": [
        "## 2.2) [Code Snippet 6] Defining new columns with Predictions in new_df: pred7..pred10\n",
        "* pred7 and pred8 are 2 decision rules for the Decision Tree (best model with max_depth=15)\n",
        "* pred9 and pred10 are 2 decision rules for the Random Forest (second best model)"
      ]
    },
    {
      "cell_type": "code",
      "execution_count": 115,
      "metadata": {
        "id": "dVg7GsUvviGS"
      },
      "outputs": [],
      "source": [
        "# adding Decision Tree predictors (clf_best) to the dataset for 2 new rules: Threshold = 0.66 and 0.78\n",
        "\n",
        "\n",
        "y_pred_all = clf_best.predict_proba(X_all)\n",
        "y_pred_all_class1 = [k[1] for k in y_pred_all] #list of predictions for class \"1\"\n",
        "y_pred_all_class1_array = np.array(y_pred_all_class1) # (Numpy Array) np.array of predictions for class \"1\" , converted from a list\n",
        "\n",
        "# defining a new prediction vector is easy now, as the dimensions will match\n",
        "new_df['proba_pred7'] = y_pred_all_class1_array\n",
        "new_df['pred7_clf_best_rule_66'] = (y_pred_all_class1_array >= 0.66).astype(int)\n",
        "\n",
        "new_df['proba_pred8'] = y_pred_all_class1_array\n",
        "new_df['pred8_clf_best_rule_78'] = (y_pred_all_class1_array >= 0.78).astype(int)"
      ]
    },
    {
      "cell_type": "code",
      "execution_count": 116,
      "metadata": {
        "colab": {
          "base_uri": "https://localhost:8080/",
          "height": 91
        },
        "id": "lAoMQvpOvkXa",
        "outputId": "f30a5626-a5ab-4ad4-c051-4f288942d220"
      },
      "outputs": [
        {
          "data": {
            "text/html": [
              "<style>#sk-container-id-2 {color: black;}#sk-container-id-2 pre{padding: 0;}#sk-container-id-2 div.sk-toggleable {background-color: white;}#sk-container-id-2 label.sk-toggleable__label {cursor: pointer;display: block;width: 100%;margin-bottom: 0;padding: 0.3em;box-sizing: border-box;text-align: center;}#sk-container-id-2 label.sk-toggleable__label-arrow:before {content: \"▸\";float: left;margin-right: 0.25em;color: #696969;}#sk-container-id-2 label.sk-toggleable__label-arrow:hover:before {color: black;}#sk-container-id-2 div.sk-estimator:hover label.sk-toggleable__label-arrow:before {color: black;}#sk-container-id-2 div.sk-toggleable__content {max-height: 0;max-width: 0;overflow: hidden;text-align: left;background-color: #f0f8ff;}#sk-container-id-2 div.sk-toggleable__content pre {margin: 0.2em;color: black;border-radius: 0.25em;background-color: #f0f8ff;}#sk-container-id-2 input.sk-toggleable__control:checked~div.sk-toggleable__content {max-height: 200px;max-width: 100%;overflow: auto;}#sk-container-id-2 input.sk-toggleable__control:checked~label.sk-toggleable__label-arrow:before {content: \"▾\";}#sk-container-id-2 div.sk-estimator input.sk-toggleable__control:checked~label.sk-toggleable__label {background-color: #d4ebff;}#sk-container-id-2 div.sk-label input.sk-toggleable__control:checked~label.sk-toggleable__label {background-color: #d4ebff;}#sk-container-id-2 input.sk-hidden--visually {border: 0;clip: rect(1px 1px 1px 1px);clip: rect(1px, 1px, 1px, 1px);height: 1px;margin: -1px;overflow: hidden;padding: 0;position: absolute;width: 1px;}#sk-container-id-2 div.sk-estimator {font-family: monospace;background-color: #f0f8ff;border: 1px dotted black;border-radius: 0.25em;box-sizing: border-box;margin-bottom: 0.5em;}#sk-container-id-2 div.sk-estimator:hover {background-color: #d4ebff;}#sk-container-id-2 div.sk-parallel-item::after {content: \"\";width: 100%;border-bottom: 1px solid gray;flex-grow: 1;}#sk-container-id-2 div.sk-label:hover label.sk-toggleable__label {background-color: #d4ebff;}#sk-container-id-2 div.sk-serial::before {content: \"\";position: absolute;border-left: 1px solid gray;box-sizing: border-box;top: 0;bottom: 0;left: 50%;z-index: 0;}#sk-container-id-2 div.sk-serial {display: flex;flex-direction: column;align-items: center;background-color: white;padding-right: 0.2em;padding-left: 0.2em;position: relative;}#sk-container-id-2 div.sk-item {position: relative;z-index: 1;}#sk-container-id-2 div.sk-parallel {display: flex;align-items: stretch;justify-content: center;background-color: white;position: relative;}#sk-container-id-2 div.sk-item::before, #sk-container-id-2 div.sk-parallel-item::before {content: \"\";position: absolute;border-left: 1px solid gray;box-sizing: border-box;top: 0;bottom: 0;left: 50%;z-index: -1;}#sk-container-id-2 div.sk-parallel-item {display: flex;flex-direction: column;z-index: 1;position: relative;background-color: white;}#sk-container-id-2 div.sk-parallel-item:first-child::after {align-self: flex-end;width: 50%;}#sk-container-id-2 div.sk-parallel-item:last-child::after {align-self: flex-start;width: 50%;}#sk-container-id-2 div.sk-parallel-item:only-child::after {width: 0;}#sk-container-id-2 div.sk-dashed-wrapped {border: 1px dashed gray;margin: 0 0.4em 0.5em 0.4em;box-sizing: border-box;padding-bottom: 0.4em;background-color: white;}#sk-container-id-2 div.sk-label label {font-family: monospace;font-weight: bold;display: inline-block;line-height: 1.2em;}#sk-container-id-2 div.sk-label-container {text-align: center;}#sk-container-id-2 div.sk-container {/* jupyter's `normalize.less` sets `[hidden] { display: none; }` but bootstrap.min.css set `[hidden] { display: none !important; }` so we also need the `!important` here to be able to override the default hidden behavior on the sphinx rendered scikit-learn.org. See: https://github.com/scikit-learn/scikit-learn/issues/21755 */display: inline-block !important;position: relative;}#sk-container-id-2 div.sk-text-repr-fallback {display: none;}</style><div id=\"sk-container-id-2\" class=\"sk-top-container\"><div class=\"sk-text-repr-fallback\"><pre>RandomForestClassifier(max_depth=20, n_estimators=500, n_jobs=-1,\n",
              "                       random_state=42)</pre><b>In a Jupyter environment, please rerun this cell to show the HTML representation or trust the notebook. <br />On GitHub, the HTML representation is unable to render, please try loading this page with nbviewer.org.</b></div><div class=\"sk-container\" hidden><div class=\"sk-item\"><div class=\"sk-estimator sk-toggleable\"><input class=\"sk-toggleable__control sk-hidden--visually\" id=\"sk-estimator-id-2\" type=\"checkbox\" checked><label for=\"sk-estimator-id-2\" class=\"sk-toggleable__label sk-toggleable__label-arrow\">RandomForestClassifier</label><div class=\"sk-toggleable__content\"><pre>RandomForestClassifier(max_depth=20, n_estimators=500, n_jobs=-1,\n",
              "                       random_state=42)</pre></div></div></div></div></div>"
            ],
            "text/plain": [
              "RandomForestClassifier(max_depth=20, n_estimators=500, n_jobs=-1,\n",
              "                       random_state=42)"
            ]
          },
          "execution_count": 116,
          "metadata": {},
          "output_type": "execute_result"
        }
      ],
      "source": [
        "# adding Random Forest predictors (rf_best)\n",
        "rf_best"
      ]
    },
    {
      "cell_type": "code",
      "execution_count": 117,
      "metadata": {
        "id": "ydpMazLKvl8a"
      },
      "outputs": [],
      "source": [
        "# adding Random Forest predictors (rf_best) to the dataset for 2 new rules: Threshold = 0.66 and 0.78\n",
        "\n",
        "y_pred_all = rf_best.predict_proba(X_all)\n",
        "y_pred_all_class1 = [k[1] for k in y_pred_all] #list of predictions for class \"1\"\n",
        "y_pred_all_class1_array = np.array(y_pred_all_class1) # (Numpy Array) np.array of predictions for class \"1\" , converted from a list\n",
        "\n",
        "# defining a new prediction vector is easy now, as the dimensions will match\n",
        "new_df['proba_pred9'] = y_pred_all_class1_array\n",
        "new_df['pred9_rf_best_rule_55'] = (y_pred_all_class1_array >= 0.55).astype(int)\n",
        "\n",
        "new_df['proba_pred10'] = y_pred_all_class1_array\n",
        "new_df['pred10_rf_best_rule_60'] = (y_pred_all_class1_array >= 0.6).astype(int)\n",
        "\n",
        "# TODO HA4 Q1: define new predictor for thresholds 0.51..0.54, 0.56..0.59"
      ]
    },
    {
      "cell_type": "code",
      "execution_count": 118,
      "metadata": {
        "colab": {
          "base_uri": "https://localhost:8080/"
        },
        "id": "bIHOswKLvtgX",
        "outputId": "952b808e-cd32-4295-be01-d77cb0c76506"
      },
      "outputs": [
        {
          "data": {
            "text/plain": [
              "['pred0_manual_cci',\n",
              " 'pred1_manual_prev_g1',\n",
              " 'pred2_manual_prev_g1_and_snp',\n",
              " 'pred3_manual_gdp_and_fastd',\n",
              " 'pred4_manual_gdp_and_wti30d',\n",
              " 'pred5_clf_10',\n",
              " 'pred6_clf_best']"
            ]
          },
          "execution_count": 118,
          "metadata": {},
          "output_type": "execute_result"
        }
      ],
      "source": [
        "PREDICTIONS"
      ]
    },
    {
      "cell_type": "code",
      "execution_count": 119,
      "metadata": {
        "colab": {
          "base_uri": "https://localhost:8080/",
          "height": 447
        },
        "id": "El-wNvA-wIES",
        "outputId": "d0472cb8-6227-462e-fc21-b52363159319"
      },
      "outputs": [
        {
          "data": {
            "text/plain": [
              "<Axes: >"
            ]
          },
          "execution_count": 119,
          "metadata": {},
          "output_type": "execute_result"
        },
        {
          "data": {
            "image/png": "[encoded data removed]",
            "text/plain": [
              "<Figure size 640x480 with 1 Axes>"
            ]
          },
          "metadata": {},
          "output_type": "display_data"
        }
      ],
      "source": [
        "# When did it predict to trade for the \"rare\" prediction pred10? (only 2%)\n",
        "new_df[(new_df.split=='test')&(new_df.pred10_rf_best_rule_60==1)].Date.hist()"
      ]
    },
    {
      "cell_type": "code",
      "execution_count": 120,
      "metadata": {
        "colab": {
          "base_uri": "https://localhost:8080/",
          "height": 456
        },
        "id": "X0L97yBswJyy",
        "outputId": "e047c555-faf4-4b88-e891-8985cef020ec"
      },
      "outputs": [
        {
          "data": {
            "text/html": [
              "<div>\n",
              "<style scoped>\n",
              "    .dataframe tbody tr th:only-of-type {\n",
              "        vertical-align: middle;\n",
              "    }\n",
              "\n",
              "    .dataframe tbody tr th {\n",
              "        vertical-align: top;\n",
              "    }\n",
              "\n",
              "    .dataframe thead th {\n",
              "        text-align: right;\n",
              "    }\n",
              "</style>\n",
              "<table border=\"1\" class=\"dataframe\">\n",
              "  <thead>\n",
              "    <tr style=\"text-align: right;\">\n",
              "      <th></th>\n",
              "      <th>Open</th>\n",
              "      <th>High</th>\n",
              "      <th>Low</th>\n",
              "      <th>Close</th>\n",
              "      <th>Adj Close_x</th>\n",
              "      <th>Volume</th>\n",
              "      <th>Ticker</th>\n",
              "      <th>Year</th>\n",
              "      <th>Month</th>\n",
              "      <th>Weekday</th>\n",
              "      <th>...</th>\n",
              "      <th>pred6_clf_best</th>\n",
              "      <th>is_correct_pred6</th>\n",
              "      <th>proba_pred7</th>\n",
              "      <th>pred7_clf_best_rule_66</th>\n",
              "      <th>proba_pred8</th>\n",
              "      <th>pred8_clf_best_rule_78</th>\n",
              "      <th>proba_pred9</th>\n",
              "      <th>pred9_rf_best_rule_55</th>\n",
              "      <th>proba_pred10</th>\n",
              "      <th>pred10_rf_best_rule_60</th>\n",
              "    </tr>\n",
              "  </thead>\n",
              "  <tbody>\n",
              "    <tr>\n",
              "      <th>6128</th>\n",
              "      <td>219.000000</td>\n",
              "      <td>221.320007</td>\n",
              "      <td>218.300003</td>\n",
              "      <td>219.940002</td>\n",
              "      <td>219.940002</td>\n",
              "      <td>4068800.0</td>\n",
              "      <td>BRK-B</td>\n",
              "      <td>2020</td>\n",
              "      <td>September</td>\n",
              "      <td>0</td>\n",
              "      <td>...</td>\n",
              "      <td>0</td>\n",
              "      <td>1</td>\n",
              "      <td>0.486336</td>\n",
              "      <td>0</td>\n",
              "      <td>0.486336</td>\n",
              "      <td>0</td>\n",
              "      <td>0.610729</td>\n",
              "      <td>1</td>\n",
              "      <td>0.610729</td>\n",
              "      <td>1</td>\n",
              "    </tr>\n",
              "    <tr>\n",
              "      <th>4818</th>\n",
              "      <td>237.600006</td>\n",
              "      <td>240.990005</td>\n",
              "      <td>236.809998</td>\n",
              "      <td>238.830002</td>\n",
              "      <td>226.498093</td>\n",
              "      <td>1576400.0</td>\n",
              "      <td>ACN</td>\n",
              "      <td>2020</td>\n",
              "      <td>September</td>\n",
              "      <td>0</td>\n",
              "      <td>...</td>\n",
              "      <td>0</td>\n",
              "      <td>1</td>\n",
              "      <td>0.486336</td>\n",
              "      <td>0</td>\n",
              "      <td>0.486336</td>\n",
              "      <td>0</td>\n",
              "      <td>0.601032</td>\n",
              "      <td>1</td>\n",
              "      <td>0.601032</td>\n",
              "      <td>1</td>\n",
              "    </tr>\n",
              "    <tr>\n",
              "      <th>5322</th>\n",
              "      <td>745.799988</td>\n",
              "      <td>750.599976</td>\n",
              "      <td>739.599976</td>\n",
              "      <td>739.799988</td>\n",
              "      <td>722.394592</td>\n",
              "      <td>34579.0</td>\n",
              "      <td>RMS.PA</td>\n",
              "      <td>2020</td>\n",
              "      <td>September</td>\n",
              "      <td>0</td>\n",
              "      <td>...</td>\n",
              "      <td>0</td>\n",
              "      <td>1</td>\n",
              "      <td>0.486336</td>\n",
              "      <td>0</td>\n",
              "      <td>0.486336</td>\n",
              "      <td>0</td>\n",
              "      <td>0.613756</td>\n",
              "      <td>1</td>\n",
              "      <td>0.613756</td>\n",
              "      <td>1</td>\n",
              "    </tr>\n",
              "    <tr>\n",
              "      <th>2795</th>\n",
              "      <td>364.410004</td>\n",
              "      <td>365.890015</td>\n",
              "      <td>359.350006</td>\n",
              "      <td>362.200012</td>\n",
              "      <td>326.022034</td>\n",
              "      <td>1644700.0</td>\n",
              "      <td>AVGO</td>\n",
              "      <td>2020</td>\n",
              "      <td>September</td>\n",
              "      <td>0</td>\n",
              "      <td>...</td>\n",
              "      <td>0</td>\n",
              "      <td>1</td>\n",
              "      <td>0.486336</td>\n",
              "      <td>0</td>\n",
              "      <td>0.486336</td>\n",
              "      <td>0</td>\n",
              "      <td>0.611170</td>\n",
              "      <td>1</td>\n",
              "      <td>0.611170</td>\n",
              "      <td>1</td>\n",
              "    </tr>\n",
              "    <tr>\n",
              "      <th>3148</th>\n",
              "      <td>205.470001</td>\n",
              "      <td>205.720001</td>\n",
              "      <td>201.720001</td>\n",
              "      <td>202.610001</td>\n",
              "      <td>197.619781</td>\n",
              "      <td>9084100.0</td>\n",
              "      <td>V</td>\n",
              "      <td>2020</td>\n",
              "      <td>September</td>\n",
              "      <td>4</td>\n",
              "      <td>...</td>\n",
              "      <td>0</td>\n",
              "      <td>1</td>\n",
              "      <td>0.142857</td>\n",
              "      <td>0</td>\n",
              "      <td>0.142857</td>\n",
              "      <td>0</td>\n",
              "      <td>0.608424</td>\n",
              "      <td>1</td>\n",
              "      <td>0.608424</td>\n",
              "      <td>1</td>\n",
              "    </tr>\n",
              "    <tr>\n",
              "      <th>...</th>\n",
              "      <td>...</td>\n",
              "      <td>...</td>\n",
              "      <td>...</td>\n",
              "      <td>...</td>\n",
              "      <td>...</td>\n",
              "      <td>...</td>\n",
              "      <td>...</td>\n",
              "      <td>...</td>\n",
              "      <td>...</td>\n",
              "      <td>...</td>\n",
              "      <td>...</td>\n",
              "      <td>...</td>\n",
              "      <td>...</td>\n",
              "      <td>...</td>\n",
              "      <td>...</td>\n",
              "      <td>...</td>\n",
              "      <td>...</td>\n",
              "      <td>...</td>\n",
              "      <td>...</td>\n",
              "      <td>...</td>\n",
              "      <td>...</td>\n",
              "    </tr>\n",
              "    <tr>\n",
              "      <th>6916</th>\n",
              "      <td>124.059998</td>\n",
              "      <td>125.279999</td>\n",
              "      <td>123.120003</td>\n",
              "      <td>124.959999</td>\n",
              "      <td>121.500748</td>\n",
              "      <td>1080670.0</td>\n",
              "      <td>SIE.DE</td>\n",
              "      <td>2023</td>\n",
              "      <td>October</td>\n",
              "      <td>1</td>\n",
              "      <td>...</td>\n",
              "      <td>0</td>\n",
              "      <td>0</td>\n",
              "      <td>0.058824</td>\n",
              "      <td>0</td>\n",
              "      <td>0.058824</td>\n",
              "      <td>0</td>\n",
              "      <td>0.600631</td>\n",
              "      <td>1</td>\n",
              "      <td>0.600631</td>\n",
              "      <td>1</td>\n",
              "    </tr>\n",
              "    <tr>\n",
              "      <th>5937</th>\n",
              "      <td>22.240000</td>\n",
              "      <td>22.340000</td>\n",
              "      <td>22.129999</td>\n",
              "      <td>22.270000</td>\n",
              "      <td>22.270000</td>\n",
              "      <td>5455000.0</td>\n",
              "      <td>IBN</td>\n",
              "      <td>2023</td>\n",
              "      <td>November</td>\n",
              "      <td>2</td>\n",
              "      <td>...</td>\n",
              "      <td>0</td>\n",
              "      <td>0</td>\n",
              "      <td>0.058824</td>\n",
              "      <td>0</td>\n",
              "      <td>0.058824</td>\n",
              "      <td>0</td>\n",
              "      <td>0.604123</td>\n",
              "      <td>1</td>\n",
              "      <td>0.604123</td>\n",
              "      <td>1</td>\n",
              "    </tr>\n",
              "    <tr>\n",
              "      <th>8070</th>\n",
              "      <td>65.110001</td>\n",
              "      <td>65.629997</td>\n",
              "      <td>65.040001</td>\n",
              "      <td>65.040001</td>\n",
              "      <td>63.514637</td>\n",
              "      <td>1397100.0</td>\n",
              "      <td>TTE</td>\n",
              "      <td>2023</td>\n",
              "      <td>November</td>\n",
              "      <td>3</td>\n",
              "      <td>...</td>\n",
              "      <td>0</td>\n",
              "      <td>0</td>\n",
              "      <td>0.000000</td>\n",
              "      <td>0</td>\n",
              "      <td>0.000000</td>\n",
              "      <td>0</td>\n",
              "      <td>0.602212</td>\n",
              "      <td>1</td>\n",
              "      <td>0.602212</td>\n",
              "      <td>1</td>\n",
              "    </tr>\n",
              "    <tr>\n",
              "      <th>5340</th>\n",
              "      <td>1031.949951</td>\n",
              "      <td>1031.949951</td>\n",
              "      <td>1007.000000</td>\n",
              "      <td>1013.049988</td>\n",
              "      <td>1013.049988</td>\n",
              "      <td>3804406.0</td>\n",
              "      <td>BHARTIARTL.NS</td>\n",
              "      <td>2024</td>\n",
              "      <td>January</td>\n",
              "      <td>0</td>\n",
              "      <td>...</td>\n",
              "      <td>1</td>\n",
              "      <td>1</td>\n",
              "      <td>1.000000</td>\n",
              "      <td>1</td>\n",
              "      <td>1.000000</td>\n",
              "      <td>1</td>\n",
              "      <td>0.612821</td>\n",
              "      <td>1</td>\n",
              "      <td>0.612821</td>\n",
              "      <td>1</td>\n",
              "    </tr>\n",
              "    <tr>\n",
              "      <th>8188</th>\n",
              "      <td>72.519997</td>\n",
              "      <td>72.599998</td>\n",
              "      <td>71.529999</td>\n",
              "      <td>71.680000</td>\n",
              "      <td>71.680000</td>\n",
              "      <td>894400.0</td>\n",
              "      <td>TTE</td>\n",
              "      <td>2024</td>\n",
              "      <td>May</td>\n",
              "      <td>2</td>\n",
              "      <td>...</td>\n",
              "      <td>1</td>\n",
              "      <td>0</td>\n",
              "      <td>0.584809</td>\n",
              "      <td>0</td>\n",
              "      <td>0.584809</td>\n",
              "      <td>0</td>\n",
              "      <td>0.604216</td>\n",
              "      <td>1</td>\n",
              "      <td>0.604216</td>\n",
              "      <td>1</td>\n",
              "    </tr>\n",
              "  </tbody>\n",
              "</table>\n",
              "<p>334 rows × 342 columns</p>\n",
              "</div>"
            ],
            "text/plain": [
              "             Open         High          Low        Close  Adj Close_x  \\\n",
              "6128   219.000000   221.320007   218.300003   219.940002   219.940002   \n",
              "4818   237.600006   240.990005   236.809998   238.830002   226.498093   \n",
              "5322   745.799988   750.599976   739.599976   739.799988   722.394592   \n",
              "2795   364.410004   365.890015   359.350006   362.200012   326.022034   \n",
              "3148   205.470001   205.720001   201.720001   202.610001   197.619781   \n",
              "...           ...          ...          ...          ...          ...   \n",
              "6916   124.059998   125.279999   123.120003   124.959999   121.500748   \n",
              "5937    22.240000    22.340000    22.129999    22.270000    22.270000   \n",
              "8070    65.110001    65.629997    65.040001    65.040001    63.514637   \n",
              "5340  1031.949951  1031.949951  1007.000000  1013.049988  1013.049988   \n",
              "8188    72.519997    72.599998    71.529999    71.680000    71.680000   \n",
              "\n",
              "         Volume         Ticker  Year      Month Weekday  ... pred6_clf_best  \\\n",
              "6128  4068800.0          BRK-B  2020  September       0  ...              0   \n",
              "4818  1576400.0            ACN  2020  September       0  ...              0   \n",
              "5322    34579.0         RMS.PA  2020  September       0  ...              0   \n",
              "2795  1644700.0           AVGO  2020  September       0  ...              0   \n",
              "3148  9084100.0              V  2020  September       4  ...              0   \n",
              "...         ...            ...   ...        ...     ...  ...            ...   \n",
              "6916  1080670.0         SIE.DE  2023    October       1  ...              0   \n",
              "5937  5455000.0            IBN  2023   November       2  ...              0   \n",
              "8070  1397100.0            TTE  2023   November       3  ...              0   \n",
              "5340  3804406.0  BHARTIARTL.NS  2024    January       0  ...              1   \n",
              "8188   894400.0            TTE  2024        May       2  ...              1   \n",
              "\n",
              "      is_correct_pred6  proba_pred7  pred7_clf_best_rule_66  proba_pred8  \\\n",
              "6128                 1     0.486336                       0     0.486336   \n",
              "4818                 1     0.486336                       0     0.486336   \n",
              "5322                 1     0.486336                       0     0.486336   \n",
              "2795                 1     0.486336                       0     0.486336   \n",
              "3148                 1     0.142857                       0     0.142857   \n",
              "...                ...          ...                     ...          ...   \n",
              "6916                 0     0.058824                       0     0.058824   \n",
              "5937                 0     0.058824                       0     0.058824   \n",
              "8070                 0     0.000000                       0     0.000000   \n",
              "5340                 1     1.000000                       1     1.000000   \n",
              "8188                 0     0.584809                       0     0.584809   \n",
              "\n",
              "      pred8_clf_best_rule_78  proba_pred9  pred9_rf_best_rule_55  \\\n",
              "6128                       0     0.610729                      1   \n",
              "4818                       0     0.601032                      1   \n",
              "5322                       0     0.613756                      1   \n",
              "2795                       0     0.611170                      1   \n",
              "3148                       0     0.608424                      1   \n",
              "...                      ...          ...                    ...   \n",
              "6916                       0     0.600631                      1   \n",
              "5937                       0     0.604123                      1   \n",
              "8070                       0     0.602212                      1   \n",
              "5340                       1     0.612821                      1   \n",
              "8188                       0     0.604216                      1   \n",
              "\n",
              "      proba_pred10  pred10_rf_best_rule_60  \n",
              "6128      0.610729                       1  \n",
              "4818      0.601032                       1  \n",
              "5322      0.613756                       1  \n",
              "2795      0.611170                       1  \n",
              "3148      0.608424                       1  \n",
              "...            ...                     ...  \n",
              "6916      0.600631                       1  \n",
              "5937      0.604123                       1  \n",
              "8070      0.602212                       1  \n",
              "5340      0.612821                       1  \n",
              "8188      0.604216                       1  \n",
              "\n",
              "[334 rows x 342 columns]"
            ]
          },
          "execution_count": 120,
          "metadata": {},
          "output_type": "execute_result"
        }
      ],
      "source": [
        "new_df[(new_df.split=='test')&(new_df.pred10_rf_best_rule_60==1)].sort_values(by='Date')"
      ]
    },
    {
      "cell_type": "code",
      "execution_count": 121,
      "metadata": {
        "id": "zYvdmmoZwNMH"
      },
      "outputs": [],
      "source": [
        "# Pred 10: How many positive prediction per day (out of 33 stocks possible)\n",
        "pred10_daily_positive_count = pd.DataFrame(new_df[(new_df.split=='test')&(new_df.pred10_rf_best_rule_60==1)].groupby('Date')['pred10_rf_best_rule_60'].count())"
      ]
    },
    {
      "cell_type": "code",
      "execution_count": 122,
      "metadata": {
        "id": "L7eXCFrOwQhH"
      },
      "outputs": [],
      "source": [
        "# Pred 9: How many positive prediction per day (out of 33 stocks possible)\n",
        "pred9_daily_positive_count = pd.DataFrame(new_df[(new_df.split=='test')&(new_df.pred9_rf_best_rule_55==1)].groupby('Date')['pred9_rf_best_rule_55'].count())"
      ]
    },
    {
      "cell_type": "code",
      "execution_count": 123,
      "metadata": {
        "colab": {
          "base_uri": "https://localhost:8080/"
        },
        "id": "2c4D26pAwRO_",
        "outputId": "947d39e8-c477-4951-e903-49280c01b874"
      },
      "outputs": [
        {
          "data": {
            "text/plain": [
              "947"
            ]
          },
          "execution_count": 123,
          "metadata": {},
          "output_type": "execute_result"
        }
      ],
      "source": [
        "# Unique trading days on Test (4 years)\n",
        "new_df[(new_df.split=='test')].Date.nunique()"
      ]
    },
    {
      "cell_type": "code",
      "execution_count": 124,
      "metadata": {
        "colab": {
          "base_uri": "https://localhost:8080/",
          "height": 450
        },
        "id": "eeHr2gizwT0-",
        "outputId": "6aa3d7cc-5205-4b0b-be94-0d1e8c25cf0d"
      },
      "outputs": [
        {
          "data": {
            "text/html": [
              "<div>\n",
              "<style scoped>\n",
              "    .dataframe tbody tr th:only-of-type {\n",
              "        vertical-align: middle;\n",
              "    }\n",
              "\n",
              "    .dataframe tbody tr th {\n",
              "        vertical-align: top;\n",
              "    }\n",
              "\n",
              "    .dataframe thead th {\n",
              "        text-align: right;\n",
              "    }\n",
              "</style>\n",
              "<table border=\"1\" class=\"dataframe\">\n",
              "  <thead>\n",
              "    <tr style=\"text-align: right;\">\n",
              "      <th></th>\n",
              "      <th>pred10_rf_best_rule_60</th>\n",
              "    </tr>\n",
              "    <tr>\n",
              "      <th>Date</th>\n",
              "      <th></th>\n",
              "    </tr>\n",
              "  </thead>\n",
              "  <tbody>\n",
              "    <tr>\n",
              "      <th>2020-09-14</th>\n",
              "      <td>4</td>\n",
              "    </tr>\n",
              "    <tr>\n",
              "      <th>2020-09-18</th>\n",
              "      <td>1</td>\n",
              "    </tr>\n",
              "    <tr>\n",
              "      <th>2020-09-22</th>\n",
              "      <td>2</td>\n",
              "    </tr>\n",
              "    <tr>\n",
              "      <th>2020-09-24</th>\n",
              "      <td>4</td>\n",
              "    </tr>\n",
              "    <tr>\n",
              "      <th>2020-10-14</th>\n",
              "      <td>1</td>\n",
              "    </tr>\n",
              "    <tr>\n",
              "      <th>...</th>\n",
              "      <td>...</td>\n",
              "    </tr>\n",
              "    <tr>\n",
              "      <th>2023-10-31</th>\n",
              "      <td>7</td>\n",
              "    </tr>\n",
              "    <tr>\n",
              "      <th>2023-11-01</th>\n",
              "      <td>1</td>\n",
              "    </tr>\n",
              "    <tr>\n",
              "      <th>2023-11-09</th>\n",
              "      <td>1</td>\n",
              "    </tr>\n",
              "    <tr>\n",
              "      <th>2024-01-01</th>\n",
              "      <td>1</td>\n",
              "    </tr>\n",
              "    <tr>\n",
              "      <th>2024-05-01</th>\n",
              "      <td>1</td>\n",
              "    </tr>\n",
              "  </tbody>\n",
              "</table>\n",
              "<p>111 rows × 1 columns</p>\n",
              "</div>"
            ],
            "text/plain": [
              "            pred10_rf_best_rule_60\n",
              "Date                              \n",
              "2020-09-14                       4\n",
              "2020-09-18                       1\n",
              "2020-09-22                       2\n",
              "2020-09-24                       4\n",
              "2020-10-14                       1\n",
              "...                            ...\n",
              "2023-10-31                       7\n",
              "2023-11-01                       1\n",
              "2023-11-09                       1\n",
              "2024-01-01                       1\n",
              "2024-05-01                       1\n",
              "\n",
              "[111 rows x 1 columns]"
            ]
          },
          "execution_count": 124,
          "metadata": {},
          "output_type": "execute_result"
        }
      ],
      "source": [
        "pred10_daily_positive_count"
      ]
    },
    {
      "cell_type": "code",
      "execution_count": 125,
      "metadata": {
        "colab": {
          "base_uri": "https://localhost:8080/",
          "height": 469
        },
        "id": "iAz6x5yZwWf3",
        "outputId": "6ed0c813-ee78-4577-a7db-dd61a5c6c9a0"
      },
      "outputs": [
        {
          "data": {
            "text/plain": [
              "array([[<Axes: title={'center': 'pred10_rf_best_rule_60'}>]], dtype=object)"
            ]
          },
          "execution_count": 125,
          "metadata": {},
          "output_type": "execute_result"
        },
        {
          "data": {
            "image/png": "[encoded data removed]",
            "text/plain": [
              "<Figure size 640x480 with 1 Axes>"
            ]
          },
          "metadata": {},
          "output_type": "display_data"
        }
      ],
      "source": [
        "pred10_daily_positive_count.hist()"
      ]
    },
    {
      "cell_type": "code",
      "execution_count": 126,
      "metadata": {
        "colab": {
          "base_uri": "https://localhost:8080/",
          "height": 80
        },
        "id": "U0bSUS-YwXlv",
        "outputId": "e15fbb05-e014-4127-b18f-0824a85c7914"
      },
      "outputs": [
        {
          "data": {
            "text/html": [
              "<div>\n",
              "<style scoped>\n",
              "    .dataframe tbody tr th:only-of-type {\n",
              "        vertical-align: middle;\n",
              "    }\n",
              "\n",
              "    .dataframe tbody tr th {\n",
              "        vertical-align: top;\n",
              "    }\n",
              "\n",
              "    .dataframe thead th {\n",
              "        text-align: right;\n",
              "    }\n",
              "</style>\n",
              "<table border=\"1\" class=\"dataframe\">\n",
              "  <thead>\n",
              "    <tr style=\"text-align: right;\">\n",
              "      <th></th>\n",
              "      <th>count</th>\n",
              "      <th>mean</th>\n",
              "      <th>std</th>\n",
              "      <th>min</th>\n",
              "      <th>25%</th>\n",
              "      <th>50%</th>\n",
              "      <th>75%</th>\n",
              "      <th>max</th>\n",
              "    </tr>\n",
              "  </thead>\n",
              "  <tbody>\n",
              "    <tr>\n",
              "      <th>pred10_rf_best_rule_60</th>\n",
              "      <td>111.0</td>\n",
              "      <td>3.009009</td>\n",
              "      <td>3.415195</td>\n",
              "      <td>1.0</td>\n",
              "      <td>1.0</td>\n",
              "      <td>1.0</td>\n",
              "      <td>3.5</td>\n",
              "      <td>18.0</td>\n",
              "    </tr>\n",
              "  </tbody>\n",
              "</table>\n",
              "</div>"
            ],
            "text/plain": [
              "                        count      mean       std  min  25%  50%  75%   max\n",
              "pred10_rf_best_rule_60  111.0  3.009009  3.415195  1.0  1.0  1.0  3.5  18.0"
            ]
          },
          "execution_count": 126,
          "metadata": {},
          "output_type": "execute_result"
        }
      ],
      "source": [
        "# 75% cases we have not more than 6 bets of $100\n",
        "pred10_daily_positive_count.describe().T"
      ]
    },
    {
      "cell_type": "code",
      "execution_count": 127,
      "metadata": {
        "colab": {
          "base_uri": "https://localhost:8080/",
          "height": 469
        },
        "id": "QHhGAzWVwY1g",
        "outputId": "32b33b36-08f7-4c13-e0cf-0cd9c9ffa9cb"
      },
      "outputs": [
        {
          "data": {
            "text/plain": [
              "array([[<Axes: title={'center': 'pred9_rf_best_rule_55'}>]], dtype=object)"
            ]
          },
          "execution_count": 127,
          "metadata": {},
          "output_type": "execute_result"
        },
        {
          "data": {
            "image/png": "[encoded data removed]",
            "text/plain": [
              "<Figure size 640x480 with 1 Axes>"
            ]
          },
          "metadata": {},
          "output_type": "display_data"
        }
      ],
      "source": [
        "pred9_daily_positive_count.hist()"
      ]
    },
    {
      "cell_type": "code",
      "execution_count": 128,
      "metadata": {
        "colab": {
          "base_uri": "https://localhost:8080/",
          "height": 80
        },
        "id": "FPetBORKwag2",
        "outputId": "d93002e2-76e3-404b-a235-2ef313d7b0cf"
      },
      "outputs": [
        {
          "data": {
            "text/html": [
              "<div>\n",
              "<style scoped>\n",
              "    .dataframe tbody tr th:only-of-type {\n",
              "        vertical-align: middle;\n",
              "    }\n",
              "\n",
              "    .dataframe tbody tr th {\n",
              "        vertical-align: top;\n",
              "    }\n",
              "\n",
              "    .dataframe thead th {\n",
              "        text-align: right;\n",
              "    }\n",
              "</style>\n",
              "<table border=\"1\" class=\"dataframe\">\n",
              "  <thead>\n",
              "    <tr style=\"text-align: right;\">\n",
              "      <th></th>\n",
              "      <th>count</th>\n",
              "      <th>mean</th>\n",
              "      <th>std</th>\n",
              "      <th>min</th>\n",
              "      <th>25%</th>\n",
              "      <th>50%</th>\n",
              "      <th>75%</th>\n",
              "      <th>max</th>\n",
              "    </tr>\n",
              "  </thead>\n",
              "  <tbody>\n",
              "    <tr>\n",
              "      <th>pred9_rf_best_rule_55</th>\n",
              "      <td>477.0</td>\n",
              "      <td>7.477987</td>\n",
              "      <td>7.152748</td>\n",
              "      <td>1.0</td>\n",
              "      <td>2.0</td>\n",
              "      <td>5.0</td>\n",
              "      <td>12.0</td>\n",
              "      <td>32.0</td>\n",
              "    </tr>\n",
              "  </tbody>\n",
              "</table>\n",
              "</div>"
            ],
            "text/plain": [
              "                       count      mean       std  min  25%  50%   75%   max\n",
              "pred9_rf_best_rule_55  477.0  7.477987  7.152748  1.0  2.0  5.0  12.0  32.0"
            ]
          },
          "execution_count": 128,
          "metadata": {},
          "output_type": "execute_result"
        }
      ],
      "source": [
        "pred9_daily_positive_count.describe().T"
      ]
    },
    {
      "cell_type": "markdown",
      "metadata": {
        "id": "TnGtBxbywdYi"
      },
      "source": [
        "## 2.3) Agg. stats on ALL predictions"
      ]
    },
    {
      "cell_type": "code",
      "execution_count": 129,
      "metadata": {
        "colab": {
          "base_uri": "https://localhost:8080/"
        },
        "id": "YDToGIp9wfcI",
        "outputId": "ea7e0b4a-083b-4bb8-a02d-44982a133cef"
      },
      "outputs": [
        {
          "name": "stdout",
          "output_type": "stream",
          "text": [
            "Prediction columns founded: ['pred0_manual_cci', 'pred1_manual_prev_g1', 'pred2_manual_prev_g1_and_snp', 'pred3_manual_gdp_and_fastd', 'pred4_manual_gdp_and_wti30d', 'pred5_clf_10', 'pred6_clf_best', 'pred7_clf_best_rule_66', 'pred8_clf_best_rule_78', 'pred9_rf_best_rule_55', 'pred10_rf_best_rule_60']\n",
            "Created columns is_correct: ['is_correct_pred0', 'is_correct_pred1', 'is_correct_pred2', 'is_correct_pred3', 'is_correct_pred4', 'is_correct_pred5', 'is_correct_pred6', 'is_correct_pred7', 'is_correct_pred8', 'is_correct_pred9', 'is_correct_pred10']\n",
            "Precision on TEST set for each prediction:\n",
            "Prediction column:pred0_manual_cci , is_correct_column: is_correct_pred0\n",
            "is_correct_pred0\n",
            "1    455\n",
            "0    344\n",
            "Name: count, dtype: int64\n",
            "is_correct_pred0\n",
            "1    0.569462\n",
            "0    0.430538\n",
            "Name: count, dtype: float64\n",
            "---------\n",
            "Prediction column:pred1_manual_prev_g1 , is_correct_column: is_correct_pred1\n",
            "is_correct_pred1\n",
            "1    8621\n",
            "0    6980\n",
            "Name: count, dtype: int64\n",
            "is_correct_pred1\n",
            "1    0.552593\n",
            "0    0.447407\n",
            "Name: count, dtype: float64\n",
            "---------\n",
            "Prediction column:pred2_manual_prev_g1_and_snp , is_correct_column: is_correct_pred2\n",
            "is_correct_pred2\n",
            "1    5726\n",
            "0    4729\n",
            "Name: count, dtype: int64\n",
            "is_correct_pred2\n",
            "1    0.547681\n",
            "0    0.452319\n",
            "Name: count, dtype: float64\n",
            "---------\n",
            "Prediction column:pred3_manual_gdp_and_fastd , is_correct_column: is_correct_pred3\n",
            "is_correct_pred3\n",
            "1    16560\n",
            "0    13262\n",
            "Name: count, dtype: int64\n",
            "is_correct_pred3\n",
            "1    0.555295\n",
            "0    0.444705\n",
            "Name: count, dtype: float64\n",
            "---------\n",
            "Prediction column:pred4_manual_gdp_and_wti30d , is_correct_column: is_correct_pred4\n",
            "Series([], Name: count, dtype: int64)\n",
            "Series([], Name: count, dtype: float64)\n",
            "---------\n",
            "Prediction column:pred5_clf_10 , is_correct_column: is_correct_pred5\n",
            "is_correct_pred5\n",
            "1    14499\n",
            "0    11132\n",
            "Name: count, dtype: int64\n",
            "is_correct_pred5\n",
            "1    0.565682\n",
            "0    0.434318\n",
            "Name: count, dtype: float64\n",
            "---------\n",
            "Prediction column:pred6_clf_best , is_correct_column: is_correct_pred6\n",
            "is_correct_pred6\n",
            "1    11831\n",
            "0     8522\n",
            "Name: count, dtype: int64\n",
            "is_correct_pred6\n",
            "1    0.58129\n",
            "0    0.41871\n",
            "Name: count, dtype: float64\n",
            "---------\n",
            "Prediction column:pred7_clf_best_rule_66 , is_correct_column: is_correct_pred7\n",
            "is_correct_pred7\n",
            "1    5243\n",
            "0    3800\n",
            "Name: count, dtype: int64\n",
            "is_correct_pred7\n",
            "1    0.579785\n",
            "0    0.420215\n",
            "Name: count, dtype: float64\n",
            "---------\n",
            "Prediction column:pred8_clf_best_rule_78 , is_correct_column: is_correct_pred8\n",
            "is_correct_pred8\n",
            "1    3435\n",
            "0    2525\n",
            "Name: count, dtype: int64\n",
            "is_correct_pred8\n",
            "1    0.576342\n",
            "0    0.423658\n",
            "Name: count, dtype: float64\n",
            "---------\n",
            "Prediction column:pred9_rf_best_rule_55 , is_correct_column: is_correct_pred9\n",
            "is_correct_pred9\n",
            "1    2135\n",
            "0    1432\n",
            "Name: count, dtype: int64\n",
            "is_correct_pred9\n",
            "1    0.598542\n",
            "0    0.401458\n",
            "Name: count, dtype: float64\n",
            "---------\n",
            "Prediction column:pred10_rf_best_rule_60 , is_correct_column: is_correct_pred10\n",
            "is_correct_pred10\n",
            "1    208\n",
            "0    126\n",
            "Name: count, dtype: int64\n",
            "is_correct_pred10\n",
            "1    0.622754\n",
            "0    0.377246\n",
            "Name: count, dtype: float64\n",
            "---------\n"
          ]
        }
      ],
      "source": [
        "# let's review the Predictions:\n",
        "PREDICTIONS, IS_CORRECT = get_predictions_correctness(new_df, to_predict=to_predict)\n"
      ]
    },
    {
      "cell_type": "code",
      "execution_count": 130,
      "metadata": {
        "colab": {
          "base_uri": "https://localhost:8080/"
        },
        "id": "LRGWY8M6wmHG",
        "outputId": "b4f05a0b-ba96-4062-f16a-433e89546148"
      },
      "outputs": [
        {
          "name": "stdout",
          "output_type": "stream",
          "text": [
            "10\n",
            "10\n"
          ]
        }
      ],
      "source": [
        "# Extract number from the prediction column\n",
        "\n",
        "# Example string\n",
        "example_string = \"pred10_rf_best_rule_60\"\n",
        "\n",
        "# Split the string by '_'\n",
        "parts = example_string.split('_')\n",
        "\n",
        "# Extract the part with 'pred' and remove the 'pred' prefix\n",
        "pred_number = parts[0].replace('pred', '')\n",
        "\n",
        "# Print the result\n",
        "print(pred_number)\n",
        "\n",
        "# Print in one line\n",
        "print(int(example_string.split('_')[0].replace('pred', '')))\n"
      ]
    },
    {
      "cell_type": "code",
      "execution_count": 131,
      "metadata": {
        "colab": {
          "base_uri": "https://localhost:8080/"
        },
        "id": "dmEs3BPOwr9U",
        "outputId": "a30f70e6-1100-4425-b8e9-8be878637d2e"
      },
      "outputs": [
        {
          "data": {
            "text/plain": [
              "['pred0_manual_cci',\n",
              " 'pred1_manual_prev_g1',\n",
              " 'pred2_manual_prev_g1_and_snp',\n",
              " 'pred3_manual_gdp_and_fastd',\n",
              " 'pred4_manual_gdp_and_wti30d',\n",
              " 'pred5_clf_10',\n",
              " 'pred6_clf_best',\n",
              " 'pred7_clf_best_rule_66',\n",
              " 'pred8_clf_best_rule_78',\n",
              " 'pred9_rf_best_rule_55',\n",
              " 'pred10_rf_best_rule_60']"
            ]
          },
          "execution_count": 131,
          "metadata": {},
          "output_type": "execute_result"
        }
      ],
      "source": [
        "# all predictions\n",
        "PREDICTIONS"
      ]
    },
    {
      "cell_type": "code",
      "execution_count": 132,
      "metadata": {
        "colab": {
          "base_uri": "https://localhost:8080/"
        },
        "id": "5i_COKBdwtG1",
        "outputId": "be8faf59-9426-40b1-b075-408cee47294e"
      },
      "outputs": [
        {
          "data": {
            "text/plain": [
              "['pred5_clf_10',\n",
              " 'pred6_clf_best',\n",
              " 'pred7_clf_best_rule_66',\n",
              " 'pred8_clf_best_rule_78',\n",
              " 'pred9_rf_best_rule_55',\n",
              " 'pred10_rf_best_rule_60']"
            ]
          },
          "execution_count": 132,
          "metadata": {},
          "output_type": "execute_result"
        }
      ],
      "source": [
        "# all predictions on MODELS (not-manual predictions)\n",
        "PREDICTIONS_ON_MODELS = [p for p in PREDICTIONS if int(p.split('_')[0].replace('pred', ''))>=5]\n",
        "PREDICTIONS_ON_MODELS"
      ]
    },
    {
      "cell_type": "code",
      "execution_count": 133,
      "metadata": {
        "colab": {
          "base_uri": "https://localhost:8080/"
        },
        "id": "Tlh5ID5wwuWF",
        "outputId": "7c863296-59ae-4b06-fb6a-bd047bbe3e16"
      },
      "outputs": [
        {
          "data": {
            "text/plain": [
              "['is_correct_pred5',\n",
              " 'is_correct_pred6',\n",
              " 'is_correct_pred7',\n",
              " 'is_correct_pred8',\n",
              " 'is_correct_pred9',\n",
              " 'is_correct_pred10']"
            ]
          },
          "execution_count": 133,
          "metadata": {},
          "output_type": "execute_result"
        }
      ],
      "source": [
        "# all predictions on Models - correctness\n",
        "IS_CORRECT_ON_MODELS = [p for p in IS_CORRECT if int(p.replace('is_correct_pred', ''))>=5]\n",
        "IS_CORRECT_ON_MODELS"
      ]
    },
    {
      "cell_type": "code",
      "execution_count": 134,
      "metadata": {
        "colab": {
          "base_uri": "https://localhost:8080/",
          "height": 607
        },
        "id": "zWBef7FWwvTz",
        "outputId": "6caf19ea-0ba1-4899-e80d-1579e6fa4e09"
      },
      "outputs": [
        {
          "data": {
            "text/html": [
              "<div>\n",
              "<style scoped>\n",
              "    .dataframe tbody tr th:only-of-type {\n",
              "        vertical-align: middle;\n",
              "    }\n",
              "\n",
              "    .dataframe tbody tr th {\n",
              "        vertical-align: top;\n",
              "    }\n",
              "\n",
              "    .dataframe thead th {\n",
              "        text-align: right;\n",
              "    }\n",
              "</style>\n",
              "<table border=\"1\" class=\"dataframe\">\n",
              "  <thead>\n",
              "    <tr style=\"text-align: right;\">\n",
              "      <th></th>\n",
              "      <th>split</th>\n",
              "      <th>test</th>\n",
              "      <th>train</th>\n",
              "      <th>validation</th>\n",
              "    </tr>\n",
              "  </thead>\n",
              "  <tbody>\n",
              "    <tr>\n",
              "      <th rowspan=\"3\" valign=\"top\">pred5_clf_10</th>\n",
              "      <th>count</th>\n",
              "      <td>29829.000000</td>\n",
              "      <td>123458.000000</td>\n",
              "      <td>29388.000000</td>\n",
              "    </tr>\n",
              "    <tr>\n",
              "      <th>sum</th>\n",
              "      <td>25631.000000</td>\n",
              "      <td>100848.000000</td>\n",
              "      <td>27563.000000</td>\n",
              "    </tr>\n",
              "    <tr>\n",
              "      <th>mean</th>\n",
              "      <td>0.859264</td>\n",
              "      <td>0.816861</td>\n",
              "      <td>0.937900</td>\n",
              "    </tr>\n",
              "    <tr>\n",
              "      <th rowspan=\"3\" valign=\"top\">pred6_clf_best</th>\n",
              "      <th>count</th>\n",
              "      <td>29829.000000</td>\n",
              "      <td>123458.000000</td>\n",
              "      <td>29388.000000</td>\n",
              "    </tr>\n",
              "    <tr>\n",
              "      <th>sum</th>\n",
              "      <td>20353.000000</td>\n",
              "      <td>76307.000000</td>\n",
              "      <td>21435.000000</td>\n",
              "    </tr>\n",
              "    <tr>\n",
              "      <th>mean</th>\n",
              "      <td>0.682323</td>\n",
              "      <td>0.618081</td>\n",
              "      <td>0.729379</td>\n",
              "    </tr>\n",
              "    <tr>\n",
              "      <th rowspan=\"3\" valign=\"top\">pred7_clf_best_rule_66</th>\n",
              "      <th>count</th>\n",
              "      <td>29829.000000</td>\n",
              "      <td>123458.000000</td>\n",
              "      <td>29388.000000</td>\n",
              "    </tr>\n",
              "    <tr>\n",
              "      <th>sum</th>\n",
              "      <td>9043.000000</td>\n",
              "      <td>31716.000000</td>\n",
              "      <td>6938.000000</td>\n",
              "    </tr>\n",
              "    <tr>\n",
              "      <th>mean</th>\n",
              "      <td>0.303161</td>\n",
              "      <td>0.256897</td>\n",
              "      <td>0.236083</td>\n",
              "    </tr>\n",
              "    <tr>\n",
              "      <th rowspan=\"3\" valign=\"top\">pred8_clf_best_rule_78</th>\n",
              "      <th>count</th>\n",
              "      <td>29829.000000</td>\n",
              "      <td>123458.000000</td>\n",
              "      <td>29388.000000</td>\n",
              "    </tr>\n",
              "    <tr>\n",
              "      <th>sum</th>\n",
              "      <td>5960.000000</td>\n",
              "      <td>23535.000000</td>\n",
              "      <td>4071.000000</td>\n",
              "    </tr>\n",
              "    <tr>\n",
              "      <th>mean</th>\n",
              "      <td>0.199806</td>\n",
              "      <td>0.190632</td>\n",
              "      <td>0.138526</td>\n",
              "    </tr>\n",
              "    <tr>\n",
              "      <th rowspan=\"3\" valign=\"top\">pred9_rf_best_rule_55</th>\n",
              "      <th>count</th>\n",
              "      <td>29829.000000</td>\n",
              "      <td>123458.000000</td>\n",
              "      <td>29388.000000</td>\n",
              "    </tr>\n",
              "    <tr>\n",
              "      <th>sum</th>\n",
              "      <td>3567.000000</td>\n",
              "      <td>65094.000000</td>\n",
              "      <td>17130.000000</td>\n",
              "    </tr>\n",
              "    <tr>\n",
              "      <th>mean</th>\n",
              "      <td>0.119582</td>\n",
              "      <td>0.527256</td>\n",
              "      <td>0.582891</td>\n",
              "    </tr>\n",
              "    <tr>\n",
              "      <th rowspan=\"3\" valign=\"top\">pred10_rf_best_rule_60</th>\n",
              "      <th>count</th>\n",
              "      <td>29829.000000</td>\n",
              "      <td>123458.000000</td>\n",
              "      <td>29388.000000</td>\n",
              "    </tr>\n",
              "    <tr>\n",
              "      <th>sum</th>\n",
              "      <td>334.000000</td>\n",
              "      <td>59048.000000</td>\n",
              "      <td>15750.000000</td>\n",
              "    </tr>\n",
              "    <tr>\n",
              "      <th>mean</th>\n",
              "      <td>0.011197</td>\n",
              "      <td>0.478284</td>\n",
              "      <td>0.535933</td>\n",
              "    </tr>\n",
              "  </tbody>\n",
              "</table>\n",
              "</div>"
            ],
            "text/plain": [
              "split                                 test          train    validation\n",
              "pred5_clf_10           count  29829.000000  123458.000000  29388.000000\n",
              "                       sum    25631.000000  100848.000000  27563.000000\n",
              "                       mean       0.859264       0.816861      0.937900\n",
              "pred6_clf_best         count  29829.000000  123458.000000  29388.000000\n",
              "                       sum    20353.000000   76307.000000  21435.000000\n",
              "                       mean       0.682323       0.618081      0.729379\n",
              "pred7_clf_best_rule_66 count  29829.000000  123458.000000  29388.000000\n",
              "                       sum     9043.000000   31716.000000   6938.000000\n",
              "                       mean       0.303161       0.256897      0.236083\n",
              "pred8_clf_best_rule_78 count  29829.000000  123458.000000  29388.000000\n",
              "                       sum     5960.000000   23535.000000   4071.000000\n",
              "                       mean       0.199806       0.190632      0.138526\n",
              "pred9_rf_best_rule_55  count  29829.000000  123458.000000  29388.000000\n",
              "                       sum     3567.000000   65094.000000  17130.000000\n",
              "                       mean       0.119582       0.527256      0.582891\n",
              "pred10_rf_best_rule_60 count  29829.000000  123458.000000  29388.000000\n",
              "                       sum      334.000000   59048.000000  15750.000000\n",
              "                       mean       0.011197       0.478284      0.535933"
            ]
          },
          "execution_count": 134,
          "metadata": {},
          "output_type": "execute_result"
        }
      ],
      "source": [
        "# predictions on models\n",
        "# pred10_rf_best_rule_60: ONLY 2% of TEST cases predicted with high confidence of growth\n",
        "new_df.groupby('split')[PREDICTIONS_ON_MODELS].agg(['count','sum','mean']).T"
      ]
    },
    {
      "cell_type": "code",
      "execution_count": 135,
      "metadata": {
        "colab": {
          "base_uri": "https://localhost:8080/",
          "height": 1000
        },
        "id": "UcMRarZNwwoc",
        "outputId": "fd4221d2-dcdf-4f3c-b2b4-5a5135bf4fb6"
      },
      "outputs": [
        {
          "data": {
            "text/html": [
              "<div>\n",
              "<style scoped>\n",
              "    .dataframe tbody tr th:only-of-type {\n",
              "        vertical-align: middle;\n",
              "    }\n",
              "\n",
              "    .dataframe tbody tr th {\n",
              "        vertical-align: top;\n",
              "    }\n",
              "\n",
              "    .dataframe thead th {\n",
              "        text-align: right;\n",
              "    }\n",
              "</style>\n",
              "<table border=\"1\" class=\"dataframe\">\n",
              "  <thead>\n",
              "    <tr style=\"text-align: right;\">\n",
              "      <th></th>\n",
              "      <th>split</th>\n",
              "      <th>test</th>\n",
              "      <th>train</th>\n",
              "      <th>validation</th>\n",
              "    </tr>\n",
              "  </thead>\n",
              "  <tbody>\n",
              "    <tr>\n",
              "      <th rowspan=\"3\" valign=\"top\">pred0_manual_cci</th>\n",
              "      <th>count</th>\n",
              "      <td>29829.000000</td>\n",
              "      <td>123458.000000</td>\n",
              "      <td>29388.000000</td>\n",
              "    </tr>\n",
              "    <tr>\n",
              "      <th>sum</th>\n",
              "      <td>799.000000</td>\n",
              "      <td>3162.000000</td>\n",
              "      <td>875.000000</td>\n",
              "    </tr>\n",
              "    <tr>\n",
              "      <th>mean</th>\n",
              "      <td>0.026786</td>\n",
              "      <td>0.025612</td>\n",
              "      <td>0.029774</td>\n",
              "    </tr>\n",
              "    <tr>\n",
              "      <th rowspan=\"3\" valign=\"top\">pred1_manual_prev_g1</th>\n",
              "      <th>count</th>\n",
              "      <td>29829.000000</td>\n",
              "      <td>123458.000000</td>\n",
              "      <td>29388.000000</td>\n",
              "    </tr>\n",
              "    <tr>\n",
              "      <th>sum</th>\n",
              "      <td>15601.000000</td>\n",
              "      <td>62117.000000</td>\n",
              "      <td>15585.000000</td>\n",
              "    </tr>\n",
              "    <tr>\n",
              "      <th>mean</th>\n",
              "      <td>0.523015</td>\n",
              "      <td>0.503143</td>\n",
              "      <td>0.530318</td>\n",
              "    </tr>\n",
              "    <tr>\n",
              "      <th rowspan=\"3\" valign=\"top\">pred2_manual_prev_g1_and_snp</th>\n",
              "      <th>count</th>\n",
              "      <td>29829.000000</td>\n",
              "      <td>123458.000000</td>\n",
              "      <td>29388.000000</td>\n",
              "    </tr>\n",
              "    <tr>\n",
              "      <th>sum</th>\n",
              "      <td>10455.000000</td>\n",
              "      <td>41609.000000</td>\n",
              "      <td>10902.000000</td>\n",
              "    </tr>\n",
              "    <tr>\n",
              "      <th>mean</th>\n",
              "      <td>0.350498</td>\n",
              "      <td>0.337030</td>\n",
              "      <td>0.370968</td>\n",
              "    </tr>\n",
              "    <tr>\n",
              "      <th rowspan=\"3\" valign=\"top\">pred3_manual_gdp_and_fastd</th>\n",
              "      <th>count</th>\n",
              "      <td>29829.000000</td>\n",
              "      <td>123458.000000</td>\n",
              "      <td>29388.000000</td>\n",
              "    </tr>\n",
              "    <tr>\n",
              "      <th>sum</th>\n",
              "      <td>29822.000000</td>\n",
              "      <td>107032.000000</td>\n",
              "      <td>29388.000000</td>\n",
              "    </tr>\n",
              "    <tr>\n",
              "      <th>mean</th>\n",
              "      <td>0.999765</td>\n",
              "      <td>0.866951</td>\n",
              "      <td>1.000000</td>\n",
              "    </tr>\n",
              "    <tr>\n",
              "      <th rowspan=\"3\" valign=\"top\">pred4_manual_gdp_and_wti30d</th>\n",
              "      <th>count</th>\n",
              "      <td>29829.000000</td>\n",
              "      <td>123458.000000</td>\n",
              "      <td>29388.000000</td>\n",
              "    </tr>\n",
              "    <tr>\n",
              "      <th>sum</th>\n",
              "      <td>0.000000</td>\n",
              "      <td>5673.000000</td>\n",
              "      <td>0.000000</td>\n",
              "    </tr>\n",
              "    <tr>\n",
              "      <th>mean</th>\n",
              "      <td>0.000000</td>\n",
              "      <td>0.045951</td>\n",
              "      <td>0.000000</td>\n",
              "    </tr>\n",
              "    <tr>\n",
              "      <th rowspan=\"3\" valign=\"top\">pred5_clf_10</th>\n",
              "      <th>count</th>\n",
              "      <td>29829.000000</td>\n",
              "      <td>123458.000000</td>\n",
              "      <td>29388.000000</td>\n",
              "    </tr>\n",
              "    <tr>\n",
              "      <th>sum</th>\n",
              "      <td>25631.000000</td>\n",
              "      <td>100848.000000</td>\n",
              "      <td>27563.000000</td>\n",
              "    </tr>\n",
              "    <tr>\n",
              "      <th>mean</th>\n",
              "      <td>0.859264</td>\n",
              "      <td>0.816861</td>\n",
              "      <td>0.937900</td>\n",
              "    </tr>\n",
              "    <tr>\n",
              "      <th rowspan=\"3\" valign=\"top\">pred6_clf_best</th>\n",
              "      <th>count</th>\n",
              "      <td>29829.000000</td>\n",
              "      <td>123458.000000</td>\n",
              "      <td>29388.000000</td>\n",
              "    </tr>\n",
              "    <tr>\n",
              "      <th>sum</th>\n",
              "      <td>20353.000000</td>\n",
              "      <td>76307.000000</td>\n",
              "      <td>21435.000000</td>\n",
              "    </tr>\n",
              "    <tr>\n",
              "      <th>mean</th>\n",
              "      <td>0.682323</td>\n",
              "      <td>0.618081</td>\n",
              "      <td>0.729379</td>\n",
              "    </tr>\n",
              "    <tr>\n",
              "      <th rowspan=\"3\" valign=\"top\">pred7_clf_best_rule_66</th>\n",
              "      <th>count</th>\n",
              "      <td>29829.000000</td>\n",
              "      <td>123458.000000</td>\n",
              "      <td>29388.000000</td>\n",
              "    </tr>\n",
              "    <tr>\n",
              "      <th>sum</th>\n",
              "      <td>9043.000000</td>\n",
              "      <td>31716.000000</td>\n",
              "      <td>6938.000000</td>\n",
              "    </tr>\n",
              "    <tr>\n",
              "      <th>mean</th>\n",
              "      <td>0.303161</td>\n",
              "      <td>0.256897</td>\n",
              "      <td>0.236083</td>\n",
              "    </tr>\n",
              "    <tr>\n",
              "      <th rowspan=\"3\" valign=\"top\">pred8_clf_best_rule_78</th>\n",
              "      <th>count</th>\n",
              "      <td>29829.000000</td>\n",
              "      <td>123458.000000</td>\n",
              "      <td>29388.000000</td>\n",
              "    </tr>\n",
              "    <tr>\n",
              "      <th>sum</th>\n",
              "      <td>5960.000000</td>\n",
              "      <td>23535.000000</td>\n",
              "      <td>4071.000000</td>\n",
              "    </tr>\n",
              "    <tr>\n",
              "      <th>mean</th>\n",
              "      <td>0.199806</td>\n",
              "      <td>0.190632</td>\n",
              "      <td>0.138526</td>\n",
              "    </tr>\n",
              "    <tr>\n",
              "      <th rowspan=\"3\" valign=\"top\">pred9_rf_best_rule_55</th>\n",
              "      <th>count</th>\n",
              "      <td>29829.000000</td>\n",
              "      <td>123458.000000</td>\n",
              "      <td>29388.000000</td>\n",
              "    </tr>\n",
              "    <tr>\n",
              "      <th>sum</th>\n",
              "      <td>3567.000000</td>\n",
              "      <td>65094.000000</td>\n",
              "      <td>17130.000000</td>\n",
              "    </tr>\n",
              "    <tr>\n",
              "      <th>mean</th>\n",
              "      <td>0.119582</td>\n",
              "      <td>0.527256</td>\n",
              "      <td>0.582891</td>\n",
              "    </tr>\n",
              "    <tr>\n",
              "      <th rowspan=\"3\" valign=\"top\">pred10_rf_best_rule_60</th>\n",
              "      <th>count</th>\n",
              "      <td>29829.000000</td>\n",
              "      <td>123458.000000</td>\n",
              "      <td>29388.000000</td>\n",
              "    </tr>\n",
              "    <tr>\n",
              "      <th>sum</th>\n",
              "      <td>334.000000</td>\n",
              "      <td>59048.000000</td>\n",
              "      <td>15750.000000</td>\n",
              "    </tr>\n",
              "    <tr>\n",
              "      <th>mean</th>\n",
              "      <td>0.011197</td>\n",
              "      <td>0.478284</td>\n",
              "      <td>0.535933</td>\n",
              "    </tr>\n",
              "  </tbody>\n",
              "</table>\n",
              "</div>"
            ],
            "text/plain": [
              "split                                       test          train    validation\n",
              "pred0_manual_cci             count  29829.000000  123458.000000  29388.000000\n",
              "                             sum      799.000000    3162.000000    875.000000\n",
              "                             mean       0.026786       0.025612      0.029774\n",
              "pred1_manual_prev_g1         count  29829.000000  123458.000000  29388.000000\n",
              "                             sum    15601.000000   62117.000000  15585.000000\n",
              "                             mean       0.523015       0.503143      0.530318\n",
              "pred2_manual_prev_g1_and_snp count  29829.000000  123458.000000  29388.000000\n",
              "                             sum    10455.000000   41609.000000  10902.000000\n",
              "                             mean       0.350498       0.337030      0.370968\n",
              "pred3_manual_gdp_and_fastd   count  29829.000000  123458.000000  29388.000000\n",
              "                             sum    29822.000000  107032.000000  29388.000000\n",
              "                             mean       0.999765       0.866951      1.000000\n",
              "pred4_manual_gdp_and_wti30d  count  29829.000000  123458.000000  29388.000000\n",
              "                             sum        0.000000    5673.000000      0.000000\n",
              "                             mean       0.000000       0.045951      0.000000\n",
              "pred5_clf_10                 count  29829.000000  123458.000000  29388.000000\n",
              "                             sum    25631.000000  100848.000000  27563.000000\n",
              "                             mean       0.859264       0.816861      0.937900\n",
              "pred6_clf_best               count  29829.000000  123458.000000  29388.000000\n",
              "                             sum    20353.000000   76307.000000  21435.000000\n",
              "                             mean       0.682323       0.618081      0.729379\n",
              "pred7_clf_best_rule_66       count  29829.000000  123458.000000  29388.000000\n",
              "                             sum     9043.000000   31716.000000   6938.000000\n",
              "                             mean       0.303161       0.256897      0.236083\n",
              "pred8_clf_best_rule_78       count  29829.000000  123458.000000  29388.000000\n",
              "                             sum     5960.000000   23535.000000   4071.000000\n",
              "                             mean       0.199806       0.190632      0.138526\n",
              "pred9_rf_best_rule_55        count  29829.000000  123458.000000  29388.000000\n",
              "                             sum     3567.000000   65094.000000  17130.000000\n",
              "                             mean       0.119582       0.527256      0.582891\n",
              "pred10_rf_best_rule_60       count  29829.000000  123458.000000  29388.000000\n",
              "                             sum      334.000000   59048.000000  15750.000000\n",
              "                             mean       0.011197       0.478284      0.535933"
            ]
          },
          "execution_count": 135,
          "metadata": {},
          "output_type": "execute_result"
        }
      ],
      "source": [
        "# 10 predictions stats (check TEST set)\n",
        "new_df.groupby('split')[PREDICTIONS].agg(['count','sum','mean']).T"
      ]
    },
    {
      "cell_type": "markdown",
      "metadata": {
        "id": "bgdAGlbaw0GH"
      },
      "source": [
        "# 3) Trading Simulations\n",
        "\n",
        "* create simulation 1 features: like \"sim1_pred0\" ... \"sim1_predLast\""
      ]
    },
    {
      "cell_type": "markdown",
      "metadata": {
        "id": "fcxkRiorDdDa"
      },
      "source": [
        "## 3.1) Investing $100 on every positive prediction\n",
        "* fees = 0.1% for each buy and sell operation ==> 0.2% for buy+sell operation"
      ]
    },
    {
      "cell_type": "code",
      "execution_count": 136,
      "metadata": {
        "id": "CgH1paM8DjgB"
      },
      "outputs": [],
      "source": [
        "# current prediction\n",
        "pred = 'pred6_clf_best'"
      ]
    },
    {
      "cell_type": "code",
      "execution_count": 137,
      "metadata": {
        "colab": {
          "base_uri": "https://localhost:8080/"
        },
        "id": "OyqKoZ6CDkkr",
        "outputId": "8e609c4d-b482-42b2-8bd6-9dd03fbb3778"
      },
      "outputs": [
        {
          "data": {
            "text/plain": [
              "29829"
            ]
          },
          "execution_count": 137,
          "metadata": {},
          "output_type": "execute_result"
        }
      ],
      "source": [
        "# Total Number of Investment Opportunities\n",
        "new_df[new_df.split=='test'].Close.count()"
      ]
    },
    {
      "cell_type": "code",
      "execution_count": 138,
      "metadata": {
        "colab": {
          "base_uri": "https://localhost:8080/"
        },
        "id": "0Yatp1u8DmVS",
        "outputId": "80a9d077-4467-435e-f553-5cd9741a47a2"
      },
      "outputs": [
        {
          "data": {
            "text/plain": [
              "947"
            ]
          },
          "execution_count": 138,
          "metadata": {},
          "output_type": "execute_result"
        }
      ],
      "source": [
        "# Total Number of Days (~4 years of trading)\n",
        "new_df[new_df.split=='test'].Date.nunique()"
      ]
    },
    {
      "cell_type": "code",
      "execution_count": 139,
      "metadata": {
        "colab": {
          "base_uri": "https://localhost:8080/"
        },
        "id": "IESBIJT6Dnu-",
        "outputId": "4c389856-3e52-4fd0-f6bb-220a88e6f675"
      },
      "outputs": [
        {
          "data": {
            "text/plain": [
              "['growth_future_5d', 'is_positive_growth_5d_future']"
            ]
          },
          "execution_count": 139,
          "metadata": {},
          "output_type": "execute_result"
        }
      ],
      "source": [
        "# check actual future growth with 'growth_future_5d', correctness of the prediction with 'is_positive_growth_5d_future'\n",
        "TO_PREDICT"
      ]
    },
    {
      "cell_type": "code",
      "execution_count": 140,
      "metadata": {
        "colab": {
          "base_uri": "https://localhost:8080/",
          "height": 419
        },
        "id": "cSXm1PmhDpVa",
        "outputId": "f32a29fa-0ee5-4123-c380-444ccc26ef0b"
      },
      "outputs": [
        {
          "data": {
            "text/html": [
              "<div>\n",
              "<style scoped>\n",
              "    .dataframe tbody tr th:only-of-type {\n",
              "        vertical-align: middle;\n",
              "    }\n",
              "\n",
              "    .dataframe tbody tr th {\n",
              "        vertical-align: top;\n",
              "    }\n",
              "\n",
              "    .dataframe thead th {\n",
              "        text-align: right;\n",
              "    }\n",
              "</style>\n",
              "<table border=\"1\" class=\"dataframe\">\n",
              "  <thead>\n",
              "    <tr style=\"text-align: right;\">\n",
              "      <th></th>\n",
              "      <th>growth_future_5d</th>\n",
              "      <th>is_positive_growth_5d_future</th>\n",
              "      <th>pred6_clf_best</th>\n",
              "    </tr>\n",
              "  </thead>\n",
              "  <tbody>\n",
              "    <tr>\n",
              "      <th>3490</th>\n",
              "      <td>0.963003</td>\n",
              "      <td>0</td>\n",
              "      <td>0</td>\n",
              "    </tr>\n",
              "    <tr>\n",
              "      <th>3491</th>\n",
              "      <td>0.971143</td>\n",
              "      <td>0</td>\n",
              "      <td>0</td>\n",
              "    </tr>\n",
              "    <tr>\n",
              "      <th>3492</th>\n",
              "      <td>0.929709</td>\n",
              "      <td>0</td>\n",
              "      <td>1</td>\n",
              "    </tr>\n",
              "    <tr>\n",
              "      <th>3493</th>\n",
              "      <td>0.980114</td>\n",
              "      <td>0</td>\n",
              "      <td>1</td>\n",
              "    </tr>\n",
              "    <tr>\n",
              "      <th>3494</th>\n",
              "      <td>1.007291</td>\n",
              "      <td>1</td>\n",
              "      <td>1</td>\n",
              "    </tr>\n",
              "    <tr>\n",
              "      <th>...</th>\n",
              "      <td>...</td>\n",
              "      <td>...</td>\n",
              "      <td>...</td>\n",
              "    </tr>\n",
              "    <tr>\n",
              "      <th>5422</th>\n",
              "      <td>NaN</td>\n",
              "      <td>0</td>\n",
              "      <td>0</td>\n",
              "    </tr>\n",
              "    <tr>\n",
              "      <th>5423</th>\n",
              "      <td>NaN</td>\n",
              "      <td>0</td>\n",
              "      <td>0</td>\n",
              "    </tr>\n",
              "    <tr>\n",
              "      <th>5424</th>\n",
              "      <td>NaN</td>\n",
              "      <td>0</td>\n",
              "      <td>0</td>\n",
              "    </tr>\n",
              "    <tr>\n",
              "      <th>5425</th>\n",
              "      <td>NaN</td>\n",
              "      <td>0</td>\n",
              "      <td>0</td>\n",
              "    </tr>\n",
              "    <tr>\n",
              "      <th>5426</th>\n",
              "      <td>NaN</td>\n",
              "      <td>0</td>\n",
              "      <td>0</td>\n",
              "    </tr>\n",
              "  </tbody>\n",
              "</table>\n",
              "<p>182675 rows × 3 columns</p>\n",
              "</div>"
            ],
            "text/plain": [
              "      growth_future_5d  is_positive_growth_5d_future  pred6_clf_best\n",
              "3490          0.963003                             0               0\n",
              "3491          0.971143                             0               0\n",
              "3492          0.929709                             0               1\n",
              "3493          0.980114                             0               1\n",
              "3494          1.007291                             1               1\n",
              "...                ...                           ...             ...\n",
              "5422               NaN                             0               0\n",
              "5423               NaN                             0               0\n",
              "5424               NaN                             0               0\n",
              "5425               NaN                             0               0\n",
              "5426               NaN                             0               0\n",
              "\n",
              "[182675 rows x 3 columns]"
            ]
          },
          "execution_count": 140,
          "metadata": {},
          "output_type": "execute_result"
        }
      ],
      "source": [
        "new_df[['growth_future_5d', to_predict,pred]]"
      ]
    },
    {
      "cell_type": "code",
      "execution_count": 141,
      "metadata": {
        "id": "lPM5eYT8DrHb"
      },
      "outputs": [],
      "source": [
        "# GROSS REVENUE: ONLY when current_prediction equals to 1: invest $100 into that stock (buy), and sell in 1week (sell)\n",
        "new_df['sim1_gross_rev_pred6'] = new_df[pred] * 100 * (new_df['growth_future_5d']-1)"
      ]
    },
    {
      "cell_type": "code",
      "execution_count": 142,
      "metadata": {
        "id": "y1RkuqfJDsYE"
      },
      "outputs": [],
      "source": [
        "# FEES: 0.1% for each operation , 0.2% for buy+sell ONLY when current_prediction equals to one\n",
        "new_df['sim1_fees_pred6'] = -new_df[pred] * 100 * 0.002"
      ]
    },
    {
      "cell_type": "code",
      "execution_count": 143,
      "metadata": {
        "id": "zNYijl95Dtr4"
      },
      "outputs": [],
      "source": [
        "# NET REVENUE: GROSS_REVENUE + FEES\n",
        "new_df['sim1_net_rev_pred6'] = new_df['sim1_gross_rev_pred6'] + new_df['sim1_fees_pred6']"
      ]
    },
    {
      "cell_type": "code",
      "execution_count": 144,
      "metadata": {
        "colab": {
          "base_uri": "https://localhost:8080/",
          "height": 419
        },
        "id": "6Dcueis_Dw5j",
        "outputId": "9753b08f-1f5d-4c1e-da28-26da38886aae"
      },
      "outputs": [
        {
          "data": {
            "text/html": [
              "<div>\n",
              "<style scoped>\n",
              "    .dataframe tbody tr th:only-of-type {\n",
              "        vertical-align: middle;\n",
              "    }\n",
              "\n",
              "    .dataframe tbody tr th {\n",
              "        vertical-align: top;\n",
              "    }\n",
              "\n",
              "    .dataframe thead th {\n",
              "        text-align: right;\n",
              "    }\n",
              "</style>\n",
              "<table border=\"1\" class=\"dataframe\">\n",
              "  <thead>\n",
              "    <tr style=\"text-align: right;\">\n",
              "      <th></th>\n",
              "      <th>Date</th>\n",
              "      <th>Ticker</th>\n",
              "      <th>Close</th>\n",
              "      <th>growth_future_5d</th>\n",
              "      <th>is_positive_growth_5d_future</th>\n",
              "      <th>pred6_clf_best</th>\n",
              "      <th>sim1_gross_rev_pred6</th>\n",
              "      <th>sim1_fees_pred6</th>\n",
              "      <th>sim1_net_rev_pred6</th>\n",
              "    </tr>\n",
              "  </thead>\n",
              "  <tbody>\n",
              "    <tr>\n",
              "      <th>8702</th>\n",
              "      <td>2020-09-21</td>\n",
              "      <td>MSFT</td>\n",
              "      <td>202.539993</td>\n",
              "      <td>1.034067</td>\n",
              "      <td>1</td>\n",
              "      <td>1</td>\n",
              "      <td>3.406741</td>\n",
              "      <td>-0.2</td>\n",
              "      <td>3.206741</td>\n",
              "    </tr>\n",
              "    <tr>\n",
              "      <th>8707</th>\n",
              "      <td>2020-09-28</td>\n",
              "      <td>MSFT</td>\n",
              "      <td>209.440002</td>\n",
              "      <td>1.004488</td>\n",
              "      <td>1</td>\n",
              "      <td>1</td>\n",
              "      <td>0.448812</td>\n",
              "      <td>-0.2</td>\n",
              "      <td>0.248812</td>\n",
              "    </tr>\n",
              "    <tr>\n",
              "      <th>8708</th>\n",
              "      <td>2020-09-29</td>\n",
              "      <td>MSFT</td>\n",
              "      <td>207.259995</td>\n",
              "      <td>0.993487</td>\n",
              "      <td>0</td>\n",
              "      <td>1</td>\n",
              "      <td>-0.651332</td>\n",
              "      <td>-0.2</td>\n",
              "      <td>-0.851332</td>\n",
              "    </tr>\n",
              "    <tr>\n",
              "      <th>8709</th>\n",
              "      <td>2020-09-30</td>\n",
              "      <td>MSFT</td>\n",
              "      <td>210.330002</td>\n",
              "      <td>0.997623</td>\n",
              "      <td>0</td>\n",
              "      <td>1</td>\n",
              "      <td>-0.237722</td>\n",
              "      <td>-0.2</td>\n",
              "      <td>-0.437722</td>\n",
              "    </tr>\n",
              "    <tr>\n",
              "      <th>8710</th>\n",
              "      <td>2020-10-01</td>\n",
              "      <td>MSFT</td>\n",
              "      <td>212.460007</td>\n",
              "      <td>0.991151</td>\n",
              "      <td>0</td>\n",
              "      <td>1</td>\n",
              "      <td>-0.884886</td>\n",
              "      <td>-0.2</td>\n",
              "      <td>-1.084886</td>\n",
              "    </tr>\n",
              "    <tr>\n",
              "      <th>...</th>\n",
              "      <td>...</td>\n",
              "      <td>...</td>\n",
              "      <td>...</td>\n",
              "      <td>...</td>\n",
              "      <td>...</td>\n",
              "      <td>...</td>\n",
              "      <td>...</td>\n",
              "      <td>...</td>\n",
              "      <td>...</td>\n",
              "    </tr>\n",
              "    <tr>\n",
              "      <th>5417</th>\n",
              "      <td>2024-04-23</td>\n",
              "      <td>LT.NS</td>\n",
              "      <td>3610.149902</td>\n",
              "      <td>0.995610</td>\n",
              "      <td>0</td>\n",
              "      <td>1</td>\n",
              "      <td>-0.439036</td>\n",
              "      <td>-0.2</td>\n",
              "      <td>-0.639036</td>\n",
              "    </tr>\n",
              "    <tr>\n",
              "      <th>5418</th>\n",
              "      <td>2024-04-24</td>\n",
              "      <td>LT.NS</td>\n",
              "      <td>3634.850098</td>\n",
              "      <td>0.990275</td>\n",
              "      <td>0</td>\n",
              "      <td>1</td>\n",
              "      <td>-0.972532</td>\n",
              "      <td>-0.2</td>\n",
              "      <td>-1.172532</td>\n",
              "    </tr>\n",
              "    <tr>\n",
              "      <th>5419</th>\n",
              "      <td>2024-04-25</td>\n",
              "      <td>LT.NS</td>\n",
              "      <td>3652.300049</td>\n",
              "      <td>0.958245</td>\n",
              "      <td>0</td>\n",
              "      <td>1</td>\n",
              "      <td>-4.175451</td>\n",
              "      <td>-0.2</td>\n",
              "      <td>-4.375451</td>\n",
              "    </tr>\n",
              "    <tr>\n",
              "      <th>5420</th>\n",
              "      <td>2024-04-26</td>\n",
              "      <td>LT.NS</td>\n",
              "      <td>3605.199951</td>\n",
              "      <td>0.960640</td>\n",
              "      <td>0</td>\n",
              "      <td>1</td>\n",
              "      <td>-3.935979</td>\n",
              "      <td>-0.2</td>\n",
              "      <td>-4.135979</td>\n",
              "    </tr>\n",
              "    <tr>\n",
              "      <th>5421</th>\n",
              "      <td>2024-04-29</td>\n",
              "      <td>LT.NS</td>\n",
              "      <td>3634.300049</td>\n",
              "      <td>0.943166</td>\n",
              "      <td>0</td>\n",
              "      <td>1</td>\n",
              "      <td>-5.683352</td>\n",
              "      <td>-0.2</td>\n",
              "      <td>-5.883352</td>\n",
              "    </tr>\n",
              "  </tbody>\n",
              "</table>\n",
              "<p>20353 rows × 9 columns</p>\n",
              "</div>"
            ],
            "text/plain": [
              "           Date Ticker        Close  growth_future_5d  \\\n",
              "8702 2020-09-21   MSFT   202.539993          1.034067   \n",
              "8707 2020-09-28   MSFT   209.440002          1.004488   \n",
              "8708 2020-09-29   MSFT   207.259995          0.993487   \n",
              "8709 2020-09-30   MSFT   210.330002          0.997623   \n",
              "8710 2020-10-01   MSFT   212.460007          0.991151   \n",
              "...         ...    ...          ...               ...   \n",
              "5417 2024-04-23  LT.NS  3610.149902          0.995610   \n",
              "5418 2024-04-24  LT.NS  3634.850098          0.990275   \n",
              "5419 2024-04-25  LT.NS  3652.300049          0.958245   \n",
              "5420 2024-04-26  LT.NS  3605.199951          0.960640   \n",
              "5421 2024-04-29  LT.NS  3634.300049          0.943166   \n",
              "\n",
              "      is_positive_growth_5d_future  pred6_clf_best  sim1_gross_rev_pred6  \\\n",
              "8702                             1               1              3.406741   \n",
              "8707                             1               1              0.448812   \n",
              "8708                             0               1             -0.651332   \n",
              "8709                             0               1             -0.237722   \n",
              "8710                             0               1             -0.884886   \n",
              "...                            ...             ...                   ...   \n",
              "5417                             0               1             -0.439036   \n",
              "5418                             0               1             -0.972532   \n",
              "5419                             0               1             -4.175451   \n",
              "5420                             0               1             -3.935979   \n",
              "5421                             0               1             -5.683352   \n",
              "\n",
              "      sim1_fees_pred6  sim1_net_rev_pred6  \n",
              "8702             -0.2            3.206741  \n",
              "8707             -0.2            0.248812  \n",
              "8708             -0.2           -0.851332  \n",
              "8709             -0.2           -0.437722  \n",
              "8710             -0.2           -1.084886  \n",
              "...               ...                 ...  \n",
              "5417             -0.2           -0.639036  \n",
              "5418             -0.2           -1.172532  \n",
              "5419             -0.2           -4.375451  \n",
              "5420             -0.2           -4.135979  \n",
              "5421             -0.2           -5.883352  \n",
              "\n",
              "[20353 rows x 9 columns]"
            ]
          },
          "execution_count": 144,
          "metadata": {},
          "output_type": "execute_result"
        }
      ],
      "source": [
        "COLUMNS_FIN_RESULT = ['Date','Ticker','Close']+TO_PREDICT+ [pred,  'sim1_gross_rev_pred6','sim1_fees_pred6','sim1_net_rev_pred6']\n",
        "new_df[(new_df.split=='test')&(new_df[pred]==1)][COLUMNS_FIN_RESULT]"
      ]
    },
    {
      "cell_type": "code",
      "execution_count": 145,
      "metadata": {
        "colab": {
          "base_uri": "https://localhost:8080/"
        },
        "id": "BJS19COwDymR",
        "outputId": "65785b02-7e4c-4b3e-d9ed-ee7a5d35368f"
      },
      "outputs": [
        {
          "name": "stdout",
          "output_type": "stream",
          "text": [
            "33.0\n"
          ]
        }
      ],
      "source": [
        "# DAILY INVESTMENTS COUNT\n",
        "filter_test_and_positive_pred = (new_df.split=='test')&(new_df[pred]==1)\n",
        "df_investments_count_daily = pd.DataFrame(new_df[filter_test_and_positive_pred].groupby('Date')[pred].count())\n",
        "sim1_avg_investments_per_day = df_investments_count_daily[pred].quantile(0.75)  # 75% case - how many $100 investments per day do we have?\n",
        "print(sim1_avg_investments_per_day)"
      ]
    },
    {
      "cell_type": "code",
      "execution_count": 146,
      "metadata": {
        "colab": {
          "base_uri": "https://localhost:8080/",
          "height": 80
        },
        "id": "K10MkjYND0sJ",
        "outputId": "6dbf8bed-67c1-46f9-edf4-a5f26f970fe3"
      },
      "outputs": [
        {
          "data": {
            "text/html": [
              "<div>\n",
              "<style scoped>\n",
              "    .dataframe tbody tr th:only-of-type {\n",
              "        vertical-align: middle;\n",
              "    }\n",
              "\n",
              "    .dataframe tbody tr th {\n",
              "        vertical-align: top;\n",
              "    }\n",
              "\n",
              "    .dataframe thead th {\n",
              "        text-align: right;\n",
              "    }\n",
              "</style>\n",
              "<table border=\"1\" class=\"dataframe\">\n",
              "  <thead>\n",
              "    <tr style=\"text-align: right;\">\n",
              "      <th></th>\n",
              "      <th>count</th>\n",
              "      <th>mean</th>\n",
              "      <th>std</th>\n",
              "      <th>min</th>\n",
              "      <th>25%</th>\n",
              "      <th>50%</th>\n",
              "      <th>75%</th>\n",
              "      <th>max</th>\n",
              "    </tr>\n",
              "  </thead>\n",
              "  <tbody>\n",
              "    <tr>\n",
              "      <th>pred6_clf_best</th>\n",
              "      <td>825.0</td>\n",
              "      <td>24.670303</td>\n",
              "      <td>11.292467</td>\n",
              "      <td>1.0</td>\n",
              "      <td>13.0</td>\n",
              "      <td>32.0</td>\n",
              "      <td>33.0</td>\n",
              "      <td>33.0</td>\n",
              "    </tr>\n",
              "  </tbody>\n",
              "</table>\n",
              "</div>"
            ],
            "text/plain": [
              "                count       mean        std  min   25%   50%   75%   max\n",
              "pred6_clf_best  825.0  24.670303  11.292467  1.0  13.0  32.0  33.0  33.0"
            ]
          },
          "execution_count": 146,
          "metadata": {},
          "output_type": "execute_result"
        }
      ],
      "source": [
        "# Distribution: how many times do we trade daily (for the current Prediction)?\n",
        "df_investments_count_daily.describe().T"
      ]
    },
    {
      "cell_type": "code",
      "execution_count": 147,
      "metadata": {
        "colab": {
          "base_uri": "https://localhost:8080/"
        },
        "id": "ilH82pIAD6rV",
        "outputId": "3242d541-bb4c-4d6a-f5ba-f3173efb556e"
      },
      "outputs": [
        {
          "data": {
            "text/plain": [
              "sim1_gross_rev_pred6    14196.868492\n",
              "sim1_fees_pred6         -4070.600000\n",
              "sim1_net_rev_pred6      10130.268492\n",
              "dtype: float64"
            ]
          },
          "execution_count": 147,
          "metadata": {},
          "output_type": "execute_result"
        }
      ],
      "source": [
        "new_df[(new_df.split=='test')&(new_df[pred]==1)][['sim1_gross_rev_pred6','sim1_fees_pred6','sim1_net_rev_pred6']].sum()"
      ]
    },
    {
      "cell_type": "markdown",
      "metadata": {
        "id": "NjeHdCq1D9yN"
      },
      "source": [
        "### 3.1.2 Calculate fin. results for all fields\n",
        "* Simplified and approximate calculation"
      ]
    },
    {
      "cell_type": "code",
      "execution_count": 148,
      "metadata": {
        "colab": {
          "base_uri": "https://localhost:8080/"
        },
        "id": "Pp7CbZXSD_zT",
        "outputId": "e0056583-0f6d-462c-d69c-b9948c5c32b4"
      },
      "outputs": [
        {
          "name": "stdout",
          "output_type": "stream",
          "text": [
            "Calculating sumulation for prediction pred0_manual_cci:\n",
            "    Count times of investment 799 out of 29829 TEST records\n",
            "    Financial Result: \n",
            " sim1_gross_rev_pred0    309.04589\n",
            "sim1_fees_pred0        -159.80000\n",
            "sim1_net_rev_pred0      149.84589\n",
            "dtype: float64\n",
            "        Count Investments in 4 years (on TEST): 799\n",
            "        Gross Revenue: $309\n",
            "        Fees (0.2% for buy+sell): $159\n",
            "        Net Revenue: $149\n",
            "        Fees are 51 % from Gross Revenue\n",
            "        Capital Required : $1000 (Vbegin)\n",
            "        Final value (Vbegin + Net_revenue) : $1149 (Vfinal)\n",
            "        Average CAGR on TEST (4 years) : 1.036, or 3.6% \n",
            "        Average daily stats: \n",
            "            Average net revenue per investment: $0.19 \n",
            "            Average investments per day: 2 \n",
            "            Q75 investments per day: 2 \n",
            "=============================================+\n",
            "Calculating sumulation for prediction pred1_manual_prev_g1:\n",
            "    Count times of investment 15601 out of 29829 TEST records\n",
            "    Financial Result: \n",
            " sim1_gross_rev_pred1    6913.217124\n",
            "sim1_fees_pred1        -3120.200000\n",
            "sim1_net_rev_pred1      3812.817124\n",
            "dtype: float64\n",
            "        Count Investments in 4 years (on TEST): 15601\n",
            "        Gross Revenue: $6913\n",
            "        Fees (0.2% for buy+sell): $3120\n",
            "        Net Revenue: $3812\n",
            "        Fees are 45 % from Gross Revenue\n",
            "        Capital Required : $11000 (Vbegin)\n",
            "        Final value (Vbegin + Net_revenue) : $14812 (Vfinal)\n",
            "        Average CAGR on TEST (4 years) : 1.077, or 7.7% \n",
            "        Average daily stats: \n",
            "            Average net revenue per investment: $0.24 \n",
            "            Average investments per day: 17 \n",
            "            Q75 investments per day: 22 \n",
            "=============================================+\n",
            "Calculating sumulation for prediction pred2_manual_prev_g1_and_snp:\n",
            "    Count times of investment 10455 out of 29829 TEST records\n",
            "    Financial Result: \n",
            " sim1_gross_rev_pred2    4213.424501\n",
            "sim1_fees_pred2        -2091.000000\n",
            "sim1_net_rev_pred2      2139.624501\n",
            "dtype: float64\n",
            "        Count Investments in 4 years (on TEST): 10455\n",
            "        Gross Revenue: $4213\n",
            "        Fees (0.2% for buy+sell): $2091\n",
            "        Net Revenue: $2139\n",
            "        Fees are 49 % from Gross Revenue\n",
            "        Capital Required : $13000 (Vbegin)\n",
            "        Final value (Vbegin + Net_revenue) : $15139 (Vfinal)\n",
            "        Average CAGR on TEST (4 years) : 1.039, or 3.9% \n",
            "        Average daily stats: \n",
            "            Average net revenue per investment: $0.2 \n",
            "            Average investments per day: 22 \n",
            "            Q75 investments per day: 26 \n",
            "=============================================+\n",
            "Calculating sumulation for prediction pred3_manual_gdp_and_fastd:\n",
            "    Count times of investment 29822 out of 29829 TEST records\n",
            "    Financial Result: \n",
            " sim1_gross_rev_pred3    14893.285316\n",
            "sim1_fees_pred3         -5964.400000\n",
            "sim1_net_rev_pred3       8961.885316\n",
            "dtype: float64\n",
            "        Count Investments in 4 years (on TEST): 29822\n",
            "        Gross Revenue: $14893\n",
            "        Fees (0.2% for buy+sell): $5964\n",
            "        Net Revenue: $8961\n",
            "        Fees are 40 % from Gross Revenue\n",
            "        Capital Required : $16500 (Vbegin)\n",
            "        Final value (Vbegin + Net_revenue) : $25461 (Vfinal)\n",
            "        Average CAGR on TEST (4 years) : 1.115, or 11.5% \n",
            "        Average daily stats: \n",
            "            Average net revenue per investment: $0.3 \n",
            "            Average investments per day: 31 \n",
            "            Q75 investments per day: 33 \n",
            "=============================================+\n",
            "Calculating sumulation for prediction pred4_manual_gdp_and_wti30d:\n",
            "    Count times of investment 0 out of 29829 TEST records\n",
            "Calculating sumulation for prediction pred5_clf_10:\n",
            "    Count times of investment 25631 out of 29829 TEST records\n",
            "    Financial Result: \n",
            " sim1_gross_rev_pred5    15693.743691\n",
            "sim1_fees_pred5         -5126.200000\n",
            "sim1_net_rev_pred5      10600.543691\n",
            "dtype: float64\n",
            "        Count Investments in 4 years (on TEST): 25631\n",
            "        Gross Revenue: $15693\n",
            "        Fees (0.2% for buy+sell): $5126\n",
            "        Net Revenue: $10600\n",
            "        Fees are 32 % from Gross Revenue\n",
            "        Capital Required : $16500 (Vbegin)\n",
            "        Final value (Vbegin + Net_revenue) : $27100 (Vfinal)\n",
            "        Average CAGR on TEST (4 years) : 1.132, or 13.2% \n",
            "        Average daily stats: \n",
            "            Average net revenue per investment: $0.41 \n",
            "            Average investments per day: 31 \n",
            "            Q75 investments per day: 33 \n",
            "=============================================+\n",
            "Calculating sumulation for prediction pred6_clf_best:\n",
            "    Count times of investment 20353 out of 29829 TEST records\n",
            "    Financial Result: \n",
            " sim1_gross_rev_pred6    14196.868492\n",
            "sim1_fees_pred6         -4070.600000\n",
            "sim1_net_rev_pred6      10130.268492\n",
            "dtype: float64\n",
            "        Count Investments in 4 years (on TEST): 20353\n",
            "        Gross Revenue: $14196\n",
            "        Fees (0.2% for buy+sell): $4070\n",
            "        Net Revenue: $10130\n",
            "        Fees are 28 % from Gross Revenue\n",
            "        Capital Required : $16500 (Vbegin)\n",
            "        Final value (Vbegin + Net_revenue) : $26630 (Vfinal)\n",
            "        Average CAGR on TEST (4 years) : 1.127, or 12.7% \n",
            "        Average daily stats: \n",
            "            Average net revenue per investment: $0.5 \n",
            "            Average investments per day: 25 \n",
            "            Q75 investments per day: 33 \n",
            "=============================================+\n",
            "Calculating sumulation for prediction pred7_clf_best_rule_66:\n",
            "    Count times of investment 9043 out of 29829 TEST records\n",
            "    Financial Result: \n",
            " sim1_gross_rev_pred7    6078.646086\n",
            "sim1_fees_pred7        -1808.600000\n",
            "sim1_net_rev_pred7      4270.046086\n",
            "dtype: float64\n",
            "        Count Investments in 4 years (on TEST): 9043\n",
            "        Gross Revenue: $6078\n",
            "        Fees (0.2% for buy+sell): $1808\n",
            "        Net Revenue: $4270\n",
            "        Fees are 29 % from Gross Revenue\n",
            "        Capital Required : $16500 (Vbegin)\n",
            "        Final value (Vbegin + Net_revenue) : $20770 (Vfinal)\n",
            "        Average CAGR on TEST (4 years) : 1.059, or 5.9% \n",
            "        Average daily stats: \n",
            "            Average net revenue per investment: $0.47 \n",
            "            Average investments per day: 19 \n",
            "            Q75 investments per day: 33 \n",
            "=============================================+\n",
            "Calculating sumulation for prediction pred8_clf_best_rule_78:\n",
            "    Count times of investment 5960 out of 29829 TEST records\n",
            "    Financial Result: \n",
            " sim1_gross_rev_pred8    3974.124824\n",
            "sim1_fees_pred8        -1192.000000\n",
            "sim1_net_rev_pred8      2782.124824\n",
            "dtype: float64\n",
            "        Count Investments in 4 years (on TEST): 5960\n",
            "        Gross Revenue: $3974\n",
            "        Fees (0.2% for buy+sell): $1192\n",
            "        Net Revenue: $2782\n",
            "        Fees are 29 % from Gross Revenue\n",
            "        Capital Required : $14000 (Vbegin)\n",
            "        Final value (Vbegin + Net_revenue) : $16782 (Vfinal)\n",
            "        Average CAGR on TEST (4 years) : 1.046, or 4.6% \n",
            "        Average daily stats: \n",
            "            Average net revenue per investment: $0.47 \n",
            "            Average investments per day: 17 \n",
            "            Q75 investments per day: 28 \n",
            "=============================================+\n",
            "Calculating sumulation for prediction pred9_rf_best_rule_55:\n",
            "    Count times of investment 3567 out of 29829 TEST records\n",
            "    Financial Result: \n",
            " sim1_gross_rev_pred9    3401.051204\n",
            "sim1_fees_pred9         -713.400000\n",
            "sim1_net_rev_pred9      2690.451204\n",
            "dtype: float64\n",
            "        Count Investments in 4 years (on TEST): 3567\n",
            "        Gross Revenue: $3401\n",
            "        Fees (0.2% for buy+sell): $713\n",
            "        Net Revenue: $2690\n",
            "        Fees are 20 % from Gross Revenue\n",
            "        Capital Required : $6000 (Vbegin)\n",
            "        Final value (Vbegin + Net_revenue) : $8690 (Vfinal)\n",
            "        Average CAGR on TEST (4 years) : 1.097, or 9.7% \n",
            "        Average daily stats: \n",
            "            Average net revenue per investment: $0.75 \n",
            "            Average investments per day: 7 \n",
            "            Q75 investments per day: 12 \n",
            "=============================================+\n",
            "Calculating sumulation for prediction pred10_rf_best_rule_60:\n",
            "    Count times of investment 334 out of 29829 TEST records\n",
            "    Financial Result: \n",
            " sim1_gross_rev_pred10    448.225064\n",
            "sim1_fees_pred10         -66.800000\n",
            "sim1_net_rev_pred10      381.625064\n",
            "dtype: float64\n",
            "        Count Investments in 4 years (on TEST): 334\n",
            "        Gross Revenue: $448\n",
            "        Fees (0.2% for buy+sell): $66\n",
            "        Net Revenue: $381\n",
            "        Fees are 14 % from Gross Revenue\n",
            "        Capital Required : $1750 (Vbegin)\n",
            "        Final value (Vbegin + Net_revenue) : $2131 (Vfinal)\n",
            "        Average CAGR on TEST (4 years) : 1.051, or 5.1% \n",
            "        Average daily stats: \n",
            "            Average net revenue per investment: $1.14 \n",
            "            Average investments per day: 3 \n",
            "            Q75 investments per day: 4 \n",
            "=============================================+\n"
          ]
        }
      ],
      "source": [
        "# Calculate fin. result for ALL predictions (manual and produced by models)\n",
        "\n",
        "sim1_results = [] # results in Array\n",
        "\n",
        "# Iterate over all predictions\n",
        "for pred in PREDICTIONS:\n",
        "  print(f'Calculating sumulation for prediction {pred}:')\n",
        "  print(f\"    Count times of investment {len(new_df[(new_df.split=='test')&(new_df[pred]==1)])} out of {len(new_df[(new_df.split=='test')])} TEST records\")\n",
        "\n",
        "  # Prefix: e.g. pred1 or pred10\n",
        "  pred_prefix= pred.split('_')[0]\n",
        "\n",
        "  # Fin. result columns: define new records for EACH positive prediction\n",
        "  new_df['sim1_gross_rev_'+pred_prefix] = new_df[pred] * 100 * (new_df['growth_future_5d']-1)\n",
        "  new_df['sim1_fees_'+pred_prefix] = -new_df[pred] * 100 * 0.002\n",
        "  new_df['sim1_net_rev_'+pred_prefix] = new_df['sim1_gross_rev_'+pred_prefix] + new_df['sim1_fees_'+pred_prefix]\n",
        "\n",
        "  # calculate agg. results for each PREDICTION columns (pred) on TEST\n",
        "  filter_test_and_positive_pred = (new_df.split=='test')&(new_df[pred]==1) # filter records on TEST set, when current prediction is 1 (we invest $100 for 1 week ahead - 5 periods)\n",
        "  sim1_count_investments = len(new_df[filter_test_and_positive_pred])\n",
        "  sim1_gross_rev = new_df[filter_test_and_positive_pred]['sim1_gross_rev_'+pred_prefix].sum()\n",
        "  sim1_fees = new_df[filter_test_and_positive_pred]['sim1_fees_'+pred_prefix].sum()\n",
        "  sim1_net_rev = new_df[filter_test_and_positive_pred]['sim1_net_rev_'+pred_prefix].sum()\n",
        "\n",
        "  if sim1_gross_rev>0:\n",
        "    sim1_fees_percentage = -sim1_fees/sim1_gross_rev\n",
        "  else:\n",
        "    sim1_fees_percentage = None\n",
        "\n",
        "  if sim1_count_investments>0:\n",
        "    sim1_average_net_revenue = sim1_net_rev/sim1_count_investments\n",
        "  else:\n",
        "    sim1_average_net_revenue = None\n",
        "\n",
        "  # APPROXIMATE CAPITAL REQUIRED and CAGR Calculation\n",
        "  df_investments_count_daily = pd.DataFrame(new_df[filter_test_and_positive_pred].groupby('Date')[pred].count())\n",
        "  sim1_avg_investments_per_day = df_investments_count_daily[pred].mean()\n",
        "  sim1_q75_investments_per_day = df_investments_count_daily[pred].quantile(0.75)  # 75% case - how many $100 investments per day do we have?\n",
        "  # df_investments_count_daily[pred].mean()\n",
        "  sim1_capital = 100 * 5 * sim1_q75_investments_per_day # 5 days in a row with positive predictions\n",
        "  # CAGR: average growth per year. E.g. if you have 1.5 return (50% growth in 4 years) --> (1.5)**(1/4) = 1.106 or 10.6% average\n",
        "  sim1_CAGR = ((sim1_capital+sim1_net_rev)/sim1_capital)**(1/4)\n",
        "\n",
        "  # append to DF\n",
        "  sim1_results.append((pred,sim1_count_investments,sim1_gross_rev,sim1_fees,sim1_net_rev,sim1_fees_percentage,sim1_average_net_revenue,sim1_avg_investments_per_day,sim1_capital,sim1_CAGR))\n",
        "\n",
        "\n",
        "  # output for all predictions with some positive predictions\n",
        "  if  sim1_count_investments>1:\n",
        "    print(f\"    Financial Result: \\n {new_df[filter_test_and_positive_pred][['sim1_gross_rev_'+pred_prefix,'sim1_fees_'+pred_prefix,'sim1_net_rev_'+pred_prefix]].sum()}\")\n",
        "    print(f\"        Count Investments in 4 years (on TEST): {sim1_count_investments}\")\n",
        "    print(f\"        Gross Revenue: ${int(sim1_gross_rev)}\")\n",
        "    print(f\"        Fees (0.2% for buy+sell): ${int(-sim1_fees)}\")\n",
        "    print(f\"        Net Revenue: ${int(sim1_net_rev)}\")\n",
        "    print(f\"        Fees are {int(-100.0*sim1_fees/sim1_gross_rev)} % from Gross Revenue\")\n",
        "    print(f\"        Capital Required : ${int(sim1_capital)} (Vbegin)\")\n",
        "    print(f\"        Final value (Vbegin + Net_revenue) : ${int(sim1_capital + sim1_net_rev)} (Vfinal)\")\n",
        "\n",
        "    print(f\"        Average CAGR on TEST (4 years) : {np.round(sim1_CAGR,3)}, or {np.round(100.0*(sim1_CAGR-1),1)}% \")\n",
        "\n",
        "    print(f\"        Average daily stats: \")\n",
        "    print(f\"            Average net revenue per investment: ${np.round(sim1_net_rev/sim1_count_investments,2)} \")\n",
        "    print(f\"            Average investments per day: {int(np.round(sim1_avg_investments_per_day))} \")\n",
        "    print(f\"            Q75 investments per day: {int(np.round(sim1_q75_investments_per_day))} \")\n",
        "    print('=============================================+')\n",
        "\n",
        "\n",
        "# results in a DataFrame from an Array\n",
        "columns_simulation = ['prediction', 'sim1_count_investments', 'sim1_gross_rev', 'sim1_fees', 'sim1_net_rev', 'sim1_fees_percentage','sim1_average_net_revenue','sim1_avg_investments_per_day','sim1_capital','sim1_CAGR']\n",
        "\n",
        "df_sim1_results = pd.DataFrame(sim1_results,columns=columns_simulation)"
      ]
    },
    {
      "cell_type": "code",
      "execution_count": 149,
      "metadata": {
        "id": "06L2zLXMEDUh"
      },
      "outputs": [],
      "source": [
        "df_sim1_results['sim1_growth_capital_4y'] = (df_sim1_results.sim1_net_rev+df_sim1_results.sim1_capital) / df_sim1_results.sim1_capital"
      ]
    },
    {
      "cell_type": "code",
      "execution_count": 150,
      "metadata": {
        "colab": {
          "base_uri": "https://localhost:8080/",
          "height": 410
        },
        "id": "dKoRow8IEEYx",
        "outputId": "56318b3e-ac56-46f0-bcdc-7eb53ff0dec1"
      },
      "outputs": [
        {
          "data": {
            "text/html": [
              "<div>\n",
              "<style scoped>\n",
              "    .dataframe tbody tr th:only-of-type {\n",
              "        vertical-align: middle;\n",
              "    }\n",
              "\n",
              "    .dataframe tbody tr th {\n",
              "        vertical-align: top;\n",
              "    }\n",
              "\n",
              "    .dataframe thead th {\n",
              "        text-align: right;\n",
              "    }\n",
              "</style>\n",
              "<table border=\"1\" class=\"dataframe\">\n",
              "  <thead>\n",
              "    <tr style=\"text-align: right;\">\n",
              "      <th></th>\n",
              "      <th>prediction</th>\n",
              "      <th>sim1_count_investments</th>\n",
              "      <th>sim1_gross_rev</th>\n",
              "      <th>sim1_fees</th>\n",
              "      <th>sim1_net_rev</th>\n",
              "      <th>sim1_fees_percentage</th>\n",
              "      <th>sim1_average_net_revenue</th>\n",
              "      <th>sim1_avg_investments_per_day</th>\n",
              "      <th>sim1_capital</th>\n",
              "      <th>sim1_CAGR</th>\n",
              "      <th>sim1_growth_capital_4y</th>\n",
              "    </tr>\n",
              "  </thead>\n",
              "  <tbody>\n",
              "    <tr>\n",
              "      <th>0</th>\n",
              "      <td>pred0_manual_cci</td>\n",
              "      <td>799</td>\n",
              "      <td>309.045890</td>\n",
              "      <td>-159.8</td>\n",
              "      <td>149.845890</td>\n",
              "      <td>0.517075</td>\n",
              "      <td>0.187542</td>\n",
              "      <td>1.866822</td>\n",
              "      <td>1000.0</td>\n",
              "      <td>1.035523</td>\n",
              "      <td>1.149846</td>\n",
              "    </tr>\n",
              "    <tr>\n",
              "      <th>1</th>\n",
              "      <td>pred1_manual_prev_g1</td>\n",
              "      <td>15601</td>\n",
              "      <td>6913.217124</td>\n",
              "      <td>-3120.2</td>\n",
              "      <td>3812.817124</td>\n",
              "      <td>0.451338</td>\n",
              "      <td>0.244396</td>\n",
              "      <td>16.526483</td>\n",
              "      <td>11000.0</td>\n",
              "      <td>1.077237</td>\n",
              "      <td>1.346620</td>\n",
              "    </tr>\n",
              "    <tr>\n",
              "      <th>2</th>\n",
              "      <td>pred2_manual_prev_g1_and_snp</td>\n",
              "      <td>10455</td>\n",
              "      <td>4213.424501</td>\n",
              "      <td>-2091.0</td>\n",
              "      <td>2139.624501</td>\n",
              "      <td>0.496271</td>\n",
              "      <td>0.204651</td>\n",
              "      <td>21.918239</td>\n",
              "      <td>13000.0</td>\n",
              "      <td>1.038826</td>\n",
              "      <td>1.164587</td>\n",
              "    </tr>\n",
              "    <tr>\n",
              "      <th>3</th>\n",
              "      <td>pred3_manual_gdp_and_fastd</td>\n",
              "      <td>29822</td>\n",
              "      <td>14893.285316</td>\n",
              "      <td>-5964.4</td>\n",
              "      <td>8961.885316</td>\n",
              "      <td>0.400476</td>\n",
              "      <td>0.300513</td>\n",
              "      <td>31.491024</td>\n",
              "      <td>16500.0</td>\n",
              "      <td>1.114555</td>\n",
              "      <td>1.543145</td>\n",
              "    </tr>\n",
              "    <tr>\n",
              "      <th>4</th>\n",
              "      <td>pred4_manual_gdp_and_wti30d</td>\n",
              "      <td>0</td>\n",
              "      <td>0.000000</td>\n",
              "      <td>0.0</td>\n",
              "      <td>0.000000</td>\n",
              "      <td>NaN</td>\n",
              "      <td>NaN</td>\n",
              "      <td>NaN</td>\n",
              "      <td>NaN</td>\n",
              "      <td>NaN</td>\n",
              "      <td>NaN</td>\n",
              "    </tr>\n",
              "    <tr>\n",
              "      <th>5</th>\n",
              "      <td>pred5_clf_10</td>\n",
              "      <td>25631</td>\n",
              "      <td>15693.743691</td>\n",
              "      <td>-5126.2</td>\n",
              "      <td>10600.543691</td>\n",
              "      <td>0.326640</td>\n",
              "      <td>0.413583</td>\n",
              "      <td>31.295482</td>\n",
              "      <td>16500.0</td>\n",
              "      <td>1.132071</td>\n",
              "      <td>1.642457</td>\n",
              "    </tr>\n",
              "    <tr>\n",
              "      <th>6</th>\n",
              "      <td>pred6_clf_best</td>\n",
              "      <td>20353</td>\n",
              "      <td>14196.868492</td>\n",
              "      <td>-4070.6</td>\n",
              "      <td>10130.268492</td>\n",
              "      <td>0.286725</td>\n",
              "      <td>0.497729</td>\n",
              "      <td>24.670303</td>\n",
              "      <td>16500.0</td>\n",
              "      <td>1.127127</td>\n",
              "      <td>1.613956</td>\n",
              "    </tr>\n",
              "    <tr>\n",
              "      <th>7</th>\n",
              "      <td>pred7_clf_best_rule_66</td>\n",
              "      <td>9043</td>\n",
              "      <td>6078.646086</td>\n",
              "      <td>-1808.6</td>\n",
              "      <td>4270.046086</td>\n",
              "      <td>0.297533</td>\n",
              "      <td>0.472194</td>\n",
              "      <td>19.158898</td>\n",
              "      <td>16500.0</td>\n",
              "      <td>1.059225</td>\n",
              "      <td>1.258791</td>\n",
              "    </tr>\n",
              "    <tr>\n",
              "      <th>8</th>\n",
              "      <td>pred8_clf_best_rule_78</td>\n",
              "      <td>5960</td>\n",
              "      <td>3974.124824</td>\n",
              "      <td>-1192.0</td>\n",
              "      <td>2782.124824</td>\n",
              "      <td>0.299940</td>\n",
              "      <td>0.466799</td>\n",
              "      <td>16.741573</td>\n",
              "      <td>14000.0</td>\n",
              "      <td>1.046357</td>\n",
              "      <td>1.198723</td>\n",
              "    </tr>\n",
              "    <tr>\n",
              "      <th>9</th>\n",
              "      <td>pred9_rf_best_rule_55</td>\n",
              "      <td>3567</td>\n",
              "      <td>3401.051204</td>\n",
              "      <td>-713.4</td>\n",
              "      <td>2690.451204</td>\n",
              "      <td>0.209759</td>\n",
              "      <td>0.754262</td>\n",
              "      <td>7.477987</td>\n",
              "      <td>6000.0</td>\n",
              "      <td>1.097041</td>\n",
              "      <td>1.448409</td>\n",
              "    </tr>\n",
              "    <tr>\n",
              "      <th>10</th>\n",
              "      <td>pred10_rf_best_rule_60</td>\n",
              "      <td>334</td>\n",
              "      <td>448.225064</td>\n",
              "      <td>-66.8</td>\n",
              "      <td>381.625064</td>\n",
              "      <td>0.149032</td>\n",
              "      <td>1.142590</td>\n",
              "      <td>3.009009</td>\n",
              "      <td>1750.0</td>\n",
              "      <td>1.050554</td>\n",
              "      <td>1.218071</td>\n",
              "    </tr>\n",
              "  </tbody>\n",
              "</table>\n",
              "</div>"
            ],
            "text/plain": [
              "                      prediction  sim1_count_investments  sim1_gross_rev  \\\n",
              "0               pred0_manual_cci                     799      309.045890   \n",
              "1           pred1_manual_prev_g1                   15601     6913.217124   \n",
              "2   pred2_manual_prev_g1_and_snp                   10455     4213.424501   \n",
              "3     pred3_manual_gdp_and_fastd                   29822    14893.285316   \n",
              "4    pred4_manual_gdp_and_wti30d                       0        0.000000   \n",
              "5                   pred5_clf_10                   25631    15693.743691   \n",
              "6                 pred6_clf_best                   20353    14196.868492   \n",
              "7         pred7_clf_best_rule_66                    9043     6078.646086   \n",
              "8         pred8_clf_best_rule_78                    5960     3974.124824   \n",
              "9          pred9_rf_best_rule_55                    3567     3401.051204   \n",
              "10        pred10_rf_best_rule_60                     334      448.225064   \n",
              "\n",
              "    sim1_fees  sim1_net_rev  sim1_fees_percentage  sim1_average_net_revenue  \\\n",
              "0      -159.8    149.845890              0.517075                  0.187542   \n",
              "1     -3120.2   3812.817124              0.451338                  0.244396   \n",
              "2     -2091.0   2139.624501              0.496271                  0.204651   \n",
              "3     -5964.4   8961.885316              0.400476                  0.300513   \n",
              "4         0.0      0.000000                   NaN                       NaN   \n",
              "5     -5126.2  10600.543691              0.326640                  0.413583   \n",
              "6     -4070.6  10130.268492              0.286725                  0.497729   \n",
              "7     -1808.6   4270.046086              0.297533                  0.472194   \n",
              "8     -1192.0   2782.124824              0.299940                  0.466799   \n",
              "9      -713.4   2690.451204              0.209759                  0.754262   \n",
              "10      -66.8    381.625064              0.149032                  1.142590   \n",
              "\n",
              "    sim1_avg_investments_per_day  sim1_capital  sim1_CAGR  \\\n",
              "0                       1.866822        1000.0   1.035523   \n",
              "1                      16.526483       11000.0   1.077237   \n",
              "2                      21.918239       13000.0   1.038826   \n",
              "3                      31.491024       16500.0   1.114555   \n",
              "4                            NaN           NaN        NaN   \n",
              "5                      31.295482       16500.0   1.132071   \n",
              "6                      24.670303       16500.0   1.127127   \n",
              "7                      19.158898       16500.0   1.059225   \n",
              "8                      16.741573       14000.0   1.046357   \n",
              "9                       7.477987        6000.0   1.097041   \n",
              "10                      3.009009        1750.0   1.050554   \n",
              "\n",
              "    sim1_growth_capital_4y  \n",
              "0                 1.149846  \n",
              "1                 1.346620  \n",
              "2                 1.164587  \n",
              "3                 1.543145  \n",
              "4                      NaN  \n",
              "5                 1.642457  \n",
              "6                 1.613956  \n",
              "7                 1.258791  \n",
              "8                 1.198723  \n",
              "9                 1.448409  \n",
              "10                1.218071  "
            ]
          },
          "execution_count": 150,
          "metadata": {},
          "output_type": "execute_result"
        }
      ],
      "source": [
        "# final comparison\n",
        "df_sim1_results"
      ]
    },
    {
      "cell_type": "code",
      "execution_count": 152,
      "metadata": {
        "colab": {
          "base_uri": "https://localhost:8080/"
        },
        "id": "amUWfIDsu4nx",
        "outputId": "d3ae29f9-1518-4c67-deaa-7127496721ac"
      },
      "outputs": [
        {
          "name": "stdout",
          "output_type": "stream",
          "text": [
            "CAGR for pred5_clf_10 : 1.1321\n"
          ]
        }
      ],
      "source": [
        "print('CAGR for pred5_clf_10 :', np.round(df_sim1_results[df_sim1_results['prediction']=='pred5_clf_10']['sim1_CAGR'].values[0],4))"
      ]
    },
    {
      "cell_type": "code",
      "execution_count": 153,
      "metadata": {
        "colab": {
          "base_uri": "https://localhost:8080/",
          "height": 542
        },
        "id": "nVqxN-1wEGGj",
        "outputId": "5f92f164-82bd-4464-89b0-8b34855da33f"
      },
      "outputs": [
        {
          "data": {
            "application/vnd.plotly.v1+json": {
              "config": {
                "plotlyServerURL": "https://plot.ly"
              },
              "data": [
                {
                  "hovertemplate": "sim1_avg_investments_per_day=%{x}<br>sim1_CAGR=%{y}<br>sim1_growth_capital_4y=%{marker.size}<br>prediction=%{text}<extra></extra>",
                  "legendgroup": "",
                  "marker": {
                    "color": "#636efa",
                    "size": [
                      1.1498458895152726,
                      1.3466197385724221,
                      1.1645865000916178,
                      1.5431445645820265,
                      1.6424571934173755,
                      1.6139556661702783,
                      1.258790671862017,
                      1.1987232017016363,
                      1.4484085340277504,
                      1.2180714652293345
                    ],
                    "sizemode": "area",
                    "sizeref": 0.004106142983543439,
                    "symbol": "circle"
                  },
                  "mode": "markers+text",
                  "name": "",
                  "orientation": "v",
                  "showlegend": false,
                  "text": [
                    "pred0_manual_cci",
                    "pred1_manual_prev_g1",
                    "pred2_manual_prev_g1_and_snp",
                    "pred3_manual_gdp_and_fastd",
                    "pred5_clf_10",
                    "pred6_clf_best",
                    "pred7_clf_best_rule_66",
                    "pred8_clf_best_rule_78",
                    "pred9_rf_best_rule_55",
                    "pred10_rf_best_rule_60"
                  ],
                  "textposition": "top center",
                  "type": "scatter",
                  "x": [
                    1.8668224299065421,
                    16.526483050847457,
                    21.91823899371069,
                    31.49102428722281,
                    31.295482295482294,
                    24.67030303030303,
                    19.158898305084747,
                    16.741573033707866,
                    7.477987421383648,
                    3.009009009009009
                  ],
                  "xaxis": "x",
                  "y": [
                    1.035523381042123,
                    1.077236955940904,
                    1.0388263041107977,
                    1.114555382053512,
                    1.1320706078908496,
                    1.127127121764871,
                    1.0592253816586108,
                    1.0463566236637936,
                    1.0970407723416866,
                    1.050553544456328
                  ],
                  "yaxis": "y"
                }
              ],
              "layout": {
                "legend": {
                  "itemsizing": "constant",
                  "tracegroupgap": 0
                },
                "template": {
                  "data": {
                    "bar": [
                      {
                        "error_x": {
                          "color": "#2a3f5f"
                        },
                        "error_y": {
                          "color": "#2a3f5f"
                        },
                        "marker": {
                          "line": {
                            "color": "#E5ECF6",
                            "width": 0.5
                          },
                          "pattern": {
                            "fillmode": "overlay",
                            "size": 10,
                            "solidity": 0.2
                          }
                        },
                        "type": "bar"
                      }
                    ],
                    "barpolar": [
                      {
                        "marker": {
                          "line": {
                            "color": "#E5ECF6",
                            "width": 0.5
                          },
                          "pattern": {
                            "fillmode": "overlay",
                            "size": 10,
                            "solidity": 0.2
                          }
                        },
                        "type": "barpolar"
                      }
                    ],
                    "carpet": [
                      {
                        "aaxis": {
                          "endlinecolor": "#2a3f5f",
                          "gridcolor": "white",
                          "linecolor": "white",
                          "minorgridcolor": "white",
                          "startlinecolor": "#2a3f5f"
                        },
                        "baxis": {
                          "endlinecolor": "#2a3f5f",
                          "gridcolor": "white",
                          "linecolor": "white",
                          "minorgridcolor": "white",
                          "startlinecolor": "#2a3f5f"
                        },
                        "type": "carpet"
                      }
                    ],
                    "choropleth": [
                      {
                        "colorbar": {
                          "outlinewidth": 0,
                          "ticks": ""
                        },
                        "type": "choropleth"
                      }
                    ],
                    "contour": [
                      {
                        "colorbar": {
                          "outlinewidth": 0,
                          "ticks": ""
                        },
                        "colorscale": [
                          [
                            0,
                            "#0d0887"
                          ],
                          [
                            0.1111111111111111,
                            "#46039f"
                          ],
                          [
                            0.2222222222222222,
                            "#7201a8"
                          ],
                          [
                            0.3333333333333333,
                            "#9c179e"
                          ],
                          [
                            0.4444444444444444,
                            "#bd3786"
                          ],
                          [
                            0.5555555555555556,
                            "#d8576b"
                          ],
                          [
                            0.6666666666666666,
                            "#ed7953"
                          ],
                          [
                            0.7777777777777778,
                            "#fb9f3a"
                          ],
                          [
                            0.8888888888888888,
                            "#fdca26"
                          ],
                          [
                            1,
                            "#f0f921"
                          ]
                        ],
                        "type": "contour"
                      }
                    ],
                    "contourcarpet": [
                      {
                        "colorbar": {
                          "outlinewidth": 0,
                          "ticks": ""
                        },
                        "type": "contourcarpet"
                      }
                    ],
                    "heatmap": [
                      {
                        "colorbar": {
                          "outlinewidth": 0,
                          "ticks": ""
                        },
                        "colorscale": [
                          [
                            0,
                            "#0d0887"
                          ],
                          [
                            0.1111111111111111,
                            "#46039f"
                          ],
                          [
                            0.2222222222222222,
                            "#7201a8"
                          ],
                          [
                            0.3333333333333333,
                            "#9c179e"
                          ],
                          [
                            0.4444444444444444,
                            "#bd3786"
                          ],
                          [
                            0.5555555555555556,
                            "#d8576b"
                          ],
                          [
                            0.6666666666666666,
                            "#ed7953"
                          ],
                          [
                            0.7777777777777778,
                            "#fb9f3a"
                          ],
                          [
                            0.8888888888888888,
                            "#fdca26"
                          ],
                          [
                            1,
                            "#f0f921"
                          ]
                        ],
                        "type": "heatmap"
                      }
                    ],
                    "heatmapgl": [
                      {
                        "colorbar": {
                          "outlinewidth": 0,
                          "ticks": ""
                        },
                        "colorscale": [
                          [
                            0,
                            "#0d0887"
                          ],
                          [
                            0.1111111111111111,
                            "#46039f"
                          ],
                          [
                            0.2222222222222222,
                            "#7201a8"
                          ],
                          [
                            0.3333333333333333,
                            "#9c179e"
                          ],
                          [
                            0.4444444444444444,
                            "#bd3786"
                          ],
                          [
                            0.5555555555555556,
                            "#d8576b"
                          ],
                          [
                            0.6666666666666666,
                            "#ed7953"
                          ],
                          [
                            0.7777777777777778,
                            "#fb9f3a"
                          ],
                          [
                            0.8888888888888888,
                            "#fdca26"
                          ],
                          [
                            1,
                            "#f0f921"
                          ]
                        ],
                        "type": "heatmapgl"
                      }
                    ],
                    "histogram": [
                      {
                        "marker": {
                          "pattern": {
                            "fillmode": "overlay",
                            "size": 10,
                            "solidity": 0.2
                          }
                        },
                        "type": "histogram"
                      }
                    ],
                    "histogram2d": [
                      {
                        "colorbar": {
                          "outlinewidth": 0,
                          "ticks": ""
                        },
                        "colorscale": [
                          [
                            0,
                            "#0d0887"
                          ],
                          [
                            0.1111111111111111,
                            "#46039f"
                          ],
                          [
                            0.2222222222222222,
                            "#7201a8"
                          ],
                          [
                            0.3333333333333333,
                            "#9c179e"
                          ],
                          [
                            0.4444444444444444,
                            "#bd3786"
                          ],
                          [
                            0.5555555555555556,
                            "#d8576b"
                          ],
                          [
                            0.6666666666666666,
                            "#ed7953"
                          ],
                          [
                            0.7777777777777778,
                            "#fb9f3a"
                          ],
                          [
                            0.8888888888888888,
                            "#fdca26"
                          ],
                          [
                            1,
                            "#f0f921"
                          ]
                        ],
                        "type": "histogram2d"
                      }
                    ],
                    "histogram2dcontour": [
                      {
                        "colorbar": {
                          "outlinewidth": 0,
                          "ticks": ""
                        },
                        "colorscale": [
                          [
                            0,
                            "#0d0887"
                          ],
                          [
                            0.1111111111111111,
                            "#46039f"
                          ],
                          [
                            0.2222222222222222,
                            "#7201a8"
                          ],
                          [
                            0.3333333333333333,
                            "#9c179e"
                          ],
                          [
                            0.4444444444444444,
                            "#bd3786"
                          ],
                          [
                            0.5555555555555556,
                            "#d8576b"
                          ],
                          [
                            0.6666666666666666,
                            "#ed7953"
                          ],
                          [
                            0.7777777777777778,
                            "#fb9f3a"
                          ],
                          [
                            0.8888888888888888,
                            "#fdca26"
                          ],
                          [
                            1,
                            "#f0f921"
                          ]
                        ],
                        "type": "histogram2dcontour"
                      }
                    ],
                    "mesh3d": [
                      {
                        "colorbar": {
                          "outlinewidth": 0,
                          "ticks": ""
                        },
                        "type": "mesh3d"
                      }
                    ],
                    "parcoords": [
                      {
                        "line": {
                          "colorbar": {
                            "outlinewidth": 0,
                            "ticks": ""
                          }
                        },
                        "type": "parcoords"
                      }
                    ],
                    "pie": [
                      {
                        "automargin": true,
                        "type": "pie"
                      }
                    ],
                    "scatter": [
                      {
                        "fillpattern": {
                          "fillmode": "overlay",
                          "size": 10,
                          "solidity": 0.2
                        },
                        "type": "scatter"
                      }
                    ],
                    "scatter3d": [
                      {
                        "line": {
                          "colorbar": {
                            "outlinewidth": 0,
                            "ticks": ""
                          }
                        },
                        "marker": {
                          "colorbar": {
                            "outlinewidth": 0,
                            "ticks": ""
                          }
                        },
                        "type": "scatter3d"
                      }
                    ],
                    "scattercarpet": [
                      {
                        "marker": {
                          "colorbar": {
                            "outlinewidth": 0,
                            "ticks": ""
                          }
                        },
                        "type": "scattercarpet"
                      }
                    ],
                    "scattergeo": [
                      {
                        "marker": {
                          "colorbar": {
                            "outlinewidth": 0,
                            "ticks": ""
                          }
                        },
                        "type": "scattergeo"
                      }
                    ],
                    "scattergl": [
                      {
                        "marker": {
                          "colorbar": {
                            "outlinewidth": 0,
                            "ticks": ""
                          }
                        },
                        "type": "scattergl"
                      }
                    ],
                    "scattermapbox": [
                      {
                        "marker": {
                          "colorbar": {
                            "outlinewidth": 0,
                            "ticks": ""
                          }
                        },
                        "type": "scattermapbox"
                      }
                    ],
                    "scatterpolar": [
                      {
                        "marker": {
                          "colorbar": {
                            "outlinewidth": 0,
                            "ticks": ""
                          }
                        },
                        "type": "scatterpolar"
                      }
                    ],
                    "scatterpolargl": [
                      {
                        "marker": {
                          "colorbar": {
                            "outlinewidth": 0,
                            "ticks": ""
                          }
                        },
                        "type": "scatterpolargl"
                      }
                    ],
                    "scatterternary": [
                      {
                        "marker": {
                          "colorbar": {
                            "outlinewidth": 0,
                            "ticks": ""
                          }
                        },
                        "type": "scatterternary"
                      }
                    ],
                    "surface": [
                      {
                        "colorbar": {
                          "outlinewidth": 0,
                          "ticks": ""
                        },
                        "colorscale": [
                          [
                            0,
                            "#0d0887"
                          ],
                          [
                            0.1111111111111111,
                            "#46039f"
                          ],
                          [
                            0.2222222222222222,
                            "#7201a8"
                          ],
                          [
                            0.3333333333333333,
                            "#9c179e"
                          ],
                          [
                            0.4444444444444444,
                            "#bd3786"
                          ],
                          [
                            0.5555555555555556,
                            "#d8576b"
                          ],
                          [
                            0.6666666666666666,
                            "#ed7953"
                          ],
                          [
                            0.7777777777777778,
                            "#fb9f3a"
                          ],
                          [
                            0.8888888888888888,
                            "#fdca26"
                          ],
                          [
                            1,
                            "#f0f921"
                          ]
                        ],
                        "type": "surface"
                      }
                    ],
                    "table": [
                      {
                        "cells": {
                          "fill": {
                            "color": "#EBF0F8"
                          },
                          "line": {
                            "color": "white"
                          }
                        },
                        "header": {
                          "fill": {
                            "color": "#C8D4E3"
                          },
                          "line": {
                            "color": "white"
                          }
                        },
                        "type": "table"
                      }
                    ]
                  },
                  "layout": {
                    "annotationdefaults": {
                      "arrowcolor": "#2a3f5f",
                      "arrowhead": 0,
                      "arrowwidth": 1
                    },
                    "autotypenumbers": "strict",
                    "coloraxis": {
                      "colorbar": {
                        "outlinewidth": 0,
                        "ticks": ""
                      }
                    },
                    "colorscale": {
                      "diverging": [
                        [
                          0,
                          "#8e0152"
                        ],
                        [
                          0.1,
                          "#c51b7d"
                        ],
                        [
                          0.2,
                          "#de77ae"
                        ],
                        [
                          0.3,
                          "#f1b6da"
                        ],
                        [
                          0.4,
                          "#fde0ef"
                        ],
                        [
                          0.5,
                          "#f7f7f7"
                        ],
                        [
                          0.6,
                          "#e6f5d0"
                        ],
                        [
                          0.7,
                          "#b8e186"
                        ],
                        [
                          0.8,
                          "#7fbc41"
                        ],
                        [
                          0.9,
                          "#4d9221"
                        ],
                        [
                          1,
                          "#276419"
                        ]
                      ],
                      "sequential": [
                        [
                          0,
                          "#0d0887"
                        ],
                        [
                          0.1111111111111111,
                          "#46039f"
                        ],
                        [
                          0.2222222222222222,
                          "#7201a8"
                        ],
                        [
                          0.3333333333333333,
                          "#9c179e"
                        ],
                        [
                          0.4444444444444444,
                          "#bd3786"
                        ],
                        [
                          0.5555555555555556,
                          "#d8576b"
                        ],
                        [
                          0.6666666666666666,
                          "#ed7953"
                        ],
                        [
                          0.7777777777777778,
                          "#fb9f3a"
                        ],
                        [
                          0.8888888888888888,
                          "#fdca26"
                        ],
                        [
                          1,
                          "#f0f921"
                        ]
                      ],
                      "sequentialminus": [
                        [
                          0,
                          "#0d0887"
                        ],
                        [
                          0.1111111111111111,
                          "#46039f"
                        ],
                        [
                          0.2222222222222222,
                          "#7201a8"
                        ],
                        [
                          0.3333333333333333,
                          "#9c179e"
                        ],
                        [
                          0.4444444444444444,
                          "#bd3786"
                        ],
                        [
                          0.5555555555555556,
                          "#d8576b"
                        ],
                        [
                          0.6666666666666666,
                          "#ed7953"
                        ],
                        [
                          0.7777777777777778,
                          "#fb9f3a"
                        ],
                        [
                          0.8888888888888888,
                          "#fdca26"
                        ],
                        [
                          1,
                          "#f0f921"
                        ]
                      ]
                    },
                    "colorway": [
                      "#636efa",
                      "#EF553B",
                      "#00cc96",
                      "#ab63fa",
                      "#FFA15A",
                      "#19d3f3",
                      "#FF6692",
                      "#B6E880",
                      "#FF97FF",
                      "#FECB52"
                    ],
                    "font": {
                      "color": "#2a3f5f"
                    },
                    "geo": {
                      "bgcolor": "white",
                      "lakecolor": "white",
                      "landcolor": "#E5ECF6",
                      "showlakes": true,
                      "showland": true,
                      "subunitcolor": "white"
                    },
                    "hoverlabel": {
                      "align": "left"
                    },
                    "hovermode": "closest",
                    "mapbox": {
                      "style": "light"
                    },
                    "paper_bgcolor": "white",
                    "plot_bgcolor": "#E5ECF6",
                    "polar": {
                      "angularaxis": {
                        "gridcolor": "white",
                        "linecolor": "white",
                        "ticks": ""
                      },
                      "bgcolor": "#E5ECF6",
                      "radialaxis": {
                        "gridcolor": "white",
                        "linecolor": "white",
                        "ticks": ""
                      }
                    },
                    "scene": {
                      "xaxis": {
                        "backgroundcolor": "#E5ECF6",
                        "gridcolor": "white",
                        "gridwidth": 2,
                        "linecolor": "white",
                        "showbackground": true,
                        "ticks": "",
                        "zerolinecolor": "white"
                      },
                      "yaxis": {
                        "backgroundcolor": "#E5ECF6",
                        "gridcolor": "white",
                        "gridwidth": 2,
                        "linecolor": "white",
                        "showbackground": true,
                        "ticks": "",
                        "zerolinecolor": "white"
                      },
                      "zaxis": {
                        "backgroundcolor": "#E5ECF6",
                        "gridcolor": "white",
                        "gridwidth": 2,
                        "linecolor": "white",
                        "showbackground": true,
                        "ticks": "",
                        "zerolinecolor": "white"
                      }
                    },
                    "shapedefaults": {
                      "line": {
                        "color": "#2a3f5f"
                      }
                    },
                    "ternary": {
                      "aaxis": {
                        "gridcolor": "white",
                        "linecolor": "white",
                        "ticks": ""
                      },
                      "baxis": {
                        "gridcolor": "white",
                        "linecolor": "white",
                        "ticks": ""
                      },
                      "bgcolor": "#E5ECF6",
                      "caxis": {
                        "gridcolor": "white",
                        "linecolor": "white",
                        "ticks": ""
                      }
                    },
                    "title": {
                      "x": 0.05
                    },
                    "xaxis": {
                      "automargin": true,
                      "gridcolor": "white",
                      "linecolor": "white",
                      "ticks": "",
                      "title": {
                        "standoff": 15
                      },
                      "zerolinecolor": "white",
                      "zerolinewidth": 2
                    },
                    "yaxis": {
                      "automargin": true,
                      "gridcolor": "white",
                      "linecolor": "white",
                      "ticks": "",
                      "title": {
                        "standoff": 15
                      },
                      "zerolinecolor": "white",
                      "zerolinewidth": 2
                    }
                  }
                },
                "title": {
                  "text": "Compound Annual Growth vs. Time spent (Average investments per day)"
                },
                "xaxis": {
                  "anchor": "y",
                  "domain": [
                    0,
                    1
                  ],
                  "title": {
                    "text": "sim1_avg_investments_per_day"
                  }
                },
                "yaxis": {
                  "anchor": "x",
                  "domain": [
                    0,
                    1
                  ],
                  "title": {
                    "text": "sim1_CAGR"
                  }
                }
              }
            }
          },
          "metadata": {},
          "output_type": "display_data"
        }
      ],
      "source": [
        "# Create the scatter plot\n",
        "fig = px.scatter(\n",
        "    df_sim1_results.dropna(),\n",
        "    x='sim1_avg_investments_per_day',\n",
        "    y='sim1_CAGR',\n",
        "    size='sim1_growth_capital_4y',  # Use the 'size' parameter for sim1_CAGR\n",
        "    text='prediction',\n",
        "    title='Compound Annual Growth vs. Time spent (Average investments per day)',\n",
        "    labels={'sim1_capital': 'Initial Capital Requirement', 'growth_capital_4y': '4-Year Capital Growth'}\n",
        ")\n",
        "\n",
        "# Update the layout to improve readability of the annotations\n",
        "fig.update_traces(textposition='top center')\n",
        "\n",
        "# Show the plot\n",
        "fig.show()"
      ]
    }
  ],
  "metadata": {
    "colab": {
      "collapsed_sections": [
        "_Uu1B9NuqP8w"
      ],
      "provenance": []
    },
    "kernelspec": {
      "display_name": "Python 3",
      "name": "python3"
    },
    "language_info": {
      "codemirror_mode": {
        "name": "ipython",
        "version": 3
      },
      "file_extension": ".py",
      "mimetype": "text/x-python",
      "name": "python",
      "nbconvert_exporter": "python",
      "pygments_lexer": "ipython3",
      "version": "3.11.5"
    }
  },
  "nbformat": 4,
  "nbformat_minor": 0
}
