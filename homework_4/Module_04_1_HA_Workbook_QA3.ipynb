{
  "cells": [
    {
      "cell_type": "markdown",
      "metadata": {
        "id": "NgeNPyTWVVPj"
      },
      "source": [
        "# Imports and Installs"
      ]
    },
    {
      "cell_type": "code",
      "execution_count": 1,
      "metadata": {
        "colab": {
          "base_uri": "https://localhost:8080/"
        },
        "id": "ClEckHA-VPaj",
        "outputId": "fa484242-c30c-472c-9f46-64894e5527e5"
      },
      "outputs": [
        {
          "name": "stdout",
          "output_type": "stream",
          "text": [
            "Requirement already satisfied: yfinance in c:\\users\\rahul\\anaconda3\\lib\\site-packages (0.2.28)\n",
            "Requirement already satisfied: pandas>=1.3.0 in c:\\users\\rahul\\anaconda3\\lib\\site-packages (from yfinance) (2.1.1)\n",
            "Requirement already satisfied: numpy>=1.16.5 in c:\\users\\rahul\\anaconda3\\lib\\site-packages (from yfinance) (1.24.3)\n",
            "Requirement already satisfied: requests>=2.31 in c:\\users\\rahul\\anaconda3\\lib\\site-packages (from yfinance) (2.31.0)\n",
            "Requirement already satisfied: multitasking>=0.0.7 in c:\\users\\rahul\\anaconda3\\lib\\site-packages (from yfinance) (0.0.11)\n",
            "Requirement already satisfied: lxml>=4.9.1 in c:\\users\\rahul\\anaconda3\\lib\\site-packages (from yfinance) (4.9.2)\n",
            "Requirement already satisfied: appdirs>=1.4.4 in c:\\users\\rahul\\anaconda3\\lib\\site-packages (from yfinance) (1.4.4)\n",
            "Requirement already satisfied: pytz>=2022.5 in c:\\users\\rahul\\anaconda3\\lib\\site-packages (from yfinance) (2022.7)\n",
            "Requirement already satisfied: frozendict>=2.3.4 in c:\\users\\rahul\\anaconda3\\lib\\site-packages (from yfinance) (2.3.8)\n",
            "Requirement already satisfied: beautifulsoup4>=4.11.1 in c:\\users\\rahul\\appdata\\roaming\\python\\python311\\site-packages (from yfinance) (4.12.3)\n",
            "Requirement already satisfied: html5lib>=1.1 in c:\\users\\rahul\\anaconda3\\lib\\site-packages (from yfinance) (1.1)\n",
            "Requirement already satisfied: soupsieve>1.2 in c:\\users\\rahul\\appdata\\roaming\\python\\python311\\site-packages (from beautifulsoup4>=4.11.1->yfinance) (2.5)\n",
            "Requirement already satisfied: six>=1.9 in c:\\users\\rahul\\appdata\\roaming\\python\\python311\\site-packages (from html5lib>=1.1->yfinance) (1.16.0)\n",
            "Requirement already satisfied: webencodings in c:\\users\\rahul\\appdata\\roaming\\python\\python311\\site-packages (from html5lib>=1.1->yfinance) (0.5.1)\n",
            "Requirement already satisfied: python-dateutil>=2.8.2 in c:\\users\\rahul\\appdata\\roaming\\python\\python311\\site-packages (from pandas>=1.3.0->yfinance) (2.8.2)\n",
            "Requirement already satisfied: tzdata>=2022.1 in c:\\users\\rahul\\anaconda3\\lib\\site-packages (from pandas>=1.3.0->yfinance) (2023.3)\n",
            "Requirement already satisfied: charset-normalizer<4,>=2 in c:\\users\\rahul\\anaconda3\\lib\\site-packages (from requests>=2.31->yfinance) (2.0.4)\n",
            "Requirement already satisfied: idna<4,>=2.5 in c:\\users\\rahul\\anaconda3\\lib\\site-packages (from requests>=2.31->yfinance) (3.4)\n",
            "Requirement already satisfied: urllib3<3,>=1.21.1 in c:\\users\\rahul\\anaconda3\\lib\\site-packages (from requests>=2.31->yfinance) (1.26.16)\n",
            "Requirement already satisfied: certifi>=2017.4.17 in c:\\users\\rahul\\anaconda3\\lib\\site-packages (from requests>=2.31->yfinance) (2023.7.22)\n"
          ]
        }
      ],
      "source": [
        "!pip install yfinance"
      ]
    },
    {
      "cell_type": "code",
      "execution_count": 2,
      "metadata": {
        "colab": {
          "base_uri": "https://localhost:8080/"
        },
        "id": "vX1S1BHdVXyc",
        "outputId": "0ec844b6-2e3b-4d9a-eb60-f7c6f601b1a5"
      },
      "outputs": [
        {
          "name": "stdout",
          "output_type": "stream",
          "text": [
            "Found existing installation: gdown 5.2.0\n",
            "Uninstalling gdown-5.2.0:\n",
            "  Successfully uninstalled gdown-5.2.0\n",
            "Collecting gdown\n",
            "  Obtaining dependency information for gdown from https://files.pythonhosted.org/packages/54/70/e07c381e6488a77094f04c85c9caf1c8008cdc30778f7019bc52e5285ef0/gdown-5.2.0-py3-none-any.whl.metadata\n",
            "  Using cached gdown-5.2.0-py3-none-any.whl.metadata (5.8 kB)\n",
            "Requirement already satisfied: beautifulsoup4 in c:\\users\\rahul\\appdata\\roaming\\python\\python311\\site-packages (from gdown) (4.12.3)\n",
            "Requirement already satisfied: filelock in c:\\users\\rahul\\anaconda3\\lib\\site-packages (from gdown) (3.9.0)\n",
            "Requirement already satisfied: requests[socks] in c:\\users\\rahul\\anaconda3\\lib\\site-packages (from gdown) (2.31.0)\n",
            "Requirement already satisfied: tqdm in c:\\users\\rahul\\anaconda3\\lib\\site-packages (from gdown) (4.65.0)\n",
            "Requirement already satisfied: soupsieve>1.2 in c:\\users\\rahul\\appdata\\roaming\\python\\python311\\site-packages (from beautifulsoup4->gdown) (2.5)\n",
            "Requirement already satisfied: charset-normalizer<4,>=2 in c:\\users\\rahul\\anaconda3\\lib\\site-packages (from requests[socks]->gdown) (2.0.4)\n",
            "Requirement already satisfied: idna<4,>=2.5 in c:\\users\\rahul\\anaconda3\\lib\\site-packages (from requests[socks]->gdown) (3.4)\n",
            "Requirement already satisfied: urllib3<3,>=1.21.1 in c:\\users\\rahul\\anaconda3\\lib\\site-packages (from requests[socks]->gdown) (1.26.16)\n",
            "Requirement already satisfied: certifi>=2017.4.17 in c:\\users\\rahul\\anaconda3\\lib\\site-packages (from requests[socks]->gdown) (2023.7.22)\n",
            "Requirement already satisfied: PySocks!=1.5.7,>=1.5.6 in c:\\users\\rahul\\anaconda3\\lib\\site-packages (from requests[socks]->gdown) (1.7.1)\n",
            "Requirement already satisfied: colorama in c:\\users\\rahul\\appdata\\roaming\\python\\python311\\site-packages (from tqdm->gdown) (0.4.6)\n",
            "Using cached gdown-5.2.0-py3-none-any.whl (18 kB)\n",
            "Installing collected packages: gdown\n",
            "Successfully installed gdown-5.2.0\n",
            "gdown 5.2.0 at C:\\Users\\rahul\\anaconda3\\Lib\\site-packages\n"
          ]
        }
      ],
      "source": [
        "# read files shared via google-drive-link\n",
        "# https://stackoverflow.com/questions/62759748/downloading-data-from-a-shared-google-drive-link-in-google-colab\n",
        "\n",
        "!pip uninstall gdown -y && pip install gdown\n",
        "!gdown -V"
      ]
    },
    {
      "cell_type": "code",
      "execution_count": 3,
      "metadata": {
        "id": "ZqeDMHR9VamL"
      },
      "outputs": [],
      "source": [
        "# IMPORTS\n",
        "import numpy as np\n",
        "import pandas as pd\n",
        "\n",
        "#Fin Data Sources\n",
        "import yfinance as yf\n",
        "import pandas_datareader as pdr\n",
        "\n",
        "#Data viz\n",
        "import plotly.graph_objs as go\n",
        "import plotly.graph_objects as go\n",
        "import plotly.express as px\n",
        "import matplotlib.pyplot as plt\n",
        "import seaborn as sns\n",
        "\n",
        "# measure time for ML HyperParams search\n",
        "import time\n",
        "from datetime import date\n",
        "\n",
        "# ML models and utils\n",
        "from sklearn.tree import DecisionTreeClassifier\n",
        "from sklearn.ensemble import RandomForestClassifier\n",
        "from sklearn.metrics import accuracy_score\n",
        "from sklearn.metrics import precision_score\n",
        "\n",
        "# Disable SettingWithCopyWarning\n",
        "pd.options.mode.chained_assignment = None  # default='warn'"
      ]
    },
    {
      "cell_type": "markdown",
      "metadata": {
        "id": "Z3wOUBm4V0D_"
      },
      "source": [
        "# 0) One DataFrame with Dummies\n",
        "* including newly defined \"month-week_of_month\""
      ]
    },
    {
      "cell_type": "markdown",
      "metadata": {
        "id": "hdTaoVoPV35S"
      },
      "source": [
        "## 0.1) Read and truncate data (last 25 years from 2000), define variable sets\n"
      ]
    },
    {
      "cell_type": "code",
      "execution_count": 4,
      "metadata": {
        "colab": {
          "base_uri": "https://localhost:8080/"
        },
        "id": "saQHmUeAV1Dk",
        "outputId": "f197342a-08a3-4d38-eeb6-ddc70ff04809"
      },
      "outputs": [
        {
          "name": "stderr",
          "output_type": "stream",
          "text": [
            "Error:\n",
            "\n",
            "\t[WinError 3] The system cannot find the path specified: '/content'\n",
            "\n",
            "To report issues, please visit https://github.com/wkentaro/gdown/issues.\n"
          ]
        }
      ],
      "source": [
        "# # https://stackoverflow.com/questions/62759748/downloading-data-from-a-shared-google-drive-link-in-google-colab\n",
        "# # truncated data from Module 2: https://drive.google.com/file/d/1m3Qisfs2XfWk6Sw_Uk5kHLWqwQ0q8SKb/view?usp=sharing\n",
        "# !gdown https://drive.google.com/file/d/1kNWWPi49td0EZhmi6LzNCa2ssC5IUxHP/view?usp=sharing --fuzzy -O /content/"
      ]
    },
    {
      "cell_type": "code",
      "execution_count": 5,
      "metadata": {
        "id": "wO4EVPkTV5ze"
      },
      "outputs": [],
      "source": [
        "# truncated\n",
        "# df = pd.read_parquet(\"/content/stocks_df_combined_trunc_2014_2023.parquet.brotli\", )\n",
        "\n",
        "# full dataset for 33 stocks\n",
        "df_full = pd.read_parquet(\"stocks_df_combined_2024_05_07.parquet.brotli\", )"
      ]
    },
    {
      "cell_type": "code",
      "execution_count": 6,
      "metadata": {
        "colab": {
          "base_uri": "https://localhost:8080/"
        },
        "id": "535cuVR8V-DS",
        "outputId": "ca79e7e4-d9e3-4eb0-8420-3f9e3ab6ab7f"
      },
      "outputs": [
        {
          "name": "stdout",
          "output_type": "stream",
          "text": [
            "<class 'pandas.core.frame.DataFrame'>\n",
            "Index: 221142 entries, 0 to 5426\n",
            "Columns: 202 entries, Open to growth_btc_usd_365d\n",
            "dtypes: datetime64[ns](3), float64(128), int32(64), int64(5), object(2)\n",
            "memory usage: 288.5+ MB\n"
          ]
        }
      ],
      "source": [
        "df_full.info()"
      ]
    },
    {
      "cell_type": "code",
      "execution_count": 7,
      "metadata": {
        "colab": {
          "base_uri": "https://localhost:8080/"
        },
        "id": "dslxEREBV-RU",
        "outputId": "340b3afe-447a-4581-b0b0-9a7d6fecde54"
      },
      "outputs": [
        {
          "data": {
            "text/plain": [
              "['growth_1d',\n",
              " 'growth_3d',\n",
              " 'growth_7d',\n",
              " 'growth_30d',\n",
              " 'growth_90d',\n",
              " 'growth_365d',\n",
              " 'growth_dax_1d',\n",
              " 'growth_dax_3d',\n",
              " 'growth_dax_7d',\n",
              " 'growth_dax_30d',\n",
              " 'growth_dax_90d',\n",
              " 'growth_dax_365d',\n",
              " 'growth_snp500_1d',\n",
              " 'growth_snp500_3d',\n",
              " 'growth_snp500_7d',\n",
              " 'growth_snp500_30d',\n",
              " 'growth_snp500_90d',\n",
              " 'growth_snp500_365d',\n",
              " 'growth_dji_1d',\n",
              " 'growth_dji_3d',\n",
              " 'growth_dji_7d',\n",
              " 'growth_dji_30d',\n",
              " 'growth_dji_90d',\n",
              " 'growth_dji_365d',\n",
              " 'growth_epi_1d',\n",
              " 'growth_epi_3d',\n",
              " 'growth_epi_7d',\n",
              " 'growth_epi_30d',\n",
              " 'growth_epi_90d',\n",
              " 'growth_epi_365d',\n",
              " 'growth_gold_1d',\n",
              " 'growth_gold_3d',\n",
              " 'growth_gold_7d',\n",
              " 'growth_gold_30d',\n",
              " 'growth_gold_90d',\n",
              " 'growth_gold_365d',\n",
              " 'growth_wti_oil_1d',\n",
              " 'growth_wti_oil_3d',\n",
              " 'growth_wti_oil_7d',\n",
              " 'growth_wti_oil_30d',\n",
              " 'growth_wti_oil_90d',\n",
              " 'growth_wti_oil_365d',\n",
              " 'growth_brent_oil_1d',\n",
              " 'growth_brent_oil_3d',\n",
              " 'growth_brent_oil_7d',\n",
              " 'growth_brent_oil_30d',\n",
              " 'growth_brent_oil_90d',\n",
              " 'growth_brent_oil_365d',\n",
              " 'growth_btc_usd_1d',\n",
              " 'growth_btc_usd_3d',\n",
              " 'growth_btc_usd_7d',\n",
              " 'growth_btc_usd_30d',\n",
              " 'growth_btc_usd_90d',\n",
              " 'growth_btc_usd_365d']"
            ]
          },
          "execution_count": 7,
          "metadata": {},
          "output_type": "execute_result"
        }
      ],
      "source": [
        "# growth indicators (but not future growth)\n",
        "GROWTH = [g for g in df_full.keys() if (g.find('growth_')==0)&(g.find('future')<0)]\n",
        "GROWTH"
      ]
    },
    {
      "cell_type": "code",
      "execution_count": 8,
      "metadata": {
        "id": "OhBqWGM6WAfs"
      },
      "outputs": [],
      "source": [
        "# leaving only Volume ==> generate ln(Volume)\n",
        "OHLCV = ['Open','High','Low','Close','Adj Close_x','Volume']"
      ]
    },
    {
      "cell_type": "code",
      "execution_count": 9,
      "metadata": {
        "id": "_ip2ve25WCvM"
      },
      "outputs": [],
      "source": [
        "CATEGORICAL = ['Month', 'Weekday', 'Ticker', 'ticker_type']"
      ]
    },
    {
      "cell_type": "code",
      "execution_count": 10,
      "metadata": {
        "colab": {
          "base_uri": "https://localhost:8080/"
        },
        "id": "pPn7cWXvi4SB",
        "outputId": "da85a17a-4dac-415a-b32b-24a9f036054b"
      },
      "outputs": [
        {
          "data": {
            "text/plain": [
              "count    220977.000000\n",
              "mean          1.004630\n",
              "std           0.051592\n",
              "min           0.412383\n",
              "25%           0.979594\n",
              "50%           1.003802\n",
              "75%           1.028273\n",
              "max           3.018887\n",
              "Name: growth_future_5d, dtype: float64"
            ]
          },
          "execution_count": 10,
          "metadata": {},
          "output_type": "execute_result"
        }
      ],
      "source": [
        "df_full.growth_future_5d.describe()"
      ]
    },
    {
      "cell_type": "code",
      "execution_count": 11,
      "metadata": {
        "colab": {
          "base_uri": "https://localhost:8080/"
        },
        "id": "SLUhJQ79jlse",
        "outputId": "26437aa0-0ac4-46dc-ef96-cd1c05df7926"
      },
      "outputs": [
        {
          "data": {
            "text/plain": [
              "0.5411319423718697"
            ]
          },
          "execution_count": 11,
          "metadata": {},
          "output_type": "execute_result"
        }
      ],
      "source": [
        "# 54% of data records have positive future growth>0\n",
        "df_full.is_positive_growth_5d_future.mean()"
      ]
    },
    {
      "cell_type": "code",
      "execution_count": 12,
      "metadata": {
        "colab": {
          "base_uri": "https://localhost:8080/"
        },
        "id": "Mf_eMiRVjGHE",
        "outputId": "50a6d314-15e5-46ee-9fcc-b80866d39339"
      },
      "outputs": [
        {
          "data": {
            "text/plain": [
              "1.0202201074172228"
            ]
          },
          "execution_count": 12,
          "metadata": {},
          "output_type": "execute_result"
        }
      ],
      "source": [
        "# moving to strong growth (54% -> ~ 32%)\n",
        "df_full.growth_future_5d.quantile(0.68)"
      ]
    },
    {
      "cell_type": "code",
      "execution_count": 13,
      "metadata": {
        "id": "8imLlR6JdwTE"
      },
      "outputs": [],
      "source": [
        "# TODO HA4 Q3: Define a new variable 'is_strong_positive_growth_5d_future' according to the task\n",
        "#  it will be automatically added the the list TO_PREDICT\n",
        "df_full['is_strong_positive_growth_5d_future'] = (df_full.growth_future_5d>1.02).astype(int)"
      ]
    },
    {
      "cell_type": "code",
      "execution_count": 14,
      "metadata": {
        "colab": {
          "base_uri": "https://localhost:8080/"
        },
        "id": "bbXsoQBRWDp8",
        "outputId": "69da976e-1b6a-4619-eb04-37e5237b1a1c"
      },
      "outputs": [
        {
          "data": {
            "text/plain": [
              "['growth_future_5d',\n",
              " 'is_positive_growth_5d_future',\n",
              " 'is_strong_positive_growth_5d_future']"
            ]
          },
          "execution_count": 14,
          "metadata": {},
          "output_type": "execute_result"
        }
      ],
      "source": [
        "TO_PREDICT = [g for g in df_full.keys() if (g.find('future')>=0)]\n",
        "TO_PREDICT"
      ]
    },
    {
      "cell_type": "code",
      "execution_count": 15,
      "metadata": {
        "colab": {
          "base_uri": "https://localhost:8080/"
        },
        "id": "7CbNbrJdWFQc",
        "outputId": "c9b714ad-a188-4aa2-c2a8-686e3f6fea0b"
      },
      "outputs": [
        {
          "data": {
            "text/plain": [
              "['Year',\n",
              " 'Date',\n",
              " 'index_x',\n",
              " 'index_y',\n",
              " 'index',\n",
              " 'Quarter',\n",
              " 'Adj Close_y',\n",
              " 'Month',\n",
              " 'Weekday',\n",
              " 'Ticker',\n",
              " 'ticker_type',\n",
              " 'Open',\n",
              " 'High',\n",
              " 'Low',\n",
              " 'Close',\n",
              " 'Adj Close_x',\n",
              " 'Volume']"
            ]
          },
          "execution_count": 15,
          "metadata": {},
          "output_type": "execute_result"
        }
      ],
      "source": [
        "TO_DROP = ['Year','Date','index_x', 'index_y', 'index', 'Quarter','Adj Close_y'] + CATEGORICAL + OHLCV\n",
        "TO_DROP"
      ]
    },
    {
      "cell_type": "code",
      "execution_count": 16,
      "metadata": {
        "id": "CNc5uwyFWG3M"
      },
      "outputs": [
        {
          "name": "stderr",
          "output_type": "stream",
          "text": [
            "C:\\Users\\rahul\\AppData\\Local\\Temp\\ipykernel_51624\\2841410488.py:2: RuntimeWarning: divide by zero encountered in log\n",
            "  df_full['ln_volume'] = df_full.Volume.apply(lambda x: np.log(x))\n"
          ]
        }
      ],
      "source": [
        "# let's define on more custom numerical features\n",
        "df_full['ln_volume'] = df_full.Volume.apply(lambda x: np.log(x))"
      ]
    },
    {
      "cell_type": "code",
      "execution_count": 17,
      "metadata": {
        "id": "XC4T9xLmWJa7"
      },
      "outputs": [],
      "source": [
        "# manually defined features\n",
        "CUSTOM_NUMERICAL = ['SMA10', 'SMA20', 'growing_moving_average', 'high_minus_low_relative','volatility', 'ln_volume']"
      ]
    },
    {
      "cell_type": "code",
      "execution_count": 18,
      "metadata": {
        "id": "C41u7lvzWLJE"
      },
      "outputs": [],
      "source": [
        "# All Supported Ta-lib indicators: https://github.com/TA-Lib/ta-lib-python/blob/master/docs/funcs.md\n",
        "\n",
        "TECHNICAL_INDICATORS = ['adx', 'adxr', 'apo', 'aroon_1','aroon_2', 'aroonosc',\n",
        " 'bop', 'cci', 'cmo','dx', 'macd', 'macdsignal', 'macdhist', 'macd_ext',\n",
        " 'macdsignal_ext', 'macdhist_ext', 'macd_fix', 'macdsignal_fix',\n",
        " 'macdhist_fix', 'mfi', 'minus_di', 'mom', 'plus_di', 'dm', 'ppo',\n",
        " 'roc', 'rocp', 'rocr', 'rocr100', 'rsi', 'slowk', 'slowd', 'fastk',\n",
        " 'fastd', 'fastk_rsi', 'fastd_rsi', 'trix', 'ultosc', 'willr',\n",
        " 'ad', 'adosc', 'obv', 'atr', 'natr', 'ht_dcperiod', 'ht_dcphase',\n",
        " 'ht_phasor_inphase', 'ht_phasor_quadrature', 'ht_sine_sine', 'ht_sine_leadsine',\n",
        " 'ht_trendmod', 'avgprice', 'medprice', 'typprice', 'wclprice']"
      ]
    },
    {
      "cell_type": "code",
      "execution_count": 19,
      "metadata": {
        "colab": {
          "base_uri": "https://localhost:8080/"
        },
        "id": "9sNnG3eIWM9r",
        "outputId": "3fb62b2e-352a-43e9-fea6-12c32eec9979"
      },
      "outputs": [
        {
          "name": "stdout",
          "output_type": "stream",
          "text": [
            "Technical patterns count = 61, examples = ['cdl2crows', 'cdl3blackrows', 'cdl3inside', 'cdl3linestrike', 'cdl3outside']\n"
          ]
        }
      ],
      "source": [
        "TECHNICAL_PATTERNS = [g for g in df_full.keys() if g.find('cdl')>=0]\n",
        "print(f'Technical patterns count = {len(TECHNICAL_PATTERNS)}, examples = {TECHNICAL_PATTERNS[0:5]}')"
      ]
    },
    {
      "cell_type": "code",
      "execution_count": 20,
      "metadata": {
        "id": "6rBloicrWOYL"
      },
      "outputs": [],
      "source": [
        "MACRO = ['gdppot_us_yoy', 'gdppot_us_qoq', 'cpi_core_yoy', 'cpi_core_mom', 'FEDFUNDS',\n",
        " 'DGS1', 'DGS5', 'DGS10']"
      ]
    },
    {
      "cell_type": "code",
      "execution_count": 21,
      "metadata": {
        "id": "t_e3W8kRWQRr"
      },
      "outputs": [],
      "source": [
        "NUMERICAL = GROWTH + TECHNICAL_INDICATORS + TECHNICAL_PATTERNS + CUSTOM_NUMERICAL + MACRO"
      ]
    },
    {
      "cell_type": "code",
      "execution_count": 22,
      "metadata": {
        "colab": {
          "base_uri": "https://localhost:8080/"
        },
        "id": "QAK0EbpDWRK7",
        "outputId": "faaa12a2-2b74-496e-f59b-f0b666137195"
      },
      "outputs": [
        {
          "data": {
            "text/plain": [
              "[]"
            ]
          },
          "execution_count": 22,
          "metadata": {},
          "output_type": "execute_result"
        }
      ],
      "source": [
        "# CHECK: NO OTHER INDICATORS LEFT\n",
        "OTHER = [k for k in df_full.keys() if k not in OHLCV + CATEGORICAL + NUMERICAL + TO_DROP + TO_PREDICT]\n",
        "OTHER"
      ]
    },
    {
      "cell_type": "code",
      "execution_count": 23,
      "metadata": {
        "colab": {
          "base_uri": "https://localhost:8080/"
        },
        "id": "x-WWdNqjWSY7",
        "outputId": "02226820-b409-4ae0-b555-96ac21212aa2"
      },
      "outputs": [
        {
          "data": {
            "text/plain": [
              "33"
            ]
          },
          "execution_count": 23,
          "metadata": {},
          "output_type": "execute_result"
        }
      ],
      "source": [
        "df_full.Ticker.nunique()"
      ]
    },
    {
      "cell_type": "code",
      "execution_count": 24,
      "metadata": {
        "colab": {
          "base_uri": "https://localhost:8080/"
        },
        "id": "_44ozBryWTmD",
        "outputId": "c2a74e8b-b01c-4cae-c2fb-c52724ac7b71"
      },
      "outputs": [
        {
          "name": "stdout",
          "output_type": "stream",
          "text": [
            "<class 'pandas.core.frame.DataFrame'>\n",
            "Index: 182675 entries, 3490 to 5426\n",
            "Columns: 204 entries, Open to ln_volume\n",
            "dtypes: datetime64[ns](3), float64(129), int32(65), int64(5), object(2)\n",
            "memory usage: 240.4+ MB\n"
          ]
        }
      ],
      "source": [
        "# truncated df_full with 25 years of data (and defined growth variables)\n",
        "df = df_full[df_full.Date>='2000-01-01']\n",
        "df.info()"
      ]
    },
    {
      "cell_type": "markdown",
      "metadata": {
        "id": "pDASl99NXU5e"
      },
      "source": [
        "## 0.2) Dummies"
      ]
    },
    {
      "cell_type": "code",
      "execution_count": 25,
      "metadata": {
        "id": "CaRSY88HWU-D"
      },
      "outputs": [],
      "source": [
        "# dummy variables can't be generated from Date and numeric variables ==> convert to STRING (to define groups for Dummies)\n",
        "df.loc[:,'Month'] = df.Month.dt.strftime('%B')\n",
        "df.loc[:,'Weekday'] = df.Weekday.astype(str)"
      ]
    },
    {
      "cell_type": "markdown",
      "metadata": {
        "id": "qSRpQdx8Y97_"
      },
      "source": [
        "### 0.2.1) Create a new string column 'month_wom' (month_week_of_month)"
      ]
    },
    {
      "cell_type": "code",
      "execution_count": 26,
      "metadata": {
        "id": "6DQAmZvUXXLe"
      },
      "outputs": [],
      "source": [
        "# define week of month\n",
        "df.loc[:,'wom'] = df.Date.apply(lambda d: (d.day-1)//7 + 1)\n",
        "# convert to string\n",
        "df.loc[:,'wom'] = df.loc[:,'wom'].astype(str)"
      ]
    },
    {
      "cell_type": "code",
      "execution_count": 27,
      "metadata": {
        "colab": {
          "base_uri": "https://localhost:8080/"
        },
        "id": "C5FL1MRVXjgr",
        "outputId": "3929291e-7d4c-48c5-f4c4-bb0c66748481"
      },
      "outputs": [
        {
          "data": {
            "text/plain": [
              "wom\n",
              "2    42817\n",
              "3    42007\n",
              "4    41715\n",
              "1    41490\n",
              "5    14646\n",
              "Name: count, dtype: int64"
            ]
          },
          "execution_count": 27,
          "metadata": {},
          "output_type": "execute_result"
        }
      ],
      "source": [
        "# check values for week-of-month (should be between 1 and 5)\n",
        "df.wom.value_counts()"
      ]
    },
    {
      "cell_type": "code",
      "execution_count": 28,
      "metadata": {
        "id": "EugKIiAwXkqN"
      },
      "outputs": [],
      "source": [
        "df.loc[:,'month_wom'] = df.Month + '_w' + df.wom"
      ]
    },
    {
      "cell_type": "code",
      "execution_count": 29,
      "metadata": {
        "colab": {
          "base_uri": "https://localhost:8080/"
        },
        "id": "31WAyGcEXmHt",
        "outputId": "87829434-3ec5-42cc-af85-7b403d2db717"
      },
      "outputs": [
        {
          "data": {
            "text/plain": [
              "month_wom\n",
              "February_w1    3705\n",
              "January_w2     3686\n",
              "Name: count, dtype: int64"
            ]
          },
          "execution_count": 29,
          "metadata": {},
          "output_type": "execute_result"
        }
      ],
      "source": [
        "# examples of encoding\n",
        "df.month_wom.value_counts()[0:2]"
      ]
    },
    {
      "cell_type": "code",
      "execution_count": 30,
      "metadata": {
        "id": "Yu8tCw_lXnXd"
      },
      "outputs": [],
      "source": [
        "# del wom temp variable\n",
        "del df['wom']"
      ]
    },
    {
      "cell_type": "markdown",
      "metadata": {
        "id": "-oaBtlVfZBhV"
      },
      "source": [
        "### 0.2.2) Generate all dummies"
      ]
    },
    {
      "cell_type": "code",
      "execution_count": 31,
      "metadata": {
        "colab": {
          "base_uri": "https://localhost:8080/"
        },
        "id": "69ep2F0mXpN8",
        "outputId": "b88eb7f4-f751-4a7b-9c46-467475cbc157"
      },
      "outputs": [
        {
          "data": {
            "text/plain": [
              "['Month', 'Weekday', 'Ticker', 'ticker_type', 'month_wom']"
            ]
          },
          "execution_count": 31,
          "metadata": {},
          "output_type": "execute_result"
        }
      ],
      "source": [
        "# what are the categorical features?\n",
        "CATEGORICAL.append('month_wom')\n",
        "CATEGORICAL"
      ]
    },
    {
      "cell_type": "code",
      "execution_count": 32,
      "metadata": {
        "id": "vmC3oav8ZGHJ"
      },
      "outputs": [],
      "source": [
        "# Generate dummy variables (no need for bool, let's have int32 instead)\n",
        "dummy_variables = pd.get_dummies(df[CATEGORICAL], dtype='int32')"
      ]
    },
    {
      "cell_type": "code",
      "execution_count": 33,
      "metadata": {
        "colab": {
          "base_uri": "https://localhost:8080/"
        },
        "id": "oY0lIQZhZHOU",
        "outputId": "5b08fa03-35f2-4672-d01b-a88a3a4b2322"
      },
      "outputs": [
        {
          "name": "stdout",
          "output_type": "stream",
          "text": [
            "<class 'pandas.core.frame.DataFrame'>\n",
            "Index: 182675 entries, 3490 to 5426\n",
            "Columns: 115 entries, Month_April to month_wom_September_w5\n",
            "dtypes: int32(115)\n",
            "memory usage: 81.5 MB\n"
          ]
        }
      ],
      "source": [
        "dummy_variables.info()"
      ]
    },
    {
      "cell_type": "code",
      "execution_count": 34,
      "metadata": {
        "colab": {
          "base_uri": "https://localhost:8080/"
        },
        "id": "oLhfvOTSZIok",
        "outputId": "75248f05-0754-4c01-9d6e-0cf1dd31980b"
      },
      "outputs": [
        {
          "data": {
            "text/plain": [
              "['Month_April',\n",
              " 'Month_August',\n",
              " 'Month_December',\n",
              " 'Month_February',\n",
              " 'Month_January',\n",
              " 'Month_July',\n",
              " 'Month_June',\n",
              " 'Month_March',\n",
              " 'Month_May',\n",
              " 'Month_November',\n",
              " 'Month_October',\n",
              " 'Month_September',\n",
              " 'Weekday_0',\n",
              " 'Weekday_1',\n",
              " 'Weekday_2',\n",
              " 'Weekday_3',\n",
              " 'Weekday_4',\n",
              " 'Weekday_5',\n",
              " 'Weekday_6',\n",
              " 'Ticker_AAPL',\n",
              " 'Ticker_ACN',\n",
              " 'Ticker_AMZN',\n",
              " 'Ticker_ASML',\n",
              " 'Ticker_AVGO',\n",
              " 'Ticker_BHARTIARTL.NS',\n",
              " 'Ticker_BRK-B',\n",
              " 'Ticker_CDI.PA',\n",
              " 'Ticker_GOOG',\n",
              " 'Ticker_HDB',\n",
              " 'Ticker_HINDUNILVR.NS',\n",
              " 'Ticker_IBN',\n",
              " 'Ticker_IDEXY',\n",
              " 'Ticker_INFY',\n",
              " 'Ticker_ITC.NS',\n",
              " 'Ticker_JPM',\n",
              " 'Ticker_LICI.NS',\n",
              " 'Ticker_LLY',\n",
              " 'Ticker_LT.NS',\n",
              " 'Ticker_MC.PA',\n",
              " 'Ticker_META',\n",
              " 'Ticker_MSFT',\n",
              " 'Ticker_NVDA',\n",
              " 'Ticker_NVO',\n",
              " 'Ticker_OR.PA',\n",
              " 'Ticker_RELIANCE.NS',\n",
              " 'Ticker_RMS.PA',\n",
              " 'Ticker_SAP',\n",
              " 'Ticker_SBIN.NS',\n",
              " 'Ticker_SIE.DE',\n",
              " 'Ticker_TCS.NS',\n",
              " 'Ticker_TTE',\n",
              " 'Ticker_V',\n",
              " 'ticker_type_EU',\n",
              " 'ticker_type_INDIA',\n",
              " 'ticker_type_US',\n",
              " 'month_wom_April_w1',\n",
              " 'month_wom_April_w2',\n",
              " 'month_wom_April_w3',\n",
              " 'month_wom_April_w4',\n",
              " 'month_wom_April_w5',\n",
              " 'month_wom_August_w1',\n",
              " 'month_wom_August_w2',\n",
              " 'month_wom_August_w3',\n",
              " 'month_wom_August_w4',\n",
              " 'month_wom_August_w5',\n",
              " 'month_wom_December_w1',\n",
              " 'month_wom_December_w2',\n",
              " 'month_wom_December_w3',\n",
              " 'month_wom_December_w4',\n",
              " 'month_wom_December_w5',\n",
              " 'month_wom_February_w1',\n",
              " 'month_wom_February_w2',\n",
              " 'month_wom_February_w3',\n",
              " 'month_wom_February_w4',\n",
              " 'month_wom_February_w5',\n",
              " 'month_wom_January_w1',\n",
              " 'month_wom_January_w2',\n",
              " 'month_wom_January_w3',\n",
              " 'month_wom_January_w4',\n",
              " 'month_wom_January_w5',\n",
              " 'month_wom_July_w1',\n",
              " 'month_wom_July_w2',\n",
              " 'month_wom_July_w3',\n",
              " 'month_wom_July_w4',\n",
              " 'month_wom_July_w5',\n",
              " 'month_wom_June_w1',\n",
              " 'month_wom_June_w2',\n",
              " 'month_wom_June_w3',\n",
              " 'month_wom_June_w4',\n",
              " 'month_wom_June_w5',\n",
              " 'month_wom_March_w1',\n",
              " 'month_wom_March_w2',\n",
              " 'month_wom_March_w3',\n",
              " 'month_wom_March_w4',\n",
              " 'month_wom_March_w5',\n",
              " 'month_wom_May_w1',\n",
              " 'month_wom_May_w2',\n",
              " 'month_wom_May_w3',\n",
              " 'month_wom_May_w4',\n",
              " 'month_wom_May_w5',\n",
              " 'month_wom_November_w1',\n",
              " 'month_wom_November_w2',\n",
              " 'month_wom_November_w3',\n",
              " 'month_wom_November_w4',\n",
              " 'month_wom_November_w5',\n",
              " 'month_wom_October_w1',\n",
              " 'month_wom_October_w2',\n",
              " 'month_wom_October_w3',\n",
              " 'month_wom_October_w4',\n",
              " 'month_wom_October_w5',\n",
              " 'month_wom_September_w1',\n",
              " 'month_wom_September_w2',\n",
              " 'month_wom_September_w3',\n",
              " 'month_wom_September_w4',\n",
              " 'month_wom_September_w5']"
            ]
          },
          "execution_count": 34,
          "metadata": {},
          "output_type": "execute_result"
        }
      ],
      "source": [
        "# get dummies names in a list\n",
        "DUMMIES = dummy_variables.keys().to_list()\n",
        "DUMMIES"
      ]
    },
    {
      "cell_type": "code",
      "execution_count": 35,
      "metadata": {
        "colab": {
          "base_uri": "https://localhost:8080/"
        },
        "id": "6tOjmWbYZ4-R",
        "outputId": "6d1f1c30-a599-45ac-bb92-58d135648e1b"
      },
      "outputs": [
        {
          "data": {
            "text/plain": [
              "115"
            ]
          },
          "execution_count": 35,
          "metadata": {},
          "output_type": "execute_result"
        }
      ],
      "source": [
        "len(DUMMIES)"
      ]
    },
    {
      "cell_type": "code",
      "execution_count": 36,
      "metadata": {
        "id": "ue-ErnKBZ6XZ"
      },
      "outputs": [],
      "source": [
        "# Concatenate the dummy variables with the original DataFrame\n",
        "df_with_dummies = pd.concat([df, dummy_variables], axis=1)"
      ]
    },
    {
      "cell_type": "code",
      "execution_count": 37,
      "metadata": {
        "colab": {
          "base_uri": "https://localhost:8080/"
        },
        "id": "eSYdvRh_Z8Kq",
        "outputId": "bb05218d-4668-47a4-c5fb-f0c8e4476c05"
      },
      "outputs": [
        {
          "name": "stdout",
          "output_type": "stream",
          "text": [
            "<class 'pandas.core.frame.DataFrame'>\n",
            "Index: 182675 entries, 3490 to 5426\n",
            "Columns: 299 entries, growth_1d to month_wom_September_w5\n",
            "dtypes: float64(121), int32(177), int64(1)\n",
            "memory usage: 294.8 MB\n"
          ]
        }
      ],
      "source": [
        "df_with_dummies[NUMERICAL+DUMMIES].info()"
      ]
    },
    {
      "cell_type": "markdown",
      "metadata": {
        "id": "P5Yx6gCfZP0A"
      },
      "source": [
        "### 0.2.3 Define \"DUMMIES_SHORT\""
      ]
    },
    {
      "cell_type": "code",
      "execution_count": 38,
      "metadata": {
        "id": "csXwAWouZWJE"
      },
      "outputs": [],
      "source": [
        "# TODO HA4 Q2: Define DUMMIES_SHORT from DUMMIES -- all elements: without month_* and Ticker_*\n",
        "DUMMIES_SHORT=[]"
      ]
    },
    {
      "cell_type": "code",
      "execution_count": 39,
      "metadata": {
        "colab": {
          "base_uri": "https://localhost:8080/"
        },
        "id": "lVK6iJMcdAQX",
        "outputId": "e6a46a05-80ce-4bce-9046-12a3b81646b1"
      },
      "outputs": [
        {
          "name": "stdout",
          "output_type": "stream",
          "text": [
            "<class 'pandas.core.frame.DataFrame'>\n",
            "Index: 182675 entries, 3490 to 5426\n",
            "Columns: 184 entries, growth_1d to DGS10\n",
            "dtypes: float64(121), int32(62), int64(1)\n",
            "memory usage: 214.6 MB\n"
          ]
        }
      ],
      "source": [
        "# now check the size of the dataset\n",
        "df_with_dummies[NUMERICAL+DUMMIES_SHORT].info()"
      ]
    },
    {
      "cell_type": "markdown",
      "metadata": {
        "id": "4PlNTgNRZqKE"
      },
      "source": [
        "### 0.2.4) Temporal split"
      ]
    },
    {
      "cell_type": "code",
      "execution_count": 42,
      "metadata": {
        "id": "JgKjTey_Ztao"
      },
      "outputs": [],
      "source": [
        "def temporal_split(df, min_date, max_date, train_prop=0.7, val_prop=0.15, test_prop=0.15):\n",
        "    \"\"\"\n",
        "    Splits a DataFrame into three buckets based on the temporal order of the 'Date' column.\n",
        "\n",
        "    Args:\n",
        "        df (DataFrame): The DataFrame to split.\n",
        "        min_date (str or Timestamp): Minimum date in the DataFrame.\n",
        "        max_date (str or Timestamp): Maximum date in the DataFrame.\n",
        "        train_prop (float): Proportion of data for training set (default: 0.7).\n",
        "        val_prop (float): Proportion of data for validation set (default: 0.15).\n",
        "        test_prop (float): Proportion of data for test set (default: 0.15).\n",
        "\n",
        "    Returns:\n",
        "        DataFrame: The input DataFrame with a new column 'split' indicating the split for each row.\n",
        "    \"\"\"\n",
        "    # Define the date intervals\n",
        "    train_end = min_date + pd.Timedelta(days=(max_date - min_date).days * train_prop)\n",
        "    val_end = train_end + pd.Timedelta(days=(max_date - min_date).days * val_prop)\n",
        "\n",
        "    # Assign split labels based on date ranges\n",
        "    split_labels = []\n",
        "    for date in df['Date']:\n",
        "        if date <= train_end:\n",
        "            split_labels.append('train')\n",
        "        elif date <= val_end:\n",
        "            split_labels.append('validation')\n",
        "        else:\n",
        "            split_labels.append('test')\n",
        "\n",
        "    # Add 'split' column to the DataFrame\n",
        "    df['split'] = split_labels\n",
        "\n",
        "    return df"
      ]
    },
    {
      "cell_type": "code",
      "execution_count": 43,
      "metadata": {
        "id": "uxEHgYXSZyQr"
      },
      "outputs": [],
      "source": [
        "min_date_df = df_with_dummies.Date.min()\n",
        "max_date_df = df_with_dummies.Date.max()\n",
        "\n",
        "df_with_dummies = temporal_split(df_with_dummies,\n",
        "                                 min_date = min_date_df,\n",
        "                                 max_date = max_date_df)"
      ]
    },
    {
      "cell_type": "code",
      "execution_count": 44,
      "metadata": {
        "colab": {
          "base_uri": "https://localhost:8080/"
        },
        "id": "Tr-hylcUcxrp",
        "outputId": "8d498158-e175-4f01-f566-2368f55d1b9e"
      },
      "outputs": [
        {
          "data": {
            "text/plain": [
              "split\n",
              "train         0.675834\n",
              "test          0.163290\n",
              "validation    0.160876\n",
              "Name: count, dtype: float64"
            ]
          },
          "execution_count": 44,
          "metadata": {},
          "output_type": "execute_result"
        }
      ],
      "source": [
        "# the split is approximate!\n",
        "  # as tickers can have a different history\n",
        "df_with_dummies['split'].value_counts()/len(df_with_dummies)"
      ]
    },
    {
      "cell_type": "code",
      "execution_count": 45,
      "metadata": {
        "id": "Y4cIgjawcx5J"
      },
      "outputs": [],
      "source": [
        "# remove the \"segmentation\" problem (warning message on df performance after many joins and data transformations)\n",
        "new_df = df_with_dummies.copy()"
      ]
    },
    {
      "cell_type": "code",
      "execution_count": 46,
      "metadata": {
        "colab": {
          "base_uri": "https://localhost:8080/",
          "height": 173
        },
        "id": "0Q7X54t2dXAY",
        "outputId": "de3e4646-eddc-4b9a-8e19-5c10bf1f3006"
      },
      "outputs": [
        {
          "data": {
            "text/html": [
              "<div>\n",
              "<style scoped>\n",
              "    .dataframe tbody tr th:only-of-type {\n",
              "        vertical-align: middle;\n",
              "    }\n",
              "\n",
              "    .dataframe tbody tr th {\n",
              "        vertical-align: top;\n",
              "    }\n",
              "\n",
              "    .dataframe thead th {\n",
              "        text-align: right;\n",
              "    }\n",
              "</style>\n",
              "<table border=\"1\" class=\"dataframe\">\n",
              "  <thead>\n",
              "    <tr style=\"text-align: right;\">\n",
              "      <th></th>\n",
              "      <th>count</th>\n",
              "      <th>min</th>\n",
              "      <th>max</th>\n",
              "    </tr>\n",
              "    <tr>\n",
              "      <th>split</th>\n",
              "      <th></th>\n",
              "      <th></th>\n",
              "      <th></th>\n",
              "    </tr>\n",
              "  </thead>\n",
              "  <tbody>\n",
              "    <tr>\n",
              "      <th>test</th>\n",
              "      <td>29829</td>\n",
              "      <td>2020-09-14</td>\n",
              "      <td>2024-05-07</td>\n",
              "    </tr>\n",
              "    <tr>\n",
              "      <th>train</th>\n",
              "      <td>123458</td>\n",
              "      <td>2000-01-03</td>\n",
              "      <td>2017-01-16</td>\n",
              "    </tr>\n",
              "    <tr>\n",
              "      <th>validation</th>\n",
              "      <td>29388</td>\n",
              "      <td>2017-01-17</td>\n",
              "      <td>2020-09-11</td>\n",
              "    </tr>\n",
              "  </tbody>\n",
              "</table>\n",
              "</div>"
            ],
            "text/plain": [
              "             count        min        max\n",
              "split                                   \n",
              "test         29829 2020-09-14 2024-05-07\n",
              "train       123458 2000-01-03 2017-01-16\n",
              "validation   29388 2017-01-17 2020-09-11"
            ]
          },
          "execution_count": 46,
          "metadata": {},
          "output_type": "execute_result"
        }
      ],
      "source": [
        "# EXACT DATES for the split:\n",
        "# time split on train/validation/test: FIXED dates of split, approx. 70%, 15%, 15% split\n",
        "new_df.groupby(['split'])['Date'].agg({'min','max','count'})"
      ]
    },
    {
      "cell_type": "code",
      "execution_count": 47,
      "metadata": {
        "colab": {
          "base_uri": "https://localhost:8080/"
        },
        "id": "p4i13Gt6fRxn",
        "outputId": "a07dc4a4-1774-4c14-8b5b-7f7e3a3174d5"
      },
      "outputs": [
        {
          "name": "stdout",
          "output_type": "stream",
          "text": [
            "<class 'pandas.core.frame.DataFrame'>\n",
            "Index: 182675 entries, 3490 to 5426\n",
            "Columns: 321 entries, Open to split\n",
            "dtypes: datetime64[ns](2), float64(129), int32(179), int64(5), object(6)\n",
            "memory usage: 324.0+ MB\n"
          ]
        }
      ],
      "source": [
        "# Full dataframe (transformed and truncated to 25 years)\n",
        "new_df.info()"
      ]
    },
    {
      "cell_type": "code",
      "execution_count": 48,
      "metadata": {
        "colab": {
          "base_uri": "https://localhost:8080/",
          "height": 146
        },
        "id": "iJDIOFfNfVlx",
        "outputId": "b9917124-c186-42eb-8a72-988294285af7"
      },
      "outputs": [
        {
          "data": {
            "text/html": [
              "<div>\n",
              "<style scoped>\n",
              "    .dataframe tbody tr th:only-of-type {\n",
              "        vertical-align: middle;\n",
              "    }\n",
              "\n",
              "    .dataframe tbody tr th {\n",
              "        vertical-align: top;\n",
              "    }\n",
              "\n",
              "    .dataframe thead th {\n",
              "        text-align: right;\n",
              "    }\n",
              "</style>\n",
              "<table border=\"1\" class=\"dataframe\">\n",
              "  <thead>\n",
              "    <tr style=\"text-align: right;\">\n",
              "      <th></th>\n",
              "      <th>Open</th>\n",
              "      <th>High</th>\n",
              "      <th>Low</th>\n",
              "      <th>Close</th>\n",
              "      <th>Adj Close_x</th>\n",
              "      <th>Volume</th>\n",
              "      <th>Ticker</th>\n",
              "      <th>Year</th>\n",
              "      <th>Month</th>\n",
              "      <th>Weekday</th>\n",
              "      <th>...</th>\n",
              "      <th>month_wom_October_w2</th>\n",
              "      <th>month_wom_October_w3</th>\n",
              "      <th>month_wom_October_w4</th>\n",
              "      <th>month_wom_October_w5</th>\n",
              "      <th>month_wom_September_w1</th>\n",
              "      <th>month_wom_September_w2</th>\n",
              "      <th>month_wom_September_w3</th>\n",
              "      <th>month_wom_September_w4</th>\n",
              "      <th>month_wom_September_w5</th>\n",
              "      <th>split</th>\n",
              "    </tr>\n",
              "  </thead>\n",
              "  <tbody>\n",
              "    <tr>\n",
              "      <th>3490</th>\n",
              "      <td>58.6875</td>\n",
              "      <td>59.3125</td>\n",
              "      <td>56.0</td>\n",
              "      <td>58.28125</td>\n",
              "      <td>36.065567</td>\n",
              "      <td>53228400.0</td>\n",
              "      <td>MSFT</td>\n",
              "      <td>2000</td>\n",
              "      <td>January</td>\n",
              "      <td>0</td>\n",
              "      <td>...</td>\n",
              "      <td>0</td>\n",
              "      <td>0</td>\n",
              "      <td>0</td>\n",
              "      <td>0</td>\n",
              "      <td>0</td>\n",
              "      <td>0</td>\n",
              "      <td>0</td>\n",
              "      <td>0</td>\n",
              "      <td>0</td>\n",
              "      <td>train</td>\n",
              "    </tr>\n",
              "  </tbody>\n",
              "</table>\n",
              "<p>1 rows × 321 columns</p>\n",
              "</div>"
            ],
            "text/plain": [
              "         Open     High   Low     Close  Adj Close_x      Volume Ticker  Year  \\\n",
              "3490  58.6875  59.3125  56.0  58.28125    36.065567  53228400.0   MSFT  2000   \n",
              "\n",
              "        Month Weekday  ... month_wom_October_w2  month_wom_October_w3  \\\n",
              "3490  January       0  ...                    0                     0   \n",
              "\n",
              "      month_wom_October_w4  month_wom_October_w5  month_wom_September_w1  \\\n",
              "3490                     0                     0                       0   \n",
              "\n",
              "      month_wom_September_w2  month_wom_September_w3  month_wom_September_w4  \\\n",
              "3490                       0                       0                       0   \n",
              "\n",
              "      month_wom_September_w5  split  \n",
              "3490                       0  train  \n",
              "\n",
              "[1 rows x 321 columns]"
            ]
          },
          "execution_count": 48,
          "metadata": {},
          "output_type": "execute_result"
        }
      ],
      "source": [
        "# check one record: it has abs. values, text, and numbers\n",
        "new_df.head(1)"
      ]
    },
    {
      "cell_type": "code",
      "execution_count": 49,
      "metadata": {
        "colab": {
          "base_uri": "https://localhost:8080/",
          "height": 80
        },
        "id": "DxhUdHUgfY11",
        "outputId": "faddf158-af20-4481-ede6-f89170457c7c"
      },
      "outputs": [
        {
          "data": {
            "text/html": [
              "<div>\n",
              "<style scoped>\n",
              "    .dataframe tbody tr th:only-of-type {\n",
              "        vertical-align: middle;\n",
              "    }\n",
              "\n",
              "    .dataframe tbody tr th {\n",
              "        vertical-align: top;\n",
              "    }\n",
              "\n",
              "    .dataframe thead th {\n",
              "        text-align: right;\n",
              "    }\n",
              "</style>\n",
              "<table border=\"1\" class=\"dataframe\">\n",
              "  <thead>\n",
              "    <tr style=\"text-align: right;\">\n",
              "      <th></th>\n",
              "      <th>growth_future_5d</th>\n",
              "      <th>is_positive_growth_5d_future</th>\n",
              "      <th>is_strong_positive_growth_5d_future</th>\n",
              "    </tr>\n",
              "  </thead>\n",
              "  <tbody>\n",
              "    <tr>\n",
              "      <th>3490</th>\n",
              "      <td>0.963003</td>\n",
              "      <td>0</td>\n",
              "      <td>0</td>\n",
              "    </tr>\n",
              "  </tbody>\n",
              "</table>\n",
              "</div>"
            ],
            "text/plain": [
              "      growth_future_5d  is_positive_growth_5d_future  \\\n",
              "3490          0.963003                             0   \n",
              "\n",
              "      is_strong_positive_growth_5d_future  \n",
              "3490                                    0  "
            ]
          },
          "execution_count": 49,
          "metadata": {},
          "output_type": "execute_result"
        }
      ],
      "source": [
        "# what do we try to predict\n",
        "new_df[TO_PREDICT].head(1)"
      ]
    },
    {
      "cell_type": "markdown",
      "metadata": {
        "id": "iCOKbMCweoCo"
      },
      "source": [
        "### 0.2.5 Define dataframes for Modeling (ML) and cleane them"
      ]
    },
    {
      "cell_type": "code",
      "execution_count": 50,
      "metadata": {
        "colab": {
          "base_uri": "https://localhost:8080/"
        },
        "id": "ORY8KtcrNS0K",
        "outputId": "6038848c-4297-4953-bc03-00fee1e1615d"
      },
      "outputs": [
        {
          "name": "stdout",
          "output_type": "stream",
          "text": [
            "length: X_train (123458, 300),  X_validation (29388, 300), X_test (29829, 300), X_train_valid = (152846, 300),  all combined: X_all (182675, 300)\n"
          ]
        }
      ],
      "source": [
        "# Features to be used in predictions (incl. new dummies)\n",
        "\n",
        "# TODO HA4 Q2: use correct dummies here : DUMMIES_SHOR\n",
        "\n",
        "features_list = NUMERICAL+DUMMIES\n",
        "\n",
        "# What we're trying to predict?\n",
        "\n",
        "# TODO HA4 Q3: use correct feature to predict 'is_strong_positive_growth_5d_future'\n",
        "\n",
        "#to_predict = 'is_positive_growth_5d_future'\n",
        "to_predict = 'is_strong_positive_growth_5d_future'\n",
        "\n",
        "\n",
        "train_df = new_df[new_df.split.isin(['train'])].copy(deep=True)\n",
        "valid_df = new_df[new_df.split.isin(['validation'])].copy(deep=True)\n",
        "train_valid_df = new_df[new_df.split.isin(['train','validation'])].copy(deep=True)\n",
        "\n",
        "test_df =  new_df[new_df.split.isin(['test'])].copy(deep=True)\n",
        "\n",
        "# ONLY numerical Separate features and target variable for training and testing sets\n",
        "X_train = train_df[features_list+[to_predict]]\n",
        "X_valid = valid_df[features_list+[to_predict]]\n",
        "\n",
        "X_train_valid = train_valid_df[features_list+[to_predict]]\n",
        "\n",
        "X_test = test_df[features_list+[to_predict]]\n",
        "\n",
        "# this to be used for predictions and join to the original dataframe new_df\n",
        "X_all =  new_df[features_list+[to_predict]].copy(deep=True)\n",
        "\n",
        "print(f'length: X_train {X_train.shape},  X_validation {X_valid.shape}, X_test {X_test.shape}, X_train_valid = {X_train_valid.shape},  all combined: X_all {X_all.shape}')"
      ]
    },
    {
      "cell_type": "code",
      "execution_count": 51,
      "metadata": {
        "id": "VhpEOSemftan"
      },
      "outputs": [],
      "source": [
        "# Prepare a dataframe for ML:\n",
        "  # +-inf to NaN, all NaNs to 0s\n",
        "def clean_dataframe_from_inf_and_nan(df:pd.DataFrame):\n",
        "  df.replace([np.inf, -np.inf], np.nan, inplace=True)\n",
        "  df.fillna(0, inplace=True)\n",
        "  return df"
      ]
    },
    {
      "cell_type": "code",
      "execution_count": 52,
      "metadata": {
        "id": "V1l1jTnWf5BR"
      },
      "outputs": [],
      "source": [
        "# Clean from +-inf and NaNs:\n",
        "\n",
        "X_train = clean_dataframe_from_inf_and_nan(X_train)\n",
        "X_valid = clean_dataframe_from_inf_and_nan(X_valid)\n",
        "X_train_valid = clean_dataframe_from_inf_and_nan(X_train_valid)\n",
        "X_test = clean_dataframe_from_inf_and_nan(X_test)\n",
        "X_all = clean_dataframe_from_inf_and_nan(X_all)"
      ]
    },
    {
      "cell_type": "code",
      "execution_count": 53,
      "metadata": {
        "id": "Gyise-_BgGIr"
      },
      "outputs": [],
      "source": [
        "y_train = X_train[to_predict]\n",
        "\n",
        "y_valid = X_valid[to_predict]\n",
        "\n",
        "y_train_valid = X_train_valid[to_predict]\n",
        "y_test = X_test[to_predict]\n",
        "y_all =  X_all[to_predict]\n",
        "\n",
        "# remove y_train, y_test from X_ dataframes\n",
        "del X_train[to_predict]\n",
        "del X_valid[to_predict]\n",
        "del X_train_valid[to_predict]\n",
        "\n",
        "del X_test[to_predict]\n",
        "\n",
        "del X_all[to_predict]"
      ]
    },
    {
      "cell_type": "markdown",
      "metadata": {
        "id": "kkKt7sJYdNF2"
      },
      "source": [
        "# 1) Modeling"
      ]
    },
    {
      "cell_type": "markdown",
      "metadata": {
        "id": "Dlhxz3d4djgT"
      },
      "source": [
        "## 1.1) Manual 'rule of thumb' predictions\n",
        "* (pred0) CCI>200 (binary, on technical indicator CCI)\n",
        "* (pred1) growth_1d>1\n",
        "* (pred2) (growth_1d>1) & (growth_snp500_1d>1)\n",
        "* (pred3) (gdppot_us_yoy <= 0.027) & (fastd >= 0.251)\n",
        "* (pred4) (gdppot_us_yoy >= 0.027) & (growth_wti_oil_30d <= 1.005)"
      ]
    },
    {
      "cell_type": "code",
      "execution_count": 54,
      "metadata": {
        "id": "PQrCT7xldUdf"
      },
      "outputs": [],
      "source": [
        "# generate manual predictions\n",
        "# Let's label all prediction features with prefix \"pred\"\n",
        "new_df['pred0_manual_cci'] = (new_df.cci>200).astype(int)\n",
        "new_df['pred1_manual_prev_g1'] = (new_df.growth_1d>1).astype(int)\n",
        "new_df['pred2_manual_prev_g1_and_snp'] = ((new_df['growth_1d'] > 1) & (new_df['growth_snp500_1d'] > 1)).astype(int)\n",
        "new_df['pred3_manual_gdp_and_fastd'] = ((new_df['gdppot_us_yoy'] <= 0.027) & (new_df['fastd'] >=0.251)).astype(int)\n",
        "new_df['pred4_manual_gdp_and_wti30d'] = ((new_df['gdppot_us_yoy'] >= 0.027) & (new_df['growth_wti_oil_30d'] <= 1.005)).astype(int)"
      ]
    },
    {
      "cell_type": "code",
      "execution_count": 55,
      "metadata": {
        "colab": {
          "base_uri": "https://localhost:8080/",
          "height": 439
        },
        "id": "3tD9asrDkC3m",
        "outputId": "3baa3dc4-5177-4961-d46e-83d65923e158"
      },
      "outputs": [
        {
          "data": {
            "text/html": [
              "<div>\n",
              "<style scoped>\n",
              "    .dataframe tbody tr th:only-of-type {\n",
              "        vertical-align: middle;\n",
              "    }\n",
              "\n",
              "    .dataframe tbody tr th {\n",
              "        vertical-align: top;\n",
              "    }\n",
              "\n",
              "    .dataframe thead th {\n",
              "        text-align: right;\n",
              "    }\n",
              "</style>\n",
              "<table border=\"1\" class=\"dataframe\">\n",
              "  <thead>\n",
              "    <tr style=\"text-align: right;\">\n",
              "      <th></th>\n",
              "      <th>cci</th>\n",
              "      <th>growth_1d</th>\n",
              "      <th>growth_snp500_1d</th>\n",
              "      <th>pred0_manual_cci</th>\n",
              "      <th>pred1_manual_prev_g1</th>\n",
              "      <th>pred2_manual_prev_g1_and_snp</th>\n",
              "      <th>pred3_manual_gdp_and_fastd</th>\n",
              "      <th>pred4_manual_gdp_and_wti30d</th>\n",
              "      <th>is_strong_positive_growth_5d_future</th>\n",
              "    </tr>\n",
              "  </thead>\n",
              "  <tbody>\n",
              "    <tr>\n",
              "      <th>3490</th>\n",
              "      <td>26.847237</td>\n",
              "      <td>0.998394</td>\n",
              "      <td>0.990451</td>\n",
              "      <td>0</td>\n",
              "      <td>0</td>\n",
              "      <td>0</td>\n",
              "      <td>0</td>\n",
              "      <td>0</td>\n",
              "      <td>0</td>\n",
              "    </tr>\n",
              "    <tr>\n",
              "      <th>3491</th>\n",
              "      <td>-34.319663</td>\n",
              "      <td>0.966220</td>\n",
              "      <td>0.961655</td>\n",
              "      <td>0</td>\n",
              "      <td>0</td>\n",
              "      <td>0</td>\n",
              "      <td>0</td>\n",
              "      <td>0</td>\n",
              "      <td>0</td>\n",
              "    </tr>\n",
              "    <tr>\n",
              "      <th>3492</th>\n",
              "      <td>-97.318008</td>\n",
              "      <td>1.010544</td>\n",
              "      <td>1.001922</td>\n",
              "      <td>0</td>\n",
              "      <td>1</td>\n",
              "      <td>1</td>\n",
              "      <td>0</td>\n",
              "      <td>0</td>\n",
              "      <td>0</td>\n",
              "    </tr>\n",
              "    <tr>\n",
              "      <th>3493</th>\n",
              "      <td>-169.947507</td>\n",
              "      <td>0.966502</td>\n",
              "      <td>1.000956</td>\n",
              "      <td>0</td>\n",
              "      <td>0</td>\n",
              "      <td>0</td>\n",
              "      <td>0</td>\n",
              "      <td>0</td>\n",
              "      <td>0</td>\n",
              "    </tr>\n",
              "    <tr>\n",
              "      <th>3494</th>\n",
              "      <td>-142.142685</td>\n",
              "      <td>1.013068</td>\n",
              "      <td>1.027090</td>\n",
              "      <td>0</td>\n",
              "      <td>1</td>\n",
              "      <td>1</td>\n",
              "      <td>0</td>\n",
              "      <td>0</td>\n",
              "      <td>0</td>\n",
              "    </tr>\n",
              "    <tr>\n",
              "      <th>...</th>\n",
              "      <td>...</td>\n",
              "      <td>...</td>\n",
              "      <td>...</td>\n",
              "      <td>...</td>\n",
              "      <td>...</td>\n",
              "      <td>...</td>\n",
              "      <td>...</td>\n",
              "      <td>...</td>\n",
              "      <td>...</td>\n",
              "    </tr>\n",
              "    <tr>\n",
              "      <th>5422</th>\n",
              "      <td>-29.424989</td>\n",
              "      <td>0.988994</td>\n",
              "      <td>0.984269</td>\n",
              "      <td>0</td>\n",
              "      <td>0</td>\n",
              "      <td>0</td>\n",
              "      <td>1</td>\n",
              "      <td>0</td>\n",
              "      <td>0</td>\n",
              "    </tr>\n",
              "    <tr>\n",
              "      <th>5423</th>\n",
              "      <td>-26.657181</td>\n",
              "      <td>1.001447</td>\n",
              "      <td>1.009128</td>\n",
              "      <td>0</td>\n",
              "      <td>1</td>\n",
              "      <td>1</td>\n",
              "      <td>1</td>\n",
              "      <td>0</td>\n",
              "      <td>0</td>\n",
              "    </tr>\n",
              "    <tr>\n",
              "      <th>5424</th>\n",
              "      <td>-123.785473</td>\n",
              "      <td>0.972302</td>\n",
              "      <td>1.012557</td>\n",
              "      <td>0</td>\n",
              "      <td>0</td>\n",
              "      <td>0</td>\n",
              "      <td>1</td>\n",
              "      <td>0</td>\n",
              "      <td>0</td>\n",
              "    </tr>\n",
              "    <tr>\n",
              "      <th>5425</th>\n",
              "      <td>-181.986224</td>\n",
              "      <td>0.989571</td>\n",
              "      <td>1.010326</td>\n",
              "      <td>0</td>\n",
              "      <td>0</td>\n",
              "      <td>0</td>\n",
              "      <td>1</td>\n",
              "      <td>0</td>\n",
              "      <td>0</td>\n",
              "    </tr>\n",
              "    <tr>\n",
              "      <th>5426</th>\n",
              "      <td>-169.406977</td>\n",
              "      <td>0.989735</td>\n",
              "      <td>1.001343</td>\n",
              "      <td>0</td>\n",
              "      <td>0</td>\n",
              "      <td>0</td>\n",
              "      <td>1</td>\n",
              "      <td>0</td>\n",
              "      <td>0</td>\n",
              "    </tr>\n",
              "  </tbody>\n",
              "</table>\n",
              "<p>182675 rows × 9 columns</p>\n",
              "</div>"
            ],
            "text/plain": [
              "             cci  growth_1d  growth_snp500_1d  pred0_manual_cci  \\\n",
              "3490   26.847237   0.998394          0.990451                 0   \n",
              "3491  -34.319663   0.966220          0.961655                 0   \n",
              "3492  -97.318008   1.010544          1.001922                 0   \n",
              "3493 -169.947507   0.966502          1.000956                 0   \n",
              "3494 -142.142685   1.013068          1.027090                 0   \n",
              "...          ...        ...               ...               ...   \n",
              "5422  -29.424989   0.988994          0.984269                 0   \n",
              "5423  -26.657181   1.001447          1.009128                 0   \n",
              "5424 -123.785473   0.972302          1.012557                 0   \n",
              "5425 -181.986224   0.989571          1.010326                 0   \n",
              "5426 -169.406977   0.989735          1.001343                 0   \n",
              "\n",
              "      pred1_manual_prev_g1  pred2_manual_prev_g1_and_snp  \\\n",
              "3490                     0                             0   \n",
              "3491                     0                             0   \n",
              "3492                     1                             1   \n",
              "3493                     0                             0   \n",
              "3494                     1                             1   \n",
              "...                    ...                           ...   \n",
              "5422                     0                             0   \n",
              "5423                     1                             1   \n",
              "5424                     0                             0   \n",
              "5425                     0                             0   \n",
              "5426                     0                             0   \n",
              "\n",
              "      pred3_manual_gdp_and_fastd  pred4_manual_gdp_and_wti30d  \\\n",
              "3490                           0                            0   \n",
              "3491                           0                            0   \n",
              "3492                           0                            0   \n",
              "3493                           0                            0   \n",
              "3494                           0                            0   \n",
              "...                          ...                          ...   \n",
              "5422                           1                            0   \n",
              "5423                           1                            0   \n",
              "5424                           1                            0   \n",
              "5425                           1                            0   \n",
              "5426                           1                            0   \n",
              "\n",
              "      is_strong_positive_growth_5d_future  \n",
              "3490                                    0  \n",
              "3491                                    0  \n",
              "3492                                    0  \n",
              "3493                                    0  \n",
              "3494                                    0  \n",
              "...                                   ...  \n",
              "5422                                    0  \n",
              "5423                                    0  \n",
              "5424                                    0  \n",
              "5425                                    0  \n",
              "5426                                    0  \n",
              "\n",
              "[182675 rows x 9 columns]"
            ]
          },
          "execution_count": 55,
          "metadata": {},
          "output_type": "execute_result"
        }
      ],
      "source": [
        "# example output manual predictions:\n",
        "new_df[['cci','growth_1d','growth_snp500_1d','pred0_manual_cci','pred1_manual_prev_g1','pred2_manual_prev_g1_and_snp','pred3_manual_gdp_and_fastd','pred4_manual_gdp_and_wti30d', to_predict]]"
      ]
    },
    {
      "cell_type": "code",
      "execution_count": 56,
      "metadata": {
        "id": "tn-AvNGVkIku"
      },
      "outputs": [],
      "source": [
        "# Function to find all predictions (starting from 'pred'), generate is_correct (correctness of each prediction)\n",
        "# and precision on TEST dataset (assuming there is df[\"split\"] column with values 'train','validation','test'\n",
        "\n",
        "# returns 2 lists of features: PREDICTIONS and IS_CORRECT\n",
        "\n",
        "def get_predictions_correctness(df:pd.DataFrame, to_predict:str):\n",
        "  PREDICTIONS = [k for k in df.keys() if k.startswith('pred')]\n",
        "  print(f'Prediction columns founded: {PREDICTIONS}')\n",
        "\n",
        "  # add columns is_correct_\n",
        "  for pred in PREDICTIONS:\n",
        "    part1 = pred.split('_')[0] # first prefix before '_'\n",
        "    df[f'is_correct_{part1}'] =  (new_df[pred] == new_df[to_predict]).astype(int)\n",
        "\n",
        "  # IS_CORRECT features set\n",
        "  IS_CORRECT =  [k for k in df.keys() if k.startswith('is_correct_')]\n",
        "  print(f'Created columns is_correct: {IS_CORRECT}')\n",
        "\n",
        "  print('Precision on TEST set for each prediction:')\n",
        "  # define \"Precision\" for ALL predictions on a Test dataset (~4 last years of trading)\n",
        "  for i,column in enumerate(IS_CORRECT):\n",
        "    prediction_column = PREDICTIONS[i]\n",
        "    is_correct_column = column\n",
        "    filter = (new_df.split=='test') & (new_df[prediction_column]==1)\n",
        "    print(f'Prediction column:{prediction_column} , is_correct_column: {is_correct_column}')\n",
        "    print(new_df[filter][is_correct_column].value_counts())\n",
        "    print(new_df[filter][is_correct_column].value_counts()/len(new_df[filter]))\n",
        "    print('---------')\n",
        "\n",
        "  return PREDICTIONS, IS_CORRECT"
      ]
    },
    {
      "cell_type": "code",
      "execution_count": 57,
      "metadata": {
        "colab": {
          "base_uri": "https://localhost:8080/"
        },
        "id": "nUW-bTFrkM_2",
        "outputId": "2f4a6082-d5d9-4f39-9aad-76f1d3226eda"
      },
      "outputs": [
        {
          "name": "stdout",
          "output_type": "stream",
          "text": [
            "Prediction columns founded: ['pred0_manual_cci', 'pred1_manual_prev_g1', 'pred2_manual_prev_g1_and_snp', 'pred3_manual_gdp_and_fastd', 'pred4_manual_gdp_and_wti30d']\n",
            "Created columns is_correct: ['is_correct_pred0', 'is_correct_pred1', 'is_correct_pred2', 'is_correct_pred3', 'is_correct_pred4']\n",
            "Precision on TEST set for each prediction:\n",
            "Prediction column:pred0_manual_cci , is_correct_column: is_correct_pred0\n",
            "is_correct_pred0\n",
            "0    565\n",
            "1    234\n",
            "Name: count, dtype: int64\n",
            "is_correct_pred0\n",
            "0    0.707134\n",
            "1    0.292866\n",
            "Name: count, dtype: float64\n",
            "---------\n",
            "Prediction column:pred1_manual_prev_g1 , is_correct_column: is_correct_pred1\n",
            "is_correct_pred1\n",
            "0    10751\n",
            "1     4850\n",
            "Name: count, dtype: int64\n",
            "is_correct_pred1\n",
            "0    0.689122\n",
            "1    0.310878\n",
            "Name: count, dtype: float64\n",
            "---------\n",
            "Prediction column:pred2_manual_prev_g1_and_snp , is_correct_column: is_correct_pred2\n",
            "is_correct_pred2\n",
            "0    7248\n",
            "1    3207\n",
            "Name: count, dtype: int64\n",
            "is_correct_pred2\n",
            "0    0.693257\n",
            "1    0.306743\n",
            "Name: count, dtype: float64\n",
            "---------\n",
            "Prediction column:pred3_manual_gdp_and_fastd , is_correct_column: is_correct_pred3\n",
            "is_correct_pred3\n",
            "0    20343\n",
            "1     9479\n",
            "Name: count, dtype: int64\n",
            "is_correct_pred3\n",
            "0    0.682147\n",
            "1    0.317853\n",
            "Name: count, dtype: float64\n",
            "---------\n",
            "Prediction column:pred4_manual_gdp_and_wti30d , is_correct_column: is_correct_pred4\n",
            "Series([], Name: count, dtype: int64)\n",
            "Series([], Name: count, dtype: float64)\n",
            "---------\n"
          ]
        }
      ],
      "source": [
        "PREDICTIONS, IS_CORRECT = get_predictions_correctness(df = new_df, to_predict = to_predict)"
      ]
    },
    {
      "cell_type": "code",
      "execution_count": 58,
      "metadata": {
        "id": "cVPexcpfkOW-"
      },
      "outputs": [],
      "source": [
        "# TODO HA4 Q1: run prediction correctness for 'is_positive_growth_5d_future' (should be lower)"
      ]
    },
    {
      "cell_type": "code",
      "execution_count": 59,
      "metadata": {
        "colab": {
          "base_uri": "https://localhost:8080/",
          "height": 439
        },
        "id": "bEsG68yfkn3B",
        "outputId": "a87b0cbc-c27a-4e45-8df1-9ca3b42744a9"
      },
      "outputs": [
        {
          "data": {
            "text/html": [
              "<div>\n",
              "<style scoped>\n",
              "    .dataframe tbody tr th:only-of-type {\n",
              "        vertical-align: middle;\n",
              "    }\n",
              "\n",
              "    .dataframe tbody tr th {\n",
              "        vertical-align: top;\n",
              "    }\n",
              "\n",
              "    .dataframe thead th {\n",
              "        text-align: right;\n",
              "    }\n",
              "</style>\n",
              "<table border=\"1\" class=\"dataframe\">\n",
              "  <thead>\n",
              "    <tr style=\"text-align: right;\">\n",
              "      <th></th>\n",
              "      <th>pred0_manual_cci</th>\n",
              "      <th>pred1_manual_prev_g1</th>\n",
              "      <th>pred2_manual_prev_g1_and_snp</th>\n",
              "      <th>pred3_manual_gdp_and_fastd</th>\n",
              "      <th>pred4_manual_gdp_and_wti30d</th>\n",
              "      <th>is_correct_pred0</th>\n",
              "      <th>is_correct_pred1</th>\n",
              "      <th>is_correct_pred2</th>\n",
              "      <th>is_correct_pred3</th>\n",
              "      <th>is_correct_pred4</th>\n",
              "      <th>is_strong_positive_growth_5d_future</th>\n",
              "    </tr>\n",
              "  </thead>\n",
              "  <tbody>\n",
              "    <tr>\n",
              "      <th>3490</th>\n",
              "      <td>0</td>\n",
              "      <td>0</td>\n",
              "      <td>0</td>\n",
              "      <td>0</td>\n",
              "      <td>0</td>\n",
              "      <td>1</td>\n",
              "      <td>1</td>\n",
              "      <td>1</td>\n",
              "      <td>1</td>\n",
              "      <td>1</td>\n",
              "      <td>0</td>\n",
              "    </tr>\n",
              "    <tr>\n",
              "      <th>3491</th>\n",
              "      <td>0</td>\n",
              "      <td>0</td>\n",
              "      <td>0</td>\n",
              "      <td>0</td>\n",
              "      <td>0</td>\n",
              "      <td>1</td>\n",
              "      <td>1</td>\n",
              "      <td>1</td>\n",
              "      <td>1</td>\n",
              "      <td>1</td>\n",
              "      <td>0</td>\n",
              "    </tr>\n",
              "    <tr>\n",
              "      <th>3492</th>\n",
              "      <td>0</td>\n",
              "      <td>1</td>\n",
              "      <td>1</td>\n",
              "      <td>0</td>\n",
              "      <td>0</td>\n",
              "      <td>1</td>\n",
              "      <td>0</td>\n",
              "      <td>0</td>\n",
              "      <td>1</td>\n",
              "      <td>1</td>\n",
              "      <td>0</td>\n",
              "    </tr>\n",
              "    <tr>\n",
              "      <th>3493</th>\n",
              "      <td>0</td>\n",
              "      <td>0</td>\n",
              "      <td>0</td>\n",
              "      <td>0</td>\n",
              "      <td>0</td>\n",
              "      <td>1</td>\n",
              "      <td>1</td>\n",
              "      <td>1</td>\n",
              "      <td>1</td>\n",
              "      <td>1</td>\n",
              "      <td>0</td>\n",
              "    </tr>\n",
              "    <tr>\n",
              "      <th>3494</th>\n",
              "      <td>0</td>\n",
              "      <td>1</td>\n",
              "      <td>1</td>\n",
              "      <td>0</td>\n",
              "      <td>0</td>\n",
              "      <td>1</td>\n",
              "      <td>0</td>\n",
              "      <td>0</td>\n",
              "      <td>1</td>\n",
              "      <td>1</td>\n",
              "      <td>0</td>\n",
              "    </tr>\n",
              "    <tr>\n",
              "      <th>...</th>\n",
              "      <td>...</td>\n",
              "      <td>...</td>\n",
              "      <td>...</td>\n",
              "      <td>...</td>\n",
              "      <td>...</td>\n",
              "      <td>...</td>\n",
              "      <td>...</td>\n",
              "      <td>...</td>\n",
              "      <td>...</td>\n",
              "      <td>...</td>\n",
              "      <td>...</td>\n",
              "    </tr>\n",
              "    <tr>\n",
              "      <th>5422</th>\n",
              "      <td>0</td>\n",
              "      <td>0</td>\n",
              "      <td>0</td>\n",
              "      <td>1</td>\n",
              "      <td>0</td>\n",
              "      <td>1</td>\n",
              "      <td>1</td>\n",
              "      <td>1</td>\n",
              "      <td>0</td>\n",
              "      <td>1</td>\n",
              "      <td>0</td>\n",
              "    </tr>\n",
              "    <tr>\n",
              "      <th>5423</th>\n",
              "      <td>0</td>\n",
              "      <td>1</td>\n",
              "      <td>1</td>\n",
              "      <td>1</td>\n",
              "      <td>0</td>\n",
              "      <td>1</td>\n",
              "      <td>0</td>\n",
              "      <td>0</td>\n",
              "      <td>0</td>\n",
              "      <td>1</td>\n",
              "      <td>0</td>\n",
              "    </tr>\n",
              "    <tr>\n",
              "      <th>5424</th>\n",
              "      <td>0</td>\n",
              "      <td>0</td>\n",
              "      <td>0</td>\n",
              "      <td>1</td>\n",
              "      <td>0</td>\n",
              "      <td>1</td>\n",
              "      <td>1</td>\n",
              "      <td>1</td>\n",
              "      <td>0</td>\n",
              "      <td>1</td>\n",
              "      <td>0</td>\n",
              "    </tr>\n",
              "    <tr>\n",
              "      <th>5425</th>\n",
              "      <td>0</td>\n",
              "      <td>0</td>\n",
              "      <td>0</td>\n",
              "      <td>1</td>\n",
              "      <td>0</td>\n",
              "      <td>1</td>\n",
              "      <td>1</td>\n",
              "      <td>1</td>\n",
              "      <td>0</td>\n",
              "      <td>1</td>\n",
              "      <td>0</td>\n",
              "    </tr>\n",
              "    <tr>\n",
              "      <th>5426</th>\n",
              "      <td>0</td>\n",
              "      <td>0</td>\n",
              "      <td>0</td>\n",
              "      <td>1</td>\n",
              "      <td>0</td>\n",
              "      <td>1</td>\n",
              "      <td>1</td>\n",
              "      <td>1</td>\n",
              "      <td>0</td>\n",
              "      <td>1</td>\n",
              "      <td>0</td>\n",
              "    </tr>\n",
              "  </tbody>\n",
              "</table>\n",
              "<p>182675 rows × 11 columns</p>\n",
              "</div>"
            ],
            "text/plain": [
              "      pred0_manual_cci  pred1_manual_prev_g1  pred2_manual_prev_g1_and_snp  \\\n",
              "3490                 0                     0                             0   \n",
              "3491                 0                     0                             0   \n",
              "3492                 0                     1                             1   \n",
              "3493                 0                     0                             0   \n",
              "3494                 0                     1                             1   \n",
              "...                ...                   ...                           ...   \n",
              "5422                 0                     0                             0   \n",
              "5423                 0                     1                             1   \n",
              "5424                 0                     0                             0   \n",
              "5425                 0                     0                             0   \n",
              "5426                 0                     0                             0   \n",
              "\n",
              "      pred3_manual_gdp_and_fastd  pred4_manual_gdp_and_wti30d  \\\n",
              "3490                           0                            0   \n",
              "3491                           0                            0   \n",
              "3492                           0                            0   \n",
              "3493                           0                            0   \n",
              "3494                           0                            0   \n",
              "...                          ...                          ...   \n",
              "5422                           1                            0   \n",
              "5423                           1                            0   \n",
              "5424                           1                            0   \n",
              "5425                           1                            0   \n",
              "5426                           1                            0   \n",
              "\n",
              "      is_correct_pred0  is_correct_pred1  is_correct_pred2  is_correct_pred3  \\\n",
              "3490                 1                 1                 1                 1   \n",
              "3491                 1                 1                 1                 1   \n",
              "3492                 1                 0                 0                 1   \n",
              "3493                 1                 1                 1                 1   \n",
              "3494                 1                 0                 0                 1   \n",
              "...                ...               ...               ...               ...   \n",
              "5422                 1                 1                 1                 0   \n",
              "5423                 1                 0                 0                 0   \n",
              "5424                 1                 1                 1                 0   \n",
              "5425                 1                 1                 1                 0   \n",
              "5426                 1                 1                 1                 0   \n",
              "\n",
              "      is_correct_pred4  is_strong_positive_growth_5d_future  \n",
              "3490                 1                                    0  \n",
              "3491                 1                                    0  \n",
              "3492                 1                                    0  \n",
              "3493                 1                                    0  \n",
              "3494                 1                                    0  \n",
              "...                ...                                  ...  \n",
              "5422                 1                                    0  \n",
              "5423                 1                                    0  \n",
              "5424                 1                                    0  \n",
              "5425                 1                                    0  \n",
              "5426                 1                                    0  \n",
              "\n",
              "[182675 rows x 11 columns]"
            ]
          },
          "execution_count": 59,
          "metadata": {},
          "output_type": "execute_result"
        }
      ],
      "source": [
        "new_df[PREDICTIONS+IS_CORRECT+[to_predict]]"
      ]
    },
    {
      "cell_type": "markdown",
      "metadata": {
        "id": "6Tu1COw6molo"
      },
      "source": [
        "## 1.2) Decision Tree Classifier"
      ]
    },
    {
      "cell_type": "markdown",
      "metadata": {
        "id": "jZ8TBnZUmsJ_"
      },
      "source": [
        "### 1.2.1) Defining Functions to clean_df(), fit_decision_tree(), predict_decision_tree()\n",
        "* here we discuss only the Decision Tree Classifier for binary predictions (and not the Regressor)"
      ]
    },
    {
      "cell_type": "code",
      "execution_count": 60,
      "metadata": {
        "id": "l8Uy1lFdm0R3"
      },
      "outputs": [],
      "source": [
        "# Estimation/fit function (using dataframe of features X and what to predict y) --> optimising total accuracy\n",
        "# max_depth is hyperParameter\n",
        "def fit_decision_tree(X, y, max_depth=20):\n",
        "# Initialize the Decision Tree Classifier\n",
        "  clf = DecisionTreeClassifier(max_depth=max_depth,\n",
        "                               random_state=42)\n",
        "\n",
        "  # Fit the classifier to the training data\n",
        "  clf.fit(X, y)\n",
        "  return clf, X.columns"
      ]
    },
    {
      "cell_type": "code",
      "execution_count": 61,
      "metadata": {
        "colab": {
          "base_uri": "https://localhost:8080/"
        },
        "id": "a96QEniNT35b",
        "outputId": "2f3aa100-5406-4b21-e965-6cb6d3755acc"
      },
      "outputs": [
        {
          "name": "stdout",
          "output_type": "stream",
          "text": [
            "CPU times: total: 11.2 s\n",
            "Wall time: 24.7 s\n"
          ]
        }
      ],
      "source": [
        "%%time\n",
        "clf_10, train_columns = fit_decision_tree(X=X_train_valid,\n",
        "                           y=y_train_valid,\n",
        "                           max_depth=10)"
      ]
    },
    {
      "cell_type": "code",
      "execution_count": 62,
      "metadata": {
        "id": "K0qzwSYcT5YM"
      },
      "outputs": [],
      "source": [
        "# predict on a full dataset\n",
        "y_pred_all = clf_10.predict(X_all)"
      ]
    },
    {
      "cell_type": "code",
      "execution_count": 63,
      "metadata": {
        "id": "lKBzCaXcT6OL"
      },
      "outputs": [],
      "source": [
        "# defining a new prediction vector is easy now, as the dimensions will match\n",
        "new_df['pred5_clf_10'] = y_pred_all"
      ]
    },
    {
      "cell_type": "code",
      "execution_count": 64,
      "metadata": {
        "colab": {
          "base_uri": "https://localhost:8080/"
        },
        "id": "8qNAlgbnT_f1",
        "outputId": "dc993de3-fb23-4e28-decd-f2cd4fce90a7"
      },
      "outputs": [
        {
          "name": "stdout",
          "output_type": "stream",
          "text": [
            "Prediction columns founded: ['pred0_manual_cci', 'pred1_manual_prev_g1', 'pred2_manual_prev_g1_and_snp', 'pred3_manual_gdp_and_fastd', 'pred4_manual_gdp_and_wti30d', 'pred5_clf_10']\n",
            "Created columns is_correct: ['is_correct_pred0', 'is_correct_pred1', 'is_correct_pred2', 'is_correct_pred3', 'is_correct_pred4', 'is_correct_pred5']\n",
            "Precision on TEST set for each prediction:\n",
            "Prediction column:pred0_manual_cci , is_correct_column: is_correct_pred0\n",
            "is_correct_pred0\n",
            "0    565\n",
            "1    234\n",
            "Name: count, dtype: int64\n",
            "is_correct_pred0\n",
            "0    0.707134\n",
            "1    0.292866\n",
            "Name: count, dtype: float64\n",
            "---------\n",
            "Prediction column:pred1_manual_prev_g1 , is_correct_column: is_correct_pred1\n",
            "is_correct_pred1\n",
            "0    10751\n",
            "1     4850\n",
            "Name: count, dtype: int64\n",
            "is_correct_pred1\n",
            "0    0.689122\n",
            "1    0.310878\n",
            "Name: count, dtype: float64\n",
            "---------\n",
            "Prediction column:pred2_manual_prev_g1_and_snp , is_correct_column: is_correct_pred2\n",
            "is_correct_pred2\n",
            "0    7248\n",
            "1    3207\n",
            "Name: count, dtype: int64\n",
            "is_correct_pred2\n",
            "0    0.693257\n",
            "1    0.306743\n",
            "Name: count, dtype: float64\n",
            "---------\n",
            "Prediction column:pred3_manual_gdp_and_fastd , is_correct_column: is_correct_pred3\n",
            "is_correct_pred3\n",
            "0    20343\n",
            "1     9479\n",
            "Name: count, dtype: int64\n",
            "is_correct_pred3\n",
            "0    0.682147\n",
            "1    0.317853\n",
            "Name: count, dtype: float64\n",
            "---------\n",
            "Prediction column:pred4_manual_gdp_and_wti30d , is_correct_column: is_correct_pred4\n",
            "Series([], Name: count, dtype: int64)\n",
            "Series([], Name: count, dtype: float64)\n",
            "---------\n",
            "Prediction column:pred5_clf_10 , is_correct_column: is_correct_pred5\n",
            "is_correct_pred5\n",
            "0    2136\n",
            "1    1090\n",
            "Name: count, dtype: int64\n",
            "is_correct_pred5\n",
            "0    0.66212\n",
            "1    0.33788\n",
            "Name: count, dtype: float64\n",
            "---------\n"
          ]
        }
      ],
      "source": [
        "# new prediction is added --> need to recalculate the correctness\n",
        "PREDICTIONS, IS_CORRECT = get_predictions_correctness(df = new_df, to_predict=to_predict)"
      ]
    },
    {
      "cell_type": "markdown",
      "metadata": {
        "id": "_bkIObxfUKbg"
      },
      "source": [
        "## 1.2.3 Hyperparams tuning for a Decision Tree Classifier"
      ]
    },
    {
      "cell_type": "code",
      "execution_count": 65,
      "metadata": {
        "id": "Y436uzqFUOP8"
      },
      "outputs": [],
      "source": [
        "# visualisation: decision tree for a few levels (max_depth variable)\n",
        "from sklearn.tree import plot_tree\n",
        "import matplotlib.pyplot as plt\n",
        "\n",
        "# https://stackoverflow.com/questions/20156951/how-do-i-find-which-attributes-my-tree-splits-on-when-using-scikit-learn\n",
        "from sklearn.tree import export_text"
      ]
    },
    {
      "cell_type": "code",
      "execution_count": 64,
      "metadata": {
        "id": "Mp2WfkxZghUl"
      },
      "outputs": [],
      "source": [
        "# %%time\n",
        "# # hyper params tuning for a Decision Tree\n",
        "\n",
        "# precision_by_depth = {}\n",
        "# best_precision = 0\n",
        "# best_depth = 0\n",
        "\n",
        "# for depth in range(1,21):\n",
        "#   print(f'Working with a tree of a max depth= {depth}')\n",
        "#   # fitting the tree on X_train, y_train\n",
        "#   clf,train_columns = fit_decision_tree(X=X_train_valid,\n",
        "#                            y=y_train_valid,\n",
        "#                            max_depth=depth) #applying custom hyperparam\n",
        "#   # getting the predictions for TEST and accuracy score\n",
        "#   y_pred_valid = clf.predict(X_valid)\n",
        "#   precision_valid = precision_score(y_valid, y_pred_valid)\n",
        "#   y_pred_test = clf.predict(X_test)\n",
        "#   precision_test = precision_score(y_test, y_pred_test)\n",
        "#   print(f'  Precision on test is {precision_test}, (precision on valid is {precision_valid} - tend to overfit)')\n",
        "#   # saving to the dict\n",
        "#   precision_by_depth[depth] = round(precision_test,4)\n",
        "#   # updating the best precision\n",
        "#   if precision_test >= best_precision:\n",
        "#     best_precision = round(precision_test,4)\n",
        "#     best_depth = depth\n",
        "#   # plot tree - long\n",
        "#   # plt.figure(figsize=(20,10))  # Set the size of the figure\n",
        "#   # plot_tree(clf,\n",
        "#   #           filled=True,\n",
        "#   #           feature_names=train_columns,\n",
        "#   #           class_names=['Negative', 'Positive'],\n",
        "#   #           max_depth=2)\n",
        "#   # plt.show()\n",
        "#   # plot tree - short\n",
        "#   tree_rules = export_text(clf, feature_names=list(X_train), max_depth=3)\n",
        "#   print(tree_rules)\n",
        "#   print('------------------------------')\n",
        "\n",
        "# print(f'All precisions by depth: {precision_by_depth}')\n",
        "# print(f'The best precision is {best_precision} and the best depth is {best_depth} ')"
      ]
    },
    {
      "cell_type": "code",
      "execution_count": 65,
      "metadata": {
        "id": "2jLsfPPhgjwD"
      },
      "outputs": [],
      "source": [
        "# UNCOMMENT TO RUN SEE THE RESULTS\n",
        "# Results of Hyper parameters tuning for a Decision Tree\n",
        "# print(precision_by_depth)"
      ]
    },
    {
      "cell_type": "code",
      "execution_count": 66,
      "metadata": {
        "id": "vK92UZPrstQh"
      },
      "outputs": [],
      "source": [
        "# pre-calculated results of Hyperparameter tuning: full dataset (300 features) and is_positive_growth_5d\n",
        "precision_by_depth = {1: 0.5552, 2: 0.5553, 3: 0.5552, 4: 0.5552, 5: 0.5555, 6: 0.5712, 7: 0.5684, 8: 0.5684, 9: 0.57, 10: 0.5653, 11: 0.567, 12: 0.5719, 13: 0.5707, 14: 0.5845, 15: 0.5864, 16: 0.5721, 17: 0.5767, 18: 0.5682, 19: 0.5638, 20: 0.573}\n",
        "best_depth = 15\n",
        "best_precision = 0.5864"
      ]
    },
    {
      "cell_type": "code",
      "execution_count": 67,
      "metadata": {
        "colab": {
          "base_uri": "https://localhost:8080/"
        },
        "id": "IBYKRALThb8P",
        "outputId": "76da5093-11e3-46a0-912b-050f61ff457f"
      },
      "outputs": [
        {
          "name": "stdout",
          "output_type": "stream",
          "text": [
            "Best precision and depth = 15, precision (on test)=0.5864\n"
          ]
        }
      ],
      "source": [
        "print(f'Best precision and depth = {best_depth}, precision (on test)={best_precision}')"
      ]
    },
    {
      "cell_type": "code",
      "execution_count": 68,
      "metadata": {
        "id": "hbGV6LjthP3u"
      },
      "outputs": [],
      "source": [
        "# TODO HA4 Q1: compare precision_by_depth with below? Any improvements? What's the optimal hyperparams?"
      ]
    },
    {
      "cell_type": "code",
      "execution_count": 69,
      "metadata": {
        "id": "OS3b4V-AhRa8"
      },
      "outputs": [],
      "source": [
        "# TODO HA4 Q2: compare precision_by_depth with below? Any improvements? What's the optimal hyperparams?"
      ]
    },
    {
      "cell_type": "code",
      "execution_count": 68,
      "metadata": {
        "colab": {
          "base_uri": "https://localhost:8080/",
          "height": 542
        },
        "id": "AYbzd0uQg_W9",
        "outputId": "75242ada-a29d-45b2-bc71-ed9e09820a02"
      },
      "outputs": [
        {
          "data": {
            "application/vnd.plotly.v1+json": {
              "config": {
                "plotlyServerURL": "https://plot.ly"
              },
              "data": [
                {
                  "alignmentgroup": "True",
                  "hovertemplate": "Max Depth=%{x}<br>Precision Score=%{text}<extra></extra>",
                  "legendgroup": "",
                  "marker": {
                    "color": "#636efa",
                    "pattern": {
                      "shape": ""
                    }
                  },
                  "name": "",
                  "offsetgroup": "",
                  "orientation": "v",
                  "showlegend": false,
                  "text": [
                    55.52,
                    55.53,
                    55.52,
                    55.52,
                    55.55,
                    57.120000000000005,
                    56.84,
                    56.84,
                    56.99999999999999,
                    56.53,
                    56.699999999999996,
                    57.19,
                    57.07,
                    58.45,
                    58.64,
                    57.21000000000001,
                    57.67,
                    56.82000000000001,
                    56.379999999999995,
                    57.3
                  ],
                  "textposition": "outside",
                  "texttemplate": "%{text:.2f}%",
                  "type": "bar",
                  "x": [
                    1,
                    2,
                    3,
                    4,
                    5,
                    6,
                    7,
                    8,
                    9,
                    10,
                    11,
                    12,
                    13,
                    14,
                    15,
                    16,
                    17,
                    18,
                    19,
                    20
                  ],
                  "xaxis": "x",
                  "y": [
                    55.52,
                    55.53,
                    55.52,
                    55.52,
                    55.55,
                    57.120000000000005,
                    56.84,
                    56.84,
                    56.99999999999999,
                    56.53,
                    56.699999999999996,
                    57.19,
                    57.07,
                    58.45,
                    58.64,
                    57.21000000000001,
                    57.67,
                    56.82000000000001,
                    56.379999999999995,
                    57.3
                  ],
                  "yaxis": "y"
                }
              ],
              "layout": {
                "barmode": "relative",
                "legend": {
                  "tracegroupgap": 0
                },
                "margin": {
                  "t": 60
                },
                "template": {
                  "data": {
                    "bar": [
                      {
                        "error_x": {
                          "color": "#2a3f5f"
                        },
                        "error_y": {
                          "color": "#2a3f5f"
                        },
                        "marker": {
                          "line": {
                            "color": "#E5ECF6",
                            "width": 0.5
                          },
                          "pattern": {
                            "fillmode": "overlay",
                            "size": 10,
                            "solidity": 0.2
                          }
                        },
                        "type": "bar"
                      }
                    ],
                    "barpolar": [
                      {
                        "marker": {
                          "line": {
                            "color": "#E5ECF6",
                            "width": 0.5
                          },
                          "pattern": {
                            "fillmode": "overlay",
                            "size": 10,
                            "solidity": 0.2
                          }
                        },
                        "type": "barpolar"
                      }
                    ],
                    "carpet": [
                      {
                        "aaxis": {
                          "endlinecolor": "#2a3f5f",
                          "gridcolor": "white",
                          "linecolor": "white",
                          "minorgridcolor": "white",
                          "startlinecolor": "#2a3f5f"
                        },
                        "baxis": {
                          "endlinecolor": "#2a3f5f",
                          "gridcolor": "white",
                          "linecolor": "white",
                          "minorgridcolor": "white",
                          "startlinecolor": "#2a3f5f"
                        },
                        "type": "carpet"
                      }
                    ],
                    "choropleth": [
                      {
                        "colorbar": {
                          "outlinewidth": 0,
                          "ticks": ""
                        },
                        "type": "choropleth"
                      }
                    ],
                    "contour": [
                      {
                        "colorbar": {
                          "outlinewidth": 0,
                          "ticks": ""
                        },
                        "colorscale": [
                          [
                            0,
                            "#0d0887"
                          ],
                          [
                            0.1111111111111111,
                            "#46039f"
                          ],
                          [
                            0.2222222222222222,
                            "#7201a8"
                          ],
                          [
                            0.3333333333333333,
                            "#9c179e"
                          ],
                          [
                            0.4444444444444444,
                            "#bd3786"
                          ],
                          [
                            0.5555555555555556,
                            "#d8576b"
                          ],
                          [
                            0.6666666666666666,
                            "#ed7953"
                          ],
                          [
                            0.7777777777777778,
                            "#fb9f3a"
                          ],
                          [
                            0.8888888888888888,
                            "#fdca26"
                          ],
                          [
                            1,
                            "#f0f921"
                          ]
                        ],
                        "type": "contour"
                      }
                    ],
                    "contourcarpet": [
                      {
                        "colorbar": {
                          "outlinewidth": 0,
                          "ticks": ""
                        },
                        "type": "contourcarpet"
                      }
                    ],
                    "heatmap": [
                      {
                        "colorbar": {
                          "outlinewidth": 0,
                          "ticks": ""
                        },
                        "colorscale": [
                          [
                            0,
                            "#0d0887"
                          ],
                          [
                            0.1111111111111111,
                            "#46039f"
                          ],
                          [
                            0.2222222222222222,
                            "#7201a8"
                          ],
                          [
                            0.3333333333333333,
                            "#9c179e"
                          ],
                          [
                            0.4444444444444444,
                            "#bd3786"
                          ],
                          [
                            0.5555555555555556,
                            "#d8576b"
                          ],
                          [
                            0.6666666666666666,
                            "#ed7953"
                          ],
                          [
                            0.7777777777777778,
                            "#fb9f3a"
                          ],
                          [
                            0.8888888888888888,
                            "#fdca26"
                          ],
                          [
                            1,
                            "#f0f921"
                          ]
                        ],
                        "type": "heatmap"
                      }
                    ],
                    "heatmapgl": [
                      {
                        "colorbar": {
                          "outlinewidth": 0,
                          "ticks": ""
                        },
                        "colorscale": [
                          [
                            0,
                            "#0d0887"
                          ],
                          [
                            0.1111111111111111,
                            "#46039f"
                          ],
                          [
                            0.2222222222222222,
                            "#7201a8"
                          ],
                          [
                            0.3333333333333333,
                            "#9c179e"
                          ],
                          [
                            0.4444444444444444,
                            "#bd3786"
                          ],
                          [
                            0.5555555555555556,
                            "#d8576b"
                          ],
                          [
                            0.6666666666666666,
                            "#ed7953"
                          ],
                          [
                            0.7777777777777778,
                            "#fb9f3a"
                          ],
                          [
                            0.8888888888888888,
                            "#fdca26"
                          ],
                          [
                            1,
                            "#f0f921"
                          ]
                        ],
                        "type": "heatmapgl"
                      }
                    ],
                    "histogram": [
                      {
                        "marker": {
                          "pattern": {
                            "fillmode": "overlay",
                            "size": 10,
                            "solidity": 0.2
                          }
                        },
                        "type": "histogram"
                      }
                    ],
                    "histogram2d": [
                      {
                        "colorbar": {
                          "outlinewidth": 0,
                          "ticks": ""
                        },
                        "colorscale": [
                          [
                            0,
                            "#0d0887"
                          ],
                          [
                            0.1111111111111111,
                            "#46039f"
                          ],
                          [
                            0.2222222222222222,
                            "#7201a8"
                          ],
                          [
                            0.3333333333333333,
                            "#9c179e"
                          ],
                          [
                            0.4444444444444444,
                            "#bd3786"
                          ],
                          [
                            0.5555555555555556,
                            "#d8576b"
                          ],
                          [
                            0.6666666666666666,
                            "#ed7953"
                          ],
                          [
                            0.7777777777777778,
                            "#fb9f3a"
                          ],
                          [
                            0.8888888888888888,
                            "#fdca26"
                          ],
                          [
                            1,
                            "#f0f921"
                          ]
                        ],
                        "type": "histogram2d"
                      }
                    ],
                    "histogram2dcontour": [
                      {
                        "colorbar": {
                          "outlinewidth": 0,
                          "ticks": ""
                        },
                        "colorscale": [
                          [
                            0,
                            "#0d0887"
                          ],
                          [
                            0.1111111111111111,
                            "#46039f"
                          ],
                          [
                            0.2222222222222222,
                            "#7201a8"
                          ],
                          [
                            0.3333333333333333,
                            "#9c179e"
                          ],
                          [
                            0.4444444444444444,
                            "#bd3786"
                          ],
                          [
                            0.5555555555555556,
                            "#d8576b"
                          ],
                          [
                            0.6666666666666666,
                            "#ed7953"
                          ],
                          [
                            0.7777777777777778,
                            "#fb9f3a"
                          ],
                          [
                            0.8888888888888888,
                            "#fdca26"
                          ],
                          [
                            1,
                            "#f0f921"
                          ]
                        ],
                        "type": "histogram2dcontour"
                      }
                    ],
                    "mesh3d": [
                      {
                        "colorbar": {
                          "outlinewidth": 0,
                          "ticks": ""
                        },
                        "type": "mesh3d"
                      }
                    ],
                    "parcoords": [
                      {
                        "line": {
                          "colorbar": {
                            "outlinewidth": 0,
                            "ticks": ""
                          }
                        },
                        "type": "parcoords"
                      }
                    ],
                    "pie": [
                      {
                        "automargin": true,
                        "type": "pie"
                      }
                    ],
                    "scatter": [
                      {
                        "fillpattern": {
                          "fillmode": "overlay",
                          "size": 10,
                          "solidity": 0.2
                        },
                        "type": "scatter"
                      }
                    ],
                    "scatter3d": [
                      {
                        "line": {
                          "colorbar": {
                            "outlinewidth": 0,
                            "ticks": ""
                          }
                        },
                        "marker": {
                          "colorbar": {
                            "outlinewidth": 0,
                            "ticks": ""
                          }
                        },
                        "type": "scatter3d"
                      }
                    ],
                    "scattercarpet": [
                      {
                        "marker": {
                          "colorbar": {
                            "outlinewidth": 0,
                            "ticks": ""
                          }
                        },
                        "type": "scattercarpet"
                      }
                    ],
                    "scattergeo": [
                      {
                        "marker": {
                          "colorbar": {
                            "outlinewidth": 0,
                            "ticks": ""
                          }
                        },
                        "type": "scattergeo"
                      }
                    ],
                    "scattergl": [
                      {
                        "marker": {
                          "colorbar": {
                            "outlinewidth": 0,
                            "ticks": ""
                          }
                        },
                        "type": "scattergl"
                      }
                    ],
                    "scattermapbox": [
                      {
                        "marker": {
                          "colorbar": {
                            "outlinewidth": 0,
                            "ticks": ""
                          }
                        },
                        "type": "scattermapbox"
                      }
                    ],
                    "scatterpolar": [
                      {
                        "marker": {
                          "colorbar": {
                            "outlinewidth": 0,
                            "ticks": ""
                          }
                        },
                        "type": "scatterpolar"
                      }
                    ],
                    "scatterpolargl": [
                      {
                        "marker": {
                          "colorbar": {
                            "outlinewidth": 0,
                            "ticks": ""
                          }
                        },
                        "type": "scatterpolargl"
                      }
                    ],
                    "scatterternary": [
                      {
                        "marker": {
                          "colorbar": {
                            "outlinewidth": 0,
                            "ticks": ""
                          }
                        },
                        "type": "scatterternary"
                      }
                    ],
                    "surface": [
                      {
                        "colorbar": {
                          "outlinewidth": 0,
                          "ticks": ""
                        },
                        "colorscale": [
                          [
                            0,
                            "#0d0887"
                          ],
                          [
                            0.1111111111111111,
                            "#46039f"
                          ],
                          [
                            0.2222222222222222,
                            "#7201a8"
                          ],
                          [
                            0.3333333333333333,
                            "#9c179e"
                          ],
                          [
                            0.4444444444444444,
                            "#bd3786"
                          ],
                          [
                            0.5555555555555556,
                            "#d8576b"
                          ],
                          [
                            0.6666666666666666,
                            "#ed7953"
                          ],
                          [
                            0.7777777777777778,
                            "#fb9f3a"
                          ],
                          [
                            0.8888888888888888,
                            "#fdca26"
                          ],
                          [
                            1,
                            "#f0f921"
                          ]
                        ],
                        "type": "surface"
                      }
                    ],
                    "table": [
                      {
                        "cells": {
                          "fill": {
                            "color": "#EBF0F8"
                          },
                          "line": {
                            "color": "white"
                          }
                        },
                        "header": {
                          "fill": {
                            "color": "#C8D4E3"
                          },
                          "line": {
                            "color": "white"
                          }
                        },
                        "type": "table"
                      }
                    ]
                  },
                  "layout": {
                    "annotationdefaults": {
                      "arrowcolor": "#2a3f5f",
                      "arrowhead": 0,
                      "arrowwidth": 1
                    },
                    "autotypenumbers": "strict",
                    "coloraxis": {
                      "colorbar": {
                        "outlinewidth": 0,
                        "ticks": ""
                      }
                    },
                    "colorscale": {
                      "diverging": [
                        [
                          0,
                          "#8e0152"
                        ],
                        [
                          0.1,
                          "#c51b7d"
                        ],
                        [
                          0.2,
                          "#de77ae"
                        ],
                        [
                          0.3,
                          "#f1b6da"
                        ],
                        [
                          0.4,
                          "#fde0ef"
                        ],
                        [
                          0.5,
                          "#f7f7f7"
                        ],
                        [
                          0.6,
                          "#e6f5d0"
                        ],
                        [
                          0.7,
                          "#b8e186"
                        ],
                        [
                          0.8,
                          "#7fbc41"
                        ],
                        [
                          0.9,
                          "#4d9221"
                        ],
                        [
                          1,
                          "#276419"
                        ]
                      ],
                      "sequential": [
                        [
                          0,
                          "#0d0887"
                        ],
                        [
                          0.1111111111111111,
                          "#46039f"
                        ],
                        [
                          0.2222222222222222,
                          "#7201a8"
                        ],
                        [
                          0.3333333333333333,
                          "#9c179e"
                        ],
                        [
                          0.4444444444444444,
                          "#bd3786"
                        ],
                        [
                          0.5555555555555556,
                          "#d8576b"
                        ],
                        [
                          0.6666666666666666,
                          "#ed7953"
                        ],
                        [
                          0.7777777777777778,
                          "#fb9f3a"
                        ],
                        [
                          0.8888888888888888,
                          "#fdca26"
                        ],
                        [
                          1,
                          "#f0f921"
                        ]
                      ],
                      "sequentialminus": [
                        [
                          0,
                          "#0d0887"
                        ],
                        [
                          0.1111111111111111,
                          "#46039f"
                        ],
                        [
                          0.2222222222222222,
                          "#7201a8"
                        ],
                        [
                          0.3333333333333333,
                          "#9c179e"
                        ],
                        [
                          0.4444444444444444,
                          "#bd3786"
                        ],
                        [
                          0.5555555555555556,
                          "#d8576b"
                        ],
                        [
                          0.6666666666666666,
                          "#ed7953"
                        ],
                        [
                          0.7777777777777778,
                          "#fb9f3a"
                        ],
                        [
                          0.8888888888888888,
                          "#fdca26"
                        ],
                        [
                          1,
                          "#f0f921"
                        ]
                      ]
                    },
                    "colorway": [
                      "#636efa",
                      "#EF553B",
                      "#00cc96",
                      "#ab63fa",
                      "#FFA15A",
                      "#19d3f3",
                      "#FF6692",
                      "#B6E880",
                      "#FF97FF",
                      "#FECB52"
                    ],
                    "font": {
                      "color": "#2a3f5f"
                    },
                    "geo": {
                      "bgcolor": "white",
                      "lakecolor": "white",
                      "landcolor": "#E5ECF6",
                      "showlakes": true,
                      "showland": true,
                      "subunitcolor": "white"
                    },
                    "hoverlabel": {
                      "align": "left"
                    },
                    "hovermode": "closest",
                    "mapbox": {
                      "style": "light"
                    },
                    "paper_bgcolor": "white",
                    "plot_bgcolor": "#E5ECF6",
                    "polar": {
                      "angularaxis": {
                        "gridcolor": "white",
                        "linecolor": "white",
                        "ticks": ""
                      },
                      "bgcolor": "#E5ECF6",
                      "radialaxis": {
                        "gridcolor": "white",
                        "linecolor": "white",
                        "ticks": ""
                      }
                    },
                    "scene": {
                      "xaxis": {
                        "backgroundcolor": "#E5ECF6",
                        "gridcolor": "white",
                        "gridwidth": 2,
                        "linecolor": "white",
                        "showbackground": true,
                        "ticks": "",
                        "zerolinecolor": "white"
                      },
                      "yaxis": {
                        "backgroundcolor": "#E5ECF6",
                        "gridcolor": "white",
                        "gridwidth": 2,
                        "linecolor": "white",
                        "showbackground": true,
                        "ticks": "",
                        "zerolinecolor": "white"
                      },
                      "zaxis": {
                        "backgroundcolor": "#E5ECF6",
                        "gridcolor": "white",
                        "gridwidth": 2,
                        "linecolor": "white",
                        "showbackground": true,
                        "ticks": "",
                        "zerolinecolor": "white"
                      }
                    },
                    "shapedefaults": {
                      "line": {
                        "color": "#2a3f5f"
                      }
                    },
                    "ternary": {
                      "aaxis": {
                        "gridcolor": "white",
                        "linecolor": "white",
                        "ticks": ""
                      },
                      "baxis": {
                        "gridcolor": "white",
                        "linecolor": "white",
                        "ticks": ""
                      },
                      "bgcolor": "#E5ECF6",
                      "caxis": {
                        "gridcolor": "white",
                        "linecolor": "white",
                        "ticks": ""
                      }
                    },
                    "title": {
                      "x": 0.05
                    },
                    "xaxis": {
                      "automargin": true,
                      "gridcolor": "white",
                      "linecolor": "white",
                      "ticks": "",
                      "title": {
                        "standoff": 15
                      },
                      "zerolinecolor": "white",
                      "zerolinewidth": 2
                    },
                    "yaxis": {
                      "automargin": true,
                      "gridcolor": "white",
                      "linecolor": "white",
                      "ticks": "",
                      "title": {
                        "standoff": 15
                      },
                      "zerolinecolor": "white",
                      "zerolinewidth": 2
                    }
                  }
                },
                "title": {
                  "text": "Precision Score vs. Max Depth for a Decision Tree",
                  "x": 0.5,
                  "xanchor": "center"
                },
                "xaxis": {
                  "anchor": "y",
                  "domain": [
                    0,
                    1
                  ],
                  "title": {
                    "text": "Max Depth"
                  }
                },
                "yaxis": {
                  "anchor": "x",
                  "domain": [
                    0,
                    1
                  ],
                  "range": [
                    54,
                    60
                  ],
                  "title": {
                    "text": "Precision Score"
                  }
                }
              }
            }
          },
          "metadata": {},
          "output_type": "display_data"
        }
      ],
      "source": [
        "# Convert the dictionary to a DataFrame\n",
        "df = pd.DataFrame(list(precision_by_depth.items()), columns=['max_depth', 'precision_score'])\n",
        "df.loc[:,'precision_score'] = df.precision_score*100.0 # need for % visualisation\n",
        "\n",
        "# Create the bar chart using Plotly Express\n",
        "fig = px.bar(df,\n",
        "             x='max_depth',\n",
        "             y='precision_score',\n",
        "            #  title='Precision Score vs. Max Depth for a Decision Tree',\n",
        "             labels={'max_depth': 'Max Depth', 'precision_score': 'Precision Score'},\n",
        "             range_y=[54, 60],\n",
        "             text='precision_score')\n",
        "\n",
        "# Update the text format to display as percentages\n",
        "fig.update_traces(texttemplate='%{text:.2f}%', textposition='outside')\n",
        "\n",
        "# Center the title\n",
        "fig.update_layout(title={'text': 'Precision Score vs. Max Depth for a Decision Tree', 'x': 0.5, 'xanchor': 'center'})\n",
        "\n",
        "\n",
        "# Show the figure\n",
        "fig.show()"
      ]
    },
    {
      "cell_type": "code",
      "execution_count": 69,
      "metadata": {
        "colab": {
          "base_uri": "https://localhost:8080/"
        },
        "id": "f1OnBZJLtHkI",
        "outputId": "76a428f2-c47b-4806-c6c7-9f9d7d9a676f"
      },
      "outputs": [
        {
          "name": "stdout",
          "output_type": "stream",
          "text": [
            "CPU times: total: 18.2 s\n",
            "Wall time: 34.5 s\n"
          ]
        }
      ],
      "source": [
        "%%time\n",
        "clf_best,train_columns = fit_decision_tree(X=X_train_valid,\n",
        "                           y=y_train_valid,\n",
        "                           max_depth=best_depth)"
      ]
    },
    {
      "cell_type": "code",
      "execution_count": 70,
      "metadata": {
        "colab": {
          "base_uri": "https://localhost:8080/"
        },
        "id": "o2-2CS-ptOLM",
        "outputId": "a90ccee8-a1b0-4694-cbf6-a2516de56a5b"
      },
      "outputs": [
        {
          "name": "stdout",
          "output_type": "stream",
          "text": [
            "Number of nodes: 7551\n",
            "Number of leaves: 3776\n"
          ]
        }
      ],
      "source": [
        "# For a DecisionTreeClassifier in scikit-learn, the concept of trainable parameters differs from that of neural networks.\n",
        "# In decision trees, the parameters are the structure of the tree itself (nodes and splits) rather than weights.\n",
        "# However, you can still get a sense of the model's complexity by looking at the number of nodes and leaves.\n",
        "\n",
        "# Here's how you can get this information for your trained DecisionTreeClassifier (referred to as clf_best):\n",
        "\n",
        "# Get the number of nodes and leaves in the tree\n",
        "n_nodes = clf_best.tree_.node_count\n",
        "n_leaves = clf_best.get_n_leaves()\n",
        "\n",
        "print(f\"Number of nodes: {n_nodes}\")\n",
        "print(f\"Number of leaves: {n_leaves}\")"
      ]
    },
    {
      "cell_type": "code",
      "execution_count": 71,
      "metadata": {
        "colab": {
          "base_uri": "https://localhost:8080/",
          "height": 74
        },
        "id": "KIRNFnQFtPwf",
        "outputId": "2114e736-44bc-47bf-e370-fb4ef97728d2"
      },
      "outputs": [
        {
          "data": {
            "text/html": [
              "<style>#sk-container-id-1 {color: black;}#sk-container-id-1 pre{padding: 0;}#sk-container-id-1 div.sk-toggleable {background-color: white;}#sk-container-id-1 label.sk-toggleable__label {cursor: pointer;display: block;width: 100%;margin-bottom: 0;padding: 0.3em;box-sizing: border-box;text-align: center;}#sk-container-id-1 label.sk-toggleable__label-arrow:before {content: \"▸\";float: left;margin-right: 0.25em;color: #696969;}#sk-container-id-1 label.sk-toggleable__label-arrow:hover:before {color: black;}#sk-container-id-1 div.sk-estimator:hover label.sk-toggleable__label-arrow:before {color: black;}#sk-container-id-1 div.sk-toggleable__content {max-height: 0;max-width: 0;overflow: hidden;text-align: left;background-color: #f0f8ff;}#sk-container-id-1 div.sk-toggleable__content pre {margin: 0.2em;color: black;border-radius: 0.25em;background-color: #f0f8ff;}#sk-container-id-1 input.sk-toggleable__control:checked~div.sk-toggleable__content {max-height: 200px;max-width: 100%;overflow: auto;}#sk-container-id-1 input.sk-toggleable__control:checked~label.sk-toggleable__label-arrow:before {content: \"▾\";}#sk-container-id-1 div.sk-estimator input.sk-toggleable__control:checked~label.sk-toggleable__label {background-color: #d4ebff;}#sk-container-id-1 div.sk-label input.sk-toggleable__control:checked~label.sk-toggleable__label {background-color: #d4ebff;}#sk-container-id-1 input.sk-hidden--visually {border: 0;clip: rect(1px 1px 1px 1px);clip: rect(1px, 1px, 1px, 1px);height: 1px;margin: -1px;overflow: hidden;padding: 0;position: absolute;width: 1px;}#sk-container-id-1 div.sk-estimator {font-family: monospace;background-color: #f0f8ff;border: 1px dotted black;border-radius: 0.25em;box-sizing: border-box;margin-bottom: 0.5em;}#sk-container-id-1 div.sk-estimator:hover {background-color: #d4ebff;}#sk-container-id-1 div.sk-parallel-item::after {content: \"\";width: 100%;border-bottom: 1px solid gray;flex-grow: 1;}#sk-container-id-1 div.sk-label:hover label.sk-toggleable__label {background-color: #d4ebff;}#sk-container-id-1 div.sk-serial::before {content: \"\";position: absolute;border-left: 1px solid gray;box-sizing: border-box;top: 0;bottom: 0;left: 50%;z-index: 0;}#sk-container-id-1 div.sk-serial {display: flex;flex-direction: column;align-items: center;background-color: white;padding-right: 0.2em;padding-left: 0.2em;position: relative;}#sk-container-id-1 div.sk-item {position: relative;z-index: 1;}#sk-container-id-1 div.sk-parallel {display: flex;align-items: stretch;justify-content: center;background-color: white;position: relative;}#sk-container-id-1 div.sk-item::before, #sk-container-id-1 div.sk-parallel-item::before {content: \"\";position: absolute;border-left: 1px solid gray;box-sizing: border-box;top: 0;bottom: 0;left: 50%;z-index: -1;}#sk-container-id-1 div.sk-parallel-item {display: flex;flex-direction: column;z-index: 1;position: relative;background-color: white;}#sk-container-id-1 div.sk-parallel-item:first-child::after {align-self: flex-end;width: 50%;}#sk-container-id-1 div.sk-parallel-item:last-child::after {align-self: flex-start;width: 50%;}#sk-container-id-1 div.sk-parallel-item:only-child::after {width: 0;}#sk-container-id-1 div.sk-dashed-wrapped {border: 1px dashed gray;margin: 0 0.4em 0.5em 0.4em;box-sizing: border-box;padding-bottom: 0.4em;background-color: white;}#sk-container-id-1 div.sk-label label {font-family: monospace;font-weight: bold;display: inline-block;line-height: 1.2em;}#sk-container-id-1 div.sk-label-container {text-align: center;}#sk-container-id-1 div.sk-container {/* jupyter's `normalize.less` sets `[hidden] { display: none; }` but bootstrap.min.css set `[hidden] { display: none !important; }` so we also need the `!important` here to be able to override the default hidden behavior on the sphinx rendered scikit-learn.org. See: https://github.com/scikit-learn/scikit-learn/issues/21755 */display: inline-block !important;position: relative;}#sk-container-id-1 div.sk-text-repr-fallback {display: none;}</style><div id=\"sk-container-id-1\" class=\"sk-top-container\"><div class=\"sk-text-repr-fallback\"><pre>DecisionTreeClassifier(max_depth=15, random_state=42)</pre><b>In a Jupyter environment, please rerun this cell to show the HTML representation or trust the notebook. <br />On GitHub, the HTML representation is unable to render, please try loading this page with nbviewer.org.</b></div><div class=\"sk-container\" hidden><div class=\"sk-item\"><div class=\"sk-estimator sk-toggleable\"><input class=\"sk-toggleable__control sk-hidden--visually\" id=\"sk-estimator-id-1\" type=\"checkbox\" checked><label for=\"sk-estimator-id-1\" class=\"sk-toggleable__label sk-toggleable__label-arrow\">DecisionTreeClassifier</label><div class=\"sk-toggleable__content\"><pre>DecisionTreeClassifier(max_depth=15, random_state=42)</pre></div></div></div></div></div>"
            ],
            "text/plain": [
              "DecisionTreeClassifier(max_depth=15, random_state=42)"
            ]
          },
          "execution_count": 71,
          "metadata": {},
          "output_type": "execute_result"
        }
      ],
      "source": [
        "clf_best"
      ]
    },
    {
      "cell_type": "code",
      "execution_count": 72,
      "metadata": {
        "id": "4su6awSjtQ5W"
      },
      "outputs": [],
      "source": [
        "# predict on a full dataset\n",
        "y_pred_clf_best = clf_best.predict(X_all)"
      ]
    },
    {
      "cell_type": "code",
      "execution_count": 73,
      "metadata": {
        "id": "1ZOQqQ0itR9o"
      },
      "outputs": [],
      "source": [
        "# defining a new prediction vector is easy now, as the dimensions will match\n",
        "new_df['pred6_clf_best'] = y_pred_clf_best"
      ]
    },
    {
      "cell_type": "code",
      "execution_count": 74,
      "metadata": {
        "colab": {
          "base_uri": "https://localhost:8080/"
        },
        "id": "5XxNt_9HtTlk",
        "outputId": "937160c3-f03e-4dc5-9d85-beb9de47812f"
      },
      "outputs": [
        {
          "name": "stdout",
          "output_type": "stream",
          "text": [
            "Prediction columns founded: ['pred0_manual_cci', 'pred1_manual_prev_g1', 'pred2_manual_prev_g1_and_snp', 'pred3_manual_gdp_and_fastd', 'pred4_manual_gdp_and_wti30d', 'pred5_clf_10', 'pred6_clf_best']\n",
            "Created columns is_correct: ['is_correct_pred0', 'is_correct_pred1', 'is_correct_pred2', 'is_correct_pred3', 'is_correct_pred4', 'is_correct_pred5', 'is_correct_pred6']\n",
            "Precision on TEST set for each prediction:\n",
            "Prediction column:pred0_manual_cci , is_correct_column: is_correct_pred0\n",
            "is_correct_pred0\n",
            "0    565\n",
            "1    234\n",
            "Name: count, dtype: int64\n",
            "is_correct_pred0\n",
            "0    0.707134\n",
            "1    0.292866\n",
            "Name: count, dtype: float64\n",
            "---------\n",
            "Prediction column:pred1_manual_prev_g1 , is_correct_column: is_correct_pred1\n",
            "is_correct_pred1\n",
            "0    10751\n",
            "1     4850\n",
            "Name: count, dtype: int64\n",
            "is_correct_pred1\n",
            "0    0.689122\n",
            "1    0.310878\n",
            "Name: count, dtype: float64\n",
            "---------\n",
            "Prediction column:pred2_manual_prev_g1_and_snp , is_correct_column: is_correct_pred2\n",
            "is_correct_pred2\n",
            "0    7248\n",
            "1    3207\n",
            "Name: count, dtype: int64\n",
            "is_correct_pred2\n",
            "0    0.693257\n",
            "1    0.306743\n",
            "Name: count, dtype: float64\n",
            "---------\n",
            "Prediction column:pred3_manual_gdp_and_fastd , is_correct_column: is_correct_pred3\n",
            "is_correct_pred3\n",
            "0    20343\n",
            "1     9479\n",
            "Name: count, dtype: int64\n",
            "is_correct_pred3\n",
            "0    0.682147\n",
            "1    0.317853\n",
            "Name: count, dtype: float64\n",
            "---------\n",
            "Prediction column:pred4_manual_gdp_and_wti30d , is_correct_column: is_correct_pred4\n",
            "Series([], Name: count, dtype: int64)\n",
            "Series([], Name: count, dtype: float64)\n",
            "---------\n",
            "Prediction column:pred5_clf_10 , is_correct_column: is_correct_pred5\n",
            "is_correct_pred5\n",
            "0    2136\n",
            "1    1090\n",
            "Name: count, dtype: int64\n",
            "is_correct_pred5\n",
            "0    0.66212\n",
            "1    0.33788\n",
            "Name: count, dtype: float64\n",
            "---------\n",
            "Prediction column:pred6_clf_best , is_correct_column: is_correct_pred6\n",
            "is_correct_pred6\n",
            "0    4150\n",
            "1    2079\n",
            "Name: count, dtype: int64\n",
            "is_correct_pred6\n",
            "0    0.666239\n",
            "1    0.333761\n",
            "Name: count, dtype: float64\n",
            "---------\n"
          ]
        }
      ],
      "source": [
        "# new prediction is added --> need to recalculate the correctness\n",
        "PREDICTIONS, IS_CORRECT = get_predictions_correctness(df = new_df, to_predict=to_predict)"
      ]
    },
    {
      "cell_type": "markdown",
      "metadata": {
        "id": "g9oeczqgpHHY"
      },
      "source": [
        "## 1.3) Random Forest\n",
        "https://scikit-learn.org/stable/modules/ensemble.html#random-forests-and-other-randomized-tree-ensembles"
      ]
    },
    {
      "cell_type": "code",
      "execution_count": 77,
      "metadata": {
        "id": "KPBgCdfopFlC"
      },
      "outputs": [],
      "source": [
        "# (ALMOST 3 HOURS) UNCOMMENT BELOW TO RUN HYPERPARAMs optimisation again\n",
        "# The best precision is 0.5778 and the best depth is 20\n",
        "# CPU times: user 2h 48min 27s, sys: 31.9 s, total: 2h 48min 59s\n",
        "# Wall time: 1h 39min 44s"
      ]
    },
    {
      "cell_type": "code",
      "execution_count": 78,
      "metadata": {
        "id": "XmvVElr3pWLG"
      },
      "outputs": [],
      "source": [
        "# %%time\n",
        "# # hyper params tuning\n",
        "\n",
        "# precision_matrix = {}\n",
        "# best_precision = 0\n",
        "# best_depth = 0\n",
        "# best_estimators = 1\n",
        "\n",
        "# for depth in [15, 16, 17, 18, 19, 20]:\n",
        "#   for estimators in [50,100,200,500]:\n",
        "#     print(f'Working with HyperParams: depth = {depth}, estimators = {estimators}')\n",
        "\n",
        "#     # Start timing\n",
        "#     start_time = time.time()\n",
        "#     # fitting the tree on X_train, y_train\n",
        "#     rf = RandomForestClassifier(n_estimators = estimators,\n",
        "#                                 max_depth = depth,\n",
        "#                                 random_state = 42,\n",
        "#                                 n_jobs = -1)\n",
        "\n",
        "#     rf = rf.fit(X_train_valid, y_train_valid)\n",
        "\n",
        "#     # getting the predictions for TEST and accuracy score\n",
        "#     y_pred_valid = rf.predict(X_valid)\n",
        "#     precision_valid = precision_score(y_valid, y_pred_valid)\n",
        "#     y_pred_test = rf.predict(X_test)\n",
        "#     precision_test = precision_score(y_test, y_pred_test)\n",
        "#     print(f'  Precision on test is {precision_test}, (precision on valid is {precision_valid} - tend to overfit)')\n",
        "\n",
        "#     # saving to the dict\n",
        "#     precision_matrix[depth, estimators] = round(precision_test,4)\n",
        "\n",
        "#     # Measure elapsed time\n",
        "#     elapsed_time = time.time() - start_time\n",
        "#     print(f'Time for training: {elapsed_time:.2f} seconds, or {elapsed_time/60:.2f} minutes')\n",
        "\n",
        "#     # updating the best precision\n",
        "#     if precision_test >= best_precision:\n",
        "#       best_precision = round(precision_test,4)\n",
        "#       best_depth = depth\n",
        "#       best_estimators = estimators\n",
        "#       print(f'New best precision found for depth={depth}, estimators = {estimators}')\n",
        "\n",
        "#     print('------------------------------')\n",
        "\n",
        "# print(f'Matrix of precisions: {precision_matrix}')\n",
        "# print(f'The best precision is {best_precision} and the best depth is {best_depth} ')"
      ]
    },
    {
      "cell_type": "code",
      "execution_count": 79,
      "metadata": {
        "id": "3p7fWd63pXtw"
      },
      "outputs": [],
      "source": [
        "# print(precision_matrix)"
      ]
    },
    {
      "cell_type": "code",
      "execution_count": 75,
      "metadata": {
        "id": "xh_ZPrYopZAy"
      },
      "outputs": [],
      "source": [
        "# pre-calculated best precision matrix (max_depth, n_estimators) for Random Forest for a full dataset (300 features) and is_positive_future_growth_5d\n",
        "best_precision_matrix_random_forest = {(15, 50): 0.5664, (15, 100): 0.565, (15, 200): 0.5711, (15, 500): 0.5741, (16, 50): 0.5703, (16, 100): 0.5679, (16, 200): 0.5728, (16, 500): 0.5739, (17, 50): 0.569, (17, 100): 0.569, (17, 200): 0.5734, (17, 500): 0.5709, (18, 50): 0.5641, (18, 100): 0.5636, (18, 200): 0.5704, (18, 500): 0.5678, (19, 50): 0.5634, (19, 100): 0.5623, (19, 200): 0.5683, (19, 500): 0.568, (20, 50): 0.561, (20, 100): 0.5655, (20, 200): 0.5744, (20, 500): 0.5778}\n"
      ]
    },
    {
      "cell_type": "code",
      "execution_count": 76,
      "metadata": {
        "colab": {
          "base_uri": "https://localhost:8080/",
          "height": 542
        },
        "id": "_mLg4zDypoB4",
        "outputId": "54e322fb-fa71-420d-c3be-f3fc69b33896"
      },
      "outputs": [
        {
          "data": {
            "application/vnd.plotly.v1+json": {
              "config": {
                "plotlyServerURL": "https://plot.ly"
              },
              "data": [
                {
                  "hovertemplate": "Number of Estimators=50<br>Max Depth=%{x}<br>Precision Score=%{y}<extra></extra>",
                  "legendgroup": "50",
                  "line": {
                    "color": "#636efa",
                    "dash": "solid"
                  },
                  "marker": {
                    "symbol": "circle"
                  },
                  "mode": "lines",
                  "name": "50",
                  "orientation": "v",
                  "showlegend": true,
                  "type": "scatter",
                  "x": [
                    15,
                    16,
                    17,
                    18,
                    19,
                    20
                  ],
                  "xaxis": "x",
                  "y": [
                    0.5664,
                    0.5703,
                    0.569,
                    0.5641,
                    0.5634,
                    0.561
                  ],
                  "yaxis": "y"
                },
                {
                  "hovertemplate": "Number of Estimators=100<br>Max Depth=%{x}<br>Precision Score=%{y}<extra></extra>",
                  "legendgroup": "100",
                  "line": {
                    "color": "#EF553B",
                    "dash": "solid"
                  },
                  "marker": {
                    "symbol": "circle"
                  },
                  "mode": "lines",
                  "name": "100",
                  "orientation": "v",
                  "showlegend": true,
                  "type": "scatter",
                  "x": [
                    15,
                    16,
                    17,
                    18,
                    19,
                    20
                  ],
                  "xaxis": "x",
                  "y": [
                    0.565,
                    0.5679,
                    0.569,
                    0.5636,
                    0.5623,
                    0.5655
                  ],
                  "yaxis": "y"
                },
                {
                  "hovertemplate": "Number of Estimators=200<br>Max Depth=%{x}<br>Precision Score=%{y}<extra></extra>",
                  "legendgroup": "200",
                  "line": {
                    "color": "#00cc96",
                    "dash": "solid"
                  },
                  "marker": {
                    "symbol": "circle"
                  },
                  "mode": "lines",
                  "name": "200",
                  "orientation": "v",
                  "showlegend": true,
                  "type": "scatter",
                  "x": [
                    15,
                    16,
                    17,
                    18,
                    19,
                    20
                  ],
                  "xaxis": "x",
                  "y": [
                    0.5711,
                    0.5728,
                    0.5734,
                    0.5704,
                    0.5683,
                    0.5744
                  ],
                  "yaxis": "y"
                },
                {
                  "hovertemplate": "Number of Estimators=500<br>Max Depth=%{x}<br>Precision Score=%{y}<extra></extra>",
                  "legendgroup": "500",
                  "line": {
                    "color": "#ab63fa",
                    "dash": "solid"
                  },
                  "marker": {
                    "symbol": "circle"
                  },
                  "mode": "lines",
                  "name": "500",
                  "orientation": "v",
                  "showlegend": true,
                  "type": "scatter",
                  "x": [
                    15,
                    16,
                    17,
                    18,
                    19,
                    20
                  ],
                  "xaxis": "x",
                  "y": [
                    0.5741,
                    0.5739,
                    0.5709,
                    0.5678,
                    0.568,
                    0.5778
                  ],
                  "yaxis": "y"
                }
              ],
              "layout": {
                "legend": {
                  "title": {
                    "text": "Number of Estimators"
                  },
                  "tracegroupgap": 0
                },
                "template": {
                  "data": {
                    "bar": [
                      {
                        "error_x": {
                          "color": "#2a3f5f"
                        },
                        "error_y": {
                          "color": "#2a3f5f"
                        },
                        "marker": {
                          "line": {
                            "color": "#E5ECF6",
                            "width": 0.5
                          },
                          "pattern": {
                            "fillmode": "overlay",
                            "size": 10,
                            "solidity": 0.2
                          }
                        },
                        "type": "bar"
                      }
                    ],
                    "barpolar": [
                      {
                        "marker": {
                          "line": {
                            "color": "#E5ECF6",
                            "width": 0.5
                          },
                          "pattern": {
                            "fillmode": "overlay",
                            "size": 10,
                            "solidity": 0.2
                          }
                        },
                        "type": "barpolar"
                      }
                    ],
                    "carpet": [
                      {
                        "aaxis": {
                          "endlinecolor": "#2a3f5f",
                          "gridcolor": "white",
                          "linecolor": "white",
                          "minorgridcolor": "white",
                          "startlinecolor": "#2a3f5f"
                        },
                        "baxis": {
                          "endlinecolor": "#2a3f5f",
                          "gridcolor": "white",
                          "linecolor": "white",
                          "minorgridcolor": "white",
                          "startlinecolor": "#2a3f5f"
                        },
                        "type": "carpet"
                      }
                    ],
                    "choropleth": [
                      {
                        "colorbar": {
                          "outlinewidth": 0,
                          "ticks": ""
                        },
                        "type": "choropleth"
                      }
                    ],
                    "contour": [
                      {
                        "colorbar": {
                          "outlinewidth": 0,
                          "ticks": ""
                        },
                        "colorscale": [
                          [
                            0,
                            "#0d0887"
                          ],
                          [
                            0.1111111111111111,
                            "#46039f"
                          ],
                          [
                            0.2222222222222222,
                            "#7201a8"
                          ],
                          [
                            0.3333333333333333,
                            "#9c179e"
                          ],
                          [
                            0.4444444444444444,
                            "#bd3786"
                          ],
                          [
                            0.5555555555555556,
                            "#d8576b"
                          ],
                          [
                            0.6666666666666666,
                            "#ed7953"
                          ],
                          [
                            0.7777777777777778,
                            "#fb9f3a"
                          ],
                          [
                            0.8888888888888888,
                            "#fdca26"
                          ],
                          [
                            1,
                            "#f0f921"
                          ]
                        ],
                        "type": "contour"
                      }
                    ],
                    "contourcarpet": [
                      {
                        "colorbar": {
                          "outlinewidth": 0,
                          "ticks": ""
                        },
                        "type": "contourcarpet"
                      }
                    ],
                    "heatmap": [
                      {
                        "colorbar": {
                          "outlinewidth": 0,
                          "ticks": ""
                        },
                        "colorscale": [
                          [
                            0,
                            "#0d0887"
                          ],
                          [
                            0.1111111111111111,
                            "#46039f"
                          ],
                          [
                            0.2222222222222222,
                            "#7201a8"
                          ],
                          [
                            0.3333333333333333,
                            "#9c179e"
                          ],
                          [
                            0.4444444444444444,
                            "#bd3786"
                          ],
                          [
                            0.5555555555555556,
                            "#d8576b"
                          ],
                          [
                            0.6666666666666666,
                            "#ed7953"
                          ],
                          [
                            0.7777777777777778,
                            "#fb9f3a"
                          ],
                          [
                            0.8888888888888888,
                            "#fdca26"
                          ],
                          [
                            1,
                            "#f0f921"
                          ]
                        ],
                        "type": "heatmap"
                      }
                    ],
                    "heatmapgl": [
                      {
                        "colorbar": {
                          "outlinewidth": 0,
                          "ticks": ""
                        },
                        "colorscale": [
                          [
                            0,
                            "#0d0887"
                          ],
                          [
                            0.1111111111111111,
                            "#46039f"
                          ],
                          [
                            0.2222222222222222,
                            "#7201a8"
                          ],
                          [
                            0.3333333333333333,
                            "#9c179e"
                          ],
                          [
                            0.4444444444444444,
                            "#bd3786"
                          ],
                          [
                            0.5555555555555556,
                            "#d8576b"
                          ],
                          [
                            0.6666666666666666,
                            "#ed7953"
                          ],
                          [
                            0.7777777777777778,
                            "#fb9f3a"
                          ],
                          [
                            0.8888888888888888,
                            "#fdca26"
                          ],
                          [
                            1,
                            "#f0f921"
                          ]
                        ],
                        "type": "heatmapgl"
                      }
                    ],
                    "histogram": [
                      {
                        "marker": {
                          "pattern": {
                            "fillmode": "overlay",
                            "size": 10,
                            "solidity": 0.2
                          }
                        },
                        "type": "histogram"
                      }
                    ],
                    "histogram2d": [
                      {
                        "colorbar": {
                          "outlinewidth": 0,
                          "ticks": ""
                        },
                        "colorscale": [
                          [
                            0,
                            "#0d0887"
                          ],
                          [
                            0.1111111111111111,
                            "#46039f"
                          ],
                          [
                            0.2222222222222222,
                            "#7201a8"
                          ],
                          [
                            0.3333333333333333,
                            "#9c179e"
                          ],
                          [
                            0.4444444444444444,
                            "#bd3786"
                          ],
                          [
                            0.5555555555555556,
                            "#d8576b"
                          ],
                          [
                            0.6666666666666666,
                            "#ed7953"
                          ],
                          [
                            0.7777777777777778,
                            "#fb9f3a"
                          ],
                          [
                            0.8888888888888888,
                            "#fdca26"
                          ],
                          [
                            1,
                            "#f0f921"
                          ]
                        ],
                        "type": "histogram2d"
                      }
                    ],
                    "histogram2dcontour": [
                      {
                        "colorbar": {
                          "outlinewidth": 0,
                          "ticks": ""
                        },
                        "colorscale": [
                          [
                            0,
                            "#0d0887"
                          ],
                          [
                            0.1111111111111111,
                            "#46039f"
                          ],
                          [
                            0.2222222222222222,
                            "#7201a8"
                          ],
                          [
                            0.3333333333333333,
                            "#9c179e"
                          ],
                          [
                            0.4444444444444444,
                            "#bd3786"
                          ],
                          [
                            0.5555555555555556,
                            "#d8576b"
                          ],
                          [
                            0.6666666666666666,
                            "#ed7953"
                          ],
                          [
                            0.7777777777777778,
                            "#fb9f3a"
                          ],
                          [
                            0.8888888888888888,
                            "#fdca26"
                          ],
                          [
                            1,
                            "#f0f921"
                          ]
                        ],
                        "type": "histogram2dcontour"
                      }
                    ],
                    "mesh3d": [
                      {
                        "colorbar": {
                          "outlinewidth": 0,
                          "ticks": ""
                        },
                        "type": "mesh3d"
                      }
                    ],
                    "parcoords": [
                      {
                        "line": {
                          "colorbar": {
                            "outlinewidth": 0,
                            "ticks": ""
                          }
                        },
                        "type": "parcoords"
                      }
                    ],
                    "pie": [
                      {
                        "automargin": true,
                        "type": "pie"
                      }
                    ],
                    "scatter": [
                      {
                        "fillpattern": {
                          "fillmode": "overlay",
                          "size": 10,
                          "solidity": 0.2
                        },
                        "type": "scatter"
                      }
                    ],
                    "scatter3d": [
                      {
                        "line": {
                          "colorbar": {
                            "outlinewidth": 0,
                            "ticks": ""
                          }
                        },
                        "marker": {
                          "colorbar": {
                            "outlinewidth": 0,
                            "ticks": ""
                          }
                        },
                        "type": "scatter3d"
                      }
                    ],
                    "scattercarpet": [
                      {
                        "marker": {
                          "colorbar": {
                            "outlinewidth": 0,
                            "ticks": ""
                          }
                        },
                        "type": "scattercarpet"
                      }
                    ],
                    "scattergeo": [
                      {
                        "marker": {
                          "colorbar": {
                            "outlinewidth": 0,
                            "ticks": ""
                          }
                        },
                        "type": "scattergeo"
                      }
                    ],
                    "scattergl": [
                      {
                        "marker": {
                          "colorbar": {
                            "outlinewidth": 0,
                            "ticks": ""
                          }
                        },
                        "type": "scattergl"
                      }
                    ],
                    "scattermapbox": [
                      {
                        "marker": {
                          "colorbar": {
                            "outlinewidth": 0,
                            "ticks": ""
                          }
                        },
                        "type": "scattermapbox"
                      }
                    ],
                    "scatterpolar": [
                      {
                        "marker": {
                          "colorbar": {
                            "outlinewidth": 0,
                            "ticks": ""
                          }
                        },
                        "type": "scatterpolar"
                      }
                    ],
                    "scatterpolargl": [
                      {
                        "marker": {
                          "colorbar": {
                            "outlinewidth": 0,
                            "ticks": ""
                          }
                        },
                        "type": "scatterpolargl"
                      }
                    ],
                    "scatterternary": [
                      {
                        "marker": {
                          "colorbar": {
                            "outlinewidth": 0,
                            "ticks": ""
                          }
                        },
                        "type": "scatterternary"
                      }
                    ],
                    "surface": [
                      {
                        "colorbar": {
                          "outlinewidth": 0,
                          "ticks": ""
                        },
                        "colorscale": [
                          [
                            0,
                            "#0d0887"
                          ],
                          [
                            0.1111111111111111,
                            "#46039f"
                          ],
                          [
                            0.2222222222222222,
                            "#7201a8"
                          ],
                          [
                            0.3333333333333333,
                            "#9c179e"
                          ],
                          [
                            0.4444444444444444,
                            "#bd3786"
                          ],
                          [
                            0.5555555555555556,
                            "#d8576b"
                          ],
                          [
                            0.6666666666666666,
                            "#ed7953"
                          ],
                          [
                            0.7777777777777778,
                            "#fb9f3a"
                          ],
                          [
                            0.8888888888888888,
                            "#fdca26"
                          ],
                          [
                            1,
                            "#f0f921"
                          ]
                        ],
                        "type": "surface"
                      }
                    ],
                    "table": [
                      {
                        "cells": {
                          "fill": {
                            "color": "#EBF0F8"
                          },
                          "line": {
                            "color": "white"
                          }
                        },
                        "header": {
                          "fill": {
                            "color": "#C8D4E3"
                          },
                          "line": {
                            "color": "white"
                          }
                        },
                        "type": "table"
                      }
                    ]
                  },
                  "layout": {
                    "annotationdefaults": {
                      "arrowcolor": "#2a3f5f",
                      "arrowhead": 0,
                      "arrowwidth": 1
                    },
                    "autotypenumbers": "strict",
                    "coloraxis": {
                      "colorbar": {
                        "outlinewidth": 0,
                        "ticks": ""
                      }
                    },
                    "colorscale": {
                      "diverging": [
                        [
                          0,
                          "#8e0152"
                        ],
                        [
                          0.1,
                          "#c51b7d"
                        ],
                        [
                          0.2,
                          "#de77ae"
                        ],
                        [
                          0.3,
                          "#f1b6da"
                        ],
                        [
                          0.4,
                          "#fde0ef"
                        ],
                        [
                          0.5,
                          "#f7f7f7"
                        ],
                        [
                          0.6,
                          "#e6f5d0"
                        ],
                        [
                          0.7,
                          "#b8e186"
                        ],
                        [
                          0.8,
                          "#7fbc41"
                        ],
                        [
                          0.9,
                          "#4d9221"
                        ],
                        [
                          1,
                          "#276419"
                        ]
                      ],
                      "sequential": [
                        [
                          0,
                          "#0d0887"
                        ],
                        [
                          0.1111111111111111,
                          "#46039f"
                        ],
                        [
                          0.2222222222222222,
                          "#7201a8"
                        ],
                        [
                          0.3333333333333333,
                          "#9c179e"
                        ],
                        [
                          0.4444444444444444,
                          "#bd3786"
                        ],
                        [
                          0.5555555555555556,
                          "#d8576b"
                        ],
                        [
                          0.6666666666666666,
                          "#ed7953"
                        ],
                        [
                          0.7777777777777778,
                          "#fb9f3a"
                        ],
                        [
                          0.8888888888888888,
                          "#fdca26"
                        ],
                        [
                          1,
                          "#f0f921"
                        ]
                      ],
                      "sequentialminus": [
                        [
                          0,
                          "#0d0887"
                        ],
                        [
                          0.1111111111111111,
                          "#46039f"
                        ],
                        [
                          0.2222222222222222,
                          "#7201a8"
                        ],
                        [
                          0.3333333333333333,
                          "#9c179e"
                        ],
                        [
                          0.4444444444444444,
                          "#bd3786"
                        ],
                        [
                          0.5555555555555556,
                          "#d8576b"
                        ],
                        [
                          0.6666666666666666,
                          "#ed7953"
                        ],
                        [
                          0.7777777777777778,
                          "#fb9f3a"
                        ],
                        [
                          0.8888888888888888,
                          "#fdca26"
                        ],
                        [
                          1,
                          "#f0f921"
                        ]
                      ]
                    },
                    "colorway": [
                      "#636efa",
                      "#EF553B",
                      "#00cc96",
                      "#ab63fa",
                      "#FFA15A",
                      "#19d3f3",
                      "#FF6692",
                      "#B6E880",
                      "#FF97FF",
                      "#FECB52"
                    ],
                    "font": {
                      "color": "#2a3f5f"
                    },
                    "geo": {
                      "bgcolor": "white",
                      "lakecolor": "white",
                      "landcolor": "#E5ECF6",
                      "showlakes": true,
                      "showland": true,
                      "subunitcolor": "white"
                    },
                    "hoverlabel": {
                      "align": "left"
                    },
                    "hovermode": "closest",
                    "mapbox": {
                      "style": "light"
                    },
                    "paper_bgcolor": "white",
                    "plot_bgcolor": "#E5ECF6",
                    "polar": {
                      "angularaxis": {
                        "gridcolor": "white",
                        "linecolor": "white",
                        "ticks": ""
                      },
                      "bgcolor": "#E5ECF6",
                      "radialaxis": {
                        "gridcolor": "white",
                        "linecolor": "white",
                        "ticks": ""
                      }
                    },
                    "scene": {
                      "xaxis": {
                        "backgroundcolor": "#E5ECF6",
                        "gridcolor": "white",
                        "gridwidth": 2,
                        "linecolor": "white",
                        "showbackground": true,
                        "ticks": "",
                        "zerolinecolor": "white"
                      },
                      "yaxis": {
                        "backgroundcolor": "#E5ECF6",
                        "gridcolor": "white",
                        "gridwidth": 2,
                        "linecolor": "white",
                        "showbackground": true,
                        "ticks": "",
                        "zerolinecolor": "white"
                      },
                      "zaxis": {
                        "backgroundcolor": "#E5ECF6",
                        "gridcolor": "white",
                        "gridwidth": 2,
                        "linecolor": "white",
                        "showbackground": true,
                        "ticks": "",
                        "zerolinecolor": "white"
                      }
                    },
                    "shapedefaults": {
                      "line": {
                        "color": "#2a3f5f"
                      }
                    },
                    "ternary": {
                      "aaxis": {
                        "gridcolor": "white",
                        "linecolor": "white",
                        "ticks": ""
                      },
                      "baxis": {
                        "gridcolor": "white",
                        "linecolor": "white",
                        "ticks": ""
                      },
                      "bgcolor": "#E5ECF6",
                      "caxis": {
                        "gridcolor": "white",
                        "linecolor": "white",
                        "ticks": ""
                      }
                    },
                    "title": {
                      "x": 0.05
                    },
                    "xaxis": {
                      "automargin": true,
                      "gridcolor": "white",
                      "linecolor": "white",
                      "ticks": "",
                      "title": {
                        "standoff": 15
                      },
                      "zerolinecolor": "white",
                      "zerolinewidth": 2
                    },
                    "yaxis": {
                      "automargin": true,
                      "gridcolor": "white",
                      "linecolor": "white",
                      "ticks": "",
                      "title": {
                        "standoff": 15
                      },
                      "zerolinecolor": "white",
                      "zerolinewidth": 2
                    }
                  }
                },
                "title": {
                  "text": "Random Forest Models: Precision Score vs. Max Depth for Different Number of Estimators"
                },
                "xaxis": {
                  "anchor": "y",
                  "domain": [
                    0,
                    1
                  ],
                  "range": [
                    15,
                    20
                  ],
                  "title": {
                    "text": "Max Depth"
                  }
                },
                "yaxis": {
                  "anchor": "x",
                  "domain": [
                    0,
                    1
                  ],
                  "title": {
                    "text": "Precision Score"
                  }
                }
              }
            }
          },
          "metadata": {},
          "output_type": "display_data"
        }
      ],
      "source": [
        "\n",
        "# Convert data to DataFrame\n",
        "df = pd.DataFrame.from_dict(best_precision_matrix_random_forest, orient='index', columns=['precision_score']).reset_index()\n",
        "\n",
        "# Rename the columns for clarity\n",
        "df.columns = ['max_depth_and_metric', 'precision_score']\n",
        "\n",
        "# Separate the tuple into two columns\n",
        "df[['max_depth', 'n_estimators']] = pd.DataFrame(df['max_depth_and_metric'].tolist(), index=df.index)\n",
        "\n",
        "# Drop the combined column\n",
        "df = df.drop(columns=['max_depth_and_metric'])\n",
        "\n",
        "# Create line plot using Plotly Express\n",
        "fig = px.line(df, x='max_depth', y='precision_score', color='n_estimators',\n",
        "              labels={'max_depth': 'Max Depth', 'precision_score': 'Precision Score', 'n_estimators': 'Number of Estimators'},\n",
        "              title='Random Forest Models: Precision Score vs. Max Depth for Different Number of Estimators')\n",
        "\n",
        "# Adjust x-axis range\n",
        "fig.update_xaxes(range=[15, 20])\n",
        "\n",
        "# Show the figure\n",
        "fig.show()"
      ]
    },
    {
      "cell_type": "code",
      "execution_count": 77,
      "metadata": {
        "colab": {
          "base_uri": "https://localhost:8080/"
        },
        "id": "f89wTM0wpoNP",
        "outputId": "4665a2c5-b997-4658-d9c3-11d15a2da955"
      },
      "outputs": [
        {
          "name": "stdout",
          "output_type": "stream",
          "text": [
            "CPU times: total: 9min 11s\n",
            "Wall time: 46.4 s\n"
          ]
        }
      ],
      "source": [
        "%%time\n",
        "\n",
        "# Suboptimal Predictor with less (than optimal) Estimators (200) and lower Max_Depth (17)\n",
        "# several minutes to compute (6 min)\n",
        "\n",
        "rf_best = RandomForestClassifier(n_estimators = 200,\n",
        "                                 max_depth = 17,\n",
        "                                 random_state = 42,\n",
        "                                 n_jobs = -1)\n",
        "\n",
        "rf_best = rf_best.fit(X_train_valid, y_train_valid)"
      ]
    },
    {
      "cell_type": "markdown",
      "metadata": {
        "id": "9f87ZB8Jp5Ri"
      },
      "source": [
        "## 1.4 Logistic Regression\n",
        "\n",
        "https://scikit-learn.org/stable/modules/generated/sklearn.linear_model.LogisticRegression.html\n",
        "\n",
        "There can be many reasons when Logistic Regression does not converge: https://forecastegy.com/posts/how-to-solve-logistic-regression-not-converging-in-scikit-learn/"
      ]
    },
    {
      "cell_type": "code",
      "execution_count": 83,
      "metadata": {
        "id": "nGTYxIpvqFm2"
      },
      "outputs": [],
      "source": [
        "# precision_matrix = {}\n",
        "# best_precision = 0\n",
        "# best_C = 0\n",
        "# best_iter = 0\n",
        "\n",
        "# for c in [1, 0.1, 0.01]:\n",
        "#   for iter in [50, 100, 200]:\n",
        "#     print(f'Working with HyperParams: C = {c} (positive float, smaller = stronger regularization), max_iter={iter}')\n",
        "#     # fitting the tree on X_train, y_train\n",
        "#       # hyperParam C should be between 0 and 1\n",
        "#     lr = LogisticRegression(C=c,\n",
        "#                             random_state=42,\n",
        "#                             max_iter=iter,\n",
        "#                             solver='sag',\n",
        "#                             n_jobs=-1)\n",
        "\n",
        "#     lr = lr.fit(X_train_valid, y_train_valid)\n",
        "\n",
        "#     # getting the predictions for TEST and accuracy score\n",
        "#     y_pred_valid = lr.predict(X_valid)\n",
        "#     precision_valid = precision_score(y_valid, y_pred_valid)\n",
        "#     y_pred_test = lr.predict(X_test)\n",
        "#     precision_test = precision_score(y_test, y_pred_test)\n",
        "#     print(f'  Precision on test is {precision_test}, (precision on valid is {precision_valid} - tend to overfit)')\n",
        "#     # saving to the dict\n",
        "#     precision_matrix[(c,iter)] = round(precision_test,4)\n",
        "#     # updating the best precision\n",
        "#     if precision_test >= best_precision:\n",
        "#       best_precision = round(precision_test,4)\n",
        "#       best_C = c\n",
        "#       best_iter = iter\n",
        "#       print(f'New best precision found for C={c}')\n",
        "#       print('------------------------------')\n",
        "\n",
        "# print(f'Matrix of precisions: {precision_matrix}')\n",
        "# print(f'The best precision is {best_precision} and the best C is {best_C}, best max_iter = {best_iter}  ')"
      ]
    },
    {
      "cell_type": "code",
      "execution_count": 84,
      "metadata": {
        "id": "6Ld4QIPXqGa-"
      },
      "outputs": [],
      "source": [
        "# UNCOMMENT TO SEE THE RESULTS OF THE RUN\n",
        "# print(precision_matrix)"
      ]
    },
    {
      "cell_type": "code",
      "execution_count": 78,
      "metadata": {
        "id": "QxSsyYWGqHSr"
      },
      "outputs": [],
      "source": [
        "# Params on C, iter\n",
        "best_precision_matrix_logistic_regression = {(1, 50): 0.5551, (1, 100): 0.555, (1, 200): 0.555, (0.1, 50): 0.5551, (0.1, 100): 0.555, (0.1, 200): 0.555, (0.01, 50): 0.5551, (0.01, 100): 0.555, (0.01, 200): 0.555}\n"
      ]
    },
    {
      "cell_type": "code",
      "execution_count": 79,
      "metadata": {
        "colab": {
          "base_uri": "https://localhost:8080/"
        },
        "id": "I8S8HmAQqIgB",
        "outputId": "23bb95c0-5cdb-400f-fda9-2b11d81d124b"
      },
      "outputs": [
        {
          "data": {
            "text/plain": [
              "((1, 50), 0.5551)"
            ]
          },
          "execution_count": 79,
          "metadata": {},
          "output_type": "execute_result"
        }
      ],
      "source": [
        "list(best_precision_matrix_logistic_regression.items())[0]"
      ]
    },
    {
      "cell_type": "code",
      "execution_count": 80,
      "metadata": {
        "colab": {
          "base_uri": "https://localhost:8080/",
          "height": 542
        },
        "id": "G35N2HI2qK3-",
        "outputId": "6c369447-c857-439d-cb99-148bb5b3d55b"
      },
      "outputs": [
        {
          "data": {
            "application/vnd.plotly.v1+json": {
              "config": {
                "plotlyServerURL": "https://plot.ly"
              },
              "data": [
                {
                  "alignmentgroup": "True",
                  "hovertemplate": "Combination=%{x}<br>Precision=%{text}<extra></extra>",
                  "legendgroup": "",
                  "marker": {
                    "color": "#636efa",
                    "pattern": {
                      "shape": ""
                    }
                  },
                  "name": "",
                  "offsetgroup": "",
                  "orientation": "v",
                  "showlegend": false,
                  "text": [
                    55.510000000000005,
                    55.50000000000001,
                    55.50000000000001,
                    55.510000000000005,
                    55.50000000000001,
                    55.50000000000001,
                    55.510000000000005,
                    55.50000000000001,
                    55.50000000000001
                  ],
                  "textfont": {
                    "color": "white"
                  },
                  "textposition": "inside",
                  "texttemplate": "%{text:.2f}%",
                  "type": "bar",
                  "x": [
                    "C=1, max_iter=50",
                    "C=1, max_iter=100",
                    "C=1, max_iter=200",
                    "C=0.1, max_iter=50",
                    "C=0.1, max_iter=100",
                    "C=0.1, max_iter=200",
                    "C=0.01, max_iter=50",
                    "C=0.01, max_iter=100",
                    "C=0.01, max_iter=200"
                  ],
                  "xaxis": "x",
                  "y": [
                    55.510000000000005,
                    55.50000000000001,
                    55.50000000000001,
                    55.510000000000005,
                    55.50000000000001,
                    55.50000000000001,
                    55.510000000000005,
                    55.50000000000001,
                    55.50000000000001
                  ],
                  "yaxis": "y"
                }
              ],
              "layout": {
                "barmode": "relative",
                "legend": {
                  "tracegroupgap": 0
                },
                "margin": {
                  "t": 60
                },
                "template": {
                  "data": {
                    "bar": [
                      {
                        "error_x": {
                          "color": "#2a3f5f"
                        },
                        "error_y": {
                          "color": "#2a3f5f"
                        },
                        "marker": {
                          "line": {
                            "color": "#E5ECF6",
                            "width": 0.5
                          },
                          "pattern": {
                            "fillmode": "overlay",
                            "size": 10,
                            "solidity": 0.2
                          }
                        },
                        "type": "bar"
                      }
                    ],
                    "barpolar": [
                      {
                        "marker": {
                          "line": {
                            "color": "#E5ECF6",
                            "width": 0.5
                          },
                          "pattern": {
                            "fillmode": "overlay",
                            "size": 10,
                            "solidity": 0.2
                          }
                        },
                        "type": "barpolar"
                      }
                    ],
                    "carpet": [
                      {
                        "aaxis": {
                          "endlinecolor": "#2a3f5f",
                          "gridcolor": "white",
                          "linecolor": "white",
                          "minorgridcolor": "white",
                          "startlinecolor": "#2a3f5f"
                        },
                        "baxis": {
                          "endlinecolor": "#2a3f5f",
                          "gridcolor": "white",
                          "linecolor": "white",
                          "minorgridcolor": "white",
                          "startlinecolor": "#2a3f5f"
                        },
                        "type": "carpet"
                      }
                    ],
                    "choropleth": [
                      {
                        "colorbar": {
                          "outlinewidth": 0,
                          "ticks": ""
                        },
                        "type": "choropleth"
                      }
                    ],
                    "contour": [
                      {
                        "colorbar": {
                          "outlinewidth": 0,
                          "ticks": ""
                        },
                        "colorscale": [
                          [
                            0,
                            "#0d0887"
                          ],
                          [
                            0.1111111111111111,
                            "#46039f"
                          ],
                          [
                            0.2222222222222222,
                            "#7201a8"
                          ],
                          [
                            0.3333333333333333,
                            "#9c179e"
                          ],
                          [
                            0.4444444444444444,
                            "#bd3786"
                          ],
                          [
                            0.5555555555555556,
                            "#d8576b"
                          ],
                          [
                            0.6666666666666666,
                            "#ed7953"
                          ],
                          [
                            0.7777777777777778,
                            "#fb9f3a"
                          ],
                          [
                            0.8888888888888888,
                            "#fdca26"
                          ],
                          [
                            1,
                            "#f0f921"
                          ]
                        ],
                        "type": "contour"
                      }
                    ],
                    "contourcarpet": [
                      {
                        "colorbar": {
                          "outlinewidth": 0,
                          "ticks": ""
                        },
                        "type": "contourcarpet"
                      }
                    ],
                    "heatmap": [
                      {
                        "colorbar": {
                          "outlinewidth": 0,
                          "ticks": ""
                        },
                        "colorscale": [
                          [
                            0,
                            "#0d0887"
                          ],
                          [
                            0.1111111111111111,
                            "#46039f"
                          ],
                          [
                            0.2222222222222222,
                            "#7201a8"
                          ],
                          [
                            0.3333333333333333,
                            "#9c179e"
                          ],
                          [
                            0.4444444444444444,
                            "#bd3786"
                          ],
                          [
                            0.5555555555555556,
                            "#d8576b"
                          ],
                          [
                            0.6666666666666666,
                            "#ed7953"
                          ],
                          [
                            0.7777777777777778,
                            "#fb9f3a"
                          ],
                          [
                            0.8888888888888888,
                            "#fdca26"
                          ],
                          [
                            1,
                            "#f0f921"
                          ]
                        ],
                        "type": "heatmap"
                      }
                    ],
                    "heatmapgl": [
                      {
                        "colorbar": {
                          "outlinewidth": 0,
                          "ticks": ""
                        },
                        "colorscale": [
                          [
                            0,
                            "#0d0887"
                          ],
                          [
                            0.1111111111111111,
                            "#46039f"
                          ],
                          [
                            0.2222222222222222,
                            "#7201a8"
                          ],
                          [
                            0.3333333333333333,
                            "#9c179e"
                          ],
                          [
                            0.4444444444444444,
                            "#bd3786"
                          ],
                          [
                            0.5555555555555556,
                            "#d8576b"
                          ],
                          [
                            0.6666666666666666,
                            "#ed7953"
                          ],
                          [
                            0.7777777777777778,
                            "#fb9f3a"
                          ],
                          [
                            0.8888888888888888,
                            "#fdca26"
                          ],
                          [
                            1,
                            "#f0f921"
                          ]
                        ],
                        "type": "heatmapgl"
                      }
                    ],
                    "histogram": [
                      {
                        "marker": {
                          "pattern": {
                            "fillmode": "overlay",
                            "size": 10,
                            "solidity": 0.2
                          }
                        },
                        "type": "histogram"
                      }
                    ],
                    "histogram2d": [
                      {
                        "colorbar": {
                          "outlinewidth": 0,
                          "ticks": ""
                        },
                        "colorscale": [
                          [
                            0,
                            "#0d0887"
                          ],
                          [
                            0.1111111111111111,
                            "#46039f"
                          ],
                          [
                            0.2222222222222222,
                            "#7201a8"
                          ],
                          [
                            0.3333333333333333,
                            "#9c179e"
                          ],
                          [
                            0.4444444444444444,
                            "#bd3786"
                          ],
                          [
                            0.5555555555555556,
                            "#d8576b"
                          ],
                          [
                            0.6666666666666666,
                            "#ed7953"
                          ],
                          [
                            0.7777777777777778,
                            "#fb9f3a"
                          ],
                          [
                            0.8888888888888888,
                            "#fdca26"
                          ],
                          [
                            1,
                            "#f0f921"
                          ]
                        ],
                        "type": "histogram2d"
                      }
                    ],
                    "histogram2dcontour": [
                      {
                        "colorbar": {
                          "outlinewidth": 0,
                          "ticks": ""
                        },
                        "colorscale": [
                          [
                            0,
                            "#0d0887"
                          ],
                          [
                            0.1111111111111111,
                            "#46039f"
                          ],
                          [
                            0.2222222222222222,
                            "#7201a8"
                          ],
                          [
                            0.3333333333333333,
                            "#9c179e"
                          ],
                          [
                            0.4444444444444444,
                            "#bd3786"
                          ],
                          [
                            0.5555555555555556,
                            "#d8576b"
                          ],
                          [
                            0.6666666666666666,
                            "#ed7953"
                          ],
                          [
                            0.7777777777777778,
                            "#fb9f3a"
                          ],
                          [
                            0.8888888888888888,
                            "#fdca26"
                          ],
                          [
                            1,
                            "#f0f921"
                          ]
                        ],
                        "type": "histogram2dcontour"
                      }
                    ],
                    "mesh3d": [
                      {
                        "colorbar": {
                          "outlinewidth": 0,
                          "ticks": ""
                        },
                        "type": "mesh3d"
                      }
                    ],
                    "parcoords": [
                      {
                        "line": {
                          "colorbar": {
                            "outlinewidth": 0,
                            "ticks": ""
                          }
                        },
                        "type": "parcoords"
                      }
                    ],
                    "pie": [
                      {
                        "automargin": true,
                        "type": "pie"
                      }
                    ],
                    "scatter": [
                      {
                        "fillpattern": {
                          "fillmode": "overlay",
                          "size": 10,
                          "solidity": 0.2
                        },
                        "type": "scatter"
                      }
                    ],
                    "scatter3d": [
                      {
                        "line": {
                          "colorbar": {
                            "outlinewidth": 0,
                            "ticks": ""
                          }
                        },
                        "marker": {
                          "colorbar": {
                            "outlinewidth": 0,
                            "ticks": ""
                          }
                        },
                        "type": "scatter3d"
                      }
                    ],
                    "scattercarpet": [
                      {
                        "marker": {
                          "colorbar": {
                            "outlinewidth": 0,
                            "ticks": ""
                          }
                        },
                        "type": "scattercarpet"
                      }
                    ],
                    "scattergeo": [
                      {
                        "marker": {
                          "colorbar": {
                            "outlinewidth": 0,
                            "ticks": ""
                          }
                        },
                        "type": "scattergeo"
                      }
                    ],
                    "scattergl": [
                      {
                        "marker": {
                          "colorbar": {
                            "outlinewidth": 0,
                            "ticks": ""
                          }
                        },
                        "type": "scattergl"
                      }
                    ],
                    "scattermapbox": [
                      {
                        "marker": {
                          "colorbar": {
                            "outlinewidth": 0,
                            "ticks": ""
                          }
                        },
                        "type": "scattermapbox"
                      }
                    ],
                    "scatterpolar": [
                      {
                        "marker": {
                          "colorbar": {
                            "outlinewidth": 0,
                            "ticks": ""
                          }
                        },
                        "type": "scatterpolar"
                      }
                    ],
                    "scatterpolargl": [
                      {
                        "marker": {
                          "colorbar": {
                            "outlinewidth": 0,
                            "ticks": ""
                          }
                        },
                        "type": "scatterpolargl"
                      }
                    ],
                    "scatterternary": [
                      {
                        "marker": {
                          "colorbar": {
                            "outlinewidth": 0,
                            "ticks": ""
                          }
                        },
                        "type": "scatterternary"
                      }
                    ],
                    "surface": [
                      {
                        "colorbar": {
                          "outlinewidth": 0,
                          "ticks": ""
                        },
                        "colorscale": [
                          [
                            0,
                            "#0d0887"
                          ],
                          [
                            0.1111111111111111,
                            "#46039f"
                          ],
                          [
                            0.2222222222222222,
                            "#7201a8"
                          ],
                          [
                            0.3333333333333333,
                            "#9c179e"
                          ],
                          [
                            0.4444444444444444,
                            "#bd3786"
                          ],
                          [
                            0.5555555555555556,
                            "#d8576b"
                          ],
                          [
                            0.6666666666666666,
                            "#ed7953"
                          ],
                          [
                            0.7777777777777778,
                            "#fb9f3a"
                          ],
                          [
                            0.8888888888888888,
                            "#fdca26"
                          ],
                          [
                            1,
                            "#f0f921"
                          ]
                        ],
                        "type": "surface"
                      }
                    ],
                    "table": [
                      {
                        "cells": {
                          "fill": {
                            "color": "#EBF0F8"
                          },
                          "line": {
                            "color": "white"
                          }
                        },
                        "header": {
                          "fill": {
                            "color": "#C8D4E3"
                          },
                          "line": {
                            "color": "white"
                          }
                        },
                        "type": "table"
                      }
                    ]
                  },
                  "layout": {
                    "annotationdefaults": {
                      "arrowcolor": "#2a3f5f",
                      "arrowhead": 0,
                      "arrowwidth": 1
                    },
                    "autotypenumbers": "strict",
                    "coloraxis": {
                      "colorbar": {
                        "outlinewidth": 0,
                        "ticks": ""
                      }
                    },
                    "colorscale": {
                      "diverging": [
                        [
                          0,
                          "#8e0152"
                        ],
                        [
                          0.1,
                          "#c51b7d"
                        ],
                        [
                          0.2,
                          "#de77ae"
                        ],
                        [
                          0.3,
                          "#f1b6da"
                        ],
                        [
                          0.4,
                          "#fde0ef"
                        ],
                        [
                          0.5,
                          "#f7f7f7"
                        ],
                        [
                          0.6,
                          "#e6f5d0"
                        ],
                        [
                          0.7,
                          "#b8e186"
                        ],
                        [
                          0.8,
                          "#7fbc41"
                        ],
                        [
                          0.9,
                          "#4d9221"
                        ],
                        [
                          1,
                          "#276419"
                        ]
                      ],
                      "sequential": [
                        [
                          0,
                          "#0d0887"
                        ],
                        [
                          0.1111111111111111,
                          "#46039f"
                        ],
                        [
                          0.2222222222222222,
                          "#7201a8"
                        ],
                        [
                          0.3333333333333333,
                          "#9c179e"
                        ],
                        [
                          0.4444444444444444,
                          "#bd3786"
                        ],
                        [
                          0.5555555555555556,
                          "#d8576b"
                        ],
                        [
                          0.6666666666666666,
                          "#ed7953"
                        ],
                        [
                          0.7777777777777778,
                          "#fb9f3a"
                        ],
                        [
                          0.8888888888888888,
                          "#fdca26"
                        ],
                        [
                          1,
                          "#f0f921"
                        ]
                      ],
                      "sequentialminus": [
                        [
                          0,
                          "#0d0887"
                        ],
                        [
                          0.1111111111111111,
                          "#46039f"
                        ],
                        [
                          0.2222222222222222,
                          "#7201a8"
                        ],
                        [
                          0.3333333333333333,
                          "#9c179e"
                        ],
                        [
                          0.4444444444444444,
                          "#bd3786"
                        ],
                        [
                          0.5555555555555556,
                          "#d8576b"
                        ],
                        [
                          0.6666666666666666,
                          "#ed7953"
                        ],
                        [
                          0.7777777777777778,
                          "#fb9f3a"
                        ],
                        [
                          0.8888888888888888,
                          "#fdca26"
                        ],
                        [
                          1,
                          "#f0f921"
                        ]
                      ]
                    },
                    "colorway": [
                      "#636efa",
                      "#EF553B",
                      "#00cc96",
                      "#ab63fa",
                      "#FFA15A",
                      "#19d3f3",
                      "#FF6692",
                      "#B6E880",
                      "#FF97FF",
                      "#FECB52"
                    ],
                    "font": {
                      "color": "#2a3f5f"
                    },
                    "geo": {
                      "bgcolor": "white",
                      "lakecolor": "white",
                      "landcolor": "#E5ECF6",
                      "showlakes": true,
                      "showland": true,
                      "subunitcolor": "white"
                    },
                    "hoverlabel": {
                      "align": "left"
                    },
                    "hovermode": "closest",
                    "mapbox": {
                      "style": "light"
                    },
                    "paper_bgcolor": "white",
                    "plot_bgcolor": "#E5ECF6",
                    "polar": {
                      "angularaxis": {
                        "gridcolor": "white",
                        "linecolor": "white",
                        "ticks": ""
                      },
                      "bgcolor": "#E5ECF6",
                      "radialaxis": {
                        "gridcolor": "white",
                        "linecolor": "white",
                        "ticks": ""
                      }
                    },
                    "scene": {
                      "xaxis": {
                        "backgroundcolor": "#E5ECF6",
                        "gridcolor": "white",
                        "gridwidth": 2,
                        "linecolor": "white",
                        "showbackground": true,
                        "ticks": "",
                        "zerolinecolor": "white"
                      },
                      "yaxis": {
                        "backgroundcolor": "#E5ECF6",
                        "gridcolor": "white",
                        "gridwidth": 2,
                        "linecolor": "white",
                        "showbackground": true,
                        "ticks": "",
                        "zerolinecolor": "white"
                      },
                      "zaxis": {
                        "backgroundcolor": "#E5ECF6",
                        "gridcolor": "white",
                        "gridwidth": 2,
                        "linecolor": "white",
                        "showbackground": true,
                        "ticks": "",
                        "zerolinecolor": "white"
                      }
                    },
                    "shapedefaults": {
                      "line": {
                        "color": "#2a3f5f"
                      }
                    },
                    "ternary": {
                      "aaxis": {
                        "gridcolor": "white",
                        "linecolor": "white",
                        "ticks": ""
                      },
                      "baxis": {
                        "gridcolor": "white",
                        "linecolor": "white",
                        "ticks": ""
                      },
                      "bgcolor": "#E5ECF6",
                      "caxis": {
                        "gridcolor": "white",
                        "linecolor": "white",
                        "ticks": ""
                      }
                    },
                    "title": {
                      "x": 0.05
                    },
                    "xaxis": {
                      "automargin": true,
                      "gridcolor": "white",
                      "linecolor": "white",
                      "ticks": "",
                      "title": {
                        "standoff": 15
                      },
                      "zerolinecolor": "white",
                      "zerolinewidth": 2
                    },
                    "yaxis": {
                      "automargin": true,
                      "gridcolor": "white",
                      "linecolor": "white",
                      "ticks": "",
                      "title": {
                        "standoff": 15
                      },
                      "zerolinecolor": "white",
                      "zerolinewidth": 2
                    }
                  }
                },
                "title": {
                  "text": "Precision Scores for Various Logistic Regression Hyperparameter Combinations",
                  "x": 0.5,
                  "xanchor": "center",
                  "y": 0.95,
                  "yanchor": "top"
                },
                "xaxis": {
                  "anchor": "y",
                  "domain": [
                    0,
                    1
                  ],
                  "tickangle": -45,
                  "title": {
                    "text": "Hyperparams combinations of <C, Max Iterations>"
                  }
                },
                "yaxis": {
                  "anchor": "x",
                  "domain": [
                    0,
                    1
                  ],
                  "title": {
                    "text": "Precision Score"
                  }
                }
              }
            }
          },
          "metadata": {},
          "output_type": "display_data"
        }
      ],
      "source": [
        "# Visualise precision scores\n",
        "\n",
        "# Prepare the data\n",
        "rows = []\n",
        "for key, value in list(best_precision_matrix_logistic_regression.items()):\n",
        "    C, max_iter = key\n",
        "    combination_label = f'C={C}, max_iter={max_iter}'\n",
        "    rows.append({'Combination': combination_label, 'Precision': value})\n",
        "\n",
        "df = pd.DataFrame(rows)\n",
        "df.loc[:,'Precision'] = df.Precision*100.0 # need for % visualisation\n",
        "\n",
        "# Create the bar chart\n",
        "fig = px.bar(df,\n",
        "             x='Combination',\n",
        "             y='Precision',\n",
        "             text='Precision'\n",
        "             )\n",
        "\n",
        "# Customize the layout for better readability\n",
        "fig.update_layout(\n",
        "    xaxis_title='Hyperparams combinations of <C, Max Iterations>',\n",
        "    yaxis_title='Precision Score',\n",
        "    xaxis_tickangle=-45,\n",
        "    title={\n",
        "        'text': 'Precision Scores for Various Logistic Regression Hyperparameter Combinations',\n",
        "        'y':0.95,\n",
        "        'x':0.5,\n",
        "        'xanchor': 'center',\n",
        "        'yanchor': 'top'\n",
        "    }\n",
        ")\n",
        "\n",
        "\n",
        "# Update the text position\n",
        "fig.update_traces(texttemplate='%{text:.2f}%',\n",
        "                  textposition='inside',\n",
        "                  textfont_color='white')\n",
        "\n",
        "# Show the figure\n",
        "fig.show()"
      ]
    },
    {
      "cell_type": "markdown",
      "metadata": {
        "id": "_Uu1B9NuqP8w"
      },
      "source": [
        "## 1.5) ADVANCED: Deep Neural Network (DNN) and hyperparams tuning\n",
        "* Tutorial from Tensorflow.org\n",
        "* TowardsDataScience Hyperparameter Optimization with Keras\n",
        "* Machine Learning Mastery tutorial with Keras Deep Learning"
      ]
    },
    {
      "cell_type": "code",
      "execution_count": 81,
      "metadata": {
        "colab": {
          "base_uri": "https://localhost:8080/"
        },
        "id": "o_ng0r45qepY",
        "outputId": "e2e84399-b975-427d-ae98-783d9519c5c6"
      },
      "outputs": [
        {
          "name": "stdout",
          "output_type": "stream",
          "text": [
            "1024\n"
          ]
        }
      ],
      "source": [
        "# https://towardsdatascience.com/hyperparameter-optimization-with-keras-b82e6364ca53\n",
        "\n",
        "\n",
        "# Extended params set\n",
        "\n",
        "# p = {'lr': [0.01, 0.03,0.1, 0.3,1,3,10],\n",
        "#      'first_neuron': [0,16,32,64,128,256],\n",
        "#      'second_neuron':[0,16,32,64,128,256],\n",
        "#      'first_dropout':[0,0.2,0.3],\n",
        "#      'second_dropout':[0,0.2,0.3],\n",
        "#      'activation_first':['relu','sigmoid','linear'],\n",
        "#      'activation_second':['relu','sigmoid','linear'],\n",
        "#     #  'activation_first':('relu','elu','tanh','sigmoid','linear','softplus','selu', 'softsign','exponential'),\n",
        "#     #  'activation_second':('relu','elu','tanh','sigmoid','linear','softplus','selu', 'softsign','exponential'),\n",
        "#     #  'batch_size':(2,30,10),\n",
        "#     #  'loss': ('mse','mae'),\n",
        "#     #  'epochs':[150],\n",
        "#     #  'shape': ['brick','long_funnel'],\n",
        "#      'optimizer':['adam', 'nadam', 'rmaprop','sgd'],\n",
        "#     #  'losses': [logcosh, binary_crossentropy],\n",
        "#     #  'last_activation':[sigmoid]\n",
        "#      }\n",
        "\n",
        "\n",
        "# Reduced params set and available options\n",
        "p = {'lr': [0.1],\n",
        "     'first_neuron': [12,24,32,48,96, 128, 196, 256],\n",
        "     'second_neuron':[12,24,32,48,96, 128, 196, 256],\n",
        "     'first_dropout':[0.1],\n",
        "     'second_dropout':[0.1],\n",
        "     'activation_first':['relu','sigmoid','softplus','tanh'],\n",
        "     'activation_second':['relu'],\n",
        "    #  'activation_first':('relu','elu','tanh','sigmoid','linear','softplus','selu', 'softsign','exponential'),\n",
        "    #  'activation_second':('relu','elu','tanh','sigmoid','linear','softplus','selu', 'softsign','exponential'),\n",
        "    #  'batch_size':(2,30,10),\n",
        "    #  'loss': ('mse','mae'),\n",
        "    #  'epochs':[150],\n",
        "    #  'shape': ['brick','long_funnel'],\n",
        "     'optimizer':['adam','nadam','sgd','rmaprop'],\n",
        "    #  'losses': [logcosh, binary_crossentropy],\n",
        "    #  'last_activation':[sigmoid]\n",
        "     }\n",
        "\n",
        "\n",
        "# Number of models to run and write to SHEETS:\n",
        "count_models=0\n",
        "\n",
        "nn_params = {}\n",
        "\n",
        "for lr in p['lr']:\n",
        "  for first_neuron in p['first_neuron']:\n",
        "    for second_neuron in p['second_neuron']:\n",
        "      for first_dropout in p['first_dropout']:\n",
        "        for second_dropout in p['second_dropout']:\n",
        "          for activation_first in p['activation_first']:\n",
        "            for activation_second in p['activation_second']:\n",
        "              for optimizer in p['optimizer']:\n",
        "                # print(lr,first_neuron,second_neuron,first_dropout,second_dropout,activation_first,activation_second,optimizer,sep='/')\n",
        "                count_models=count_models+1\n",
        "                nn_params['learning_rate'] = lr\n",
        "                nn_params['first_layer_neurons'] = first_neuron\n",
        "                nn_params['first_layer_dropout'] = first_dropout\n",
        "                nn_params['second_layer_neurons'] = second_neuron\n",
        "                nn_params['second_layer_dropout'] = second_dropout\n",
        "                nn_params['activation_first_layer'] = activation_first\n",
        "                nn_params['activation_second_layer'] = activation_second\n",
        "                nn_params['optimizer'] = optimizer\n",
        "                # features count as an input shape\n",
        "                nn_params['input_shape'] = len(X_train.keys())\n",
        "\n",
        "# Current set of models to try\n",
        "print(count_models)"
      ]
    },
    {
      "cell_type": "code",
      "execution_count": 82,
      "metadata": {
        "colab": {
          "base_uri": "https://localhost:8080/"
        },
        "id": "MnDNkOFdqhLM",
        "outputId": "c49f84d5-2747-43ef-eecc-3e2c961b7845"
      },
      "outputs": [
        {
          "data": {
            "text/plain": [
              "{'learning_rate': 0.1,\n",
              " 'first_layer_neurons': 256,\n",
              " 'first_layer_dropout': 0.1,\n",
              " 'second_layer_neurons': 256,\n",
              " 'second_layer_dropout': 0.1,\n",
              " 'activation_first_layer': 'tanh',\n",
              " 'activation_second_layer': 'relu',\n",
              " 'optimizer': 'rmaprop',\n",
              " 'input_shape': 299}"
            ]
          },
          "execution_count": 82,
          "metadata": {},
          "output_type": "execute_result"
        }
      ],
      "source": [
        "nn_params"
      ]
    },
    {
      "cell_type": "code",
      "execution_count": 83,
      "metadata": {
        "id": "T_vTvZ36qiK-"
      },
      "outputs": [],
      "source": [
        "import tensorflow as tf\n",
        "import keras\n",
        "from keras import layers\n",
        "# from keras.models import Sequential\n",
        "# from keras.layers import Dense, Input, Dropout, Activation"
      ]
    },
    {
      "cell_type": "code",
      "execution_count": 84,
      "metadata": {
        "id": "Qcgwn-d7qjhr"
      },
      "outputs": [],
      "source": [
        "# building one Neural Network when Parameters are known:\n",
        "import datetime\n",
        "\n",
        "# len(rez_train.keys())\n",
        "def build_model(nn_params):\n",
        "  # lr, first_neuron, second_neuron, first_dropout, second_dropout, activation_first, activation_second, optimizer\n",
        "  model = keras.Sequential([\n",
        "  layers.Dense(nn_params['first_layer_neurons'],\n",
        "               activation=nn_params['activation_first_layer'],\n",
        "               input_shape=[nn_params['input_shape']]),\n",
        "  layers.Dropout(nn_params['first_layer_dropout']),\n",
        "  layers.Dense(nn_params['second_layer_neurons'],\n",
        "               activation=nn_params['activation_second_layer']),\n",
        "  layers.Dropout(nn_params['second_layer_dropout']),\n",
        "  layers.Dense(1, activation='sigmoid') # sigmoid is important for a Neural Network\n",
        "  ])\n",
        "\n",
        "  if optimizer == 'adam':\n",
        "    opt = keras.optimizers.Adam(lr)\n",
        "  elif optimizer == 'nadam':\n",
        "    opt = keras.optimizers.Nadam(lr)\n",
        "  elif optimizer == 'rmsprop':\n",
        "    opt = keras.optimizers.RMSprop(lr)\n",
        "  elif optimizer == 'sgd':\n",
        "    opt = keras.optimizers.SGD(lr)\n",
        "  else:\n",
        "    opt = keras.optimizers.Adagrad(lr)\n",
        "  model.compile(loss='binary_crossentropy', # mae/rmse for the Regression,\n",
        "                optimizer=opt,\n",
        "                metrics=['accuracy',keras.metrics.Precision()]) # or use [keras.metrics.Precision()] for a binary model : https://keras.io/api/metrics/classification_metrics/#precision-class\n",
        "  return model"
      ]
    },
    {
      "cell_type": "code",
      "execution_count": 85,
      "metadata": {
        "colab": {
          "base_uri": "https://localhost:8080/"
        },
        "id": "YdTmqT9Nqk5J",
        "outputId": "7f4c3914-b5d0-4615-b735-322feb0a9768"
      },
      "outputs": [
        {
          "data": {
            "text/plain": [
              "{'learning_rate': 0.1,\n",
              " 'first_layer_neurons': 256,\n",
              " 'first_layer_dropout': 0.1,\n",
              " 'second_layer_neurons': 256,\n",
              " 'second_layer_dropout': 0.1,\n",
              " 'activation_first_layer': 'tanh',\n",
              " 'activation_second_layer': 'relu',\n",
              " 'optimizer': 'rmaprop',\n",
              " 'input_shape': 299}"
            ]
          },
          "execution_count": 85,
          "metadata": {},
          "output_type": "execute_result"
        }
      ],
      "source": [
        "nn_params"
      ]
    },
    {
      "cell_type": "code",
      "execution_count": 86,
      "metadata": {
        "colab": {
          "base_uri": "https://localhost:8080/"
        },
        "id": "pRros7SSql87",
        "outputId": "bf44dd55-a17b-4e7d-c531-d38b9ad38c14"
      },
      "outputs": [
        {
          "name": "stdout",
          "output_type": "stream",
          "text": [
            "Model: \"sequential\"\n",
            "_________________________________________________________________\n",
            " Layer (type)                Output Shape              Param #   \n",
            "=================================================================\n",
            " dense (Dense)               (None, 256)               76800     \n",
            "                                                                 \n",
            " dropout (Dropout)           (None, 256)               0         \n",
            "                                                                 \n",
            " dense_1 (Dense)             (None, 256)               65792     \n",
            "                                                                 \n",
            " dropout_1 (Dropout)         (None, 256)               0         \n",
            "                                                                 \n",
            " dense_2 (Dense)             (None, 1)                 257       \n",
            "                                                                 \n",
            "=================================================================\n",
            "Total params: 142849 (558.00 KB)\n",
            "Trainable params: 142849 (558.00 KB)\n",
            "Non-trainable params: 0 (0.00 Byte)\n",
            "_________________________________________________________________\n"
          ]
        }
      ],
      "source": [
        "model = build_model(nn_params)\n",
        "model.summary()\n",
        "# model.get_config()"
      ]
    },
    {
      "cell_type": "code",
      "execution_count": 94,
      "metadata": {
        "colab": {
          "base_uri": "https://localhost:8080/"
        },
        "id": "pC6y2KKgqnHo",
        "outputId": "14bb9e7c-f324-4fe5-87db-3a2bd1cb27af"
      },
      "outputs": [
        {
          "data": {
            "text/plain": [
              "142849"
            ]
          },
          "execution_count": 94,
          "metadata": {},
          "output_type": "execute_result"
        }
      ],
      "source": [
        "# trainable params in the model with max params (largest hidden layers size)\n",
        "model.count_params()"
      ]
    },
    {
      "cell_type": "code",
      "execution_count": 87,
      "metadata": {
        "id": "rW4aYXsqqoAt"
      },
      "outputs": [],
      "source": [
        "# Display training progress by printing a single dot for each completed epoch\n",
        "class PrintDot(keras.callbacks.Callback):\n",
        "  def on_epoch_end(self, epoch, logs):\n",
        "    if epoch % 100 == 0: print()\n",
        "    print('.', end='')"
      ]
    },
    {
      "cell_type": "code",
      "execution_count": 88,
      "metadata": {
        "id": "YONjXMNqqqPr"
      },
      "outputs": [],
      "source": [
        "# read tutorial about Binary Classification with Neural Network\n",
        "# https://machinelearningmastery.com/binary-classification-tutorial-with-the-keras-deep-learning-library/\n",
        "# https://www.tensorflow.org/api_docs/python/tf/keras/Model#fit\n",
        "\n",
        "\n",
        "# HYPER_PARAMS_SPACE = PARAMS space\n",
        "# WHEN MAX_MODELS>0: return after MAX_MODELS checked\n",
        "# MAX_EPOCHS: how many epochs (periods when model weights are updated) do we need?\n",
        "def train_neural_network_with_hyperparams(HYPER_PARAMS_SPACE, MAX_MODELS=0, MAX_EPOCHS=250, EARLY_STOPPING_PATIENCE=20):\n",
        "\n",
        "  # The patience parameter is the amount of epochs to check for improvement\n",
        "  early_stop = keras.callbacks.EarlyStopping(monitor='val_accuracy',  # we want accuracy to improve every single iteration (or at least in several iterations (EARLY STOPPING PARAM))\n",
        "                                             patience = EARLY_STOPPING_PATIENCE)\n",
        "  nn_params = {} # current hyperParams settings\n",
        "  cur = 0 # models trained\n",
        "\n",
        "  # best stats\n",
        "  best_accuracy = 0\n",
        "  best_model = None\n",
        "  best_history = None\n",
        "\n",
        "  for lr in HYPER_PARAMS_SPACE['lr']:\n",
        "    for first_dropout in HYPER_PARAMS_SPACE['first_dropout']:\n",
        "      for second_dropout in HYPER_PARAMS_SPACE['second_dropout']:\n",
        "        for activation_first in HYPER_PARAMS_SPACE['activation_first']:\n",
        "          for activation_second in HYPER_PARAMS_SPACE['activation_second']:\n",
        "            for optimizer in HYPER_PARAMS_SPACE['optimizer']:\n",
        "              for first_neuron in HYPER_PARAMS_SPACE['first_neuron']:\n",
        "                for second_neuron in HYPER_PARAMS_SPACE['second_neuron']:\n",
        "                  cur = cur+1\n",
        "\n",
        "                  nn_params['learning_rate'] = lr\n",
        "                  nn_params['first_layer_neurons'] = first_neuron\n",
        "                  nn_params['first_layer_dropout'] = first_dropout\n",
        "                  nn_params['second_layer_neurons'] = second_neuron\n",
        "                  nn_params['second_layer_dropout'] = second_dropout\n",
        "                  nn_params['activation_first_layer'] = activation_first\n",
        "                  nn_params['activation_second_layer'] = activation_second\n",
        "                  nn_params['optimizer'] = optimizer\n",
        "\n",
        "                  # features count as an input shape\n",
        "                  nn_params['input_shape'] = len(X_train.keys())\n",
        "\n",
        "                  print(f'Using HyperParams:{nn_params}')\n",
        "\n",
        "                  model = build_model(nn_params)\n",
        "                  # model.summary()\n",
        "\n",
        "                  frame = pd.DataFrame(data=[cur,lr,first_neuron,second_neuron,first_dropout,second_dropout, activation_first, activation_second, optimizer])\n",
        "\n",
        "                  print(f\"Training model {cur} with trainable params {model.count_params()} :\")\n",
        "                  t_start = datetime.datetime.now()\n",
        "                  history = model.fit(\n",
        "                                        X_train_valid,\n",
        "                                        y_train_valid,\n",
        "                                        epochs=MAX_EPOCHS,\n",
        "                                        validation_data = (X_test, y_test),\n",
        "                                        verbose=1, #change to 0 if you don't want to see the progress\n",
        "                                        callbacks=[early_stop,PrintDot()])\n",
        "\n",
        "                  t_diff = datetime.datetime.now() - t_start\n",
        "                  frame = pd.DataFrame(data=[t_diff.seconds,\n",
        "                                          len(history.epoch),\n",
        "                                          history.history['val_accuracy'][0], # start of learning\n",
        "                                          history.history['val_accuracy'][len(history.epoch)-1], # end of learning\n",
        "                                          #  history.history['val_precision_2'][0], # start of learning\n",
        "                                          #  history.history['val_precision_2'][len(history.epoch)-1], # end of learning\n",
        "                                          ])\n",
        "\n",
        "                  if history.history['val_accuracy'][len(history.epoch)-1]> best_accuracy:\n",
        "                    best_accuracy = history.history['val_accuracy'][len(history.epoch)-1]\n",
        "                    best_model = model\n",
        "                    best_history = history\n",
        "\n",
        "                  # early stopping of hyper params loop\n",
        "                  if MAX_MODELS>0 and cur>=MAX_MODELS:\n",
        "                    return best_model, best_history.history\n",
        "\n",
        "                  print('==============================================================')\n",
        "\n",
        "  return best_model, best_history.history #full hyper params search on all models"
      ]
    },
    {
      "cell_type": "code",
      "execution_count": 97,
      "metadata": {
        "id": "cR88teMWqrvW"
      },
      "outputs": [],
      "source": [
        "# returns best_model (trained) and best_history (history of train operations)\n",
        "# best_model, best_history = train_neural_network_with_hyperparams(HYPER_PARAMS_SPACE=p,\n",
        "#                                                                  MAX_MODELS=2, #not more than 2 models\n",
        "#                                                                  MAX_EPOCHS=250,\n",
        "#                                                                  EARLY_STOPPING_PATIENCE=10\n",
        "#                                                                  )"
      ]
    },
    {
      "cell_type": "code",
      "execution_count": 98,
      "metadata": {
        "id": "h8rGL_i1qsiW"
      },
      "outputs": [],
      "source": [
        "# UNCOMMENT WHEN RUN AGAIN\n",
        "\n",
        "# best_history_nn = best_history\n",
        "# best_model_nn = best_model"
      ]
    },
    {
      "cell_type": "code",
      "execution_count": 99,
      "metadata": {
        "id": "BZtsvUUUqtST"
      },
      "outputs": [],
      "source": [
        "# best_model_nn.summary()"
      ]
    },
    {
      "cell_type": "code",
      "execution_count": 89,
      "metadata": {
        "id": "sXAQ011hh7RP"
      },
      "outputs": [],
      "source": [
        "best_history_nn = {'loss': [208422.703125,\n",
        "  1121.272705078125,\n",
        "  539.65283203125,\n",
        "  707.9421997070312,\n",
        "  516.6778564453125,\n",
        "  163.7510528564453,\n",
        "  317.2767333984375,\n",
        "  299.3223571777344,\n",
        "  140.26547241210938,\n",
        "  164.22906494140625,\n",
        "  185.18524169921875,\n",
        "  104.50323486328125,\n",
        "  297.9610290527344,\n",
        "  132.68116760253906],\n",
        " 'accuracy': [0.5328173637390137,\n",
        "  0.5412310361862183,\n",
        "  0.5411459803581238,\n",
        "  0.5417086482048035,\n",
        "  0.5411655902862549,\n",
        "  0.5414665937423706,\n",
        "  0.5418198704719543,\n",
        "  0.5419376492500305,\n",
        "  0.5415254831314087,\n",
        "  0.542022705078125,\n",
        "  0.5419507026672363,\n",
        "  0.5421208143234253,\n",
        "  0.5416563153266907,\n",
        "  0.5420292615890503],\n",
        " 'precision_10': [0.5425137281417847,\n",
        "  0.5425809025764465,\n",
        "  0.5422842502593994,\n",
        "  0.5425357818603516,\n",
        "  0.5421506762504578,\n",
        "  0.542284369468689,\n",
        "  0.5424314737319946,\n",
        "  0.5424544215202332,\n",
        "  0.5424001812934875,\n",
        "  0.5425055027008057,\n",
        "  0.5423765778541565,\n",
        "  0.5424331426620483,\n",
        "  0.5422753691673279,\n",
        "  0.5424132943153381],\n",
        " 'val_loss': [153.67572021484375,\n",
        "  76.75631713867188,\n",
        "  8.787810325622559,\n",
        "  235.6031951904297,\n",
        "  1.5380141735076904,\n",
        "  3.1010591983795166,\n",
        "  1.5755723714828491,\n",
        "  4.07314920425415,\n",
        "  3.5311925411224365,\n",
        "  3.421612501144409,\n",
        "  0.8826513886451721,\n",
        "  0.7503688335418701,\n",
        "  0.7252967953681946,\n",
        "  4.258550643920898],\n",
        " 'val_accuracy': [0.5481243133544922,\n",
        "  0.5551979541778564,\n",
        "  0.5557343363761902,\n",
        "  0.5558684468269348,\n",
        "  0.5551308989524841,\n",
        "  0.5551979541778564,\n",
        "  0.555030345916748,\n",
        "  0.5552650094032288,\n",
        "  0.5551979541778564,\n",
        "  0.5554661750793457,\n",
        "  0.5554661750793457,\n",
        "  0.5558013916015625,\n",
        "  0.5555667281150818,\n",
        "  0.5554326176643372],\n",
        " 'val_precision_10': [0.5546182990074158,\n",
        "  0.5551979541778564,\n",
        "  0.5555108189582825,\n",
        "  0.5561125874519348,\n",
        "  0.5552088618278503,\n",
        "  0.5553352236747742,\n",
        "  0.5553311705589294,\n",
        "  0.5552389025688171,\n",
        "  0.5551979541778564,\n",
        "  0.5555592775344849,\n",
        "  0.5555219054222107,\n",
        "  0.5555480718612671,\n",
        "  0.5554065108299255,\n",
        "  0.5553468465805054]}\n"
      ]
    },
    {
      "cell_type": "code",
      "execution_count": 90,
      "metadata": {
        "colab": {
          "base_uri": "https://localhost:8080/"
        },
        "id": "9ITSYcHPqxwY",
        "outputId": "321816bf-9ef3-48ed-b04d-78b32a5070a4"
      },
      "outputs": [
        {
          "data": {
            "text/plain": [
              "(152846, 299)"
            ]
          },
          "execution_count": 90,
          "metadata": {},
          "output_type": "execute_result"
        }
      ],
      "source": [
        "X_train_valid.shape"
      ]
    },
    {
      "cell_type": "code",
      "execution_count": 91,
      "metadata": {
        "colab": {
          "base_uri": "https://localhost:8080/",
          "height": 564
        },
        "id": "2TCVoKpIqyqt",
        "outputId": "287af4ee-d623-428f-fa90-dab8cc5908b4"
      },
      "outputs": [
        {
          "data": {
            "image/png": "[encoded data removed]",
            "text/plain": [
              "<Figure size 1000x600 with 1 Axes>"
            ]
          },
          "metadata": {},
          "output_type": "display_data"
        }
      ],
      "source": [
        "# Learning visualisation for the Deep Neural Network (DNN)\n",
        "# The model is not actually training, as the precision and accuracy score are not improving on TRAIN/TEST with more Epochs\n",
        "\n",
        "# Plotting accuracy\n",
        "plt.figure(figsize=(10, 6))\n",
        "plt.plot(best_history_nn['precision_10'], label='Training Precision')\n",
        "plt.plot(best_history_nn['val_precision_10'], label='Test Precision')\n",
        "plt.xlabel('Epoch')\n",
        "plt.ylabel('Precision')\n",
        "plt.title('Training vs. Test Precision')\n",
        "plt.legend()\n",
        "plt.grid(True)\n",
        "plt.show()"
      ]
    },
    {
      "cell_type": "markdown",
      "metadata": {
        "id": "ieYKsFvYsK_S"
      },
      "source": [
        "# 2) Different Decision rules to improve precision (varying threshold)\n",
        "\n",
        "best model1 (clf_best): Decision Tree (max_depth=15)\n",
        "best model2 (rf_best): Random Forest (n_estimators=200, max_depth=17)"
      ]
    },
    {
      "cell_type": "markdown",
      "metadata": {
        "id": "BUAkDF7ivcmF"
      },
      "source": [
        "## 2.1. Predicting probabilities (predict_proba), getting the distribution for probabilities, and new decision rules"
      ]
    },
    {
      "cell_type": "code",
      "execution_count": 92,
      "metadata": {
        "id": "NtXS-v-vsUdf"
      },
      "outputs": [],
      "source": [
        "# y_pred_test = best_lr.predict_proba(X_test)\n",
        "\n",
        "# predicting probability instead of a lable\n",
        "\n",
        "y_pred_test = clf_best.predict_proba(X_test)\n",
        "y_pred_test_class1 = [k[1] for k in y_pred_test] # k[1] is the second element in the list of Class predictions"
      ]
    },
    {
      "cell_type": "code",
      "execution_count": 93,
      "metadata": {
        "colab": {
          "base_uri": "https://localhost:8080/"
        },
        "id": "AEEgbWi4u8uq",
        "outputId": "1a41441d-326f-4b46-c4b7-d9db82f27a68"
      },
      "outputs": [
        {
          "data": {
            "text/plain": [
              "array([[0.5745614 , 0.4254386 ],\n",
              "       [0.5745614 , 0.4254386 ],\n",
              "       [0.5745614 , 0.4254386 ],\n",
              "       ...,\n",
              "       [1.        , 0.        ],\n",
              "       [0.79766537, 0.20233463],\n",
              "       [0.79766537, 0.20233463]])"
            ]
          },
          "execution_count": 93,
          "metadata": {},
          "output_type": "execute_result"
        }
      ],
      "source": [
        "# example prediction of probabilities\n",
        "y_pred_test"
      ]
    },
    {
      "cell_type": "code",
      "execution_count": 94,
      "metadata": {
        "colab": {
          "base_uri": "https://localhost:8080/",
          "height": 204
        },
        "id": "mgqzi2Xzu87W",
        "outputId": "f64ecedf-d85a-4697-e93d-6a8e7efe0816"
      },
      "outputs": [
        {
          "data": {
            "text/html": [
              "<div>\n",
              "<style scoped>\n",
              "    .dataframe tbody tr th:only-of-type {\n",
              "        vertical-align: middle;\n",
              "    }\n",
              "\n",
              "    .dataframe tbody tr th {\n",
              "        vertical-align: top;\n",
              "    }\n",
              "\n",
              "    .dataframe thead th {\n",
              "        text-align: right;\n",
              "    }\n",
              "</style>\n",
              "<table border=\"1\" class=\"dataframe\">\n",
              "  <thead>\n",
              "    <tr style=\"text-align: right;\">\n",
              "      <th></th>\n",
              "      <th>Class1_probability</th>\n",
              "    </tr>\n",
              "  </thead>\n",
              "  <tbody>\n",
              "    <tr>\n",
              "      <th>0</th>\n",
              "      <td>0.425439</td>\n",
              "    </tr>\n",
              "    <tr>\n",
              "      <th>1</th>\n",
              "      <td>0.425439</td>\n",
              "    </tr>\n",
              "    <tr>\n",
              "      <th>2</th>\n",
              "      <td>0.425439</td>\n",
              "    </tr>\n",
              "    <tr>\n",
              "      <th>3</th>\n",
              "      <td>0.000000</td>\n",
              "    </tr>\n",
              "    <tr>\n",
              "      <th>4</th>\n",
              "      <td>0.020408</td>\n",
              "    </tr>\n",
              "  </tbody>\n",
              "</table>\n",
              "</div>"
            ],
            "text/plain": [
              "   Class1_probability\n",
              "0            0.425439\n",
              "1            0.425439\n",
              "2            0.425439\n",
              "3            0.000000\n",
              "4            0.020408"
            ]
          },
          "execution_count": 94,
          "metadata": {},
          "output_type": "execute_result"
        }
      ],
      "source": [
        "y_pred_test_class1_df = pd.DataFrame(y_pred_test_class1, columns=['Class1_probability'])\n",
        "y_pred_test_class1_df.head()"
      ]
    },
    {
      "cell_type": "code",
      "execution_count": 95,
      "metadata": {
        "colab": {
          "base_uri": "https://localhost:8080/",
          "height": 80
        },
        "id": "SFQ-uUt9u_Y-",
        "outputId": "ca9819e8-4a1a-4e9c-c5d3-e90af6b69bf6"
      },
      "outputs": [
        {
          "data": {
            "text/html": [
              "<div>\n",
              "<style scoped>\n",
              "    .dataframe tbody tr th:only-of-type {\n",
              "        vertical-align: middle;\n",
              "    }\n",
              "\n",
              "    .dataframe tbody tr th {\n",
              "        vertical-align: top;\n",
              "    }\n",
              "\n",
              "    .dataframe thead th {\n",
              "        text-align: right;\n",
              "    }\n",
              "</style>\n",
              "<table border=\"1\" class=\"dataframe\">\n",
              "  <thead>\n",
              "    <tr style=\"text-align: right;\">\n",
              "      <th></th>\n",
              "      <th>count</th>\n",
              "      <th>mean</th>\n",
              "      <th>std</th>\n",
              "      <th>min</th>\n",
              "      <th>25%</th>\n",
              "      <th>50%</th>\n",
              "      <th>75%</th>\n",
              "      <th>max</th>\n",
              "    </tr>\n",
              "  </thead>\n",
              "  <tbody>\n",
              "    <tr>\n",
              "      <th>Class1_probability</th>\n",
              "      <td>29829.0</td>\n",
              "      <td>0.324742</td>\n",
              "      <td>0.311913</td>\n",
              "      <td>0.0</td>\n",
              "      <td>0.108856</td>\n",
              "      <td>0.224335</td>\n",
              "      <td>0.40137</td>\n",
              "      <td>1.0</td>\n",
              "    </tr>\n",
              "  </tbody>\n",
              "</table>\n",
              "</div>"
            ],
            "text/plain": [
              "                      count      mean       std  min       25%       50%  \\\n",
              "Class1_probability  29829.0  0.324742  0.311913  0.0  0.108856  0.224335   \n",
              "\n",
              "                        75%  max  \n",
              "Class1_probability  0.40137  1.0  "
            ]
          },
          "execution_count": 95,
          "metadata": {},
          "output_type": "execute_result"
        }
      ],
      "source": [
        "# Mean prediction is 0.52, median is 0.58, 75% quantile is 0.75\n",
        "y_pred_test_class1_df.describe().T"
      ]
    },
    {
      "cell_type": "code",
      "execution_count": 96,
      "metadata": {
        "colab": {
          "base_uri": "https://localhost:8080/"
        },
        "id": "KGEnXnpBvAx_",
        "outputId": "6edb5728-daa2-4f75-8a28-e4b9fbdf4cfd"
      },
      "outputs": [
        {
          "data": {
            "text/plain": [
              "0.31781152569646987"
            ]
          },
          "execution_count": 96,
          "metadata": {},
          "output_type": "execute_result"
        }
      ],
      "source": [
        "# Unconditional probability of a positive growth is 55.5%\n",
        "y_test.sum()/y_test.count()"
      ]
    },
    {
      "cell_type": "code",
      "execution_count": 97,
      "metadata": {
        "colab": {
          "base_uri": "https://localhost:8080/",
          "height": 452
        },
        "id": "myxaNMxTvFXw",
        "outputId": "e1fbb1ea-47a9-4b04-9dbd-c404acd2ec64"
      },
      "outputs": [
        {
          "name": "stderr",
          "output_type": "stream",
          "text": [
            "c:\\Users\\rahul\\anaconda3\\Lib\\site-packages\\seaborn\\_oldcore.py:1498: FutureWarning:\n",
            "\n",
            "is_categorical_dtype is deprecated and will be removed in a future version. Use isinstance(dtype, CategoricalDtype) instead\n",
            "\n",
            "c:\\Users\\rahul\\anaconda3\\Lib\\site-packages\\seaborn\\_oldcore.py:1119: FutureWarning:\n",
            "\n",
            "use_inf_as_na option is deprecated and will be removed in a future version. Convert inf values to NaN before operating instead.\n",
            "\n"
          ]
        },
        {
          "data": {
            "image/png": "[encoded data removed]",
            "text/plain": [
              "<Figure size 640x480 with 1 Axes>"
            ]
          },
          "metadata": {},
          "output_type": "display_data"
        }
      ],
      "source": [
        "sns.histplot(y_pred_test_class1)\n",
        "\n",
        "# Add a title\n",
        "plt.title('The distribution of predictions for the current best model (Decision Tree with max_depth=15)')\n",
        "\n",
        "# Show the plot\n",
        "plt.show()"
      ]
    },
    {
      "cell_type": "code",
      "execution_count": 98,
      "metadata": {
        "id": "jNaoTiABvIfJ"
      },
      "outputs": [],
      "source": [
        "# tpr (True Positive Rate) vs. fpr (False Positive Rate) dataframe\n",
        "# tp = True Positive\n",
        "# tn = True Negative\n",
        "# fp = False Positive\n",
        "# fn = False Negative\n",
        "# Decision Rule :  \"y_pred>= Threshold\" for Class \"1\"\n",
        "\n",
        "# when only_even=True --> we'll have a step ==0.02 and leave only even records\n",
        "\n",
        "def tpr_fpr_dataframe(y_true, y_pred, only_even=False):\n",
        "    scores = []\n",
        "\n",
        "    if only_even==False:\n",
        "      thresholds = np.linspace(0, 1, 101) #[0, 0.01, 0.02, ...0.99,1.0]\n",
        "    else:\n",
        "      thresholds = np.linspace(0, 1, 51) #[0, 0.02, 0.04,  ...0.98,1.0]\n",
        "\n",
        "    for t in thresholds:\n",
        "\n",
        "        actual_positive = (y_true == 1)\n",
        "        actual_negative = (y_true == 0)\n",
        "\n",
        "        predict_positive = (y_pred >= t)\n",
        "        predict_negative = (y_pred < t)\n",
        "\n",
        "        tp = (predict_positive & actual_positive).sum()\n",
        "        tn = (predict_negative & actual_negative).sum()\n",
        "\n",
        "        fp = (predict_positive & actual_negative).sum()\n",
        "        fn = (predict_negative & actual_positive).sum()\n",
        "\n",
        "        if tp + fp > 0:\n",
        "          precision = tp / (tp + fp)\n",
        "\n",
        "        if tp + fn > 0:\n",
        "          recall = tp / (tp + fn)\n",
        "\n",
        "        if precision+recall > 0:\n",
        "          f1_score = 2*precision*recall / (precision+recall)\n",
        "\n",
        "        accuracy = (tp+tn) / (tp+tn+fp+fn)\n",
        "\n",
        "        scores.append((t, tp, fp, fn, tn, precision, recall, accuracy, f1_score))\n",
        "\n",
        "    columns = ['threshold', 'tp', 'fp', 'fn', 'tn','precision','recall', 'accuracy','f1_score']\n",
        "    df_scores = pd.DataFrame(scores, columns=columns)\n",
        "\n",
        "    df_scores['tpr'] = df_scores.tp / (df_scores.tp + df_scores.fn)\n",
        "    df_scores['fpr'] = df_scores.fp / (df_scores.fp + df_scores.tn)\n",
        "\n",
        "    return df_scores\n"
      ]
    },
    {
      "cell_type": "code",
      "execution_count": 99,
      "metadata": {
        "id": "AM8QESf9vKZL"
      },
      "outputs": [],
      "source": [
        "df_scores = tpr_fpr_dataframe(y_test,\n",
        "                              y_pred_test_class1,\n",
        "                              only_even=True)"
      ]
    },
    {
      "cell_type": "code",
      "execution_count": 100,
      "metadata": {
        "colab": {
          "base_uri": "https://localhost:8080/",
          "height": 1000
        },
        "id": "qoQqV2yhvME7",
        "outputId": "eb32a9ca-ddfe-44f2-a994-0341ae98ab5f"
      },
      "outputs": [
        {
          "data": {
            "text/html": [
              "<div>\n",
              "<style scoped>\n",
              "    .dataframe tbody tr th:only-of-type {\n",
              "        vertical-align: middle;\n",
              "    }\n",
              "\n",
              "    .dataframe tbody tr th {\n",
              "        vertical-align: top;\n",
              "    }\n",
              "\n",
              "    .dataframe thead th {\n",
              "        text-align: right;\n",
              "    }\n",
              "</style>\n",
              "<table border=\"1\" class=\"dataframe\">\n",
              "  <thead>\n",
              "    <tr style=\"text-align: right;\">\n",
              "      <th></th>\n",
              "      <th>threshold</th>\n",
              "      <th>tp</th>\n",
              "      <th>fp</th>\n",
              "      <th>fn</th>\n",
              "      <th>tn</th>\n",
              "      <th>precision</th>\n",
              "      <th>recall</th>\n",
              "      <th>accuracy</th>\n",
              "      <th>f1_score</th>\n",
              "      <th>tpr</th>\n",
              "      <th>fpr</th>\n",
              "    </tr>\n",
              "  </thead>\n",
              "  <tbody>\n",
              "    <tr>\n",
              "      <th>0</th>\n",
              "      <td>0.00</td>\n",
              "      <td>9480</td>\n",
              "      <td>20349</td>\n",
              "      <td>0</td>\n",
              "      <td>0</td>\n",
              "      <td>0.317812</td>\n",
              "      <td>1.000000</td>\n",
              "      <td>0.317812</td>\n",
              "      <td>0.482332</td>\n",
              "      <td>1.000000</td>\n",
              "      <td>1.000000</td>\n",
              "    </tr>\n",
              "    <tr>\n",
              "      <th>1</th>\n",
              "      <td>0.02</td>\n",
              "      <td>8094</td>\n",
              "      <td>17530</td>\n",
              "      <td>1386</td>\n",
              "      <td>2819</td>\n",
              "      <td>0.315876</td>\n",
              "      <td>0.853797</td>\n",
              "      <td>0.365852</td>\n",
              "      <td>0.461144</td>\n",
              "      <td>0.853797</td>\n",
              "      <td>0.861467</td>\n",
              "    </tr>\n",
              "    <tr>\n",
              "      <th>2</th>\n",
              "      <td>0.04</td>\n",
              "      <td>7896</td>\n",
              "      <td>17143</td>\n",
              "      <td>1584</td>\n",
              "      <td>3206</td>\n",
              "      <td>0.315348</td>\n",
              "      <td>0.832911</td>\n",
              "      <td>0.372188</td>\n",
              "      <td>0.457487</td>\n",
              "      <td>0.832911</td>\n",
              "      <td>0.842449</td>\n",
              "    </tr>\n",
              "    <tr>\n",
              "      <th>3</th>\n",
              "      <td>0.06</td>\n",
              "      <td>7654</td>\n",
              "      <td>16664</td>\n",
              "      <td>1826</td>\n",
              "      <td>3685</td>\n",
              "      <td>0.314746</td>\n",
              "      <td>0.807384</td>\n",
              "      <td>0.380133</td>\n",
              "      <td>0.452926</td>\n",
              "      <td>0.807384</td>\n",
              "      <td>0.818910</td>\n",
              "    </tr>\n",
              "    <tr>\n",
              "      <th>4</th>\n",
              "      <td>0.08</td>\n",
              "      <td>7349</td>\n",
              "      <td>16078</td>\n",
              "      <td>2131</td>\n",
              "      <td>4271</td>\n",
              "      <td>0.313698</td>\n",
              "      <td>0.775211</td>\n",
              "      <td>0.389554</td>\n",
              "      <td>0.446653</td>\n",
              "      <td>0.775211</td>\n",
              "      <td>0.790113</td>\n",
              "    </tr>\n",
              "    <tr>\n",
              "      <th>5</th>\n",
              "      <td>0.10</td>\n",
              "      <td>7271</td>\n",
              "      <td>15849</td>\n",
              "      <td>2209</td>\n",
              "      <td>4500</td>\n",
              "      <td>0.314490</td>\n",
              "      <td>0.766983</td>\n",
              "      <td>0.394616</td>\n",
              "      <td>0.446074</td>\n",
              "      <td>0.766983</td>\n",
              "      <td>0.778859</td>\n",
              "    </tr>\n",
              "    <tr>\n",
              "      <th>6</th>\n",
              "      <td>0.12</td>\n",
              "      <td>6828</td>\n",
              "      <td>14865</td>\n",
              "      <td>2652</td>\n",
              "      <td>5484</td>\n",
              "      <td>0.314756</td>\n",
              "      <td>0.720253</td>\n",
              "      <td>0.412753</td>\n",
              "      <td>0.438071</td>\n",
              "      <td>0.720253</td>\n",
              "      <td>0.730503</td>\n",
              "    </tr>\n",
              "    <tr>\n",
              "      <th>7</th>\n",
              "      <td>0.14</td>\n",
              "      <td>6391</td>\n",
              "      <td>13889</td>\n",
              "      <td>3089</td>\n",
              "      <td>6460</td>\n",
              "      <td>0.315138</td>\n",
              "      <td>0.674156</td>\n",
              "      <td>0.430822</td>\n",
              "      <td>0.429503</td>\n",
              "      <td>0.674156</td>\n",
              "      <td>0.682540</td>\n",
              "    </tr>\n",
              "    <tr>\n",
              "      <th>8</th>\n",
              "      <td>0.16</td>\n",
              "      <td>6009</td>\n",
              "      <td>12786</td>\n",
              "      <td>3471</td>\n",
              "      <td>7563</td>\n",
              "      <td>0.319713</td>\n",
              "      <td>0.633861</td>\n",
              "      <td>0.454993</td>\n",
              "      <td>0.425040</td>\n",
              "      <td>0.633861</td>\n",
              "      <td>0.628336</td>\n",
              "    </tr>\n",
              "    <tr>\n",
              "      <th>9</th>\n",
              "      <td>0.18</td>\n",
              "      <td>5959</td>\n",
              "      <td>12631</td>\n",
              "      <td>3521</td>\n",
              "      <td>7718</td>\n",
              "      <td>0.320549</td>\n",
              "      <td>0.628586</td>\n",
              "      <td>0.458514</td>\n",
              "      <td>0.424581</td>\n",
              "      <td>0.628586</td>\n",
              "      <td>0.620718</td>\n",
              "    </tr>\n",
              "    <tr>\n",
              "      <th>10</th>\n",
              "      <td>0.20</td>\n",
              "      <td>5832</td>\n",
              "      <td>12374</td>\n",
              "      <td>3648</td>\n",
              "      <td>7975</td>\n",
              "      <td>0.320334</td>\n",
              "      <td>0.615190</td>\n",
              "      <td>0.462872</td>\n",
              "      <td>0.421296</td>\n",
              "      <td>0.615190</td>\n",
              "      <td>0.608089</td>\n",
              "    </tr>\n",
              "    <tr>\n",
              "      <th>11</th>\n",
              "      <td>0.22</td>\n",
              "      <td>5384</td>\n",
              "      <td>11336</td>\n",
              "      <td>4096</td>\n",
              "      <td>9013</td>\n",
              "      <td>0.322010</td>\n",
              "      <td>0.567932</td>\n",
              "      <td>0.482651</td>\n",
              "      <td>0.410992</td>\n",
              "      <td>0.567932</td>\n",
              "      <td>0.557079</td>\n",
              "    </tr>\n",
              "    <tr>\n",
              "      <th>12</th>\n",
              "      <td>0.24</td>\n",
              "      <td>4657</td>\n",
              "      <td>9494</td>\n",
              "      <td>4823</td>\n",
              "      <td>10855</td>\n",
              "      <td>0.329093</td>\n",
              "      <td>0.491245</td>\n",
              "      <td>0.520031</td>\n",
              "      <td>0.394143</td>\n",
              "      <td>0.491245</td>\n",
              "      <td>0.466559</td>\n",
              "    </tr>\n",
              "    <tr>\n",
              "      <th>13</th>\n",
              "      <td>0.26</td>\n",
              "      <td>4219</td>\n",
              "      <td>8586</td>\n",
              "      <td>5261</td>\n",
              "      <td>11763</td>\n",
              "      <td>0.329481</td>\n",
              "      <td>0.445042</td>\n",
              "      <td>0.535787</td>\n",
              "      <td>0.378640</td>\n",
              "      <td>0.445042</td>\n",
              "      <td>0.421937</td>\n",
              "    </tr>\n",
              "    <tr>\n",
              "      <th>14</th>\n",
              "      <td>0.28</td>\n",
              "      <td>3767</td>\n",
              "      <td>7318</td>\n",
              "      <td>5713</td>\n",
              "      <td>13031</td>\n",
              "      <td>0.339829</td>\n",
              "      <td>0.397363</td>\n",
              "      <td>0.563143</td>\n",
              "      <td>0.366351</td>\n",
              "      <td>0.397363</td>\n",
              "      <td>0.359625</td>\n",
              "    </tr>\n",
              "    <tr>\n",
              "      <th>15</th>\n",
              "      <td>0.30</td>\n",
              "      <td>3484</td>\n",
              "      <td>6736</td>\n",
              "      <td>5996</td>\n",
              "      <td>13613</td>\n",
              "      <td>0.340900</td>\n",
              "      <td>0.367511</td>\n",
              "      <td>0.573167</td>\n",
              "      <td>0.353706</td>\n",
              "      <td>0.367511</td>\n",
              "      <td>0.331024</td>\n",
              "    </tr>\n",
              "    <tr>\n",
              "      <th>16</th>\n",
              "      <td>0.32</td>\n",
              "      <td>3077</td>\n",
              "      <td>5738</td>\n",
              "      <td>6403</td>\n",
              "      <td>14611</td>\n",
              "      <td>0.349064</td>\n",
              "      <td>0.324578</td>\n",
              "      <td>0.592980</td>\n",
              "      <td>0.336376</td>\n",
              "      <td>0.324578</td>\n",
              "      <td>0.281979</td>\n",
              "    </tr>\n",
              "    <tr>\n",
              "      <th>17</th>\n",
              "      <td>0.34</td>\n",
              "      <td>3041</td>\n",
              "      <td>5663</td>\n",
              "      <td>6439</td>\n",
              "      <td>14686</td>\n",
              "      <td>0.349380</td>\n",
              "      <td>0.320781</td>\n",
              "      <td>0.594287</td>\n",
              "      <td>0.334470</td>\n",
              "      <td>0.320781</td>\n",
              "      <td>0.278294</td>\n",
              "    </tr>\n",
              "    <tr>\n",
              "      <th>18</th>\n",
              "      <td>0.36</td>\n",
              "      <td>2846</td>\n",
              "      <td>5367</td>\n",
              "      <td>6634</td>\n",
              "      <td>14982</td>\n",
              "      <td>0.346524</td>\n",
              "      <td>0.300211</td>\n",
              "      <td>0.597673</td>\n",
              "      <td>0.321709</td>\n",
              "      <td>0.300211</td>\n",
              "      <td>0.263748</td>\n",
              "    </tr>\n",
              "    <tr>\n",
              "      <th>19</th>\n",
              "      <td>0.38</td>\n",
              "      <td>2744</td>\n",
              "      <td>5175</td>\n",
              "      <td>6736</td>\n",
              "      <td>15174</td>\n",
              "      <td>0.346508</td>\n",
              "      <td>0.289451</td>\n",
              "      <td>0.600691</td>\n",
              "      <td>0.315420</td>\n",
              "      <td>0.289451</td>\n",
              "      <td>0.254312</td>\n",
              "    </tr>\n",
              "    <tr>\n",
              "      <th>20</th>\n",
              "      <td>0.40</td>\n",
              "      <td>2587</td>\n",
              "      <td>4946</td>\n",
              "      <td>6893</td>\n",
              "      <td>15403</td>\n",
              "      <td>0.343422</td>\n",
              "      <td>0.272890</td>\n",
              "      <td>0.603104</td>\n",
              "      <td>0.304120</td>\n",
              "      <td>0.272890</td>\n",
              "      <td>0.243059</td>\n",
              "    </tr>\n",
              "    <tr>\n",
              "      <th>21</th>\n",
              "      <td>0.42</td>\n",
              "      <td>2542</td>\n",
              "      <td>4809</td>\n",
              "      <td>6938</td>\n",
              "      <td>15540</td>\n",
              "      <td>0.345803</td>\n",
              "      <td>0.268143</td>\n",
              "      <td>0.606189</td>\n",
              "      <td>0.302062</td>\n",
              "      <td>0.268143</td>\n",
              "      <td>0.236326</td>\n",
              "    </tr>\n",
              "    <tr>\n",
              "      <th>22</th>\n",
              "      <td>0.44</td>\n",
              "      <td>2508</td>\n",
              "      <td>4622</td>\n",
              "      <td>6972</td>\n",
              "      <td>15727</td>\n",
              "      <td>0.351753</td>\n",
              "      <td>0.264557</td>\n",
              "      <td>0.611318</td>\n",
              "      <td>0.301987</td>\n",
              "      <td>0.264557</td>\n",
              "      <td>0.227136</td>\n",
              "    </tr>\n",
              "    <tr>\n",
              "      <th>23</th>\n",
              "      <td>0.46</td>\n",
              "      <td>2505</td>\n",
              "      <td>4617</td>\n",
              "      <td>6975</td>\n",
              "      <td>15732</td>\n",
              "      <td>0.351727</td>\n",
              "      <td>0.264241</td>\n",
              "      <td>0.611385</td>\n",
              "      <td>0.301771</td>\n",
              "      <td>0.264241</td>\n",
              "      <td>0.226891</td>\n",
              "    </tr>\n",
              "    <tr>\n",
              "      <th>24</th>\n",
              "      <td>0.48</td>\n",
              "      <td>2146</td>\n",
              "      <td>4318</td>\n",
              "      <td>7334</td>\n",
              "      <td>16031</td>\n",
              "      <td>0.331993</td>\n",
              "      <td>0.226371</td>\n",
              "      <td>0.609373</td>\n",
              "      <td>0.269192</td>\n",
              "      <td>0.226371</td>\n",
              "      <td>0.212197</td>\n",
              "    </tr>\n",
              "    <tr>\n",
              "      <th>25</th>\n",
              "      <td>0.50</td>\n",
              "      <td>2146</td>\n",
              "      <td>4306</td>\n",
              "      <td>7334</td>\n",
              "      <td>16043</td>\n",
              "      <td>0.332610</td>\n",
              "      <td>0.226371</td>\n",
              "      <td>0.609776</td>\n",
              "      <td>0.269395</td>\n",
              "      <td>0.226371</td>\n",
              "      <td>0.211607</td>\n",
              "    </tr>\n",
              "    <tr>\n",
              "      <th>26</th>\n",
              "      <td>0.52</td>\n",
              "      <td>2064</td>\n",
              "      <td>4134</td>\n",
              "      <td>7416</td>\n",
              "      <td>16215</td>\n",
              "      <td>0.333011</td>\n",
              "      <td>0.217722</td>\n",
              "      <td>0.612793</td>\n",
              "      <td>0.263299</td>\n",
              "      <td>0.217722</td>\n",
              "      <td>0.203155</td>\n",
              "    </tr>\n",
              "    <tr>\n",
              "      <th>27</th>\n",
              "      <td>0.54</td>\n",
              "      <td>2060</td>\n",
              "      <td>4110</td>\n",
              "      <td>7420</td>\n",
              "      <td>16239</td>\n",
              "      <td>0.333874</td>\n",
              "      <td>0.217300</td>\n",
              "      <td>0.613463</td>\n",
              "      <td>0.263259</td>\n",
              "      <td>0.217300</td>\n",
              "      <td>0.201976</td>\n",
              "    </tr>\n",
              "    <tr>\n",
              "      <th>28</th>\n",
              "      <td>0.56</td>\n",
              "      <td>2042</td>\n",
              "      <td>4059</td>\n",
              "      <td>7438</td>\n",
              "      <td>16290</td>\n",
              "      <td>0.334699</td>\n",
              "      <td>0.215401</td>\n",
              "      <td>0.614570</td>\n",
              "      <td>0.262114</td>\n",
              "      <td>0.215401</td>\n",
              "      <td>0.199469</td>\n",
              "    </tr>\n",
              "    <tr>\n",
              "      <th>29</th>\n",
              "      <td>0.58</td>\n",
              "      <td>1959</td>\n",
              "      <td>3833</td>\n",
              "      <td>7521</td>\n",
              "      <td>16516</td>\n",
              "      <td>0.338225</td>\n",
              "      <td>0.206646</td>\n",
              "      <td>0.619364</td>\n",
              "      <td>0.256548</td>\n",
              "      <td>0.206646</td>\n",
              "      <td>0.188363</td>\n",
              "    </tr>\n",
              "    <tr>\n",
              "      <th>30</th>\n",
              "      <td>0.60</td>\n",
              "      <td>1958</td>\n",
              "      <td>3826</td>\n",
              "      <td>7522</td>\n",
              "      <td>16523</td>\n",
              "      <td>0.338520</td>\n",
              "      <td>0.206540</td>\n",
              "      <td>0.619565</td>\n",
              "      <td>0.256551</td>\n",
              "      <td>0.206540</td>\n",
              "      <td>0.188019</td>\n",
              "    </tr>\n",
              "    <tr>\n",
              "      <th>31</th>\n",
              "      <td>0.62</td>\n",
              "      <td>1932</td>\n",
              "      <td>3758</td>\n",
              "      <td>7548</td>\n",
              "      <td>16591</td>\n",
              "      <td>0.339543</td>\n",
              "      <td>0.203797</td>\n",
              "      <td>0.620973</td>\n",
              "      <td>0.254713</td>\n",
              "      <td>0.203797</td>\n",
              "      <td>0.184677</td>\n",
              "    </tr>\n",
              "    <tr>\n",
              "      <th>32</th>\n",
              "      <td>0.64</td>\n",
              "      <td>1916</td>\n",
              "      <td>3750</td>\n",
              "      <td>7564</td>\n",
              "      <td>16599</td>\n",
              "      <td>0.338157</td>\n",
              "      <td>0.202110</td>\n",
              "      <td>0.620705</td>\n",
              "      <td>0.253004</td>\n",
              "      <td>0.202110</td>\n",
              "      <td>0.184284</td>\n",
              "    </tr>\n",
              "    <tr>\n",
              "      <th>33</th>\n",
              "      <td>0.66</td>\n",
              "      <td>1701</td>\n",
              "      <td>3401</td>\n",
              "      <td>7779</td>\n",
              "      <td>16948</td>\n",
              "      <td>0.333399</td>\n",
              "      <td>0.179430</td>\n",
              "      <td>0.625197</td>\n",
              "      <td>0.233301</td>\n",
              "      <td>0.179430</td>\n",
              "      <td>0.167134</td>\n",
              "    </tr>\n",
              "    <tr>\n",
              "      <th>34</th>\n",
              "      <td>0.68</td>\n",
              "      <td>1669</td>\n",
              "      <td>3323</td>\n",
              "      <td>7811</td>\n",
              "      <td>17026</td>\n",
              "      <td>0.334335</td>\n",
              "      <td>0.176055</td>\n",
              "      <td>0.626739</td>\n",
              "      <td>0.230652</td>\n",
              "      <td>0.176055</td>\n",
              "      <td>0.163300</td>\n",
              "    </tr>\n",
              "    <tr>\n",
              "      <th>35</th>\n",
              "      <td>0.70</td>\n",
              "      <td>1646</td>\n",
              "      <td>3286</td>\n",
              "      <td>7834</td>\n",
              "      <td>17063</td>\n",
              "      <td>0.333739</td>\n",
              "      <td>0.173629</td>\n",
              "      <td>0.627208</td>\n",
              "      <td>0.228421</td>\n",
              "      <td>0.173629</td>\n",
              "      <td>0.161482</td>\n",
              "    </tr>\n",
              "    <tr>\n",
              "      <th>36</th>\n",
              "      <td>0.72</td>\n",
              "      <td>1638</td>\n",
              "      <td>3275</td>\n",
              "      <td>7842</td>\n",
              "      <td>17074</td>\n",
              "      <td>0.333401</td>\n",
              "      <td>0.172785</td>\n",
              "      <td>0.627309</td>\n",
              "      <td>0.227611</td>\n",
              "      <td>0.172785</td>\n",
              "      <td>0.160942</td>\n",
              "    </tr>\n",
              "    <tr>\n",
              "      <th>37</th>\n",
              "      <td>0.74</td>\n",
              "      <td>1603</td>\n",
              "      <td>3223</td>\n",
              "      <td>7877</td>\n",
              "      <td>17126</td>\n",
              "      <td>0.332159</td>\n",
              "      <td>0.169093</td>\n",
              "      <td>0.627879</td>\n",
              "      <td>0.224102</td>\n",
              "      <td>0.169093</td>\n",
              "      <td>0.158386</td>\n",
              "    </tr>\n",
              "    <tr>\n",
              "      <th>38</th>\n",
              "      <td>0.76</td>\n",
              "      <td>1367</td>\n",
              "      <td>2949</td>\n",
              "      <td>8113</td>\n",
              "      <td>17400</td>\n",
              "      <td>0.316728</td>\n",
              "      <td>0.144198</td>\n",
              "      <td>0.629153</td>\n",
              "      <td>0.198173</td>\n",
              "      <td>0.144198</td>\n",
              "      <td>0.144921</td>\n",
              "    </tr>\n",
              "    <tr>\n",
              "      <th>39</th>\n",
              "      <td>0.78</td>\n",
              "      <td>1320</td>\n",
              "      <td>2934</td>\n",
              "      <td>8160</td>\n",
              "      <td>17415</td>\n",
              "      <td>0.310296</td>\n",
              "      <td>0.139241</td>\n",
              "      <td>0.628080</td>\n",
              "      <td>0.192224</td>\n",
              "      <td>0.139241</td>\n",
              "      <td>0.144184</td>\n",
              "    </tr>\n",
              "    <tr>\n",
              "      <th>40</th>\n",
              "      <td>0.80</td>\n",
              "      <td>1282</td>\n",
              "      <td>2819</td>\n",
              "      <td>8198</td>\n",
              "      <td>17530</td>\n",
              "      <td>0.312607</td>\n",
              "      <td>0.135232</td>\n",
              "      <td>0.630661</td>\n",
              "      <td>0.188793</td>\n",
              "      <td>0.135232</td>\n",
              "      <td>0.138533</td>\n",
              "    </tr>\n",
              "    <tr>\n",
              "      <th>41</th>\n",
              "      <td>0.82</td>\n",
              "      <td>1244</td>\n",
              "      <td>2693</td>\n",
              "      <td>8236</td>\n",
              "      <td>17656</td>\n",
              "      <td>0.315977</td>\n",
              "      <td>0.131224</td>\n",
              "      <td>0.633612</td>\n",
              "      <td>0.185436</td>\n",
              "      <td>0.131224</td>\n",
              "      <td>0.132341</td>\n",
              "    </tr>\n",
              "    <tr>\n",
              "      <th>42</th>\n",
              "      <td>0.84</td>\n",
              "      <td>1218</td>\n",
              "      <td>2635</td>\n",
              "      <td>8262</td>\n",
              "      <td>17714</td>\n",
              "      <td>0.316117</td>\n",
              "      <td>0.128481</td>\n",
              "      <td>0.634684</td>\n",
              "      <td>0.182705</td>\n",
              "      <td>0.128481</td>\n",
              "      <td>0.129490</td>\n",
              "    </tr>\n",
              "    <tr>\n",
              "      <th>43</th>\n",
              "      <td>0.86</td>\n",
              "      <td>1218</td>\n",
              "      <td>2621</td>\n",
              "      <td>8262</td>\n",
              "      <td>17728</td>\n",
              "      <td>0.317270</td>\n",
              "      <td>0.128481</td>\n",
              "      <td>0.635154</td>\n",
              "      <td>0.182897</td>\n",
              "      <td>0.128481</td>\n",
              "      <td>0.128802</td>\n",
              "    </tr>\n",
              "    <tr>\n",
              "      <th>44</th>\n",
              "      <td>0.88</td>\n",
              "      <td>1213</td>\n",
              "      <td>2613</td>\n",
              "      <td>8267</td>\n",
              "      <td>17736</td>\n",
              "      <td>0.317041</td>\n",
              "      <td>0.127954</td>\n",
              "      <td>0.635254</td>\n",
              "      <td>0.182324</td>\n",
              "      <td>0.127954</td>\n",
              "      <td>0.128409</td>\n",
              "    </tr>\n",
              "    <tr>\n",
              "      <th>45</th>\n",
              "      <td>0.90</td>\n",
              "      <td>1209</td>\n",
              "      <td>2612</td>\n",
              "      <td>8271</td>\n",
              "      <td>17737</td>\n",
              "      <td>0.316409</td>\n",
              "      <td>0.127532</td>\n",
              "      <td>0.635154</td>\n",
              "      <td>0.181791</td>\n",
              "      <td>0.127532</td>\n",
              "      <td>0.128360</td>\n",
              "    </tr>\n",
              "    <tr>\n",
              "      <th>46</th>\n",
              "      <td>0.92</td>\n",
              "      <td>1142</td>\n",
              "      <td>2317</td>\n",
              "      <td>8338</td>\n",
              "      <td>18032</td>\n",
              "      <td>0.330153</td>\n",
              "      <td>0.120464</td>\n",
              "      <td>0.642797</td>\n",
              "      <td>0.176521</td>\n",
              "      <td>0.120464</td>\n",
              "      <td>0.113863</td>\n",
              "    </tr>\n",
              "    <tr>\n",
              "      <th>47</th>\n",
              "      <td>0.94</td>\n",
              "      <td>1110</td>\n",
              "      <td>2244</td>\n",
              "      <td>8370</td>\n",
              "      <td>18105</td>\n",
              "      <td>0.330948</td>\n",
              "      <td>0.117089</td>\n",
              "      <td>0.644172</td>\n",
              "      <td>0.172978</td>\n",
              "      <td>0.117089</td>\n",
              "      <td>0.110276</td>\n",
              "    </tr>\n",
              "    <tr>\n",
              "      <th>48</th>\n",
              "      <td>0.96</td>\n",
              "      <td>1076</td>\n",
              "      <td>2183</td>\n",
              "      <td>8404</td>\n",
              "      <td>18166</td>\n",
              "      <td>0.330163</td>\n",
              "      <td>0.113502</td>\n",
              "      <td>0.645077</td>\n",
              "      <td>0.168930</td>\n",
              "      <td>0.113502</td>\n",
              "      <td>0.107278</td>\n",
              "    </tr>\n",
              "    <tr>\n",
              "      <th>49</th>\n",
              "      <td>0.98</td>\n",
              "      <td>982</td>\n",
              "      <td>2055</td>\n",
              "      <td>8498</td>\n",
              "      <td>18294</td>\n",
              "      <td>0.323345</td>\n",
              "      <td>0.103586</td>\n",
              "      <td>0.646217</td>\n",
              "      <td>0.156907</td>\n",
              "      <td>0.103586</td>\n",
              "      <td>0.100988</td>\n",
              "    </tr>\n",
              "    <tr>\n",
              "      <th>50</th>\n",
              "      <td>1.00</td>\n",
              "      <td>967</td>\n",
              "      <td>2025</td>\n",
              "      <td>8513</td>\n",
              "      <td>18324</td>\n",
              "      <td>0.323195</td>\n",
              "      <td>0.102004</td>\n",
              "      <td>0.646720</td>\n",
              "      <td>0.155067</td>\n",
              "      <td>0.102004</td>\n",
              "      <td>0.099513</td>\n",
              "    </tr>\n",
              "  </tbody>\n",
              "</table>\n",
              "</div>"
            ],
            "text/plain": [
              "    threshold    tp     fp    fn     tn  precision    recall  accuracy  \\\n",
              "0        0.00  9480  20349     0      0   0.317812  1.000000  0.317812   \n",
              "1        0.02  8094  17530  1386   2819   0.315876  0.853797  0.365852   \n",
              "2        0.04  7896  17143  1584   3206   0.315348  0.832911  0.372188   \n",
              "3        0.06  7654  16664  1826   3685   0.314746  0.807384  0.380133   \n",
              "4        0.08  7349  16078  2131   4271   0.313698  0.775211  0.389554   \n",
              "5        0.10  7271  15849  2209   4500   0.314490  0.766983  0.394616   \n",
              "6        0.12  6828  14865  2652   5484   0.314756  0.720253  0.412753   \n",
              "7        0.14  6391  13889  3089   6460   0.315138  0.674156  0.430822   \n",
              "8        0.16  6009  12786  3471   7563   0.319713  0.633861  0.454993   \n",
              "9        0.18  5959  12631  3521   7718   0.320549  0.628586  0.458514   \n",
              "10       0.20  5832  12374  3648   7975   0.320334  0.615190  0.462872   \n",
              "11       0.22  5384  11336  4096   9013   0.322010  0.567932  0.482651   \n",
              "12       0.24  4657   9494  4823  10855   0.329093  0.491245  0.520031   \n",
              "13       0.26  4219   8586  5261  11763   0.329481  0.445042  0.535787   \n",
              "14       0.28  3767   7318  5713  13031   0.339829  0.397363  0.563143   \n",
              "15       0.30  3484   6736  5996  13613   0.340900  0.367511  0.573167   \n",
              "16       0.32  3077   5738  6403  14611   0.349064  0.324578  0.592980   \n",
              "17       0.34  3041   5663  6439  14686   0.349380  0.320781  0.594287   \n",
              "18       0.36  2846   5367  6634  14982   0.346524  0.300211  0.597673   \n",
              "19       0.38  2744   5175  6736  15174   0.346508  0.289451  0.600691   \n",
              "20       0.40  2587   4946  6893  15403   0.343422  0.272890  0.603104   \n",
              "21       0.42  2542   4809  6938  15540   0.345803  0.268143  0.606189   \n",
              "22       0.44  2508   4622  6972  15727   0.351753  0.264557  0.611318   \n",
              "23       0.46  2505   4617  6975  15732   0.351727  0.264241  0.611385   \n",
              "24       0.48  2146   4318  7334  16031   0.331993  0.226371  0.609373   \n",
              "25       0.50  2146   4306  7334  16043   0.332610  0.226371  0.609776   \n",
              "26       0.52  2064   4134  7416  16215   0.333011  0.217722  0.612793   \n",
              "27       0.54  2060   4110  7420  16239   0.333874  0.217300  0.613463   \n",
              "28       0.56  2042   4059  7438  16290   0.334699  0.215401  0.614570   \n",
              "29       0.58  1959   3833  7521  16516   0.338225  0.206646  0.619364   \n",
              "30       0.60  1958   3826  7522  16523   0.338520  0.206540  0.619565   \n",
              "31       0.62  1932   3758  7548  16591   0.339543  0.203797  0.620973   \n",
              "32       0.64  1916   3750  7564  16599   0.338157  0.202110  0.620705   \n",
              "33       0.66  1701   3401  7779  16948   0.333399  0.179430  0.625197   \n",
              "34       0.68  1669   3323  7811  17026   0.334335  0.176055  0.626739   \n",
              "35       0.70  1646   3286  7834  17063   0.333739  0.173629  0.627208   \n",
              "36       0.72  1638   3275  7842  17074   0.333401  0.172785  0.627309   \n",
              "37       0.74  1603   3223  7877  17126   0.332159  0.169093  0.627879   \n",
              "38       0.76  1367   2949  8113  17400   0.316728  0.144198  0.629153   \n",
              "39       0.78  1320   2934  8160  17415   0.310296  0.139241  0.628080   \n",
              "40       0.80  1282   2819  8198  17530   0.312607  0.135232  0.630661   \n",
              "41       0.82  1244   2693  8236  17656   0.315977  0.131224  0.633612   \n",
              "42       0.84  1218   2635  8262  17714   0.316117  0.128481  0.634684   \n",
              "43       0.86  1218   2621  8262  17728   0.317270  0.128481  0.635154   \n",
              "44       0.88  1213   2613  8267  17736   0.317041  0.127954  0.635254   \n",
              "45       0.90  1209   2612  8271  17737   0.316409  0.127532  0.635154   \n",
              "46       0.92  1142   2317  8338  18032   0.330153  0.120464  0.642797   \n",
              "47       0.94  1110   2244  8370  18105   0.330948  0.117089  0.644172   \n",
              "48       0.96  1076   2183  8404  18166   0.330163  0.113502  0.645077   \n",
              "49       0.98   982   2055  8498  18294   0.323345  0.103586  0.646217   \n",
              "50       1.00   967   2025  8513  18324   0.323195  0.102004  0.646720   \n",
              "\n",
              "    f1_score       tpr       fpr  \n",
              "0   0.482332  1.000000  1.000000  \n",
              "1   0.461144  0.853797  0.861467  \n",
              "2   0.457487  0.832911  0.842449  \n",
              "3   0.452926  0.807384  0.818910  \n",
              "4   0.446653  0.775211  0.790113  \n",
              "5   0.446074  0.766983  0.778859  \n",
              "6   0.438071  0.720253  0.730503  \n",
              "7   0.429503  0.674156  0.682540  \n",
              "8   0.425040  0.633861  0.628336  \n",
              "9   0.424581  0.628586  0.620718  \n",
              "10  0.421296  0.615190  0.608089  \n",
              "11  0.410992  0.567932  0.557079  \n",
              "12  0.394143  0.491245  0.466559  \n",
              "13  0.378640  0.445042  0.421937  \n",
              "14  0.366351  0.397363  0.359625  \n",
              "15  0.353706  0.367511  0.331024  \n",
              "16  0.336376  0.324578  0.281979  \n",
              "17  0.334470  0.320781  0.278294  \n",
              "18  0.321709  0.300211  0.263748  \n",
              "19  0.315420  0.289451  0.254312  \n",
              "20  0.304120  0.272890  0.243059  \n",
              "21  0.302062  0.268143  0.236326  \n",
              "22  0.301987  0.264557  0.227136  \n",
              "23  0.301771  0.264241  0.226891  \n",
              "24  0.269192  0.226371  0.212197  \n",
              "25  0.269395  0.226371  0.211607  \n",
              "26  0.263299  0.217722  0.203155  \n",
              "27  0.263259  0.217300  0.201976  \n",
              "28  0.262114  0.215401  0.199469  \n",
              "29  0.256548  0.206646  0.188363  \n",
              "30  0.256551  0.206540  0.188019  \n",
              "31  0.254713  0.203797  0.184677  \n",
              "32  0.253004  0.202110  0.184284  \n",
              "33  0.233301  0.179430  0.167134  \n",
              "34  0.230652  0.176055  0.163300  \n",
              "35  0.228421  0.173629  0.161482  \n",
              "36  0.227611  0.172785  0.160942  \n",
              "37  0.224102  0.169093  0.158386  \n",
              "38  0.198173  0.144198  0.144921  \n",
              "39  0.192224  0.139241  0.144184  \n",
              "40  0.188793  0.135232  0.138533  \n",
              "41  0.185436  0.131224  0.132341  \n",
              "42  0.182705  0.128481  0.129490  \n",
              "43  0.182897  0.128481  0.128802  \n",
              "44  0.182324  0.127954  0.128409  \n",
              "45  0.181791  0.127532  0.128360  \n",
              "46  0.176521  0.120464  0.113863  \n",
              "47  0.172978  0.117089  0.110276  \n",
              "48  0.168930  0.113502  0.107278  \n",
              "49  0.156907  0.103586  0.100988  \n",
              "50  0.155067  0.102004  0.099513  "
            ]
          },
          "execution_count": 100,
          "metadata": {},
          "output_type": "execute_result"
        }
      ],
      "source": [
        "# full df_scores\n",
        "df_scores"
      ]
    },
    {
      "cell_type": "code",
      "execution_count": 101,
      "metadata": {
        "colab": {
          "base_uri": "https://localhost:8080/",
          "height": 545
        },
        "id": "sfhNxo4UvPn7",
        "outputId": "302441d3-bf72-4e6f-b09c-504209de27bb"
      },
      "outputs": [
        {
          "data": {
            "text/html": [
              "<div>\n",
              "<style scoped>\n",
              "    .dataframe tbody tr th:only-of-type {\n",
              "        vertical-align: middle;\n",
              "    }\n",
              "\n",
              "    .dataframe tbody tr th {\n",
              "        vertical-align: top;\n",
              "    }\n",
              "\n",
              "    .dataframe thead th {\n",
              "        text-align: right;\n",
              "    }\n",
              "</style>\n",
              "<table border=\"1\" class=\"dataframe\">\n",
              "  <thead>\n",
              "    <tr style=\"text-align: right;\">\n",
              "      <th></th>\n",
              "      <th>threshold</th>\n",
              "      <th>tp</th>\n",
              "      <th>fp</th>\n",
              "      <th>fn</th>\n",
              "      <th>tn</th>\n",
              "      <th>precision</th>\n",
              "      <th>recall</th>\n",
              "      <th>accuracy</th>\n",
              "      <th>f1_score</th>\n",
              "      <th>tpr</th>\n",
              "      <th>fpr</th>\n",
              "    </tr>\n",
              "  </thead>\n",
              "  <tbody>\n",
              "    <tr>\n",
              "      <th>25</th>\n",
              "      <td>0.50</td>\n",
              "      <td>2146</td>\n",
              "      <td>4306</td>\n",
              "      <td>7334</td>\n",
              "      <td>16043</td>\n",
              "      <td>0.332610</td>\n",
              "      <td>0.226371</td>\n",
              "      <td>0.609776</td>\n",
              "      <td>0.269395</td>\n",
              "      <td>0.226371</td>\n",
              "      <td>0.211607</td>\n",
              "    </tr>\n",
              "    <tr>\n",
              "      <th>26</th>\n",
              "      <td>0.52</td>\n",
              "      <td>2064</td>\n",
              "      <td>4134</td>\n",
              "      <td>7416</td>\n",
              "      <td>16215</td>\n",
              "      <td>0.333011</td>\n",
              "      <td>0.217722</td>\n",
              "      <td>0.612793</td>\n",
              "      <td>0.263299</td>\n",
              "      <td>0.217722</td>\n",
              "      <td>0.203155</td>\n",
              "    </tr>\n",
              "    <tr>\n",
              "      <th>27</th>\n",
              "      <td>0.54</td>\n",
              "      <td>2060</td>\n",
              "      <td>4110</td>\n",
              "      <td>7420</td>\n",
              "      <td>16239</td>\n",
              "      <td>0.333874</td>\n",
              "      <td>0.217300</td>\n",
              "      <td>0.613463</td>\n",
              "      <td>0.263259</td>\n",
              "      <td>0.217300</td>\n",
              "      <td>0.201976</td>\n",
              "    </tr>\n",
              "    <tr>\n",
              "      <th>28</th>\n",
              "      <td>0.56</td>\n",
              "      <td>2042</td>\n",
              "      <td>4059</td>\n",
              "      <td>7438</td>\n",
              "      <td>16290</td>\n",
              "      <td>0.334699</td>\n",
              "      <td>0.215401</td>\n",
              "      <td>0.614570</td>\n",
              "      <td>0.262114</td>\n",
              "      <td>0.215401</td>\n",
              "      <td>0.199469</td>\n",
              "    </tr>\n",
              "    <tr>\n",
              "      <th>29</th>\n",
              "      <td>0.58</td>\n",
              "      <td>1959</td>\n",
              "      <td>3833</td>\n",
              "      <td>7521</td>\n",
              "      <td>16516</td>\n",
              "      <td>0.338225</td>\n",
              "      <td>0.206646</td>\n",
              "      <td>0.619364</td>\n",
              "      <td>0.256548</td>\n",
              "      <td>0.206646</td>\n",
              "      <td>0.188363</td>\n",
              "    </tr>\n",
              "    <tr>\n",
              "      <th>30</th>\n",
              "      <td>0.60</td>\n",
              "      <td>1958</td>\n",
              "      <td>3826</td>\n",
              "      <td>7522</td>\n",
              "      <td>16523</td>\n",
              "      <td>0.338520</td>\n",
              "      <td>0.206540</td>\n",
              "      <td>0.619565</td>\n",
              "      <td>0.256551</td>\n",
              "      <td>0.206540</td>\n",
              "      <td>0.188019</td>\n",
              "    </tr>\n",
              "    <tr>\n",
              "      <th>31</th>\n",
              "      <td>0.62</td>\n",
              "      <td>1932</td>\n",
              "      <td>3758</td>\n",
              "      <td>7548</td>\n",
              "      <td>16591</td>\n",
              "      <td>0.339543</td>\n",
              "      <td>0.203797</td>\n",
              "      <td>0.620973</td>\n",
              "      <td>0.254713</td>\n",
              "      <td>0.203797</td>\n",
              "      <td>0.184677</td>\n",
              "    </tr>\n",
              "    <tr>\n",
              "      <th>32</th>\n",
              "      <td>0.64</td>\n",
              "      <td>1916</td>\n",
              "      <td>3750</td>\n",
              "      <td>7564</td>\n",
              "      <td>16599</td>\n",
              "      <td>0.338157</td>\n",
              "      <td>0.202110</td>\n",
              "      <td>0.620705</td>\n",
              "      <td>0.253004</td>\n",
              "      <td>0.202110</td>\n",
              "      <td>0.184284</td>\n",
              "    </tr>\n",
              "    <tr>\n",
              "      <th>33</th>\n",
              "      <td>0.66</td>\n",
              "      <td>1701</td>\n",
              "      <td>3401</td>\n",
              "      <td>7779</td>\n",
              "      <td>16948</td>\n",
              "      <td>0.333399</td>\n",
              "      <td>0.179430</td>\n",
              "      <td>0.625197</td>\n",
              "      <td>0.233301</td>\n",
              "      <td>0.179430</td>\n",
              "      <td>0.167134</td>\n",
              "    </tr>\n",
              "    <tr>\n",
              "      <th>34</th>\n",
              "      <td>0.68</td>\n",
              "      <td>1669</td>\n",
              "      <td>3323</td>\n",
              "      <td>7811</td>\n",
              "      <td>17026</td>\n",
              "      <td>0.334335</td>\n",
              "      <td>0.176055</td>\n",
              "      <td>0.626739</td>\n",
              "      <td>0.230652</td>\n",
              "      <td>0.176055</td>\n",
              "      <td>0.163300</td>\n",
              "    </tr>\n",
              "    <tr>\n",
              "      <th>35</th>\n",
              "      <td>0.70</td>\n",
              "      <td>1646</td>\n",
              "      <td>3286</td>\n",
              "      <td>7834</td>\n",
              "      <td>17063</td>\n",
              "      <td>0.333739</td>\n",
              "      <td>0.173629</td>\n",
              "      <td>0.627208</td>\n",
              "      <td>0.228421</td>\n",
              "      <td>0.173629</td>\n",
              "      <td>0.161482</td>\n",
              "    </tr>\n",
              "    <tr>\n",
              "      <th>36</th>\n",
              "      <td>0.72</td>\n",
              "      <td>1638</td>\n",
              "      <td>3275</td>\n",
              "      <td>7842</td>\n",
              "      <td>17074</td>\n",
              "      <td>0.333401</td>\n",
              "      <td>0.172785</td>\n",
              "      <td>0.627309</td>\n",
              "      <td>0.227611</td>\n",
              "      <td>0.172785</td>\n",
              "      <td>0.160942</td>\n",
              "    </tr>\n",
              "    <tr>\n",
              "      <th>37</th>\n",
              "      <td>0.74</td>\n",
              "      <td>1603</td>\n",
              "      <td>3223</td>\n",
              "      <td>7877</td>\n",
              "      <td>17126</td>\n",
              "      <td>0.332159</td>\n",
              "      <td>0.169093</td>\n",
              "      <td>0.627879</td>\n",
              "      <td>0.224102</td>\n",
              "      <td>0.169093</td>\n",
              "      <td>0.158386</td>\n",
              "    </tr>\n",
              "    <tr>\n",
              "      <th>38</th>\n",
              "      <td>0.76</td>\n",
              "      <td>1367</td>\n",
              "      <td>2949</td>\n",
              "      <td>8113</td>\n",
              "      <td>17400</td>\n",
              "      <td>0.316728</td>\n",
              "      <td>0.144198</td>\n",
              "      <td>0.629153</td>\n",
              "      <td>0.198173</td>\n",
              "      <td>0.144198</td>\n",
              "      <td>0.144921</td>\n",
              "    </tr>\n",
              "    <tr>\n",
              "      <th>39</th>\n",
              "      <td>0.78</td>\n",
              "      <td>1320</td>\n",
              "      <td>2934</td>\n",
              "      <td>8160</td>\n",
              "      <td>17415</td>\n",
              "      <td>0.310296</td>\n",
              "      <td>0.139241</td>\n",
              "      <td>0.628080</td>\n",
              "      <td>0.192224</td>\n",
              "      <td>0.139241</td>\n",
              "      <td>0.144184</td>\n",
              "    </tr>\n",
              "    <tr>\n",
              "      <th>40</th>\n",
              "      <td>0.80</td>\n",
              "      <td>1282</td>\n",
              "      <td>2819</td>\n",
              "      <td>8198</td>\n",
              "      <td>17530</td>\n",
              "      <td>0.312607</td>\n",
              "      <td>0.135232</td>\n",
              "      <td>0.630661</td>\n",
              "      <td>0.188793</td>\n",
              "      <td>0.135232</td>\n",
              "      <td>0.138533</td>\n",
              "    </tr>\n",
              "  </tbody>\n",
              "</table>\n",
              "</div>"
            ],
            "text/plain": [
              "    threshold    tp    fp    fn     tn  precision    recall  accuracy  \\\n",
              "25       0.50  2146  4306  7334  16043   0.332610  0.226371  0.609776   \n",
              "26       0.52  2064  4134  7416  16215   0.333011  0.217722  0.612793   \n",
              "27       0.54  2060  4110  7420  16239   0.333874  0.217300  0.613463   \n",
              "28       0.56  2042  4059  7438  16290   0.334699  0.215401  0.614570   \n",
              "29       0.58  1959  3833  7521  16516   0.338225  0.206646  0.619364   \n",
              "30       0.60  1958  3826  7522  16523   0.338520  0.206540  0.619565   \n",
              "31       0.62  1932  3758  7548  16591   0.339543  0.203797  0.620973   \n",
              "32       0.64  1916  3750  7564  16599   0.338157  0.202110  0.620705   \n",
              "33       0.66  1701  3401  7779  16948   0.333399  0.179430  0.625197   \n",
              "34       0.68  1669  3323  7811  17026   0.334335  0.176055  0.626739   \n",
              "35       0.70  1646  3286  7834  17063   0.333739  0.173629  0.627208   \n",
              "36       0.72  1638  3275  7842  17074   0.333401  0.172785  0.627309   \n",
              "37       0.74  1603  3223  7877  17126   0.332159  0.169093  0.627879   \n",
              "38       0.76  1367  2949  8113  17400   0.316728  0.144198  0.629153   \n",
              "39       0.78  1320  2934  8160  17415   0.310296  0.139241  0.628080   \n",
              "40       0.80  1282  2819  8198  17530   0.312607  0.135232  0.630661   \n",
              "\n",
              "    f1_score       tpr       fpr  \n",
              "25  0.269395  0.226371  0.211607  \n",
              "26  0.263299  0.217722  0.203155  \n",
              "27  0.263259  0.217300  0.201976  \n",
              "28  0.262114  0.215401  0.199469  \n",
              "29  0.256548  0.206646  0.188363  \n",
              "30  0.256551  0.206540  0.188019  \n",
              "31  0.254713  0.203797  0.184677  \n",
              "32  0.253004  0.202110  0.184284  \n",
              "33  0.233301  0.179430  0.167134  \n",
              "34  0.230652  0.176055  0.163300  \n",
              "35  0.228421  0.173629  0.161482  \n",
              "36  0.227611  0.172785  0.160942  \n",
              "37  0.224102  0.169093  0.158386  \n",
              "38  0.198173  0.144198  0.144921  \n",
              "39  0.192224  0.139241  0.144184  \n",
              "40  0.188793  0.135232  0.138533  "
            ]
          },
          "execution_count": 101,
          "metadata": {},
          "output_type": "execute_result"
        }
      ],
      "source": [
        "df_scores[(df_scores.threshold>=0.5) & (df_scores.threshold<=0.8)]"
      ]
    },
    {
      "cell_type": "code",
      "execution_count": 102,
      "metadata": {
        "colab": {
          "base_uri": "https://localhost:8080/",
          "height": 489
        },
        "id": "B2AqOTxvvRV0",
        "outputId": "2153e915-0592-47ed-988c-1682c0437a51"
      },
      "outputs": [
        {
          "data": {
            "text/plain": [
              "<Axes: title={'center': 'Precision vs. Recall for the Best Model (Decision Tree with max_depth=15)'}, xlabel='threshold'>"
            ]
          },
          "execution_count": 102,
          "metadata": {},
          "output_type": "execute_result"
        },
        {
          "data": {
            "image/png": "[encoded data removed]",
            "text/plain": [
              "<Figure size 640x480 with 1 Axes>"
            ]
          },
          "metadata": {},
          "output_type": "display_data"
        }
      ],
      "source": [
        "# Try to find high Precision score points\n",
        "\n",
        "df_scores.plot.line(x='threshold',\n",
        "                    y=['precision','recall', 'f1_score'],\n",
        "                    title = 'Precision vs. Recall for the Best Model (Decision Tree with max_depth=15)')"
      ]
    },
    {
      "cell_type": "markdown",
      "metadata": {
        "id": "D6VPJZNVvguL"
      },
      "source": [
        "## 2.2) [Code Snippet 6] Defining new columns with Predictions in new_df: pred7..pred10\n",
        "* pred7 and pred8 are 2 decision rules for the Decision Tree (best model with max_depth=15)\n",
        "* pred9 and pred10 are 2 decision rules for the Random Forest (second best model)"
      ]
    },
    {
      "cell_type": "code",
      "execution_count": 103,
      "metadata": {
        "id": "dVg7GsUvviGS"
      },
      "outputs": [],
      "source": [
        "# adding Decision Tree predictors (clf_best) to the dataset for 2 new rules: Threshold = 0.66 and 0.78\n",
        "\n",
        "\n",
        "y_pred_all = clf_best.predict_proba(X_all)\n",
        "y_pred_all_class1 = [k[1] for k in y_pred_all] #list of predictions for class \"1\"\n",
        "y_pred_all_class1_array = np.array(y_pred_all_class1) # (Numpy Array) np.array of predictions for class \"1\" , converted from a list\n",
        "\n",
        "# defining a new prediction vector is easy now, as the dimensions will match\n",
        "new_df['proba_pred7'] = y_pred_all_class1_array\n",
        "new_df['pred7_clf_best_rule_66'] = (y_pred_all_class1_array >= 0.66).astype(int)\n",
        "\n",
        "new_df['proba_pred8'] = y_pred_all_class1_array\n",
        "new_df['pred8_clf_best_rule_78'] = (y_pred_all_class1_array >= 0.78).astype(int)"
      ]
    },
    {
      "cell_type": "code",
      "execution_count": 104,
      "metadata": {
        "colab": {
          "base_uri": "https://localhost:8080/",
          "height": 91
        },
        "id": "lAoMQvpOvkXa",
        "outputId": "92747b8f-7b35-432d-9aa2-8a7363e36567"
      },
      "outputs": [
        {
          "data": {
            "text/html": [
              "<style>#sk-container-id-2 {color: black;}#sk-container-id-2 pre{padding: 0;}#sk-container-id-2 div.sk-toggleable {background-color: white;}#sk-container-id-2 label.sk-toggleable__label {cursor: pointer;display: block;width: 100%;margin-bottom: 0;padding: 0.3em;box-sizing: border-box;text-align: center;}#sk-container-id-2 label.sk-toggleable__label-arrow:before {content: \"▸\";float: left;margin-right: 0.25em;color: #696969;}#sk-container-id-2 label.sk-toggleable__label-arrow:hover:before {color: black;}#sk-container-id-2 div.sk-estimator:hover label.sk-toggleable__label-arrow:before {color: black;}#sk-container-id-2 div.sk-toggleable__content {max-height: 0;max-width: 0;overflow: hidden;text-align: left;background-color: #f0f8ff;}#sk-container-id-2 div.sk-toggleable__content pre {margin: 0.2em;color: black;border-radius: 0.25em;background-color: #f0f8ff;}#sk-container-id-2 input.sk-toggleable__control:checked~div.sk-toggleable__content {max-height: 200px;max-width: 100%;overflow: auto;}#sk-container-id-2 input.sk-toggleable__control:checked~label.sk-toggleable__label-arrow:before {content: \"▾\";}#sk-container-id-2 div.sk-estimator input.sk-toggleable__control:checked~label.sk-toggleable__label {background-color: #d4ebff;}#sk-container-id-2 div.sk-label input.sk-toggleable__control:checked~label.sk-toggleable__label {background-color: #d4ebff;}#sk-container-id-2 input.sk-hidden--visually {border: 0;clip: rect(1px 1px 1px 1px);clip: rect(1px, 1px, 1px, 1px);height: 1px;margin: -1px;overflow: hidden;padding: 0;position: absolute;width: 1px;}#sk-container-id-2 div.sk-estimator {font-family: monospace;background-color: #f0f8ff;border: 1px dotted black;border-radius: 0.25em;box-sizing: border-box;margin-bottom: 0.5em;}#sk-container-id-2 div.sk-estimator:hover {background-color: #d4ebff;}#sk-container-id-2 div.sk-parallel-item::after {content: \"\";width: 100%;border-bottom: 1px solid gray;flex-grow: 1;}#sk-container-id-2 div.sk-label:hover label.sk-toggleable__label {background-color: #d4ebff;}#sk-container-id-2 div.sk-serial::before {content: \"\";position: absolute;border-left: 1px solid gray;box-sizing: border-box;top: 0;bottom: 0;left: 50%;z-index: 0;}#sk-container-id-2 div.sk-serial {display: flex;flex-direction: column;align-items: center;background-color: white;padding-right: 0.2em;padding-left: 0.2em;position: relative;}#sk-container-id-2 div.sk-item {position: relative;z-index: 1;}#sk-container-id-2 div.sk-parallel {display: flex;align-items: stretch;justify-content: center;background-color: white;position: relative;}#sk-container-id-2 div.sk-item::before, #sk-container-id-2 div.sk-parallel-item::before {content: \"\";position: absolute;border-left: 1px solid gray;box-sizing: border-box;top: 0;bottom: 0;left: 50%;z-index: -1;}#sk-container-id-2 div.sk-parallel-item {display: flex;flex-direction: column;z-index: 1;position: relative;background-color: white;}#sk-container-id-2 div.sk-parallel-item:first-child::after {align-self: flex-end;width: 50%;}#sk-container-id-2 div.sk-parallel-item:last-child::after {align-self: flex-start;width: 50%;}#sk-container-id-2 div.sk-parallel-item:only-child::after {width: 0;}#sk-container-id-2 div.sk-dashed-wrapped {border: 1px dashed gray;margin: 0 0.4em 0.5em 0.4em;box-sizing: border-box;padding-bottom: 0.4em;background-color: white;}#sk-container-id-2 div.sk-label label {font-family: monospace;font-weight: bold;display: inline-block;line-height: 1.2em;}#sk-container-id-2 div.sk-label-container {text-align: center;}#sk-container-id-2 div.sk-container {/* jupyter's `normalize.less` sets `[hidden] { display: none; }` but bootstrap.min.css set `[hidden] { display: none !important; }` so we also need the `!important` here to be able to override the default hidden behavior on the sphinx rendered scikit-learn.org. See: https://github.com/scikit-learn/scikit-learn/issues/21755 */display: inline-block !important;position: relative;}#sk-container-id-2 div.sk-text-repr-fallback {display: none;}</style><div id=\"sk-container-id-2\" class=\"sk-top-container\"><div class=\"sk-text-repr-fallback\"><pre>RandomForestClassifier(max_depth=17, n_estimators=200, n_jobs=-1,\n",
              "                       random_state=42)</pre><b>In a Jupyter environment, please rerun this cell to show the HTML representation or trust the notebook. <br />On GitHub, the HTML representation is unable to render, please try loading this page with nbviewer.org.</b></div><div class=\"sk-container\" hidden><div class=\"sk-item\"><div class=\"sk-estimator sk-toggleable\"><input class=\"sk-toggleable__control sk-hidden--visually\" id=\"sk-estimator-id-2\" type=\"checkbox\" checked><label for=\"sk-estimator-id-2\" class=\"sk-toggleable__label sk-toggleable__label-arrow\">RandomForestClassifier</label><div class=\"sk-toggleable__content\"><pre>RandomForestClassifier(max_depth=17, n_estimators=200, n_jobs=-1,\n",
              "                       random_state=42)</pre></div></div></div></div></div>"
            ],
            "text/plain": [
              "RandomForestClassifier(max_depth=17, n_estimators=200, n_jobs=-1,\n",
              "                       random_state=42)"
            ]
          },
          "execution_count": 104,
          "metadata": {},
          "output_type": "execute_result"
        }
      ],
      "source": [
        "# adding Random Forest predictors (rf_best)\n",
        "rf_best"
      ]
    },
    {
      "cell_type": "code",
      "execution_count": 105,
      "metadata": {
        "id": "ydpMazLKvl8a"
      },
      "outputs": [],
      "source": [
        "# adding Random Forest predictors (rf_best) to the dataset for 2 new rules: Threshold = 0.66 and 0.78\n",
        "\n",
        "y_pred_all = rf_best.predict_proba(X_all)\n",
        "y_pred_all_class1 = [k[1] for k in y_pred_all] #list of predictions for class \"1\"\n",
        "y_pred_all_class1_array = np.array(y_pred_all_class1) # (Numpy Array) np.array of predictions for class \"1\" , converted from a list\n",
        "\n",
        "# defining a new prediction vector is easy now, as the dimensions will match\n",
        "new_df['proba_pred9'] = y_pred_all_class1_array\n",
        "new_df['pred9_rf_best_rule_55'] = (y_pred_all_class1_array >= 0.55).astype(int)\n",
        "\n",
        "new_df['proba_pred10'] = y_pred_all_class1_array\n",
        "new_df['pred10_rf_best_rule_60'] = (y_pred_all_class1_array >= 0.6).astype(int)\n",
        "\n",
        "# TODO HA4 Q1: define new predictor for thresholds 0.51..0.54, 0.56..0.59"
      ]
    },
    {
      "cell_type": "code",
      "execution_count": 106,
      "metadata": {
        "colab": {
          "base_uri": "https://localhost:8080/"
        },
        "id": "bIHOswKLvtgX",
        "outputId": "f7ae73d7-5ff6-4b02-bf01-a7c6c684b1f3"
      },
      "outputs": [
        {
          "data": {
            "text/plain": [
              "['pred0_manual_cci',\n",
              " 'pred1_manual_prev_g1',\n",
              " 'pred2_manual_prev_g1_and_snp',\n",
              " 'pred3_manual_gdp_and_fastd',\n",
              " 'pred4_manual_gdp_and_wti30d',\n",
              " 'pred5_clf_10',\n",
              " 'pred6_clf_best']"
            ]
          },
          "execution_count": 106,
          "metadata": {},
          "output_type": "execute_result"
        }
      ],
      "source": [
        "PREDICTIONS"
      ]
    },
    {
      "cell_type": "code",
      "execution_count": 107,
      "metadata": {
        "colab": {
          "base_uri": "https://localhost:8080/",
          "height": 447
        },
        "id": "El-wNvA-wIES",
        "outputId": "428512a8-3dc3-4d1d-e52d-5dbd7fef479d"
      },
      "outputs": [
        {
          "data": {
            "text/plain": [
              "<Axes: >"
            ]
          },
          "execution_count": 107,
          "metadata": {},
          "output_type": "execute_result"
        },
        {
          "data": {
            "image/png": "[encoded data removed]",
            "text/plain": [
              "<Figure size 640x480 with 1 Axes>"
            ]
          },
          "metadata": {},
          "output_type": "display_data"
        }
      ],
      "source": [
        "# When did it predict to trade for the \"rare\" prediction pred10? (only 2%)\n",
        "new_df[(new_df.split=='test')&(new_df.pred10_rf_best_rule_60==1)].Date.hist()"
      ]
    },
    {
      "cell_type": "code",
      "execution_count": 108,
      "metadata": {
        "colab": {
          "base_uri": "https://localhost:8080/",
          "height": 208
        },
        "id": "X0L97yBswJyy",
        "outputId": "13ad1e79-4c18-4c03-e428-1d710eebfdf2"
      },
      "outputs": [
        {
          "data": {
            "text/html": [
              "<div>\n",
              "<style scoped>\n",
              "    .dataframe tbody tr th:only-of-type {\n",
              "        vertical-align: middle;\n",
              "    }\n",
              "\n",
              "    .dataframe tbody tr th {\n",
              "        vertical-align: top;\n",
              "    }\n",
              "\n",
              "    .dataframe thead th {\n",
              "        text-align: right;\n",
              "    }\n",
              "</style>\n",
              "<table border=\"1\" class=\"dataframe\">\n",
              "  <thead>\n",
              "    <tr style=\"text-align: right;\">\n",
              "      <th></th>\n",
              "      <th>Open</th>\n",
              "      <th>High</th>\n",
              "      <th>Low</th>\n",
              "      <th>Close</th>\n",
              "      <th>Adj Close_x</th>\n",
              "      <th>Volume</th>\n",
              "      <th>Ticker</th>\n",
              "      <th>Year</th>\n",
              "      <th>Month</th>\n",
              "      <th>Weekday</th>\n",
              "      <th>...</th>\n",
              "      <th>pred6_clf_best</th>\n",
              "      <th>is_correct_pred6</th>\n",
              "      <th>proba_pred7</th>\n",
              "      <th>pred7_clf_best_rule_66</th>\n",
              "      <th>proba_pred8</th>\n",
              "      <th>pred8_clf_best_rule_78</th>\n",
              "      <th>proba_pred9</th>\n",
              "      <th>pred9_rf_best_rule_55</th>\n",
              "      <th>proba_pred10</th>\n",
              "      <th>pred10_rf_best_rule_60</th>\n",
              "    </tr>\n",
              "  </thead>\n",
              "  <tbody>\n",
              "    <tr>\n",
              "      <th>5862</th>\n",
              "      <td>180.339996</td>\n",
              "      <td>182.550003</td>\n",
              "      <td>168.270004</td>\n",
              "      <td>169.500000</td>\n",
              "      <td>169.287430</td>\n",
              "      <td>64445500.0</td>\n",
              "      <td>NVDA</td>\n",
              "      <td>2022</td>\n",
              "      <td>May</td>\n",
              "      <td>0</td>\n",
              "      <td>...</td>\n",
              "      <td>1</td>\n",
              "      <td>0</td>\n",
              "      <td>0.968421</td>\n",
              "      <td>1</td>\n",
              "      <td>0.968421</td>\n",
              "      <td>1</td>\n",
              "      <td>0.622515</td>\n",
              "      <td>1</td>\n",
              "      <td>0.622515</td>\n",
              "      <td>1</td>\n",
              "    </tr>\n",
              "    <tr>\n",
              "      <th>6287</th>\n",
              "      <td>111.312500</td>\n",
              "      <td>114.000000</td>\n",
              "      <td>107.957001</td>\n",
              "      <td>108.789001</td>\n",
              "      <td>108.789001</td>\n",
              "      <td>128124000.0</td>\n",
              "      <td>AMZN</td>\n",
              "      <td>2022</td>\n",
              "      <td>May</td>\n",
              "      <td>0</td>\n",
              "      <td>...</td>\n",
              "      <td>0</td>\n",
              "      <td>1</td>\n",
              "      <td>0.000000</td>\n",
              "      <td>0</td>\n",
              "      <td>0.000000</td>\n",
              "      <td>0</td>\n",
              "      <td>0.615777</td>\n",
              "      <td>1</td>\n",
              "      <td>0.615777</td>\n",
              "      <td>1</td>\n",
              "    </tr>\n",
              "    <tr>\n",
              "      <th>6836</th>\n",
              "      <td>530.210022</td>\n",
              "      <td>535.799988</td>\n",
              "      <td>510.359985</td>\n",
              "      <td>512.659973</td>\n",
              "      <td>502.959656</td>\n",
              "      <td>1714700.0</td>\n",
              "      <td>ASML</td>\n",
              "      <td>2022</td>\n",
              "      <td>May</td>\n",
              "      <td>0</td>\n",
              "      <td>...</td>\n",
              "      <td>1</td>\n",
              "      <td>1</td>\n",
              "      <td>0.968421</td>\n",
              "      <td>1</td>\n",
              "      <td>0.968421</td>\n",
              "      <td>1</td>\n",
              "      <td>0.624951</td>\n",
              "      <td>1</td>\n",
              "      <td>0.624951</td>\n",
              "      <td>1</td>\n",
              "    </tr>\n",
              "  </tbody>\n",
              "</table>\n",
              "<p>3 rows × 343 columns</p>\n",
              "</div>"
            ],
            "text/plain": [
              "            Open        High         Low       Close  Adj Close_x  \\\n",
              "5862  180.339996  182.550003  168.270004  169.500000   169.287430   \n",
              "6287  111.312500  114.000000  107.957001  108.789001   108.789001   \n",
              "6836  530.210022  535.799988  510.359985  512.659973   502.959656   \n",
              "\n",
              "           Volume Ticker  Year Month Weekday  ... pred6_clf_best  \\\n",
              "5862   64445500.0   NVDA  2022   May       0  ...              1   \n",
              "6287  128124000.0   AMZN  2022   May       0  ...              0   \n",
              "6836    1714700.0   ASML  2022   May       0  ...              1   \n",
              "\n",
              "      is_correct_pred6  proba_pred7  pred7_clf_best_rule_66  proba_pred8  \\\n",
              "5862                 0     0.968421                       1     0.968421   \n",
              "6287                 1     0.000000                       0     0.000000   \n",
              "6836                 1     0.968421                       1     0.968421   \n",
              "\n",
              "      pred8_clf_best_rule_78  proba_pred9  pred9_rf_best_rule_55  \\\n",
              "5862                       1     0.622515                      1   \n",
              "6287                       0     0.615777                      1   \n",
              "6836                       1     0.624951                      1   \n",
              "\n",
              "      proba_pred10  pred10_rf_best_rule_60  \n",
              "5862      0.622515                       1  \n",
              "6287      0.615777                       1  \n",
              "6836      0.624951                       1  \n",
              "\n",
              "[3 rows x 343 columns]"
            ]
          },
          "execution_count": 108,
          "metadata": {},
          "output_type": "execute_result"
        }
      ],
      "source": [
        "new_df[(new_df.split=='test')&(new_df.pred10_rf_best_rule_60==1)].sort_values(by='Date')"
      ]
    },
    {
      "cell_type": "code",
      "execution_count": 109,
      "metadata": {
        "id": "zYvdmmoZwNMH"
      },
      "outputs": [],
      "source": [
        "# Pred 10: How many positive prediction per day (out of 33 stocks possible)\n",
        "pred10_daily_positive_count = pd.DataFrame(new_df[(new_df.split=='test')&(new_df.pred10_rf_best_rule_60==1)].groupby('Date')['pred10_rf_best_rule_60'].count())"
      ]
    },
    {
      "cell_type": "code",
      "execution_count": 110,
      "metadata": {
        "id": "L7eXCFrOwQhH"
      },
      "outputs": [],
      "source": [
        "# Pred 9: How many positive prediction per day (out of 33 stocks possible)\n",
        "pred9_daily_positive_count = pd.DataFrame(new_df[(new_df.split=='test')&(new_df.pred9_rf_best_rule_55==1)].groupby('Date')['pred9_rf_best_rule_55'].count())"
      ]
    },
    {
      "cell_type": "code",
      "execution_count": 111,
      "metadata": {
        "colab": {
          "base_uri": "https://localhost:8080/"
        },
        "id": "2c4D26pAwRO_",
        "outputId": "4acbfda7-c516-4270-93c7-4b7addbdb3cf"
      },
      "outputs": [
        {
          "data": {
            "text/plain": [
              "947"
            ]
          },
          "execution_count": 111,
          "metadata": {},
          "output_type": "execute_result"
        }
      ],
      "source": [
        "# Unique trading days on Test (4 years)\n",
        "new_df[(new_df.split=='test')].Date.nunique()"
      ]
    },
    {
      "cell_type": "code",
      "execution_count": 112,
      "metadata": {
        "colab": {
          "base_uri": "https://localhost:8080/",
          "height": 111
        },
        "id": "eeHr2gizwT0-",
        "outputId": "859d7622-ea4b-4d3b-d993-ad107bac30de"
      },
      "outputs": [
        {
          "data": {
            "text/html": [
              "<div>\n",
              "<style scoped>\n",
              "    .dataframe tbody tr th:only-of-type {\n",
              "        vertical-align: middle;\n",
              "    }\n",
              "\n",
              "    .dataframe tbody tr th {\n",
              "        vertical-align: top;\n",
              "    }\n",
              "\n",
              "    .dataframe thead th {\n",
              "        text-align: right;\n",
              "    }\n",
              "</style>\n",
              "<table border=\"1\" class=\"dataframe\">\n",
              "  <thead>\n",
              "    <tr style=\"text-align: right;\">\n",
              "      <th></th>\n",
              "      <th>pred10_rf_best_rule_60</th>\n",
              "    </tr>\n",
              "    <tr>\n",
              "      <th>Date</th>\n",
              "      <th></th>\n",
              "    </tr>\n",
              "  </thead>\n",
              "  <tbody>\n",
              "    <tr>\n",
              "      <th>2022-05-09</th>\n",
              "      <td>3</td>\n",
              "    </tr>\n",
              "  </tbody>\n",
              "</table>\n",
              "</div>"
            ],
            "text/plain": [
              "            pred10_rf_best_rule_60\n",
              "Date                              \n",
              "2022-05-09                       3"
            ]
          },
          "execution_count": 112,
          "metadata": {},
          "output_type": "execute_result"
        }
      ],
      "source": [
        "pred10_daily_positive_count"
      ]
    },
    {
      "cell_type": "code",
      "execution_count": 113,
      "metadata": {
        "colab": {
          "base_uri": "https://localhost:8080/",
          "height": 469
        },
        "id": "iAz6x5yZwWf3",
        "outputId": "a4adbbe0-16e8-4ca5-dbe4-cb75814fd947"
      },
      "outputs": [
        {
          "data": {
            "text/plain": [
              "array([[<Axes: title={'center': 'pred10_rf_best_rule_60'}>]], dtype=object)"
            ]
          },
          "execution_count": 113,
          "metadata": {},
          "output_type": "execute_result"
        },
        {
          "data": {
            "image/png": "[encoded data removed]",
            "text/plain": [
              "<Figure size 640x480 with 1 Axes>"
            ]
          },
          "metadata": {},
          "output_type": "display_data"
        }
      ],
      "source": [
        "pred10_daily_positive_count.hist()"
      ]
    },
    {
      "cell_type": "code",
      "execution_count": 114,
      "metadata": {
        "colab": {
          "base_uri": "https://localhost:8080/",
          "height": 80
        },
        "id": "U0bSUS-YwXlv",
        "outputId": "8991d4a6-3d13-4327-9a97-6f1cdf3e546d"
      },
      "outputs": [
        {
          "data": {
            "text/html": [
              "<div>\n",
              "<style scoped>\n",
              "    .dataframe tbody tr th:only-of-type {\n",
              "        vertical-align: middle;\n",
              "    }\n",
              "\n",
              "    .dataframe tbody tr th {\n",
              "        vertical-align: top;\n",
              "    }\n",
              "\n",
              "    .dataframe thead th {\n",
              "        text-align: right;\n",
              "    }\n",
              "</style>\n",
              "<table border=\"1\" class=\"dataframe\">\n",
              "  <thead>\n",
              "    <tr style=\"text-align: right;\">\n",
              "      <th></th>\n",
              "      <th>count</th>\n",
              "      <th>mean</th>\n",
              "      <th>std</th>\n",
              "      <th>min</th>\n",
              "      <th>25%</th>\n",
              "      <th>50%</th>\n",
              "      <th>75%</th>\n",
              "      <th>max</th>\n",
              "    </tr>\n",
              "  </thead>\n",
              "  <tbody>\n",
              "    <tr>\n",
              "      <th>pred10_rf_best_rule_60</th>\n",
              "      <td>1.0</td>\n",
              "      <td>3.0</td>\n",
              "      <td>NaN</td>\n",
              "      <td>3.0</td>\n",
              "      <td>3.0</td>\n",
              "      <td>3.0</td>\n",
              "      <td>3.0</td>\n",
              "      <td>3.0</td>\n",
              "    </tr>\n",
              "  </tbody>\n",
              "</table>\n",
              "</div>"
            ],
            "text/plain": [
              "                        count  mean  std  min  25%  50%  75%  max\n",
              "pred10_rf_best_rule_60    1.0   3.0  NaN  3.0  3.0  3.0  3.0  3.0"
            ]
          },
          "execution_count": 114,
          "metadata": {},
          "output_type": "execute_result"
        }
      ],
      "source": [
        "# 75% cases we have not more than 6 bets of $100\n",
        "pred10_daily_positive_count.describe().T"
      ]
    },
    {
      "cell_type": "code",
      "execution_count": 115,
      "metadata": {
        "colab": {
          "base_uri": "https://localhost:8080/",
          "height": 469
        },
        "id": "QHhGAzWVwY1g",
        "outputId": "04b88297-d429-4ff1-87b6-f97b0636c96a"
      },
      "outputs": [
        {
          "data": {
            "text/plain": [
              "array([[<Axes: title={'center': 'pred9_rf_best_rule_55'}>]], dtype=object)"
            ]
          },
          "execution_count": 115,
          "metadata": {},
          "output_type": "execute_result"
        },
        {
          "data": {
            "image/png": "[encoded data removed]",
            "text/plain": [
              "<Figure size 640x480 with 1 Axes>"
            ]
          },
          "metadata": {},
          "output_type": "display_data"
        }
      ],
      "source": [
        "pred9_daily_positive_count.hist()"
      ]
    },
    {
      "cell_type": "code",
      "execution_count": 116,
      "metadata": {
        "colab": {
          "base_uri": "https://localhost:8080/",
          "height": 80
        },
        "id": "FPetBORKwag2",
        "outputId": "66ac3823-4a21-428c-a574-6f8b65a1cdd3"
      },
      "outputs": [
        {
          "data": {
            "text/html": [
              "<div>\n",
              "<style scoped>\n",
              "    .dataframe tbody tr th:only-of-type {\n",
              "        vertical-align: middle;\n",
              "    }\n",
              "\n",
              "    .dataframe tbody tr th {\n",
              "        vertical-align: top;\n",
              "    }\n",
              "\n",
              "    .dataframe thead th {\n",
              "        text-align: right;\n",
              "    }\n",
              "</style>\n",
              "<table border=\"1\" class=\"dataframe\">\n",
              "  <thead>\n",
              "    <tr style=\"text-align: right;\">\n",
              "      <th></th>\n",
              "      <th>count</th>\n",
              "      <th>mean</th>\n",
              "      <th>std</th>\n",
              "      <th>min</th>\n",
              "      <th>25%</th>\n",
              "      <th>50%</th>\n",
              "      <th>75%</th>\n",
              "      <th>max</th>\n",
              "    </tr>\n",
              "  </thead>\n",
              "  <tbody>\n",
              "    <tr>\n",
              "      <th>pred9_rf_best_rule_55</th>\n",
              "      <td>8.0</td>\n",
              "      <td>1.5</td>\n",
              "      <td>1.069045</td>\n",
              "      <td>1.0</td>\n",
              "      <td>1.0</td>\n",
              "      <td>1.0</td>\n",
              "      <td>1.25</td>\n",
              "      <td>4.0</td>\n",
              "    </tr>\n",
              "  </tbody>\n",
              "</table>\n",
              "</div>"
            ],
            "text/plain": [
              "                       count  mean       std  min  25%  50%   75%  max\n",
              "pred9_rf_best_rule_55    8.0   1.5  1.069045  1.0  1.0  1.0  1.25  4.0"
            ]
          },
          "execution_count": 116,
          "metadata": {},
          "output_type": "execute_result"
        }
      ],
      "source": [
        "pred9_daily_positive_count.describe().T"
      ]
    },
    {
      "cell_type": "markdown",
      "metadata": {
        "id": "TnGtBxbywdYi"
      },
      "source": [
        "## 2.3) Agg. stats on ALL predictions"
      ]
    },
    {
      "cell_type": "code",
      "execution_count": 117,
      "metadata": {
        "colab": {
          "base_uri": "https://localhost:8080/"
        },
        "id": "YDToGIp9wfcI",
        "outputId": "dd4bd007-e998-4441-9e9e-8a19d4e23ab5"
      },
      "outputs": [
        {
          "name": "stdout",
          "output_type": "stream",
          "text": [
            "Prediction columns founded: ['pred0_manual_cci', 'pred1_manual_prev_g1', 'pred2_manual_prev_g1_and_snp', 'pred3_manual_gdp_and_fastd', 'pred4_manual_gdp_and_wti30d', 'pred5_clf_10', 'pred6_clf_best', 'pred7_clf_best_rule_66', 'pred8_clf_best_rule_78', 'pred9_rf_best_rule_55', 'pred10_rf_best_rule_60']\n",
            "Created columns is_correct: ['is_correct_pred0', 'is_correct_pred1', 'is_correct_pred2', 'is_correct_pred3', 'is_correct_pred4', 'is_correct_pred5', 'is_correct_pred6', 'is_correct_pred7', 'is_correct_pred8', 'is_correct_pred9', 'is_correct_pred10']\n",
            "Precision on TEST set for each prediction:\n",
            "Prediction column:pred0_manual_cci , is_correct_column: is_correct_pred0\n",
            "is_correct_pred0\n",
            "0    565\n",
            "1    234\n",
            "Name: count, dtype: int64\n",
            "is_correct_pred0\n",
            "0    0.707134\n",
            "1    0.292866\n",
            "Name: count, dtype: float64\n",
            "---------\n",
            "Prediction column:pred1_manual_prev_g1 , is_correct_column: is_correct_pred1\n",
            "is_correct_pred1\n",
            "0    10751\n",
            "1     4850\n",
            "Name: count, dtype: int64\n",
            "is_correct_pred1\n",
            "0    0.689122\n",
            "1    0.310878\n",
            "Name: count, dtype: float64\n",
            "---------\n",
            "Prediction column:pred2_manual_prev_g1_and_snp , is_correct_column: is_correct_pred2\n",
            "is_correct_pred2\n",
            "0    7248\n",
            "1    3207\n",
            "Name: count, dtype: int64\n",
            "is_correct_pred2\n",
            "0    0.693257\n",
            "1    0.306743\n",
            "Name: count, dtype: float64\n",
            "---------\n",
            "Prediction column:pred3_manual_gdp_and_fastd , is_correct_column: is_correct_pred3\n",
            "is_correct_pred3\n",
            "0    20343\n",
            "1     9479\n",
            "Name: count, dtype: int64\n",
            "is_correct_pred3\n",
            "0    0.682147\n",
            "1    0.317853\n",
            "Name: count, dtype: float64\n",
            "---------\n",
            "Prediction column:pred4_manual_gdp_and_wti30d , is_correct_column: is_correct_pred4\n",
            "Series([], Name: count, dtype: int64)\n",
            "Series([], Name: count, dtype: float64)\n",
            "---------\n",
            "Prediction column:pred5_clf_10 , is_correct_column: is_correct_pred5\n",
            "is_correct_pred5\n",
            "0    2136\n",
            "1    1090\n",
            "Name: count, dtype: int64\n",
            "is_correct_pred5\n",
            "0    0.66212\n",
            "1    0.33788\n",
            "Name: count, dtype: float64\n",
            "---------\n",
            "Prediction column:pred6_clf_best , is_correct_column: is_correct_pred6\n",
            "is_correct_pred6\n",
            "0    4150\n",
            "1    2079\n",
            "Name: count, dtype: int64\n",
            "is_correct_pred6\n",
            "0    0.666239\n",
            "1    0.333761\n",
            "Name: count, dtype: float64\n",
            "---------\n",
            "Prediction column:pred7_clf_best_rule_66 , is_correct_column: is_correct_pred7\n",
            "is_correct_pred7\n",
            "0    3401\n",
            "1    1701\n",
            "Name: count, dtype: int64\n",
            "is_correct_pred7\n",
            "0    0.666601\n",
            "1    0.333399\n",
            "Name: count, dtype: float64\n",
            "---------\n",
            "Prediction column:pred8_clf_best_rule_78 , is_correct_column: is_correct_pred8\n",
            "is_correct_pred8\n",
            "0    2934\n",
            "1    1320\n",
            "Name: count, dtype: int64\n",
            "is_correct_pred8\n",
            "0    0.689704\n",
            "1    0.310296\n",
            "Name: count, dtype: float64\n",
            "---------\n",
            "Prediction column:pred9_rf_best_rule_55 , is_correct_column: is_correct_pred9\n",
            "is_correct_pred9\n",
            "1    8\n",
            "0    4\n",
            "Name: count, dtype: int64\n",
            "is_correct_pred9\n",
            "1    0.666667\n",
            "0    0.333333\n",
            "Name: count, dtype: float64\n",
            "---------\n",
            "Prediction column:pred10_rf_best_rule_60 , is_correct_column: is_correct_pred10\n",
            "is_correct_pred10\n",
            "0    2\n",
            "1    1\n",
            "Name: count, dtype: int64\n",
            "is_correct_pred10\n",
            "0    0.666667\n",
            "1    0.333333\n",
            "Name: count, dtype: float64\n",
            "---------\n"
          ]
        }
      ],
      "source": [
        "# let's review the Predictions:\n",
        "PREDICTIONS, IS_CORRECT = get_predictions_correctness(new_df, to_predict=to_predict)\n"
      ]
    },
    {
      "cell_type": "code",
      "execution_count": 118,
      "metadata": {
        "colab": {
          "base_uri": "https://localhost:8080/"
        },
        "id": "LRGWY8M6wmHG",
        "outputId": "1898a19d-028a-407d-e96c-a85013c77d00"
      },
      "outputs": [
        {
          "name": "stdout",
          "output_type": "stream",
          "text": [
            "10\n",
            "10\n"
          ]
        }
      ],
      "source": [
        "# Extract number from the prediction column\n",
        "\n",
        "# Example string\n",
        "example_string = \"pred10_rf_best_rule_60\"\n",
        "\n",
        "# Split the string by '_'\n",
        "parts = example_string.split('_')\n",
        "\n",
        "# Extract the part with 'pred' and remove the 'pred' prefix\n",
        "pred_number = parts[0].replace('pred', '')\n",
        "\n",
        "# Print the result\n",
        "print(pred_number)\n",
        "\n",
        "# Print in one line\n",
        "print(int(example_string.split('_')[0].replace('pred', '')))\n"
      ]
    },
    {
      "cell_type": "code",
      "execution_count": 119,
      "metadata": {
        "colab": {
          "base_uri": "https://localhost:8080/"
        },
        "id": "dmEs3BPOwr9U",
        "outputId": "92da1bf5-05fb-49e8-d814-5ff6ee074091"
      },
      "outputs": [
        {
          "data": {
            "text/plain": [
              "['pred0_manual_cci',\n",
              " 'pred1_manual_prev_g1',\n",
              " 'pred2_manual_prev_g1_and_snp',\n",
              " 'pred3_manual_gdp_and_fastd',\n",
              " 'pred4_manual_gdp_and_wti30d',\n",
              " 'pred5_clf_10',\n",
              " 'pred6_clf_best',\n",
              " 'pred7_clf_best_rule_66',\n",
              " 'pred8_clf_best_rule_78',\n",
              " 'pred9_rf_best_rule_55',\n",
              " 'pred10_rf_best_rule_60']"
            ]
          },
          "execution_count": 119,
          "metadata": {},
          "output_type": "execute_result"
        }
      ],
      "source": [
        "# all predictions\n",
        "PREDICTIONS"
      ]
    },
    {
      "cell_type": "code",
      "execution_count": 120,
      "metadata": {
        "colab": {
          "base_uri": "https://localhost:8080/"
        },
        "id": "5i_COKBdwtG1",
        "outputId": "5b259564-e3a6-40ba-ee35-4fddf1e8c1ab"
      },
      "outputs": [
        {
          "data": {
            "text/plain": [
              "['pred5_clf_10',\n",
              " 'pred6_clf_best',\n",
              " 'pred7_clf_best_rule_66',\n",
              " 'pred8_clf_best_rule_78',\n",
              " 'pred9_rf_best_rule_55',\n",
              " 'pred10_rf_best_rule_60']"
            ]
          },
          "execution_count": 120,
          "metadata": {},
          "output_type": "execute_result"
        }
      ],
      "source": [
        "# all predictions on MODELS (not-manual predictions)\n",
        "PREDICTIONS_ON_MODELS = [p for p in PREDICTIONS if int(p.split('_')[0].replace('pred', ''))>=5]\n",
        "PREDICTIONS_ON_MODELS"
      ]
    },
    {
      "cell_type": "code",
      "execution_count": 121,
      "metadata": {
        "colab": {
          "base_uri": "https://localhost:8080/"
        },
        "id": "Tlh5ID5wwuWF",
        "outputId": "6d978978-5113-443a-ee89-6ba71d5b10ca"
      },
      "outputs": [
        {
          "data": {
            "text/plain": [
              "['is_correct_pred5',\n",
              " 'is_correct_pred6',\n",
              " 'is_correct_pred7',\n",
              " 'is_correct_pred8',\n",
              " 'is_correct_pred9',\n",
              " 'is_correct_pred10']"
            ]
          },
          "execution_count": 121,
          "metadata": {},
          "output_type": "execute_result"
        }
      ],
      "source": [
        "# all predictions on Models - correctness\n",
        "IS_CORRECT_ON_MODELS = [p for p in IS_CORRECT if int(p.replace('is_correct_pred', ''))>=5]\n",
        "IS_CORRECT_ON_MODELS"
      ]
    },
    {
      "cell_type": "code",
      "execution_count": 122,
      "metadata": {
        "colab": {
          "base_uri": "https://localhost:8080/",
          "height": 607
        },
        "id": "zWBef7FWwvTz",
        "outputId": "e48b49b0-399c-42f3-b949-7bf11e69d06c"
      },
      "outputs": [
        {
          "data": {
            "text/html": [
              "<div>\n",
              "<style scoped>\n",
              "    .dataframe tbody tr th:only-of-type {\n",
              "        vertical-align: middle;\n",
              "    }\n",
              "\n",
              "    .dataframe tbody tr th {\n",
              "        vertical-align: top;\n",
              "    }\n",
              "\n",
              "    .dataframe thead th {\n",
              "        text-align: right;\n",
              "    }\n",
              "</style>\n",
              "<table border=\"1\" class=\"dataframe\">\n",
              "  <thead>\n",
              "    <tr style=\"text-align: right;\">\n",
              "      <th></th>\n",
              "      <th>split</th>\n",
              "      <th>test</th>\n",
              "      <th>train</th>\n",
              "      <th>validation</th>\n",
              "    </tr>\n",
              "  </thead>\n",
              "  <tbody>\n",
              "    <tr>\n",
              "      <th rowspan=\"3\" valign=\"top\">pred5_clf_10</th>\n",
              "      <th>count</th>\n",
              "      <td>29829.000000</td>\n",
              "      <td>123458.000000</td>\n",
              "      <td>29388.000000</td>\n",
              "    </tr>\n",
              "    <tr>\n",
              "      <th>sum</th>\n",
              "      <td>3226.000000</td>\n",
              "      <td>11544.000000</td>\n",
              "      <td>1685.000000</td>\n",
              "    </tr>\n",
              "    <tr>\n",
              "      <th>mean</th>\n",
              "      <td>0.108150</td>\n",
              "      <td>0.093505</td>\n",
              "      <td>0.057336</td>\n",
              "    </tr>\n",
              "    <tr>\n",
              "      <th rowspan=\"3\" valign=\"top\">pred6_clf_best</th>\n",
              "      <th>count</th>\n",
              "      <td>29829.000000</td>\n",
              "      <td>123458.000000</td>\n",
              "      <td>29388.000000</td>\n",
              "    </tr>\n",
              "    <tr>\n",
              "      <th>sum</th>\n",
              "      <td>6229.000000</td>\n",
              "      <td>23086.000000</td>\n",
              "      <td>4072.000000</td>\n",
              "    </tr>\n",
              "    <tr>\n",
              "      <th>mean</th>\n",
              "      <td>0.208824</td>\n",
              "      <td>0.186995</td>\n",
              "      <td>0.138560</td>\n",
              "    </tr>\n",
              "    <tr>\n",
              "      <th rowspan=\"3\" valign=\"top\">pred7_clf_best_rule_66</th>\n",
              "      <th>count</th>\n",
              "      <td>29829.000000</td>\n",
              "      <td>123458.000000</td>\n",
              "      <td>29388.000000</td>\n",
              "    </tr>\n",
              "    <tr>\n",
              "      <th>sum</th>\n",
              "      <td>5102.000000</td>\n",
              "      <td>18762.000000</td>\n",
              "      <td>3337.000000</td>\n",
              "    </tr>\n",
              "    <tr>\n",
              "      <th>mean</th>\n",
              "      <td>0.171042</td>\n",
              "      <td>0.151971</td>\n",
              "      <td>0.113550</td>\n",
              "    </tr>\n",
              "    <tr>\n",
              "      <th rowspan=\"3\" valign=\"top\">pred8_clf_best_rule_78</th>\n",
              "      <th>count</th>\n",
              "      <td>29829.000000</td>\n",
              "      <td>123458.000000</td>\n",
              "      <td>29388.000000</td>\n",
              "    </tr>\n",
              "    <tr>\n",
              "      <th>sum</th>\n",
              "      <td>4254.000000</td>\n",
              "      <td>14825.000000</td>\n",
              "      <td>2913.000000</td>\n",
              "    </tr>\n",
              "    <tr>\n",
              "      <th>mean</th>\n",
              "      <td>0.142613</td>\n",
              "      <td>0.120081</td>\n",
              "      <td>0.099122</td>\n",
              "    </tr>\n",
              "    <tr>\n",
              "      <th rowspan=\"3\" valign=\"top\">pred9_rf_best_rule_55</th>\n",
              "      <th>count</th>\n",
              "      <td>29829.000000</td>\n",
              "      <td>123458.000000</td>\n",
              "      <td>29388.000000</td>\n",
              "    </tr>\n",
              "    <tr>\n",
              "      <th>sum</th>\n",
              "      <td>12.000000</td>\n",
              "      <td>16719.000000</td>\n",
              "      <td>2673.000000</td>\n",
              "    </tr>\n",
              "    <tr>\n",
              "      <th>mean</th>\n",
              "      <td>0.000402</td>\n",
              "      <td>0.135423</td>\n",
              "      <td>0.090955</td>\n",
              "    </tr>\n",
              "    <tr>\n",
              "      <th rowspan=\"3\" valign=\"top\">pred10_rf_best_rule_60</th>\n",
              "      <th>count</th>\n",
              "      <td>29829.000000</td>\n",
              "      <td>123458.000000</td>\n",
              "      <td>29388.000000</td>\n",
              "    </tr>\n",
              "    <tr>\n",
              "      <th>sum</th>\n",
              "      <td>3.000000</td>\n",
              "      <td>11985.000000</td>\n",
              "      <td>1896.000000</td>\n",
              "    </tr>\n",
              "    <tr>\n",
              "      <th>mean</th>\n",
              "      <td>0.000101</td>\n",
              "      <td>0.097078</td>\n",
              "      <td>0.064516</td>\n",
              "    </tr>\n",
              "  </tbody>\n",
              "</table>\n",
              "</div>"
            ],
            "text/plain": [
              "split                                 test          train    validation\n",
              "pred5_clf_10           count  29829.000000  123458.000000  29388.000000\n",
              "                       sum     3226.000000   11544.000000   1685.000000\n",
              "                       mean       0.108150       0.093505      0.057336\n",
              "pred6_clf_best         count  29829.000000  123458.000000  29388.000000\n",
              "                       sum     6229.000000   23086.000000   4072.000000\n",
              "                       mean       0.208824       0.186995      0.138560\n",
              "pred7_clf_best_rule_66 count  29829.000000  123458.000000  29388.000000\n",
              "                       sum     5102.000000   18762.000000   3337.000000\n",
              "                       mean       0.171042       0.151971      0.113550\n",
              "pred8_clf_best_rule_78 count  29829.000000  123458.000000  29388.000000\n",
              "                       sum     4254.000000   14825.000000   2913.000000\n",
              "                       mean       0.142613       0.120081      0.099122\n",
              "pred9_rf_best_rule_55  count  29829.000000  123458.000000  29388.000000\n",
              "                       sum       12.000000   16719.000000   2673.000000\n",
              "                       mean       0.000402       0.135423      0.090955\n",
              "pred10_rf_best_rule_60 count  29829.000000  123458.000000  29388.000000\n",
              "                       sum        3.000000   11985.000000   1896.000000\n",
              "                       mean       0.000101       0.097078      0.064516"
            ]
          },
          "execution_count": 122,
          "metadata": {},
          "output_type": "execute_result"
        }
      ],
      "source": [
        "# predictions on models\n",
        "# pred10_rf_best_rule_60: ONLY 2% of TEST cases predicted with high confidence of growth\n",
        "new_df.groupby('split')[PREDICTIONS_ON_MODELS].agg(['count','sum','mean']).T"
      ]
    },
    {
      "cell_type": "code",
      "execution_count": 123,
      "metadata": {
        "colab": {
          "base_uri": "https://localhost:8080/",
          "height": 1000
        },
        "id": "UcMRarZNwwoc",
        "outputId": "93151e65-41c2-4f44-bf7d-66753688f509"
      },
      "outputs": [
        {
          "data": {
            "text/html": [
              "<div>\n",
              "<style scoped>\n",
              "    .dataframe tbody tr th:only-of-type {\n",
              "        vertical-align: middle;\n",
              "    }\n",
              "\n",
              "    .dataframe tbody tr th {\n",
              "        vertical-align: top;\n",
              "    }\n",
              "\n",
              "    .dataframe thead th {\n",
              "        text-align: right;\n",
              "    }\n",
              "</style>\n",
              "<table border=\"1\" class=\"dataframe\">\n",
              "  <thead>\n",
              "    <tr style=\"text-align: right;\">\n",
              "      <th></th>\n",
              "      <th>split</th>\n",
              "      <th>test</th>\n",
              "      <th>train</th>\n",
              "      <th>validation</th>\n",
              "    </tr>\n",
              "  </thead>\n",
              "  <tbody>\n",
              "    <tr>\n",
              "      <th rowspan=\"3\" valign=\"top\">pred0_manual_cci</th>\n",
              "      <th>count</th>\n",
              "      <td>29829.000000</td>\n",
              "      <td>123458.000000</td>\n",
              "      <td>29388.000000</td>\n",
              "    </tr>\n",
              "    <tr>\n",
              "      <th>sum</th>\n",
              "      <td>799.000000</td>\n",
              "      <td>3162.000000</td>\n",
              "      <td>875.000000</td>\n",
              "    </tr>\n",
              "    <tr>\n",
              "      <th>mean</th>\n",
              "      <td>0.026786</td>\n",
              "      <td>0.025612</td>\n",
              "      <td>0.029774</td>\n",
              "    </tr>\n",
              "    <tr>\n",
              "      <th rowspan=\"3\" valign=\"top\">pred1_manual_prev_g1</th>\n",
              "      <th>count</th>\n",
              "      <td>29829.000000</td>\n",
              "      <td>123458.000000</td>\n",
              "      <td>29388.000000</td>\n",
              "    </tr>\n",
              "    <tr>\n",
              "      <th>sum</th>\n",
              "      <td>15601.000000</td>\n",
              "      <td>62117.000000</td>\n",
              "      <td>15585.000000</td>\n",
              "    </tr>\n",
              "    <tr>\n",
              "      <th>mean</th>\n",
              "      <td>0.523015</td>\n",
              "      <td>0.503143</td>\n",
              "      <td>0.530318</td>\n",
              "    </tr>\n",
              "    <tr>\n",
              "      <th rowspan=\"3\" valign=\"top\">pred2_manual_prev_g1_and_snp</th>\n",
              "      <th>count</th>\n",
              "      <td>29829.000000</td>\n",
              "      <td>123458.000000</td>\n",
              "      <td>29388.000000</td>\n",
              "    </tr>\n",
              "    <tr>\n",
              "      <th>sum</th>\n",
              "      <td>10455.000000</td>\n",
              "      <td>41609.000000</td>\n",
              "      <td>10902.000000</td>\n",
              "    </tr>\n",
              "    <tr>\n",
              "      <th>mean</th>\n",
              "      <td>0.350498</td>\n",
              "      <td>0.337030</td>\n",
              "      <td>0.370968</td>\n",
              "    </tr>\n",
              "    <tr>\n",
              "      <th rowspan=\"3\" valign=\"top\">pred3_manual_gdp_and_fastd</th>\n",
              "      <th>count</th>\n",
              "      <td>29829.000000</td>\n",
              "      <td>123458.000000</td>\n",
              "      <td>29388.000000</td>\n",
              "    </tr>\n",
              "    <tr>\n",
              "      <th>sum</th>\n",
              "      <td>29822.000000</td>\n",
              "      <td>107032.000000</td>\n",
              "      <td>29388.000000</td>\n",
              "    </tr>\n",
              "    <tr>\n",
              "      <th>mean</th>\n",
              "      <td>0.999765</td>\n",
              "      <td>0.866951</td>\n",
              "      <td>1.000000</td>\n",
              "    </tr>\n",
              "    <tr>\n",
              "      <th rowspan=\"3\" valign=\"top\">pred4_manual_gdp_and_wti30d</th>\n",
              "      <th>count</th>\n",
              "      <td>29829.000000</td>\n",
              "      <td>123458.000000</td>\n",
              "      <td>29388.000000</td>\n",
              "    </tr>\n",
              "    <tr>\n",
              "      <th>sum</th>\n",
              "      <td>0.000000</td>\n",
              "      <td>5673.000000</td>\n",
              "      <td>0.000000</td>\n",
              "    </tr>\n",
              "    <tr>\n",
              "      <th>mean</th>\n",
              "      <td>0.000000</td>\n",
              "      <td>0.045951</td>\n",
              "      <td>0.000000</td>\n",
              "    </tr>\n",
              "    <tr>\n",
              "      <th rowspan=\"3\" valign=\"top\">pred5_clf_10</th>\n",
              "      <th>count</th>\n",
              "      <td>29829.000000</td>\n",
              "      <td>123458.000000</td>\n",
              "      <td>29388.000000</td>\n",
              "    </tr>\n",
              "    <tr>\n",
              "      <th>sum</th>\n",
              "      <td>3226.000000</td>\n",
              "      <td>11544.000000</td>\n",
              "      <td>1685.000000</td>\n",
              "    </tr>\n",
              "    <tr>\n",
              "      <th>mean</th>\n",
              "      <td>0.108150</td>\n",
              "      <td>0.093505</td>\n",
              "      <td>0.057336</td>\n",
              "    </tr>\n",
              "    <tr>\n",
              "      <th rowspan=\"3\" valign=\"top\">pred6_clf_best</th>\n",
              "      <th>count</th>\n",
              "      <td>29829.000000</td>\n",
              "      <td>123458.000000</td>\n",
              "      <td>29388.000000</td>\n",
              "    </tr>\n",
              "    <tr>\n",
              "      <th>sum</th>\n",
              "      <td>6229.000000</td>\n",
              "      <td>23086.000000</td>\n",
              "      <td>4072.000000</td>\n",
              "    </tr>\n",
              "    <tr>\n",
              "      <th>mean</th>\n",
              "      <td>0.208824</td>\n",
              "      <td>0.186995</td>\n",
              "      <td>0.138560</td>\n",
              "    </tr>\n",
              "    <tr>\n",
              "      <th rowspan=\"3\" valign=\"top\">pred7_clf_best_rule_66</th>\n",
              "      <th>count</th>\n",
              "      <td>29829.000000</td>\n",
              "      <td>123458.000000</td>\n",
              "      <td>29388.000000</td>\n",
              "    </tr>\n",
              "    <tr>\n",
              "      <th>sum</th>\n",
              "      <td>5102.000000</td>\n",
              "      <td>18762.000000</td>\n",
              "      <td>3337.000000</td>\n",
              "    </tr>\n",
              "    <tr>\n",
              "      <th>mean</th>\n",
              "      <td>0.171042</td>\n",
              "      <td>0.151971</td>\n",
              "      <td>0.113550</td>\n",
              "    </tr>\n",
              "    <tr>\n",
              "      <th rowspan=\"3\" valign=\"top\">pred8_clf_best_rule_78</th>\n",
              "      <th>count</th>\n",
              "      <td>29829.000000</td>\n",
              "      <td>123458.000000</td>\n",
              "      <td>29388.000000</td>\n",
              "    </tr>\n",
              "    <tr>\n",
              "      <th>sum</th>\n",
              "      <td>4254.000000</td>\n",
              "      <td>14825.000000</td>\n",
              "      <td>2913.000000</td>\n",
              "    </tr>\n",
              "    <tr>\n",
              "      <th>mean</th>\n",
              "      <td>0.142613</td>\n",
              "      <td>0.120081</td>\n",
              "      <td>0.099122</td>\n",
              "    </tr>\n",
              "    <tr>\n",
              "      <th rowspan=\"3\" valign=\"top\">pred9_rf_best_rule_55</th>\n",
              "      <th>count</th>\n",
              "      <td>29829.000000</td>\n",
              "      <td>123458.000000</td>\n",
              "      <td>29388.000000</td>\n",
              "    </tr>\n",
              "    <tr>\n",
              "      <th>sum</th>\n",
              "      <td>12.000000</td>\n",
              "      <td>16719.000000</td>\n",
              "      <td>2673.000000</td>\n",
              "    </tr>\n",
              "    <tr>\n",
              "      <th>mean</th>\n",
              "      <td>0.000402</td>\n",
              "      <td>0.135423</td>\n",
              "      <td>0.090955</td>\n",
              "    </tr>\n",
              "    <tr>\n",
              "      <th rowspan=\"3\" valign=\"top\">pred10_rf_best_rule_60</th>\n",
              "      <th>count</th>\n",
              "      <td>29829.000000</td>\n",
              "      <td>123458.000000</td>\n",
              "      <td>29388.000000</td>\n",
              "    </tr>\n",
              "    <tr>\n",
              "      <th>sum</th>\n",
              "      <td>3.000000</td>\n",
              "      <td>11985.000000</td>\n",
              "      <td>1896.000000</td>\n",
              "    </tr>\n",
              "    <tr>\n",
              "      <th>mean</th>\n",
              "      <td>0.000101</td>\n",
              "      <td>0.097078</td>\n",
              "      <td>0.064516</td>\n",
              "    </tr>\n",
              "  </tbody>\n",
              "</table>\n",
              "</div>"
            ],
            "text/plain": [
              "split                                       test          train    validation\n",
              "pred0_manual_cci             count  29829.000000  123458.000000  29388.000000\n",
              "                             sum      799.000000    3162.000000    875.000000\n",
              "                             mean       0.026786       0.025612      0.029774\n",
              "pred1_manual_prev_g1         count  29829.000000  123458.000000  29388.000000\n",
              "                             sum    15601.000000   62117.000000  15585.000000\n",
              "                             mean       0.523015       0.503143      0.530318\n",
              "pred2_manual_prev_g1_and_snp count  29829.000000  123458.000000  29388.000000\n",
              "                             sum    10455.000000   41609.000000  10902.000000\n",
              "                             mean       0.350498       0.337030      0.370968\n",
              "pred3_manual_gdp_and_fastd   count  29829.000000  123458.000000  29388.000000\n",
              "                             sum    29822.000000  107032.000000  29388.000000\n",
              "                             mean       0.999765       0.866951      1.000000\n",
              "pred4_manual_gdp_and_wti30d  count  29829.000000  123458.000000  29388.000000\n",
              "                             sum        0.000000    5673.000000      0.000000\n",
              "                             mean       0.000000       0.045951      0.000000\n",
              "pred5_clf_10                 count  29829.000000  123458.000000  29388.000000\n",
              "                             sum     3226.000000   11544.000000   1685.000000\n",
              "                             mean       0.108150       0.093505      0.057336\n",
              "pred6_clf_best               count  29829.000000  123458.000000  29388.000000\n",
              "                             sum     6229.000000   23086.000000   4072.000000\n",
              "                             mean       0.208824       0.186995      0.138560\n",
              "pred7_clf_best_rule_66       count  29829.000000  123458.000000  29388.000000\n",
              "                             sum     5102.000000   18762.000000   3337.000000\n",
              "                             mean       0.171042       0.151971      0.113550\n",
              "pred8_clf_best_rule_78       count  29829.000000  123458.000000  29388.000000\n",
              "                             sum     4254.000000   14825.000000   2913.000000\n",
              "                             mean       0.142613       0.120081      0.099122\n",
              "pred9_rf_best_rule_55        count  29829.000000  123458.000000  29388.000000\n",
              "                             sum       12.000000   16719.000000   2673.000000\n",
              "                             mean       0.000402       0.135423      0.090955\n",
              "pred10_rf_best_rule_60       count  29829.000000  123458.000000  29388.000000\n",
              "                             sum        3.000000   11985.000000   1896.000000\n",
              "                             mean       0.000101       0.097078      0.064516"
            ]
          },
          "execution_count": 123,
          "metadata": {},
          "output_type": "execute_result"
        }
      ],
      "source": [
        "# 10 predictions stats (check TEST set)\n",
        "new_df.groupby('split')[PREDICTIONS].agg(['count','sum','mean']).T"
      ]
    },
    {
      "cell_type": "markdown",
      "metadata": {
        "id": "bgdAGlbaw0GH"
      },
      "source": [
        "# 3) Trading Simulations\n",
        "\n",
        "* create simulation 1 features: like \"sim1_pred0\" ... \"sim1_predLast\""
      ]
    },
    {
      "cell_type": "markdown",
      "metadata": {
        "id": "fcxkRiorDdDa"
      },
      "source": [
        "## 3.1) Investing $100 on every positive prediction\n",
        "* fees = 0.1% for each buy and sell operation ==> 0.2% for buy+sell operation"
      ]
    },
    {
      "cell_type": "code",
      "execution_count": 124,
      "metadata": {
        "id": "CgH1paM8DjgB"
      },
      "outputs": [],
      "source": [
        "# current prediction\n",
        "pred = 'pred6_clf_best'"
      ]
    },
    {
      "cell_type": "code",
      "execution_count": 125,
      "metadata": {
        "colab": {
          "base_uri": "https://localhost:8080/"
        },
        "id": "OyqKoZ6CDkkr",
        "outputId": "1034c9be-cb84-4be5-871b-a903ed9c39dc"
      },
      "outputs": [
        {
          "data": {
            "text/plain": [
              "29829"
            ]
          },
          "execution_count": 125,
          "metadata": {},
          "output_type": "execute_result"
        }
      ],
      "source": [
        "# Total Number of Investment Opportunities\n",
        "new_df[new_df.split=='test'].Close.count()"
      ]
    },
    {
      "cell_type": "code",
      "execution_count": 126,
      "metadata": {
        "colab": {
          "base_uri": "https://localhost:8080/"
        },
        "id": "0Yatp1u8DmVS",
        "outputId": "410d9783-a66c-4866-9a8a-e77993b7c313"
      },
      "outputs": [
        {
          "data": {
            "text/plain": [
              "947"
            ]
          },
          "execution_count": 126,
          "metadata": {},
          "output_type": "execute_result"
        }
      ],
      "source": [
        "# Total Number of Days (~4 years of trading)\n",
        "new_df[new_df.split=='test'].Date.nunique()"
      ]
    },
    {
      "cell_type": "code",
      "execution_count": 127,
      "metadata": {
        "colab": {
          "base_uri": "https://localhost:8080/"
        },
        "id": "IESBIJT6Dnu-",
        "outputId": "07fbcb95-3112-4ec7-a854-f99f32364809"
      },
      "outputs": [
        {
          "data": {
            "text/plain": [
              "['growth_future_5d',\n",
              " 'is_positive_growth_5d_future',\n",
              " 'is_strong_positive_growth_5d_future']"
            ]
          },
          "execution_count": 127,
          "metadata": {},
          "output_type": "execute_result"
        }
      ],
      "source": [
        "# check actual future growth with 'growth_future_5d', correctness of the prediction with 'is_positive_growth_5d_future'\n",
        "TO_PREDICT"
      ]
    },
    {
      "cell_type": "code",
      "execution_count": 128,
      "metadata": {
        "colab": {
          "base_uri": "https://localhost:8080/",
          "height": 419
        },
        "id": "cSXm1PmhDpVa",
        "outputId": "2bf253f0-6c74-447b-868f-9adb8cfee2e9"
      },
      "outputs": [
        {
          "data": {
            "text/html": [
              "<div>\n",
              "<style scoped>\n",
              "    .dataframe tbody tr th:only-of-type {\n",
              "        vertical-align: middle;\n",
              "    }\n",
              "\n",
              "    .dataframe tbody tr th {\n",
              "        vertical-align: top;\n",
              "    }\n",
              "\n",
              "    .dataframe thead th {\n",
              "        text-align: right;\n",
              "    }\n",
              "</style>\n",
              "<table border=\"1\" class=\"dataframe\">\n",
              "  <thead>\n",
              "    <tr style=\"text-align: right;\">\n",
              "      <th></th>\n",
              "      <th>growth_future_5d</th>\n",
              "      <th>is_strong_positive_growth_5d_future</th>\n",
              "      <th>pred6_clf_best</th>\n",
              "    </tr>\n",
              "  </thead>\n",
              "  <tbody>\n",
              "    <tr>\n",
              "      <th>3490</th>\n",
              "      <td>0.963003</td>\n",
              "      <td>0</td>\n",
              "      <td>0</td>\n",
              "    </tr>\n",
              "    <tr>\n",
              "      <th>3491</th>\n",
              "      <td>0.971143</td>\n",
              "      <td>0</td>\n",
              "      <td>0</td>\n",
              "    </tr>\n",
              "    <tr>\n",
              "      <th>3492</th>\n",
              "      <td>0.929709</td>\n",
              "      <td>0</td>\n",
              "      <td>0</td>\n",
              "    </tr>\n",
              "    <tr>\n",
              "      <th>3493</th>\n",
              "      <td>0.980114</td>\n",
              "      <td>0</td>\n",
              "      <td>0</td>\n",
              "    </tr>\n",
              "    <tr>\n",
              "      <th>3494</th>\n",
              "      <td>1.007291</td>\n",
              "      <td>0</td>\n",
              "      <td>0</td>\n",
              "    </tr>\n",
              "    <tr>\n",
              "      <th>...</th>\n",
              "      <td>...</td>\n",
              "      <td>...</td>\n",
              "      <td>...</td>\n",
              "    </tr>\n",
              "    <tr>\n",
              "      <th>5422</th>\n",
              "      <td>NaN</td>\n",
              "      <td>0</td>\n",
              "      <td>0</td>\n",
              "    </tr>\n",
              "    <tr>\n",
              "      <th>5423</th>\n",
              "      <td>NaN</td>\n",
              "      <td>0</td>\n",
              "      <td>0</td>\n",
              "    </tr>\n",
              "    <tr>\n",
              "      <th>5424</th>\n",
              "      <td>NaN</td>\n",
              "      <td>0</td>\n",
              "      <td>0</td>\n",
              "    </tr>\n",
              "    <tr>\n",
              "      <th>5425</th>\n",
              "      <td>NaN</td>\n",
              "      <td>0</td>\n",
              "      <td>0</td>\n",
              "    </tr>\n",
              "    <tr>\n",
              "      <th>5426</th>\n",
              "      <td>NaN</td>\n",
              "      <td>0</td>\n",
              "      <td>0</td>\n",
              "    </tr>\n",
              "  </tbody>\n",
              "</table>\n",
              "<p>182675 rows × 3 columns</p>\n",
              "</div>"
            ],
            "text/plain": [
              "      growth_future_5d  is_strong_positive_growth_5d_future  pred6_clf_best\n",
              "3490          0.963003                                    0               0\n",
              "3491          0.971143                                    0               0\n",
              "3492          0.929709                                    0               0\n",
              "3493          0.980114                                    0               0\n",
              "3494          1.007291                                    0               0\n",
              "...                ...                                  ...             ...\n",
              "5422               NaN                                    0               0\n",
              "5423               NaN                                    0               0\n",
              "5424               NaN                                    0               0\n",
              "5425               NaN                                    0               0\n",
              "5426               NaN                                    0               0\n",
              "\n",
              "[182675 rows x 3 columns]"
            ]
          },
          "execution_count": 128,
          "metadata": {},
          "output_type": "execute_result"
        }
      ],
      "source": [
        "new_df[['growth_future_5d', to_predict,pred]]"
      ]
    },
    {
      "cell_type": "code",
      "execution_count": 129,
      "metadata": {
        "id": "lPM5eYT8DrHb"
      },
      "outputs": [],
      "source": [
        "# GROSS REVENUE: ONLY when current_prediction equals to 1: invest $100 into that stock (buy), and sell in 1week (sell)\n",
        "new_df['sim1_gross_rev_pred6'] = new_df[pred] * 100 * (new_df['growth_future_5d']-1)"
      ]
    },
    {
      "cell_type": "code",
      "execution_count": 130,
      "metadata": {
        "id": "y1RkuqfJDsYE"
      },
      "outputs": [],
      "source": [
        "# FEES: 0.1% for each operation , 0.2% for buy+sell ONLY when current_prediction equals to one\n",
        "new_df['sim1_fees_pred6'] = -new_df[pred] * 100 * 0.002"
      ]
    },
    {
      "cell_type": "code",
      "execution_count": 131,
      "metadata": {
        "id": "zNYijl95Dtr4"
      },
      "outputs": [],
      "source": [
        "# NET REVENUE: GROSS_REVENUE + FEES\n",
        "new_df['sim1_net_rev_pred6'] = new_df['sim1_gross_rev_pred6'] + new_df['sim1_fees_pred6']"
      ]
    },
    {
      "cell_type": "code",
      "execution_count": 132,
      "metadata": {
        "colab": {
          "base_uri": "https://localhost:8080/",
          "height": 609
        },
        "id": "6Dcueis_Dw5j",
        "outputId": "48c7b72c-512e-4240-8d3a-0ddc82e20dc9"
      },
      "outputs": [
        {
          "data": {
            "text/html": [
              "<div>\n",
              "<style scoped>\n",
              "    .dataframe tbody tr th:only-of-type {\n",
              "        vertical-align: middle;\n",
              "    }\n",
              "\n",
              "    .dataframe tbody tr th {\n",
              "        vertical-align: top;\n",
              "    }\n",
              "\n",
              "    .dataframe thead th {\n",
              "        text-align: right;\n",
              "    }\n",
              "</style>\n",
              "<table border=\"1\" class=\"dataframe\">\n",
              "  <thead>\n",
              "    <tr style=\"text-align: right;\">\n",
              "      <th></th>\n",
              "      <th>Date</th>\n",
              "      <th>Ticker</th>\n",
              "      <th>Close</th>\n",
              "      <th>growth_future_5d</th>\n",
              "      <th>is_positive_growth_5d_future</th>\n",
              "      <th>is_strong_positive_growth_5d_future</th>\n",
              "      <th>pred6_clf_best</th>\n",
              "      <th>sim1_gross_rev_pred6</th>\n",
              "      <th>sim1_fees_pred6</th>\n",
              "      <th>sim1_net_rev_pred6</th>\n",
              "    </tr>\n",
              "  </thead>\n",
              "  <tbody>\n",
              "    <tr>\n",
              "      <th>8704</th>\n",
              "      <td>2020-09-23</td>\n",
              "      <td>MSFT</td>\n",
              "      <td>200.589996</td>\n",
              "      <td>1.048557</td>\n",
              "      <td>1</td>\n",
              "      <td>1</td>\n",
              "      <td>1</td>\n",
              "      <td>4.855687</td>\n",
              "      <td>-0.2</td>\n",
              "      <td>4.655687</td>\n",
              "    </tr>\n",
              "    <tr>\n",
              "      <th>8705</th>\n",
              "      <td>2020-09-24</td>\n",
              "      <td>MSFT</td>\n",
              "      <td>203.190002</td>\n",
              "      <td>1.045623</td>\n",
              "      <td>1</td>\n",
              "      <td>1</td>\n",
              "      <td>1</td>\n",
              "      <td>4.562258</td>\n",
              "      <td>-0.2</td>\n",
              "      <td>4.362258</td>\n",
              "    </tr>\n",
              "    <tr>\n",
              "      <th>8729</th>\n",
              "      <td>2020-10-28</td>\n",
              "      <td>MSFT</td>\n",
              "      <td>202.679993</td>\n",
              "      <td>1.067644</td>\n",
              "      <td>1</td>\n",
              "      <td>1</td>\n",
              "      <td>1</td>\n",
              "      <td>6.764367</td>\n",
              "      <td>-0.2</td>\n",
              "      <td>6.564367</td>\n",
              "    </tr>\n",
              "    <tr>\n",
              "      <th>8730</th>\n",
              "      <td>2020-10-29</td>\n",
              "      <td>MSFT</td>\n",
              "      <td>204.720001</td>\n",
              "      <td>1.090709</td>\n",
              "      <td>1</td>\n",
              "      <td>1</td>\n",
              "      <td>1</td>\n",
              "      <td>9.070912</td>\n",
              "      <td>-0.2</td>\n",
              "      <td>8.870912</td>\n",
              "    </tr>\n",
              "    <tr>\n",
              "      <th>8731</th>\n",
              "      <td>2020-10-30</td>\n",
              "      <td>MSFT</td>\n",
              "      <td>202.470001</td>\n",
              "      <td>1.104954</td>\n",
              "      <td>1</td>\n",
              "      <td>1</td>\n",
              "      <td>1</td>\n",
              "      <td>10.495372</td>\n",
              "      <td>-0.2</td>\n",
              "      <td>10.295372</td>\n",
              "    </tr>\n",
              "    <tr>\n",
              "      <th>...</th>\n",
              "      <td>...</td>\n",
              "      <td>...</td>\n",
              "      <td>...</td>\n",
              "      <td>...</td>\n",
              "      <td>...</td>\n",
              "      <td>...</td>\n",
              "      <td>...</td>\n",
              "      <td>...</td>\n",
              "      <td>...</td>\n",
              "      <td>...</td>\n",
              "    </tr>\n",
              "    <tr>\n",
              "      <th>5378</th>\n",
              "      <td>2024-02-21</td>\n",
              "      <td>LT.NS</td>\n",
              "      <td>3296.399902</td>\n",
              "      <td>1.052724</td>\n",
              "      <td>1</td>\n",
              "      <td>1</td>\n",
              "      <td>1</td>\n",
              "      <td>5.272420</td>\n",
              "      <td>-0.2</td>\n",
              "      <td>5.072420</td>\n",
              "    </tr>\n",
              "    <tr>\n",
              "      <th>5379</th>\n",
              "      <td>2024-02-22</td>\n",
              "      <td>LT.NS</td>\n",
              "      <td>3363.750000</td>\n",
              "      <td>1.033831</td>\n",
              "      <td>1</td>\n",
              "      <td>1</td>\n",
              "      <td>1</td>\n",
              "      <td>3.383130</td>\n",
              "      <td>-0.2</td>\n",
              "      <td>3.183130</td>\n",
              "    </tr>\n",
              "    <tr>\n",
              "      <th>5410</th>\n",
              "      <td>2024-04-10</td>\n",
              "      <td>LT.NS</td>\n",
              "      <td>3753.199951</td>\n",
              "      <td>0.937427</td>\n",
              "      <td>0</td>\n",
              "      <td>0</td>\n",
              "      <td>1</td>\n",
              "      <td>-6.257323</td>\n",
              "      <td>-0.2</td>\n",
              "      <td>-6.457323</td>\n",
              "    </tr>\n",
              "    <tr>\n",
              "      <th>5411</th>\n",
              "      <td>2024-04-12</td>\n",
              "      <td>LT.NS</td>\n",
              "      <td>3679.250000</td>\n",
              "      <td>0.981912</td>\n",
              "      <td>0</td>\n",
              "      <td>0</td>\n",
              "      <td>1</td>\n",
              "      <td>-1.808794</td>\n",
              "      <td>-0.2</td>\n",
              "      <td>-2.008794</td>\n",
              "    </tr>\n",
              "    <tr>\n",
              "      <th>5415</th>\n",
              "      <td>2024-04-19</td>\n",
              "      <td>LT.NS</td>\n",
              "      <td>3518.350098</td>\n",
              "      <td>1.024685</td>\n",
              "      <td>1</td>\n",
              "      <td>1</td>\n",
              "      <td>1</td>\n",
              "      <td>2.468482</td>\n",
              "      <td>-0.2</td>\n",
              "      <td>2.268482</td>\n",
              "    </tr>\n",
              "  </tbody>\n",
              "</table>\n",
              "<p>6229 rows × 10 columns</p>\n",
              "</div>"
            ],
            "text/plain": [
              "           Date Ticker        Close  growth_future_5d  \\\n",
              "8704 2020-09-23   MSFT   200.589996          1.048557   \n",
              "8705 2020-09-24   MSFT   203.190002          1.045623   \n",
              "8729 2020-10-28   MSFT   202.679993          1.067644   \n",
              "8730 2020-10-29   MSFT   204.720001          1.090709   \n",
              "8731 2020-10-30   MSFT   202.470001          1.104954   \n",
              "...         ...    ...          ...               ...   \n",
              "5378 2024-02-21  LT.NS  3296.399902          1.052724   \n",
              "5379 2024-02-22  LT.NS  3363.750000          1.033831   \n",
              "5410 2024-04-10  LT.NS  3753.199951          0.937427   \n",
              "5411 2024-04-12  LT.NS  3679.250000          0.981912   \n",
              "5415 2024-04-19  LT.NS  3518.350098          1.024685   \n",
              "\n",
              "      is_positive_growth_5d_future  is_strong_positive_growth_5d_future  \\\n",
              "8704                             1                                    1   \n",
              "8705                             1                                    1   \n",
              "8729                             1                                    1   \n",
              "8730                             1                                    1   \n",
              "8731                             1                                    1   \n",
              "...                            ...                                  ...   \n",
              "5378                             1                                    1   \n",
              "5379                             1                                    1   \n",
              "5410                             0                                    0   \n",
              "5411                             0                                    0   \n",
              "5415                             1                                    1   \n",
              "\n",
              "      pred6_clf_best  sim1_gross_rev_pred6  sim1_fees_pred6  \\\n",
              "8704               1              4.855687             -0.2   \n",
              "8705               1              4.562258             -0.2   \n",
              "8729               1              6.764367             -0.2   \n",
              "8730               1              9.070912             -0.2   \n",
              "8731               1             10.495372             -0.2   \n",
              "...              ...                   ...              ...   \n",
              "5378               1              5.272420             -0.2   \n",
              "5379               1              3.383130             -0.2   \n",
              "5410               1             -6.257323             -0.2   \n",
              "5411               1             -1.808794             -0.2   \n",
              "5415               1              2.468482             -0.2   \n",
              "\n",
              "      sim1_net_rev_pred6  \n",
              "8704            4.655687  \n",
              "8705            4.362258  \n",
              "8729            6.564367  \n",
              "8730            8.870912  \n",
              "8731           10.295372  \n",
              "...                  ...  \n",
              "5378            5.072420  \n",
              "5379            3.183130  \n",
              "5410           -6.457323  \n",
              "5411           -2.008794  \n",
              "5415            2.268482  \n",
              "\n",
              "[6229 rows x 10 columns]"
            ]
          },
          "execution_count": 132,
          "metadata": {},
          "output_type": "execute_result"
        }
      ],
      "source": [
        "COLUMNS_FIN_RESULT = ['Date','Ticker','Close']+TO_PREDICT+ [pred,  'sim1_gross_rev_pred6','sim1_fees_pred6','sim1_net_rev_pred6']\n",
        "new_df[(new_df.split=='test')&(new_df[pred]==1)][COLUMNS_FIN_RESULT]"
      ]
    },
    {
      "cell_type": "code",
      "execution_count": 133,
      "metadata": {
        "colab": {
          "base_uri": "https://localhost:8080/"
        },
        "id": "BJS19COwDymR",
        "outputId": "762e530e-9887-4adb-b237-39ff08faa711"
      },
      "outputs": [
        {
          "name": "stdout",
          "output_type": "stream",
          "text": [
            "9.25\n"
          ]
        }
      ],
      "source": [
        "# DAILY INVESTMENTS COUNT\n",
        "filter_test_and_positive_pred = (new_df.split=='test')&(new_df[pred]==1)\n",
        "df_investments_count_daily = pd.DataFrame(new_df[filter_test_and_positive_pred].groupby('Date')[pred].count())\n",
        "sim1_avg_investments_per_day = df_investments_count_daily[pred].quantile(0.75)  # 75% case - how many $100 investments per day do we have?\n",
        "print(sim1_avg_investments_per_day)"
      ]
    },
    {
      "cell_type": "code",
      "execution_count": 134,
      "metadata": {
        "colab": {
          "base_uri": "https://localhost:8080/",
          "height": 80
        },
        "id": "K10MkjYND0sJ",
        "outputId": "50b36b47-20c8-45d2-bea5-f34fb523a0a9"
      },
      "outputs": [
        {
          "data": {
            "text/html": [
              "<div>\n",
              "<style scoped>\n",
              "    .dataframe tbody tr th:only-of-type {\n",
              "        vertical-align: middle;\n",
              "    }\n",
              "\n",
              "    .dataframe tbody tr th {\n",
              "        vertical-align: top;\n",
              "    }\n",
              "\n",
              "    .dataframe thead th {\n",
              "        text-align: right;\n",
              "    }\n",
              "</style>\n",
              "<table border=\"1\" class=\"dataframe\">\n",
              "  <thead>\n",
              "    <tr style=\"text-align: right;\">\n",
              "      <th></th>\n",
              "      <th>count</th>\n",
              "      <th>mean</th>\n",
              "      <th>std</th>\n",
              "      <th>min</th>\n",
              "      <th>25%</th>\n",
              "      <th>50%</th>\n",
              "      <th>75%</th>\n",
              "      <th>max</th>\n",
              "    </tr>\n",
              "  </thead>\n",
              "  <tbody>\n",
              "    <tr>\n",
              "      <th>pred6_clf_best</th>\n",
              "      <td>880.0</td>\n",
              "      <td>7.078409</td>\n",
              "      <td>6.091041</td>\n",
              "      <td>1.0</td>\n",
              "      <td>3.0</td>\n",
              "      <td>5.0</td>\n",
              "      <td>9.25</td>\n",
              "      <td>33.0</td>\n",
              "    </tr>\n",
              "  </tbody>\n",
              "</table>\n",
              "</div>"
            ],
            "text/plain": [
              "                count      mean       std  min  25%  50%   75%   max\n",
              "pred6_clf_best  880.0  7.078409  6.091041  1.0  3.0  5.0  9.25  33.0"
            ]
          },
          "execution_count": 134,
          "metadata": {},
          "output_type": "execute_result"
        }
      ],
      "source": [
        "# Distribution: how many times do we trade daily (for the current Prediction)?\n",
        "df_investments_count_daily.describe().T"
      ]
    },
    {
      "cell_type": "code",
      "execution_count": 135,
      "metadata": {
        "colab": {
          "base_uri": "https://localhost:8080/"
        },
        "id": "ilH82pIAD6rV",
        "outputId": "639d8e39-951f-4a2d-dac6-ab6cc66a0b3c"
      },
      "outputs": [
        {
          "data": {
            "text/plain": [
              "sim1_gross_rev_pred6    3523.912904\n",
              "sim1_fees_pred6        -1245.800000\n",
              "sim1_net_rev_pred6      2281.912904\n",
              "dtype: float64"
            ]
          },
          "execution_count": 135,
          "metadata": {},
          "output_type": "execute_result"
        }
      ],
      "source": [
        "new_df[(new_df.split=='test')&(new_df[pred]==1)][['sim1_gross_rev_pred6','sim1_fees_pred6','sim1_net_rev_pred6']].sum()"
      ]
    },
    {
      "cell_type": "markdown",
      "metadata": {
        "id": "NjeHdCq1D9yN"
      },
      "source": [
        "### 3.1.2 Calculate fin. results for all fields\n",
        "* Simplified and approximate calculation"
      ]
    },
    {
      "cell_type": "code",
      "execution_count": 136,
      "metadata": {
        "colab": {
          "base_uri": "https://localhost:8080/"
        },
        "id": "Pp7CbZXSD_zT",
        "outputId": "ba327536-cc95-47d8-d2c5-84551d4962ac"
      },
      "outputs": [
        {
          "name": "stdout",
          "output_type": "stream",
          "text": [
            "Calculating sumulation for prediction pred0_manual_cci:\n",
            "    Count times of investment 799 out of 29829 TEST records\n",
            "    Financial Result: \n",
            " sim1_gross_rev_pred0    309.04589\n",
            "sim1_fees_pred0        -159.80000\n",
            "sim1_net_rev_pred0      149.84589\n",
            "dtype: float64\n",
            "        Count Investments in 4 years (on TEST): 799\n",
            "        Gross Revenue: $309\n",
            "        Fees (0.2% for buy+sell): $159\n",
            "        Net Revenue: $149\n",
            "        Fees are 51 % from Gross Revenue\n",
            "        Capital Required : $1000 (Vbegin)\n",
            "        Final value (Vbegin + Net_revenue) : $1149 (Vfinal)\n",
            "        Average CAGR on TEST (4 years) : 1.036, or 3.6% \n",
            "        Average daily stats: \n",
            "            Average net revenue per investment: $0.19 \n",
            "            Average investments per day: 2 \n",
            "            Q75 investments per day: 2 \n",
            "=============================================+\n",
            "Calculating sumulation for prediction pred1_manual_prev_g1:\n",
            "    Count times of investment 15601 out of 29829 TEST records\n",
            "    Financial Result: \n",
            " sim1_gross_rev_pred1    6913.217124\n",
            "sim1_fees_pred1        -3120.200000\n",
            "sim1_net_rev_pred1      3812.817124\n",
            "dtype: float64\n",
            "        Count Investments in 4 years (on TEST): 15601\n",
            "        Gross Revenue: $6913\n",
            "        Fees (0.2% for buy+sell): $3120\n",
            "        Net Revenue: $3812\n",
            "        Fees are 45 % from Gross Revenue\n",
            "        Capital Required : $11000 (Vbegin)\n",
            "        Final value (Vbegin + Net_revenue) : $14812 (Vfinal)\n",
            "        Average CAGR on TEST (4 years) : 1.077, or 7.7% \n",
            "        Average daily stats: \n",
            "            Average net revenue per investment: $0.24 \n",
            "            Average investments per day: 17 \n",
            "            Q75 investments per day: 22 \n",
            "=============================================+\n",
            "Calculating sumulation for prediction pred2_manual_prev_g1_and_snp:\n",
            "    Count times of investment 10455 out of 29829 TEST records\n",
            "    Financial Result: \n",
            " sim1_gross_rev_pred2    4213.424501\n",
            "sim1_fees_pred2        -2091.000000\n",
            "sim1_net_rev_pred2      2139.624501\n",
            "dtype: float64\n",
            "        Count Investments in 4 years (on TEST): 10455\n",
            "        Gross Revenue: $4213\n",
            "        Fees (0.2% for buy+sell): $2091\n",
            "        Net Revenue: $2139\n",
            "        Fees are 49 % from Gross Revenue\n",
            "        Capital Required : $13000 (Vbegin)\n",
            "        Final value (Vbegin + Net_revenue) : $15139 (Vfinal)\n",
            "        Average CAGR on TEST (4 years) : 1.039, or 3.9% \n",
            "        Average daily stats: \n",
            "            Average net revenue per investment: $0.2 \n",
            "            Average investments per day: 22 \n",
            "            Q75 investments per day: 26 \n",
            "=============================================+\n",
            "Calculating sumulation for prediction pred3_manual_gdp_and_fastd:\n",
            "    Count times of investment 29822 out of 29829 TEST records\n",
            "    Financial Result: \n",
            " sim1_gross_rev_pred3    14893.285316\n",
            "sim1_fees_pred3         -5964.400000\n",
            "sim1_net_rev_pred3       8961.885316\n",
            "dtype: float64\n",
            "        Count Investments in 4 years (on TEST): 29822\n",
            "        Gross Revenue: $14893\n",
            "        Fees (0.2% for buy+sell): $5964\n",
            "        Net Revenue: $8961\n",
            "        Fees are 40 % from Gross Revenue\n",
            "        Capital Required : $16500 (Vbegin)\n",
            "        Final value (Vbegin + Net_revenue) : $25461 (Vfinal)\n",
            "        Average CAGR on TEST (4 years) : 1.115, or 11.5% \n",
            "        Average daily stats: \n",
            "            Average net revenue per investment: $0.3 \n",
            "            Average investments per day: 31 \n",
            "            Q75 investments per day: 33 \n",
            "=============================================+\n",
            "Calculating sumulation for prediction pred4_manual_gdp_and_wti30d:\n",
            "    Count times of investment 0 out of 29829 TEST records\n",
            "Calculating sumulation for prediction pred5_clf_10:\n",
            "    Count times of investment 3226 out of 29829 TEST records\n",
            "    Financial Result: \n",
            " sim1_gross_rev_pred5    1059.242032\n",
            "sim1_fees_pred5         -645.200000\n",
            "sim1_net_rev_pred5       415.442032\n",
            "dtype: float64\n",
            "        Count Investments in 4 years (on TEST): 3226\n",
            "        Gross Revenue: $1059\n",
            "        Fees (0.2% for buy+sell): $645\n",
            "        Net Revenue: $415\n",
            "        Fees are 60 % from Gross Revenue\n",
            "        Capital Required : $3000 (Vbegin)\n",
            "        Final value (Vbegin + Net_revenue) : $3415 (Vfinal)\n",
            "        Average CAGR on TEST (4 years) : 1.033, or 3.3% \n",
            "        Average daily stats: \n",
            "            Average net revenue per investment: $0.13 \n",
            "            Average investments per day: 5 \n",
            "            Q75 investments per day: 6 \n",
            "=============================================+\n",
            "Calculating sumulation for prediction pred6_clf_best:\n",
            "    Count times of investment 6229 out of 29829 TEST records\n",
            "    Financial Result: \n",
            " sim1_gross_rev_pred6    3523.912904\n",
            "sim1_fees_pred6        -1245.800000\n",
            "sim1_net_rev_pred6      2281.912904\n",
            "dtype: float64\n",
            "        Count Investments in 4 years (on TEST): 6229\n",
            "        Gross Revenue: $3523\n",
            "        Fees (0.2% for buy+sell): $1245\n",
            "        Net Revenue: $2281\n",
            "        Fees are 35 % from Gross Revenue\n",
            "        Capital Required : $4625 (Vbegin)\n",
            "        Final value (Vbegin + Net_revenue) : $6906 (Vfinal)\n",
            "        Average CAGR on TEST (4 years) : 1.105, or 10.5% \n",
            "        Average daily stats: \n",
            "            Average net revenue per investment: $0.37 \n",
            "            Average investments per day: 7 \n",
            "            Q75 investments per day: 9 \n",
            "=============================================+\n",
            "Calculating sumulation for prediction pred7_clf_best_rule_66:\n",
            "    Count times of investment 5102 out of 29829 TEST records\n",
            "    Financial Result: \n",
            " sim1_gross_rev_pred7    2605.649634\n",
            "sim1_fees_pred7        -1020.400000\n",
            "sim1_net_rev_pred7      1589.049634\n",
            "dtype: float64\n",
            "        Count Investments in 4 years (on TEST): 5102\n",
            "        Gross Revenue: $2605\n",
            "        Fees (0.2% for buy+sell): $1020\n",
            "        Net Revenue: $1589\n",
            "        Fees are 39 % from Gross Revenue\n",
            "        Capital Required : $4000 (Vbegin)\n",
            "        Final value (Vbegin + Net_revenue) : $5589 (Vfinal)\n",
            "        Average CAGR on TEST (4 years) : 1.087, or 8.7% \n",
            "        Average daily stats: \n",
            "            Average net revenue per investment: $0.31 \n",
            "            Average investments per day: 6 \n",
            "            Q75 investments per day: 8 \n",
            "=============================================+\n",
            "Calculating sumulation for prediction pred8_clf_best_rule_78:\n",
            "    Count times of investment 4254 out of 29829 TEST records\n",
            "    Financial Result: \n",
            " sim1_gross_rev_pred8    1272.805444\n",
            "sim1_fees_pred8         -850.800000\n",
            "sim1_net_rev_pred8       425.605444\n",
            "dtype: float64\n",
            "        Count Investments in 4 years (on TEST): 4254\n",
            "        Gross Revenue: $1272\n",
            "        Fees (0.2% for buy+sell): $850\n",
            "        Net Revenue: $425\n",
            "        Fees are 66 % from Gross Revenue\n",
            "        Capital Required : $3500 (Vbegin)\n",
            "        Final value (Vbegin + Net_revenue) : $3925 (Vfinal)\n",
            "        Average CAGR on TEST (4 years) : 1.029, or 2.9% \n",
            "        Average daily stats: \n",
            "            Average net revenue per investment: $0.1 \n",
            "            Average investments per day: 5 \n",
            "            Q75 investments per day: 7 \n",
            "=============================================+\n",
            "Calculating sumulation for prediction pred9_rf_best_rule_55:\n",
            "    Count times of investment 12 out of 29829 TEST records\n",
            "    Financial Result: \n",
            " sim1_gross_rev_pred9    73.44653\n",
            "sim1_fees_pred9         -2.40000\n",
            "sim1_net_rev_pred9      71.04653\n",
            "dtype: float64\n",
            "        Count Investments in 4 years (on TEST): 12\n",
            "        Gross Revenue: $73\n",
            "        Fees (0.2% for buy+sell): $2\n",
            "        Net Revenue: $71\n",
            "        Fees are 3 % from Gross Revenue\n",
            "        Capital Required : $625 (Vbegin)\n",
            "        Final value (Vbegin + Net_revenue) : $696 (Vfinal)\n",
            "        Average CAGR on TEST (4 years) : 1.027, or 2.7% \n",
            "        Average daily stats: \n",
            "            Average net revenue per investment: $5.92 \n",
            "            Average investments per day: 2 \n",
            "            Q75 investments per day: 1 \n",
            "=============================================+\n",
            "Calculating sumulation for prediction pred10_rf_best_rule_60:\n",
            "    Count times of investment 3 out of 29829 TEST records\n",
            "    Financial Result: \n",
            " sim1_gross_rev_pred10    8.058612\n",
            "sim1_fees_pred10        -0.600000\n",
            "sim1_net_rev_pred10      7.458612\n",
            "dtype: float64\n",
            "        Count Investments in 4 years (on TEST): 3\n",
            "        Gross Revenue: $8\n",
            "        Fees (0.2% for buy+sell): $0\n",
            "        Net Revenue: $7\n",
            "        Fees are 7 % from Gross Revenue\n",
            "        Capital Required : $1500 (Vbegin)\n",
            "        Final value (Vbegin + Net_revenue) : $1507 (Vfinal)\n",
            "        Average CAGR on TEST (4 years) : 1.001, or 0.1% \n",
            "        Average daily stats: \n",
            "            Average net revenue per investment: $2.49 \n",
            "            Average investments per day: 3 \n",
            "            Q75 investments per day: 3 \n",
            "=============================================+\n"
          ]
        }
      ],
      "source": [
        "# Calculate fin. result for ALL predictions (manual and produced by models)\n",
        "\n",
        "sim1_results = [] # results in Array\n",
        "\n",
        "# Iterate over all predictions\n",
        "for pred in PREDICTIONS:\n",
        "  print(f'Calculating sumulation for prediction {pred}:')\n",
        "  print(f\"    Count times of investment {len(new_df[(new_df.split=='test')&(new_df[pred]==1)])} out of {len(new_df[(new_df.split=='test')])} TEST records\")\n",
        "\n",
        "  # Prefix: e.g. pred1 or pred10\n",
        "  pred_prefix= pred.split('_')[0]\n",
        "\n",
        "  # Fin. result columns: define new records for EACH positive prediction\n",
        "  new_df['sim1_gross_rev_'+pred_prefix] = new_df[pred] * 100 * (new_df['growth_future_5d']-1)\n",
        "  new_df['sim1_fees_'+pred_prefix] = -new_df[pred] * 100 * 0.002\n",
        "  new_df['sim1_net_rev_'+pred_prefix] = new_df['sim1_gross_rev_'+pred_prefix] + new_df['sim1_fees_'+pred_prefix]\n",
        "\n",
        "  # calculate agg. results for each PREDICTION columns (pred) on TEST\n",
        "  filter_test_and_positive_pred = (new_df.split=='test')&(new_df[pred]==1) # filter records on TEST set, when current prediction is 1 (we invest $100 for 1 week ahead - 5 periods)\n",
        "  sim1_count_investments = len(new_df[filter_test_and_positive_pred])\n",
        "  sim1_gross_rev = new_df[filter_test_and_positive_pred]['sim1_gross_rev_'+pred_prefix].sum()\n",
        "  sim1_fees = new_df[filter_test_and_positive_pred]['sim1_fees_'+pred_prefix].sum()\n",
        "  sim1_net_rev = new_df[filter_test_and_positive_pred]['sim1_net_rev_'+pred_prefix].sum()\n",
        "\n",
        "  if sim1_gross_rev>0:\n",
        "    sim1_fees_percentage = -sim1_fees/sim1_gross_rev\n",
        "  else:\n",
        "    sim1_fees_percentage = None\n",
        "\n",
        "  if sim1_count_investments>0:\n",
        "    sim1_average_net_revenue = sim1_net_rev/sim1_count_investments\n",
        "  else:\n",
        "    sim1_average_net_revenue = None\n",
        "\n",
        "  # APPROXIMATE CAPITAL REQUIRED and CAGR Calculation\n",
        "  df_investments_count_daily = pd.DataFrame(new_df[filter_test_and_positive_pred].groupby('Date')[pred].count())\n",
        "  sim1_avg_investments_per_day = df_investments_count_daily[pred].mean()\n",
        "  sim1_q75_investments_per_day = df_investments_count_daily[pred].quantile(0.75)  # 75% case - how many $100 investments per day do we have?\n",
        "  # df_investments_count_daily[pred].mean()\n",
        "  sim1_capital = 100 * 5 * sim1_q75_investments_per_day # 5 days in a row with positive predictions\n",
        "  # CAGR: average growth per year. E.g. if you have 1.5 return (50% growth in 4 years) --> (1.5)**(1/4) = 1.106 or 10.6% average\n",
        "  sim1_CAGR = ((sim1_capital+sim1_net_rev)/sim1_capital)**(1/4)\n",
        "\n",
        "  # append to DF\n",
        "  sim1_results.append((pred,sim1_count_investments,sim1_gross_rev,sim1_fees,sim1_net_rev,sim1_fees_percentage,sim1_average_net_revenue,sim1_avg_investments_per_day,sim1_capital,sim1_CAGR))\n",
        "\n",
        "\n",
        "  # output for all predictions with some positive predictions\n",
        "  if  sim1_count_investments>1:\n",
        "    print(f\"    Financial Result: \\n {new_df[filter_test_and_positive_pred][['sim1_gross_rev_'+pred_prefix,'sim1_fees_'+pred_prefix,'sim1_net_rev_'+pred_prefix]].sum()}\")\n",
        "    print(f\"        Count Investments in 4 years (on TEST): {sim1_count_investments}\")\n",
        "    print(f\"        Gross Revenue: ${int(sim1_gross_rev)}\")\n",
        "    print(f\"        Fees (0.2% for buy+sell): ${int(-sim1_fees)}\")\n",
        "    print(f\"        Net Revenue: ${int(sim1_net_rev)}\")\n",
        "    print(f\"        Fees are {int(-100.0*sim1_fees/sim1_gross_rev)} % from Gross Revenue\")\n",
        "    print(f\"        Capital Required : ${int(sim1_capital)} (Vbegin)\")\n",
        "    print(f\"        Final value (Vbegin + Net_revenue) : ${int(sim1_capital + sim1_net_rev)} (Vfinal)\")\n",
        "\n",
        "    print(f\"        Average CAGR on TEST (4 years) : {np.round(sim1_CAGR,3)}, or {np.round(100.0*(sim1_CAGR-1),1)}% \")\n",
        "\n",
        "    print(f\"        Average daily stats: \")\n",
        "    print(f\"            Average net revenue per investment: ${np.round(sim1_net_rev/sim1_count_investments,2)} \")\n",
        "    print(f\"            Average investments per day: {int(np.round(sim1_avg_investments_per_day))} \")\n",
        "    print(f\"            Q75 investments per day: {int(np.round(sim1_q75_investments_per_day))} \")\n",
        "    print('=============================================+')\n",
        "\n",
        "\n",
        "# results in a DataFrame from an Array\n",
        "columns_simulation = ['prediction', 'sim1_count_investments', 'sim1_gross_rev', 'sim1_fees', 'sim1_net_rev', 'sim1_fees_percentage','sim1_average_net_revenue','sim1_avg_investments_per_day','sim1_capital','sim1_CAGR']\n",
        "\n",
        "df_sim1_results = pd.DataFrame(sim1_results,columns=columns_simulation)"
      ]
    },
    {
      "cell_type": "code",
      "execution_count": 137,
      "metadata": {
        "id": "06L2zLXMEDUh"
      },
      "outputs": [],
      "source": [
        "df_sim1_results['sim1_growth_capital_4y'] = (df_sim1_results.sim1_net_rev+df_sim1_results.sim1_capital) / df_sim1_results.sim1_capital"
      ]
    },
    {
      "cell_type": "code",
      "execution_count": 138,
      "metadata": {
        "colab": {
          "base_uri": "https://localhost:8080/",
          "height": 410
        },
        "id": "dKoRow8IEEYx",
        "outputId": "842fceb4-ad93-445d-86a6-937bb1ae6e7c"
      },
      "outputs": [
        {
          "data": {
            "text/html": [
              "<div>\n",
              "<style scoped>\n",
              "    .dataframe tbody tr th:only-of-type {\n",
              "        vertical-align: middle;\n",
              "    }\n",
              "\n",
              "    .dataframe tbody tr th {\n",
              "        vertical-align: top;\n",
              "    }\n",
              "\n",
              "    .dataframe thead th {\n",
              "        text-align: right;\n",
              "    }\n",
              "</style>\n",
              "<table border=\"1\" class=\"dataframe\">\n",
              "  <thead>\n",
              "    <tr style=\"text-align: right;\">\n",
              "      <th></th>\n",
              "      <th>prediction</th>\n",
              "      <th>sim1_count_investments</th>\n",
              "      <th>sim1_gross_rev</th>\n",
              "      <th>sim1_fees</th>\n",
              "      <th>sim1_net_rev</th>\n",
              "      <th>sim1_fees_percentage</th>\n",
              "      <th>sim1_average_net_revenue</th>\n",
              "      <th>sim1_avg_investments_per_day</th>\n",
              "      <th>sim1_capital</th>\n",
              "      <th>sim1_CAGR</th>\n",
              "      <th>sim1_growth_capital_4y</th>\n",
              "    </tr>\n",
              "  </thead>\n",
              "  <tbody>\n",
              "    <tr>\n",
              "      <th>0</th>\n",
              "      <td>pred0_manual_cci</td>\n",
              "      <td>799</td>\n",
              "      <td>309.045890</td>\n",
              "      <td>-159.8</td>\n",
              "      <td>149.845890</td>\n",
              "      <td>0.517075</td>\n",
              "      <td>0.187542</td>\n",
              "      <td>1.866822</td>\n",
              "      <td>1000.0</td>\n",
              "      <td>1.035523</td>\n",
              "      <td>1.149846</td>\n",
              "    </tr>\n",
              "    <tr>\n",
              "      <th>1</th>\n",
              "      <td>pred1_manual_prev_g1</td>\n",
              "      <td>15601</td>\n",
              "      <td>6913.217124</td>\n",
              "      <td>-3120.2</td>\n",
              "      <td>3812.817124</td>\n",
              "      <td>0.451338</td>\n",
              "      <td>0.244396</td>\n",
              "      <td>16.526483</td>\n",
              "      <td>11000.0</td>\n",
              "      <td>1.077237</td>\n",
              "      <td>1.346620</td>\n",
              "    </tr>\n",
              "    <tr>\n",
              "      <th>2</th>\n",
              "      <td>pred2_manual_prev_g1_and_snp</td>\n",
              "      <td>10455</td>\n",
              "      <td>4213.424501</td>\n",
              "      <td>-2091.0</td>\n",
              "      <td>2139.624501</td>\n",
              "      <td>0.496271</td>\n",
              "      <td>0.204651</td>\n",
              "      <td>21.918239</td>\n",
              "      <td>13000.0</td>\n",
              "      <td>1.038826</td>\n",
              "      <td>1.164587</td>\n",
              "    </tr>\n",
              "    <tr>\n",
              "      <th>3</th>\n",
              "      <td>pred3_manual_gdp_and_fastd</td>\n",
              "      <td>29822</td>\n",
              "      <td>14893.285316</td>\n",
              "      <td>-5964.4</td>\n",
              "      <td>8961.885316</td>\n",
              "      <td>0.400476</td>\n",
              "      <td>0.300513</td>\n",
              "      <td>31.491024</td>\n",
              "      <td>16500.0</td>\n",
              "      <td>1.114555</td>\n",
              "      <td>1.543145</td>\n",
              "    </tr>\n",
              "    <tr>\n",
              "      <th>4</th>\n",
              "      <td>pred4_manual_gdp_and_wti30d</td>\n",
              "      <td>0</td>\n",
              "      <td>0.000000</td>\n",
              "      <td>0.0</td>\n",
              "      <td>0.000000</td>\n",
              "      <td>NaN</td>\n",
              "      <td>NaN</td>\n",
              "      <td>NaN</td>\n",
              "      <td>NaN</td>\n",
              "      <td>NaN</td>\n",
              "      <td>NaN</td>\n",
              "    </tr>\n",
              "    <tr>\n",
              "      <th>5</th>\n",
              "      <td>pred5_clf_10</td>\n",
              "      <td>3226</td>\n",
              "      <td>1059.242032</td>\n",
              "      <td>-645.2</td>\n",
              "      <td>415.442032</td>\n",
              "      <td>0.609115</td>\n",
              "      <td>0.128779</td>\n",
              "      <td>5.332231</td>\n",
              "      <td>3000.0</td>\n",
              "      <td>1.032955</td>\n",
              "      <td>1.138481</td>\n",
              "    </tr>\n",
              "    <tr>\n",
              "      <th>6</th>\n",
              "      <td>pred6_clf_best</td>\n",
              "      <td>6229</td>\n",
              "      <td>3523.912904</td>\n",
              "      <td>-1245.8</td>\n",
              "      <td>2281.912904</td>\n",
              "      <td>0.353527</td>\n",
              "      <td>0.366337</td>\n",
              "      <td>7.078409</td>\n",
              "      <td>4625.0</td>\n",
              "      <td>1.105460</td>\n",
              "      <td>1.493387</td>\n",
              "    </tr>\n",
              "    <tr>\n",
              "      <th>7</th>\n",
              "      <td>pred7_clf_best_rule_66</td>\n",
              "      <td>5102</td>\n",
              "      <td>2605.649634</td>\n",
              "      <td>-1020.4</td>\n",
              "      <td>1589.049634</td>\n",
              "      <td>0.391611</td>\n",
              "      <td>0.311456</td>\n",
              "      <td>6.306551</td>\n",
              "      <td>4000.0</td>\n",
              "      <td>1.087225</td>\n",
              "      <td>1.397262</td>\n",
              "    </tr>\n",
              "    <tr>\n",
              "      <th>8</th>\n",
              "      <td>pred8_clf_best_rule_78</td>\n",
              "      <td>4254</td>\n",
              "      <td>1272.805444</td>\n",
              "      <td>-850.8</td>\n",
              "      <td>425.605444</td>\n",
              "      <td>0.668445</td>\n",
              "      <td>0.100048</td>\n",
              "      <td>5.439898</td>\n",
              "      <td>3500.0</td>\n",
              "      <td>1.029105</td>\n",
              "      <td>1.121602</td>\n",
              "    </tr>\n",
              "    <tr>\n",
              "      <th>9</th>\n",
              "      <td>pred9_rf_best_rule_55</td>\n",
              "      <td>12</td>\n",
              "      <td>73.446530</td>\n",
              "      <td>-2.4</td>\n",
              "      <td>71.046530</td>\n",
              "      <td>0.032677</td>\n",
              "      <td>5.920544</td>\n",
              "      <td>1.500000</td>\n",
              "      <td>625.0</td>\n",
              "      <td>1.027282</td>\n",
              "      <td>1.113674</td>\n",
              "    </tr>\n",
              "    <tr>\n",
              "      <th>10</th>\n",
              "      <td>pred10_rf_best_rule_60</td>\n",
              "      <td>3</td>\n",
              "      <td>8.058612</td>\n",
              "      <td>-0.6</td>\n",
              "      <td>7.458612</td>\n",
              "      <td>0.074455</td>\n",
              "      <td>2.486204</td>\n",
              "      <td>3.000000</td>\n",
              "      <td>1500.0</td>\n",
              "      <td>1.001241</td>\n",
              "      <td>1.004972</td>\n",
              "    </tr>\n",
              "  </tbody>\n",
              "</table>\n",
              "</div>"
            ],
            "text/plain": [
              "                      prediction  sim1_count_investments  sim1_gross_rev  \\\n",
              "0               pred0_manual_cci                     799      309.045890   \n",
              "1           pred1_manual_prev_g1                   15601     6913.217124   \n",
              "2   pred2_manual_prev_g1_and_snp                   10455     4213.424501   \n",
              "3     pred3_manual_gdp_and_fastd                   29822    14893.285316   \n",
              "4    pred4_manual_gdp_and_wti30d                       0        0.000000   \n",
              "5                   pred5_clf_10                    3226     1059.242032   \n",
              "6                 pred6_clf_best                    6229     3523.912904   \n",
              "7         pred7_clf_best_rule_66                    5102     2605.649634   \n",
              "8         pred8_clf_best_rule_78                    4254     1272.805444   \n",
              "9          pred9_rf_best_rule_55                      12       73.446530   \n",
              "10        pred10_rf_best_rule_60                       3        8.058612   \n",
              "\n",
              "    sim1_fees  sim1_net_rev  sim1_fees_percentage  sim1_average_net_revenue  \\\n",
              "0      -159.8    149.845890              0.517075                  0.187542   \n",
              "1     -3120.2   3812.817124              0.451338                  0.244396   \n",
              "2     -2091.0   2139.624501              0.496271                  0.204651   \n",
              "3     -5964.4   8961.885316              0.400476                  0.300513   \n",
              "4         0.0      0.000000                   NaN                       NaN   \n",
              "5      -645.2    415.442032              0.609115                  0.128779   \n",
              "6     -1245.8   2281.912904              0.353527                  0.366337   \n",
              "7     -1020.4   1589.049634              0.391611                  0.311456   \n",
              "8      -850.8    425.605444              0.668445                  0.100048   \n",
              "9        -2.4     71.046530              0.032677                  5.920544   \n",
              "10       -0.6      7.458612              0.074455                  2.486204   \n",
              "\n",
              "    sim1_avg_investments_per_day  sim1_capital  sim1_CAGR  \\\n",
              "0                       1.866822        1000.0   1.035523   \n",
              "1                      16.526483       11000.0   1.077237   \n",
              "2                      21.918239       13000.0   1.038826   \n",
              "3                      31.491024       16500.0   1.114555   \n",
              "4                            NaN           NaN        NaN   \n",
              "5                       5.332231        3000.0   1.032955   \n",
              "6                       7.078409        4625.0   1.105460   \n",
              "7                       6.306551        4000.0   1.087225   \n",
              "8                       5.439898        3500.0   1.029105   \n",
              "9                       1.500000         625.0   1.027282   \n",
              "10                      3.000000        1500.0   1.001241   \n",
              "\n",
              "    sim1_growth_capital_4y  \n",
              "0                 1.149846  \n",
              "1                 1.346620  \n",
              "2                 1.164587  \n",
              "3                 1.543145  \n",
              "4                      NaN  \n",
              "5                 1.138481  \n",
              "6                 1.493387  \n",
              "7                 1.397262  \n",
              "8                 1.121602  \n",
              "9                 1.113674  \n",
              "10                1.004972  "
            ]
          },
          "execution_count": 138,
          "metadata": {},
          "output_type": "execute_result"
        }
      ],
      "source": [
        "# final comparison\n",
        "df_sim1_results"
      ]
    },
    {
      "cell_type": "code",
      "execution_count": 139,
      "metadata": {
        "colab": {
          "base_uri": "https://localhost:8080/"
        },
        "id": "axkPcSKgJrJP",
        "outputId": "cc3b8ecf-d7cd-45ec-ee08-2000bfe10f50"
      },
      "outputs": [
        {
          "name": "stdout",
          "output_type": "stream",
          "text": [
            "CAGR for pred6_clf_best : 1.1055\n"
          ]
        }
      ],
      "source": [
        "print('CAGR for pred6_clf_best :', np.round(df_sim1_results[df_sim1_results['prediction']=='pred6_clf_best']['sim1_CAGR'].values[0],4))"
      ]
    },
    {
      "cell_type": "code",
      "execution_count": 140,
      "metadata": {
        "colab": {
          "base_uri": "https://localhost:8080/",
          "height": 542
        },
        "id": "nVqxN-1wEGGj",
        "outputId": "44a39c10-4d3b-4340-fcc8-d4a37d9c1830"
      },
      "outputs": [
        {
          "data": {
            "application/vnd.plotly.v1+json": {
              "config": {
                "plotlyServerURL": "https://plot.ly"
              },
              "data": [
                {
                  "hovertemplate": "sim1_avg_investments_per_day=%{x}<br>sim1_CAGR=%{y}<br>sim1_growth_capital_4y=%{marker.size}<br>prediction=%{text}<extra></extra>",
                  "legendgroup": "",
                  "marker": {
                    "color": "#636efa",
                    "size": [
                      1.1498458895152726,
                      1.3466197385724221,
                      1.1645865000916178,
                      1.5431445645820265,
                      1.1384806774979148,
                      1.4933865739114425,
                      1.3972624084159304,
                      1.1216015554578906,
                      1.1136744476406877,
                      1.0049724080203541
                    ],
                    "sizemode": "area",
                    "sizeref": 0.0038578614114550664,
                    "symbol": "circle"
                  },
                  "mode": "markers+text",
                  "name": "",
                  "orientation": "v",
                  "showlegend": false,
                  "text": [
                    "pred0_manual_cci",
                    "pred1_manual_prev_g1",
                    "pred2_manual_prev_g1_and_snp",
                    "pred3_manual_gdp_and_fastd",
                    "pred5_clf_10",
                    "pred6_clf_best",
                    "pred7_clf_best_rule_66",
                    "pred8_clf_best_rule_78",
                    "pred9_rf_best_rule_55",
                    "pred10_rf_best_rule_60"
                  ],
                  "textposition": "top center",
                  "type": "scatter",
                  "x": [
                    1.8668224299065421,
                    16.526483050847457,
                    21.91823899371069,
                    31.49102428722281,
                    5.332231404958677,
                    7.078409090909091,
                    6.306551297898641,
                    5.439897698209719,
                    1.5,
                    3
                  ],
                  "xaxis": "x",
                  "y": [
                    1.035523381042123,
                    1.077236955940904,
                    1.0388263041107977,
                    1.114555382053512,
                    1.032955032921935,
                    1.105460071176174,
                    1.0872251592698345,
                    1.0291049110513781,
                    1.0272817287404796,
                    1.0012407907516878
                  ],
                  "yaxis": "y"
                }
              ],
              "layout": {
                "legend": {
                  "itemsizing": "constant",
                  "tracegroupgap": 0
                },
                "template": {
                  "data": {
                    "bar": [
                      {
                        "error_x": {
                          "color": "#2a3f5f"
                        },
                        "error_y": {
                          "color": "#2a3f5f"
                        },
                        "marker": {
                          "line": {
                            "color": "#E5ECF6",
                            "width": 0.5
                          },
                          "pattern": {
                            "fillmode": "overlay",
                            "size": 10,
                            "solidity": 0.2
                          }
                        },
                        "type": "bar"
                      }
                    ],
                    "barpolar": [
                      {
                        "marker": {
                          "line": {
                            "color": "#E5ECF6",
                            "width": 0.5
                          },
                          "pattern": {
                            "fillmode": "overlay",
                            "size": 10,
                            "solidity": 0.2
                          }
                        },
                        "type": "barpolar"
                      }
                    ],
                    "carpet": [
                      {
                        "aaxis": {
                          "endlinecolor": "#2a3f5f",
                          "gridcolor": "white",
                          "linecolor": "white",
                          "minorgridcolor": "white",
                          "startlinecolor": "#2a3f5f"
                        },
                        "baxis": {
                          "endlinecolor": "#2a3f5f",
                          "gridcolor": "white",
                          "linecolor": "white",
                          "minorgridcolor": "white",
                          "startlinecolor": "#2a3f5f"
                        },
                        "type": "carpet"
                      }
                    ],
                    "choropleth": [
                      {
                        "colorbar": {
                          "outlinewidth": 0,
                          "ticks": ""
                        },
                        "type": "choropleth"
                      }
                    ],
                    "contour": [
                      {
                        "colorbar": {
                          "outlinewidth": 0,
                          "ticks": ""
                        },
                        "colorscale": [
                          [
                            0,
                            "#0d0887"
                          ],
                          [
                            0.1111111111111111,
                            "#46039f"
                          ],
                          [
                            0.2222222222222222,
                            "#7201a8"
                          ],
                          [
                            0.3333333333333333,
                            "#9c179e"
                          ],
                          [
                            0.4444444444444444,
                            "#bd3786"
                          ],
                          [
                            0.5555555555555556,
                            "#d8576b"
                          ],
                          [
                            0.6666666666666666,
                            "#ed7953"
                          ],
                          [
                            0.7777777777777778,
                            "#fb9f3a"
                          ],
                          [
                            0.8888888888888888,
                            "#fdca26"
                          ],
                          [
                            1,
                            "#f0f921"
                          ]
                        ],
                        "type": "contour"
                      }
                    ],
                    "contourcarpet": [
                      {
                        "colorbar": {
                          "outlinewidth": 0,
                          "ticks": ""
                        },
                        "type": "contourcarpet"
                      }
                    ],
                    "heatmap": [
                      {
                        "colorbar": {
                          "outlinewidth": 0,
                          "ticks": ""
                        },
                        "colorscale": [
                          [
                            0,
                            "#0d0887"
                          ],
                          [
                            0.1111111111111111,
                            "#46039f"
                          ],
                          [
                            0.2222222222222222,
                            "#7201a8"
                          ],
                          [
                            0.3333333333333333,
                            "#9c179e"
                          ],
                          [
                            0.4444444444444444,
                            "#bd3786"
                          ],
                          [
                            0.5555555555555556,
                            "#d8576b"
                          ],
                          [
                            0.6666666666666666,
                            "#ed7953"
                          ],
                          [
                            0.7777777777777778,
                            "#fb9f3a"
                          ],
                          [
                            0.8888888888888888,
                            "#fdca26"
                          ],
                          [
                            1,
                            "#f0f921"
                          ]
                        ],
                        "type": "heatmap"
                      }
                    ],
                    "heatmapgl": [
                      {
                        "colorbar": {
                          "outlinewidth": 0,
                          "ticks": ""
                        },
                        "colorscale": [
                          [
                            0,
                            "#0d0887"
                          ],
                          [
                            0.1111111111111111,
                            "#46039f"
                          ],
                          [
                            0.2222222222222222,
                            "#7201a8"
                          ],
                          [
                            0.3333333333333333,
                            "#9c179e"
                          ],
                          [
                            0.4444444444444444,
                            "#bd3786"
                          ],
                          [
                            0.5555555555555556,
                            "#d8576b"
                          ],
                          [
                            0.6666666666666666,
                            "#ed7953"
                          ],
                          [
                            0.7777777777777778,
                            "#fb9f3a"
                          ],
                          [
                            0.8888888888888888,
                            "#fdca26"
                          ],
                          [
                            1,
                            "#f0f921"
                          ]
                        ],
                        "type": "heatmapgl"
                      }
                    ],
                    "histogram": [
                      {
                        "marker": {
                          "pattern": {
                            "fillmode": "overlay",
                            "size": 10,
                            "solidity": 0.2
                          }
                        },
                        "type": "histogram"
                      }
                    ],
                    "histogram2d": [
                      {
                        "colorbar": {
                          "outlinewidth": 0,
                          "ticks": ""
                        },
                        "colorscale": [
                          [
                            0,
                            "#0d0887"
                          ],
                          [
                            0.1111111111111111,
                            "#46039f"
                          ],
                          [
                            0.2222222222222222,
                            "#7201a8"
                          ],
                          [
                            0.3333333333333333,
                            "#9c179e"
                          ],
                          [
                            0.4444444444444444,
                            "#bd3786"
                          ],
                          [
                            0.5555555555555556,
                            "#d8576b"
                          ],
                          [
                            0.6666666666666666,
                            "#ed7953"
                          ],
                          [
                            0.7777777777777778,
                            "#fb9f3a"
                          ],
                          [
                            0.8888888888888888,
                            "#fdca26"
                          ],
                          [
                            1,
                            "#f0f921"
                          ]
                        ],
                        "type": "histogram2d"
                      }
                    ],
                    "histogram2dcontour": [
                      {
                        "colorbar": {
                          "outlinewidth": 0,
                          "ticks": ""
                        },
                        "colorscale": [
                          [
                            0,
                            "#0d0887"
                          ],
                          [
                            0.1111111111111111,
                            "#46039f"
                          ],
                          [
                            0.2222222222222222,
                            "#7201a8"
                          ],
                          [
                            0.3333333333333333,
                            "#9c179e"
                          ],
                          [
                            0.4444444444444444,
                            "#bd3786"
                          ],
                          [
                            0.5555555555555556,
                            "#d8576b"
                          ],
                          [
                            0.6666666666666666,
                            "#ed7953"
                          ],
                          [
                            0.7777777777777778,
                            "#fb9f3a"
                          ],
                          [
                            0.8888888888888888,
                            "#fdca26"
                          ],
                          [
                            1,
                            "#f0f921"
                          ]
                        ],
                        "type": "histogram2dcontour"
                      }
                    ],
                    "mesh3d": [
                      {
                        "colorbar": {
                          "outlinewidth": 0,
                          "ticks": ""
                        },
                        "type": "mesh3d"
                      }
                    ],
                    "parcoords": [
                      {
                        "line": {
                          "colorbar": {
                            "outlinewidth": 0,
                            "ticks": ""
                          }
                        },
                        "type": "parcoords"
                      }
                    ],
                    "pie": [
                      {
                        "automargin": true,
                        "type": "pie"
                      }
                    ],
                    "scatter": [
                      {
                        "fillpattern": {
                          "fillmode": "overlay",
                          "size": 10,
                          "solidity": 0.2
                        },
                        "type": "scatter"
                      }
                    ],
                    "scatter3d": [
                      {
                        "line": {
                          "colorbar": {
                            "outlinewidth": 0,
                            "ticks": ""
                          }
                        },
                        "marker": {
                          "colorbar": {
                            "outlinewidth": 0,
                            "ticks": ""
                          }
                        },
                        "type": "scatter3d"
                      }
                    ],
                    "scattercarpet": [
                      {
                        "marker": {
                          "colorbar": {
                            "outlinewidth": 0,
                            "ticks": ""
                          }
                        },
                        "type": "scattercarpet"
                      }
                    ],
                    "scattergeo": [
                      {
                        "marker": {
                          "colorbar": {
                            "outlinewidth": 0,
                            "ticks": ""
                          }
                        },
                        "type": "scattergeo"
                      }
                    ],
                    "scattergl": [
                      {
                        "marker": {
                          "colorbar": {
                            "outlinewidth": 0,
                            "ticks": ""
                          }
                        },
                        "type": "scattergl"
                      }
                    ],
                    "scattermapbox": [
                      {
                        "marker": {
                          "colorbar": {
                            "outlinewidth": 0,
                            "ticks": ""
                          }
                        },
                        "type": "scattermapbox"
                      }
                    ],
                    "scatterpolar": [
                      {
                        "marker": {
                          "colorbar": {
                            "outlinewidth": 0,
                            "ticks": ""
                          }
                        },
                        "type": "scatterpolar"
                      }
                    ],
                    "scatterpolargl": [
                      {
                        "marker": {
                          "colorbar": {
                            "outlinewidth": 0,
                            "ticks": ""
                          }
                        },
                        "type": "scatterpolargl"
                      }
                    ],
                    "scatterternary": [
                      {
                        "marker": {
                          "colorbar": {
                            "outlinewidth": 0,
                            "ticks": ""
                          }
                        },
                        "type": "scatterternary"
                      }
                    ],
                    "surface": [
                      {
                        "colorbar": {
                          "outlinewidth": 0,
                          "ticks": ""
                        },
                        "colorscale": [
                          [
                            0,
                            "#0d0887"
                          ],
                          [
                            0.1111111111111111,
                            "#46039f"
                          ],
                          [
                            0.2222222222222222,
                            "#7201a8"
                          ],
                          [
                            0.3333333333333333,
                            "#9c179e"
                          ],
                          [
                            0.4444444444444444,
                            "#bd3786"
                          ],
                          [
                            0.5555555555555556,
                            "#d8576b"
                          ],
                          [
                            0.6666666666666666,
                            "#ed7953"
                          ],
                          [
                            0.7777777777777778,
                            "#fb9f3a"
                          ],
                          [
                            0.8888888888888888,
                            "#fdca26"
                          ],
                          [
                            1,
                            "#f0f921"
                          ]
                        ],
                        "type": "surface"
                      }
                    ],
                    "table": [
                      {
                        "cells": {
                          "fill": {
                            "color": "#EBF0F8"
                          },
                          "line": {
                            "color": "white"
                          }
                        },
                        "header": {
                          "fill": {
                            "color": "#C8D4E3"
                          },
                          "line": {
                            "color": "white"
                          }
                        },
                        "type": "table"
                      }
                    ]
                  },
                  "layout": {
                    "annotationdefaults": {
                      "arrowcolor": "#2a3f5f",
                      "arrowhead": 0,
                      "arrowwidth": 1
                    },
                    "autotypenumbers": "strict",
                    "coloraxis": {
                      "colorbar": {
                        "outlinewidth": 0,
                        "ticks": ""
                      }
                    },
                    "colorscale": {
                      "diverging": [
                        [
                          0,
                          "#8e0152"
                        ],
                        [
                          0.1,
                          "#c51b7d"
                        ],
                        [
                          0.2,
                          "#de77ae"
                        ],
                        [
                          0.3,
                          "#f1b6da"
                        ],
                        [
                          0.4,
                          "#fde0ef"
                        ],
                        [
                          0.5,
                          "#f7f7f7"
                        ],
                        [
                          0.6,
                          "#e6f5d0"
                        ],
                        [
                          0.7,
                          "#b8e186"
                        ],
                        [
                          0.8,
                          "#7fbc41"
                        ],
                        [
                          0.9,
                          "#4d9221"
                        ],
                        [
                          1,
                          "#276419"
                        ]
                      ],
                      "sequential": [
                        [
                          0,
                          "#0d0887"
                        ],
                        [
                          0.1111111111111111,
                          "#46039f"
                        ],
                        [
                          0.2222222222222222,
                          "#7201a8"
                        ],
                        [
                          0.3333333333333333,
                          "#9c179e"
                        ],
                        [
                          0.4444444444444444,
                          "#bd3786"
                        ],
                        [
                          0.5555555555555556,
                          "#d8576b"
                        ],
                        [
                          0.6666666666666666,
                          "#ed7953"
                        ],
                        [
                          0.7777777777777778,
                          "#fb9f3a"
                        ],
                        [
                          0.8888888888888888,
                          "#fdca26"
                        ],
                        [
                          1,
                          "#f0f921"
                        ]
                      ],
                      "sequentialminus": [
                        [
                          0,
                          "#0d0887"
                        ],
                        [
                          0.1111111111111111,
                          "#46039f"
                        ],
                        [
                          0.2222222222222222,
                          "#7201a8"
                        ],
                        [
                          0.3333333333333333,
                          "#9c179e"
                        ],
                        [
                          0.4444444444444444,
                          "#bd3786"
                        ],
                        [
                          0.5555555555555556,
                          "#d8576b"
                        ],
                        [
                          0.6666666666666666,
                          "#ed7953"
                        ],
                        [
                          0.7777777777777778,
                          "#fb9f3a"
                        ],
                        [
                          0.8888888888888888,
                          "#fdca26"
                        ],
                        [
                          1,
                          "#f0f921"
                        ]
                      ]
                    },
                    "colorway": [
                      "#636efa",
                      "#EF553B",
                      "#00cc96",
                      "#ab63fa",
                      "#FFA15A",
                      "#19d3f3",
                      "#FF6692",
                      "#B6E880",
                      "#FF97FF",
                      "#FECB52"
                    ],
                    "font": {
                      "color": "#2a3f5f"
                    },
                    "geo": {
                      "bgcolor": "white",
                      "lakecolor": "white",
                      "landcolor": "#E5ECF6",
                      "showlakes": true,
                      "showland": true,
                      "subunitcolor": "white"
                    },
                    "hoverlabel": {
                      "align": "left"
                    },
                    "hovermode": "closest",
                    "mapbox": {
                      "style": "light"
                    },
                    "paper_bgcolor": "white",
                    "plot_bgcolor": "#E5ECF6",
                    "polar": {
                      "angularaxis": {
                        "gridcolor": "white",
                        "linecolor": "white",
                        "ticks": ""
                      },
                      "bgcolor": "#E5ECF6",
                      "radialaxis": {
                        "gridcolor": "white",
                        "linecolor": "white",
                        "ticks": ""
                      }
                    },
                    "scene": {
                      "xaxis": {
                        "backgroundcolor": "#E5ECF6",
                        "gridcolor": "white",
                        "gridwidth": 2,
                        "linecolor": "white",
                        "showbackground": true,
                        "ticks": "",
                        "zerolinecolor": "white"
                      },
                      "yaxis": {
                        "backgroundcolor": "#E5ECF6",
                        "gridcolor": "white",
                        "gridwidth": 2,
                        "linecolor": "white",
                        "showbackground": true,
                        "ticks": "",
                        "zerolinecolor": "white"
                      },
                      "zaxis": {
                        "backgroundcolor": "#E5ECF6",
                        "gridcolor": "white",
                        "gridwidth": 2,
                        "linecolor": "white",
                        "showbackground": true,
                        "ticks": "",
                        "zerolinecolor": "white"
                      }
                    },
                    "shapedefaults": {
                      "line": {
                        "color": "#2a3f5f"
                      }
                    },
                    "ternary": {
                      "aaxis": {
                        "gridcolor": "white",
                        "linecolor": "white",
                        "ticks": ""
                      },
                      "baxis": {
                        "gridcolor": "white",
                        "linecolor": "white",
                        "ticks": ""
                      },
                      "bgcolor": "#E5ECF6",
                      "caxis": {
                        "gridcolor": "white",
                        "linecolor": "white",
                        "ticks": ""
                      }
                    },
                    "title": {
                      "x": 0.05
                    },
                    "xaxis": {
                      "automargin": true,
                      "gridcolor": "white",
                      "linecolor": "white",
                      "ticks": "",
                      "title": {
                        "standoff": 15
                      },
                      "zerolinecolor": "white",
                      "zerolinewidth": 2
                    },
                    "yaxis": {
                      "automargin": true,
                      "gridcolor": "white",
                      "linecolor": "white",
                      "ticks": "",
                      "title": {
                        "standoff": 15
                      },
                      "zerolinecolor": "white",
                      "zerolinewidth": 2
                    }
                  }
                },
                "title": {
                  "text": "Compound Annual Growth vs. Time spent (Average investments per day)"
                },
                "xaxis": {
                  "anchor": "y",
                  "domain": [
                    0,
                    1
                  ],
                  "title": {
                    "text": "sim1_avg_investments_per_day"
                  }
                },
                "yaxis": {
                  "anchor": "x",
                  "domain": [
                    0,
                    1
                  ],
                  "title": {
                    "text": "sim1_CAGR"
                  }
                }
              }
            }
          },
          "metadata": {},
          "output_type": "display_data"
        }
      ],
      "source": [
        "# Create the scatter plot\n",
        "fig = px.scatter(\n",
        "    df_sim1_results.dropna(),\n",
        "    x='sim1_avg_investments_per_day',\n",
        "    y='sim1_CAGR',\n",
        "    size='sim1_growth_capital_4y',  # Use the 'size' parameter for sim1_CAGR\n",
        "    text='prediction',\n",
        "    title='Compound Annual Growth vs. Time spent (Average investments per day)',\n",
        "    labels={'sim1_capital': 'Initial Capital Requirement', 'growth_capital_4y': '4-Year Capital Growth'}\n",
        ")\n",
        "\n",
        "# Update the layout to improve readability of the annotations\n",
        "fig.update_traces(textposition='top center')\n",
        "\n",
        "# Show the plot\n",
        "fig.show()"
      ]
    }
  ],
  "metadata": {
    "colab": {
      "collapsed_sections": [
        "_Uu1B9NuqP8w"
      ],
      "provenance": []
    },
    "kernelspec": {
      "display_name": "Python 3",
      "name": "python3"
    },
    "language_info": {
      "codemirror_mode": {
        "name": "ipython",
        "version": 3
      },
      "file_extension": ".py",
      "mimetype": "text/x-python",
      "name": "python",
      "nbconvert_exporter": "python",
      "pygments_lexer": "ipython3",
      "version": "3.11.5"
    }
  },
  "nbformat": 4,
  "nbformat_minor": 0
}
