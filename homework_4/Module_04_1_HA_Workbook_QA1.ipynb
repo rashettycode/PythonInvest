{
  "cells": [
    {
      "cell_type": "markdown",
      "metadata": {
        "id": "NgeNPyTWVVPj"
      },
      "source": [
        "# Imports and Installs"
      ]
    },
    {
      "cell_type": "code",
      "execution_count": 66,
      "metadata": {
        "colab": {
          "base_uri": "https://localhost:8080/"
        },
        "id": "ClEckHA-VPaj",
        "outputId": "a4362211-cd01-4d8d-c7cc-264359f1cef1"
      },
      "outputs": [
        {
          "name": "stdout",
          "output_type": "stream",
          "text": [
            "Requirement already satisfied: yfinance in c:\\users\\rahul\\anaconda3\\lib\\site-packages (0.2.28)\n",
            "Requirement already satisfied: pandas>=1.3.0 in c:\\users\\rahul\\anaconda3\\lib\\site-packages (from yfinance) (2.1.1)\n",
            "Requirement already satisfied: numpy>=1.16.5 in c:\\users\\rahul\\anaconda3\\lib\\site-packages (from yfinance) (1.24.3)\n",
            "Requirement already satisfied: requests>=2.31 in c:\\users\\rahul\\anaconda3\\lib\\site-packages (from yfinance) (2.31.0)\n",
            "Requirement already satisfied: multitasking>=0.0.7 in c:\\users\\rahul\\anaconda3\\lib\\site-packages (from yfinance) (0.0.11)\n",
            "Requirement already satisfied: lxml>=4.9.1 in c:\\users\\rahul\\anaconda3\\lib\\site-packages (from yfinance) (4.9.2)\n",
            "Requirement already satisfied: appdirs>=1.4.4 in c:\\users\\rahul\\anaconda3\\lib\\site-packages (from yfinance) (1.4.4)\n",
            "Requirement already satisfied: pytz>=2022.5 in c:\\users\\rahul\\anaconda3\\lib\\site-packages (from yfinance) (2022.7)\n",
            "Requirement already satisfied: frozendict>=2.3.4 in c:\\users\\rahul\\anaconda3\\lib\\site-packages (from yfinance) (2.3.8)\n",
            "Requirement already satisfied: beautifulsoup4>=4.11.1 in c:\\users\\rahul\\appdata\\roaming\\python\\python311\\site-packages (from yfinance) (4.12.3)\n",
            "Requirement already satisfied: html5lib>=1.1 in c:\\users\\rahul\\anaconda3\\lib\\site-packages (from yfinance) (1.1)\n",
            "Requirement already satisfied: soupsieve>1.2 in c:\\users\\rahul\\appdata\\roaming\\python\\python311\\site-packages (from beautifulsoup4>=4.11.1->yfinance) (2.5)\n",
            "Requirement already satisfied: six>=1.9 in c:\\users\\rahul\\appdata\\roaming\\python\\python311\\site-packages (from html5lib>=1.1->yfinance) (1.16.0)\n",
            "Requirement already satisfied: webencodings in c:\\users\\rahul\\appdata\\roaming\\python\\python311\\site-packages (from html5lib>=1.1->yfinance) (0.5.1)\n",
            "Requirement already satisfied: python-dateutil>=2.8.2 in c:\\users\\rahul\\appdata\\roaming\\python\\python311\\site-packages (from pandas>=1.3.0->yfinance) (2.8.2)\n",
            "Requirement already satisfied: tzdata>=2022.1 in c:\\users\\rahul\\anaconda3\\lib\\site-packages (from pandas>=1.3.0->yfinance) (2023.3)\n",
            "Requirement already satisfied: charset-normalizer<4,>=2 in c:\\users\\rahul\\anaconda3\\lib\\site-packages (from requests>=2.31->yfinance) (2.0.4)\n",
            "Requirement already satisfied: idna<4,>=2.5 in c:\\users\\rahul\\anaconda3\\lib\\site-packages (from requests>=2.31->yfinance) (3.4)\n",
            "Requirement already satisfied: urllib3<3,>=1.21.1 in c:\\users\\rahul\\anaconda3\\lib\\site-packages (from requests>=2.31->yfinance) (1.26.16)\n",
            "Requirement already satisfied: certifi>=2017.4.17 in c:\\users\\rahul\\anaconda3\\lib\\site-packages (from requests>=2.31->yfinance) (2023.7.22)\n"
          ]
        }
      ],
      "source": [
        "!pip install yfinance"
      ]
    },
    {
      "cell_type": "code",
      "execution_count": 67,
      "metadata": {
        "colab": {
          "base_uri": "https://localhost:8080/"
        },
        "id": "vX1S1BHdVXyc",
        "outputId": "0c8c06d7-cdde-4fb2-9a54-de15fd45d8db"
      },
      "outputs": [
        {
          "name": "stdout",
          "output_type": "stream",
          "text": [
            "Found existing installation: gdown 5.2.0\n",
            "Uninstalling gdown-5.2.0:\n",
            "  Successfully uninstalled gdown-5.2.0\n",
            "Collecting gdown\n",
            "  Obtaining dependency information for gdown from https://files.pythonhosted.org/packages/54/70/e07c381e6488a77094f04c85c9caf1c8008cdc30778f7019bc52e5285ef0/gdown-5.2.0-py3-none-any.whl.metadata\n",
            "  Using cached gdown-5.2.0-py3-none-any.whl.metadata (5.8 kB)\n",
            "Requirement already satisfied: beautifulsoup4 in c:\\users\\rahul\\appdata\\roaming\\python\\python311\\site-packages (from gdown) (4.12.3)\n",
            "Requirement already satisfied: filelock in c:\\users\\rahul\\anaconda3\\lib\\site-packages (from gdown) (3.9.0)\n",
            "Requirement already satisfied: requests[socks] in c:\\users\\rahul\\anaconda3\\lib\\site-packages (from gdown) (2.31.0)\n",
            "Requirement already satisfied: tqdm in c:\\users\\rahul\\anaconda3\\lib\\site-packages (from gdown) (4.65.0)\n",
            "Requirement already satisfied: soupsieve>1.2 in c:\\users\\rahul\\appdata\\roaming\\python\\python311\\site-packages (from beautifulsoup4->gdown) (2.5)\n",
            "Requirement already satisfied: charset-normalizer<4,>=2 in c:\\users\\rahul\\anaconda3\\lib\\site-packages (from requests[socks]->gdown) (2.0.4)\n",
            "Requirement already satisfied: idna<4,>=2.5 in c:\\users\\rahul\\anaconda3\\lib\\site-packages (from requests[socks]->gdown) (3.4)\n",
            "Requirement already satisfied: urllib3<3,>=1.21.1 in c:\\users\\rahul\\anaconda3\\lib\\site-packages (from requests[socks]->gdown) (1.26.16)\n",
            "Requirement already satisfied: certifi>=2017.4.17 in c:\\users\\rahul\\anaconda3\\lib\\site-packages (from requests[socks]->gdown) (2023.7.22)\n",
            "Requirement already satisfied: PySocks!=1.5.7,>=1.5.6 in c:\\users\\rahul\\anaconda3\\lib\\site-packages (from requests[socks]->gdown) (1.7.1)\n",
            "Requirement already satisfied: colorama in c:\\users\\rahul\\appdata\\roaming\\python\\python311\\site-packages (from tqdm->gdown) (0.4.6)\n",
            "Using cached gdown-5.2.0-py3-none-any.whl (18 kB)\n",
            "Installing collected packages: gdown\n",
            "Successfully installed gdown-5.2.0\n",
            "gdown 5.2.0 at C:\\Users\\rahul\\anaconda3\\Lib\\site-packages\n"
          ]
        }
      ],
      "source": [
        "# read files shared via google-drive-link\n",
        "# https://stackoverflow.com/questions/62759748/downloading-data-from-a-shared-google-drive-link-in-google-colab\n",
        "\n",
        "!pip uninstall gdown -y && pip install gdown\n",
        "!gdown -V"
      ]
    },
    {
      "cell_type": "code",
      "execution_count": 68,
      "metadata": {
        "id": "ZqeDMHR9VamL"
      },
      "outputs": [],
      "source": [
        "# IMPORTS\n",
        "import numpy as np\n",
        "import pandas as pd\n",
        "\n",
        "#Fin Data Sources\n",
        "import yfinance as yf\n",
        "import pandas_datareader as pdr\n",
        "\n",
        "#Data viz\n",
        "import plotly.graph_objs as go\n",
        "import plotly.graph_objects as go\n",
        "import plotly.express as px\n",
        "import matplotlib.pyplot as plt\n",
        "import seaborn as sns\n",
        "\n",
        "# measure time for ML HyperParams search\n",
        "import time\n",
        "from datetime import date\n",
        "\n",
        "# ML models and utils\n",
        "from sklearn.tree import DecisionTreeClassifier\n",
        "from sklearn.ensemble import RandomForestClassifier\n",
        "from sklearn.metrics import accuracy_score\n",
        "from sklearn.metrics import precision_score\n",
        "\n",
        "# Disable SettingWithCopyWarning\n",
        "pd.options.mode.chained_assignment = None  # default='warn'"
      ]
    },
    {
      "cell_type": "markdown",
      "metadata": {
        "id": "Z3wOUBm4V0D_"
      },
      "source": [
        "# 0) One DataFrame with Dummies\n",
        "* including newly defined \"month-week_of_month\""
      ]
    },
    {
      "cell_type": "markdown",
      "metadata": {
        "id": "hdTaoVoPV35S"
      },
      "source": [
        "## 0.1) Read and truncate data (last 25 years from 2000), define variable sets\n"
      ]
    },
    {
      "cell_type": "code",
      "execution_count": 4,
      "metadata": {
        "colab": {
          "base_uri": "https://localhost:8080/"
        },
        "id": "saQHmUeAV1Dk",
        "outputId": "dba47b85-3544-4249-d994-bd36fa7a918c"
      },
      "outputs": [
        {
          "name": "stdout",
          "output_type": "stream",
          "text": [
            "Downloading...\n",
            "From (original): https://drive.google.com/uc?id=1kNWWPi49td0EZhmi6LzNCa2ssC5IUxHP\n",
            "From (redirected): https://drive.google.com/uc?id=1kNWWPi49td0EZhmi6LzNCa2ssC5IUxHP&confirm=t&uuid=12bb2e7a-4b0b-4583-bf5d-2b9bf49d1951\n",
            "To: /content/stocks_df_combined_2024_05_07.parquet.brotli\n",
            "100% 119M/119M [00:01<00:00, 64.2MB/s]\n"
          ]
        }
      ],
      "source": [
        "# # https://stackoverflow.com/questions/62759748/downloading-data-from-a-shared-google-drive-link-in-google-colab\n",
        "# # truncated data from Module 2: https://drive.google.com/file/d/1m3Qisfs2XfWk6Sw_Uk5kHLWqwQ0q8SKb/view?usp=sharing\n",
        "# !gdown https://drive.google.com/file/d/1kNWWPi49td0EZhmi6LzNCa2ssC5IUxHP/view?usp=sharing --fuzzy -O /content/"
      ]
    },
    {
      "cell_type": "code",
      "execution_count": 69,
      "metadata": {
        "id": "wO4EVPkTV5ze"
      },
      "outputs": [],
      "source": [
        "# truncated\n",
        "# df = pd.read_parquet(\"/content/stocks_df_combined_trunc_2014_2023.parquet.brotli\", )\n",
        "\n",
        "# full dataset for 33 stocks\n",
        "df_full = pd.read_parquet(\"stocks_df_combined_2024_05_07.parquet.brotli\", )"
      ]
    },
    {
      "cell_type": "code",
      "execution_count": 70,
      "metadata": {
        "colab": {
          "base_uri": "https://localhost:8080/"
        },
        "id": "535cuVR8V-DS",
        "outputId": "0dfde3d4-0780-4e6e-a8e6-f0141ac2825d"
      },
      "outputs": [
        {
          "name": "stdout",
          "output_type": "stream",
          "text": [
            "<class 'pandas.core.frame.DataFrame'>\n",
            "Index: 221142 entries, 0 to 5426\n",
            "Columns: 202 entries, Open to growth_btc_usd_365d\n",
            "dtypes: datetime64[ns](3), float64(128), int32(64), int64(5), object(2)\n",
            "memory usage: 288.5+ MB\n"
          ]
        }
      ],
      "source": [
        "df_full.info()"
      ]
    },
    {
      "cell_type": "code",
      "execution_count": 71,
      "metadata": {
        "colab": {
          "base_uri": "https://localhost:8080/"
        },
        "id": "dslxEREBV-RU",
        "outputId": "9c8cc572-28d8-406e-b8df-ed68c4202bc9"
      },
      "outputs": [
        {
          "data": {
            "text/plain": [
              "['growth_1d',\n",
              " 'growth_3d',\n",
              " 'growth_7d',\n",
              " 'growth_30d',\n",
              " 'growth_90d',\n",
              " 'growth_365d',\n",
              " 'growth_dax_1d',\n",
              " 'growth_dax_3d',\n",
              " 'growth_dax_7d',\n",
              " 'growth_dax_30d',\n",
              " 'growth_dax_90d',\n",
              " 'growth_dax_365d',\n",
              " 'growth_snp500_1d',\n",
              " 'growth_snp500_3d',\n",
              " 'growth_snp500_7d',\n",
              " 'growth_snp500_30d',\n",
              " 'growth_snp500_90d',\n",
              " 'growth_snp500_365d',\n",
              " 'growth_dji_1d',\n",
              " 'growth_dji_3d',\n",
              " 'growth_dji_7d',\n",
              " 'growth_dji_30d',\n",
              " 'growth_dji_90d',\n",
              " 'growth_dji_365d',\n",
              " 'growth_epi_1d',\n",
              " 'growth_epi_3d',\n",
              " 'growth_epi_7d',\n",
              " 'growth_epi_30d',\n",
              " 'growth_epi_90d',\n",
              " 'growth_epi_365d',\n",
              " 'growth_gold_1d',\n",
              " 'growth_gold_3d',\n",
              " 'growth_gold_7d',\n",
              " 'growth_gold_30d',\n",
              " 'growth_gold_90d',\n",
              " 'growth_gold_365d',\n",
              " 'growth_wti_oil_1d',\n",
              " 'growth_wti_oil_3d',\n",
              " 'growth_wti_oil_7d',\n",
              " 'growth_wti_oil_30d',\n",
              " 'growth_wti_oil_90d',\n",
              " 'growth_wti_oil_365d',\n",
              " 'growth_brent_oil_1d',\n",
              " 'growth_brent_oil_3d',\n",
              " 'growth_brent_oil_7d',\n",
              " 'growth_brent_oil_30d',\n",
              " 'growth_brent_oil_90d',\n",
              " 'growth_brent_oil_365d',\n",
              " 'growth_btc_usd_1d',\n",
              " 'growth_btc_usd_3d',\n",
              " 'growth_btc_usd_7d',\n",
              " 'growth_btc_usd_30d',\n",
              " 'growth_btc_usd_90d',\n",
              " 'growth_btc_usd_365d']"
            ]
          },
          "execution_count": 71,
          "metadata": {},
          "output_type": "execute_result"
        }
      ],
      "source": [
        "# growth indicators (but not future growth)\n",
        "GROWTH = [g for g in df_full.keys() if (g.find('growth_')==0)&(g.find('future')<0)]\n",
        "GROWTH"
      ]
    },
    {
      "cell_type": "code",
      "execution_count": 72,
      "metadata": {
        "id": "OhBqWGM6WAfs"
      },
      "outputs": [],
      "source": [
        "# leaving only Volume ==> generate ln(Volume)\n",
        "OHLCV = ['Open','High','Low','Close','Adj Close_x','Volume']"
      ]
    },
    {
      "cell_type": "code",
      "execution_count": 73,
      "metadata": {
        "id": "_ip2ve25WCvM"
      },
      "outputs": [],
      "source": [
        "CATEGORICAL = ['Month', 'Weekday', 'Ticker', 'ticker_type']"
      ]
    },
    {
      "cell_type": "code",
      "execution_count": 74,
      "metadata": {
        "colab": {
          "base_uri": "https://localhost:8080/"
        },
        "id": "pPn7cWXvi4SB",
        "outputId": "e8de28d1-436c-4f39-c584-990e96989c8b"
      },
      "outputs": [
        {
          "data": {
            "text/plain": [
              "count    220977.000000\n",
              "mean          1.004630\n",
              "std           0.051592\n",
              "min           0.412383\n",
              "25%           0.979594\n",
              "50%           1.003802\n",
              "75%           1.028273\n",
              "max           3.018887\n",
              "Name: growth_future_5d, dtype: float64"
            ]
          },
          "execution_count": 74,
          "metadata": {},
          "output_type": "execute_result"
        }
      ],
      "source": [
        "df_full.growth_future_5d.describe()"
      ]
    },
    {
      "cell_type": "code",
      "execution_count": 75,
      "metadata": {
        "colab": {
          "base_uri": "https://localhost:8080/"
        },
        "id": "SLUhJQ79jlse",
        "outputId": "8863b575-998d-4fe1-afe5-402a5719da10"
      },
      "outputs": [
        {
          "data": {
            "text/plain": [
              "0.5411319423718697"
            ]
          },
          "execution_count": 75,
          "metadata": {},
          "output_type": "execute_result"
        }
      ],
      "source": [
        "# 54% of data records have positive future growth>0\n",
        "df_full.is_positive_growth_5d_future.mean()"
      ]
    },
    {
      "cell_type": "code",
      "execution_count": 76,
      "metadata": {
        "colab": {
          "base_uri": "https://localhost:8080/"
        },
        "id": "Mf_eMiRVjGHE",
        "outputId": "7e415ab6-996b-4663-fd3d-8ed6e5748186"
      },
      "outputs": [
        {
          "data": {
            "text/plain": [
              "1.0202201074172228"
            ]
          },
          "execution_count": 76,
          "metadata": {},
          "output_type": "execute_result"
        }
      ],
      "source": [
        "# moving to strong growth (54% -> ~ 32%)\n",
        "df_full.growth_future_5d.quantile(0.68)"
      ]
    },
    {
      "cell_type": "code",
      "execution_count": 13,
      "metadata": {
        "id": "8imLlR6JdwTE"
      },
      "outputs": [],
      "source": [
        "# TODO HA4 Q3: Define a new variable 'is_strong_positive_growth_5d_future' according to the task\n",
        "#  it will be automatically added the the list TO_PREDICT"
      ]
    },
    {
      "cell_type": "code",
      "execution_count": 77,
      "metadata": {
        "colab": {
          "base_uri": "https://localhost:8080/"
        },
        "id": "bbXsoQBRWDp8",
        "outputId": "0cd48988-7e01-434c-f594-6affa1ba8b9e"
      },
      "outputs": [
        {
          "data": {
            "text/plain": [
              "['growth_future_5d', 'is_positive_growth_5d_future']"
            ]
          },
          "execution_count": 77,
          "metadata": {},
          "output_type": "execute_result"
        }
      ],
      "source": [
        "TO_PREDICT = [g for g in df_full.keys() if (g.find('future')>=0)]\n",
        "TO_PREDICT"
      ]
    },
    {
      "cell_type": "code",
      "execution_count": 78,
      "metadata": {
        "colab": {
          "base_uri": "https://localhost:8080/"
        },
        "id": "7CbNbrJdWFQc",
        "outputId": "2c993a43-cdd0-4524-87bc-e036762be18b"
      },
      "outputs": [
        {
          "data": {
            "text/plain": [
              "['Year',\n",
              " 'Date',\n",
              " 'index_x',\n",
              " 'index_y',\n",
              " 'index',\n",
              " 'Quarter',\n",
              " 'Adj Close_y',\n",
              " 'Month',\n",
              " 'Weekday',\n",
              " 'Ticker',\n",
              " 'ticker_type',\n",
              " 'Open',\n",
              " 'High',\n",
              " 'Low',\n",
              " 'Close',\n",
              " 'Adj Close_x',\n",
              " 'Volume']"
            ]
          },
          "execution_count": 78,
          "metadata": {},
          "output_type": "execute_result"
        }
      ],
      "source": [
        "TO_DROP = ['Year','Date','index_x', 'index_y', 'index', 'Quarter','Adj Close_y'] + CATEGORICAL + OHLCV\n",
        "TO_DROP"
      ]
    },
    {
      "cell_type": "code",
      "execution_count": 79,
      "metadata": {
        "id": "CNc5uwyFWG3M"
      },
      "outputs": [
        {
          "name": "stderr",
          "output_type": "stream",
          "text": [
            "C:\\Users\\rahul\\AppData\\Local\\Temp\\ipykernel_91772\\2841410488.py:2: RuntimeWarning:\n",
            "\n",
            "divide by zero encountered in log\n",
            "\n"
          ]
        }
      ],
      "source": [
        "# let's define on more custom numerical features\n",
        "df_full['ln_volume'] = df_full.Volume.apply(lambda x: np.log(x))"
      ]
    },
    {
      "cell_type": "code",
      "execution_count": 80,
      "metadata": {
        "id": "XC4T9xLmWJa7"
      },
      "outputs": [],
      "source": [
        "# manually defined features\n",
        "CUSTOM_NUMERICAL = ['SMA10', 'SMA20', 'growing_moving_average', 'high_minus_low_relative','volatility', 'ln_volume']"
      ]
    },
    {
      "cell_type": "code",
      "execution_count": 81,
      "metadata": {
        "id": "C41u7lvzWLJE"
      },
      "outputs": [],
      "source": [
        "# All Supported Ta-lib indicators: https://github.com/TA-Lib/ta-lib-python/blob/master/docs/funcs.md\n",
        "\n",
        "TECHNICAL_INDICATORS = ['adx', 'adxr', 'apo', 'aroon_1','aroon_2', 'aroonosc',\n",
        " 'bop', 'cci', 'cmo','dx', 'macd', 'macdsignal', 'macdhist', 'macd_ext',\n",
        " 'macdsignal_ext', 'macdhist_ext', 'macd_fix', 'macdsignal_fix',\n",
        " 'macdhist_fix', 'mfi', 'minus_di', 'mom', 'plus_di', 'dm', 'ppo',\n",
        " 'roc', 'rocp', 'rocr', 'rocr100', 'rsi', 'slowk', 'slowd', 'fastk',\n",
        " 'fastd', 'fastk_rsi', 'fastd_rsi', 'trix', 'ultosc', 'willr',\n",
        " 'ad', 'adosc', 'obv', 'atr', 'natr', 'ht_dcperiod', 'ht_dcphase',\n",
        " 'ht_phasor_inphase', 'ht_phasor_quadrature', 'ht_sine_sine', 'ht_sine_leadsine',\n",
        " 'ht_trendmod', 'avgprice', 'medprice', 'typprice', 'wclprice']"
      ]
    },
    {
      "cell_type": "code",
      "execution_count": 82,
      "metadata": {
        "colab": {
          "base_uri": "https://localhost:8080/"
        },
        "id": "9sNnG3eIWM9r",
        "outputId": "b725c9c1-9ea0-4bef-e7ca-79092eb6eba1"
      },
      "outputs": [
        {
          "name": "stdout",
          "output_type": "stream",
          "text": [
            "Technical patterns count = 61, examples = ['cdl2crows', 'cdl3blackrows', 'cdl3inside', 'cdl3linestrike', 'cdl3outside']\n"
          ]
        }
      ],
      "source": [
        "TECHNICAL_PATTERNS = [g for g in df_full.keys() if g.find('cdl')>=0]\n",
        "print(f'Technical patterns count = {len(TECHNICAL_PATTERNS)}, examples = {TECHNICAL_PATTERNS[0:5]}')"
      ]
    },
    {
      "cell_type": "code",
      "execution_count": 83,
      "metadata": {
        "id": "6rBloicrWOYL"
      },
      "outputs": [],
      "source": [
        "MACRO = ['gdppot_us_yoy', 'gdppot_us_qoq', 'cpi_core_yoy', 'cpi_core_mom', 'FEDFUNDS',\n",
        " 'DGS1', 'DGS5', 'DGS10']"
      ]
    },
    {
      "cell_type": "code",
      "execution_count": 84,
      "metadata": {
        "id": "t_e3W8kRWQRr"
      },
      "outputs": [],
      "source": [
        "NUMERICAL = GROWTH + TECHNICAL_INDICATORS + TECHNICAL_PATTERNS + CUSTOM_NUMERICAL + MACRO"
      ]
    },
    {
      "cell_type": "code",
      "execution_count": 85,
      "metadata": {
        "colab": {
          "base_uri": "https://localhost:8080/"
        },
        "id": "QAK0EbpDWRK7",
        "outputId": "012db50c-9f5d-4dff-895a-5e5606e3710e"
      },
      "outputs": [
        {
          "data": {
            "text/plain": [
              "[]"
            ]
          },
          "execution_count": 85,
          "metadata": {},
          "output_type": "execute_result"
        }
      ],
      "source": [
        "# CHECK: NO OTHER INDICATORS LEFT\n",
        "OTHER = [k for k in df_full.keys() if k not in OHLCV + CATEGORICAL + NUMERICAL + TO_DROP + TO_PREDICT]\n",
        "OTHER"
      ]
    },
    {
      "cell_type": "code",
      "execution_count": 86,
      "metadata": {
        "colab": {
          "base_uri": "https://localhost:8080/"
        },
        "id": "x-WWdNqjWSY7",
        "outputId": "1e1f63d4-91c1-46d5-bdbb-c0af81e406e6"
      },
      "outputs": [
        {
          "data": {
            "text/plain": [
              "33"
            ]
          },
          "execution_count": 86,
          "metadata": {},
          "output_type": "execute_result"
        }
      ],
      "source": [
        "df_full.Ticker.nunique()"
      ]
    },
    {
      "cell_type": "code",
      "execution_count": 87,
      "metadata": {
        "colab": {
          "base_uri": "https://localhost:8080/"
        },
        "id": "_44ozBryWTmD",
        "outputId": "2f770fee-1114-4dc4-a2af-f528d71c2f1f"
      },
      "outputs": [
        {
          "name": "stdout",
          "output_type": "stream",
          "text": [
            "<class 'pandas.core.frame.DataFrame'>\n",
            "Index: 182675 entries, 3490 to 5426\n",
            "Columns: 203 entries, Open to ln_volume\n",
            "dtypes: datetime64[ns](3), float64(129), int32(64), int64(5), object(2)\n",
            "memory usage: 239.7+ MB\n"
          ]
        }
      ],
      "source": [
        "# truncated df_full with 25 years of data (and defined growth variables)\n",
        "df = df_full[df_full.Date>='2000-01-01']\n",
        "df.info()"
      ]
    },
    {
      "cell_type": "markdown",
      "metadata": {
        "id": "pDASl99NXU5e"
      },
      "source": [
        "## 0.2) Dummies"
      ]
    },
    {
      "cell_type": "code",
      "execution_count": 88,
      "metadata": {
        "id": "CaRSY88HWU-D"
      },
      "outputs": [],
      "source": [
        "# dummy variables can't be generated from Date and numeric variables ==> convert to STRING (to define groups for Dummies)\n",
        "df.loc[:,'Month'] = df.Month.dt.strftime('%B')\n",
        "df.loc[:,'Weekday'] = df.Weekday.astype(str)"
      ]
    },
    {
      "cell_type": "markdown",
      "metadata": {
        "id": "qSRpQdx8Y97_"
      },
      "source": [
        "### 0.2.1) Create a new string column 'month_wom' (month_week_of_month)"
      ]
    },
    {
      "cell_type": "code",
      "execution_count": 89,
      "metadata": {
        "id": "6DQAmZvUXXLe"
      },
      "outputs": [],
      "source": [
        "# define week of month\n",
        "df.loc[:,'wom'] = df.Date.apply(lambda d: (d.day-1)//7 + 1)\n",
        "# convert to string\n",
        "df.loc[:,'wom'] = df.loc[:,'wom'].astype(str)"
      ]
    },
    {
      "cell_type": "code",
      "execution_count": 90,
      "metadata": {
        "colab": {
          "base_uri": "https://localhost:8080/"
        },
        "id": "C5FL1MRVXjgr",
        "outputId": "d5c71dac-ec26-4cdd-eb2b-d21d2633dafc"
      },
      "outputs": [
        {
          "data": {
            "text/plain": [
              "wom\n",
              "2    42817\n",
              "3    42007\n",
              "4    41715\n",
              "1    41490\n",
              "5    14646\n",
              "Name: count, dtype: int64"
            ]
          },
          "execution_count": 90,
          "metadata": {},
          "output_type": "execute_result"
        }
      ],
      "source": [
        "# check values for week-of-month (should be between 1 and 5)\n",
        "df.wom.value_counts()"
      ]
    },
    {
      "cell_type": "code",
      "execution_count": 91,
      "metadata": {
        "id": "EugKIiAwXkqN"
      },
      "outputs": [],
      "source": [
        "df.loc[:,'month_wom'] = df.Month + '_w' + df.wom"
      ]
    },
    {
      "cell_type": "code",
      "execution_count": 92,
      "metadata": {
        "colab": {
          "base_uri": "https://localhost:8080/"
        },
        "id": "31WAyGcEXmHt",
        "outputId": "50f64bbb-34b1-47d8-f371-44211d47c1c6"
      },
      "outputs": [
        {
          "data": {
            "text/plain": [
              "month_wom\n",
              "February_w1    3705\n",
              "January_w2     3686\n",
              "Name: count, dtype: int64"
            ]
          },
          "execution_count": 92,
          "metadata": {},
          "output_type": "execute_result"
        }
      ],
      "source": [
        "# examples of encoding\n",
        "df.month_wom.value_counts()[0:2]"
      ]
    },
    {
      "cell_type": "code",
      "execution_count": 93,
      "metadata": {
        "id": "Yu8tCw_lXnXd"
      },
      "outputs": [],
      "source": [
        "# del wom temp variable\n",
        "del df['wom']"
      ]
    },
    {
      "cell_type": "markdown",
      "metadata": {
        "id": "-oaBtlVfZBhV"
      },
      "source": [
        "### 0.2.2) Generate all dummies"
      ]
    },
    {
      "cell_type": "code",
      "execution_count": 94,
      "metadata": {
        "colab": {
          "base_uri": "https://localhost:8080/"
        },
        "id": "69ep2F0mXpN8",
        "outputId": "ee65257d-66db-4bba-fdab-71eb5bc94cf4"
      },
      "outputs": [
        {
          "data": {
            "text/plain": [
              "['Month', 'Weekday', 'Ticker', 'ticker_type', 'month_wom']"
            ]
          },
          "execution_count": 94,
          "metadata": {},
          "output_type": "execute_result"
        }
      ],
      "source": [
        "# what are the categorical features?\n",
        "CATEGORICAL.append('month_wom')\n",
        "CATEGORICAL"
      ]
    },
    {
      "cell_type": "code",
      "execution_count": 95,
      "metadata": {
        "id": "vmC3oav8ZGHJ"
      },
      "outputs": [],
      "source": [
        "# Generate dummy variables (no need for bool, let's have int32 instead)\n",
        "dummy_variables = pd.get_dummies(df[CATEGORICAL], dtype='int32')"
      ]
    },
    {
      "cell_type": "code",
      "execution_count": 96,
      "metadata": {
        "colab": {
          "base_uri": "https://localhost:8080/"
        },
        "id": "oY0lIQZhZHOU",
        "outputId": "077e615e-2447-48cd-9929-b36088088b75"
      },
      "outputs": [
        {
          "name": "stdout",
          "output_type": "stream",
          "text": [
            "<class 'pandas.core.frame.DataFrame'>\n",
            "Index: 182675 entries, 3490 to 5426\n",
            "Columns: 115 entries, Month_April to month_wom_September_w5\n",
            "dtypes: int32(115)\n",
            "memory usage: 81.5 MB\n"
          ]
        }
      ],
      "source": [
        "dummy_variables.info()"
      ]
    },
    {
      "cell_type": "code",
      "execution_count": 97,
      "metadata": {
        "colab": {
          "base_uri": "https://localhost:8080/"
        },
        "id": "oLhfvOTSZIok",
        "outputId": "ac2c4ba7-f654-40a4-b820-4a0f64b15e3a"
      },
      "outputs": [
        {
          "data": {
            "text/plain": [
              "['Month_April',\n",
              " 'Month_August',\n",
              " 'Month_December',\n",
              " 'Month_February',\n",
              " 'Month_January',\n",
              " 'Month_July',\n",
              " 'Month_June',\n",
              " 'Month_March',\n",
              " 'Month_May',\n",
              " 'Month_November',\n",
              " 'Month_October',\n",
              " 'Month_September',\n",
              " 'Weekday_0',\n",
              " 'Weekday_1',\n",
              " 'Weekday_2',\n",
              " 'Weekday_3',\n",
              " 'Weekday_4',\n",
              " 'Weekday_5',\n",
              " 'Weekday_6',\n",
              " 'Ticker_AAPL',\n",
              " 'Ticker_ACN',\n",
              " 'Ticker_AMZN',\n",
              " 'Ticker_ASML',\n",
              " 'Ticker_AVGO',\n",
              " 'Ticker_BHARTIARTL.NS',\n",
              " 'Ticker_BRK-B',\n",
              " 'Ticker_CDI.PA',\n",
              " 'Ticker_GOOG',\n",
              " 'Ticker_HDB',\n",
              " 'Ticker_HINDUNILVR.NS',\n",
              " 'Ticker_IBN',\n",
              " 'Ticker_IDEXY',\n",
              " 'Ticker_INFY',\n",
              " 'Ticker_ITC.NS',\n",
              " 'Ticker_JPM',\n",
              " 'Ticker_LICI.NS',\n",
              " 'Ticker_LLY',\n",
              " 'Ticker_LT.NS',\n",
              " 'Ticker_MC.PA',\n",
              " 'Ticker_META',\n",
              " 'Ticker_MSFT',\n",
              " 'Ticker_NVDA',\n",
              " 'Ticker_NVO',\n",
              " 'Ticker_OR.PA',\n",
              " 'Ticker_RELIANCE.NS',\n",
              " 'Ticker_RMS.PA',\n",
              " 'Ticker_SAP',\n",
              " 'Ticker_SBIN.NS',\n",
              " 'Ticker_SIE.DE',\n",
              " 'Ticker_TCS.NS',\n",
              " 'Ticker_TTE',\n",
              " 'Ticker_V',\n",
              " 'ticker_type_EU',\n",
              " 'ticker_type_INDIA',\n",
              " 'ticker_type_US',\n",
              " 'month_wom_April_w1',\n",
              " 'month_wom_April_w2',\n",
              " 'month_wom_April_w3',\n",
              " 'month_wom_April_w4',\n",
              " 'month_wom_April_w5',\n",
              " 'month_wom_August_w1',\n",
              " 'month_wom_August_w2',\n",
              " 'month_wom_August_w3',\n",
              " 'month_wom_August_w4',\n",
              " 'month_wom_August_w5',\n",
              " 'month_wom_December_w1',\n",
              " 'month_wom_December_w2',\n",
              " 'month_wom_December_w3',\n",
              " 'month_wom_December_w4',\n",
              " 'month_wom_December_w5',\n",
              " 'month_wom_February_w1',\n",
              " 'month_wom_February_w2',\n",
              " 'month_wom_February_w3',\n",
              " 'month_wom_February_w4',\n",
              " 'month_wom_February_w5',\n",
              " 'month_wom_January_w1',\n",
              " 'month_wom_January_w2',\n",
              " 'month_wom_January_w3',\n",
              " 'month_wom_January_w4',\n",
              " 'month_wom_January_w5',\n",
              " 'month_wom_July_w1',\n",
              " 'month_wom_July_w2',\n",
              " 'month_wom_July_w3',\n",
              " 'month_wom_July_w4',\n",
              " 'month_wom_July_w5',\n",
              " 'month_wom_June_w1',\n",
              " 'month_wom_June_w2',\n",
              " 'month_wom_June_w3',\n",
              " 'month_wom_June_w4',\n",
              " 'month_wom_June_w5',\n",
              " 'month_wom_March_w1',\n",
              " 'month_wom_March_w2',\n",
              " 'month_wom_March_w3',\n",
              " 'month_wom_March_w4',\n",
              " 'month_wom_March_w5',\n",
              " 'month_wom_May_w1',\n",
              " 'month_wom_May_w2',\n",
              " 'month_wom_May_w3',\n",
              " 'month_wom_May_w4',\n",
              " 'month_wom_May_w5',\n",
              " 'month_wom_November_w1',\n",
              " 'month_wom_November_w2',\n",
              " 'month_wom_November_w3',\n",
              " 'month_wom_November_w4',\n",
              " 'month_wom_November_w5',\n",
              " 'month_wom_October_w1',\n",
              " 'month_wom_October_w2',\n",
              " 'month_wom_October_w3',\n",
              " 'month_wom_October_w4',\n",
              " 'month_wom_October_w5',\n",
              " 'month_wom_September_w1',\n",
              " 'month_wom_September_w2',\n",
              " 'month_wom_September_w3',\n",
              " 'month_wom_September_w4',\n",
              " 'month_wom_September_w5']"
            ]
          },
          "execution_count": 97,
          "metadata": {},
          "output_type": "execute_result"
        }
      ],
      "source": [
        "# get dummies names in a list\n",
        "DUMMIES = dummy_variables.keys().to_list()\n",
        "DUMMIES"
      ]
    },
    {
      "cell_type": "code",
      "execution_count": 98,
      "metadata": {
        "colab": {
          "base_uri": "https://localhost:8080/"
        },
        "id": "6tOjmWbYZ4-R",
        "outputId": "11915af1-e201-47a6-cb01-118ebf32c9c2"
      },
      "outputs": [
        {
          "data": {
            "text/plain": [
              "115"
            ]
          },
          "execution_count": 98,
          "metadata": {},
          "output_type": "execute_result"
        }
      ],
      "source": [
        "len(DUMMIES)"
      ]
    },
    {
      "cell_type": "code",
      "execution_count": 99,
      "metadata": {
        "id": "ue-ErnKBZ6XZ"
      },
      "outputs": [],
      "source": [
        "# Concatenate the dummy variables with the original DataFrame\n",
        "df_with_dummies = pd.concat([df, dummy_variables], axis=1)"
      ]
    },
    {
      "cell_type": "code",
      "execution_count": 100,
      "metadata": {
        "colab": {
          "base_uri": "https://localhost:8080/"
        },
        "id": "eSYdvRh_Z8Kq",
        "outputId": "c0d5bd01-577a-4974-c384-9f3e7707cdd9"
      },
      "outputs": [
        {
          "name": "stdout",
          "output_type": "stream",
          "text": [
            "<class 'pandas.core.frame.DataFrame'>\n",
            "Index: 182675 entries, 3490 to 5426\n",
            "Columns: 299 entries, growth_1d to month_wom_September_w5\n",
            "dtypes: float64(121), int32(177), int64(1)\n",
            "memory usage: 294.8 MB\n"
          ]
        }
      ],
      "source": [
        "df_with_dummies[NUMERICAL+DUMMIES].info()"
      ]
    },
    {
      "cell_type": "markdown",
      "metadata": {
        "id": "P5Yx6gCfZP0A"
      },
      "source": [
        "### 0.2.3 Define \"DUMMIES_SHORT\""
      ]
    },
    {
      "cell_type": "code",
      "execution_count": 101,
      "metadata": {
        "id": "csXwAWouZWJE"
      },
      "outputs": [],
      "source": [
        "# TODO HA4 Q2: Define DUMMIES_SHORT from DUMMIES -- all elements: without month_* and Ticker_*\n",
        "DUMMIES_SHORT=[]"
      ]
    },
    {
      "cell_type": "code",
      "execution_count": 102,
      "metadata": {
        "colab": {
          "base_uri": "https://localhost:8080/"
        },
        "id": "lVK6iJMcdAQX",
        "outputId": "f3bba6b0-cc04-4a2f-9527-c8861d6f0ffb"
      },
      "outputs": [
        {
          "name": "stdout",
          "output_type": "stream",
          "text": [
            "<class 'pandas.core.frame.DataFrame'>\n",
            "Index: 182675 entries, 3490 to 5426\n",
            "Columns: 184 entries, growth_1d to DGS10\n",
            "dtypes: float64(121), int32(62), int64(1)\n",
            "memory usage: 214.6 MB\n"
          ]
        }
      ],
      "source": [
        "# now check the size of the dataset\n",
        "df_with_dummies[NUMERICAL+DUMMIES_SHORT].info()"
      ]
    },
    {
      "cell_type": "markdown",
      "metadata": {
        "id": "4PlNTgNRZqKE"
      },
      "source": [
        "### 0.2.4) Temporal split"
      ]
    },
    {
      "cell_type": "code",
      "execution_count": 103,
      "metadata": {
        "id": "JgKjTey_Ztao"
      },
      "outputs": [],
      "source": [
        "def temporal_split(df, min_date, max_date, train_prop=0.7, val_prop=0.15, test_prop=0.15):\n",
        "    \"\"\"\n",
        "    Splits a DataFrame into three buckets based on the temporal order of the 'Date' column.\n",
        "\n",
        "    Args:\n",
        "        df (DataFrame): The DataFrame to split.\n",
        "        min_date (str or Timestamp): Minimum date in the DataFrame.\n",
        "        max_date (str or Timestamp): Maximum date in the DataFrame.\n",
        "        train_prop (float): Proportion of data for training set (default: 0.7).\n",
        "        val_prop (float): Proportion of data for validation set (default: 0.15).\n",
        "        test_prop (float): Proportion of data for test set (default: 0.15).\n",
        "\n",
        "    Returns:\n",
        "        DataFrame: The input DataFrame with a new column 'split' indicating the split for each row.\n",
        "    \"\"\"\n",
        "    # Define the date intervals\n",
        "    train_end = min_date + pd.Timedelta(days=(max_date - min_date).days * train_prop)\n",
        "    val_end = train_end + pd.Timedelta(days=(max_date - min_date).days * val_prop)\n",
        "\n",
        "    # Assign split labels based on date ranges\n",
        "    split_labels = []\n",
        "    for date in df['Date']:\n",
        "        if date <= train_end:\n",
        "            split_labels.append('train')\n",
        "        elif date <= val_end:\n",
        "            split_labels.append('validation')\n",
        "        else:\n",
        "            split_labels.append('test')\n",
        "\n",
        "    # Add 'split' column to the DataFrame\n",
        "    df['split'] = split_labels\n",
        "\n",
        "    return df"
      ]
    },
    {
      "cell_type": "code",
      "execution_count": 104,
      "metadata": {
        "id": "uxEHgYXSZyQr"
      },
      "outputs": [],
      "source": [
        "min_date_df = df_with_dummies.Date.min()\n",
        "max_date_df = df_with_dummies.Date.max()\n",
        "\n",
        "df_with_dummies = temporal_split(df_with_dummies,\n",
        "                                 min_date = min_date_df,\n",
        "                                 max_date = max_date_df)"
      ]
    },
    {
      "cell_type": "code",
      "execution_count": 105,
      "metadata": {
        "colab": {
          "base_uri": "https://localhost:8080/"
        },
        "id": "Tr-hylcUcxrp",
        "outputId": "37487f2b-b259-4ca8-9aaf-c9af75a4987f"
      },
      "outputs": [
        {
          "data": {
            "text/plain": [
              "split\n",
              "train         0.675834\n",
              "test          0.163290\n",
              "validation    0.160876\n",
              "Name: count, dtype: float64"
            ]
          },
          "execution_count": 105,
          "metadata": {},
          "output_type": "execute_result"
        }
      ],
      "source": [
        "# the split is approximate!\n",
        "  # as tickers can have a different history\n",
        "df_with_dummies['split'].value_counts()/len(df_with_dummies)"
      ]
    },
    {
      "cell_type": "code",
      "execution_count": 106,
      "metadata": {
        "id": "Y4cIgjawcx5J"
      },
      "outputs": [],
      "source": [
        "# remove the \"segmentation\" problem (warning message on df performance after many joins and data transformations)\n",
        "new_df = df_with_dummies.copy()"
      ]
    },
    {
      "cell_type": "code",
      "execution_count": 107,
      "metadata": {
        "colab": {
          "base_uri": "https://localhost:8080/",
          "height": 173
        },
        "id": "0Q7X54t2dXAY",
        "outputId": "3f0851c0-3a62-4734-d729-506074cdd00b"
      },
      "outputs": [
        {
          "data": {
            "text/html": [
              "<div>\n",
              "<style scoped>\n",
              "    .dataframe tbody tr th:only-of-type {\n",
              "        vertical-align: middle;\n",
              "    }\n",
              "\n",
              "    .dataframe tbody tr th {\n",
              "        vertical-align: top;\n",
              "    }\n",
              "\n",
              "    .dataframe thead th {\n",
              "        text-align: right;\n",
              "    }\n",
              "</style>\n",
              "<table border=\"1\" class=\"dataframe\">\n",
              "  <thead>\n",
              "    <tr style=\"text-align: right;\">\n",
              "      <th></th>\n",
              "      <th>min</th>\n",
              "      <th>count</th>\n",
              "      <th>max</th>\n",
              "    </tr>\n",
              "    <tr>\n",
              "      <th>split</th>\n",
              "      <th></th>\n",
              "      <th></th>\n",
              "      <th></th>\n",
              "    </tr>\n",
              "  </thead>\n",
              "  <tbody>\n",
              "    <tr>\n",
              "      <th>test</th>\n",
              "      <td>2020-09-14</td>\n",
              "      <td>29829</td>\n",
              "      <td>2024-05-07</td>\n",
              "    </tr>\n",
              "    <tr>\n",
              "      <th>train</th>\n",
              "      <td>2000-01-03</td>\n",
              "      <td>123458</td>\n",
              "      <td>2017-01-16</td>\n",
              "    </tr>\n",
              "    <tr>\n",
              "      <th>validation</th>\n",
              "      <td>2017-01-17</td>\n",
              "      <td>29388</td>\n",
              "      <td>2020-09-11</td>\n",
              "    </tr>\n",
              "  </tbody>\n",
              "</table>\n",
              "</div>"
            ],
            "text/plain": [
              "                  min   count        max\n",
              "split                                   \n",
              "test       2020-09-14   29829 2024-05-07\n",
              "train      2000-01-03  123458 2017-01-16\n",
              "validation 2017-01-17   29388 2020-09-11"
            ]
          },
          "execution_count": 107,
          "metadata": {},
          "output_type": "execute_result"
        }
      ],
      "source": [
        "# EXACT DATES for the split:\n",
        "# time split on train/validation/test: FIXED dates of split, approx. 70%, 15%, 15% split\n",
        "new_df.groupby(['split'])['Date'].agg({'min','max','count'})"
      ]
    },
    {
      "cell_type": "code",
      "execution_count": 108,
      "metadata": {
        "colab": {
          "base_uri": "https://localhost:8080/"
        },
        "id": "p4i13Gt6fRxn",
        "outputId": "61f7fc1f-7873-4cae-b7bd-57b8537c3975"
      },
      "outputs": [
        {
          "name": "stdout",
          "output_type": "stream",
          "text": [
            "<class 'pandas.core.frame.DataFrame'>\n",
            "Index: 182675 entries, 3490 to 5426\n",
            "Columns: 320 entries, Open to split\n",
            "dtypes: datetime64[ns](2), float64(129), int32(178), int64(5), object(6)\n",
            "memory usage: 323.3+ MB\n"
          ]
        }
      ],
      "source": [
        "# Full dataframe (transformed and truncated to 25 years)\n",
        "new_df.info()"
      ]
    },
    {
      "cell_type": "code",
      "execution_count": 109,
      "metadata": {
        "colab": {
          "base_uri": "https://localhost:8080/",
          "height": 146
        },
        "id": "iJDIOFfNfVlx",
        "outputId": "0f719cfe-e00f-4872-c202-5d68c1321d72"
      },
      "outputs": [
        {
          "data": {
            "text/html": [
              "<div>\n",
              "<style scoped>\n",
              "    .dataframe tbody tr th:only-of-type {\n",
              "        vertical-align: middle;\n",
              "    }\n",
              "\n",
              "    .dataframe tbody tr th {\n",
              "        vertical-align: top;\n",
              "    }\n",
              "\n",
              "    .dataframe thead th {\n",
              "        text-align: right;\n",
              "    }\n",
              "</style>\n",
              "<table border=\"1\" class=\"dataframe\">\n",
              "  <thead>\n",
              "    <tr style=\"text-align: right;\">\n",
              "      <th></th>\n",
              "      <th>Open</th>\n",
              "      <th>High</th>\n",
              "      <th>Low</th>\n",
              "      <th>Close</th>\n",
              "      <th>Adj Close_x</th>\n",
              "      <th>Volume</th>\n",
              "      <th>Ticker</th>\n",
              "      <th>Year</th>\n",
              "      <th>Month</th>\n",
              "      <th>Weekday</th>\n",
              "      <th>...</th>\n",
              "      <th>month_wom_October_w2</th>\n",
              "      <th>month_wom_October_w3</th>\n",
              "      <th>month_wom_October_w4</th>\n",
              "      <th>month_wom_October_w5</th>\n",
              "      <th>month_wom_September_w1</th>\n",
              "      <th>month_wom_September_w2</th>\n",
              "      <th>month_wom_September_w3</th>\n",
              "      <th>month_wom_September_w4</th>\n",
              "      <th>month_wom_September_w5</th>\n",
              "      <th>split</th>\n",
              "    </tr>\n",
              "  </thead>\n",
              "  <tbody>\n",
              "    <tr>\n",
              "      <th>3490</th>\n",
              "      <td>58.6875</td>\n",
              "      <td>59.3125</td>\n",
              "      <td>56.0</td>\n",
              "      <td>58.28125</td>\n",
              "      <td>36.065567</td>\n",
              "      <td>53228400.0</td>\n",
              "      <td>MSFT</td>\n",
              "      <td>2000</td>\n",
              "      <td>January</td>\n",
              "      <td>0</td>\n",
              "      <td>...</td>\n",
              "      <td>0</td>\n",
              "      <td>0</td>\n",
              "      <td>0</td>\n",
              "      <td>0</td>\n",
              "      <td>0</td>\n",
              "      <td>0</td>\n",
              "      <td>0</td>\n",
              "      <td>0</td>\n",
              "      <td>0</td>\n",
              "      <td>train</td>\n",
              "    </tr>\n",
              "  </tbody>\n",
              "</table>\n",
              "<p>1 rows × 320 columns</p>\n",
              "</div>"
            ],
            "text/plain": [
              "         Open     High   Low     Close  Adj Close_x      Volume Ticker  Year  \\\n",
              "3490  58.6875  59.3125  56.0  58.28125    36.065567  53228400.0   MSFT  2000   \n",
              "\n",
              "        Month Weekday  ... month_wom_October_w2  month_wom_October_w3  \\\n",
              "3490  January       0  ...                    0                     0   \n",
              "\n",
              "      month_wom_October_w4  month_wom_October_w5  month_wom_September_w1  \\\n",
              "3490                     0                     0                       0   \n",
              "\n",
              "      month_wom_September_w2  month_wom_September_w3  month_wom_September_w4  \\\n",
              "3490                       0                       0                       0   \n",
              "\n",
              "      month_wom_September_w5  split  \n",
              "3490                       0  train  \n",
              "\n",
              "[1 rows x 320 columns]"
            ]
          },
          "execution_count": 109,
          "metadata": {},
          "output_type": "execute_result"
        }
      ],
      "source": [
        "# check one record: it has abs. values, text, and numbers\n",
        "new_df.head(1)"
      ]
    },
    {
      "cell_type": "code",
      "execution_count": 110,
      "metadata": {
        "colab": {
          "base_uri": "https://localhost:8080/",
          "height": 80
        },
        "id": "DxhUdHUgfY11",
        "outputId": "9e2da397-aafa-470a-c4e7-8eb072a4d147"
      },
      "outputs": [
        {
          "data": {
            "text/html": [
              "<div>\n",
              "<style scoped>\n",
              "    .dataframe tbody tr th:only-of-type {\n",
              "        vertical-align: middle;\n",
              "    }\n",
              "\n",
              "    .dataframe tbody tr th {\n",
              "        vertical-align: top;\n",
              "    }\n",
              "\n",
              "    .dataframe thead th {\n",
              "        text-align: right;\n",
              "    }\n",
              "</style>\n",
              "<table border=\"1\" class=\"dataframe\">\n",
              "  <thead>\n",
              "    <tr style=\"text-align: right;\">\n",
              "      <th></th>\n",
              "      <th>growth_future_5d</th>\n",
              "      <th>is_positive_growth_5d_future</th>\n",
              "    </tr>\n",
              "  </thead>\n",
              "  <tbody>\n",
              "    <tr>\n",
              "      <th>3490</th>\n",
              "      <td>0.963003</td>\n",
              "      <td>0</td>\n",
              "    </tr>\n",
              "  </tbody>\n",
              "</table>\n",
              "</div>"
            ],
            "text/plain": [
              "      growth_future_5d  is_positive_growth_5d_future\n",
              "3490          0.963003                             0"
            ]
          },
          "execution_count": 110,
          "metadata": {},
          "output_type": "execute_result"
        }
      ],
      "source": [
        "# what do we try to predict\n",
        "new_df[TO_PREDICT].head(1)"
      ]
    },
    {
      "cell_type": "markdown",
      "metadata": {
        "id": "iCOKbMCweoCo"
      },
      "source": [
        "### 0.2.5 Define dataframes for Modeling (ML) and cleane them"
      ]
    },
    {
      "cell_type": "code",
      "execution_count": 111,
      "metadata": {
        "colab": {
          "base_uri": "https://localhost:8080/"
        },
        "id": "ORY8KtcrNS0K",
        "outputId": "14f6d542-a5f1-46ed-e8f2-2ad20f6e83db"
      },
      "outputs": [
        {
          "name": "stdout",
          "output_type": "stream",
          "text": [
            "length: X_train (123458, 300),  X_validation (29388, 300), X_test (29829, 300), X_train_valid = (152846, 300),  all combined: X_all (182675, 300)\n"
          ]
        }
      ],
      "source": [
        "# Features to be used in predictions (incl. new dummies)\n",
        "\n",
        "# TODO HA4 Q2: use correct dummies here : DUMMIES_SHOR\n",
        "\n",
        "features_list = NUMERICAL+DUMMIES\n",
        "\n",
        "# What we're trying to predict?\n",
        "\n",
        "# TODO HA4 Q3: use correct feature to predict 'is_strong_positive_growth_5d_future'\n",
        "\n",
        "to_predict = 'is_positive_growth_5d_future'\n",
        "\n",
        "train_df = new_df[new_df.split.isin(['train'])].copy(deep=True)\n",
        "valid_df = new_df[new_df.split.isin(['validation'])].copy(deep=True)\n",
        "train_valid_df = new_df[new_df.split.isin(['train','validation'])].copy(deep=True)\n",
        "\n",
        "test_df =  new_df[new_df.split.isin(['test'])].copy(deep=True)\n",
        "\n",
        "# ONLY numerical Separate features and target variable for training and testing sets\n",
        "X_train = train_df[features_list+[to_predict]]\n",
        "X_valid = valid_df[features_list+[to_predict]]\n",
        "\n",
        "X_train_valid = train_valid_df[features_list+[to_predict]]\n",
        "\n",
        "X_test = test_df[features_list+[to_predict]]\n",
        "\n",
        "# this to be used for predictions and join to the original dataframe new_df\n",
        "X_all =  new_df[features_list+[to_predict]].copy(deep=True)\n",
        "\n",
        "print(f'length: X_train {X_train.shape},  X_validation {X_valid.shape}, X_test {X_test.shape}, X_train_valid = {X_train_valid.shape},  all combined: X_all {X_all.shape}')"
      ]
    },
    {
      "cell_type": "code",
      "execution_count": 112,
      "metadata": {
        "id": "VhpEOSemftan"
      },
      "outputs": [],
      "source": [
        "# Prepare a dataframe for ML:\n",
        "  # +-inf to NaN, all NaNs to 0s\n",
        "def clean_dataframe_from_inf_and_nan(df:pd.DataFrame):\n",
        "  df.replace([np.inf, -np.inf], np.nan, inplace=True)\n",
        "  df.fillna(0, inplace=True)\n",
        "  return df"
      ]
    },
    {
      "cell_type": "code",
      "execution_count": 113,
      "metadata": {
        "id": "V1l1jTnWf5BR"
      },
      "outputs": [],
      "source": [
        "# Clean from +-inf and NaNs:\n",
        "\n",
        "X_train = clean_dataframe_from_inf_and_nan(X_train)\n",
        "X_valid = clean_dataframe_from_inf_and_nan(X_valid)\n",
        "X_train_valid = clean_dataframe_from_inf_and_nan(X_train_valid)\n",
        "X_test = clean_dataframe_from_inf_and_nan(X_test)\n",
        "X_all = clean_dataframe_from_inf_and_nan(X_all)"
      ]
    },
    {
      "cell_type": "code",
      "execution_count": 114,
      "metadata": {
        "id": "Gyise-_BgGIr"
      },
      "outputs": [],
      "source": [
        "y_train = X_train[to_predict]\n",
        "\n",
        "y_valid = X_valid[to_predict]\n",
        "\n",
        "y_train_valid = X_train_valid[to_predict]\n",
        "y_test = X_test[to_predict]\n",
        "y_all =  X_all[to_predict]\n",
        "\n",
        "# remove y_train, y_test from X_ dataframes\n",
        "del X_train[to_predict]\n",
        "del X_valid[to_predict]\n",
        "del X_train_valid[to_predict]\n",
        "\n",
        "del X_test[to_predict]\n",
        "\n",
        "del X_all[to_predict]"
      ]
    },
    {
      "cell_type": "markdown",
      "metadata": {
        "id": "kkKt7sJYdNF2"
      },
      "source": [
        "# 1) Modeling"
      ]
    },
    {
      "cell_type": "markdown",
      "metadata": {
        "id": "Dlhxz3d4djgT"
      },
      "source": [
        "## 1.1) Manual 'rule of thumb' predictions\n",
        "* (pred0) CCI>200 (binary, on technical indicator CCI)\n",
        "* (pred1) growth_1d>1\n",
        "* (pred2) (growth_1d>1) & (growth_snp500_1d>1)\n",
        "* (pred3) (gdppot_us_yoy <= 0.027) & (fastd >= 0.251)\n",
        "* (pred4) (gdppot_us_yoy >= 0.027) & (growth_wti_oil_30d <= 1.005)"
      ]
    },
    {
      "cell_type": "code",
      "execution_count": 115,
      "metadata": {
        "id": "PQrCT7xldUdf"
      },
      "outputs": [],
      "source": [
        "# generate manual predictions\n",
        "# Let's label all prediction features with prefix \"pred\"\n",
        "new_df['pred0_manual_cci'] = (new_df.cci>200).astype(int)\n",
        "new_df['pred1_manual_prev_g1'] = (new_df.growth_1d>1).astype(int)\n",
        "new_df['pred2_manual_prev_g1_and_snp'] = ((new_df['growth_1d'] > 1) & (new_df['growth_snp500_1d'] > 1)).astype(int)\n",
        "new_df['pred3_manual_gdp_and_fastd'] = ((new_df['gdppot_us_yoy'] <= 0.027) & (new_df['fastd'] >=0.251)).astype(int)\n",
        "new_df['pred4_manual_gdp_and_wti30d'] = ((new_df['gdppot_us_yoy'] >= 0.027) & (new_df['growth_wti_oil_30d'] <= 1.005)).astype(int)"
      ]
    },
    {
      "cell_type": "code",
      "execution_count": 116,
      "metadata": {
        "colab": {
          "base_uri": "https://localhost:8080/",
          "height": 439
        },
        "id": "3tD9asrDkC3m",
        "outputId": "2a376ea3-e9c9-4270-f598-65f0115f05ce"
      },
      "outputs": [
        {
          "data": {
            "text/html": [
              "<div>\n",
              "<style scoped>\n",
              "    .dataframe tbody tr th:only-of-type {\n",
              "        vertical-align: middle;\n",
              "    }\n",
              "\n",
              "    .dataframe tbody tr th {\n",
              "        vertical-align: top;\n",
              "    }\n",
              "\n",
              "    .dataframe thead th {\n",
              "        text-align: right;\n",
              "    }\n",
              "</style>\n",
              "<table border=\"1\" class=\"dataframe\">\n",
              "  <thead>\n",
              "    <tr style=\"text-align: right;\">\n",
              "      <th></th>\n",
              "      <th>cci</th>\n",
              "      <th>growth_1d</th>\n",
              "      <th>growth_snp500_1d</th>\n",
              "      <th>pred0_manual_cci</th>\n",
              "      <th>pred1_manual_prev_g1</th>\n",
              "      <th>pred2_manual_prev_g1_and_snp</th>\n",
              "      <th>pred3_manual_gdp_and_fastd</th>\n",
              "      <th>pred4_manual_gdp_and_wti30d</th>\n",
              "      <th>is_positive_growth_5d_future</th>\n",
              "    </tr>\n",
              "  </thead>\n",
              "  <tbody>\n",
              "    <tr>\n",
              "      <th>3490</th>\n",
              "      <td>26.847237</td>\n",
              "      <td>0.998394</td>\n",
              "      <td>0.990451</td>\n",
              "      <td>0</td>\n",
              "      <td>0</td>\n",
              "      <td>0</td>\n",
              "      <td>0</td>\n",
              "      <td>0</td>\n",
              "      <td>0</td>\n",
              "    </tr>\n",
              "    <tr>\n",
              "      <th>3491</th>\n",
              "      <td>-34.319663</td>\n",
              "      <td>0.966220</td>\n",
              "      <td>0.961655</td>\n",
              "      <td>0</td>\n",
              "      <td>0</td>\n",
              "      <td>0</td>\n",
              "      <td>0</td>\n",
              "      <td>0</td>\n",
              "      <td>0</td>\n",
              "    </tr>\n",
              "    <tr>\n",
              "      <th>3492</th>\n",
              "      <td>-97.318008</td>\n",
              "      <td>1.010544</td>\n",
              "      <td>1.001922</td>\n",
              "      <td>0</td>\n",
              "      <td>1</td>\n",
              "      <td>1</td>\n",
              "      <td>0</td>\n",
              "      <td>0</td>\n",
              "      <td>0</td>\n",
              "    </tr>\n",
              "    <tr>\n",
              "      <th>3493</th>\n",
              "      <td>-169.947507</td>\n",
              "      <td>0.966502</td>\n",
              "      <td>1.000956</td>\n",
              "      <td>0</td>\n",
              "      <td>0</td>\n",
              "      <td>0</td>\n",
              "      <td>0</td>\n",
              "      <td>0</td>\n",
              "      <td>0</td>\n",
              "    </tr>\n",
              "    <tr>\n",
              "      <th>3494</th>\n",
              "      <td>-142.142685</td>\n",
              "      <td>1.013068</td>\n",
              "      <td>1.027090</td>\n",
              "      <td>0</td>\n",
              "      <td>1</td>\n",
              "      <td>1</td>\n",
              "      <td>0</td>\n",
              "      <td>0</td>\n",
              "      <td>1</td>\n",
              "    </tr>\n",
              "    <tr>\n",
              "      <th>...</th>\n",
              "      <td>...</td>\n",
              "      <td>...</td>\n",
              "      <td>...</td>\n",
              "      <td>...</td>\n",
              "      <td>...</td>\n",
              "      <td>...</td>\n",
              "      <td>...</td>\n",
              "      <td>...</td>\n",
              "      <td>...</td>\n",
              "    </tr>\n",
              "    <tr>\n",
              "      <th>5422</th>\n",
              "      <td>-29.424989</td>\n",
              "      <td>0.988994</td>\n",
              "      <td>0.984269</td>\n",
              "      <td>0</td>\n",
              "      <td>0</td>\n",
              "      <td>0</td>\n",
              "      <td>1</td>\n",
              "      <td>0</td>\n",
              "      <td>0</td>\n",
              "    </tr>\n",
              "    <tr>\n",
              "      <th>5423</th>\n",
              "      <td>-26.657181</td>\n",
              "      <td>1.001447</td>\n",
              "      <td>1.009128</td>\n",
              "      <td>0</td>\n",
              "      <td>1</td>\n",
              "      <td>1</td>\n",
              "      <td>1</td>\n",
              "      <td>0</td>\n",
              "      <td>0</td>\n",
              "    </tr>\n",
              "    <tr>\n",
              "      <th>5424</th>\n",
              "      <td>-123.785473</td>\n",
              "      <td>0.972302</td>\n",
              "      <td>1.012557</td>\n",
              "      <td>0</td>\n",
              "      <td>0</td>\n",
              "      <td>0</td>\n",
              "      <td>1</td>\n",
              "      <td>0</td>\n",
              "      <td>0</td>\n",
              "    </tr>\n",
              "    <tr>\n",
              "      <th>5425</th>\n",
              "      <td>-181.986224</td>\n",
              "      <td>0.989571</td>\n",
              "      <td>1.010326</td>\n",
              "      <td>0</td>\n",
              "      <td>0</td>\n",
              "      <td>0</td>\n",
              "      <td>1</td>\n",
              "      <td>0</td>\n",
              "      <td>0</td>\n",
              "    </tr>\n",
              "    <tr>\n",
              "      <th>5426</th>\n",
              "      <td>-169.406977</td>\n",
              "      <td>0.989735</td>\n",
              "      <td>1.001343</td>\n",
              "      <td>0</td>\n",
              "      <td>0</td>\n",
              "      <td>0</td>\n",
              "      <td>1</td>\n",
              "      <td>0</td>\n",
              "      <td>0</td>\n",
              "    </tr>\n",
              "  </tbody>\n",
              "</table>\n",
              "<p>182675 rows × 9 columns</p>\n",
              "</div>"
            ],
            "text/plain": [
              "             cci  growth_1d  growth_snp500_1d  pred0_manual_cci  \\\n",
              "3490   26.847237   0.998394          0.990451                 0   \n",
              "3491  -34.319663   0.966220          0.961655                 0   \n",
              "3492  -97.318008   1.010544          1.001922                 0   \n",
              "3493 -169.947507   0.966502          1.000956                 0   \n",
              "3494 -142.142685   1.013068          1.027090                 0   \n",
              "...          ...        ...               ...               ...   \n",
              "5422  -29.424989   0.988994          0.984269                 0   \n",
              "5423  -26.657181   1.001447          1.009128                 0   \n",
              "5424 -123.785473   0.972302          1.012557                 0   \n",
              "5425 -181.986224   0.989571          1.010326                 0   \n",
              "5426 -169.406977   0.989735          1.001343                 0   \n",
              "\n",
              "      pred1_manual_prev_g1  pred2_manual_prev_g1_and_snp  \\\n",
              "3490                     0                             0   \n",
              "3491                     0                             0   \n",
              "3492                     1                             1   \n",
              "3493                     0                             0   \n",
              "3494                     1                             1   \n",
              "...                    ...                           ...   \n",
              "5422                     0                             0   \n",
              "5423                     1                             1   \n",
              "5424                     0                             0   \n",
              "5425                     0                             0   \n",
              "5426                     0                             0   \n",
              "\n",
              "      pred3_manual_gdp_and_fastd  pred4_manual_gdp_and_wti30d  \\\n",
              "3490                           0                            0   \n",
              "3491                           0                            0   \n",
              "3492                           0                            0   \n",
              "3493                           0                            0   \n",
              "3494                           0                            0   \n",
              "...                          ...                          ...   \n",
              "5422                           1                            0   \n",
              "5423                           1                            0   \n",
              "5424                           1                            0   \n",
              "5425                           1                            0   \n",
              "5426                           1                            0   \n",
              "\n",
              "      is_positive_growth_5d_future  \n",
              "3490                             0  \n",
              "3491                             0  \n",
              "3492                             0  \n",
              "3493                             0  \n",
              "3494                             1  \n",
              "...                            ...  \n",
              "5422                             0  \n",
              "5423                             0  \n",
              "5424                             0  \n",
              "5425                             0  \n",
              "5426                             0  \n",
              "\n",
              "[182675 rows x 9 columns]"
            ]
          },
          "execution_count": 116,
          "metadata": {},
          "output_type": "execute_result"
        }
      ],
      "source": [
        "# example output manual predictions:\n",
        "new_df[['cci','growth_1d','growth_snp500_1d','pred0_manual_cci','pred1_manual_prev_g1','pred2_manual_prev_g1_and_snp','pred3_manual_gdp_and_fastd','pred4_manual_gdp_and_wti30d', to_predict]]"
      ]
    },
    {
      "cell_type": "code",
      "execution_count": 117,
      "metadata": {
        "id": "tn-AvNGVkIku"
      },
      "outputs": [],
      "source": [
        "# Function to find all predictions (starting from 'pred'), generate is_correct (correctness of each prediction)\n",
        "# and precision on TEST dataset (assuming there is df[\"split\"] column with values 'train','validation','test'\n",
        "\n",
        "# returns 2 lists of features: PREDICTIONS and IS_CORRECT\n",
        "\n",
        "def get_predictions_correctness(df:pd.DataFrame, to_predict:str):\n",
        "  PREDICTIONS = [k for k in df.keys() if k.startswith('pred')]\n",
        "  print(f'Prediction columns founded: {PREDICTIONS}')\n",
        "\n",
        "  # add columns is_correct_\n",
        "  for pred in PREDICTIONS:\n",
        "    part1 = pred.split('_')[0] # first prefix before '_'\n",
        "    df[f'is_correct_{part1}'] =  (new_df[pred] == new_df[to_predict]).astype(int)\n",
        "\n",
        "  # IS_CORRECT features set\n",
        "  IS_CORRECT =  [k for k in df.keys() if k.startswith('is_correct_')]\n",
        "  print(f'Created columns is_correct: {IS_CORRECT}')\n",
        "\n",
        "  print('Precision on TEST set for each prediction:')\n",
        "  # define \"Precision\" for ALL predictions on a Test dataset (~4 last years of trading)\n",
        "  for i,column in enumerate(IS_CORRECT):\n",
        "    prediction_column = PREDICTIONS[i]\n",
        "    is_correct_column = column\n",
        "    filter = (new_df.split=='test') & (new_df[prediction_column]==1)\n",
        "    print(f'Prediction column:{prediction_column} , is_correct_column: {is_correct_column}')\n",
        "    print(new_df[filter][is_correct_column].value_counts())\n",
        "    print(new_df[filter][is_correct_column].value_counts()/len(new_df[filter]))\n",
        "    print('---------')\n",
        "\n",
        "  return PREDICTIONS, IS_CORRECT"
      ]
    },
    {
      "cell_type": "code",
      "execution_count": 118,
      "metadata": {
        "colab": {
          "base_uri": "https://localhost:8080/"
        },
        "id": "nUW-bTFrkM_2",
        "outputId": "325626a8-afba-4c2a-e2d5-5cbf3d27fd3c"
      },
      "outputs": [
        {
          "name": "stdout",
          "output_type": "stream",
          "text": [
            "Prediction columns founded: ['pred0_manual_cci', 'pred1_manual_prev_g1', 'pred2_manual_prev_g1_and_snp', 'pred3_manual_gdp_and_fastd', 'pred4_manual_gdp_and_wti30d']\n",
            "Created columns is_correct: ['is_correct_pred0', 'is_correct_pred1', 'is_correct_pred2', 'is_correct_pred3', 'is_correct_pred4']\n",
            "Precision on TEST set for each prediction:\n",
            "Prediction column:pred0_manual_cci , is_correct_column: is_correct_pred0\n",
            "is_correct_pred0\n",
            "1    455\n",
            "0    344\n",
            "Name: count, dtype: int64\n",
            "is_correct_pred0\n",
            "1    0.569462\n",
            "0    0.430538\n",
            "Name: count, dtype: float64\n",
            "---------\n",
            "Prediction column:pred1_manual_prev_g1 , is_correct_column: is_correct_pred1\n",
            "is_correct_pred1\n",
            "1    8621\n",
            "0    6980\n",
            "Name: count, dtype: int64\n",
            "is_correct_pred1\n",
            "1    0.552593\n",
            "0    0.447407\n",
            "Name: count, dtype: float64\n",
            "---------\n",
            "Prediction column:pred2_manual_prev_g1_and_snp , is_correct_column: is_correct_pred2\n",
            "is_correct_pred2\n",
            "1    5726\n",
            "0    4729\n",
            "Name: count, dtype: int64\n",
            "is_correct_pred2\n",
            "1    0.547681\n",
            "0    0.452319\n",
            "Name: count, dtype: float64\n",
            "---------\n",
            "Prediction column:pred3_manual_gdp_and_fastd , is_correct_column: is_correct_pred3\n",
            "is_correct_pred3\n",
            "1    16560\n",
            "0    13262\n",
            "Name: count, dtype: int64\n",
            "is_correct_pred3\n",
            "1    0.555295\n",
            "0    0.444705\n",
            "Name: count, dtype: float64\n",
            "---------\n",
            "Prediction column:pred4_manual_gdp_and_wti30d , is_correct_column: is_correct_pred4\n",
            "Series([], Name: count, dtype: int64)\n",
            "Series([], Name: count, dtype: float64)\n",
            "---------\n"
          ]
        }
      ],
      "source": [
        "PREDICTIONS, IS_CORRECT = get_predictions_correctness(df = new_df, to_predict = to_predict)"
      ]
    },
    {
      "cell_type": "code",
      "execution_count": null,
      "metadata": {
        "id": "cVPexcpfkOW-"
      },
      "outputs": [],
      "source": [
        "# TODO HA4 Q1: run prediction correctness for 'is_positive_growth_5d_future' (should be lower)"
      ]
    },
    {
      "cell_type": "code",
      "execution_count": 120,
      "metadata": {
        "colab": {
          "base_uri": "https://localhost:8080/",
          "height": 439
        },
        "id": "bEsG68yfkn3B",
        "outputId": "9b7e235c-6630-4a83-ea06-8fa2c4f2ef5a"
      },
      "outputs": [
        {
          "data": {
            "text/html": [
              "<div>\n",
              "<style scoped>\n",
              "    .dataframe tbody tr th:only-of-type {\n",
              "        vertical-align: middle;\n",
              "    }\n",
              "\n",
              "    .dataframe tbody tr th {\n",
              "        vertical-align: top;\n",
              "    }\n",
              "\n",
              "    .dataframe thead th {\n",
              "        text-align: right;\n",
              "    }\n",
              "</style>\n",
              "<table border=\"1\" class=\"dataframe\">\n",
              "  <thead>\n",
              "    <tr style=\"text-align: right;\">\n",
              "      <th></th>\n",
              "      <th>pred0_manual_cci</th>\n",
              "      <th>pred1_manual_prev_g1</th>\n",
              "      <th>pred2_manual_prev_g1_and_snp</th>\n",
              "      <th>pred3_manual_gdp_and_fastd</th>\n",
              "      <th>pred4_manual_gdp_and_wti30d</th>\n",
              "      <th>is_correct_pred0</th>\n",
              "      <th>is_correct_pred1</th>\n",
              "      <th>is_correct_pred2</th>\n",
              "      <th>is_correct_pred3</th>\n",
              "      <th>is_correct_pred4</th>\n",
              "      <th>is_positive_growth_5d_future</th>\n",
              "    </tr>\n",
              "  </thead>\n",
              "  <tbody>\n",
              "    <tr>\n",
              "      <th>3490</th>\n",
              "      <td>0</td>\n",
              "      <td>0</td>\n",
              "      <td>0</td>\n",
              "      <td>0</td>\n",
              "      <td>0</td>\n",
              "      <td>1</td>\n",
              "      <td>1</td>\n",
              "      <td>1</td>\n",
              "      <td>1</td>\n",
              "      <td>1</td>\n",
              "      <td>0</td>\n",
              "    </tr>\n",
              "    <tr>\n",
              "      <th>3491</th>\n",
              "      <td>0</td>\n",
              "      <td>0</td>\n",
              "      <td>0</td>\n",
              "      <td>0</td>\n",
              "      <td>0</td>\n",
              "      <td>1</td>\n",
              "      <td>1</td>\n",
              "      <td>1</td>\n",
              "      <td>1</td>\n",
              "      <td>1</td>\n",
              "      <td>0</td>\n",
              "    </tr>\n",
              "    <tr>\n",
              "      <th>3492</th>\n",
              "      <td>0</td>\n",
              "      <td>1</td>\n",
              "      <td>1</td>\n",
              "      <td>0</td>\n",
              "      <td>0</td>\n",
              "      <td>1</td>\n",
              "      <td>0</td>\n",
              "      <td>0</td>\n",
              "      <td>1</td>\n",
              "      <td>1</td>\n",
              "      <td>0</td>\n",
              "    </tr>\n",
              "    <tr>\n",
              "      <th>3493</th>\n",
              "      <td>0</td>\n",
              "      <td>0</td>\n",
              "      <td>0</td>\n",
              "      <td>0</td>\n",
              "      <td>0</td>\n",
              "      <td>1</td>\n",
              "      <td>1</td>\n",
              "      <td>1</td>\n",
              "      <td>1</td>\n",
              "      <td>1</td>\n",
              "      <td>0</td>\n",
              "    </tr>\n",
              "    <tr>\n",
              "      <th>3494</th>\n",
              "      <td>0</td>\n",
              "      <td>1</td>\n",
              "      <td>1</td>\n",
              "      <td>0</td>\n",
              "      <td>0</td>\n",
              "      <td>0</td>\n",
              "      <td>1</td>\n",
              "      <td>1</td>\n",
              "      <td>0</td>\n",
              "      <td>0</td>\n",
              "      <td>1</td>\n",
              "    </tr>\n",
              "    <tr>\n",
              "      <th>...</th>\n",
              "      <td>...</td>\n",
              "      <td>...</td>\n",
              "      <td>...</td>\n",
              "      <td>...</td>\n",
              "      <td>...</td>\n",
              "      <td>...</td>\n",
              "      <td>...</td>\n",
              "      <td>...</td>\n",
              "      <td>...</td>\n",
              "      <td>...</td>\n",
              "      <td>...</td>\n",
              "    </tr>\n",
              "    <tr>\n",
              "      <th>5422</th>\n",
              "      <td>0</td>\n",
              "      <td>0</td>\n",
              "      <td>0</td>\n",
              "      <td>1</td>\n",
              "      <td>0</td>\n",
              "      <td>1</td>\n",
              "      <td>1</td>\n",
              "      <td>1</td>\n",
              "      <td>0</td>\n",
              "      <td>1</td>\n",
              "      <td>0</td>\n",
              "    </tr>\n",
              "    <tr>\n",
              "      <th>5423</th>\n",
              "      <td>0</td>\n",
              "      <td>1</td>\n",
              "      <td>1</td>\n",
              "      <td>1</td>\n",
              "      <td>0</td>\n",
              "      <td>1</td>\n",
              "      <td>0</td>\n",
              "      <td>0</td>\n",
              "      <td>0</td>\n",
              "      <td>1</td>\n",
              "      <td>0</td>\n",
              "    </tr>\n",
              "    <tr>\n",
              "      <th>5424</th>\n",
              "      <td>0</td>\n",
              "      <td>0</td>\n",
              "      <td>0</td>\n",
              "      <td>1</td>\n",
              "      <td>0</td>\n",
              "      <td>1</td>\n",
              "      <td>1</td>\n",
              "      <td>1</td>\n",
              "      <td>0</td>\n",
              "      <td>1</td>\n",
              "      <td>0</td>\n",
              "    </tr>\n",
              "    <tr>\n",
              "      <th>5425</th>\n",
              "      <td>0</td>\n",
              "      <td>0</td>\n",
              "      <td>0</td>\n",
              "      <td>1</td>\n",
              "      <td>0</td>\n",
              "      <td>1</td>\n",
              "      <td>1</td>\n",
              "      <td>1</td>\n",
              "      <td>0</td>\n",
              "      <td>1</td>\n",
              "      <td>0</td>\n",
              "    </tr>\n",
              "    <tr>\n",
              "      <th>5426</th>\n",
              "      <td>0</td>\n",
              "      <td>0</td>\n",
              "      <td>0</td>\n",
              "      <td>1</td>\n",
              "      <td>0</td>\n",
              "      <td>1</td>\n",
              "      <td>1</td>\n",
              "      <td>1</td>\n",
              "      <td>0</td>\n",
              "      <td>1</td>\n",
              "      <td>0</td>\n",
              "    </tr>\n",
              "  </tbody>\n",
              "</table>\n",
              "<p>182675 rows × 11 columns</p>\n",
              "</div>"
            ],
            "text/plain": [
              "      pred0_manual_cci  pred1_manual_prev_g1  pred2_manual_prev_g1_and_snp  \\\n",
              "3490                 0                     0                             0   \n",
              "3491                 0                     0                             0   \n",
              "3492                 0                     1                             1   \n",
              "3493                 0                     0                             0   \n",
              "3494                 0                     1                             1   \n",
              "...                ...                   ...                           ...   \n",
              "5422                 0                     0                             0   \n",
              "5423                 0                     1                             1   \n",
              "5424                 0                     0                             0   \n",
              "5425                 0                     0                             0   \n",
              "5426                 0                     0                             0   \n",
              "\n",
              "      pred3_manual_gdp_and_fastd  pred4_manual_gdp_and_wti30d  \\\n",
              "3490                           0                            0   \n",
              "3491                           0                            0   \n",
              "3492                           0                            0   \n",
              "3493                           0                            0   \n",
              "3494                           0                            0   \n",
              "...                          ...                          ...   \n",
              "5422                           1                            0   \n",
              "5423                           1                            0   \n",
              "5424                           1                            0   \n",
              "5425                           1                            0   \n",
              "5426                           1                            0   \n",
              "\n",
              "      is_correct_pred0  is_correct_pred1  is_correct_pred2  is_correct_pred3  \\\n",
              "3490                 1                 1                 1                 1   \n",
              "3491                 1                 1                 1                 1   \n",
              "3492                 1                 0                 0                 1   \n",
              "3493                 1                 1                 1                 1   \n",
              "3494                 0                 1                 1                 0   \n",
              "...                ...               ...               ...               ...   \n",
              "5422                 1                 1                 1                 0   \n",
              "5423                 1                 0                 0                 0   \n",
              "5424                 1                 1                 1                 0   \n",
              "5425                 1                 1                 1                 0   \n",
              "5426                 1                 1                 1                 0   \n",
              "\n",
              "      is_correct_pred4  is_positive_growth_5d_future  \n",
              "3490                 1                             0  \n",
              "3491                 1                             0  \n",
              "3492                 1                             0  \n",
              "3493                 1                             0  \n",
              "3494                 0                             1  \n",
              "...                ...                           ...  \n",
              "5422                 1                             0  \n",
              "5423                 1                             0  \n",
              "5424                 1                             0  \n",
              "5425                 1                             0  \n",
              "5426                 1                             0  \n",
              "\n",
              "[182675 rows x 11 columns]"
            ]
          },
          "execution_count": 120,
          "metadata": {},
          "output_type": "execute_result"
        }
      ],
      "source": [
        "new_df[PREDICTIONS+IS_CORRECT+[to_predict]]"
      ]
    },
    {
      "cell_type": "markdown",
      "metadata": {
        "id": "6Tu1COw6molo"
      },
      "source": [
        "## 1.2) Decision Tree Classifier"
      ]
    },
    {
      "cell_type": "markdown",
      "metadata": {
        "id": "jZ8TBnZUmsJ_"
      },
      "source": [
        "### 1.2.1) Defining Functions to clean_df(), fit_decision_tree(), predict_decision_tree()\n",
        "* here we discuss only the Decision Tree Classifier for binary predictions (and not the Regressor)"
      ]
    },
    {
      "cell_type": "code",
      "execution_count": 121,
      "metadata": {
        "id": "l8Uy1lFdm0R3"
      },
      "outputs": [],
      "source": [
        "# Estimation/fit function (using dataframe of features X and what to predict y) --> optimising total accuracy\n",
        "# max_depth is hyperParameter\n",
        "def fit_decision_tree(X, y, max_depth=20):\n",
        "# Initialize the Decision Tree Classifier\n",
        "  clf = DecisionTreeClassifier(max_depth=max_depth,\n",
        "                               random_state=42)\n",
        "\n",
        "  # Fit the classifier to the training data\n",
        "  clf.fit(X, y)\n",
        "  return clf, X.columns"
      ]
    },
    {
      "cell_type": "code",
      "execution_count": 122,
      "metadata": {
        "colab": {
          "base_uri": "https://localhost:8080/"
        },
        "id": "a96QEniNT35b",
        "outputId": "fa986fe4-edef-4ba6-e14a-7e6d2fd1a147"
      },
      "outputs": [
        {
          "name": "stdout",
          "output_type": "stream",
          "text": [
            "CPU times: total: 14.6 s\n",
            "Wall time: 23.4 s\n"
          ]
        }
      ],
      "source": [
        "%%time\n",
        "clf_10, train_columns = fit_decision_tree(X=X_train_valid,\n",
        "                           y=y_train_valid,\n",
        "                           max_depth=10)"
      ]
    },
    {
      "cell_type": "code",
      "execution_count": 123,
      "metadata": {
        "id": "K0qzwSYcT5YM"
      },
      "outputs": [],
      "source": [
        "# predict on a full dataset\n",
        "y_pred_all = clf_10.predict(X_all)"
      ]
    },
    {
      "cell_type": "code",
      "execution_count": 124,
      "metadata": {
        "id": "lKBzCaXcT6OL"
      },
      "outputs": [],
      "source": [
        "# defining a new prediction vector is easy now, as the dimensions will match\n",
        "new_df['pred5_clf_10'] = y_pred_all"
      ]
    },
    {
      "cell_type": "code",
      "execution_count": 126,
      "metadata": {
        "colab": {
          "base_uri": "https://localhost:8080/"
        },
        "id": "8qNAlgbnT_f1",
        "outputId": "b8948fa2-80dc-4622-b5f6-f0e75cf500a7"
      },
      "outputs": [
        {
          "name": "stdout",
          "output_type": "stream",
          "text": [
            "Prediction columns founded: ['pred0_manual_cci', 'pred1_manual_prev_g1', 'pred2_manual_prev_g1_and_snp', 'pred3_manual_gdp_and_fastd', 'pred4_manual_gdp_and_wti30d', 'pred5_clf_10']\n",
            "Created columns is_correct: ['is_correct_pred0', 'is_correct_pred1', 'is_correct_pred2', 'is_correct_pred3', 'is_correct_pred4', 'is_correct_pred5']\n",
            "Precision on TEST set for each prediction:\n",
            "Prediction column:pred0_manual_cci , is_correct_column: is_correct_pred0\n",
            "is_correct_pred0\n",
            "1    455\n",
            "0    344\n",
            "Name: count, dtype: int64\n",
            "is_correct_pred0\n",
            "1    0.569462\n",
            "0    0.430538\n",
            "Name: count, dtype: float64\n",
            "---------\n",
            "Prediction column:pred1_manual_prev_g1 , is_correct_column: is_correct_pred1\n",
            "is_correct_pred1\n",
            "1    8621\n",
            "0    6980\n",
            "Name: count, dtype: int64\n",
            "is_correct_pred1\n",
            "1    0.552593\n",
            "0    0.447407\n",
            "Name: count, dtype: float64\n",
            "---------\n",
            "Prediction column:pred2_manual_prev_g1_and_snp , is_correct_column: is_correct_pred2\n",
            "is_correct_pred2\n",
            "1    5726\n",
            "0    4729\n",
            "Name: count, dtype: int64\n",
            "is_correct_pred2\n",
            "1    0.547681\n",
            "0    0.452319\n",
            "Name: count, dtype: float64\n",
            "---------\n",
            "Prediction column:pred3_manual_gdp_and_fastd , is_correct_column: is_correct_pred3\n",
            "is_correct_pred3\n",
            "1    16560\n",
            "0    13262\n",
            "Name: count, dtype: int64\n",
            "is_correct_pred3\n",
            "1    0.555295\n",
            "0    0.444705\n",
            "Name: count, dtype: float64\n",
            "---------\n",
            "Prediction column:pred4_manual_gdp_and_wti30d , is_correct_column: is_correct_pred4\n",
            "Series([], Name: count, dtype: int64)\n",
            "Series([], Name: count, dtype: float64)\n",
            "---------\n",
            "Prediction column:pred5_clf_10 , is_correct_column: is_correct_pred5\n",
            "is_correct_pred5\n",
            "1    14496\n",
            "0    11148\n",
            "Name: count, dtype: int64\n",
            "is_correct_pred5\n",
            "1    0.565278\n",
            "0    0.434722\n",
            "Name: count, dtype: float64\n",
            "---------\n"
          ]
        }
      ],
      "source": [
        "# new prediction is added --> need to recalculate the correctness\n",
        "PREDICTIONS, IS_CORRECT = get_predictions_correctness(df = new_df, to_predict=to_predict)"
      ]
    },
    {
      "cell_type": "markdown",
      "metadata": {
        "id": "_bkIObxfUKbg"
      },
      "source": [
        "## 1.2.3 Hyperparams tuning for a Decision Tree Classifier"
      ]
    },
    {
      "cell_type": "code",
      "execution_count": 127,
      "metadata": {
        "id": "Y436uzqFUOP8"
      },
      "outputs": [],
      "source": [
        "# visualisation: decision tree for a few levels (max_depth variable)\n",
        "from sklearn.tree import plot_tree\n",
        "import matplotlib.pyplot as plt\n",
        "\n",
        "# https://stackoverflow.com/questions/20156951/how-do-i-find-which-attributes-my-tree-splits-on-when-using-scikit-learn\n",
        "from sklearn.tree import export_text"
      ]
    },
    {
      "cell_type": "code",
      "execution_count": null,
      "metadata": {
        "id": "Mp2WfkxZghUl"
      },
      "outputs": [],
      "source": [
        "# %%time\n",
        "# # hyper params tuning for a Decision Tree\n",
        "\n",
        "# precision_by_depth = {}\n",
        "# best_precision = 0\n",
        "# best_depth = 0\n",
        "\n",
        "# for depth in range(1,21):\n",
        "#   print(f'Working with a tree of a max depth= {depth}')\n",
        "#   # fitting the tree on X_train, y_train\n",
        "#   clf,train_columns = fit_decision_tree(X=X_train_valid,\n",
        "#                            y=y_train_valid,\n",
        "#                            max_depth=depth) #applying custom hyperparam\n",
        "#   # getting the predictions for TEST and accuracy score\n",
        "#   y_pred_valid = clf.predict(X_valid)\n",
        "#   precision_valid = precision_score(y_valid, y_pred_valid)\n",
        "#   y_pred_test = clf.predict(X_test)\n",
        "#   precision_test = precision_score(y_test, y_pred_test)\n",
        "#   print(f'  Precision on test is {precision_test}, (precision on valid is {precision_valid} - tend to overfit)')\n",
        "#   # saving to the dict\n",
        "#   precision_by_depth[depth] = round(precision_test,4)\n",
        "#   # updating the best precision\n",
        "#   if precision_test >= best_precision:\n",
        "#     best_precision = round(precision_test,4)\n",
        "#     best_depth = depth\n",
        "#   # plot tree - long\n",
        "#   # plt.figure(figsize=(20,10))  # Set the size of the figure\n",
        "#   # plot_tree(clf,\n",
        "#   #           filled=True,\n",
        "#   #           feature_names=train_columns,\n",
        "#   #           class_names=['Negative', 'Positive'],\n",
        "#   #           max_depth=2)\n",
        "#   # plt.show()\n",
        "#   # plot tree - short\n",
        "#   tree_rules = export_text(clf, feature_names=list(X_train), max_depth=3)\n",
        "#   print(tree_rules)\n",
        "#   print('------------------------------')\n",
        "\n",
        "# print(f'All precisions by depth: {precision_by_depth}')\n",
        "# print(f'The best precision is {best_precision} and the best depth is {best_depth} ')"
      ]
    },
    {
      "cell_type": "code",
      "execution_count": null,
      "metadata": {
        "id": "2jLsfPPhgjwD"
      },
      "outputs": [],
      "source": [
        "# UNCOMMENT TO RUN SEE THE RESULTS\n",
        "# Results of Hyper parameters tuning for a Decision Tree\n",
        "# print(precision_by_depth)"
      ]
    },
    {
      "cell_type": "code",
      "execution_count": 128,
      "metadata": {
        "id": "vK92UZPrstQh"
      },
      "outputs": [],
      "source": [
        "# pre-calculated results of Hyperparameter tuning: full dataset (300 features) and is_positive_growth_5d\n",
        "precision_by_depth = {1: 0.5552, 2: 0.5553, 3: 0.5552, 4: 0.5552, 5: 0.5555, 6: 0.5712, 7: 0.5684, 8: 0.5684, 9: 0.57, 10: 0.5653, 11: 0.567, 12: 0.5719, 13: 0.5707, 14: 0.5845, 15: 0.5864, 16: 0.5721, 17: 0.5767, 18: 0.5682, 19: 0.5638, 20: 0.573}\n",
        "best_depth = 15\n",
        "best_precision = 0.5864"
      ]
    },
    {
      "cell_type": "code",
      "execution_count": 129,
      "metadata": {
        "colab": {
          "base_uri": "https://localhost:8080/"
        },
        "id": "IBYKRALThb8P",
        "outputId": "7443d568-140d-4c3b-a432-ffff57ecde08"
      },
      "outputs": [
        {
          "name": "stdout",
          "output_type": "stream",
          "text": [
            "Best precision and depth = 15, precision (on test)=0.5864\n"
          ]
        }
      ],
      "source": [
        "print(f'Best precision and depth = {best_depth}, precision (on test)={best_precision}')"
      ]
    },
    {
      "cell_type": "code",
      "execution_count": null,
      "metadata": {
        "id": "hbGV6LjthP3u"
      },
      "outputs": [],
      "source": [
        "# TODO HA4 Q1: compare precision_by_depth with below? Any improvements? What's the optimal hyperparams?"
      ]
    },
    {
      "cell_type": "code",
      "execution_count": null,
      "metadata": {
        "id": "OS3b4V-AhRa8"
      },
      "outputs": [],
      "source": [
        "# TODO HA4 Q2: compare precision_by_depth with below? Any improvements? What's the optimal hyperparams?"
      ]
    },
    {
      "cell_type": "code",
      "execution_count": 130,
      "metadata": {
        "colab": {
          "base_uri": "https://localhost:8080/",
          "height": 542
        },
        "id": "AYbzd0uQg_W9",
        "outputId": "4ca3f42d-8f57-4932-a52f-ecbcda75d38e"
      },
      "outputs": [
        {
          "data": {
            "application/vnd.plotly.v1+json": {
              "config": {
                "plotlyServerURL": "https://plot.ly"
              },
              "data": [
                {
                  "alignmentgroup": "True",
                  "hovertemplate": "Max Depth=%{x}<br>Precision Score=%{text}<extra></extra>",
                  "legendgroup": "",
                  "marker": {
                    "color": "#636efa",
                    "pattern": {
                      "shape": ""
                    }
                  },
                  "name": "",
                  "offsetgroup": "",
                  "orientation": "v",
                  "showlegend": false,
                  "text": [
                    55.52,
                    55.53,
                    55.52,
                    55.52,
                    55.55,
                    57.120000000000005,
                    56.84,
                    56.84,
                    56.99999999999999,
                    56.53,
                    56.699999999999996,
                    57.19,
                    57.07,
                    58.45,
                    58.64,
                    57.21000000000001,
                    57.67,
                    56.82000000000001,
                    56.379999999999995,
                    57.3
                  ],
                  "textposition": "outside",
                  "texttemplate": "%{text:.2f}%",
                  "type": "bar",
                  "x": [
                    1,
                    2,
                    3,
                    4,
                    5,
                    6,
                    7,
                    8,
                    9,
                    10,
                    11,
                    12,
                    13,
                    14,
                    15,
                    16,
                    17,
                    18,
                    19,
                    20
                  ],
                  "xaxis": "x",
                  "y": [
                    55.52,
                    55.53,
                    55.52,
                    55.52,
                    55.55,
                    57.120000000000005,
                    56.84,
                    56.84,
                    56.99999999999999,
                    56.53,
                    56.699999999999996,
                    57.19,
                    57.07,
                    58.45,
                    58.64,
                    57.21000000000001,
                    57.67,
                    56.82000000000001,
                    56.379999999999995,
                    57.3
                  ],
                  "yaxis": "y"
                }
              ],
              "layout": {
                "barmode": "relative",
                "legend": {
                  "tracegroupgap": 0
                },
                "margin": {
                  "t": 60
                },
                "template": {
                  "data": {
                    "bar": [
                      {
                        "error_x": {
                          "color": "#2a3f5f"
                        },
                        "error_y": {
                          "color": "#2a3f5f"
                        },
                        "marker": {
                          "line": {
                            "color": "#E5ECF6",
                            "width": 0.5
                          },
                          "pattern": {
                            "fillmode": "overlay",
                            "size": 10,
                            "solidity": 0.2
                          }
                        },
                        "type": "bar"
                      }
                    ],
                    "barpolar": [
                      {
                        "marker": {
                          "line": {
                            "color": "#E5ECF6",
                            "width": 0.5
                          },
                          "pattern": {
                            "fillmode": "overlay",
                            "size": 10,
                            "solidity": 0.2
                          }
                        },
                        "type": "barpolar"
                      }
                    ],
                    "carpet": [
                      {
                        "aaxis": {
                          "endlinecolor": "#2a3f5f",
                          "gridcolor": "white",
                          "linecolor": "white",
                          "minorgridcolor": "white",
                          "startlinecolor": "#2a3f5f"
                        },
                        "baxis": {
                          "endlinecolor": "#2a3f5f",
                          "gridcolor": "white",
                          "linecolor": "white",
                          "minorgridcolor": "white",
                          "startlinecolor": "#2a3f5f"
                        },
                        "type": "carpet"
                      }
                    ],
                    "choropleth": [
                      {
                        "colorbar": {
                          "outlinewidth": 0,
                          "ticks": ""
                        },
                        "type": "choropleth"
                      }
                    ],
                    "contour": [
                      {
                        "colorbar": {
                          "outlinewidth": 0,
                          "ticks": ""
                        },
                        "colorscale": [
                          [
                            0,
                            "#0d0887"
                          ],
                          [
                            0.1111111111111111,
                            "#46039f"
                          ],
                          [
                            0.2222222222222222,
                            "#7201a8"
                          ],
                          [
                            0.3333333333333333,
                            "#9c179e"
                          ],
                          [
                            0.4444444444444444,
                            "#bd3786"
                          ],
                          [
                            0.5555555555555556,
                            "#d8576b"
                          ],
                          [
                            0.6666666666666666,
                            "#ed7953"
                          ],
                          [
                            0.7777777777777778,
                            "#fb9f3a"
                          ],
                          [
                            0.8888888888888888,
                            "#fdca26"
                          ],
                          [
                            1,
                            "#f0f921"
                          ]
                        ],
                        "type": "contour"
                      }
                    ],
                    "contourcarpet": [
                      {
                        "colorbar": {
                          "outlinewidth": 0,
                          "ticks": ""
                        },
                        "type": "contourcarpet"
                      }
                    ],
                    "heatmap": [
                      {
                        "colorbar": {
                          "outlinewidth": 0,
                          "ticks": ""
                        },
                        "colorscale": [
                          [
                            0,
                            "#0d0887"
                          ],
                          [
                            0.1111111111111111,
                            "#46039f"
                          ],
                          [
                            0.2222222222222222,
                            "#7201a8"
                          ],
                          [
                            0.3333333333333333,
                            "#9c179e"
                          ],
                          [
                            0.4444444444444444,
                            "#bd3786"
                          ],
                          [
                            0.5555555555555556,
                            "#d8576b"
                          ],
                          [
                            0.6666666666666666,
                            "#ed7953"
                          ],
                          [
                            0.7777777777777778,
                            "#fb9f3a"
                          ],
                          [
                            0.8888888888888888,
                            "#fdca26"
                          ],
                          [
                            1,
                            "#f0f921"
                          ]
                        ],
                        "type": "heatmap"
                      }
                    ],
                    "heatmapgl": [
                      {
                        "colorbar": {
                          "outlinewidth": 0,
                          "ticks": ""
                        },
                        "colorscale": [
                          [
                            0,
                            "#0d0887"
                          ],
                          [
                            0.1111111111111111,
                            "#46039f"
                          ],
                          [
                            0.2222222222222222,
                            "#7201a8"
                          ],
                          [
                            0.3333333333333333,
                            "#9c179e"
                          ],
                          [
                            0.4444444444444444,
                            "#bd3786"
                          ],
                          [
                            0.5555555555555556,
                            "#d8576b"
                          ],
                          [
                            0.6666666666666666,
                            "#ed7953"
                          ],
                          [
                            0.7777777777777778,
                            "#fb9f3a"
                          ],
                          [
                            0.8888888888888888,
                            "#fdca26"
                          ],
                          [
                            1,
                            "#f0f921"
                          ]
                        ],
                        "type": "heatmapgl"
                      }
                    ],
                    "histogram": [
                      {
                        "marker": {
                          "pattern": {
                            "fillmode": "overlay",
                            "size": 10,
                            "solidity": 0.2
                          }
                        },
                        "type": "histogram"
                      }
                    ],
                    "histogram2d": [
                      {
                        "colorbar": {
                          "outlinewidth": 0,
                          "ticks": ""
                        },
                        "colorscale": [
                          [
                            0,
                            "#0d0887"
                          ],
                          [
                            0.1111111111111111,
                            "#46039f"
                          ],
                          [
                            0.2222222222222222,
                            "#7201a8"
                          ],
                          [
                            0.3333333333333333,
                            "#9c179e"
                          ],
                          [
                            0.4444444444444444,
                            "#bd3786"
                          ],
                          [
                            0.5555555555555556,
                            "#d8576b"
                          ],
                          [
                            0.6666666666666666,
                            "#ed7953"
                          ],
                          [
                            0.7777777777777778,
                            "#fb9f3a"
                          ],
                          [
                            0.8888888888888888,
                            "#fdca26"
                          ],
                          [
                            1,
                            "#f0f921"
                          ]
                        ],
                        "type": "histogram2d"
                      }
                    ],
                    "histogram2dcontour": [
                      {
                        "colorbar": {
                          "outlinewidth": 0,
                          "ticks": ""
                        },
                        "colorscale": [
                          [
                            0,
                            "#0d0887"
                          ],
                          [
                            0.1111111111111111,
                            "#46039f"
                          ],
                          [
                            0.2222222222222222,
                            "#7201a8"
                          ],
                          [
                            0.3333333333333333,
                            "#9c179e"
                          ],
                          [
                            0.4444444444444444,
                            "#bd3786"
                          ],
                          [
                            0.5555555555555556,
                            "#d8576b"
                          ],
                          [
                            0.6666666666666666,
                            "#ed7953"
                          ],
                          [
                            0.7777777777777778,
                            "#fb9f3a"
                          ],
                          [
                            0.8888888888888888,
                            "#fdca26"
                          ],
                          [
                            1,
                            "#f0f921"
                          ]
                        ],
                        "type": "histogram2dcontour"
                      }
                    ],
                    "mesh3d": [
                      {
                        "colorbar": {
                          "outlinewidth": 0,
                          "ticks": ""
                        },
                        "type": "mesh3d"
                      }
                    ],
                    "parcoords": [
                      {
                        "line": {
                          "colorbar": {
                            "outlinewidth": 0,
                            "ticks": ""
                          }
                        },
                        "type": "parcoords"
                      }
                    ],
                    "pie": [
                      {
                        "automargin": true,
                        "type": "pie"
                      }
                    ],
                    "scatter": [
                      {
                        "fillpattern": {
                          "fillmode": "overlay",
                          "size": 10,
                          "solidity": 0.2
                        },
                        "type": "scatter"
                      }
                    ],
                    "scatter3d": [
                      {
                        "line": {
                          "colorbar": {
                            "outlinewidth": 0,
                            "ticks": ""
                          }
                        },
                        "marker": {
                          "colorbar": {
                            "outlinewidth": 0,
                            "ticks": ""
                          }
                        },
                        "type": "scatter3d"
                      }
                    ],
                    "scattercarpet": [
                      {
                        "marker": {
                          "colorbar": {
                            "outlinewidth": 0,
                            "ticks": ""
                          }
                        },
                        "type": "scattercarpet"
                      }
                    ],
                    "scattergeo": [
                      {
                        "marker": {
                          "colorbar": {
                            "outlinewidth": 0,
                            "ticks": ""
                          }
                        },
                        "type": "scattergeo"
                      }
                    ],
                    "scattergl": [
                      {
                        "marker": {
                          "colorbar": {
                            "outlinewidth": 0,
                            "ticks": ""
                          }
                        },
                        "type": "scattergl"
                      }
                    ],
                    "scattermapbox": [
                      {
                        "marker": {
                          "colorbar": {
                            "outlinewidth": 0,
                            "ticks": ""
                          }
                        },
                        "type": "scattermapbox"
                      }
                    ],
                    "scatterpolar": [
                      {
                        "marker": {
                          "colorbar": {
                            "outlinewidth": 0,
                            "ticks": ""
                          }
                        },
                        "type": "scatterpolar"
                      }
                    ],
                    "scatterpolargl": [
                      {
                        "marker": {
                          "colorbar": {
                            "outlinewidth": 0,
                            "ticks": ""
                          }
                        },
                        "type": "scatterpolargl"
                      }
                    ],
                    "scatterternary": [
                      {
                        "marker": {
                          "colorbar": {
                            "outlinewidth": 0,
                            "ticks": ""
                          }
                        },
                        "type": "scatterternary"
                      }
                    ],
                    "surface": [
                      {
                        "colorbar": {
                          "outlinewidth": 0,
                          "ticks": ""
                        },
                        "colorscale": [
                          [
                            0,
                            "#0d0887"
                          ],
                          [
                            0.1111111111111111,
                            "#46039f"
                          ],
                          [
                            0.2222222222222222,
                            "#7201a8"
                          ],
                          [
                            0.3333333333333333,
                            "#9c179e"
                          ],
                          [
                            0.4444444444444444,
                            "#bd3786"
                          ],
                          [
                            0.5555555555555556,
                            "#d8576b"
                          ],
                          [
                            0.6666666666666666,
                            "#ed7953"
                          ],
                          [
                            0.7777777777777778,
                            "#fb9f3a"
                          ],
                          [
                            0.8888888888888888,
                            "#fdca26"
                          ],
                          [
                            1,
                            "#f0f921"
                          ]
                        ],
                        "type": "surface"
                      }
                    ],
                    "table": [
                      {
                        "cells": {
                          "fill": {
                            "color": "#EBF0F8"
                          },
                          "line": {
                            "color": "white"
                          }
                        },
                        "header": {
                          "fill": {
                            "color": "#C8D4E3"
                          },
                          "line": {
                            "color": "white"
                          }
                        },
                        "type": "table"
                      }
                    ]
                  },
                  "layout": {
                    "annotationdefaults": {
                      "arrowcolor": "#2a3f5f",
                      "arrowhead": 0,
                      "arrowwidth": 1
                    },
                    "autotypenumbers": "strict",
                    "coloraxis": {
                      "colorbar": {
                        "outlinewidth": 0,
                        "ticks": ""
                      }
                    },
                    "colorscale": {
                      "diverging": [
                        [
                          0,
                          "#8e0152"
                        ],
                        [
                          0.1,
                          "#c51b7d"
                        ],
                        [
                          0.2,
                          "#de77ae"
                        ],
                        [
                          0.3,
                          "#f1b6da"
                        ],
                        [
                          0.4,
                          "#fde0ef"
                        ],
                        [
                          0.5,
                          "#f7f7f7"
                        ],
                        [
                          0.6,
                          "#e6f5d0"
                        ],
                        [
                          0.7,
                          "#b8e186"
                        ],
                        [
                          0.8,
                          "#7fbc41"
                        ],
                        [
                          0.9,
                          "#4d9221"
                        ],
                        [
                          1,
                          "#276419"
                        ]
                      ],
                      "sequential": [
                        [
                          0,
                          "#0d0887"
                        ],
                        [
                          0.1111111111111111,
                          "#46039f"
                        ],
                        [
                          0.2222222222222222,
                          "#7201a8"
                        ],
                        [
                          0.3333333333333333,
                          "#9c179e"
                        ],
                        [
                          0.4444444444444444,
                          "#bd3786"
                        ],
                        [
                          0.5555555555555556,
                          "#d8576b"
                        ],
                        [
                          0.6666666666666666,
                          "#ed7953"
                        ],
                        [
                          0.7777777777777778,
                          "#fb9f3a"
                        ],
                        [
                          0.8888888888888888,
                          "#fdca26"
                        ],
                        [
                          1,
                          "#f0f921"
                        ]
                      ],
                      "sequentialminus": [
                        [
                          0,
                          "#0d0887"
                        ],
                        [
                          0.1111111111111111,
                          "#46039f"
                        ],
                        [
                          0.2222222222222222,
                          "#7201a8"
                        ],
                        [
                          0.3333333333333333,
                          "#9c179e"
                        ],
                        [
                          0.4444444444444444,
                          "#bd3786"
                        ],
                        [
                          0.5555555555555556,
                          "#d8576b"
                        ],
                        [
                          0.6666666666666666,
                          "#ed7953"
                        ],
                        [
                          0.7777777777777778,
                          "#fb9f3a"
                        ],
                        [
                          0.8888888888888888,
                          "#fdca26"
                        ],
                        [
                          1,
                          "#f0f921"
                        ]
                      ]
                    },
                    "colorway": [
                      "#636efa",
                      "#EF553B",
                      "#00cc96",
                      "#ab63fa",
                      "#FFA15A",
                      "#19d3f3",
                      "#FF6692",
                      "#B6E880",
                      "#FF97FF",
                      "#FECB52"
                    ],
                    "font": {
                      "color": "#2a3f5f"
                    },
                    "geo": {
                      "bgcolor": "white",
                      "lakecolor": "white",
                      "landcolor": "#E5ECF6",
                      "showlakes": true,
                      "showland": true,
                      "subunitcolor": "white"
                    },
                    "hoverlabel": {
                      "align": "left"
                    },
                    "hovermode": "closest",
                    "mapbox": {
                      "style": "light"
                    },
                    "paper_bgcolor": "white",
                    "plot_bgcolor": "#E5ECF6",
                    "polar": {
                      "angularaxis": {
                        "gridcolor": "white",
                        "linecolor": "white",
                        "ticks": ""
                      },
                      "bgcolor": "#E5ECF6",
                      "radialaxis": {
                        "gridcolor": "white",
                        "linecolor": "white",
                        "ticks": ""
                      }
                    },
                    "scene": {
                      "xaxis": {
                        "backgroundcolor": "#E5ECF6",
                        "gridcolor": "white",
                        "gridwidth": 2,
                        "linecolor": "white",
                        "showbackground": true,
                        "ticks": "",
                        "zerolinecolor": "white"
                      },
                      "yaxis": {
                        "backgroundcolor": "#E5ECF6",
                        "gridcolor": "white",
                        "gridwidth": 2,
                        "linecolor": "white",
                        "showbackground": true,
                        "ticks": "",
                        "zerolinecolor": "white"
                      },
                      "zaxis": {
                        "backgroundcolor": "#E5ECF6",
                        "gridcolor": "white",
                        "gridwidth": 2,
                        "linecolor": "white",
                        "showbackground": true,
                        "ticks": "",
                        "zerolinecolor": "white"
                      }
                    },
                    "shapedefaults": {
                      "line": {
                        "color": "#2a3f5f"
                      }
                    },
                    "ternary": {
                      "aaxis": {
                        "gridcolor": "white",
                        "linecolor": "white",
                        "ticks": ""
                      },
                      "baxis": {
                        "gridcolor": "white",
                        "linecolor": "white",
                        "ticks": ""
                      },
                      "bgcolor": "#E5ECF6",
                      "caxis": {
                        "gridcolor": "white",
                        "linecolor": "white",
                        "ticks": ""
                      }
                    },
                    "title": {
                      "x": 0.05
                    },
                    "xaxis": {
                      "automargin": true,
                      "gridcolor": "white",
                      "linecolor": "white",
                      "ticks": "",
                      "title": {
                        "standoff": 15
                      },
                      "zerolinecolor": "white",
                      "zerolinewidth": 2
                    },
                    "yaxis": {
                      "automargin": true,
                      "gridcolor": "white",
                      "linecolor": "white",
                      "ticks": "",
                      "title": {
                        "standoff": 15
                      },
                      "zerolinecolor": "white",
                      "zerolinewidth": 2
                    }
                  }
                },
                "title": {
                  "text": "Precision Score vs. Max Depth for a Decision Tree",
                  "x": 0.5,
                  "xanchor": "center"
                },
                "xaxis": {
                  "anchor": "y",
                  "domain": [
                    0,
                    1
                  ],
                  "title": {
                    "text": "Max Depth"
                  }
                },
                "yaxis": {
                  "anchor": "x",
                  "domain": [
                    0,
                    1
                  ],
                  "range": [
                    54,
                    60
                  ],
                  "title": {
                    "text": "Precision Score"
                  }
                }
              }
            }
          },
          "metadata": {},
          "output_type": "display_data"
        }
      ],
      "source": [
        "# Convert the dictionary to a DataFrame\n",
        "df = pd.DataFrame(list(precision_by_depth.items()), columns=['max_depth', 'precision_score'])\n",
        "df.loc[:,'precision_score'] = df.precision_score*100.0 # need for % visualisation\n",
        "\n",
        "# Create the bar chart using Plotly Express\n",
        "fig = px.bar(df,\n",
        "             x='max_depth',\n",
        "             y='precision_score',\n",
        "            #  title='Precision Score vs. Max Depth for a Decision Tree',\n",
        "             labels={'max_depth': 'Max Depth', 'precision_score': 'Precision Score'},\n",
        "             range_y=[54, 60],\n",
        "             text='precision_score')\n",
        "\n",
        "# Update the text format to display as percentages\n",
        "fig.update_traces(texttemplate='%{text:.2f}%', textposition='outside')\n",
        "\n",
        "# Center the title\n",
        "fig.update_layout(title={'text': 'Precision Score vs. Max Depth for a Decision Tree', 'x': 0.5, 'xanchor': 'center'})\n",
        "\n",
        "\n",
        "# Show the figure\n",
        "fig.show()"
      ]
    },
    {
      "cell_type": "code",
      "execution_count": 131,
      "metadata": {
        "colab": {
          "base_uri": "https://localhost:8080/"
        },
        "id": "f1OnBZJLtHkI",
        "outputId": "93e43d4b-f29b-4311-d8bd-4a3c491e8b38"
      },
      "outputs": [
        {
          "name": "stdout",
          "output_type": "stream",
          "text": [
            "CPU times: total: 23.3 s\n",
            "Wall time: 34.1 s\n"
          ]
        }
      ],
      "source": [
        "%%time\n",
        "clf_best,train_columns = fit_decision_tree(X=X_train_valid,\n",
        "                           y=y_train_valid,\n",
        "                           max_depth=best_depth)"
      ]
    },
    {
      "cell_type": "code",
      "execution_count": 132,
      "metadata": {
        "colab": {
          "base_uri": "https://localhost:8080/"
        },
        "id": "o2-2CS-ptOLM",
        "outputId": "68c692d1-e320-4f3e-ebab-a20b81796d0f"
      },
      "outputs": [
        {
          "name": "stdout",
          "output_type": "stream",
          "text": [
            "Number of nodes: 4995\n",
            "Number of leaves: 2498\n"
          ]
        }
      ],
      "source": [
        "# For a DecisionTreeClassifier in scikit-learn, the concept of trainable parameters differs from that of neural networks.\n",
        "# In decision trees, the parameters are the structure of the tree itself (nodes and splits) rather than weights.\n",
        "# However, you can still get a sense of the model's complexity by looking at the number of nodes and leaves.\n",
        "\n",
        "# Here's how you can get this information for your trained DecisionTreeClassifier (referred to as clf_best):\n",
        "\n",
        "# Get the number of nodes and leaves in the tree\n",
        "n_nodes = clf_best.tree_.node_count\n",
        "n_leaves = clf_best.get_n_leaves()\n",
        "\n",
        "print(f\"Number of nodes: {n_nodes}\")\n",
        "print(f\"Number of leaves: {n_leaves}\")"
      ]
    },
    {
      "cell_type": "code",
      "execution_count": 133,
      "metadata": {
        "colab": {
          "base_uri": "https://localhost:8080/",
          "height": 74
        },
        "id": "KIRNFnQFtPwf",
        "outputId": "51049596-aa8e-4b89-928c-080c783eca71"
      },
      "outputs": [
        {
          "data": {
            "text/html": [
              "<style>#sk-container-id-1 {color: black;}#sk-container-id-1 pre{padding: 0;}#sk-container-id-1 div.sk-toggleable {background-color: white;}#sk-container-id-1 label.sk-toggleable__label {cursor: pointer;display: block;width: 100%;margin-bottom: 0;padding: 0.3em;box-sizing: border-box;text-align: center;}#sk-container-id-1 label.sk-toggleable__label-arrow:before {content: \"▸\";float: left;margin-right: 0.25em;color: #696969;}#sk-container-id-1 label.sk-toggleable__label-arrow:hover:before {color: black;}#sk-container-id-1 div.sk-estimator:hover label.sk-toggleable__label-arrow:before {color: black;}#sk-container-id-1 div.sk-toggleable__content {max-height: 0;max-width: 0;overflow: hidden;text-align: left;background-color: #f0f8ff;}#sk-container-id-1 div.sk-toggleable__content pre {margin: 0.2em;color: black;border-radius: 0.25em;background-color: #f0f8ff;}#sk-container-id-1 input.sk-toggleable__control:checked~div.sk-toggleable__content {max-height: 200px;max-width: 100%;overflow: auto;}#sk-container-id-1 input.sk-toggleable__control:checked~label.sk-toggleable__label-arrow:before {content: \"▾\";}#sk-container-id-1 div.sk-estimator input.sk-toggleable__control:checked~label.sk-toggleable__label {background-color: #d4ebff;}#sk-container-id-1 div.sk-label input.sk-toggleable__control:checked~label.sk-toggleable__label {background-color: #d4ebff;}#sk-container-id-1 input.sk-hidden--visually {border: 0;clip: rect(1px 1px 1px 1px);clip: rect(1px, 1px, 1px, 1px);height: 1px;margin: -1px;overflow: hidden;padding: 0;position: absolute;width: 1px;}#sk-container-id-1 div.sk-estimator {font-family: monospace;background-color: #f0f8ff;border: 1px dotted black;border-radius: 0.25em;box-sizing: border-box;margin-bottom: 0.5em;}#sk-container-id-1 div.sk-estimator:hover {background-color: #d4ebff;}#sk-container-id-1 div.sk-parallel-item::after {content: \"\";width: 100%;border-bottom: 1px solid gray;flex-grow: 1;}#sk-container-id-1 div.sk-label:hover label.sk-toggleable__label {background-color: #d4ebff;}#sk-container-id-1 div.sk-serial::before {content: \"\";position: absolute;border-left: 1px solid gray;box-sizing: border-box;top: 0;bottom: 0;left: 50%;z-index: 0;}#sk-container-id-1 div.sk-serial {display: flex;flex-direction: column;align-items: center;background-color: white;padding-right: 0.2em;padding-left: 0.2em;position: relative;}#sk-container-id-1 div.sk-item {position: relative;z-index: 1;}#sk-container-id-1 div.sk-parallel {display: flex;align-items: stretch;justify-content: center;background-color: white;position: relative;}#sk-container-id-1 div.sk-item::before, #sk-container-id-1 div.sk-parallel-item::before {content: \"\";position: absolute;border-left: 1px solid gray;box-sizing: border-box;top: 0;bottom: 0;left: 50%;z-index: -1;}#sk-container-id-1 div.sk-parallel-item {display: flex;flex-direction: column;z-index: 1;position: relative;background-color: white;}#sk-container-id-1 div.sk-parallel-item:first-child::after {align-self: flex-end;width: 50%;}#sk-container-id-1 div.sk-parallel-item:last-child::after {align-self: flex-start;width: 50%;}#sk-container-id-1 div.sk-parallel-item:only-child::after {width: 0;}#sk-container-id-1 div.sk-dashed-wrapped {border: 1px dashed gray;margin: 0 0.4em 0.5em 0.4em;box-sizing: border-box;padding-bottom: 0.4em;background-color: white;}#sk-container-id-1 div.sk-label label {font-family: monospace;font-weight: bold;display: inline-block;line-height: 1.2em;}#sk-container-id-1 div.sk-label-container {text-align: center;}#sk-container-id-1 div.sk-container {/* jupyter's `normalize.less` sets `[hidden] { display: none; }` but bootstrap.min.css set `[hidden] { display: none !important; }` so we also need the `!important` here to be able to override the default hidden behavior on the sphinx rendered scikit-learn.org. See: https://github.com/scikit-learn/scikit-learn/issues/21755 */display: inline-block !important;position: relative;}#sk-container-id-1 div.sk-text-repr-fallback {display: none;}</style><div id=\"sk-container-id-1\" class=\"sk-top-container\"><div class=\"sk-text-repr-fallback\"><pre>DecisionTreeClassifier(max_depth=15, random_state=42)</pre><b>In a Jupyter environment, please rerun this cell to show the HTML representation or trust the notebook. <br />On GitHub, the HTML representation is unable to render, please try loading this page with nbviewer.org.</b></div><div class=\"sk-container\" hidden><div class=\"sk-item\"><div class=\"sk-estimator sk-toggleable\"><input class=\"sk-toggleable__control sk-hidden--visually\" id=\"sk-estimator-id-1\" type=\"checkbox\" checked><label for=\"sk-estimator-id-1\" class=\"sk-toggleable__label sk-toggleable__label-arrow\">DecisionTreeClassifier</label><div class=\"sk-toggleable__content\"><pre>DecisionTreeClassifier(max_depth=15, random_state=42)</pre></div></div></div></div></div>"
            ],
            "text/plain": [
              "DecisionTreeClassifier(max_depth=15, random_state=42)"
            ]
          },
          "execution_count": 133,
          "metadata": {},
          "output_type": "execute_result"
        }
      ],
      "source": [
        "clf_best"
      ]
    },
    {
      "cell_type": "code",
      "execution_count": 135,
      "metadata": {
        "id": "4su6awSjtQ5W"
      },
      "outputs": [],
      "source": [
        "# predict on a full dataset\n",
        "y_pred_clf_best = clf_best.predict(X_all)"
      ]
    },
    {
      "cell_type": "code",
      "execution_count": 136,
      "metadata": {
        "id": "1ZOQqQ0itR9o"
      },
      "outputs": [],
      "source": [
        "# defining a new prediction vector is easy now, as the dimensions will match\n",
        "new_df['pred6_clf_best'] = y_pred_clf_best"
      ]
    },
    {
      "cell_type": "code",
      "execution_count": 137,
      "metadata": {
        "colab": {
          "base_uri": "https://localhost:8080/"
        },
        "id": "5XxNt_9HtTlk",
        "outputId": "7bec5887-7c2a-4525-c496-22814af44705"
      },
      "outputs": [
        {
          "name": "stdout",
          "output_type": "stream",
          "text": [
            "Prediction columns founded: ['pred0_manual_cci', 'pred1_manual_prev_g1', 'pred2_manual_prev_g1_and_snp', 'pred3_manual_gdp_and_fastd', 'pred4_manual_gdp_and_wti30d', 'pred5_clf_10', 'pred6_clf_best']\n",
            "Created columns is_correct: ['is_correct_pred0', 'is_correct_pred1', 'is_correct_pred2', 'is_correct_pred3', 'is_correct_pred4', 'is_correct_pred5', 'is_correct_pred6']\n",
            "Precision on TEST set for each prediction:\n",
            "Prediction column:pred0_manual_cci , is_correct_column: is_correct_pred0\n",
            "is_correct_pred0\n",
            "1    455\n",
            "0    344\n",
            "Name: count, dtype: int64\n",
            "is_correct_pred0\n",
            "1    0.569462\n",
            "0    0.430538\n",
            "Name: count, dtype: float64\n",
            "---------\n",
            "Prediction column:pred1_manual_prev_g1 , is_correct_column: is_correct_pred1\n",
            "is_correct_pred1\n",
            "1    8621\n",
            "0    6980\n",
            "Name: count, dtype: int64\n",
            "is_correct_pred1\n",
            "1    0.552593\n",
            "0    0.447407\n",
            "Name: count, dtype: float64\n",
            "---------\n",
            "Prediction column:pred2_manual_prev_g1_and_snp , is_correct_column: is_correct_pred2\n",
            "is_correct_pred2\n",
            "1    5726\n",
            "0    4729\n",
            "Name: count, dtype: int64\n",
            "is_correct_pred2\n",
            "1    0.547681\n",
            "0    0.452319\n",
            "Name: count, dtype: float64\n",
            "---------\n",
            "Prediction column:pred3_manual_gdp_and_fastd , is_correct_column: is_correct_pred3\n",
            "is_correct_pred3\n",
            "1    16560\n",
            "0    13262\n",
            "Name: count, dtype: int64\n",
            "is_correct_pred3\n",
            "1    0.555295\n",
            "0    0.444705\n",
            "Name: count, dtype: float64\n",
            "---------\n",
            "Prediction column:pred4_manual_gdp_and_wti30d , is_correct_column: is_correct_pred4\n",
            "Series([], Name: count, dtype: int64)\n",
            "Series([], Name: count, dtype: float64)\n",
            "---------\n",
            "Prediction column:pred5_clf_10 , is_correct_column: is_correct_pred5\n",
            "is_correct_pred5\n",
            "1    14496\n",
            "0    11148\n",
            "Name: count, dtype: int64\n",
            "is_correct_pred5\n",
            "1    0.565278\n",
            "0    0.434722\n",
            "Name: count, dtype: float64\n",
            "---------\n",
            "Prediction column:pred6_clf_best , is_correct_column: is_correct_pred6\n",
            "is_correct_pred6\n",
            "1    11628\n",
            "0     8200\n",
            "Name: count, dtype: int64\n",
            "is_correct_pred6\n",
            "1    0.586443\n",
            "0    0.413557\n",
            "Name: count, dtype: float64\n",
            "---------\n"
          ]
        }
      ],
      "source": [
        "# new prediction is added --> need to recalculate the correctness\n",
        "PREDICTIONS, IS_CORRECT = get_predictions_correctness(df = new_df, to_predict=to_predict)"
      ]
    },
    {
      "cell_type": "markdown",
      "metadata": {
        "id": "g9oeczqgpHHY"
      },
      "source": [
        "## 1.3) Random Forest\n",
        "https://scikit-learn.org/stable/modules/ensemble.html#random-forests-and-other-randomized-tree-ensembles"
      ]
    },
    {
      "cell_type": "code",
      "execution_count": null,
      "metadata": {
        "id": "KPBgCdfopFlC"
      },
      "outputs": [],
      "source": [
        "# (ALMOST 3 HOURS) UNCOMMENT BELOW TO RUN HYPERPARAMs optimisation again\n",
        "# The best precision is 0.5778 and the best depth is 20\n",
        "# CPU times: user 2h 48min 27s, sys: 31.9 s, total: 2h 48min 59s\n",
        "# Wall time: 1h 39min 44s"
      ]
    },
    {
      "cell_type": "code",
      "execution_count": null,
      "metadata": {
        "id": "XmvVElr3pWLG"
      },
      "outputs": [],
      "source": [
        "# %%time\n",
        "# # hyper params tuning\n",
        "\n",
        "# precision_matrix = {}\n",
        "# best_precision = 0\n",
        "# best_depth = 0\n",
        "# best_estimators = 1\n",
        "\n",
        "# for depth in [15, 16, 17, 18, 19, 20]:\n",
        "#   for estimators in [50,100,200,500]:\n",
        "#     print(f'Working with HyperParams: depth = {depth}, estimators = {estimators}')\n",
        "\n",
        "#     # Start timing\n",
        "#     start_time = time.time()\n",
        "#     # fitting the tree on X_train, y_train\n",
        "#     rf = RandomForestClassifier(n_estimators = estimators,\n",
        "#                                 max_depth = depth,\n",
        "#                                 random_state = 42,\n",
        "#                                 n_jobs = -1)\n",
        "\n",
        "#     rf = rf.fit(X_train_valid, y_train_valid)\n",
        "\n",
        "#     # getting the predictions for TEST and accuracy score\n",
        "#     y_pred_valid = rf.predict(X_valid)\n",
        "#     precision_valid = precision_score(y_valid, y_pred_valid)\n",
        "#     y_pred_test = rf.predict(X_test)\n",
        "#     precision_test = precision_score(y_test, y_pred_test)\n",
        "#     print(f'  Precision on test is {precision_test}, (precision on valid is {precision_valid} - tend to overfit)')\n",
        "\n",
        "#     # saving to the dict\n",
        "#     precision_matrix[depth, estimators] = round(precision_test,4)\n",
        "\n",
        "#     # Measure elapsed time\n",
        "#     elapsed_time = time.time() - start_time\n",
        "#     print(f'Time for training: {elapsed_time:.2f} seconds, or {elapsed_time/60:.2f} minutes')\n",
        "\n",
        "#     # updating the best precision\n",
        "#     if precision_test >= best_precision:\n",
        "#       best_precision = round(precision_test,4)\n",
        "#       best_depth = depth\n",
        "#       best_estimators = estimators\n",
        "#       print(f'New best precision found for depth={depth}, estimators = {estimators}')\n",
        "\n",
        "#     print('------------------------------')\n",
        "\n",
        "# print(f'Matrix of precisions: {precision_matrix}')\n",
        "# print(f'The best precision is {best_precision} and the best depth is {best_depth} ')"
      ]
    },
    {
      "cell_type": "code",
      "execution_count": null,
      "metadata": {
        "id": "3p7fWd63pXtw"
      },
      "outputs": [],
      "source": [
        "# print(precision_matrix)"
      ]
    },
    {
      "cell_type": "code",
      "execution_count": 138,
      "metadata": {
        "id": "xh_ZPrYopZAy"
      },
      "outputs": [],
      "source": [
        "# pre-calculated best precision matrix (max_depth, n_estimators) for Random Forest for a full dataset (300 features) and is_positive_future_growth_5d\n",
        "best_precision_matrix_random_forest = {(15, 50): 0.5664, (15, 100): 0.565, (15, 200): 0.5711, (15, 500): 0.5741, (16, 50): 0.5703, (16, 100): 0.5679, (16, 200): 0.5728, (16, 500): 0.5739, (17, 50): 0.569, (17, 100): 0.569, (17, 200): 0.5734, (17, 500): 0.5709, (18, 50): 0.5641, (18, 100): 0.5636, (18, 200): 0.5704, (18, 500): 0.5678, (19, 50): 0.5634, (19, 100): 0.5623, (19, 200): 0.5683, (19, 500): 0.568, (20, 50): 0.561, (20, 100): 0.5655, (20, 200): 0.5744, (20, 500): 0.5778}\n"
      ]
    },
    {
      "cell_type": "code",
      "execution_count": 139,
      "metadata": {
        "colab": {
          "base_uri": "https://localhost:8080/",
          "height": 542
        },
        "id": "_mLg4zDypoB4",
        "outputId": "98f9c57c-808d-4f94-fc66-198c071b19c5"
      },
      "outputs": [
        {
          "data": {
            "application/vnd.plotly.v1+json": {
              "config": {
                "plotlyServerURL": "https://plot.ly"
              },
              "data": [
                {
                  "hovertemplate": "Number of Estimators=50<br>Max Depth=%{x}<br>Precision Score=%{y}<extra></extra>",
                  "legendgroup": "50",
                  "line": {
                    "color": "#636efa",
                    "dash": "solid"
                  },
                  "marker": {
                    "symbol": "circle"
                  },
                  "mode": "lines",
                  "name": "50",
                  "orientation": "v",
                  "showlegend": true,
                  "type": "scatter",
                  "x": [
                    15,
                    16,
                    17,
                    18,
                    19,
                    20
                  ],
                  "xaxis": "x",
                  "y": [
                    0.5664,
                    0.5703,
                    0.569,
                    0.5641,
                    0.5634,
                    0.561
                  ],
                  "yaxis": "y"
                },
                {
                  "hovertemplate": "Number of Estimators=100<br>Max Depth=%{x}<br>Precision Score=%{y}<extra></extra>",
                  "legendgroup": "100",
                  "line": {
                    "color": "#EF553B",
                    "dash": "solid"
                  },
                  "marker": {
                    "symbol": "circle"
                  },
                  "mode": "lines",
                  "name": "100",
                  "orientation": "v",
                  "showlegend": true,
                  "type": "scatter",
                  "x": [
                    15,
                    16,
                    17,
                    18,
                    19,
                    20
                  ],
                  "xaxis": "x",
                  "y": [
                    0.565,
                    0.5679,
                    0.569,
                    0.5636,
                    0.5623,
                    0.5655
                  ],
                  "yaxis": "y"
                },
                {
                  "hovertemplate": "Number of Estimators=200<br>Max Depth=%{x}<br>Precision Score=%{y}<extra></extra>",
                  "legendgroup": "200",
                  "line": {
                    "color": "#00cc96",
                    "dash": "solid"
                  },
                  "marker": {
                    "symbol": "circle"
                  },
                  "mode": "lines",
                  "name": "200",
                  "orientation": "v",
                  "showlegend": true,
                  "type": "scatter",
                  "x": [
                    15,
                    16,
                    17,
                    18,
                    19,
                    20
                  ],
                  "xaxis": "x",
                  "y": [
                    0.5711,
                    0.5728,
                    0.5734,
                    0.5704,
                    0.5683,
                    0.5744
                  ],
                  "yaxis": "y"
                },
                {
                  "hovertemplate": "Number of Estimators=500<br>Max Depth=%{x}<br>Precision Score=%{y}<extra></extra>",
                  "legendgroup": "500",
                  "line": {
                    "color": "#ab63fa",
                    "dash": "solid"
                  },
                  "marker": {
                    "symbol": "circle"
                  },
                  "mode": "lines",
                  "name": "500",
                  "orientation": "v",
                  "showlegend": true,
                  "type": "scatter",
                  "x": [
                    15,
                    16,
                    17,
                    18,
                    19,
                    20
                  ],
                  "xaxis": "x",
                  "y": [
                    0.5741,
                    0.5739,
                    0.5709,
                    0.5678,
                    0.568,
                    0.5778
                  ],
                  "yaxis": "y"
                }
              ],
              "layout": {
                "legend": {
                  "title": {
                    "text": "Number of Estimators"
                  },
                  "tracegroupgap": 0
                },
                "template": {
                  "data": {
                    "bar": [
                      {
                        "error_x": {
                          "color": "#2a3f5f"
                        },
                        "error_y": {
                          "color": "#2a3f5f"
                        },
                        "marker": {
                          "line": {
                            "color": "#E5ECF6",
                            "width": 0.5
                          },
                          "pattern": {
                            "fillmode": "overlay",
                            "size": 10,
                            "solidity": 0.2
                          }
                        },
                        "type": "bar"
                      }
                    ],
                    "barpolar": [
                      {
                        "marker": {
                          "line": {
                            "color": "#E5ECF6",
                            "width": 0.5
                          },
                          "pattern": {
                            "fillmode": "overlay",
                            "size": 10,
                            "solidity": 0.2
                          }
                        },
                        "type": "barpolar"
                      }
                    ],
                    "carpet": [
                      {
                        "aaxis": {
                          "endlinecolor": "#2a3f5f",
                          "gridcolor": "white",
                          "linecolor": "white",
                          "minorgridcolor": "white",
                          "startlinecolor": "#2a3f5f"
                        },
                        "baxis": {
                          "endlinecolor": "#2a3f5f",
                          "gridcolor": "white",
                          "linecolor": "white",
                          "minorgridcolor": "white",
                          "startlinecolor": "#2a3f5f"
                        },
                        "type": "carpet"
                      }
                    ],
                    "choropleth": [
                      {
                        "colorbar": {
                          "outlinewidth": 0,
                          "ticks": ""
                        },
                        "type": "choropleth"
                      }
                    ],
                    "contour": [
                      {
                        "colorbar": {
                          "outlinewidth": 0,
                          "ticks": ""
                        },
                        "colorscale": [
                          [
                            0,
                            "#0d0887"
                          ],
                          [
                            0.1111111111111111,
                            "#46039f"
                          ],
                          [
                            0.2222222222222222,
                            "#7201a8"
                          ],
                          [
                            0.3333333333333333,
                            "#9c179e"
                          ],
                          [
                            0.4444444444444444,
                            "#bd3786"
                          ],
                          [
                            0.5555555555555556,
                            "#d8576b"
                          ],
                          [
                            0.6666666666666666,
                            "#ed7953"
                          ],
                          [
                            0.7777777777777778,
                            "#fb9f3a"
                          ],
                          [
                            0.8888888888888888,
                            "#fdca26"
                          ],
                          [
                            1,
                            "#f0f921"
                          ]
                        ],
                        "type": "contour"
                      }
                    ],
                    "contourcarpet": [
                      {
                        "colorbar": {
                          "outlinewidth": 0,
                          "ticks": ""
                        },
                        "type": "contourcarpet"
                      }
                    ],
                    "heatmap": [
                      {
                        "colorbar": {
                          "outlinewidth": 0,
                          "ticks": ""
                        },
                        "colorscale": [
                          [
                            0,
                            "#0d0887"
                          ],
                          [
                            0.1111111111111111,
                            "#46039f"
                          ],
                          [
                            0.2222222222222222,
                            "#7201a8"
                          ],
                          [
                            0.3333333333333333,
                            "#9c179e"
                          ],
                          [
                            0.4444444444444444,
                            "#bd3786"
                          ],
                          [
                            0.5555555555555556,
                            "#d8576b"
                          ],
                          [
                            0.6666666666666666,
                            "#ed7953"
                          ],
                          [
                            0.7777777777777778,
                            "#fb9f3a"
                          ],
                          [
                            0.8888888888888888,
                            "#fdca26"
                          ],
                          [
                            1,
                            "#f0f921"
                          ]
                        ],
                        "type": "heatmap"
                      }
                    ],
                    "heatmapgl": [
                      {
                        "colorbar": {
                          "outlinewidth": 0,
                          "ticks": ""
                        },
                        "colorscale": [
                          [
                            0,
                            "#0d0887"
                          ],
                          [
                            0.1111111111111111,
                            "#46039f"
                          ],
                          [
                            0.2222222222222222,
                            "#7201a8"
                          ],
                          [
                            0.3333333333333333,
                            "#9c179e"
                          ],
                          [
                            0.4444444444444444,
                            "#bd3786"
                          ],
                          [
                            0.5555555555555556,
                            "#d8576b"
                          ],
                          [
                            0.6666666666666666,
                            "#ed7953"
                          ],
                          [
                            0.7777777777777778,
                            "#fb9f3a"
                          ],
                          [
                            0.8888888888888888,
                            "#fdca26"
                          ],
                          [
                            1,
                            "#f0f921"
                          ]
                        ],
                        "type": "heatmapgl"
                      }
                    ],
                    "histogram": [
                      {
                        "marker": {
                          "pattern": {
                            "fillmode": "overlay",
                            "size": 10,
                            "solidity": 0.2
                          }
                        },
                        "type": "histogram"
                      }
                    ],
                    "histogram2d": [
                      {
                        "colorbar": {
                          "outlinewidth": 0,
                          "ticks": ""
                        },
                        "colorscale": [
                          [
                            0,
                            "#0d0887"
                          ],
                          [
                            0.1111111111111111,
                            "#46039f"
                          ],
                          [
                            0.2222222222222222,
                            "#7201a8"
                          ],
                          [
                            0.3333333333333333,
                            "#9c179e"
                          ],
                          [
                            0.4444444444444444,
                            "#bd3786"
                          ],
                          [
                            0.5555555555555556,
                            "#d8576b"
                          ],
                          [
                            0.6666666666666666,
                            "#ed7953"
                          ],
                          [
                            0.7777777777777778,
                            "#fb9f3a"
                          ],
                          [
                            0.8888888888888888,
                            "#fdca26"
                          ],
                          [
                            1,
                            "#f0f921"
                          ]
                        ],
                        "type": "histogram2d"
                      }
                    ],
                    "histogram2dcontour": [
                      {
                        "colorbar": {
                          "outlinewidth": 0,
                          "ticks": ""
                        },
                        "colorscale": [
                          [
                            0,
                            "#0d0887"
                          ],
                          [
                            0.1111111111111111,
                            "#46039f"
                          ],
                          [
                            0.2222222222222222,
                            "#7201a8"
                          ],
                          [
                            0.3333333333333333,
                            "#9c179e"
                          ],
                          [
                            0.4444444444444444,
                            "#bd3786"
                          ],
                          [
                            0.5555555555555556,
                            "#d8576b"
                          ],
                          [
                            0.6666666666666666,
                            "#ed7953"
                          ],
                          [
                            0.7777777777777778,
                            "#fb9f3a"
                          ],
                          [
                            0.8888888888888888,
                            "#fdca26"
                          ],
                          [
                            1,
                            "#f0f921"
                          ]
                        ],
                        "type": "histogram2dcontour"
                      }
                    ],
                    "mesh3d": [
                      {
                        "colorbar": {
                          "outlinewidth": 0,
                          "ticks": ""
                        },
                        "type": "mesh3d"
                      }
                    ],
                    "parcoords": [
                      {
                        "line": {
                          "colorbar": {
                            "outlinewidth": 0,
                            "ticks": ""
                          }
                        },
                        "type": "parcoords"
                      }
                    ],
                    "pie": [
                      {
                        "automargin": true,
                        "type": "pie"
                      }
                    ],
                    "scatter": [
                      {
                        "fillpattern": {
                          "fillmode": "overlay",
                          "size": 10,
                          "solidity": 0.2
                        },
                        "type": "scatter"
                      }
                    ],
                    "scatter3d": [
                      {
                        "line": {
                          "colorbar": {
                            "outlinewidth": 0,
                            "ticks": ""
                          }
                        },
                        "marker": {
                          "colorbar": {
                            "outlinewidth": 0,
                            "ticks": ""
                          }
                        },
                        "type": "scatter3d"
                      }
                    ],
                    "scattercarpet": [
                      {
                        "marker": {
                          "colorbar": {
                            "outlinewidth": 0,
                            "ticks": ""
                          }
                        },
                        "type": "scattercarpet"
                      }
                    ],
                    "scattergeo": [
                      {
                        "marker": {
                          "colorbar": {
                            "outlinewidth": 0,
                            "ticks": ""
                          }
                        },
                        "type": "scattergeo"
                      }
                    ],
                    "scattergl": [
                      {
                        "marker": {
                          "colorbar": {
                            "outlinewidth": 0,
                            "ticks": ""
                          }
                        },
                        "type": "scattergl"
                      }
                    ],
                    "scattermapbox": [
                      {
                        "marker": {
                          "colorbar": {
                            "outlinewidth": 0,
                            "ticks": ""
                          }
                        },
                        "type": "scattermapbox"
                      }
                    ],
                    "scatterpolar": [
                      {
                        "marker": {
                          "colorbar": {
                            "outlinewidth": 0,
                            "ticks": ""
                          }
                        },
                        "type": "scatterpolar"
                      }
                    ],
                    "scatterpolargl": [
                      {
                        "marker": {
                          "colorbar": {
                            "outlinewidth": 0,
                            "ticks": ""
                          }
                        },
                        "type": "scatterpolargl"
                      }
                    ],
                    "scatterternary": [
                      {
                        "marker": {
                          "colorbar": {
                            "outlinewidth": 0,
                            "ticks": ""
                          }
                        },
                        "type": "scatterternary"
                      }
                    ],
                    "surface": [
                      {
                        "colorbar": {
                          "outlinewidth": 0,
                          "ticks": ""
                        },
                        "colorscale": [
                          [
                            0,
                            "#0d0887"
                          ],
                          [
                            0.1111111111111111,
                            "#46039f"
                          ],
                          [
                            0.2222222222222222,
                            "#7201a8"
                          ],
                          [
                            0.3333333333333333,
                            "#9c179e"
                          ],
                          [
                            0.4444444444444444,
                            "#bd3786"
                          ],
                          [
                            0.5555555555555556,
                            "#d8576b"
                          ],
                          [
                            0.6666666666666666,
                            "#ed7953"
                          ],
                          [
                            0.7777777777777778,
                            "#fb9f3a"
                          ],
                          [
                            0.8888888888888888,
                            "#fdca26"
                          ],
                          [
                            1,
                            "#f0f921"
                          ]
                        ],
                        "type": "surface"
                      }
                    ],
                    "table": [
                      {
                        "cells": {
                          "fill": {
                            "color": "#EBF0F8"
                          },
                          "line": {
                            "color": "white"
                          }
                        },
                        "header": {
                          "fill": {
                            "color": "#C8D4E3"
                          },
                          "line": {
                            "color": "white"
                          }
                        },
                        "type": "table"
                      }
                    ]
                  },
                  "layout": {
                    "annotationdefaults": {
                      "arrowcolor": "#2a3f5f",
                      "arrowhead": 0,
                      "arrowwidth": 1
                    },
                    "autotypenumbers": "strict",
                    "coloraxis": {
                      "colorbar": {
                        "outlinewidth": 0,
                        "ticks": ""
                      }
                    },
                    "colorscale": {
                      "diverging": [
                        [
                          0,
                          "#8e0152"
                        ],
                        [
                          0.1,
                          "#c51b7d"
                        ],
                        [
                          0.2,
                          "#de77ae"
                        ],
                        [
                          0.3,
                          "#f1b6da"
                        ],
                        [
                          0.4,
                          "#fde0ef"
                        ],
                        [
                          0.5,
                          "#f7f7f7"
                        ],
                        [
                          0.6,
                          "#e6f5d0"
                        ],
                        [
                          0.7,
                          "#b8e186"
                        ],
                        [
                          0.8,
                          "#7fbc41"
                        ],
                        [
                          0.9,
                          "#4d9221"
                        ],
                        [
                          1,
                          "#276419"
                        ]
                      ],
                      "sequential": [
                        [
                          0,
                          "#0d0887"
                        ],
                        [
                          0.1111111111111111,
                          "#46039f"
                        ],
                        [
                          0.2222222222222222,
                          "#7201a8"
                        ],
                        [
                          0.3333333333333333,
                          "#9c179e"
                        ],
                        [
                          0.4444444444444444,
                          "#bd3786"
                        ],
                        [
                          0.5555555555555556,
                          "#d8576b"
                        ],
                        [
                          0.6666666666666666,
                          "#ed7953"
                        ],
                        [
                          0.7777777777777778,
                          "#fb9f3a"
                        ],
                        [
                          0.8888888888888888,
                          "#fdca26"
                        ],
                        [
                          1,
                          "#f0f921"
                        ]
                      ],
                      "sequentialminus": [
                        [
                          0,
                          "#0d0887"
                        ],
                        [
                          0.1111111111111111,
                          "#46039f"
                        ],
                        [
                          0.2222222222222222,
                          "#7201a8"
                        ],
                        [
                          0.3333333333333333,
                          "#9c179e"
                        ],
                        [
                          0.4444444444444444,
                          "#bd3786"
                        ],
                        [
                          0.5555555555555556,
                          "#d8576b"
                        ],
                        [
                          0.6666666666666666,
                          "#ed7953"
                        ],
                        [
                          0.7777777777777778,
                          "#fb9f3a"
                        ],
                        [
                          0.8888888888888888,
                          "#fdca26"
                        ],
                        [
                          1,
                          "#f0f921"
                        ]
                      ]
                    },
                    "colorway": [
                      "#636efa",
                      "#EF553B",
                      "#00cc96",
                      "#ab63fa",
                      "#FFA15A",
                      "#19d3f3",
                      "#FF6692",
                      "#B6E880",
                      "#FF97FF",
                      "#FECB52"
                    ],
                    "font": {
                      "color": "#2a3f5f"
                    },
                    "geo": {
                      "bgcolor": "white",
                      "lakecolor": "white",
                      "landcolor": "#E5ECF6",
                      "showlakes": true,
                      "showland": true,
                      "subunitcolor": "white"
                    },
                    "hoverlabel": {
                      "align": "left"
                    },
                    "hovermode": "closest",
                    "mapbox": {
                      "style": "light"
                    },
                    "paper_bgcolor": "white",
                    "plot_bgcolor": "#E5ECF6",
                    "polar": {
                      "angularaxis": {
                        "gridcolor": "white",
                        "linecolor": "white",
                        "ticks": ""
                      },
                      "bgcolor": "#E5ECF6",
                      "radialaxis": {
                        "gridcolor": "white",
                        "linecolor": "white",
                        "ticks": ""
                      }
                    },
                    "scene": {
                      "xaxis": {
                        "backgroundcolor": "#E5ECF6",
                        "gridcolor": "white",
                        "gridwidth": 2,
                        "linecolor": "white",
                        "showbackground": true,
                        "ticks": "",
                        "zerolinecolor": "white"
                      },
                      "yaxis": {
                        "backgroundcolor": "#E5ECF6",
                        "gridcolor": "white",
                        "gridwidth": 2,
                        "linecolor": "white",
                        "showbackground": true,
                        "ticks": "",
                        "zerolinecolor": "white"
                      },
                      "zaxis": {
                        "backgroundcolor": "#E5ECF6",
                        "gridcolor": "white",
                        "gridwidth": 2,
                        "linecolor": "white",
                        "showbackground": true,
                        "ticks": "",
                        "zerolinecolor": "white"
                      }
                    },
                    "shapedefaults": {
                      "line": {
                        "color": "#2a3f5f"
                      }
                    },
                    "ternary": {
                      "aaxis": {
                        "gridcolor": "white",
                        "linecolor": "white",
                        "ticks": ""
                      },
                      "baxis": {
                        "gridcolor": "white",
                        "linecolor": "white",
                        "ticks": ""
                      },
                      "bgcolor": "#E5ECF6",
                      "caxis": {
                        "gridcolor": "white",
                        "linecolor": "white",
                        "ticks": ""
                      }
                    },
                    "title": {
                      "x": 0.05
                    },
                    "xaxis": {
                      "automargin": true,
                      "gridcolor": "white",
                      "linecolor": "white",
                      "ticks": "",
                      "title": {
                        "standoff": 15
                      },
                      "zerolinecolor": "white",
                      "zerolinewidth": 2
                    },
                    "yaxis": {
                      "automargin": true,
                      "gridcolor": "white",
                      "linecolor": "white",
                      "ticks": "",
                      "title": {
                        "standoff": 15
                      },
                      "zerolinecolor": "white",
                      "zerolinewidth": 2
                    }
                  }
                },
                "title": {
                  "text": "Random Forest Models: Precision Score vs. Max Depth for Different Number of Estimators"
                },
                "xaxis": {
                  "anchor": "y",
                  "domain": [
                    0,
                    1
                  ],
                  "range": [
                    15,
                    20
                  ],
                  "title": {
                    "text": "Max Depth"
                  }
                },
                "yaxis": {
                  "anchor": "x",
                  "domain": [
                    0,
                    1
                  ],
                  "title": {
                    "text": "Precision Score"
                  }
                }
              }
            }
          },
          "metadata": {},
          "output_type": "display_data"
        }
      ],
      "source": [
        "\n",
        "# Convert data to DataFrame\n",
        "df = pd.DataFrame.from_dict(best_precision_matrix_random_forest, orient='index', columns=['precision_score']).reset_index()\n",
        "\n",
        "# Rename the columns for clarity\n",
        "df.columns = ['max_depth_and_metric', 'precision_score']\n",
        "\n",
        "# Separate the tuple into two columns\n",
        "df[['max_depth', 'n_estimators']] = pd.DataFrame(df['max_depth_and_metric'].tolist(), index=df.index)\n",
        "\n",
        "# Drop the combined column\n",
        "df = df.drop(columns=['max_depth_and_metric'])\n",
        "\n",
        "# Create line plot using Plotly Express\n",
        "fig = px.line(df, x='max_depth', y='precision_score', color='n_estimators',\n",
        "              labels={'max_depth': 'Max Depth', 'precision_score': 'Precision Score', 'n_estimators': 'Number of Estimators'},\n",
        "              title='Random Forest Models: Precision Score vs. Max Depth for Different Number of Estimators')\n",
        "\n",
        "# Adjust x-axis range\n",
        "fig.update_xaxes(range=[15, 20])\n",
        "\n",
        "# Show the figure\n",
        "fig.show()"
      ]
    },
    {
      "cell_type": "code",
      "execution_count": 140,
      "metadata": {
        "colab": {
          "base_uri": "https://localhost:8080/"
        },
        "id": "f89wTM0wpoNP",
        "outputId": "d420245a-dcea-437b-afed-72f825d8f276"
      },
      "outputs": [
        {
          "name": "stdout",
          "output_type": "stream",
          "text": [
            "CPU times: total: 8min 41s\n",
            "Wall time: 42.5 s\n"
          ]
        }
      ],
      "source": [
        "%%time\n",
        "\n",
        "# Suboptimal Predictor with less (than optimal) Estimators (200) and lower Max_Depth (17)\n",
        "# several minutes to compute (6 min)\n",
        "\n",
        "rf_best = RandomForestClassifier(n_estimators = 200,\n",
        "                                 max_depth = 17,\n",
        "                                 random_state = 42,\n",
        "                                 n_jobs = -1)\n",
        "\n",
        "rf_best = rf_best.fit(X_train_valid, y_train_valid)"
      ]
    },
    {
      "cell_type": "markdown",
      "metadata": {
        "id": "9f87ZB8Jp5Ri"
      },
      "source": [
        "## 1.4 Logistic Regression\n",
        "\n",
        "https://scikit-learn.org/stable/modules/generated/sklearn.linear_model.LogisticRegression.html\n",
        "\n",
        "There can be many reasons when Logistic Regression does not converge: https://forecastegy.com/posts/how-to-solve-logistic-regression-not-converging-in-scikit-learn/"
      ]
    },
    {
      "cell_type": "code",
      "execution_count": null,
      "metadata": {
        "id": "nGTYxIpvqFm2"
      },
      "outputs": [],
      "source": [
        "# precision_matrix = {}\n",
        "# best_precision = 0\n",
        "# best_C = 0\n",
        "# best_iter = 0\n",
        "\n",
        "# for c in [1, 0.1, 0.01]:\n",
        "#   for iter in [50, 100, 200]:\n",
        "#     print(f'Working with HyperParams: C = {c} (positive float, smaller = stronger regularization), max_iter={iter}')\n",
        "#     # fitting the tree on X_train, y_train\n",
        "#       # hyperParam C should be between 0 and 1\n",
        "#     lr = LogisticRegression(C=c,\n",
        "#                             random_state=42,\n",
        "#                             max_iter=iter,\n",
        "#                             solver='sag',\n",
        "#                             n_jobs=-1)\n",
        "\n",
        "#     lr = lr.fit(X_train_valid, y_train_valid)\n",
        "\n",
        "#     # getting the predictions for TEST and accuracy score\n",
        "#     y_pred_valid = lr.predict(X_valid)\n",
        "#     precision_valid = precision_score(y_valid, y_pred_valid)\n",
        "#     y_pred_test = lr.predict(X_test)\n",
        "#     precision_test = precision_score(y_test, y_pred_test)\n",
        "#     print(f'  Precision on test is {precision_test}, (precision on valid is {precision_valid} - tend to overfit)')\n",
        "#     # saving to the dict\n",
        "#     precision_matrix[(c,iter)] = round(precision_test,4)\n",
        "#     # updating the best precision\n",
        "#     if precision_test >= best_precision:\n",
        "#       best_precision = round(precision_test,4)\n",
        "#       best_C = c\n",
        "#       best_iter = iter\n",
        "#       print(f'New best precision found for C={c}')\n",
        "#       print('------------------------------')\n",
        "\n",
        "# print(f'Matrix of precisions: {precision_matrix}')\n",
        "# print(f'The best precision is {best_precision} and the best C is {best_C}, best max_iter = {best_iter}  ')"
      ]
    },
    {
      "cell_type": "code",
      "execution_count": null,
      "metadata": {
        "id": "6Ld4QIPXqGa-"
      },
      "outputs": [],
      "source": [
        "# UNCOMMENT TO SEE THE RESULTS OF THE RUN\n",
        "# print(precision_matrix)"
      ]
    },
    {
      "cell_type": "code",
      "execution_count": 141,
      "metadata": {
        "id": "QxSsyYWGqHSr"
      },
      "outputs": [],
      "source": [
        "# Params on C, iter\n",
        "best_precision_matrix_logistic_regression = {(1, 50): 0.5551, (1, 100): 0.555, (1, 200): 0.555, (0.1, 50): 0.5551, (0.1, 100): 0.555, (0.1, 200): 0.555, (0.01, 50): 0.5551, (0.01, 100): 0.555, (0.01, 200): 0.555}\n"
      ]
    },
    {
      "cell_type": "code",
      "execution_count": 142,
      "metadata": {
        "colab": {
          "base_uri": "https://localhost:8080/"
        },
        "id": "I8S8HmAQqIgB",
        "outputId": "0b658649-28a7-4fff-e784-2b70995f93e9"
      },
      "outputs": [
        {
          "data": {
            "text/plain": [
              "((1, 50), 0.5551)"
            ]
          },
          "execution_count": 142,
          "metadata": {},
          "output_type": "execute_result"
        }
      ],
      "source": [
        "list(best_precision_matrix_logistic_regression.items())[0]"
      ]
    },
    {
      "cell_type": "code",
      "execution_count": 143,
      "metadata": {
        "colab": {
          "base_uri": "https://localhost:8080/",
          "height": 542
        },
        "id": "G35N2HI2qK3-",
        "outputId": "9fe381ab-7cdb-4ae5-b278-3f464c7dbbaf"
      },
      "outputs": [
        {
          "data": {
            "application/vnd.plotly.v1+json": {
              "config": {
                "plotlyServerURL": "https://plot.ly"
              },
              "data": [
                {
                  "alignmentgroup": "True",
                  "hovertemplate": "Combination=%{x}<br>Precision=%{text}<extra></extra>",
                  "legendgroup": "",
                  "marker": {
                    "color": "#636efa",
                    "pattern": {
                      "shape": ""
                    }
                  },
                  "name": "",
                  "offsetgroup": "",
                  "orientation": "v",
                  "showlegend": false,
                  "text": [
                    55.510000000000005,
                    55.50000000000001,
                    55.50000000000001,
                    55.510000000000005,
                    55.50000000000001,
                    55.50000000000001,
                    55.510000000000005,
                    55.50000000000001,
                    55.50000000000001
                  ],
                  "textfont": {
                    "color": "white"
                  },
                  "textposition": "inside",
                  "texttemplate": "%{text:.2f}%",
                  "type": "bar",
                  "x": [
                    "C=1, max_iter=50",
                    "C=1, max_iter=100",
                    "C=1, max_iter=200",
                    "C=0.1, max_iter=50",
                    "C=0.1, max_iter=100",
                    "C=0.1, max_iter=200",
                    "C=0.01, max_iter=50",
                    "C=0.01, max_iter=100",
                    "C=0.01, max_iter=200"
                  ],
                  "xaxis": "x",
                  "y": [
                    55.510000000000005,
                    55.50000000000001,
                    55.50000000000001,
                    55.510000000000005,
                    55.50000000000001,
                    55.50000000000001,
                    55.510000000000005,
                    55.50000000000001,
                    55.50000000000001
                  ],
                  "yaxis": "y"
                }
              ],
              "layout": {
                "barmode": "relative",
                "legend": {
                  "tracegroupgap": 0
                },
                "margin": {
                  "t": 60
                },
                "template": {
                  "data": {
                    "bar": [
                      {
                        "error_x": {
                          "color": "#2a3f5f"
                        },
                        "error_y": {
                          "color": "#2a3f5f"
                        },
                        "marker": {
                          "line": {
                            "color": "#E5ECF6",
                            "width": 0.5
                          },
                          "pattern": {
                            "fillmode": "overlay",
                            "size": 10,
                            "solidity": 0.2
                          }
                        },
                        "type": "bar"
                      }
                    ],
                    "barpolar": [
                      {
                        "marker": {
                          "line": {
                            "color": "#E5ECF6",
                            "width": 0.5
                          },
                          "pattern": {
                            "fillmode": "overlay",
                            "size": 10,
                            "solidity": 0.2
                          }
                        },
                        "type": "barpolar"
                      }
                    ],
                    "carpet": [
                      {
                        "aaxis": {
                          "endlinecolor": "#2a3f5f",
                          "gridcolor": "white",
                          "linecolor": "white",
                          "minorgridcolor": "white",
                          "startlinecolor": "#2a3f5f"
                        },
                        "baxis": {
                          "endlinecolor": "#2a3f5f",
                          "gridcolor": "white",
                          "linecolor": "white",
                          "minorgridcolor": "white",
                          "startlinecolor": "#2a3f5f"
                        },
                        "type": "carpet"
                      }
                    ],
                    "choropleth": [
                      {
                        "colorbar": {
                          "outlinewidth": 0,
                          "ticks": ""
                        },
                        "type": "choropleth"
                      }
                    ],
                    "contour": [
                      {
                        "colorbar": {
                          "outlinewidth": 0,
                          "ticks": ""
                        },
                        "colorscale": [
                          [
                            0,
                            "#0d0887"
                          ],
                          [
                            0.1111111111111111,
                            "#46039f"
                          ],
                          [
                            0.2222222222222222,
                            "#7201a8"
                          ],
                          [
                            0.3333333333333333,
                            "#9c179e"
                          ],
                          [
                            0.4444444444444444,
                            "#bd3786"
                          ],
                          [
                            0.5555555555555556,
                            "#d8576b"
                          ],
                          [
                            0.6666666666666666,
                            "#ed7953"
                          ],
                          [
                            0.7777777777777778,
                            "#fb9f3a"
                          ],
                          [
                            0.8888888888888888,
                            "#fdca26"
                          ],
                          [
                            1,
                            "#f0f921"
                          ]
                        ],
                        "type": "contour"
                      }
                    ],
                    "contourcarpet": [
                      {
                        "colorbar": {
                          "outlinewidth": 0,
                          "ticks": ""
                        },
                        "type": "contourcarpet"
                      }
                    ],
                    "heatmap": [
                      {
                        "colorbar": {
                          "outlinewidth": 0,
                          "ticks": ""
                        },
                        "colorscale": [
                          [
                            0,
                            "#0d0887"
                          ],
                          [
                            0.1111111111111111,
                            "#46039f"
                          ],
                          [
                            0.2222222222222222,
                            "#7201a8"
                          ],
                          [
                            0.3333333333333333,
                            "#9c179e"
                          ],
                          [
                            0.4444444444444444,
                            "#bd3786"
                          ],
                          [
                            0.5555555555555556,
                            "#d8576b"
                          ],
                          [
                            0.6666666666666666,
                            "#ed7953"
                          ],
                          [
                            0.7777777777777778,
                            "#fb9f3a"
                          ],
                          [
                            0.8888888888888888,
                            "#fdca26"
                          ],
                          [
                            1,
                            "#f0f921"
                          ]
                        ],
                        "type": "heatmap"
                      }
                    ],
                    "heatmapgl": [
                      {
                        "colorbar": {
                          "outlinewidth": 0,
                          "ticks": ""
                        },
                        "colorscale": [
                          [
                            0,
                            "#0d0887"
                          ],
                          [
                            0.1111111111111111,
                            "#46039f"
                          ],
                          [
                            0.2222222222222222,
                            "#7201a8"
                          ],
                          [
                            0.3333333333333333,
                            "#9c179e"
                          ],
                          [
                            0.4444444444444444,
                            "#bd3786"
                          ],
                          [
                            0.5555555555555556,
                            "#d8576b"
                          ],
                          [
                            0.6666666666666666,
                            "#ed7953"
                          ],
                          [
                            0.7777777777777778,
                            "#fb9f3a"
                          ],
                          [
                            0.8888888888888888,
                            "#fdca26"
                          ],
                          [
                            1,
                            "#f0f921"
                          ]
                        ],
                        "type": "heatmapgl"
                      }
                    ],
                    "histogram": [
                      {
                        "marker": {
                          "pattern": {
                            "fillmode": "overlay",
                            "size": 10,
                            "solidity": 0.2
                          }
                        },
                        "type": "histogram"
                      }
                    ],
                    "histogram2d": [
                      {
                        "colorbar": {
                          "outlinewidth": 0,
                          "ticks": ""
                        },
                        "colorscale": [
                          [
                            0,
                            "#0d0887"
                          ],
                          [
                            0.1111111111111111,
                            "#46039f"
                          ],
                          [
                            0.2222222222222222,
                            "#7201a8"
                          ],
                          [
                            0.3333333333333333,
                            "#9c179e"
                          ],
                          [
                            0.4444444444444444,
                            "#bd3786"
                          ],
                          [
                            0.5555555555555556,
                            "#d8576b"
                          ],
                          [
                            0.6666666666666666,
                            "#ed7953"
                          ],
                          [
                            0.7777777777777778,
                            "#fb9f3a"
                          ],
                          [
                            0.8888888888888888,
                            "#fdca26"
                          ],
                          [
                            1,
                            "#f0f921"
                          ]
                        ],
                        "type": "histogram2d"
                      }
                    ],
                    "histogram2dcontour": [
                      {
                        "colorbar": {
                          "outlinewidth": 0,
                          "ticks": ""
                        },
                        "colorscale": [
                          [
                            0,
                            "#0d0887"
                          ],
                          [
                            0.1111111111111111,
                            "#46039f"
                          ],
                          [
                            0.2222222222222222,
                            "#7201a8"
                          ],
                          [
                            0.3333333333333333,
                            "#9c179e"
                          ],
                          [
                            0.4444444444444444,
                            "#bd3786"
                          ],
                          [
                            0.5555555555555556,
                            "#d8576b"
                          ],
                          [
                            0.6666666666666666,
                            "#ed7953"
                          ],
                          [
                            0.7777777777777778,
                            "#fb9f3a"
                          ],
                          [
                            0.8888888888888888,
                            "#fdca26"
                          ],
                          [
                            1,
                            "#f0f921"
                          ]
                        ],
                        "type": "histogram2dcontour"
                      }
                    ],
                    "mesh3d": [
                      {
                        "colorbar": {
                          "outlinewidth": 0,
                          "ticks": ""
                        },
                        "type": "mesh3d"
                      }
                    ],
                    "parcoords": [
                      {
                        "line": {
                          "colorbar": {
                            "outlinewidth": 0,
                            "ticks": ""
                          }
                        },
                        "type": "parcoords"
                      }
                    ],
                    "pie": [
                      {
                        "automargin": true,
                        "type": "pie"
                      }
                    ],
                    "scatter": [
                      {
                        "fillpattern": {
                          "fillmode": "overlay",
                          "size": 10,
                          "solidity": 0.2
                        },
                        "type": "scatter"
                      }
                    ],
                    "scatter3d": [
                      {
                        "line": {
                          "colorbar": {
                            "outlinewidth": 0,
                            "ticks": ""
                          }
                        },
                        "marker": {
                          "colorbar": {
                            "outlinewidth": 0,
                            "ticks": ""
                          }
                        },
                        "type": "scatter3d"
                      }
                    ],
                    "scattercarpet": [
                      {
                        "marker": {
                          "colorbar": {
                            "outlinewidth": 0,
                            "ticks": ""
                          }
                        },
                        "type": "scattercarpet"
                      }
                    ],
                    "scattergeo": [
                      {
                        "marker": {
                          "colorbar": {
                            "outlinewidth": 0,
                            "ticks": ""
                          }
                        },
                        "type": "scattergeo"
                      }
                    ],
                    "scattergl": [
                      {
                        "marker": {
                          "colorbar": {
                            "outlinewidth": 0,
                            "ticks": ""
                          }
                        },
                        "type": "scattergl"
                      }
                    ],
                    "scattermapbox": [
                      {
                        "marker": {
                          "colorbar": {
                            "outlinewidth": 0,
                            "ticks": ""
                          }
                        },
                        "type": "scattermapbox"
                      }
                    ],
                    "scatterpolar": [
                      {
                        "marker": {
                          "colorbar": {
                            "outlinewidth": 0,
                            "ticks": ""
                          }
                        },
                        "type": "scatterpolar"
                      }
                    ],
                    "scatterpolargl": [
                      {
                        "marker": {
                          "colorbar": {
                            "outlinewidth": 0,
                            "ticks": ""
                          }
                        },
                        "type": "scatterpolargl"
                      }
                    ],
                    "scatterternary": [
                      {
                        "marker": {
                          "colorbar": {
                            "outlinewidth": 0,
                            "ticks": ""
                          }
                        },
                        "type": "scatterternary"
                      }
                    ],
                    "surface": [
                      {
                        "colorbar": {
                          "outlinewidth": 0,
                          "ticks": ""
                        },
                        "colorscale": [
                          [
                            0,
                            "#0d0887"
                          ],
                          [
                            0.1111111111111111,
                            "#46039f"
                          ],
                          [
                            0.2222222222222222,
                            "#7201a8"
                          ],
                          [
                            0.3333333333333333,
                            "#9c179e"
                          ],
                          [
                            0.4444444444444444,
                            "#bd3786"
                          ],
                          [
                            0.5555555555555556,
                            "#d8576b"
                          ],
                          [
                            0.6666666666666666,
                            "#ed7953"
                          ],
                          [
                            0.7777777777777778,
                            "#fb9f3a"
                          ],
                          [
                            0.8888888888888888,
                            "#fdca26"
                          ],
                          [
                            1,
                            "#f0f921"
                          ]
                        ],
                        "type": "surface"
                      }
                    ],
                    "table": [
                      {
                        "cells": {
                          "fill": {
                            "color": "#EBF0F8"
                          },
                          "line": {
                            "color": "white"
                          }
                        },
                        "header": {
                          "fill": {
                            "color": "#C8D4E3"
                          },
                          "line": {
                            "color": "white"
                          }
                        },
                        "type": "table"
                      }
                    ]
                  },
                  "layout": {
                    "annotationdefaults": {
                      "arrowcolor": "#2a3f5f",
                      "arrowhead": 0,
                      "arrowwidth": 1
                    },
                    "autotypenumbers": "strict",
                    "coloraxis": {
                      "colorbar": {
                        "outlinewidth": 0,
                        "ticks": ""
                      }
                    },
                    "colorscale": {
                      "diverging": [
                        [
                          0,
                          "#8e0152"
                        ],
                        [
                          0.1,
                          "#c51b7d"
                        ],
                        [
                          0.2,
                          "#de77ae"
                        ],
                        [
                          0.3,
                          "#f1b6da"
                        ],
                        [
                          0.4,
                          "#fde0ef"
                        ],
                        [
                          0.5,
                          "#f7f7f7"
                        ],
                        [
                          0.6,
                          "#e6f5d0"
                        ],
                        [
                          0.7,
                          "#b8e186"
                        ],
                        [
                          0.8,
                          "#7fbc41"
                        ],
                        [
                          0.9,
                          "#4d9221"
                        ],
                        [
                          1,
                          "#276419"
                        ]
                      ],
                      "sequential": [
                        [
                          0,
                          "#0d0887"
                        ],
                        [
                          0.1111111111111111,
                          "#46039f"
                        ],
                        [
                          0.2222222222222222,
                          "#7201a8"
                        ],
                        [
                          0.3333333333333333,
                          "#9c179e"
                        ],
                        [
                          0.4444444444444444,
                          "#bd3786"
                        ],
                        [
                          0.5555555555555556,
                          "#d8576b"
                        ],
                        [
                          0.6666666666666666,
                          "#ed7953"
                        ],
                        [
                          0.7777777777777778,
                          "#fb9f3a"
                        ],
                        [
                          0.8888888888888888,
                          "#fdca26"
                        ],
                        [
                          1,
                          "#f0f921"
                        ]
                      ],
                      "sequentialminus": [
                        [
                          0,
                          "#0d0887"
                        ],
                        [
                          0.1111111111111111,
                          "#46039f"
                        ],
                        [
                          0.2222222222222222,
                          "#7201a8"
                        ],
                        [
                          0.3333333333333333,
                          "#9c179e"
                        ],
                        [
                          0.4444444444444444,
                          "#bd3786"
                        ],
                        [
                          0.5555555555555556,
                          "#d8576b"
                        ],
                        [
                          0.6666666666666666,
                          "#ed7953"
                        ],
                        [
                          0.7777777777777778,
                          "#fb9f3a"
                        ],
                        [
                          0.8888888888888888,
                          "#fdca26"
                        ],
                        [
                          1,
                          "#f0f921"
                        ]
                      ]
                    },
                    "colorway": [
                      "#636efa",
                      "#EF553B",
                      "#00cc96",
                      "#ab63fa",
                      "#FFA15A",
                      "#19d3f3",
                      "#FF6692",
                      "#B6E880",
                      "#FF97FF",
                      "#FECB52"
                    ],
                    "font": {
                      "color": "#2a3f5f"
                    },
                    "geo": {
                      "bgcolor": "white",
                      "lakecolor": "white",
                      "landcolor": "#E5ECF6",
                      "showlakes": true,
                      "showland": true,
                      "subunitcolor": "white"
                    },
                    "hoverlabel": {
                      "align": "left"
                    },
                    "hovermode": "closest",
                    "mapbox": {
                      "style": "light"
                    },
                    "paper_bgcolor": "white",
                    "plot_bgcolor": "#E5ECF6",
                    "polar": {
                      "angularaxis": {
                        "gridcolor": "white",
                        "linecolor": "white",
                        "ticks": ""
                      },
                      "bgcolor": "#E5ECF6",
                      "radialaxis": {
                        "gridcolor": "white",
                        "linecolor": "white",
                        "ticks": ""
                      }
                    },
                    "scene": {
                      "xaxis": {
                        "backgroundcolor": "#E5ECF6",
                        "gridcolor": "white",
                        "gridwidth": 2,
                        "linecolor": "white",
                        "showbackground": true,
                        "ticks": "",
                        "zerolinecolor": "white"
                      },
                      "yaxis": {
                        "backgroundcolor": "#E5ECF6",
                        "gridcolor": "white",
                        "gridwidth": 2,
                        "linecolor": "white",
                        "showbackground": true,
                        "ticks": "",
                        "zerolinecolor": "white"
                      },
                      "zaxis": {
                        "backgroundcolor": "#E5ECF6",
                        "gridcolor": "white",
                        "gridwidth": 2,
                        "linecolor": "white",
                        "showbackground": true,
                        "ticks": "",
                        "zerolinecolor": "white"
                      }
                    },
                    "shapedefaults": {
                      "line": {
                        "color": "#2a3f5f"
                      }
                    },
                    "ternary": {
                      "aaxis": {
                        "gridcolor": "white",
                        "linecolor": "white",
                        "ticks": ""
                      },
                      "baxis": {
                        "gridcolor": "white",
                        "linecolor": "white",
                        "ticks": ""
                      },
                      "bgcolor": "#E5ECF6",
                      "caxis": {
                        "gridcolor": "white",
                        "linecolor": "white",
                        "ticks": ""
                      }
                    },
                    "title": {
                      "x": 0.05
                    },
                    "xaxis": {
                      "automargin": true,
                      "gridcolor": "white",
                      "linecolor": "white",
                      "ticks": "",
                      "title": {
                        "standoff": 15
                      },
                      "zerolinecolor": "white",
                      "zerolinewidth": 2
                    },
                    "yaxis": {
                      "automargin": true,
                      "gridcolor": "white",
                      "linecolor": "white",
                      "ticks": "",
                      "title": {
                        "standoff": 15
                      },
                      "zerolinecolor": "white",
                      "zerolinewidth": 2
                    }
                  }
                },
                "title": {
                  "text": "Precision Scores for Various Logistic Regression Hyperparameter Combinations",
                  "x": 0.5,
                  "xanchor": "center",
                  "y": 0.95,
                  "yanchor": "top"
                },
                "xaxis": {
                  "anchor": "y",
                  "domain": [
                    0,
                    1
                  ],
                  "tickangle": -45,
                  "title": {
                    "text": "Hyperparams combinations of <C, Max Iterations>"
                  }
                },
                "yaxis": {
                  "anchor": "x",
                  "domain": [
                    0,
                    1
                  ],
                  "title": {
                    "text": "Precision Score"
                  }
                }
              }
            }
          },
          "metadata": {},
          "output_type": "display_data"
        }
      ],
      "source": [
        "# Visualise precision scores\n",
        "\n",
        "# Prepare the data\n",
        "rows = []\n",
        "for key, value in list(best_precision_matrix_logistic_regression.items()):\n",
        "    C, max_iter = key\n",
        "    combination_label = f'C={C}, max_iter={max_iter}'\n",
        "    rows.append({'Combination': combination_label, 'Precision': value})\n",
        "\n",
        "df = pd.DataFrame(rows)\n",
        "df.loc[:,'Precision'] = df.Precision*100.0 # need for % visualisation\n",
        "\n",
        "# Create the bar chart\n",
        "fig = px.bar(df,\n",
        "             x='Combination',\n",
        "             y='Precision',\n",
        "             text='Precision'\n",
        "             )\n",
        "\n",
        "# Customize the layout for better readability\n",
        "fig.update_layout(\n",
        "    xaxis_title='Hyperparams combinations of <C, Max Iterations>',\n",
        "    yaxis_title='Precision Score',\n",
        "    xaxis_tickangle=-45,\n",
        "    title={\n",
        "        'text': 'Precision Scores for Various Logistic Regression Hyperparameter Combinations',\n",
        "        'y':0.95,\n",
        "        'x':0.5,\n",
        "        'xanchor': 'center',\n",
        "        'yanchor': 'top'\n",
        "    }\n",
        ")\n",
        "\n",
        "\n",
        "# Update the text position\n",
        "fig.update_traces(texttemplate='%{text:.2f}%',\n",
        "                  textposition='inside',\n",
        "                  textfont_color='white')\n",
        "\n",
        "# Show the figure\n",
        "fig.show()"
      ]
    },
    {
      "cell_type": "markdown",
      "metadata": {
        "id": "_Uu1B9NuqP8w"
      },
      "source": [
        "## 1.5) ADVANCED: Deep Neural Network (DNN) and hyperparams tuning\n",
        "* Tutorial from Tensorflow.org\n",
        "* TowardsDataScience Hyperparameter Optimization with Keras\n",
        "* Machine Learning Mastery tutorial with Keras Deep Learning"
      ]
    },
    {
      "cell_type": "code",
      "execution_count": 144,
      "metadata": {
        "colab": {
          "base_uri": "https://localhost:8080/"
        },
        "id": "o_ng0r45qepY",
        "outputId": "1a8feb94-32a2-42ae-d284-4c9585fb68c9"
      },
      "outputs": [
        {
          "name": "stdout",
          "output_type": "stream",
          "text": [
            "1024\n"
          ]
        }
      ],
      "source": [
        "# https://towardsdatascience.com/hyperparameter-optimization-with-keras-b82e6364ca53\n",
        "\n",
        "\n",
        "# Extended params set\n",
        "\n",
        "# p = {'lr': [0.01, 0.03,0.1, 0.3,1,3,10],\n",
        "#      'first_neuron': [0,16,32,64,128,256],\n",
        "#      'second_neuron':[0,16,32,64,128,256],\n",
        "#      'first_dropout':[0,0.2,0.3],\n",
        "#      'second_dropout':[0,0.2,0.3],\n",
        "#      'activation_first':['relu','sigmoid','linear'],\n",
        "#      'activation_second':['relu','sigmoid','linear'],\n",
        "#     #  'activation_first':('relu','elu','tanh','sigmoid','linear','softplus','selu', 'softsign','exponential'),\n",
        "#     #  'activation_second':('relu','elu','tanh','sigmoid','linear','softplus','selu', 'softsign','exponential'),\n",
        "#     #  'batch_size':(2,30,10),\n",
        "#     #  'loss': ('mse','mae'),\n",
        "#     #  'epochs':[150],\n",
        "#     #  'shape': ['brick','long_funnel'],\n",
        "#      'optimizer':['adam', 'nadam', 'rmaprop','sgd'],\n",
        "#     #  'losses': [logcosh, binary_crossentropy],\n",
        "#     #  'last_activation':[sigmoid]\n",
        "#      }\n",
        "\n",
        "\n",
        "# Reduced params set and available options\n",
        "p = {'lr': [0.1],\n",
        "     'first_neuron': [12,24,32,48,96, 128, 196, 256],\n",
        "     'second_neuron':[12,24,32,48,96, 128, 196, 256],\n",
        "     'first_dropout':[0.1],\n",
        "     'second_dropout':[0.1],\n",
        "     'activation_first':['relu','sigmoid','softplus','tanh'],\n",
        "     'activation_second':['relu'],\n",
        "    #  'activation_first':('relu','elu','tanh','sigmoid','linear','softplus','selu', 'softsign','exponential'),\n",
        "    #  'activation_second':('relu','elu','tanh','sigmoid','linear','softplus','selu', 'softsign','exponential'),\n",
        "    #  'batch_size':(2,30,10),\n",
        "    #  'loss': ('mse','mae'),\n",
        "    #  'epochs':[150],\n",
        "    #  'shape': ['brick','long_funnel'],\n",
        "     'optimizer':['adam','nadam','sgd','rmaprop'],\n",
        "    #  'losses': [logcosh, binary_crossentropy],\n",
        "    #  'last_activation':[sigmoid]\n",
        "     }\n",
        "\n",
        "\n",
        "# Number of models to run and write to SHEETS:\n",
        "count_models=0\n",
        "\n",
        "nn_params = {}\n",
        "\n",
        "for lr in p['lr']:\n",
        "  for first_neuron in p['first_neuron']:\n",
        "    for second_neuron in p['second_neuron']:\n",
        "      for first_dropout in p['first_dropout']:\n",
        "        for second_dropout in p['second_dropout']:\n",
        "          for activation_first in p['activation_first']:\n",
        "            for activation_second in p['activation_second']:\n",
        "              for optimizer in p['optimizer']:\n",
        "                # print(lr,first_neuron,second_neuron,first_dropout,second_dropout,activation_first,activation_second,optimizer,sep='/')\n",
        "                count_models=count_models+1\n",
        "                nn_params['learning_rate'] = lr\n",
        "                nn_params['first_layer_neurons'] = first_neuron\n",
        "                nn_params['first_layer_dropout'] = first_dropout\n",
        "                nn_params['second_layer_neurons'] = second_neuron\n",
        "                nn_params['second_layer_dropout'] = second_dropout\n",
        "                nn_params['activation_first_layer'] = activation_first\n",
        "                nn_params['activation_second_layer'] = activation_second\n",
        "                nn_params['optimizer'] = optimizer\n",
        "                # features count as an input shape\n",
        "                nn_params['input_shape'] = len(X_train.keys())\n",
        "\n",
        "# Current set of models to try\n",
        "print(count_models)"
      ]
    },
    {
      "cell_type": "code",
      "execution_count": 145,
      "metadata": {
        "colab": {
          "base_uri": "https://localhost:8080/"
        },
        "id": "MnDNkOFdqhLM",
        "outputId": "c0a26c6f-ec53-45ce-952b-85ce151ccd98"
      },
      "outputs": [
        {
          "data": {
            "text/plain": [
              "{'learning_rate': 0.1,\n",
              " 'first_layer_neurons': 256,\n",
              " 'first_layer_dropout': 0.1,\n",
              " 'second_layer_neurons': 256,\n",
              " 'second_layer_dropout': 0.1,\n",
              " 'activation_first_layer': 'tanh',\n",
              " 'activation_second_layer': 'relu',\n",
              " 'optimizer': 'rmaprop',\n",
              " 'input_shape': 299}"
            ]
          },
          "execution_count": 145,
          "metadata": {},
          "output_type": "execute_result"
        }
      ],
      "source": [
        "nn_params"
      ]
    },
    {
      "cell_type": "code",
      "execution_count": 146,
      "metadata": {
        "id": "T_vTvZ36qiK-"
      },
      "outputs": [],
      "source": [
        "import tensorflow as tf\n",
        "import keras\n",
        "from keras import layers\n",
        "# from keras.models import Sequential\n",
        "# from keras.layers import Dense, Input, Dropout, Activation"
      ]
    },
    {
      "cell_type": "code",
      "execution_count": 147,
      "metadata": {
        "id": "Qcgwn-d7qjhr"
      },
      "outputs": [],
      "source": [
        "# building one Neural Network when Parameters are known:\n",
        "import datetime\n",
        "\n",
        "# len(rez_train.keys())\n",
        "def build_model(nn_params):\n",
        "  # lr, first_neuron, second_neuron, first_dropout, second_dropout, activation_first, activation_second, optimizer\n",
        "  model = keras.Sequential([\n",
        "  layers.Dense(nn_params['first_layer_neurons'],\n",
        "               activation=nn_params['activation_first_layer'],\n",
        "               input_shape=[nn_params['input_shape']]),\n",
        "  layers.Dropout(nn_params['first_layer_dropout']),\n",
        "  layers.Dense(nn_params['second_layer_neurons'],\n",
        "               activation=nn_params['activation_second_layer']),\n",
        "  layers.Dropout(nn_params['second_layer_dropout']),\n",
        "  layers.Dense(1, activation='sigmoid') # sigmoid is important for a Neural Network\n",
        "  ])\n",
        "\n",
        "  if optimizer == 'adam':\n",
        "    opt = keras.optimizers.Adam(lr)\n",
        "  elif optimizer == 'nadam':\n",
        "    opt = keras.optimizers.Nadam(lr)\n",
        "  elif optimizer == 'rmsprop':\n",
        "    opt = keras.optimizers.RMSprop(lr)\n",
        "  elif optimizer == 'sgd':\n",
        "    opt = keras.optimizers.SGD(lr)\n",
        "  else:\n",
        "    opt = keras.optimizers.Adagrad(lr)\n",
        "  model.compile(loss='binary_crossentropy', # mae/rmse for the Regression,\n",
        "                optimizer=opt,\n",
        "                metrics=['accuracy',keras.metrics.Precision()]) # or use [keras.metrics.Precision()] for a binary model : https://keras.io/api/metrics/classification_metrics/#precision-class\n",
        "  return model"
      ]
    },
    {
      "cell_type": "code",
      "execution_count": 148,
      "metadata": {
        "colab": {
          "base_uri": "https://localhost:8080/"
        },
        "id": "YdTmqT9Nqk5J",
        "outputId": "b801fdcf-f595-40d0-adab-51bc8e75ffb4"
      },
      "outputs": [
        {
          "data": {
            "text/plain": [
              "{'learning_rate': 0.1,\n",
              " 'first_layer_neurons': 256,\n",
              " 'first_layer_dropout': 0.1,\n",
              " 'second_layer_neurons': 256,\n",
              " 'second_layer_dropout': 0.1,\n",
              " 'activation_first_layer': 'tanh',\n",
              " 'activation_second_layer': 'relu',\n",
              " 'optimizer': 'rmaprop',\n",
              " 'input_shape': 299}"
            ]
          },
          "execution_count": 148,
          "metadata": {},
          "output_type": "execute_result"
        }
      ],
      "source": [
        "nn_params"
      ]
    },
    {
      "cell_type": "code",
      "execution_count": 149,
      "metadata": {
        "colab": {
          "base_uri": "https://localhost:8080/"
        },
        "id": "pRros7SSql87",
        "outputId": "2244ba3c-3987-4126-ddf5-915d399966ea"
      },
      "outputs": [
        {
          "name": "stdout",
          "output_type": "stream",
          "text": [
            "Model: \"sequential\"\n",
            "_________________________________________________________________\n",
            " Layer (type)                Output Shape              Param #   \n",
            "=================================================================\n",
            " dense (Dense)               (None, 256)               76800     \n",
            "                                                                 \n",
            " dropout (Dropout)           (None, 256)               0         \n",
            "                                                                 \n",
            " dense_1 (Dense)             (None, 256)               65792     \n",
            "                                                                 \n",
            " dropout_1 (Dropout)         (None, 256)               0         \n",
            "                                                                 \n",
            " dense_2 (Dense)             (None, 1)                 257       \n",
            "                                                                 \n",
            "=================================================================\n",
            "Total params: 142849 (558.00 KB)\n",
            "Trainable params: 142849 (558.00 KB)\n",
            "Non-trainable params: 0 (0.00 Byte)\n",
            "_________________________________________________________________\n"
          ]
        }
      ],
      "source": [
        "model = build_model(nn_params)\n",
        "model.summary()\n",
        "# model.get_config()"
      ]
    },
    {
      "cell_type": "code",
      "execution_count": 150,
      "metadata": {
        "colab": {
          "base_uri": "https://localhost:8080/"
        },
        "id": "pC6y2KKgqnHo",
        "outputId": "613a812b-03d0-4fbc-9d6f-5a04593497f3"
      },
      "outputs": [
        {
          "data": {
            "text/plain": [
              "142849"
            ]
          },
          "execution_count": 150,
          "metadata": {},
          "output_type": "execute_result"
        }
      ],
      "source": [
        "# trainable params in the model with max params (largest hidden layers size)\n",
        "model.count_params()"
      ]
    },
    {
      "cell_type": "code",
      "execution_count": 151,
      "metadata": {
        "id": "rW4aYXsqqoAt"
      },
      "outputs": [],
      "source": [
        "# Display training progress by printing a single dot for each completed epoch\n",
        "class PrintDot(keras.callbacks.Callback):\n",
        "  def on_epoch_end(self, epoch, logs):\n",
        "    if epoch % 100 == 0: print()\n",
        "    print('.', end='')"
      ]
    },
    {
      "cell_type": "code",
      "execution_count": 152,
      "metadata": {
        "id": "YONjXMNqqqPr"
      },
      "outputs": [],
      "source": [
        "# read tutorial about Binary Classification with Neural Network\n",
        "# https://machinelearningmastery.com/binary-classification-tutorial-with-the-keras-deep-learning-library/\n",
        "# https://www.tensorflow.org/api_docs/python/tf/keras/Model#fit\n",
        "\n",
        "\n",
        "# HYPER_PARAMS_SPACE = PARAMS space\n",
        "# WHEN MAX_MODELS>0: return after MAX_MODELS checked\n",
        "# MAX_EPOCHS: how many epochs (periods when model weights are updated) do we need?\n",
        "def train_neural_network_with_hyperparams(HYPER_PARAMS_SPACE, MAX_MODELS=0, MAX_EPOCHS=250, EARLY_STOPPING_PATIENCE=20):\n",
        "\n",
        "  # The patience parameter is the amount of epochs to check for improvement\n",
        "  early_stop = keras.callbacks.EarlyStopping(monitor='val_accuracy',  # we want accuracy to improve every single iteration (or at least in several iterations (EARLY STOPPING PARAM))\n",
        "                                             patience = EARLY_STOPPING_PATIENCE)\n",
        "  nn_params = {} # current hyperParams settings\n",
        "  cur = 0 # models trained\n",
        "\n",
        "  # best stats\n",
        "  best_accuracy = 0\n",
        "  best_model = None\n",
        "  best_history = None\n",
        "\n",
        "  for lr in HYPER_PARAMS_SPACE['lr']:\n",
        "    for first_dropout in HYPER_PARAMS_SPACE['first_dropout']:\n",
        "      for second_dropout in HYPER_PARAMS_SPACE['second_dropout']:\n",
        "        for activation_first in HYPER_PARAMS_SPACE['activation_first']:\n",
        "          for activation_second in HYPER_PARAMS_SPACE['activation_second']:\n",
        "            for optimizer in HYPER_PARAMS_SPACE['optimizer']:\n",
        "              for first_neuron in HYPER_PARAMS_SPACE['first_neuron']:\n",
        "                for second_neuron in HYPER_PARAMS_SPACE['second_neuron']:\n",
        "                  cur = cur+1\n",
        "\n",
        "                  nn_params['learning_rate'] = lr\n",
        "                  nn_params['first_layer_neurons'] = first_neuron\n",
        "                  nn_params['first_layer_dropout'] = first_dropout\n",
        "                  nn_params['second_layer_neurons'] = second_neuron\n",
        "                  nn_params['second_layer_dropout'] = second_dropout\n",
        "                  nn_params['activation_first_layer'] = activation_first\n",
        "                  nn_params['activation_second_layer'] = activation_second\n",
        "                  nn_params['optimizer'] = optimizer\n",
        "\n",
        "                  # features count as an input shape\n",
        "                  nn_params['input_shape'] = len(X_train.keys())\n",
        "\n",
        "                  print(f'Using HyperParams:{nn_params}')\n",
        "\n",
        "                  model = build_model(nn_params)\n",
        "                  # model.summary()\n",
        "\n",
        "                  frame = pd.DataFrame(data=[cur,lr,first_neuron,second_neuron,first_dropout,second_dropout, activation_first, activation_second, optimizer])\n",
        "\n",
        "                  print(f\"Training model {cur} with trainable params {model.count_params()} :\")\n",
        "                  t_start = datetime.datetime.now()\n",
        "                  history = model.fit(\n",
        "                                        X_train_valid,\n",
        "                                        y_train_valid,\n",
        "                                        epochs=MAX_EPOCHS,\n",
        "                                        validation_data = (X_test, y_test),\n",
        "                                        verbose=1, #change to 0 if you don't want to see the progress\n",
        "                                        callbacks=[early_stop,PrintDot()])\n",
        "\n",
        "                  t_diff = datetime.datetime.now() - t_start\n",
        "                  frame = pd.DataFrame(data=[t_diff.seconds,\n",
        "                                          len(history.epoch),\n",
        "                                          history.history['val_accuracy'][0], # start of learning\n",
        "                                          history.history['val_accuracy'][len(history.epoch)-1], # end of learning\n",
        "                                          #  history.history['val_precision_2'][0], # start of learning\n",
        "                                          #  history.history['val_precision_2'][len(history.epoch)-1], # end of learning\n",
        "                                          ])\n",
        "\n",
        "                  if history.history['val_accuracy'][len(history.epoch)-1]> best_accuracy:\n",
        "                    best_accuracy = history.history['val_accuracy'][len(history.epoch)-1]\n",
        "                    best_model = model\n",
        "                    best_history = history\n",
        "\n",
        "                  # early stopping of hyper params loop\n",
        "                  if MAX_MODELS>0 and cur>=MAX_MODELS:\n",
        "                    return best_model, best_history.history\n",
        "\n",
        "                  print('==============================================================')\n",
        "\n",
        "  return best_model, best_history.history #full hyper params search on all models"
      ]
    },
    {
      "cell_type": "code",
      "execution_count": null,
      "metadata": {
        "id": "cR88teMWqrvW"
      },
      "outputs": [],
      "source": [
        "# returns best_model (trained) and best_history (history of train operations)\n",
        "# best_model, best_history = train_neural_network_with_hyperparams(HYPER_PARAMS_SPACE=p,\n",
        "#                                                                  MAX_MODELS=2, #not more than 2 models\n",
        "#                                                                  MAX_EPOCHS=250,\n",
        "#                                                                  EARLY_STOPPING_PATIENCE=10\n",
        "#                                                                  )"
      ]
    },
    {
      "cell_type": "code",
      "execution_count": null,
      "metadata": {
        "id": "h8rGL_i1qsiW"
      },
      "outputs": [],
      "source": [
        "# UNCOMMENT WHEN RUN AGAIN\n",
        "\n",
        "# best_history_nn = best_history\n",
        "# best_model_nn = best_model"
      ]
    },
    {
      "cell_type": "code",
      "execution_count": null,
      "metadata": {
        "id": "BZtsvUUUqtST"
      },
      "outputs": [],
      "source": [
        "# best_model_nn.summary()"
      ]
    },
    {
      "cell_type": "code",
      "execution_count": 153,
      "metadata": {
        "id": "sXAQ011hh7RP"
      },
      "outputs": [],
      "source": [
        "best_history_nn = {'loss': [208422.703125,\n",
        "  1121.272705078125,\n",
        "  539.65283203125,\n",
        "  707.9421997070312,\n",
        "  516.6778564453125,\n",
        "  163.7510528564453,\n",
        "  317.2767333984375,\n",
        "  299.3223571777344,\n",
        "  140.26547241210938,\n",
        "  164.22906494140625,\n",
        "  185.18524169921875,\n",
        "  104.50323486328125,\n",
        "  297.9610290527344,\n",
        "  132.68116760253906],\n",
        " 'accuracy': [0.5328173637390137,\n",
        "  0.5412310361862183,\n",
        "  0.5411459803581238,\n",
        "  0.5417086482048035,\n",
        "  0.5411655902862549,\n",
        "  0.5414665937423706,\n",
        "  0.5418198704719543,\n",
        "  0.5419376492500305,\n",
        "  0.5415254831314087,\n",
        "  0.542022705078125,\n",
        "  0.5419507026672363,\n",
        "  0.5421208143234253,\n",
        "  0.5416563153266907,\n",
        "  0.5420292615890503],\n",
        " 'precision_10': [0.5425137281417847,\n",
        "  0.5425809025764465,\n",
        "  0.5422842502593994,\n",
        "  0.5425357818603516,\n",
        "  0.5421506762504578,\n",
        "  0.542284369468689,\n",
        "  0.5424314737319946,\n",
        "  0.5424544215202332,\n",
        "  0.5424001812934875,\n",
        "  0.5425055027008057,\n",
        "  0.5423765778541565,\n",
        "  0.5424331426620483,\n",
        "  0.5422753691673279,\n",
        "  0.5424132943153381],\n",
        " 'val_loss': [153.67572021484375,\n",
        "  76.75631713867188,\n",
        "  8.787810325622559,\n",
        "  235.6031951904297,\n",
        "  1.5380141735076904,\n",
        "  3.1010591983795166,\n",
        "  1.5755723714828491,\n",
        "  4.07314920425415,\n",
        "  3.5311925411224365,\n",
        "  3.421612501144409,\n",
        "  0.8826513886451721,\n",
        "  0.7503688335418701,\n",
        "  0.7252967953681946,\n",
        "  4.258550643920898],\n",
        " 'val_accuracy': [0.5481243133544922,\n",
        "  0.5551979541778564,\n",
        "  0.5557343363761902,\n",
        "  0.5558684468269348,\n",
        "  0.5551308989524841,\n",
        "  0.5551979541778564,\n",
        "  0.555030345916748,\n",
        "  0.5552650094032288,\n",
        "  0.5551979541778564,\n",
        "  0.5554661750793457,\n",
        "  0.5554661750793457,\n",
        "  0.5558013916015625,\n",
        "  0.5555667281150818,\n",
        "  0.5554326176643372],\n",
        " 'val_precision_10': [0.5546182990074158,\n",
        "  0.5551979541778564,\n",
        "  0.5555108189582825,\n",
        "  0.5561125874519348,\n",
        "  0.5552088618278503,\n",
        "  0.5553352236747742,\n",
        "  0.5553311705589294,\n",
        "  0.5552389025688171,\n",
        "  0.5551979541778564,\n",
        "  0.5555592775344849,\n",
        "  0.5555219054222107,\n",
        "  0.5555480718612671,\n",
        "  0.5554065108299255,\n",
        "  0.5553468465805054]}\n"
      ]
    },
    {
      "cell_type": "code",
      "execution_count": 154,
      "metadata": {
        "colab": {
          "base_uri": "https://localhost:8080/"
        },
        "id": "9ITSYcHPqxwY",
        "outputId": "d464126c-080a-4472-863a-fad661165ddd"
      },
      "outputs": [
        {
          "data": {
            "text/plain": [
              "(152846, 299)"
            ]
          },
          "execution_count": 154,
          "metadata": {},
          "output_type": "execute_result"
        }
      ],
      "source": [
        "X_train_valid.shape"
      ]
    },
    {
      "cell_type": "code",
      "execution_count": 155,
      "metadata": {
        "colab": {
          "base_uri": "https://localhost:8080/",
          "height": 564
        },
        "id": "2TCVoKpIqyqt",
        "outputId": "456ff582-c8fd-4cd5-c7d0-5e59e1c1b5f0"
      },
      "outputs": [
        {
          "data": {
            "image/png": "[encoded data removed]",
            "text/plain": [
              "<Figure size 1000x600 with 1 Axes>"
            ]
          },
          "metadata": {},
          "output_type": "display_data"
        }
      ],
      "source": [
        "# Learning visualisation for the Deep Neural Network (DNN)\n",
        "# The model is not actually training, as the precision and accuracy score are not improving on TRAIN/TEST with more Epochs\n",
        "\n",
        "# Plotting accuracy\n",
        "plt.figure(figsize=(10, 6))\n",
        "plt.plot(best_history_nn['precision_10'], label='Training Precision')\n",
        "plt.plot(best_history_nn['val_precision_10'], label='Test Precision')\n",
        "plt.xlabel('Epoch')\n",
        "plt.ylabel('Precision')\n",
        "plt.title('Training vs. Test Precision')\n",
        "plt.legend()\n",
        "plt.grid(True)\n",
        "plt.show()"
      ]
    },
    {
      "cell_type": "markdown",
      "metadata": {
        "id": "ieYKsFvYsK_S"
      },
      "source": [
        "# 2) Different Decision rules to improve precision (varying threshold)\n",
        "\n",
        "best model1 (clf_best): Decision Tree (max_depth=15)\n",
        "best model2 (rf_best): Random Forest (n_estimators=200, max_depth=17)"
      ]
    },
    {
      "cell_type": "markdown",
      "metadata": {
        "id": "BUAkDF7ivcmF"
      },
      "source": [
        "## 2.1. Predicting probabilities (predict_proba), getting the distribution for probabilities, and new decision rules"
      ]
    },
    {
      "cell_type": "code",
      "execution_count": 156,
      "metadata": {
        "id": "NtXS-v-vsUdf"
      },
      "outputs": [],
      "source": [
        "# y_pred_test = best_lr.predict_proba(X_test)\n",
        "\n",
        "# predicting probability instead of a lable\n",
        "\n",
        "#y_pred_test = clf_best.predict_proba(X_test)\n",
        "y_pred_test = rf_best.predict_proba(X_test)\n",
        "y_pred_test_class1 = [k[1] for k in y_pred_test] # k[1] is the second element in the list of Class predictions"
      ]
    },
    {
      "cell_type": "code",
      "execution_count": 157,
      "metadata": {
        "colab": {
          "base_uri": "https://localhost:8080/"
        },
        "id": "AEEgbWi4u8uq",
        "outputId": "34c2321a-24d4-4ee8-e774-ab6c6f19bab2"
      },
      "outputs": [
        {
          "data": {
            "text/plain": [
              "array([[0.55542573, 0.44457427],\n",
              "       [0.5051903 , 0.4948097 ],\n",
              "       [0.46000088, 0.53999912],\n",
              "       ...,\n",
              "       [0.46705893, 0.53294107],\n",
              "       [0.44661125, 0.55338875],\n",
              "       [0.49467782, 0.50532218]])"
            ]
          },
          "execution_count": 157,
          "metadata": {},
          "output_type": "execute_result"
        }
      ],
      "source": [
        "# example prediction of probabilities\n",
        "y_pred_test"
      ]
    },
    {
      "cell_type": "code",
      "execution_count": 158,
      "metadata": {
        "colab": {
          "base_uri": "https://localhost:8080/",
          "height": 204
        },
        "id": "mgqzi2Xzu87W",
        "outputId": "80470536-2a95-4b8a-b538-3ce034b540c2"
      },
      "outputs": [
        {
          "data": {
            "text/html": [
              "<div>\n",
              "<style scoped>\n",
              "    .dataframe tbody tr th:only-of-type {\n",
              "        vertical-align: middle;\n",
              "    }\n",
              "\n",
              "    .dataframe tbody tr th {\n",
              "        vertical-align: top;\n",
              "    }\n",
              "\n",
              "    .dataframe thead th {\n",
              "        text-align: right;\n",
              "    }\n",
              "</style>\n",
              "<table border=\"1\" class=\"dataframe\">\n",
              "  <thead>\n",
              "    <tr style=\"text-align: right;\">\n",
              "      <th></th>\n",
              "      <th>Class1_probability</th>\n",
              "    </tr>\n",
              "  </thead>\n",
              "  <tbody>\n",
              "    <tr>\n",
              "      <th>0</th>\n",
              "      <td>0.444574</td>\n",
              "    </tr>\n",
              "    <tr>\n",
              "      <th>1</th>\n",
              "      <td>0.494810</td>\n",
              "    </tr>\n",
              "    <tr>\n",
              "      <th>2</th>\n",
              "      <td>0.539999</td>\n",
              "    </tr>\n",
              "    <tr>\n",
              "      <th>3</th>\n",
              "      <td>0.513030</td>\n",
              "    </tr>\n",
              "    <tr>\n",
              "      <th>4</th>\n",
              "      <td>0.521465</td>\n",
              "    </tr>\n",
              "  </tbody>\n",
              "</table>\n",
              "</div>"
            ],
            "text/plain": [
              "   Class1_probability\n",
              "0            0.444574\n",
              "1            0.494810\n",
              "2            0.539999\n",
              "3            0.513030\n",
              "4            0.521465"
            ]
          },
          "execution_count": 158,
          "metadata": {},
          "output_type": "execute_result"
        }
      ],
      "source": [
        "y_pred_test_class1_df = pd.DataFrame(y_pred_test_class1, columns=['Class1_probability'])\n",
        "y_pred_test_class1_df.head()"
      ]
    },
    {
      "cell_type": "code",
      "execution_count": 159,
      "metadata": {
        "colab": {
          "base_uri": "https://localhost:8080/",
          "height": 80
        },
        "id": "SFQ-uUt9u_Y-",
        "outputId": "c4add0f2-7808-44e6-8178-95c934d9e44d"
      },
      "outputs": [
        {
          "data": {
            "text/html": [
              "<div>\n",
              "<style scoped>\n",
              "    .dataframe tbody tr th:only-of-type {\n",
              "        vertical-align: middle;\n",
              "    }\n",
              "\n",
              "    .dataframe tbody tr th {\n",
              "        vertical-align: top;\n",
              "    }\n",
              "\n",
              "    .dataframe thead th {\n",
              "        text-align: right;\n",
              "    }\n",
              "</style>\n",
              "<table border=\"1\" class=\"dataframe\">\n",
              "  <thead>\n",
              "    <tr style=\"text-align: right;\">\n",
              "      <th></th>\n",
              "      <th>count</th>\n",
              "      <th>mean</th>\n",
              "      <th>std</th>\n",
              "      <th>min</th>\n",
              "      <th>25%</th>\n",
              "      <th>50%</th>\n",
              "      <th>75%</th>\n",
              "      <th>max</th>\n",
              "    </tr>\n",
              "  </thead>\n",
              "  <tbody>\n",
              "    <tr>\n",
              "      <th>Class1_probability</th>\n",
              "      <td>29829.0</td>\n",
              "      <td>0.509048</td>\n",
              "      <td>0.044838</td>\n",
              "      <td>0.341161</td>\n",
              "      <td>0.477998</td>\n",
              "      <td>0.50766</td>\n",
              "      <td>0.539354</td>\n",
              "      <td>0.692381</td>\n",
              "    </tr>\n",
              "  </tbody>\n",
              "</table>\n",
              "</div>"
            ],
            "text/plain": [
              "                      count      mean       std       min       25%      50%  \\\n",
              "Class1_probability  29829.0  0.509048  0.044838  0.341161  0.477998  0.50766   \n",
              "\n",
              "                         75%       max  \n",
              "Class1_probability  0.539354  0.692381  "
            ]
          },
          "execution_count": 159,
          "metadata": {},
          "output_type": "execute_result"
        }
      ],
      "source": [
        "# Mean prediction is 0.52, median is 0.58, 75% quantile is 0.75\n",
        "y_pred_test_class1_df.describe().T"
      ]
    },
    {
      "cell_type": "code",
      "execution_count": 160,
      "metadata": {
        "colab": {
          "base_uri": "https://localhost:8080/"
        },
        "id": "KGEnXnpBvAx_",
        "outputId": "84132908-b5cc-445a-f99d-73d9cdb2c829"
      },
      "outputs": [
        {
          "data": {
            "text/plain": [
              "0.5551979617151095"
            ]
          },
          "execution_count": 160,
          "metadata": {},
          "output_type": "execute_result"
        }
      ],
      "source": [
        "# Unconditional probability of a positive growth is 55.5%\n",
        "y_test.sum()/y_test.count()"
      ]
    },
    {
      "cell_type": "code",
      "execution_count": 161,
      "metadata": {
        "colab": {
          "base_uri": "https://localhost:8080/",
          "height": 452
        },
        "id": "myxaNMxTvFXw",
        "outputId": "9832bb6c-ca18-4502-dea3-7dfb3652e0ad"
      },
      "outputs": [
        {
          "name": "stderr",
          "output_type": "stream",
          "text": [
            "c:\\Users\\rahul\\anaconda3\\Lib\\site-packages\\seaborn\\_oldcore.py:1498: FutureWarning:\n",
            "\n",
            "is_categorical_dtype is deprecated and will be removed in a future version. Use isinstance(dtype, CategoricalDtype) instead\n",
            "\n",
            "c:\\Users\\rahul\\anaconda3\\Lib\\site-packages\\seaborn\\_oldcore.py:1119: FutureWarning:\n",
            "\n",
            "use_inf_as_na option is deprecated and will be removed in a future version. Convert inf values to NaN before operating instead.\n",
            "\n"
          ]
        },
        {
          "data": {
            "image/png": "[encoded data removed]",
            "text/plain": [
              "<Figure size 640x480 with 1 Axes>"
            ]
          },
          "metadata": {},
          "output_type": "display_data"
        }
      ],
      "source": [
        "sns.histplot(y_pred_test_class1)\n",
        "\n",
        "# Add a title\n",
        "plt.title('The distribution of predictions for the current best model (Decision Tree with max_depth=15)')\n",
        "\n",
        "# Show the plot\n",
        "plt.show()"
      ]
    },
    {
      "cell_type": "code",
      "execution_count": 162,
      "metadata": {
        "id": "jNaoTiABvIfJ"
      },
      "outputs": [],
      "source": [
        "# tpr (True Positive Rate) vs. fpr (False Positive Rate) dataframe\n",
        "# tp = True Positive\n",
        "# tn = True Negative\n",
        "# fp = False Positive\n",
        "# fn = False Negative\n",
        "# Decision Rule :  \"y_pred>= Threshold\" for Class \"1\"\n",
        "\n",
        "# when only_even=True --> we'll have a step ==0.02 and leave only even records\n",
        "\n",
        "def tpr_fpr_dataframe(y_true, y_pred, only_even=False):\n",
        "    scores = []\n",
        "\n",
        "    if only_even==False:\n",
        "      thresholds = np.linspace(0, 1, 101) #[0, 0.01, 0.02, ...0.99,1.0]\n",
        "    else:\n",
        "      thresholds = np.linspace(0, 1, 51) #[0, 0.02, 0.04,  ...0.98,1.0]\n",
        "\n",
        "    for t in thresholds:\n",
        "\n",
        "        actual_positive = (y_true == 1)\n",
        "        actual_negative = (y_true == 0)\n",
        "\n",
        "        predict_positive = (y_pred >= t)\n",
        "        predict_negative = (y_pred < t)\n",
        "\n",
        "        tp = (predict_positive & actual_positive).sum()\n",
        "        tn = (predict_negative & actual_negative).sum()\n",
        "\n",
        "        fp = (predict_positive & actual_negative).sum()\n",
        "        fn = (predict_negative & actual_positive).sum()\n",
        "\n",
        "        if tp + fp > 0:\n",
        "          precision = tp / (tp + fp)\n",
        "\n",
        "        if tp + fn > 0:\n",
        "          recall = tp / (tp + fn)\n",
        "\n",
        "        if precision+recall > 0:\n",
        "          f1_score = 2*precision*recall / (precision+recall)\n",
        "\n",
        "        accuracy = (tp+tn) / (tp+tn+fp+fn)\n",
        "\n",
        "        scores.append((t, tp, fp, fn, tn, precision, recall, accuracy, f1_score))\n",
        "\n",
        "    columns = ['threshold', 'tp', 'fp', 'fn', 'tn','precision','recall', 'accuracy','f1_score']\n",
        "    df_scores = pd.DataFrame(scores, columns=columns)\n",
        "\n",
        "    df_scores['tpr'] = df_scores.tp / (df_scores.tp + df_scores.fn)\n",
        "    df_scores['fpr'] = df_scores.fp / (df_scores.fp + df_scores.tn)\n",
        "\n",
        "    return df_scores\n"
      ]
    },
    {
      "cell_type": "code",
      "execution_count": 163,
      "metadata": {
        "id": "AM8QESf9vKZL"
      },
      "outputs": [],
      "source": [
        "df_scores = tpr_fpr_dataframe(y_test,\n",
        "                              y_pred_test_class1,\n",
        "                              only_even=True)"
      ]
    },
    {
      "cell_type": "code",
      "execution_count": 164,
      "metadata": {
        "colab": {
          "base_uri": "https://localhost:8080/",
          "height": 1000
        },
        "id": "qoQqV2yhvME7",
        "outputId": "aea0a208-189b-4564-a6d0-41d6a841606b"
      },
      "outputs": [
        {
          "data": {
            "text/html": [
              "<div>\n",
              "<style scoped>\n",
              "    .dataframe tbody tr th:only-of-type {\n",
              "        vertical-align: middle;\n",
              "    }\n",
              "\n",
              "    .dataframe tbody tr th {\n",
              "        vertical-align: top;\n",
              "    }\n",
              "\n",
              "    .dataframe thead th {\n",
              "        text-align: right;\n",
              "    }\n",
              "</style>\n",
              "<table border=\"1\" class=\"dataframe\">\n",
              "  <thead>\n",
              "    <tr style=\"text-align: right;\">\n",
              "      <th></th>\n",
              "      <th>threshold</th>\n",
              "      <th>tp</th>\n",
              "      <th>fp</th>\n",
              "      <th>fn</th>\n",
              "      <th>tn</th>\n",
              "      <th>precision</th>\n",
              "      <th>recall</th>\n",
              "      <th>accuracy</th>\n",
              "      <th>f1_score</th>\n",
              "      <th>tpr</th>\n",
              "      <th>fpr</th>\n",
              "    </tr>\n",
              "  </thead>\n",
              "  <tbody>\n",
              "    <tr>\n",
              "      <th>0</th>\n",
              "      <td>0.00</td>\n",
              "      <td>16561</td>\n",
              "      <td>13268</td>\n",
              "      <td>0</td>\n",
              "      <td>0</td>\n",
              "      <td>0.555198</td>\n",
              "      <td>1.000000</td>\n",
              "      <td>0.555198</td>\n",
              "      <td>0.713990</td>\n",
              "      <td>1.000000</td>\n",
              "      <td>1.000000</td>\n",
              "    </tr>\n",
              "    <tr>\n",
              "      <th>1</th>\n",
              "      <td>0.02</td>\n",
              "      <td>16561</td>\n",
              "      <td>13268</td>\n",
              "      <td>0</td>\n",
              "      <td>0</td>\n",
              "      <td>0.555198</td>\n",
              "      <td>1.000000</td>\n",
              "      <td>0.555198</td>\n",
              "      <td>0.713990</td>\n",
              "      <td>1.000000</td>\n",
              "      <td>1.000000</td>\n",
              "    </tr>\n",
              "    <tr>\n",
              "      <th>2</th>\n",
              "      <td>0.04</td>\n",
              "      <td>16561</td>\n",
              "      <td>13268</td>\n",
              "      <td>0</td>\n",
              "      <td>0</td>\n",
              "      <td>0.555198</td>\n",
              "      <td>1.000000</td>\n",
              "      <td>0.555198</td>\n",
              "      <td>0.713990</td>\n",
              "      <td>1.000000</td>\n",
              "      <td>1.000000</td>\n",
              "    </tr>\n",
              "    <tr>\n",
              "      <th>3</th>\n",
              "      <td>0.06</td>\n",
              "      <td>16561</td>\n",
              "      <td>13268</td>\n",
              "      <td>0</td>\n",
              "      <td>0</td>\n",
              "      <td>0.555198</td>\n",
              "      <td>1.000000</td>\n",
              "      <td>0.555198</td>\n",
              "      <td>0.713990</td>\n",
              "      <td>1.000000</td>\n",
              "      <td>1.000000</td>\n",
              "    </tr>\n",
              "    <tr>\n",
              "      <th>4</th>\n",
              "      <td>0.08</td>\n",
              "      <td>16561</td>\n",
              "      <td>13268</td>\n",
              "      <td>0</td>\n",
              "      <td>0</td>\n",
              "      <td>0.555198</td>\n",
              "      <td>1.000000</td>\n",
              "      <td>0.555198</td>\n",
              "      <td>0.713990</td>\n",
              "      <td>1.000000</td>\n",
              "      <td>1.000000</td>\n",
              "    </tr>\n",
              "    <tr>\n",
              "      <th>5</th>\n",
              "      <td>0.10</td>\n",
              "      <td>16561</td>\n",
              "      <td>13268</td>\n",
              "      <td>0</td>\n",
              "      <td>0</td>\n",
              "      <td>0.555198</td>\n",
              "      <td>1.000000</td>\n",
              "      <td>0.555198</td>\n",
              "      <td>0.713990</td>\n",
              "      <td>1.000000</td>\n",
              "      <td>1.000000</td>\n",
              "    </tr>\n",
              "    <tr>\n",
              "      <th>6</th>\n",
              "      <td>0.12</td>\n",
              "      <td>16561</td>\n",
              "      <td>13268</td>\n",
              "      <td>0</td>\n",
              "      <td>0</td>\n",
              "      <td>0.555198</td>\n",
              "      <td>1.000000</td>\n",
              "      <td>0.555198</td>\n",
              "      <td>0.713990</td>\n",
              "      <td>1.000000</td>\n",
              "      <td>1.000000</td>\n",
              "    </tr>\n",
              "    <tr>\n",
              "      <th>7</th>\n",
              "      <td>0.14</td>\n",
              "      <td>16561</td>\n",
              "      <td>13268</td>\n",
              "      <td>0</td>\n",
              "      <td>0</td>\n",
              "      <td>0.555198</td>\n",
              "      <td>1.000000</td>\n",
              "      <td>0.555198</td>\n",
              "      <td>0.713990</td>\n",
              "      <td>1.000000</td>\n",
              "      <td>1.000000</td>\n",
              "    </tr>\n",
              "    <tr>\n",
              "      <th>8</th>\n",
              "      <td>0.16</td>\n",
              "      <td>16561</td>\n",
              "      <td>13268</td>\n",
              "      <td>0</td>\n",
              "      <td>0</td>\n",
              "      <td>0.555198</td>\n",
              "      <td>1.000000</td>\n",
              "      <td>0.555198</td>\n",
              "      <td>0.713990</td>\n",
              "      <td>1.000000</td>\n",
              "      <td>1.000000</td>\n",
              "    </tr>\n",
              "    <tr>\n",
              "      <th>9</th>\n",
              "      <td>0.18</td>\n",
              "      <td>16561</td>\n",
              "      <td>13268</td>\n",
              "      <td>0</td>\n",
              "      <td>0</td>\n",
              "      <td>0.555198</td>\n",
              "      <td>1.000000</td>\n",
              "      <td>0.555198</td>\n",
              "      <td>0.713990</td>\n",
              "      <td>1.000000</td>\n",
              "      <td>1.000000</td>\n",
              "    </tr>\n",
              "    <tr>\n",
              "      <th>10</th>\n",
              "      <td>0.20</td>\n",
              "      <td>16561</td>\n",
              "      <td>13268</td>\n",
              "      <td>0</td>\n",
              "      <td>0</td>\n",
              "      <td>0.555198</td>\n",
              "      <td>1.000000</td>\n",
              "      <td>0.555198</td>\n",
              "      <td>0.713990</td>\n",
              "      <td>1.000000</td>\n",
              "      <td>1.000000</td>\n",
              "    </tr>\n",
              "    <tr>\n",
              "      <th>11</th>\n",
              "      <td>0.22</td>\n",
              "      <td>16561</td>\n",
              "      <td>13268</td>\n",
              "      <td>0</td>\n",
              "      <td>0</td>\n",
              "      <td>0.555198</td>\n",
              "      <td>1.000000</td>\n",
              "      <td>0.555198</td>\n",
              "      <td>0.713990</td>\n",
              "      <td>1.000000</td>\n",
              "      <td>1.000000</td>\n",
              "    </tr>\n",
              "    <tr>\n",
              "      <th>12</th>\n",
              "      <td>0.24</td>\n",
              "      <td>16561</td>\n",
              "      <td>13268</td>\n",
              "      <td>0</td>\n",
              "      <td>0</td>\n",
              "      <td>0.555198</td>\n",
              "      <td>1.000000</td>\n",
              "      <td>0.555198</td>\n",
              "      <td>0.713990</td>\n",
              "      <td>1.000000</td>\n",
              "      <td>1.000000</td>\n",
              "    </tr>\n",
              "    <tr>\n",
              "      <th>13</th>\n",
              "      <td>0.26</td>\n",
              "      <td>16561</td>\n",
              "      <td>13268</td>\n",
              "      <td>0</td>\n",
              "      <td>0</td>\n",
              "      <td>0.555198</td>\n",
              "      <td>1.000000</td>\n",
              "      <td>0.555198</td>\n",
              "      <td>0.713990</td>\n",
              "      <td>1.000000</td>\n",
              "      <td>1.000000</td>\n",
              "    </tr>\n",
              "    <tr>\n",
              "      <th>14</th>\n",
              "      <td>0.28</td>\n",
              "      <td>16561</td>\n",
              "      <td>13268</td>\n",
              "      <td>0</td>\n",
              "      <td>0</td>\n",
              "      <td>0.555198</td>\n",
              "      <td>1.000000</td>\n",
              "      <td>0.555198</td>\n",
              "      <td>0.713990</td>\n",
              "      <td>1.000000</td>\n",
              "      <td>1.000000</td>\n",
              "    </tr>\n",
              "    <tr>\n",
              "      <th>15</th>\n",
              "      <td>0.30</td>\n",
              "      <td>16561</td>\n",
              "      <td>13268</td>\n",
              "      <td>0</td>\n",
              "      <td>0</td>\n",
              "      <td>0.555198</td>\n",
              "      <td>1.000000</td>\n",
              "      <td>0.555198</td>\n",
              "      <td>0.713990</td>\n",
              "      <td>1.000000</td>\n",
              "      <td>1.000000</td>\n",
              "    </tr>\n",
              "    <tr>\n",
              "      <th>16</th>\n",
              "      <td>0.32</td>\n",
              "      <td>16561</td>\n",
              "      <td>13268</td>\n",
              "      <td>0</td>\n",
              "      <td>0</td>\n",
              "      <td>0.555198</td>\n",
              "      <td>1.000000</td>\n",
              "      <td>0.555198</td>\n",
              "      <td>0.713990</td>\n",
              "      <td>1.000000</td>\n",
              "      <td>1.000000</td>\n",
              "    </tr>\n",
              "    <tr>\n",
              "      <th>17</th>\n",
              "      <td>0.34</td>\n",
              "      <td>16561</td>\n",
              "      <td>13268</td>\n",
              "      <td>0</td>\n",
              "      <td>0</td>\n",
              "      <td>0.555198</td>\n",
              "      <td>1.000000</td>\n",
              "      <td>0.555198</td>\n",
              "      <td>0.713990</td>\n",
              "      <td>1.000000</td>\n",
              "      <td>1.000000</td>\n",
              "    </tr>\n",
              "    <tr>\n",
              "      <th>18</th>\n",
              "      <td>0.36</td>\n",
              "      <td>16557</td>\n",
              "      <td>13266</td>\n",
              "      <td>4</td>\n",
              "      <td>2</td>\n",
              "      <td>0.555176</td>\n",
              "      <td>0.999758</td>\n",
              "      <td>0.555131</td>\n",
              "      <td>0.713910</td>\n",
              "      <td>0.999758</td>\n",
              "      <td>0.999849</td>\n",
              "    </tr>\n",
              "    <tr>\n",
              "      <th>19</th>\n",
              "      <td>0.38</td>\n",
              "      <td>16546</td>\n",
              "      <td>13254</td>\n",
              "      <td>15</td>\n",
              "      <td>14</td>\n",
              "      <td>0.555235</td>\n",
              "      <td>0.999094</td>\n",
              "      <td>0.555164</td>\n",
              "      <td>0.713790</td>\n",
              "      <td>0.999094</td>\n",
              "      <td>0.998945</td>\n",
              "    </tr>\n",
              "    <tr>\n",
              "      <th>20</th>\n",
              "      <td>0.40</td>\n",
              "      <td>16479</td>\n",
              "      <td>13211</td>\n",
              "      <td>82</td>\n",
              "      <td>57</td>\n",
              "      <td>0.555035</td>\n",
              "      <td>0.995049</td>\n",
              "      <td>0.554360</td>\n",
              "      <td>0.712590</td>\n",
              "      <td>0.995049</td>\n",
              "      <td>0.995704</td>\n",
              "    </tr>\n",
              "    <tr>\n",
              "      <th>21</th>\n",
              "      <td>0.42</td>\n",
              "      <td>16250</td>\n",
              "      <td>13023</td>\n",
              "      <td>311</td>\n",
              "      <td>245</td>\n",
              "      <td>0.555119</td>\n",
              "      <td>0.981221</td>\n",
              "      <td>0.552985</td>\n",
              "      <td>0.709081</td>\n",
              "      <td>0.981221</td>\n",
              "      <td>0.981535</td>\n",
              "    </tr>\n",
              "    <tr>\n",
              "      <th>22</th>\n",
              "      <td>0.44</td>\n",
              "      <td>15627</td>\n",
              "      <td>12471</td>\n",
              "      <td>934</td>\n",
              "      <td>797</td>\n",
              "      <td>0.556161</td>\n",
              "      <td>0.943602</td>\n",
              "      <td>0.550605</td>\n",
              "      <td>0.699837</td>\n",
              "      <td>0.943602</td>\n",
              "      <td>0.939931</td>\n",
              "    </tr>\n",
              "    <tr>\n",
              "      <th>23</th>\n",
              "      <td>0.46</td>\n",
              "      <td>14390</td>\n",
              "      <td>11374</td>\n",
              "      <td>2171</td>\n",
              "      <td>1894</td>\n",
              "      <td>0.558531</td>\n",
              "      <td>0.868909</td>\n",
              "      <td>0.545912</td>\n",
              "      <td>0.679976</td>\n",
              "      <td>0.868909</td>\n",
              "      <td>0.857251</td>\n",
              "    </tr>\n",
              "    <tr>\n",
              "      <th>24</th>\n",
              "      <td>0.48</td>\n",
              "      <td>12383</td>\n",
              "      <td>9533</td>\n",
              "      <td>4178</td>\n",
              "      <td>3735</td>\n",
              "      <td>0.565021</td>\n",
              "      <td>0.747721</td>\n",
              "      <td>0.540347</td>\n",
              "      <td>0.643657</td>\n",
              "      <td>0.747721</td>\n",
              "      <td>0.718496</td>\n",
              "    </tr>\n",
              "    <tr>\n",
              "      <th>25</th>\n",
              "      <td>0.50</td>\n",
              "      <td>9692</td>\n",
              "      <td>7211</td>\n",
              "      <td>6869</td>\n",
              "      <td>6057</td>\n",
              "      <td>0.573389</td>\n",
              "      <td>0.585230</td>\n",
              "      <td>0.527976</td>\n",
              "      <td>0.579249</td>\n",
              "      <td>0.585230</td>\n",
              "      <td>0.543488</td>\n",
              "    </tr>\n",
              "    <tr>\n",
              "      <th>26</th>\n",
              "      <td>0.52</td>\n",
              "      <td>6845</td>\n",
              "      <td>4962</td>\n",
              "      <td>9716</td>\n",
              "      <td>8306</td>\n",
              "      <td>0.579741</td>\n",
              "      <td>0.413320</td>\n",
              "      <td>0.507929</td>\n",
              "      <td>0.482586</td>\n",
              "      <td>0.413320</td>\n",
              "      <td>0.373983</td>\n",
              "    </tr>\n",
              "    <tr>\n",
              "      <th>27</th>\n",
              "      <td>0.54</td>\n",
              "      <td>4281</td>\n",
              "      <td>3035</td>\n",
              "      <td>12280</td>\n",
              "      <td>10233</td>\n",
              "      <td>0.585156</td>\n",
              "      <td>0.258499</td>\n",
              "      <td>0.486573</td>\n",
              "      <td>0.358588</td>\n",
              "      <td>0.258499</td>\n",
              "      <td>0.228746</td>\n",
              "    </tr>\n",
              "    <tr>\n",
              "      <th>28</th>\n",
              "      <td>0.56</td>\n",
              "      <td>2368</td>\n",
              "      <td>1562</td>\n",
              "      <td>14193</td>\n",
              "      <td>11706</td>\n",
              "      <td>0.602545</td>\n",
              "      <td>0.142987</td>\n",
              "      <td>0.471823</td>\n",
              "      <td>0.231126</td>\n",
              "      <td>0.142987</td>\n",
              "      <td>0.117727</td>\n",
              "    </tr>\n",
              "    <tr>\n",
              "      <th>29</th>\n",
              "      <td>0.58</td>\n",
              "      <td>1136</td>\n",
              "      <td>677</td>\n",
              "      <td>15425</td>\n",
              "      <td>12591</td>\n",
              "      <td>0.626586</td>\n",
              "      <td>0.068595</td>\n",
              "      <td>0.460190</td>\n",
              "      <td>0.123653</td>\n",
              "      <td>0.068595</td>\n",
              "      <td>0.051025</td>\n",
              "    </tr>\n",
              "    <tr>\n",
              "      <th>30</th>\n",
              "      <td>0.60</td>\n",
              "      <td>473</td>\n",
              "      <td>222</td>\n",
              "      <td>16088</td>\n",
              "      <td>13046</td>\n",
              "      <td>0.680576</td>\n",
              "      <td>0.028561</td>\n",
              "      <td>0.453217</td>\n",
              "      <td>0.054822</td>\n",
              "      <td>0.028561</td>\n",
              "      <td>0.016732</td>\n",
              "    </tr>\n",
              "    <tr>\n",
              "      <th>31</th>\n",
              "      <td>0.62</td>\n",
              "      <td>184</td>\n",
              "      <td>56</td>\n",
              "      <td>16377</td>\n",
              "      <td>13212</td>\n",
              "      <td>0.766667</td>\n",
              "      <td>0.011110</td>\n",
              "      <td>0.449093</td>\n",
              "      <td>0.021903</td>\n",
              "      <td>0.011110</td>\n",
              "      <td>0.004221</td>\n",
              "    </tr>\n",
              "    <tr>\n",
              "      <th>32</th>\n",
              "      <td>0.64</td>\n",
              "      <td>64</td>\n",
              "      <td>15</td>\n",
              "      <td>16497</td>\n",
              "      <td>13253</td>\n",
              "      <td>0.810127</td>\n",
              "      <td>0.003865</td>\n",
              "      <td>0.446445</td>\n",
              "      <td>0.007692</td>\n",
              "      <td>0.003865</td>\n",
              "      <td>0.001131</td>\n",
              "    </tr>\n",
              "    <tr>\n",
              "      <th>33</th>\n",
              "      <td>0.66</td>\n",
              "      <td>12</td>\n",
              "      <td>3</td>\n",
              "      <td>16549</td>\n",
              "      <td>13265</td>\n",
              "      <td>0.800000</td>\n",
              "      <td>0.000725</td>\n",
              "      <td>0.445104</td>\n",
              "      <td>0.001448</td>\n",
              "      <td>0.000725</td>\n",
              "      <td>0.000226</td>\n",
              "    </tr>\n",
              "    <tr>\n",
              "      <th>34</th>\n",
              "      <td>0.68</td>\n",
              "      <td>1</td>\n",
              "      <td>0</td>\n",
              "      <td>16560</td>\n",
              "      <td>13268</td>\n",
              "      <td>1.000000</td>\n",
              "      <td>0.000060</td>\n",
              "      <td>0.444836</td>\n",
              "      <td>0.000121</td>\n",
              "      <td>0.000060</td>\n",
              "      <td>0.000000</td>\n",
              "    </tr>\n",
              "    <tr>\n",
              "      <th>35</th>\n",
              "      <td>0.70</td>\n",
              "      <td>0</td>\n",
              "      <td>0</td>\n",
              "      <td>16561</td>\n",
              "      <td>13268</td>\n",
              "      <td>1.000000</td>\n",
              "      <td>0.000000</td>\n",
              "      <td>0.444802</td>\n",
              "      <td>0.000000</td>\n",
              "      <td>0.000000</td>\n",
              "      <td>0.000000</td>\n",
              "    </tr>\n",
              "    <tr>\n",
              "      <th>36</th>\n",
              "      <td>0.72</td>\n",
              "      <td>0</td>\n",
              "      <td>0</td>\n",
              "      <td>16561</td>\n",
              "      <td>13268</td>\n",
              "      <td>1.000000</td>\n",
              "      <td>0.000000</td>\n",
              "      <td>0.444802</td>\n",
              "      <td>0.000000</td>\n",
              "      <td>0.000000</td>\n",
              "      <td>0.000000</td>\n",
              "    </tr>\n",
              "    <tr>\n",
              "      <th>37</th>\n",
              "      <td>0.74</td>\n",
              "      <td>0</td>\n",
              "      <td>0</td>\n",
              "      <td>16561</td>\n",
              "      <td>13268</td>\n",
              "      <td>1.000000</td>\n",
              "      <td>0.000000</td>\n",
              "      <td>0.444802</td>\n",
              "      <td>0.000000</td>\n",
              "      <td>0.000000</td>\n",
              "      <td>0.000000</td>\n",
              "    </tr>\n",
              "    <tr>\n",
              "      <th>38</th>\n",
              "      <td>0.76</td>\n",
              "      <td>0</td>\n",
              "      <td>0</td>\n",
              "      <td>16561</td>\n",
              "      <td>13268</td>\n",
              "      <td>1.000000</td>\n",
              "      <td>0.000000</td>\n",
              "      <td>0.444802</td>\n",
              "      <td>0.000000</td>\n",
              "      <td>0.000000</td>\n",
              "      <td>0.000000</td>\n",
              "    </tr>\n",
              "    <tr>\n",
              "      <th>39</th>\n",
              "      <td>0.78</td>\n",
              "      <td>0</td>\n",
              "      <td>0</td>\n",
              "      <td>16561</td>\n",
              "      <td>13268</td>\n",
              "      <td>1.000000</td>\n",
              "      <td>0.000000</td>\n",
              "      <td>0.444802</td>\n",
              "      <td>0.000000</td>\n",
              "      <td>0.000000</td>\n",
              "      <td>0.000000</td>\n",
              "    </tr>\n",
              "    <tr>\n",
              "      <th>40</th>\n",
              "      <td>0.80</td>\n",
              "      <td>0</td>\n",
              "      <td>0</td>\n",
              "      <td>16561</td>\n",
              "      <td>13268</td>\n",
              "      <td>1.000000</td>\n",
              "      <td>0.000000</td>\n",
              "      <td>0.444802</td>\n",
              "      <td>0.000000</td>\n",
              "      <td>0.000000</td>\n",
              "      <td>0.000000</td>\n",
              "    </tr>\n",
              "    <tr>\n",
              "      <th>41</th>\n",
              "      <td>0.82</td>\n",
              "      <td>0</td>\n",
              "      <td>0</td>\n",
              "      <td>16561</td>\n",
              "      <td>13268</td>\n",
              "      <td>1.000000</td>\n",
              "      <td>0.000000</td>\n",
              "      <td>0.444802</td>\n",
              "      <td>0.000000</td>\n",
              "      <td>0.000000</td>\n",
              "      <td>0.000000</td>\n",
              "    </tr>\n",
              "    <tr>\n",
              "      <th>42</th>\n",
              "      <td>0.84</td>\n",
              "      <td>0</td>\n",
              "      <td>0</td>\n",
              "      <td>16561</td>\n",
              "      <td>13268</td>\n",
              "      <td>1.000000</td>\n",
              "      <td>0.000000</td>\n",
              "      <td>0.444802</td>\n",
              "      <td>0.000000</td>\n",
              "      <td>0.000000</td>\n",
              "      <td>0.000000</td>\n",
              "    </tr>\n",
              "    <tr>\n",
              "      <th>43</th>\n",
              "      <td>0.86</td>\n",
              "      <td>0</td>\n",
              "      <td>0</td>\n",
              "      <td>16561</td>\n",
              "      <td>13268</td>\n",
              "      <td>1.000000</td>\n",
              "      <td>0.000000</td>\n",
              "      <td>0.444802</td>\n",
              "      <td>0.000000</td>\n",
              "      <td>0.000000</td>\n",
              "      <td>0.000000</td>\n",
              "    </tr>\n",
              "    <tr>\n",
              "      <th>44</th>\n",
              "      <td>0.88</td>\n",
              "      <td>0</td>\n",
              "      <td>0</td>\n",
              "      <td>16561</td>\n",
              "      <td>13268</td>\n",
              "      <td>1.000000</td>\n",
              "      <td>0.000000</td>\n",
              "      <td>0.444802</td>\n",
              "      <td>0.000000</td>\n",
              "      <td>0.000000</td>\n",
              "      <td>0.000000</td>\n",
              "    </tr>\n",
              "    <tr>\n",
              "      <th>45</th>\n",
              "      <td>0.90</td>\n",
              "      <td>0</td>\n",
              "      <td>0</td>\n",
              "      <td>16561</td>\n",
              "      <td>13268</td>\n",
              "      <td>1.000000</td>\n",
              "      <td>0.000000</td>\n",
              "      <td>0.444802</td>\n",
              "      <td>0.000000</td>\n",
              "      <td>0.000000</td>\n",
              "      <td>0.000000</td>\n",
              "    </tr>\n",
              "    <tr>\n",
              "      <th>46</th>\n",
              "      <td>0.92</td>\n",
              "      <td>0</td>\n",
              "      <td>0</td>\n",
              "      <td>16561</td>\n",
              "      <td>13268</td>\n",
              "      <td>1.000000</td>\n",
              "      <td>0.000000</td>\n",
              "      <td>0.444802</td>\n",
              "      <td>0.000000</td>\n",
              "      <td>0.000000</td>\n",
              "      <td>0.000000</td>\n",
              "    </tr>\n",
              "    <tr>\n",
              "      <th>47</th>\n",
              "      <td>0.94</td>\n",
              "      <td>0</td>\n",
              "      <td>0</td>\n",
              "      <td>16561</td>\n",
              "      <td>13268</td>\n",
              "      <td>1.000000</td>\n",
              "      <td>0.000000</td>\n",
              "      <td>0.444802</td>\n",
              "      <td>0.000000</td>\n",
              "      <td>0.000000</td>\n",
              "      <td>0.000000</td>\n",
              "    </tr>\n",
              "    <tr>\n",
              "      <th>48</th>\n",
              "      <td>0.96</td>\n",
              "      <td>0</td>\n",
              "      <td>0</td>\n",
              "      <td>16561</td>\n",
              "      <td>13268</td>\n",
              "      <td>1.000000</td>\n",
              "      <td>0.000000</td>\n",
              "      <td>0.444802</td>\n",
              "      <td>0.000000</td>\n",
              "      <td>0.000000</td>\n",
              "      <td>0.000000</td>\n",
              "    </tr>\n",
              "    <tr>\n",
              "      <th>49</th>\n",
              "      <td>0.98</td>\n",
              "      <td>0</td>\n",
              "      <td>0</td>\n",
              "      <td>16561</td>\n",
              "      <td>13268</td>\n",
              "      <td>1.000000</td>\n",
              "      <td>0.000000</td>\n",
              "      <td>0.444802</td>\n",
              "      <td>0.000000</td>\n",
              "      <td>0.000000</td>\n",
              "      <td>0.000000</td>\n",
              "    </tr>\n",
              "    <tr>\n",
              "      <th>50</th>\n",
              "      <td>1.00</td>\n",
              "      <td>0</td>\n",
              "      <td>0</td>\n",
              "      <td>16561</td>\n",
              "      <td>13268</td>\n",
              "      <td>1.000000</td>\n",
              "      <td>0.000000</td>\n",
              "      <td>0.444802</td>\n",
              "      <td>0.000000</td>\n",
              "      <td>0.000000</td>\n",
              "      <td>0.000000</td>\n",
              "    </tr>\n",
              "  </tbody>\n",
              "</table>\n",
              "</div>"
            ],
            "text/plain": [
              "    threshold     tp     fp     fn     tn  precision    recall  accuracy  \\\n",
              "0        0.00  16561  13268      0      0   0.555198  1.000000  0.555198   \n",
              "1        0.02  16561  13268      0      0   0.555198  1.000000  0.555198   \n",
              "2        0.04  16561  13268      0      0   0.555198  1.000000  0.555198   \n",
              "3        0.06  16561  13268      0      0   0.555198  1.000000  0.555198   \n",
              "4        0.08  16561  13268      0      0   0.555198  1.000000  0.555198   \n",
              "5        0.10  16561  13268      0      0   0.555198  1.000000  0.555198   \n",
              "6        0.12  16561  13268      0      0   0.555198  1.000000  0.555198   \n",
              "7        0.14  16561  13268      0      0   0.555198  1.000000  0.555198   \n",
              "8        0.16  16561  13268      0      0   0.555198  1.000000  0.555198   \n",
              "9        0.18  16561  13268      0      0   0.555198  1.000000  0.555198   \n",
              "10       0.20  16561  13268      0      0   0.555198  1.000000  0.555198   \n",
              "11       0.22  16561  13268      0      0   0.555198  1.000000  0.555198   \n",
              "12       0.24  16561  13268      0      0   0.555198  1.000000  0.555198   \n",
              "13       0.26  16561  13268      0      0   0.555198  1.000000  0.555198   \n",
              "14       0.28  16561  13268      0      0   0.555198  1.000000  0.555198   \n",
              "15       0.30  16561  13268      0      0   0.555198  1.000000  0.555198   \n",
              "16       0.32  16561  13268      0      0   0.555198  1.000000  0.555198   \n",
              "17       0.34  16561  13268      0      0   0.555198  1.000000  0.555198   \n",
              "18       0.36  16557  13266      4      2   0.555176  0.999758  0.555131   \n",
              "19       0.38  16546  13254     15     14   0.555235  0.999094  0.555164   \n",
              "20       0.40  16479  13211     82     57   0.555035  0.995049  0.554360   \n",
              "21       0.42  16250  13023    311    245   0.555119  0.981221  0.552985   \n",
              "22       0.44  15627  12471    934    797   0.556161  0.943602  0.550605   \n",
              "23       0.46  14390  11374   2171   1894   0.558531  0.868909  0.545912   \n",
              "24       0.48  12383   9533   4178   3735   0.565021  0.747721  0.540347   \n",
              "25       0.50   9692   7211   6869   6057   0.573389  0.585230  0.527976   \n",
              "26       0.52   6845   4962   9716   8306   0.579741  0.413320  0.507929   \n",
              "27       0.54   4281   3035  12280  10233   0.585156  0.258499  0.486573   \n",
              "28       0.56   2368   1562  14193  11706   0.602545  0.142987  0.471823   \n",
              "29       0.58   1136    677  15425  12591   0.626586  0.068595  0.460190   \n",
              "30       0.60    473    222  16088  13046   0.680576  0.028561  0.453217   \n",
              "31       0.62    184     56  16377  13212   0.766667  0.011110  0.449093   \n",
              "32       0.64     64     15  16497  13253   0.810127  0.003865  0.446445   \n",
              "33       0.66     12      3  16549  13265   0.800000  0.000725  0.445104   \n",
              "34       0.68      1      0  16560  13268   1.000000  0.000060  0.444836   \n",
              "35       0.70      0      0  16561  13268   1.000000  0.000000  0.444802   \n",
              "36       0.72      0      0  16561  13268   1.000000  0.000000  0.444802   \n",
              "37       0.74      0      0  16561  13268   1.000000  0.000000  0.444802   \n",
              "38       0.76      0      0  16561  13268   1.000000  0.000000  0.444802   \n",
              "39       0.78      0      0  16561  13268   1.000000  0.000000  0.444802   \n",
              "40       0.80      0      0  16561  13268   1.000000  0.000000  0.444802   \n",
              "41       0.82      0      0  16561  13268   1.000000  0.000000  0.444802   \n",
              "42       0.84      0      0  16561  13268   1.000000  0.000000  0.444802   \n",
              "43       0.86      0      0  16561  13268   1.000000  0.000000  0.444802   \n",
              "44       0.88      0      0  16561  13268   1.000000  0.000000  0.444802   \n",
              "45       0.90      0      0  16561  13268   1.000000  0.000000  0.444802   \n",
              "46       0.92      0      0  16561  13268   1.000000  0.000000  0.444802   \n",
              "47       0.94      0      0  16561  13268   1.000000  0.000000  0.444802   \n",
              "48       0.96      0      0  16561  13268   1.000000  0.000000  0.444802   \n",
              "49       0.98      0      0  16561  13268   1.000000  0.000000  0.444802   \n",
              "50       1.00      0      0  16561  13268   1.000000  0.000000  0.444802   \n",
              "\n",
              "    f1_score       tpr       fpr  \n",
              "0   0.713990  1.000000  1.000000  \n",
              "1   0.713990  1.000000  1.000000  \n",
              "2   0.713990  1.000000  1.000000  \n",
              "3   0.713990  1.000000  1.000000  \n",
              "4   0.713990  1.000000  1.000000  \n",
              "5   0.713990  1.000000  1.000000  \n",
              "6   0.713990  1.000000  1.000000  \n",
              "7   0.713990  1.000000  1.000000  \n",
              "8   0.713990  1.000000  1.000000  \n",
              "9   0.713990  1.000000  1.000000  \n",
              "10  0.713990  1.000000  1.000000  \n",
              "11  0.713990  1.000000  1.000000  \n",
              "12  0.713990  1.000000  1.000000  \n",
              "13  0.713990  1.000000  1.000000  \n",
              "14  0.713990  1.000000  1.000000  \n",
              "15  0.713990  1.000000  1.000000  \n",
              "16  0.713990  1.000000  1.000000  \n",
              "17  0.713990  1.000000  1.000000  \n",
              "18  0.713910  0.999758  0.999849  \n",
              "19  0.713790  0.999094  0.998945  \n",
              "20  0.712590  0.995049  0.995704  \n",
              "21  0.709081  0.981221  0.981535  \n",
              "22  0.699837  0.943602  0.939931  \n",
              "23  0.679976  0.868909  0.857251  \n",
              "24  0.643657  0.747721  0.718496  \n",
              "25  0.579249  0.585230  0.543488  \n",
              "26  0.482586  0.413320  0.373983  \n",
              "27  0.358588  0.258499  0.228746  \n",
              "28  0.231126  0.142987  0.117727  \n",
              "29  0.123653  0.068595  0.051025  \n",
              "30  0.054822  0.028561  0.016732  \n",
              "31  0.021903  0.011110  0.004221  \n",
              "32  0.007692  0.003865  0.001131  \n",
              "33  0.001448  0.000725  0.000226  \n",
              "34  0.000121  0.000060  0.000000  \n",
              "35  0.000000  0.000000  0.000000  \n",
              "36  0.000000  0.000000  0.000000  \n",
              "37  0.000000  0.000000  0.000000  \n",
              "38  0.000000  0.000000  0.000000  \n",
              "39  0.000000  0.000000  0.000000  \n",
              "40  0.000000  0.000000  0.000000  \n",
              "41  0.000000  0.000000  0.000000  \n",
              "42  0.000000  0.000000  0.000000  \n",
              "43  0.000000  0.000000  0.000000  \n",
              "44  0.000000  0.000000  0.000000  \n",
              "45  0.000000  0.000000  0.000000  \n",
              "46  0.000000  0.000000  0.000000  \n",
              "47  0.000000  0.000000  0.000000  \n",
              "48  0.000000  0.000000  0.000000  \n",
              "49  0.000000  0.000000  0.000000  \n",
              "50  0.000000  0.000000  0.000000  "
            ]
          },
          "execution_count": 164,
          "metadata": {},
          "output_type": "execute_result"
        }
      ],
      "source": [
        "# full df_scores\n",
        "df_scores"
      ]
    },
    {
      "cell_type": "code",
      "execution_count": 165,
      "metadata": {
        "colab": {
          "base_uri": "https://localhost:8080/",
          "height": 545
        },
        "id": "sfhNxo4UvPn7",
        "outputId": "a31cf167-2b2d-442f-87c1-52fa09540cc1"
      },
      "outputs": [
        {
          "data": {
            "text/html": [
              "<div>\n",
              "<style scoped>\n",
              "    .dataframe tbody tr th:only-of-type {\n",
              "        vertical-align: middle;\n",
              "    }\n",
              "\n",
              "    .dataframe tbody tr th {\n",
              "        vertical-align: top;\n",
              "    }\n",
              "\n",
              "    .dataframe thead th {\n",
              "        text-align: right;\n",
              "    }\n",
              "</style>\n",
              "<table border=\"1\" class=\"dataframe\">\n",
              "  <thead>\n",
              "    <tr style=\"text-align: right;\">\n",
              "      <th></th>\n",
              "      <th>threshold</th>\n",
              "      <th>tp</th>\n",
              "      <th>fp</th>\n",
              "      <th>fn</th>\n",
              "      <th>tn</th>\n",
              "      <th>precision</th>\n",
              "      <th>recall</th>\n",
              "      <th>accuracy</th>\n",
              "      <th>f1_score</th>\n",
              "      <th>tpr</th>\n",
              "      <th>fpr</th>\n",
              "    </tr>\n",
              "  </thead>\n",
              "  <tbody>\n",
              "    <tr>\n",
              "      <th>25</th>\n",
              "      <td>0.50</td>\n",
              "      <td>9692</td>\n",
              "      <td>7211</td>\n",
              "      <td>6869</td>\n",
              "      <td>6057</td>\n",
              "      <td>0.573389</td>\n",
              "      <td>0.585230</td>\n",
              "      <td>0.527976</td>\n",
              "      <td>0.579249</td>\n",
              "      <td>0.585230</td>\n",
              "      <td>0.543488</td>\n",
              "    </tr>\n",
              "    <tr>\n",
              "      <th>26</th>\n",
              "      <td>0.52</td>\n",
              "      <td>6845</td>\n",
              "      <td>4962</td>\n",
              "      <td>9716</td>\n",
              "      <td>8306</td>\n",
              "      <td>0.579741</td>\n",
              "      <td>0.413320</td>\n",
              "      <td>0.507929</td>\n",
              "      <td>0.482586</td>\n",
              "      <td>0.413320</td>\n",
              "      <td>0.373983</td>\n",
              "    </tr>\n",
              "    <tr>\n",
              "      <th>27</th>\n",
              "      <td>0.54</td>\n",
              "      <td>4281</td>\n",
              "      <td>3035</td>\n",
              "      <td>12280</td>\n",
              "      <td>10233</td>\n",
              "      <td>0.585156</td>\n",
              "      <td>0.258499</td>\n",
              "      <td>0.486573</td>\n",
              "      <td>0.358588</td>\n",
              "      <td>0.258499</td>\n",
              "      <td>0.228746</td>\n",
              "    </tr>\n",
              "    <tr>\n",
              "      <th>28</th>\n",
              "      <td>0.56</td>\n",
              "      <td>2368</td>\n",
              "      <td>1562</td>\n",
              "      <td>14193</td>\n",
              "      <td>11706</td>\n",
              "      <td>0.602545</td>\n",
              "      <td>0.142987</td>\n",
              "      <td>0.471823</td>\n",
              "      <td>0.231126</td>\n",
              "      <td>0.142987</td>\n",
              "      <td>0.117727</td>\n",
              "    </tr>\n",
              "    <tr>\n",
              "      <th>29</th>\n",
              "      <td>0.58</td>\n",
              "      <td>1136</td>\n",
              "      <td>677</td>\n",
              "      <td>15425</td>\n",
              "      <td>12591</td>\n",
              "      <td>0.626586</td>\n",
              "      <td>0.068595</td>\n",
              "      <td>0.460190</td>\n",
              "      <td>0.123653</td>\n",
              "      <td>0.068595</td>\n",
              "      <td>0.051025</td>\n",
              "    </tr>\n",
              "    <tr>\n",
              "      <th>30</th>\n",
              "      <td>0.60</td>\n",
              "      <td>473</td>\n",
              "      <td>222</td>\n",
              "      <td>16088</td>\n",
              "      <td>13046</td>\n",
              "      <td>0.680576</td>\n",
              "      <td>0.028561</td>\n",
              "      <td>0.453217</td>\n",
              "      <td>0.054822</td>\n",
              "      <td>0.028561</td>\n",
              "      <td>0.016732</td>\n",
              "    </tr>\n",
              "    <tr>\n",
              "      <th>31</th>\n",
              "      <td>0.62</td>\n",
              "      <td>184</td>\n",
              "      <td>56</td>\n",
              "      <td>16377</td>\n",
              "      <td>13212</td>\n",
              "      <td>0.766667</td>\n",
              "      <td>0.011110</td>\n",
              "      <td>0.449093</td>\n",
              "      <td>0.021903</td>\n",
              "      <td>0.011110</td>\n",
              "      <td>0.004221</td>\n",
              "    </tr>\n",
              "    <tr>\n",
              "      <th>32</th>\n",
              "      <td>0.64</td>\n",
              "      <td>64</td>\n",
              "      <td>15</td>\n",
              "      <td>16497</td>\n",
              "      <td>13253</td>\n",
              "      <td>0.810127</td>\n",
              "      <td>0.003865</td>\n",
              "      <td>0.446445</td>\n",
              "      <td>0.007692</td>\n",
              "      <td>0.003865</td>\n",
              "      <td>0.001131</td>\n",
              "    </tr>\n",
              "    <tr>\n",
              "      <th>33</th>\n",
              "      <td>0.66</td>\n",
              "      <td>12</td>\n",
              "      <td>3</td>\n",
              "      <td>16549</td>\n",
              "      <td>13265</td>\n",
              "      <td>0.800000</td>\n",
              "      <td>0.000725</td>\n",
              "      <td>0.445104</td>\n",
              "      <td>0.001448</td>\n",
              "      <td>0.000725</td>\n",
              "      <td>0.000226</td>\n",
              "    </tr>\n",
              "    <tr>\n",
              "      <th>34</th>\n",
              "      <td>0.68</td>\n",
              "      <td>1</td>\n",
              "      <td>0</td>\n",
              "      <td>16560</td>\n",
              "      <td>13268</td>\n",
              "      <td>1.000000</td>\n",
              "      <td>0.000060</td>\n",
              "      <td>0.444836</td>\n",
              "      <td>0.000121</td>\n",
              "      <td>0.000060</td>\n",
              "      <td>0.000000</td>\n",
              "    </tr>\n",
              "    <tr>\n",
              "      <th>35</th>\n",
              "      <td>0.70</td>\n",
              "      <td>0</td>\n",
              "      <td>0</td>\n",
              "      <td>16561</td>\n",
              "      <td>13268</td>\n",
              "      <td>1.000000</td>\n",
              "      <td>0.000000</td>\n",
              "      <td>0.444802</td>\n",
              "      <td>0.000000</td>\n",
              "      <td>0.000000</td>\n",
              "      <td>0.000000</td>\n",
              "    </tr>\n",
              "    <tr>\n",
              "      <th>36</th>\n",
              "      <td>0.72</td>\n",
              "      <td>0</td>\n",
              "      <td>0</td>\n",
              "      <td>16561</td>\n",
              "      <td>13268</td>\n",
              "      <td>1.000000</td>\n",
              "      <td>0.000000</td>\n",
              "      <td>0.444802</td>\n",
              "      <td>0.000000</td>\n",
              "      <td>0.000000</td>\n",
              "      <td>0.000000</td>\n",
              "    </tr>\n",
              "    <tr>\n",
              "      <th>37</th>\n",
              "      <td>0.74</td>\n",
              "      <td>0</td>\n",
              "      <td>0</td>\n",
              "      <td>16561</td>\n",
              "      <td>13268</td>\n",
              "      <td>1.000000</td>\n",
              "      <td>0.000000</td>\n",
              "      <td>0.444802</td>\n",
              "      <td>0.000000</td>\n",
              "      <td>0.000000</td>\n",
              "      <td>0.000000</td>\n",
              "    </tr>\n",
              "    <tr>\n",
              "      <th>38</th>\n",
              "      <td>0.76</td>\n",
              "      <td>0</td>\n",
              "      <td>0</td>\n",
              "      <td>16561</td>\n",
              "      <td>13268</td>\n",
              "      <td>1.000000</td>\n",
              "      <td>0.000000</td>\n",
              "      <td>0.444802</td>\n",
              "      <td>0.000000</td>\n",
              "      <td>0.000000</td>\n",
              "      <td>0.000000</td>\n",
              "    </tr>\n",
              "    <tr>\n",
              "      <th>39</th>\n",
              "      <td>0.78</td>\n",
              "      <td>0</td>\n",
              "      <td>0</td>\n",
              "      <td>16561</td>\n",
              "      <td>13268</td>\n",
              "      <td>1.000000</td>\n",
              "      <td>0.000000</td>\n",
              "      <td>0.444802</td>\n",
              "      <td>0.000000</td>\n",
              "      <td>0.000000</td>\n",
              "      <td>0.000000</td>\n",
              "    </tr>\n",
              "    <tr>\n",
              "      <th>40</th>\n",
              "      <td>0.80</td>\n",
              "      <td>0</td>\n",
              "      <td>0</td>\n",
              "      <td>16561</td>\n",
              "      <td>13268</td>\n",
              "      <td>1.000000</td>\n",
              "      <td>0.000000</td>\n",
              "      <td>0.444802</td>\n",
              "      <td>0.000000</td>\n",
              "      <td>0.000000</td>\n",
              "      <td>0.000000</td>\n",
              "    </tr>\n",
              "  </tbody>\n",
              "</table>\n",
              "</div>"
            ],
            "text/plain": [
              "    threshold    tp    fp     fn     tn  precision    recall  accuracy  \\\n",
              "25       0.50  9692  7211   6869   6057   0.573389  0.585230  0.527976   \n",
              "26       0.52  6845  4962   9716   8306   0.579741  0.413320  0.507929   \n",
              "27       0.54  4281  3035  12280  10233   0.585156  0.258499  0.486573   \n",
              "28       0.56  2368  1562  14193  11706   0.602545  0.142987  0.471823   \n",
              "29       0.58  1136   677  15425  12591   0.626586  0.068595  0.460190   \n",
              "30       0.60   473   222  16088  13046   0.680576  0.028561  0.453217   \n",
              "31       0.62   184    56  16377  13212   0.766667  0.011110  0.449093   \n",
              "32       0.64    64    15  16497  13253   0.810127  0.003865  0.446445   \n",
              "33       0.66    12     3  16549  13265   0.800000  0.000725  0.445104   \n",
              "34       0.68     1     0  16560  13268   1.000000  0.000060  0.444836   \n",
              "35       0.70     0     0  16561  13268   1.000000  0.000000  0.444802   \n",
              "36       0.72     0     0  16561  13268   1.000000  0.000000  0.444802   \n",
              "37       0.74     0     0  16561  13268   1.000000  0.000000  0.444802   \n",
              "38       0.76     0     0  16561  13268   1.000000  0.000000  0.444802   \n",
              "39       0.78     0     0  16561  13268   1.000000  0.000000  0.444802   \n",
              "40       0.80     0     0  16561  13268   1.000000  0.000000  0.444802   \n",
              "\n",
              "    f1_score       tpr       fpr  \n",
              "25  0.579249  0.585230  0.543488  \n",
              "26  0.482586  0.413320  0.373983  \n",
              "27  0.358588  0.258499  0.228746  \n",
              "28  0.231126  0.142987  0.117727  \n",
              "29  0.123653  0.068595  0.051025  \n",
              "30  0.054822  0.028561  0.016732  \n",
              "31  0.021903  0.011110  0.004221  \n",
              "32  0.007692  0.003865  0.001131  \n",
              "33  0.001448  0.000725  0.000226  \n",
              "34  0.000121  0.000060  0.000000  \n",
              "35  0.000000  0.000000  0.000000  \n",
              "36  0.000000  0.000000  0.000000  \n",
              "37  0.000000  0.000000  0.000000  \n",
              "38  0.000000  0.000000  0.000000  \n",
              "39  0.000000  0.000000  0.000000  \n",
              "40  0.000000  0.000000  0.000000  "
            ]
          },
          "execution_count": 165,
          "metadata": {},
          "output_type": "execute_result"
        }
      ],
      "source": [
        "df_scores[(df_scores.threshold>=0.5) & (df_scores.threshold<=0.8)]"
      ]
    },
    {
      "cell_type": "code",
      "execution_count": 166,
      "metadata": {
        "colab": {
          "base_uri": "https://localhost:8080/",
          "height": 489
        },
        "id": "B2AqOTxvvRV0",
        "outputId": "a44e4738-aef4-4d62-a068-9513b0295809"
      },
      "outputs": [
        {
          "data": {
            "text/plain": [
              "<Axes: title={'center': 'Precision vs. Recall for the Best Model (Decision Tree with max_depth=15)'}, xlabel='threshold'>"
            ]
          },
          "execution_count": 166,
          "metadata": {},
          "output_type": "execute_result"
        },
        {
          "data": {
            "image/png": "[encoded data removed]",
            "text/plain": [
              "<Figure size 640x480 with 1 Axes>"
            ]
          },
          "metadata": {},
          "output_type": "display_data"
        }
      ],
      "source": [
        "# Try to find high Precision score points\n",
        "\n",
        "df_scores.plot.line(x='threshold',\n",
        "                    y=['precision','recall', 'f1_score'],\n",
        "                    title = 'Precision vs. Recall for the Best Model (Decision Tree with max_depth=15)')"
      ]
    },
    {
      "cell_type": "markdown",
      "metadata": {
        "id": "D6VPJZNVvguL"
      },
      "source": [
        "## 2.2) [Code Snippet 6] Defining new columns with Predictions in new_df: pred7..pred10\n",
        "* pred7 and pred8 are 2 decision rules for the Decision Tree (best model with max_depth=15)\n",
        "* pred9 and pred10 are 2 decision rules for the Random Forest (second best model)"
      ]
    },
    {
      "cell_type": "code",
      "execution_count": 167,
      "metadata": {
        "id": "dVg7GsUvviGS"
      },
      "outputs": [],
      "source": [
        "# adding Decision Tree predictors (clf_best) to the dataset for 2 new rules: Threshold = 0.66 and 0.78\n",
        "\n",
        "\n",
        "y_pred_all = clf_best.predict_proba(X_all)\n",
        "y_pred_all_class1 = [k[1] for k in y_pred_all] #list of predictions for class \"1\"\n",
        "y_pred_all_class1_array = np.array(y_pred_all_class1) # (Numpy Array) np.array of predictions for class \"1\" , converted from a list\n",
        "\n",
        "# defining a new prediction vector is easy now, as the dimensions will match\n",
        "new_df['proba_pred7'] = y_pred_all_class1_array\n",
        "new_df['pred7_clf_best_rule_66'] = (y_pred_all_class1_array >= 0.66).astype(int)\n",
        "\n",
        "new_df['proba_pred8'] = y_pred_all_class1_array\n",
        "new_df['pred8_clf_best_rule_78'] = (y_pred_all_class1_array >= 0.78).astype(int)\n"
      ]
    },
    {
      "cell_type": "code",
      "execution_count": 168,
      "metadata": {
        "colab": {
          "base_uri": "https://localhost:8080/",
          "height": 91
        },
        "id": "lAoMQvpOvkXa",
        "outputId": "a7678015-d4ec-4e9e-984c-e2fdf67348df"
      },
      "outputs": [
        {
          "data": {
            "text/html": [
              "<style>#sk-container-id-2 {color: black;}#sk-container-id-2 pre{padding: 0;}#sk-container-id-2 div.sk-toggleable {background-color: white;}#sk-container-id-2 label.sk-toggleable__label {cursor: pointer;display: block;width: 100%;margin-bottom: 0;padding: 0.3em;box-sizing: border-box;text-align: center;}#sk-container-id-2 label.sk-toggleable__label-arrow:before {content: \"▸\";float: left;margin-right: 0.25em;color: #696969;}#sk-container-id-2 label.sk-toggleable__label-arrow:hover:before {color: black;}#sk-container-id-2 div.sk-estimator:hover label.sk-toggleable__label-arrow:before {color: black;}#sk-container-id-2 div.sk-toggleable__content {max-height: 0;max-width: 0;overflow: hidden;text-align: left;background-color: #f0f8ff;}#sk-container-id-2 div.sk-toggleable__content pre {margin: 0.2em;color: black;border-radius: 0.25em;background-color: #f0f8ff;}#sk-container-id-2 input.sk-toggleable__control:checked~div.sk-toggleable__content {max-height: 200px;max-width: 100%;overflow: auto;}#sk-container-id-2 input.sk-toggleable__control:checked~label.sk-toggleable__label-arrow:before {content: \"▾\";}#sk-container-id-2 div.sk-estimator input.sk-toggleable__control:checked~label.sk-toggleable__label {background-color: #d4ebff;}#sk-container-id-2 div.sk-label input.sk-toggleable__control:checked~label.sk-toggleable__label {background-color: #d4ebff;}#sk-container-id-2 input.sk-hidden--visually {border: 0;clip: rect(1px 1px 1px 1px);clip: rect(1px, 1px, 1px, 1px);height: 1px;margin: -1px;overflow: hidden;padding: 0;position: absolute;width: 1px;}#sk-container-id-2 div.sk-estimator {font-family: monospace;background-color: #f0f8ff;border: 1px dotted black;border-radius: 0.25em;box-sizing: border-box;margin-bottom: 0.5em;}#sk-container-id-2 div.sk-estimator:hover {background-color: #d4ebff;}#sk-container-id-2 div.sk-parallel-item::after {content: \"\";width: 100%;border-bottom: 1px solid gray;flex-grow: 1;}#sk-container-id-2 div.sk-label:hover label.sk-toggleable__label {background-color: #d4ebff;}#sk-container-id-2 div.sk-serial::before {content: \"\";position: absolute;border-left: 1px solid gray;box-sizing: border-box;top: 0;bottom: 0;left: 50%;z-index: 0;}#sk-container-id-2 div.sk-serial {display: flex;flex-direction: column;align-items: center;background-color: white;padding-right: 0.2em;padding-left: 0.2em;position: relative;}#sk-container-id-2 div.sk-item {position: relative;z-index: 1;}#sk-container-id-2 div.sk-parallel {display: flex;align-items: stretch;justify-content: center;background-color: white;position: relative;}#sk-container-id-2 div.sk-item::before, #sk-container-id-2 div.sk-parallel-item::before {content: \"\";position: absolute;border-left: 1px solid gray;box-sizing: border-box;top: 0;bottom: 0;left: 50%;z-index: -1;}#sk-container-id-2 div.sk-parallel-item {display: flex;flex-direction: column;z-index: 1;position: relative;background-color: white;}#sk-container-id-2 div.sk-parallel-item:first-child::after {align-self: flex-end;width: 50%;}#sk-container-id-2 div.sk-parallel-item:last-child::after {align-self: flex-start;width: 50%;}#sk-container-id-2 div.sk-parallel-item:only-child::after {width: 0;}#sk-container-id-2 div.sk-dashed-wrapped {border: 1px dashed gray;margin: 0 0.4em 0.5em 0.4em;box-sizing: border-box;padding-bottom: 0.4em;background-color: white;}#sk-container-id-2 div.sk-label label {font-family: monospace;font-weight: bold;display: inline-block;line-height: 1.2em;}#sk-container-id-2 div.sk-label-container {text-align: center;}#sk-container-id-2 div.sk-container {/* jupyter's `normalize.less` sets `[hidden] { display: none; }` but bootstrap.min.css set `[hidden] { display: none !important; }` so we also need the `!important` here to be able to override the default hidden behavior on the sphinx rendered scikit-learn.org. See: https://github.com/scikit-learn/scikit-learn/issues/21755 */display: inline-block !important;position: relative;}#sk-container-id-2 div.sk-text-repr-fallback {display: none;}</style><div id=\"sk-container-id-2\" class=\"sk-top-container\"><div class=\"sk-text-repr-fallback\"><pre>RandomForestClassifier(max_depth=17, n_estimators=200, n_jobs=-1,\n",
              "                       random_state=42)</pre><b>In a Jupyter environment, please rerun this cell to show the HTML representation or trust the notebook. <br />On GitHub, the HTML representation is unable to render, please try loading this page with nbviewer.org.</b></div><div class=\"sk-container\" hidden><div class=\"sk-item\"><div class=\"sk-estimator sk-toggleable\"><input class=\"sk-toggleable__control sk-hidden--visually\" id=\"sk-estimator-id-2\" type=\"checkbox\" checked><label for=\"sk-estimator-id-2\" class=\"sk-toggleable__label sk-toggleable__label-arrow\">RandomForestClassifier</label><div class=\"sk-toggleable__content\"><pre>RandomForestClassifier(max_depth=17, n_estimators=200, n_jobs=-1,\n",
              "                       random_state=42)</pre></div></div></div></div></div>"
            ],
            "text/plain": [
              "RandomForestClassifier(max_depth=17, n_estimators=200, n_jobs=-1,\n",
              "                       random_state=42)"
            ]
          },
          "execution_count": 168,
          "metadata": {},
          "output_type": "execute_result"
        }
      ],
      "source": [
        "# adding Random Forest predictors (rf_best)\n",
        "rf_best"
      ]
    },
    {
      "cell_type": "code",
      "execution_count": 169,
      "metadata": {
        "id": "ydpMazLKvl8a"
      },
      "outputs": [],
      "source": [
        "# adding Random Forest predictors (rf_best) to the dataset for 2 new rules: Threshold = 0.66 and 0.78\n",
        "\n",
        "y_pred_all = rf_best.predict_proba(X_all)\n",
        "y_pred_all_class1 = [k[1] for k in y_pred_all] #list of predictions for class \"1\"\n",
        "y_pred_all_class1_array = np.array(y_pred_all_class1) # (Numpy Array) np.array of predictions for class \"1\" , converted from a list\n",
        "\n",
        "# defining a new prediction vector is easy now, as the dimensions will match\n",
        "new_df['proba_pred9'] = y_pred_all_class1_array\n",
        "new_df['pred9_rf_best_rule_55'] = (y_pred_all_class1_array >= 0.55).astype(int)\n",
        "\n",
        "new_df['proba_pred10'] = y_pred_all_class1_array\n",
        "new_df['pred10_rf_best_rule_60'] = (y_pred_all_class1_array >= 0.6).astype(int)\n",
        "\n",
        "# TODO HA4 Q1: define new predictor for thresholds 0.51..0.54, 0.56..0.59\n",
        "new_df['proba_pred11'] = y_pred_all_class1_array\n",
        "new_df['pred11_rf_best_rule_51'] = (y_pred_all_class1_array >= 0.51).astype(int)\n",
        "\n",
        "new_df['proba_pred12'] = y_pred_all_class1_array\n",
        "new_df['pred12_rf_best_rule_52'] = (y_pred_all_class1_array >= 0.52).astype(int)\n",
        "\n",
        "new_df['proba_pred13'] = y_pred_all_class1_array\n",
        "new_df['pred13_rf_best_rule_53'] = (y_pred_all_class1_array >= 0.53).astype(int)\n",
        "\n",
        "new_df['proba_pred14'] = y_pred_all_class1_array\n",
        "new_df['pred14_rf_best_rule_54'] = (y_pred_all_class1_array >= 0.54).astype(int)\n",
        "\n",
        "new_df['proba_pred16'] = y_pred_all_class1_array\n",
        "new_df['pred16_rf_best_rule_56'] = (y_pred_all_class1_array >= 0.56).astype(int)\n",
        "\n",
        "new_df['proba_pred17'] = y_pred_all_class1_array\n",
        "new_df['pred17_rf_best_rule_57'] = (y_pred_all_class1_array >= 0.57).astype(int)\n",
        "\n",
        "new_df['proba_pred18'] = y_pred_all_class1_array\n",
        "new_df['pred18_rf_best_rule_58'] = (y_pred_all_class1_array >= 0.58).astype(int)\n",
        "\n",
        "new_df['proba_pred19'] = y_pred_all_class1_array\n",
        "new_df['pred19_rf_best_rule_59'] = (y_pred_all_class1_array >= 0.59).astype(int)\n"
      ]
    },
    {
      "cell_type": "code",
      "execution_count": 170,
      "metadata": {
        "id": "0yEd7UT9KSFY"
      },
      "outputs": [],
      "source": [
        "#PREDICTIONS.remove('pred11_rf_best_rule_51_54')\n",
        "\n",
        "PREDICTIONS.append('pred11_rf_best_rule_51')\n",
        "PREDICTIONS.append('pred12_rf_best_rule_52')\n",
        "PREDICTIONS.append('pred13_rf_best_rule_53')\n",
        "PREDICTIONS.append('pred14_rf_best_rule_54')\n",
        "PREDICTIONS.append('pred16_rf_best_rule_56')\n",
        "PREDICTIONS.append('pred17_rf_best_rule_57')\n",
        "PREDICTIONS.append('pred18_rf_best_rule_58')\n",
        "PREDICTIONS.append('pred19_rf_best_rule_59')\n",
        "\n"
      ]
    },
    {
      "cell_type": "code",
      "execution_count": 174,
      "metadata": {},
      "outputs": [
        {
          "name": "stdout",
          "output_type": "stream",
          "text": [
            "['pred11_rf_best_rule_51_54']\n"
          ]
        }
      ],
      "source": [
        "# Define the PREDICTIONS list (example list, replace with your actual list)\n",
        "PREDICTIONS = [\n",
        "    'pred11_rf_best_rule_51_54', \n",
        "    'pred12_rf_best_rule_56_59',\n",
        "    'pred11_rf_best_rule_51_55', \n",
        "    'pred12_rf_best_rule_56_60',\n",
        "    # add other elements as necessary\n",
        "]\n",
        "\n",
        "# Elements to remove\n",
        "elements_to_remove = [\n",
        "    'pred12_rf_best_rule_56_59',\n",
        "    'pred11_rf_best_rule_51_55',\n",
        "    'pred12_rf_best_rule_56_60'\n",
        "]\n",
        "\n",
        "# Remove elements if they exist in the list\n",
        "for element in elements_to_remove:\n",
        "    if element in PREDICTIONS:\n",
        "        PREDICTIONS.remove(element)\n",
        "\n",
        "# Verify the updated list\n",
        "print(PREDICTIONS)\n"
      ]
    },
    {
      "cell_type": "code",
      "execution_count": null,
      "metadata": {
        "id": "Xm5nEaapR0AQ"
      },
      "outputs": [],
      "source": [
        "# #PREDICTIONS.remove('pred11_rf_best_rule_51_54')\n",
        "# PREDICTIONS.remove('pred12_rf_best_rule_56_59')\n",
        "# PREDICTIONS.remove('pred11_rf_best_rule_51_55')\n",
        "# PREDICTIONS.remove('pred12_rf_best_rule_56_60')\n"
      ]
    },
    {
      "cell_type": "code",
      "execution_count": 175,
      "metadata": {
        "colab": {
          "base_uri": "https://localhost:8080/"
        },
        "id": "bIHOswKLvtgX",
        "outputId": "84e9b42a-f54d-4340-93d4-b9d9478670f8"
      },
      "outputs": [
        {
          "data": {
            "text/plain": [
              "['pred11_rf_best_rule_51_54']"
            ]
          },
          "execution_count": 175,
          "metadata": {},
          "output_type": "execute_result"
        }
      ],
      "source": [
        "PREDICTIONS"
      ]
    },
    {
      "cell_type": "code",
      "execution_count": 176,
      "metadata": {
        "colab": {
          "base_uri": "https://localhost:8080/",
          "height": 447
        },
        "id": "El-wNvA-wIES",
        "outputId": "b63f8da6-b519-4d6b-f554-231e336df3f5"
      },
      "outputs": [
        {
          "data": {
            "text/plain": [
              "<Axes: >"
            ]
          },
          "execution_count": 176,
          "metadata": {},
          "output_type": "execute_result"
        },
        {
          "data": {
            "image/png": "[encoded data removed]",
            "text/plain": [
              "<Figure size 640x480 with 1 Axes>"
            ]
          },
          "metadata": {},
          "output_type": "display_data"
        }
      ],
      "source": [
        "# When did it predict to trade for the \"rare\" prediction pred10? (only 2%)\n",
        "new_df[(new_df.split=='test')&(new_df.pred10_rf_best_rule_60==1)].Date.hist()"
      ]
    },
    {
      "cell_type": "code",
      "execution_count": 177,
      "metadata": {
        "colab": {
          "base_uri": "https://localhost:8080/",
          "height": 456
        },
        "id": "X0L97yBswJyy",
        "outputId": "c59ff313-b02a-4364-e7d7-afbcc5570427"
      },
      "outputs": [
        {
          "data": {
            "text/html": [
              "<div>\n",
              "<style scoped>\n",
              "    .dataframe tbody tr th:only-of-type {\n",
              "        vertical-align: middle;\n",
              "    }\n",
              "\n",
              "    .dataframe tbody tr th {\n",
              "        vertical-align: top;\n",
              "    }\n",
              "\n",
              "    .dataframe thead th {\n",
              "        text-align: right;\n",
              "    }\n",
              "</style>\n",
              "<table border=\"1\" class=\"dataframe\">\n",
              "  <thead>\n",
              "    <tr style=\"text-align: right;\">\n",
              "      <th></th>\n",
              "      <th>Open</th>\n",
              "      <th>High</th>\n",
              "      <th>Low</th>\n",
              "      <th>Close</th>\n",
              "      <th>Adj Close_x</th>\n",
              "      <th>Volume</th>\n",
              "      <th>Ticker</th>\n",
              "      <th>Year</th>\n",
              "      <th>Month</th>\n",
              "      <th>Weekday</th>\n",
              "      <th>...</th>\n",
              "      <th>proba_pred14</th>\n",
              "      <th>pred14_rf_best_rule_54</th>\n",
              "      <th>proba_pred16</th>\n",
              "      <th>pred16_rf_best_rule_56</th>\n",
              "      <th>proba_pred17</th>\n",
              "      <th>pred17_rf_best_rule_57</th>\n",
              "      <th>proba_pred18</th>\n",
              "      <th>pred18_rf_best_rule_58</th>\n",
              "      <th>proba_pred19</th>\n",
              "      <th>pred19_rf_best_rule_59</th>\n",
              "    </tr>\n",
              "  </thead>\n",
              "  <tbody>\n",
              "    <tr>\n",
              "      <th>5326</th>\n",
              "      <td>756.000000</td>\n",
              "      <td>759.599976</td>\n",
              "      <td>744.000000</td>\n",
              "      <td>744.000000</td>\n",
              "      <td>726.495850</td>\n",
              "      <td>85106.0</td>\n",
              "      <td>RMS.PA</td>\n",
              "      <td>2020</td>\n",
              "      <td>September</td>\n",
              "      <td>4</td>\n",
              "      <td>...</td>\n",
              "      <td>0.616821</td>\n",
              "      <td>1</td>\n",
              "      <td>0.616821</td>\n",
              "      <td>1</td>\n",
              "      <td>0.616821</td>\n",
              "      <td>1</td>\n",
              "      <td>0.616821</td>\n",
              "      <td>1</td>\n",
              "      <td>0.616821</td>\n",
              "      <td>1</td>\n",
              "    </tr>\n",
              "    <tr>\n",
              "      <th>5327</th>\n",
              "      <td>276.000000</td>\n",
              "      <td>276.100006</td>\n",
              "      <td>269.600006</td>\n",
              "      <td>271.100006</td>\n",
              "      <td>256.523193</td>\n",
              "      <td>590993.0</td>\n",
              "      <td>OR.PA</td>\n",
              "      <td>2020</td>\n",
              "      <td>September</td>\n",
              "      <td>0</td>\n",
              "      <td>...</td>\n",
              "      <td>0.610240</td>\n",
              "      <td>1</td>\n",
              "      <td>0.610240</td>\n",
              "      <td>1</td>\n",
              "      <td>0.610240</td>\n",
              "      <td>1</td>\n",
              "      <td>0.610240</td>\n",
              "      <td>1</td>\n",
              "      <td>0.610240</td>\n",
              "      <td>1</td>\n",
              "    </tr>\n",
              "    <tr>\n",
              "      <th>4823</th>\n",
              "      <td>47.689999</td>\n",
              "      <td>48.369999</td>\n",
              "      <td>47.570000</td>\n",
              "      <td>48.270000</td>\n",
              "      <td>47.062443</td>\n",
              "      <td>1151700.0</td>\n",
              "      <td>HDB</td>\n",
              "      <td>2020</td>\n",
              "      <td>September</td>\n",
              "      <td>1</td>\n",
              "      <td>...</td>\n",
              "      <td>0.604826</td>\n",
              "      <td>1</td>\n",
              "      <td>0.604826</td>\n",
              "      <td>1</td>\n",
              "      <td>0.604826</td>\n",
              "      <td>1</td>\n",
              "      <td>0.604826</td>\n",
              "      <td>1</td>\n",
              "      <td>0.604826</td>\n",
              "      <td>1</td>\n",
              "    </tr>\n",
              "    <tr>\n",
              "      <th>5420</th>\n",
              "      <td>13.770000</td>\n",
              "      <td>13.810000</td>\n",
              "      <td>13.560000</td>\n",
              "      <td>13.590000</td>\n",
              "      <td>12.568239</td>\n",
              "      <td>7495000.0</td>\n",
              "      <td>INFY</td>\n",
              "      <td>2020</td>\n",
              "      <td>September</td>\n",
              "      <td>2</td>\n",
              "      <td>...</td>\n",
              "      <td>0.620527</td>\n",
              "      <td>1</td>\n",
              "      <td>0.620527</td>\n",
              "      <td>1</td>\n",
              "      <td>0.620527</td>\n",
              "      <td>1</td>\n",
              "      <td>0.620527</td>\n",
              "      <td>1</td>\n",
              "      <td>0.620527</td>\n",
              "      <td>1</td>\n",
              "    </tr>\n",
              "    <tr>\n",
              "      <th>6298</th>\n",
              "      <td>155.300003</td>\n",
              "      <td>155.639999</td>\n",
              "      <td>151.830002</td>\n",
              "      <td>152.110001</td>\n",
              "      <td>143.006088</td>\n",
              "      <td>449500.0</td>\n",
              "      <td>SAP</td>\n",
              "      <td>2020</td>\n",
              "      <td>September</td>\n",
              "      <td>2</td>\n",
              "      <td>...</td>\n",
              "      <td>0.606076</td>\n",
              "      <td>1</td>\n",
              "      <td>0.606076</td>\n",
              "      <td>1</td>\n",
              "      <td>0.606076</td>\n",
              "      <td>1</td>\n",
              "      <td>0.606076</td>\n",
              "      <td>1</td>\n",
              "      <td>0.606076</td>\n",
              "      <td>1</td>\n",
              "    </tr>\n",
              "    <tr>\n",
              "      <th>...</th>\n",
              "      <td>...</td>\n",
              "      <td>...</td>\n",
              "      <td>...</td>\n",
              "      <td>...</td>\n",
              "      <td>...</td>\n",
              "      <td>...</td>\n",
              "      <td>...</td>\n",
              "      <td>...</td>\n",
              "      <td>...</td>\n",
              "      <td>...</td>\n",
              "      <td>...</td>\n",
              "      <td>...</td>\n",
              "      <td>...</td>\n",
              "      <td>...</td>\n",
              "      <td>...</td>\n",
              "      <td>...</td>\n",
              "      <td>...</td>\n",
              "      <td>...</td>\n",
              "      <td>...</td>\n",
              "      <td>...</td>\n",
              "      <td>...</td>\n",
              "    </tr>\n",
              "    <tr>\n",
              "      <th>3594</th>\n",
              "      <td>22.600000</td>\n",
              "      <td>23.049999</td>\n",
              "      <td>22.600000</td>\n",
              "      <td>22.740000</td>\n",
              "      <td>22.740000</td>\n",
              "      <td>86700.0</td>\n",
              "      <td>IDEXY</td>\n",
              "      <td>2024</td>\n",
              "      <td>May</td>\n",
              "      <td>2</td>\n",
              "      <td>...</td>\n",
              "      <td>0.601444</td>\n",
              "      <td>1</td>\n",
              "      <td>0.601444</td>\n",
              "      <td>1</td>\n",
              "      <td>0.601444</td>\n",
              "      <td>1</td>\n",
              "      <td>0.601444</td>\n",
              "      <td>1</td>\n",
              "      <td>0.601444</td>\n",
              "      <td>1</td>\n",
              "    </tr>\n",
              "    <tr>\n",
              "      <th>7204</th>\n",
              "      <td>181.699997</td>\n",
              "      <td>183.429993</td>\n",
              "      <td>179.149994</td>\n",
              "      <td>180.070007</td>\n",
              "      <td>180.070007</td>\n",
              "      <td>622200.0</td>\n",
              "      <td>SAP</td>\n",
              "      <td>2024</td>\n",
              "      <td>May</td>\n",
              "      <td>2</td>\n",
              "      <td>...</td>\n",
              "      <td>0.609429</td>\n",
              "      <td>1</td>\n",
              "      <td>0.609429</td>\n",
              "      <td>1</td>\n",
              "      <td>0.609429</td>\n",
              "      <td>1</td>\n",
              "      <td>0.609429</td>\n",
              "      <td>1</td>\n",
              "      <td>0.609429</td>\n",
              "      <td>1</td>\n",
              "    </tr>\n",
              "    <tr>\n",
              "      <th>7041</th>\n",
              "      <td>396.609985</td>\n",
              "      <td>402.320007</td>\n",
              "      <td>396.350006</td>\n",
              "      <td>398.579987</td>\n",
              "      <td>398.579987</td>\n",
              "      <td>2605000.0</td>\n",
              "      <td>BRK-B</td>\n",
              "      <td>2024</td>\n",
              "      <td>May</td>\n",
              "      <td>2</td>\n",
              "      <td>...</td>\n",
              "      <td>0.605517</td>\n",
              "      <td>1</td>\n",
              "      <td>0.605517</td>\n",
              "      <td>1</td>\n",
              "      <td>0.605517</td>\n",
              "      <td>1</td>\n",
              "      <td>0.605517</td>\n",
              "      <td>1</td>\n",
              "      <td>0.605517</td>\n",
              "      <td>1</td>\n",
              "    </tr>\n",
              "    <tr>\n",
              "      <th>4057</th>\n",
              "      <td>268.149994</td>\n",
              "      <td>270.910004</td>\n",
              "      <td>266.709991</td>\n",
              "      <td>267.320007</td>\n",
              "      <td>267.320007</td>\n",
              "      <td>6119900.0</td>\n",
              "      <td>V</td>\n",
              "      <td>2024</td>\n",
              "      <td>May</td>\n",
              "      <td>2</td>\n",
              "      <td>...</td>\n",
              "      <td>0.604531</td>\n",
              "      <td>1</td>\n",
              "      <td>0.604531</td>\n",
              "      <td>1</td>\n",
              "      <td>0.604531</td>\n",
              "      <td>1</td>\n",
              "      <td>0.604531</td>\n",
              "      <td>1</td>\n",
              "      <td>0.604531</td>\n",
              "      <td>1</td>\n",
              "    </tr>\n",
              "    <tr>\n",
              "      <th>10842</th>\n",
              "      <td>127.940002</td>\n",
              "      <td>127.940002</td>\n",
              "      <td>123.830002</td>\n",
              "      <td>124.019997</td>\n",
              "      <td>124.019997</td>\n",
              "      <td>8487100.0</td>\n",
              "      <td>NVO</td>\n",
              "      <td>2024</td>\n",
              "      <td>May</td>\n",
              "      <td>3</td>\n",
              "      <td>...</td>\n",
              "      <td>0.600071</td>\n",
              "      <td>1</td>\n",
              "      <td>0.600071</td>\n",
              "      <td>1</td>\n",
              "      <td>0.600071</td>\n",
              "      <td>1</td>\n",
              "      <td>0.600071</td>\n",
              "      <td>1</td>\n",
              "      <td>0.600071</td>\n",
              "      <td>1</td>\n",
              "    </tr>\n",
              "  </tbody>\n",
              "</table>\n",
              "<p>695 rows × 358 columns</p>\n",
              "</div>"
            ],
            "text/plain": [
              "             Open        High         Low       Close  Adj Close_x     Volume  \\\n",
              "5326   756.000000  759.599976  744.000000  744.000000   726.495850    85106.0   \n",
              "5327   276.000000  276.100006  269.600006  271.100006   256.523193   590993.0   \n",
              "4823    47.689999   48.369999   47.570000   48.270000    47.062443  1151700.0   \n",
              "5420    13.770000   13.810000   13.560000   13.590000    12.568239  7495000.0   \n",
              "6298   155.300003  155.639999  151.830002  152.110001   143.006088   449500.0   \n",
              "...           ...         ...         ...         ...          ...        ...   \n",
              "3594    22.600000   23.049999   22.600000   22.740000    22.740000    86700.0   \n",
              "7204   181.699997  183.429993  179.149994  180.070007   180.070007   622200.0   \n",
              "7041   396.609985  402.320007  396.350006  398.579987   398.579987  2605000.0   \n",
              "4057   268.149994  270.910004  266.709991  267.320007   267.320007  6119900.0   \n",
              "10842  127.940002  127.940002  123.830002  124.019997   124.019997  8487100.0   \n",
              "\n",
              "       Ticker  Year      Month Weekday  ... proba_pred14  \\\n",
              "5326   RMS.PA  2020  September       4  ...     0.616821   \n",
              "5327    OR.PA  2020  September       0  ...     0.610240   \n",
              "4823      HDB  2020  September       1  ...     0.604826   \n",
              "5420     INFY  2020  September       2  ...     0.620527   \n",
              "6298      SAP  2020  September       2  ...     0.606076   \n",
              "...       ...   ...        ...     ...  ...          ...   \n",
              "3594    IDEXY  2024        May       2  ...     0.601444   \n",
              "7204      SAP  2024        May       2  ...     0.609429   \n",
              "7041    BRK-B  2024        May       2  ...     0.605517   \n",
              "4057        V  2024        May       2  ...     0.604531   \n",
              "10842     NVO  2024        May       3  ...     0.600071   \n",
              "\n",
              "       pred14_rf_best_rule_54  proba_pred16  pred16_rf_best_rule_56  \\\n",
              "5326                        1      0.616821                       1   \n",
              "5327                        1      0.610240                       1   \n",
              "4823                        1      0.604826                       1   \n",
              "5420                        1      0.620527                       1   \n",
              "6298                        1      0.606076                       1   \n",
              "...                       ...           ...                     ...   \n",
              "3594                        1      0.601444                       1   \n",
              "7204                        1      0.609429                       1   \n",
              "7041                        1      0.605517                       1   \n",
              "4057                        1      0.604531                       1   \n",
              "10842                       1      0.600071                       1   \n",
              "\n",
              "       proba_pred17  pred17_rf_best_rule_57  proba_pred18  \\\n",
              "5326       0.616821                       1      0.616821   \n",
              "5327       0.610240                       1      0.610240   \n",
              "4823       0.604826                       1      0.604826   \n",
              "5420       0.620527                       1      0.620527   \n",
              "6298       0.606076                       1      0.606076   \n",
              "...             ...                     ...           ...   \n",
              "3594       0.601444                       1      0.601444   \n",
              "7204       0.609429                       1      0.609429   \n",
              "7041       0.605517                       1      0.605517   \n",
              "4057       0.604531                       1      0.604531   \n",
              "10842      0.600071                       1      0.600071   \n",
              "\n",
              "       pred18_rf_best_rule_58  proba_pred19  pred19_rf_best_rule_59  \n",
              "5326                        1      0.616821                       1  \n",
              "5327                        1      0.610240                       1  \n",
              "4823                        1      0.604826                       1  \n",
              "5420                        1      0.620527                       1  \n",
              "6298                        1      0.606076                       1  \n",
              "...                       ...           ...                     ...  \n",
              "3594                        1      0.601444                       1  \n",
              "7204                        1      0.609429                       1  \n",
              "7041                        1      0.605517                       1  \n",
              "4057                        1      0.604531                       1  \n",
              "10842                       1      0.600071                       1  \n",
              "\n",
              "[695 rows x 358 columns]"
            ]
          },
          "execution_count": 177,
          "metadata": {},
          "output_type": "execute_result"
        }
      ],
      "source": [
        "new_df[(new_df.split=='test')&(new_df.pred10_rf_best_rule_60==1)].sort_values(by='Date')"
      ]
    },
    {
      "cell_type": "code",
      "execution_count": 178,
      "metadata": {
        "id": "zYvdmmoZwNMH"
      },
      "outputs": [],
      "source": [
        "# Pred 10: How many positive prediction per day (out of 33 stocks possible)\n",
        "pred10_daily_positive_count = pd.DataFrame(new_df[(new_df.split=='test')&(new_df.pred10_rf_best_rule_60==1)].groupby('Date')['pred10_rf_best_rule_60'].count())"
      ]
    },
    {
      "cell_type": "code",
      "execution_count": 179,
      "metadata": {
        "id": "L7eXCFrOwQhH"
      },
      "outputs": [],
      "source": [
        "# Pred 9: How many positive prediction per day (out of 33 stocks possible)\n",
        "pred9_daily_positive_count = pd.DataFrame(new_df[(new_df.split=='test')&(new_df.pred9_rf_best_rule_55==1)].groupby('Date')['pred9_rf_best_rule_55'].count())"
      ]
    },
    {
      "cell_type": "code",
      "execution_count": 180,
      "metadata": {
        "colab": {
          "base_uri": "https://localhost:8080/"
        },
        "id": "2c4D26pAwRO_",
        "outputId": "4160efa4-a93c-4e97-f2c9-84a26c23d742"
      },
      "outputs": [
        {
          "data": {
            "text/plain": [
              "947"
            ]
          },
          "execution_count": 180,
          "metadata": {},
          "output_type": "execute_result"
        }
      ],
      "source": [
        "# Unique trading days on Test (4 years)\n",
        "new_df[(new_df.split=='test')].Date.nunique()"
      ]
    },
    {
      "cell_type": "code",
      "execution_count": 181,
      "metadata": {
        "colab": {
          "base_uri": "https://localhost:8080/",
          "height": 450
        },
        "id": "eeHr2gizwT0-",
        "outputId": "c3fdd428-b6c4-49e7-a205-6ef12b209440"
      },
      "outputs": [
        {
          "data": {
            "text/html": [
              "<div>\n",
              "<style scoped>\n",
              "    .dataframe tbody tr th:only-of-type {\n",
              "        vertical-align: middle;\n",
              "    }\n",
              "\n",
              "    .dataframe tbody tr th {\n",
              "        vertical-align: top;\n",
              "    }\n",
              "\n",
              "    .dataframe thead th {\n",
              "        text-align: right;\n",
              "    }\n",
              "</style>\n",
              "<table border=\"1\" class=\"dataframe\">\n",
              "  <thead>\n",
              "    <tr style=\"text-align: right;\">\n",
              "      <th></th>\n",
              "      <th>pred10_rf_best_rule_60</th>\n",
              "    </tr>\n",
              "    <tr>\n",
              "      <th>Date</th>\n",
              "      <th></th>\n",
              "    </tr>\n",
              "  </thead>\n",
              "  <tbody>\n",
              "    <tr>\n",
              "      <th>2020-09-18</th>\n",
              "      <td>1</td>\n",
              "    </tr>\n",
              "    <tr>\n",
              "      <th>2020-09-21</th>\n",
              "      <td>1</td>\n",
              "    </tr>\n",
              "    <tr>\n",
              "      <th>2020-09-22</th>\n",
              "      <td>1</td>\n",
              "    </tr>\n",
              "    <tr>\n",
              "      <th>2020-09-23</th>\n",
              "      <td>6</td>\n",
              "    </tr>\n",
              "    <tr>\n",
              "      <th>2020-09-24</th>\n",
              "      <td>4</td>\n",
              "    </tr>\n",
              "    <tr>\n",
              "      <th>...</th>\n",
              "      <td>...</td>\n",
              "    </tr>\n",
              "    <tr>\n",
              "      <th>2023-11-13</th>\n",
              "      <td>1</td>\n",
              "    </tr>\n",
              "    <tr>\n",
              "      <th>2023-11-17</th>\n",
              "      <td>1</td>\n",
              "    </tr>\n",
              "    <tr>\n",
              "      <th>2024-01-08</th>\n",
              "      <td>1</td>\n",
              "    </tr>\n",
              "    <tr>\n",
              "      <th>2024-05-01</th>\n",
              "      <td>7</td>\n",
              "    </tr>\n",
              "    <tr>\n",
              "      <th>2024-05-02</th>\n",
              "      <td>1</td>\n",
              "    </tr>\n",
              "  </tbody>\n",
              "</table>\n",
              "<p>162 rows × 1 columns</p>\n",
              "</div>"
            ],
            "text/plain": [
              "            pred10_rf_best_rule_60\n",
              "Date                              \n",
              "2020-09-18                       1\n",
              "2020-09-21                       1\n",
              "2020-09-22                       1\n",
              "2020-09-23                       6\n",
              "2020-09-24                       4\n",
              "...                            ...\n",
              "2023-11-13                       1\n",
              "2023-11-17                       1\n",
              "2024-01-08                       1\n",
              "2024-05-01                       7\n",
              "2024-05-02                       1\n",
              "\n",
              "[162 rows x 1 columns]"
            ]
          },
          "execution_count": 181,
          "metadata": {},
          "output_type": "execute_result"
        }
      ],
      "source": [
        "pred10_daily_positive_count"
      ]
    },
    {
      "cell_type": "code",
      "execution_count": 182,
      "metadata": {
        "colab": {
          "base_uri": "https://localhost:8080/",
          "height": 469
        },
        "id": "iAz6x5yZwWf3",
        "outputId": "b7bab8be-1352-49e0-9bb7-081ba2ba2875"
      },
      "outputs": [
        {
          "data": {
            "text/plain": [
              "array([[<Axes: title={'center': 'pred10_rf_best_rule_60'}>]], dtype=object)"
            ]
          },
          "execution_count": 182,
          "metadata": {},
          "output_type": "execute_result"
        },
        {
          "data": {
            "image/png": "[encoded data removed]",
            "text/plain": [
              "<Figure size 640x480 with 1 Axes>"
            ]
          },
          "metadata": {},
          "output_type": "display_data"
        }
      ],
      "source": [
        "pred10_daily_positive_count.hist()"
      ]
    },
    {
      "cell_type": "code",
      "execution_count": 183,
      "metadata": {
        "colab": {
          "base_uri": "https://localhost:8080/",
          "height": 80
        },
        "id": "U0bSUS-YwXlv",
        "outputId": "e6bc1610-3d0d-4ac8-e64f-459ec9ba0b8f"
      },
      "outputs": [
        {
          "data": {
            "text/html": [
              "<div>\n",
              "<style scoped>\n",
              "    .dataframe tbody tr th:only-of-type {\n",
              "        vertical-align: middle;\n",
              "    }\n",
              "\n",
              "    .dataframe tbody tr th {\n",
              "        vertical-align: top;\n",
              "    }\n",
              "\n",
              "    .dataframe thead th {\n",
              "        text-align: right;\n",
              "    }\n",
              "</style>\n",
              "<table border=\"1\" class=\"dataframe\">\n",
              "  <thead>\n",
              "    <tr style=\"text-align: right;\">\n",
              "      <th></th>\n",
              "      <th>count</th>\n",
              "      <th>mean</th>\n",
              "      <th>std</th>\n",
              "      <th>min</th>\n",
              "      <th>25%</th>\n",
              "      <th>50%</th>\n",
              "      <th>75%</th>\n",
              "      <th>max</th>\n",
              "    </tr>\n",
              "  </thead>\n",
              "  <tbody>\n",
              "    <tr>\n",
              "      <th>pred10_rf_best_rule_60</th>\n",
              "      <td>162.0</td>\n",
              "      <td>4.290123</td>\n",
              "      <td>4.998984</td>\n",
              "      <td>1.0</td>\n",
              "      <td>1.0</td>\n",
              "      <td>2.0</td>\n",
              "      <td>6.0</td>\n",
              "      <td>31.0</td>\n",
              "    </tr>\n",
              "  </tbody>\n",
              "</table>\n",
              "</div>"
            ],
            "text/plain": [
              "                        count      mean       std  min  25%  50%  75%   max\n",
              "pred10_rf_best_rule_60  162.0  4.290123  4.998984  1.0  1.0  2.0  6.0  31.0"
            ]
          },
          "execution_count": 183,
          "metadata": {},
          "output_type": "execute_result"
        }
      ],
      "source": [
        "# 75% cases we have not more than 6 bets of $100\n",
        "pred10_daily_positive_count.describe().T"
      ]
    },
    {
      "cell_type": "code",
      "execution_count": 184,
      "metadata": {
        "colab": {
          "base_uri": "https://localhost:8080/",
          "height": 469
        },
        "id": "QHhGAzWVwY1g",
        "outputId": "2e9591ab-1290-4e78-eb05-700b415e6cbf"
      },
      "outputs": [
        {
          "data": {
            "text/plain": [
              "array([[<Axes: title={'center': 'pred9_rf_best_rule_55'}>]], dtype=object)"
            ]
          },
          "execution_count": 184,
          "metadata": {},
          "output_type": "execute_result"
        },
        {
          "data": {
            "image/png": "[encoded data removed]",
            "text/plain": [
              "<Figure size 640x480 with 1 Axes>"
            ]
          },
          "metadata": {},
          "output_type": "display_data"
        }
      ],
      "source": [
        "pred9_daily_positive_count.hist()"
      ]
    },
    {
      "cell_type": "code",
      "execution_count": 185,
      "metadata": {
        "colab": {
          "base_uri": "https://localhost:8080/",
          "height": 80
        },
        "id": "FPetBORKwag2",
        "outputId": "190ca7e0-0c5b-432b-ea77-44f4d2594457"
      },
      "outputs": [
        {
          "data": {
            "text/html": [
              "<div>\n",
              "<style scoped>\n",
              "    .dataframe tbody tr th:only-of-type {\n",
              "        vertical-align: middle;\n",
              "    }\n",
              "\n",
              "    .dataframe tbody tr th {\n",
              "        vertical-align: top;\n",
              "    }\n",
              "\n",
              "    .dataframe thead th {\n",
              "        text-align: right;\n",
              "    }\n",
              "</style>\n",
              "<table border=\"1\" class=\"dataframe\">\n",
              "  <thead>\n",
              "    <tr style=\"text-align: right;\">\n",
              "      <th></th>\n",
              "      <th>count</th>\n",
              "      <th>mean</th>\n",
              "      <th>std</th>\n",
              "      <th>min</th>\n",
              "      <th>25%</th>\n",
              "      <th>50%</th>\n",
              "      <th>75%</th>\n",
              "      <th>max</th>\n",
              "    </tr>\n",
              "  </thead>\n",
              "  <tbody>\n",
              "    <tr>\n",
              "      <th>pred9_rf_best_rule_55</th>\n",
              "      <td>645.0</td>\n",
              "      <td>8.474419</td>\n",
              "      <td>7.903025</td>\n",
              "      <td>1.0</td>\n",
              "      <td>2.0</td>\n",
              "      <td>6.0</td>\n",
              "      <td>13.0</td>\n",
              "      <td>33.0</td>\n",
              "    </tr>\n",
              "  </tbody>\n",
              "</table>\n",
              "</div>"
            ],
            "text/plain": [
              "                       count      mean       std  min  25%  50%   75%   max\n",
              "pred9_rf_best_rule_55  645.0  8.474419  7.903025  1.0  2.0  6.0  13.0  33.0"
            ]
          },
          "execution_count": 185,
          "metadata": {},
          "output_type": "execute_result"
        }
      ],
      "source": [
        "pred9_daily_positive_count.describe().T"
      ]
    },
    {
      "cell_type": "markdown",
      "metadata": {
        "id": "TnGtBxbywdYi"
      },
      "source": [
        "## 2.3) Agg. stats on ALL predictions"
      ]
    },
    {
      "cell_type": "code",
      "execution_count": 186,
      "metadata": {
        "colab": {
          "base_uri": "https://localhost:8080/"
        },
        "id": "YDToGIp9wfcI",
        "outputId": "58b31c90-17a2-44fa-e5a5-c1035cc5fd0a"
      },
      "outputs": [
        {
          "name": "stdout",
          "output_type": "stream",
          "text": [
            "Prediction columns founded: ['pred0_manual_cci', 'pred1_manual_prev_g1', 'pred2_manual_prev_g1_and_snp', 'pred3_manual_gdp_and_fastd', 'pred4_manual_gdp_and_wti30d', 'pred5_clf_10', 'pred6_clf_best', 'pred7_clf_best_rule_66', 'pred8_clf_best_rule_78', 'pred9_rf_best_rule_55', 'pred10_rf_best_rule_60', 'pred11_rf_best_rule_51', 'pred12_rf_best_rule_52', 'pred13_rf_best_rule_53', 'pred14_rf_best_rule_54', 'pred16_rf_best_rule_56', 'pred17_rf_best_rule_57', 'pred18_rf_best_rule_58', 'pred19_rf_best_rule_59']\n",
            "Created columns is_correct: ['is_correct_pred0', 'is_correct_pred1', 'is_correct_pred2', 'is_correct_pred3', 'is_correct_pred4', 'is_correct_pred5', 'is_correct_pred6', 'is_correct_pred7', 'is_correct_pred8', 'is_correct_pred9', 'is_correct_pred10', 'is_correct_pred11', 'is_correct_pred12', 'is_correct_pred13', 'is_correct_pred14', 'is_correct_pred16', 'is_correct_pred17', 'is_correct_pred18', 'is_correct_pred19']\n",
            "Precision on TEST set for each prediction:\n",
            "Prediction column:pred0_manual_cci , is_correct_column: is_correct_pred0\n",
            "is_correct_pred0\n",
            "1    455\n",
            "0    344\n",
            "Name: count, dtype: int64\n",
            "is_correct_pred0\n",
            "1    0.569462\n",
            "0    0.430538\n",
            "Name: count, dtype: float64\n",
            "---------\n",
            "Prediction column:pred1_manual_prev_g1 , is_correct_column: is_correct_pred1\n",
            "is_correct_pred1\n",
            "1    8621\n",
            "0    6980\n",
            "Name: count, dtype: int64\n",
            "is_correct_pred1\n",
            "1    0.552593\n",
            "0    0.447407\n",
            "Name: count, dtype: float64\n",
            "---------\n",
            "Prediction column:pred2_manual_prev_g1_and_snp , is_correct_column: is_correct_pred2\n",
            "is_correct_pred2\n",
            "1    5726\n",
            "0    4729\n",
            "Name: count, dtype: int64\n",
            "is_correct_pred2\n",
            "1    0.547681\n",
            "0    0.452319\n",
            "Name: count, dtype: float64\n",
            "---------\n",
            "Prediction column:pred3_manual_gdp_and_fastd , is_correct_column: is_correct_pred3\n",
            "is_correct_pred3\n",
            "1    16560\n",
            "0    13262\n",
            "Name: count, dtype: int64\n",
            "is_correct_pred3\n",
            "1    0.555295\n",
            "0    0.444705\n",
            "Name: count, dtype: float64\n",
            "---------\n",
            "Prediction column:pred4_manual_gdp_and_wti30d , is_correct_column: is_correct_pred4\n",
            "Series([], Name: count, dtype: int64)\n",
            "Series([], Name: count, dtype: float64)\n",
            "---------\n",
            "Prediction column:pred5_clf_10 , is_correct_column: is_correct_pred5\n",
            "is_correct_pred5\n",
            "1    14496\n",
            "0    11148\n",
            "Name: count, dtype: int64\n",
            "is_correct_pred5\n",
            "1    0.565278\n",
            "0    0.434722\n",
            "Name: count, dtype: float64\n",
            "---------\n",
            "Prediction column:pred6_clf_best , is_correct_column: is_correct_pred6\n",
            "is_correct_pred6\n",
            "1    11628\n",
            "0     8200\n",
            "Name: count, dtype: int64\n",
            "is_correct_pred6\n",
            "1    0.586443\n",
            "0    0.413557\n",
            "Name: count, dtype: float64\n",
            "---------\n",
            "Prediction column:pred7_clf_best_rule_66 , is_correct_column: is_correct_pred7\n",
            "is_correct_pred7\n",
            "1    5041\n",
            "0    3463\n",
            "Name: count, dtype: int64\n",
            "is_correct_pred7\n",
            "1    0.59278\n",
            "0    0.40722\n",
            "Name: count, dtype: float64\n",
            "---------\n",
            "Prediction column:pred8_clf_best_rule_78 , is_correct_column: is_correct_pred8\n",
            "is_correct_pred8\n",
            "1    3217\n",
            "0    2202\n",
            "Name: count, dtype: int64\n",
            "is_correct_pred8\n",
            "1    0.593652\n",
            "0    0.406348\n",
            "Name: count, dtype: float64\n",
            "---------\n",
            "Prediction column:pred9_rf_best_rule_55 , is_correct_column: is_correct_pred9\n",
            "is_correct_pred9\n",
            "1    3238\n",
            "0    2228\n",
            "Name: count, dtype: int64\n",
            "is_correct_pred9\n",
            "1    0.592389\n",
            "0    0.407611\n",
            "Name: count, dtype: float64\n",
            "---------\n",
            "Prediction column:pred10_rf_best_rule_60 , is_correct_column: is_correct_pred10\n",
            "is_correct_pred10\n",
            "1    473\n",
            "0    222\n",
            "Name: count, dtype: int64\n",
            "is_correct_pred10\n",
            "1    0.680576\n",
            "0    0.319424\n",
            "Name: count, dtype: float64\n",
            "---------\n",
            "Prediction column:pred11_rf_best_rule_51 , is_correct_column: is_correct_pred11\n",
            "is_correct_pred11\n",
            "1    8235\n",
            "0    6080\n",
            "Name: count, dtype: int64\n",
            "is_correct_pred11\n",
            "1    0.575271\n",
            "0    0.424729\n",
            "Name: count, dtype: float64\n",
            "---------\n",
            "Prediction column:pred12_rf_best_rule_52 , is_correct_column: is_correct_pred12\n",
            "is_correct_pred12\n",
            "1    6845\n",
            "0    4962\n",
            "Name: count, dtype: int64\n",
            "is_correct_pred12\n",
            "1    0.579741\n",
            "0    0.420259\n",
            "Name: count, dtype: float64\n",
            "---------\n",
            "Prediction column:pred13_rf_best_rule_53 , is_correct_column: is_correct_pred13\n",
            "is_correct_pred13\n",
            "1    5534\n",
            "0    3967\n",
            "Name: count, dtype: int64\n",
            "is_correct_pred13\n",
            "1    0.582465\n",
            "0    0.417535\n",
            "Name: count, dtype: float64\n",
            "---------\n",
            "Prediction column:pred14_rf_best_rule_54 , is_correct_column: is_correct_pred14\n",
            "is_correct_pred14\n",
            "1    4281\n",
            "0    3035\n",
            "Name: count, dtype: int64\n",
            "is_correct_pred14\n",
            "1    0.585156\n",
            "0    0.414844\n",
            "Name: count, dtype: float64\n",
            "---------\n",
            "Prediction column:pred16_rf_best_rule_56 , is_correct_column: is_correct_pred16\n",
            "is_correct_pred16\n",
            "1    2368\n",
            "0    1562\n",
            "Name: count, dtype: int64\n",
            "is_correct_pred16\n",
            "1    0.602545\n",
            "0    0.397455\n",
            "Name: count, dtype: float64\n",
            "---------\n",
            "Prediction column:pred17_rf_best_rule_57 , is_correct_column: is_correct_pred17\n",
            "is_correct_pred17\n",
            "1    1666\n",
            "0    1059\n",
            "Name: count, dtype: int64\n",
            "is_correct_pred17\n",
            "1    0.611376\n",
            "0    0.388624\n",
            "Name: count, dtype: float64\n",
            "---------\n",
            "Prediction column:pred18_rf_best_rule_58 , is_correct_column: is_correct_pred18\n",
            "is_correct_pred18\n",
            "1    1136\n",
            "0     677\n",
            "Name: count, dtype: int64\n",
            "is_correct_pred18\n",
            "1    0.626586\n",
            "0    0.373414\n",
            "Name: count, dtype: float64\n",
            "---------\n",
            "Prediction column:pred19_rf_best_rule_59 , is_correct_column: is_correct_pred19\n",
            "is_correct_pred19\n",
            "1    768\n",
            "0    412\n",
            "Name: count, dtype: int64\n",
            "is_correct_pred19\n",
            "1    0.650847\n",
            "0    0.349153\n",
            "Name: count, dtype: float64\n",
            "---------\n"
          ]
        }
      ],
      "source": [
        "# let's review the Predictions:\n",
        "PREDICTIONS, IS_CORRECT = get_predictions_correctness(new_df, to_predict=to_predict)\n"
      ]
    },
    {
      "cell_type": "code",
      "execution_count": 187,
      "metadata": {
        "colab": {
          "base_uri": "https://localhost:8080/"
        },
        "id": "LRGWY8M6wmHG",
        "outputId": "69fd0567-6443-49f7-db8f-799b99deddf6"
      },
      "outputs": [
        {
          "name": "stdout",
          "output_type": "stream",
          "text": [
            "10\n",
            "10\n"
          ]
        }
      ],
      "source": [
        "# Extract number from the prediction column\n",
        "\n",
        "# Example string\n",
        "example_string = \"pred10_rf_best_rule_60\"\n",
        "\n",
        "# Split the string by '_'\n",
        "parts = example_string.split('_')\n",
        "\n",
        "# Extract the part with 'pred' and remove the 'pred' prefix\n",
        "pred_number = parts[0].replace('pred', '')\n",
        "\n",
        "# Print the result\n",
        "print(pred_number)\n",
        "\n",
        "# Print in one line\n",
        "print(int(example_string.split('_')[0].replace('pred', '')))\n"
      ]
    },
    {
      "cell_type": "code",
      "execution_count": 188,
      "metadata": {
        "colab": {
          "base_uri": "https://localhost:8080/"
        },
        "id": "dmEs3BPOwr9U",
        "outputId": "5c0b11a7-891d-4950-9a52-47959008a01a"
      },
      "outputs": [
        {
          "data": {
            "text/plain": [
              "['pred0_manual_cci',\n",
              " 'pred1_manual_prev_g1',\n",
              " 'pred2_manual_prev_g1_and_snp',\n",
              " 'pred3_manual_gdp_and_fastd',\n",
              " 'pred4_manual_gdp_and_wti30d',\n",
              " 'pred5_clf_10',\n",
              " 'pred6_clf_best',\n",
              " 'pred7_clf_best_rule_66',\n",
              " 'pred8_clf_best_rule_78',\n",
              " 'pred9_rf_best_rule_55',\n",
              " 'pred10_rf_best_rule_60',\n",
              " 'pred11_rf_best_rule_51',\n",
              " 'pred12_rf_best_rule_52',\n",
              " 'pred13_rf_best_rule_53',\n",
              " 'pred14_rf_best_rule_54',\n",
              " 'pred16_rf_best_rule_56',\n",
              " 'pred17_rf_best_rule_57',\n",
              " 'pred18_rf_best_rule_58',\n",
              " 'pred19_rf_best_rule_59']"
            ]
          },
          "execution_count": 188,
          "metadata": {},
          "output_type": "execute_result"
        }
      ],
      "source": [
        "# all predictions\n",
        "PREDICTIONS"
      ]
    },
    {
      "cell_type": "code",
      "execution_count": 189,
      "metadata": {
        "colab": {
          "base_uri": "https://localhost:8080/"
        },
        "id": "5i_COKBdwtG1",
        "outputId": "b78cee5d-b552-4bb0-9bc1-77e002ef461d"
      },
      "outputs": [
        {
          "data": {
            "text/plain": [
              "['pred5_clf_10',\n",
              " 'pred6_clf_best',\n",
              " 'pred7_clf_best_rule_66',\n",
              " 'pred8_clf_best_rule_78',\n",
              " 'pred9_rf_best_rule_55',\n",
              " 'pred10_rf_best_rule_60',\n",
              " 'pred11_rf_best_rule_51',\n",
              " 'pred12_rf_best_rule_52',\n",
              " 'pred13_rf_best_rule_53',\n",
              " 'pred14_rf_best_rule_54',\n",
              " 'pred16_rf_best_rule_56',\n",
              " 'pred17_rf_best_rule_57',\n",
              " 'pred18_rf_best_rule_58',\n",
              " 'pred19_rf_best_rule_59']"
            ]
          },
          "execution_count": 189,
          "metadata": {},
          "output_type": "execute_result"
        }
      ],
      "source": [
        "# all predictions on MODELS (not-manual predictions)\n",
        "PREDICTIONS_ON_MODELS = [p for p in PREDICTIONS if int(p.split('_')[0].replace('pred', ''))>=5]\n",
        "PREDICTIONS_ON_MODELS"
      ]
    },
    {
      "cell_type": "code",
      "execution_count": 190,
      "metadata": {
        "colab": {
          "base_uri": "https://localhost:8080/"
        },
        "id": "Tlh5ID5wwuWF",
        "outputId": "836bb0c1-05eb-4fe5-ac23-38e38dab6fe0"
      },
      "outputs": [
        {
          "data": {
            "text/plain": [
              "['is_correct_pred5',\n",
              " 'is_correct_pred6',\n",
              " 'is_correct_pred7',\n",
              " 'is_correct_pred8',\n",
              " 'is_correct_pred9',\n",
              " 'is_correct_pred10',\n",
              " 'is_correct_pred11',\n",
              " 'is_correct_pred12',\n",
              " 'is_correct_pred13',\n",
              " 'is_correct_pred14',\n",
              " 'is_correct_pred16',\n",
              " 'is_correct_pred17',\n",
              " 'is_correct_pred18',\n",
              " 'is_correct_pred19']"
            ]
          },
          "execution_count": 190,
          "metadata": {},
          "output_type": "execute_result"
        }
      ],
      "source": [
        "# all predictions on Models - correctness\n",
        "IS_CORRECT_ON_MODELS = [p for p in IS_CORRECT if int(p.replace('is_correct_pred', ''))>=5]\n",
        "IS_CORRECT_ON_MODELS"
      ]
    },
    {
      "cell_type": "code",
      "execution_count": 191,
      "metadata": {
        "colab": {
          "base_uri": "https://localhost:8080/",
          "height": 793
        },
        "id": "zWBef7FWwvTz",
        "outputId": "a1ffc70b-ee16-448d-f719-9c8fa615788a"
      },
      "outputs": [
        {
          "data": {
            "text/html": [
              "<div>\n",
              "<style scoped>\n",
              "    .dataframe tbody tr th:only-of-type {\n",
              "        vertical-align: middle;\n",
              "    }\n",
              "\n",
              "    .dataframe tbody tr th {\n",
              "        vertical-align: top;\n",
              "    }\n",
              "\n",
              "    .dataframe thead th {\n",
              "        text-align: right;\n",
              "    }\n",
              "</style>\n",
              "<table border=\"1\" class=\"dataframe\">\n",
              "  <thead>\n",
              "    <tr style=\"text-align: right;\">\n",
              "      <th></th>\n",
              "      <th>split</th>\n",
              "      <th>test</th>\n",
              "      <th>train</th>\n",
              "      <th>validation</th>\n",
              "    </tr>\n",
              "  </thead>\n",
              "  <tbody>\n",
              "    <tr>\n",
              "      <th rowspan=\"3\" valign=\"top\">pred5_clf_10</th>\n",
              "      <th>count</th>\n",
              "      <td>29829.000000</td>\n",
              "      <td>123458.000000</td>\n",
              "      <td>29388.000000</td>\n",
              "    </tr>\n",
              "    <tr>\n",
              "      <th>sum</th>\n",
              "      <td>25644.000000</td>\n",
              "      <td>98448.000000</td>\n",
              "      <td>27563.000000</td>\n",
              "    </tr>\n",
              "    <tr>\n",
              "      <th>mean</th>\n",
              "      <td>0.859700</td>\n",
              "      <td>0.797421</td>\n",
              "      <td>0.937900</td>\n",
              "    </tr>\n",
              "    <tr>\n",
              "      <th rowspan=\"3\" valign=\"top\">pred6_clf_best</th>\n",
              "      <th>count</th>\n",
              "      <td>29829.000000</td>\n",
              "      <td>123458.000000</td>\n",
              "      <td>29388.000000</td>\n",
              "    </tr>\n",
              "    <tr>\n",
              "      <th>sum</th>\n",
              "      <td>19828.000000</td>\n",
              "      <td>78085.000000</td>\n",
              "      <td>21163.000000</td>\n",
              "    </tr>\n",
              "    <tr>\n",
              "      <th>mean</th>\n",
              "      <td>0.664722</td>\n",
              "      <td>0.632482</td>\n",
              "      <td>0.720124</td>\n",
              "    </tr>\n",
              "    <tr>\n",
              "      <th rowspan=\"3\" valign=\"top\">pred7_clf_best_rule_66</th>\n",
              "      <th>count</th>\n",
              "      <td>29829.000000</td>\n",
              "      <td>123458.000000</td>\n",
              "      <td>29388.000000</td>\n",
              "    </tr>\n",
              "    <tr>\n",
              "      <th>sum</th>\n",
              "      <td>8504.000000</td>\n",
              "      <td>31404.000000</td>\n",
              "      <td>6415.000000</td>\n",
              "    </tr>\n",
              "    <tr>\n",
              "      <th>mean</th>\n",
              "      <td>0.285092</td>\n",
              "      <td>0.254370</td>\n",
              "      <td>0.218286</td>\n",
              "    </tr>\n",
              "    <tr>\n",
              "      <th rowspan=\"3\" valign=\"top\">pred8_clf_best_rule_78</th>\n",
              "      <th>count</th>\n",
              "      <td>29829.000000</td>\n",
              "      <td>123458.000000</td>\n",
              "      <td>29388.000000</td>\n",
              "    </tr>\n",
              "    <tr>\n",
              "      <th>sum</th>\n",
              "      <td>5419.000000</td>\n",
              "      <td>23345.000000</td>\n",
              "      <td>3751.000000</td>\n",
              "    </tr>\n",
              "    <tr>\n",
              "      <th>mean</th>\n",
              "      <td>0.181669</td>\n",
              "      <td>0.189093</td>\n",
              "      <td>0.127637</td>\n",
              "    </tr>\n",
              "    <tr>\n",
              "      <th rowspan=\"3\" valign=\"top\">pred9_rf_best_rule_55</th>\n",
              "      <th>count</th>\n",
              "      <td>29829.000000</td>\n",
              "      <td>123458.000000</td>\n",
              "      <td>29388.000000</td>\n",
              "    </tr>\n",
              "    <tr>\n",
              "      <th>sum</th>\n",
              "      <td>5466.000000</td>\n",
              "      <td>63447.000000</td>\n",
              "      <td>17685.000000</td>\n",
              "    </tr>\n",
              "    <tr>\n",
              "      <th>mean</th>\n",
              "      <td>0.183244</td>\n",
              "      <td>0.513916</td>\n",
              "      <td>0.601776</td>\n",
              "    </tr>\n",
              "    <tr>\n",
              "      <th rowspan=\"3\" valign=\"top\">pred10_rf_best_rule_60</th>\n",
              "      <th>count</th>\n",
              "      <td>29829.000000</td>\n",
              "      <td>123458.000000</td>\n",
              "      <td>29388.000000</td>\n",
              "    </tr>\n",
              "    <tr>\n",
              "      <th>sum</th>\n",
              "      <td>695.000000</td>\n",
              "      <td>48759.000000</td>\n",
              "      <td>14427.000000</td>\n",
              "    </tr>\n",
              "    <tr>\n",
              "      <th>mean</th>\n",
              "      <td>0.023299</td>\n",
              "      <td>0.394944</td>\n",
              "      <td>0.490915</td>\n",
              "    </tr>\n",
              "    <tr>\n",
              "      <th rowspan=\"3\" valign=\"top\">pred11_rf_best_rule_51</th>\n",
              "      <th>count</th>\n",
              "      <td>29829.000000</td>\n",
              "      <td>123458.000000</td>\n",
              "      <td>29388.000000</td>\n",
              "    </tr>\n",
              "    <tr>\n",
              "      <th>sum</th>\n",
              "      <td>14315.000000</td>\n",
              "      <td>73457.000000</td>\n",
              "      <td>19899.000000</td>\n",
              "    </tr>\n",
              "    <tr>\n",
              "      <th>mean</th>\n",
              "      <td>0.479902</td>\n",
              "      <td>0.594996</td>\n",
              "      <td>0.677113</td>\n",
              "    </tr>\n",
              "    <tr>\n",
              "      <th rowspan=\"3\" valign=\"top\">pred12_rf_best_rule_52</th>\n",
              "      <th>count</th>\n",
              "      <td>29829.000000</td>\n",
              "      <td>123458.000000</td>\n",
              "      <td>29388.000000</td>\n",
              "    </tr>\n",
              "    <tr>\n",
              "      <th>sum</th>\n",
              "      <td>11807.000000</td>\n",
              "      <td>71100.000000</td>\n",
              "      <td>19343.000000</td>\n",
              "    </tr>\n",
              "    <tr>\n",
              "      <th>mean</th>\n",
              "      <td>0.395823</td>\n",
              "      <td>0.575904</td>\n",
              "      <td>0.658194</td>\n",
              "    </tr>\n",
              "    <tr>\n",
              "      <th rowspan=\"3\" valign=\"top\">pred13_rf_best_rule_53</th>\n",
              "      <th>count</th>\n",
              "      <td>29829.000000</td>\n",
              "      <td>123458.000000</td>\n",
              "      <td>29388.000000</td>\n",
              "    </tr>\n",
              "    <tr>\n",
              "      <th>sum</th>\n",
              "      <td>9501.000000</td>\n",
              "      <td>68681.000000</td>\n",
              "      <td>18817.000000</td>\n",
              "    </tr>\n",
              "    <tr>\n",
              "      <th>mean</th>\n",
              "      <td>0.318516</td>\n",
              "      <td>0.556311</td>\n",
              "      <td>0.640295</td>\n",
              "    </tr>\n",
              "    <tr>\n",
              "      <th rowspan=\"3\" valign=\"top\">pred14_rf_best_rule_54</th>\n",
              "      <th>count</th>\n",
              "      <td>29829.000000</td>\n",
              "      <td>123458.000000</td>\n",
              "      <td>29388.000000</td>\n",
              "    </tr>\n",
              "    <tr>\n",
              "      <th>sum</th>\n",
              "      <td>7316.000000</td>\n",
              "      <td>66104.000000</td>\n",
              "      <td>18248.000000</td>\n",
              "    </tr>\n",
              "    <tr>\n",
              "      <th>mean</th>\n",
              "      <td>0.245265</td>\n",
              "      <td>0.535437</td>\n",
              "      <td>0.620934</td>\n",
              "    </tr>\n",
              "    <tr>\n",
              "      <th rowspan=\"3\" valign=\"top\">pred16_rf_best_rule_56</th>\n",
              "      <th>count</th>\n",
              "      <td>29829.000000</td>\n",
              "      <td>123458.000000</td>\n",
              "      <td>29388.000000</td>\n",
              "    </tr>\n",
              "    <tr>\n",
              "      <th>sum</th>\n",
              "      <td>3930.000000</td>\n",
              "      <td>60614.000000</td>\n",
              "      <td>17075.000000</td>\n",
              "    </tr>\n",
              "    <tr>\n",
              "      <th>mean</th>\n",
              "      <td>0.131751</td>\n",
              "      <td>0.490969</td>\n",
              "      <td>0.581019</td>\n",
              "    </tr>\n",
              "    <tr>\n",
              "      <th rowspan=\"3\" valign=\"top\">pred17_rf_best_rule_57</th>\n",
              "      <th>count</th>\n",
              "      <td>29829.000000</td>\n",
              "      <td>123458.000000</td>\n",
              "      <td>29388.000000</td>\n",
              "    </tr>\n",
              "    <tr>\n",
              "      <th>sum</th>\n",
              "      <td>2725.000000</td>\n",
              "      <td>57755.000000</td>\n",
              "      <td>16468.000000</td>\n",
              "    </tr>\n",
              "    <tr>\n",
              "      <th>mean</th>\n",
              "      <td>0.091354</td>\n",
              "      <td>0.467811</td>\n",
              "      <td>0.560365</td>\n",
              "    </tr>\n",
              "    <tr>\n",
              "      <th rowspan=\"3\" valign=\"top\">pred18_rf_best_rule_58</th>\n",
              "      <th>count</th>\n",
              "      <td>29829.000000</td>\n",
              "      <td>123458.000000</td>\n",
              "      <td>29388.000000</td>\n",
              "    </tr>\n",
              "    <tr>\n",
              "      <th>sum</th>\n",
              "      <td>1813.000000</td>\n",
              "      <td>54855.000000</td>\n",
              "      <td>15817.000000</td>\n",
              "    </tr>\n",
              "    <tr>\n",
              "      <th>mean</th>\n",
              "      <td>0.060780</td>\n",
              "      <td>0.444321</td>\n",
              "      <td>0.538213</td>\n",
              "    </tr>\n",
              "    <tr>\n",
              "      <th rowspan=\"3\" valign=\"top\">pred19_rf_best_rule_59</th>\n",
              "      <th>count</th>\n",
              "      <td>29829.000000</td>\n",
              "      <td>123458.000000</td>\n",
              "      <td>29388.000000</td>\n",
              "    </tr>\n",
              "    <tr>\n",
              "      <th>sum</th>\n",
              "      <td>1180.000000</td>\n",
              "      <td>51829.000000</td>\n",
              "      <td>15133.000000</td>\n",
              "    </tr>\n",
              "    <tr>\n",
              "      <th>mean</th>\n",
              "      <td>0.039559</td>\n",
              "      <td>0.419811</td>\n",
              "      <td>0.514938</td>\n",
              "    </tr>\n",
              "  </tbody>\n",
              "</table>\n",
              "</div>"
            ],
            "text/plain": [
              "split                                 test          train    validation\n",
              "pred5_clf_10           count  29829.000000  123458.000000  29388.000000\n",
              "                       sum    25644.000000   98448.000000  27563.000000\n",
              "                       mean       0.859700       0.797421      0.937900\n",
              "pred6_clf_best         count  29829.000000  123458.000000  29388.000000\n",
              "                       sum    19828.000000   78085.000000  21163.000000\n",
              "                       mean       0.664722       0.632482      0.720124\n",
              "pred7_clf_best_rule_66 count  29829.000000  123458.000000  29388.000000\n",
              "                       sum     8504.000000   31404.000000   6415.000000\n",
              "                       mean       0.285092       0.254370      0.218286\n",
              "pred8_clf_best_rule_78 count  29829.000000  123458.000000  29388.000000\n",
              "                       sum     5419.000000   23345.000000   3751.000000\n",
              "                       mean       0.181669       0.189093      0.127637\n",
              "pred9_rf_best_rule_55  count  29829.000000  123458.000000  29388.000000\n",
              "                       sum     5466.000000   63447.000000  17685.000000\n",
              "                       mean       0.183244       0.513916      0.601776\n",
              "pred10_rf_best_rule_60 count  29829.000000  123458.000000  29388.000000\n",
              "                       sum      695.000000   48759.000000  14427.000000\n",
              "                       mean       0.023299       0.394944      0.490915\n",
              "pred11_rf_best_rule_51 count  29829.000000  123458.000000  29388.000000\n",
              "                       sum    14315.000000   73457.000000  19899.000000\n",
              "                       mean       0.479902       0.594996      0.677113\n",
              "pred12_rf_best_rule_52 count  29829.000000  123458.000000  29388.000000\n",
              "                       sum    11807.000000   71100.000000  19343.000000\n",
              "                       mean       0.395823       0.575904      0.658194\n",
              "pred13_rf_best_rule_53 count  29829.000000  123458.000000  29388.000000\n",
              "                       sum     9501.000000   68681.000000  18817.000000\n",
              "                       mean       0.318516       0.556311      0.640295\n",
              "pred14_rf_best_rule_54 count  29829.000000  123458.000000  29388.000000\n",
              "                       sum     7316.000000   66104.000000  18248.000000\n",
              "                       mean       0.245265       0.535437      0.620934\n",
              "pred16_rf_best_rule_56 count  29829.000000  123458.000000  29388.000000\n",
              "                       sum     3930.000000   60614.000000  17075.000000\n",
              "                       mean       0.131751       0.490969      0.581019\n",
              "pred17_rf_best_rule_57 count  29829.000000  123458.000000  29388.000000\n",
              "                       sum     2725.000000   57755.000000  16468.000000\n",
              "                       mean       0.091354       0.467811      0.560365\n",
              "pred18_rf_best_rule_58 count  29829.000000  123458.000000  29388.000000\n",
              "                       sum     1813.000000   54855.000000  15817.000000\n",
              "                       mean       0.060780       0.444321      0.538213\n",
              "pred19_rf_best_rule_59 count  29829.000000  123458.000000  29388.000000\n",
              "                       sum     1180.000000   51829.000000  15133.000000\n",
              "                       mean       0.039559       0.419811      0.514938"
            ]
          },
          "execution_count": 191,
          "metadata": {},
          "output_type": "execute_result"
        }
      ],
      "source": [
        "# predictions on models\n",
        "# pred10_rf_best_rule_60: ONLY 2% of TEST cases predicted with high confidence of growth\n",
        "new_df.groupby('split')[PREDICTIONS_ON_MODELS].agg(['count','sum','mean']).T"
      ]
    },
    {
      "cell_type": "code",
      "execution_count": 192,
      "metadata": {
        "colab": {
          "base_uri": "https://localhost:8080/",
          "height": 419
        },
        "id": "UcMRarZNwwoc",
        "outputId": "6c151d8e-1bc1-440b-bff5-8c8a8914ed16"
      },
      "outputs": [
        {
          "data": {
            "text/html": [
              "<div>\n",
              "<style scoped>\n",
              "    .dataframe tbody tr th:only-of-type {\n",
              "        vertical-align: middle;\n",
              "    }\n",
              "\n",
              "    .dataframe tbody tr th {\n",
              "        vertical-align: top;\n",
              "    }\n",
              "\n",
              "    .dataframe thead th {\n",
              "        text-align: right;\n",
              "    }\n",
              "</style>\n",
              "<table border=\"1\" class=\"dataframe\">\n",
              "  <thead>\n",
              "    <tr style=\"text-align: right;\">\n",
              "      <th></th>\n",
              "      <th>split</th>\n",
              "      <th>test</th>\n",
              "      <th>train</th>\n",
              "      <th>validation</th>\n",
              "    </tr>\n",
              "  </thead>\n",
              "  <tbody>\n",
              "    <tr>\n",
              "      <th rowspan=\"3\" valign=\"top\">pred0_manual_cci</th>\n",
              "      <th>count</th>\n",
              "      <td>29829.000000</td>\n",
              "      <td>123458.000000</td>\n",
              "      <td>29388.000000</td>\n",
              "    </tr>\n",
              "    <tr>\n",
              "      <th>sum</th>\n",
              "      <td>799.000000</td>\n",
              "      <td>3162.000000</td>\n",
              "      <td>875.000000</td>\n",
              "    </tr>\n",
              "    <tr>\n",
              "      <th>mean</th>\n",
              "      <td>0.026786</td>\n",
              "      <td>0.025612</td>\n",
              "      <td>0.029774</td>\n",
              "    </tr>\n",
              "    <tr>\n",
              "      <th rowspan=\"3\" valign=\"top\">pred1_manual_prev_g1</th>\n",
              "      <th>count</th>\n",
              "      <td>29829.000000</td>\n",
              "      <td>123458.000000</td>\n",
              "      <td>29388.000000</td>\n",
              "    </tr>\n",
              "    <tr>\n",
              "      <th>sum</th>\n",
              "      <td>15601.000000</td>\n",
              "      <td>62117.000000</td>\n",
              "      <td>15585.000000</td>\n",
              "    </tr>\n",
              "    <tr>\n",
              "      <th>mean</th>\n",
              "      <td>0.523015</td>\n",
              "      <td>0.503143</td>\n",
              "      <td>0.530318</td>\n",
              "    </tr>\n",
              "    <tr>\n",
              "      <th rowspan=\"3\" valign=\"top\">pred2_manual_prev_g1_and_snp</th>\n",
              "      <th>count</th>\n",
              "      <td>29829.000000</td>\n",
              "      <td>123458.000000</td>\n",
              "      <td>29388.000000</td>\n",
              "    </tr>\n",
              "    <tr>\n",
              "      <th>sum</th>\n",
              "      <td>10455.000000</td>\n",
              "      <td>41609.000000</td>\n",
              "      <td>10902.000000</td>\n",
              "    </tr>\n",
              "    <tr>\n",
              "      <th>mean</th>\n",
              "      <td>0.350498</td>\n",
              "      <td>0.337030</td>\n",
              "      <td>0.370968</td>\n",
              "    </tr>\n",
              "    <tr>\n",
              "      <th rowspan=\"3\" valign=\"top\">pred3_manual_gdp_and_fastd</th>\n",
              "      <th>count</th>\n",
              "      <td>29829.000000</td>\n",
              "      <td>123458.000000</td>\n",
              "      <td>29388.000000</td>\n",
              "    </tr>\n",
              "    <tr>\n",
              "      <th>sum</th>\n",
              "      <td>29822.000000</td>\n",
              "      <td>107032.000000</td>\n",
              "      <td>29388.000000</td>\n",
              "    </tr>\n",
              "    <tr>\n",
              "      <th>mean</th>\n",
              "      <td>0.999765</td>\n",
              "      <td>0.866951</td>\n",
              "      <td>1.000000</td>\n",
              "    </tr>\n",
              "    <tr>\n",
              "      <th rowspan=\"3\" valign=\"top\">pred4_manual_gdp_and_wti30d</th>\n",
              "      <th>count</th>\n",
              "      <td>29829.000000</td>\n",
              "      <td>123458.000000</td>\n",
              "      <td>29388.000000</td>\n",
              "    </tr>\n",
              "    <tr>\n",
              "      <th>sum</th>\n",
              "      <td>0.000000</td>\n",
              "      <td>5673.000000</td>\n",
              "      <td>0.000000</td>\n",
              "    </tr>\n",
              "    <tr>\n",
              "      <th>mean</th>\n",
              "      <td>0.000000</td>\n",
              "      <td>0.045951</td>\n",
              "      <td>0.000000</td>\n",
              "    </tr>\n",
              "    <tr>\n",
              "      <th rowspan=\"3\" valign=\"top\">pred5_clf_10</th>\n",
              "      <th>count</th>\n",
              "      <td>29829.000000</td>\n",
              "      <td>123458.000000</td>\n",
              "      <td>29388.000000</td>\n",
              "    </tr>\n",
              "    <tr>\n",
              "      <th>sum</th>\n",
              "      <td>25644.000000</td>\n",
              "      <td>98448.000000</td>\n",
              "      <td>27563.000000</td>\n",
              "    </tr>\n",
              "    <tr>\n",
              "      <th>mean</th>\n",
              "      <td>0.859700</td>\n",
              "      <td>0.797421</td>\n",
              "      <td>0.937900</td>\n",
              "    </tr>\n",
              "    <tr>\n",
              "      <th rowspan=\"3\" valign=\"top\">pred6_clf_best</th>\n",
              "      <th>count</th>\n",
              "      <td>29829.000000</td>\n",
              "      <td>123458.000000</td>\n",
              "      <td>29388.000000</td>\n",
              "    </tr>\n",
              "    <tr>\n",
              "      <th>sum</th>\n",
              "      <td>19828.000000</td>\n",
              "      <td>78085.000000</td>\n",
              "      <td>21163.000000</td>\n",
              "    </tr>\n",
              "    <tr>\n",
              "      <th>mean</th>\n",
              "      <td>0.664722</td>\n",
              "      <td>0.632482</td>\n",
              "      <td>0.720124</td>\n",
              "    </tr>\n",
              "    <tr>\n",
              "      <th rowspan=\"3\" valign=\"top\">pred7_clf_best_rule_66</th>\n",
              "      <th>count</th>\n",
              "      <td>29829.000000</td>\n",
              "      <td>123458.000000</td>\n",
              "      <td>29388.000000</td>\n",
              "    </tr>\n",
              "    <tr>\n",
              "      <th>sum</th>\n",
              "      <td>8504.000000</td>\n",
              "      <td>31404.000000</td>\n",
              "      <td>6415.000000</td>\n",
              "    </tr>\n",
              "    <tr>\n",
              "      <th>mean</th>\n",
              "      <td>0.285092</td>\n",
              "      <td>0.254370</td>\n",
              "      <td>0.218286</td>\n",
              "    </tr>\n",
              "    <tr>\n",
              "      <th rowspan=\"3\" valign=\"top\">pred8_clf_best_rule_78</th>\n",
              "      <th>count</th>\n",
              "      <td>29829.000000</td>\n",
              "      <td>123458.000000</td>\n",
              "      <td>29388.000000</td>\n",
              "    </tr>\n",
              "    <tr>\n",
              "      <th>sum</th>\n",
              "      <td>5419.000000</td>\n",
              "      <td>23345.000000</td>\n",
              "      <td>3751.000000</td>\n",
              "    </tr>\n",
              "    <tr>\n",
              "      <th>mean</th>\n",
              "      <td>0.181669</td>\n",
              "      <td>0.189093</td>\n",
              "      <td>0.127637</td>\n",
              "    </tr>\n",
              "    <tr>\n",
              "      <th rowspan=\"3\" valign=\"top\">pred9_rf_best_rule_55</th>\n",
              "      <th>count</th>\n",
              "      <td>29829.000000</td>\n",
              "      <td>123458.000000</td>\n",
              "      <td>29388.000000</td>\n",
              "    </tr>\n",
              "    <tr>\n",
              "      <th>sum</th>\n",
              "      <td>5466.000000</td>\n",
              "      <td>63447.000000</td>\n",
              "      <td>17685.000000</td>\n",
              "    </tr>\n",
              "    <tr>\n",
              "      <th>mean</th>\n",
              "      <td>0.183244</td>\n",
              "      <td>0.513916</td>\n",
              "      <td>0.601776</td>\n",
              "    </tr>\n",
              "    <tr>\n",
              "      <th rowspan=\"3\" valign=\"top\">pred10_rf_best_rule_60</th>\n",
              "      <th>count</th>\n",
              "      <td>29829.000000</td>\n",
              "      <td>123458.000000</td>\n",
              "      <td>29388.000000</td>\n",
              "    </tr>\n",
              "    <tr>\n",
              "      <th>sum</th>\n",
              "      <td>695.000000</td>\n",
              "      <td>48759.000000</td>\n",
              "      <td>14427.000000</td>\n",
              "    </tr>\n",
              "    <tr>\n",
              "      <th>mean</th>\n",
              "      <td>0.023299</td>\n",
              "      <td>0.394944</td>\n",
              "      <td>0.490915</td>\n",
              "    </tr>\n",
              "    <tr>\n",
              "      <th rowspan=\"3\" valign=\"top\">pred11_rf_best_rule_51</th>\n",
              "      <th>count</th>\n",
              "      <td>29829.000000</td>\n",
              "      <td>123458.000000</td>\n",
              "      <td>29388.000000</td>\n",
              "    </tr>\n",
              "    <tr>\n",
              "      <th>sum</th>\n",
              "      <td>14315.000000</td>\n",
              "      <td>73457.000000</td>\n",
              "      <td>19899.000000</td>\n",
              "    </tr>\n",
              "    <tr>\n",
              "      <th>mean</th>\n",
              "      <td>0.479902</td>\n",
              "      <td>0.594996</td>\n",
              "      <td>0.677113</td>\n",
              "    </tr>\n",
              "    <tr>\n",
              "      <th rowspan=\"3\" valign=\"top\">pred12_rf_best_rule_52</th>\n",
              "      <th>count</th>\n",
              "      <td>29829.000000</td>\n",
              "      <td>123458.000000</td>\n",
              "      <td>29388.000000</td>\n",
              "    </tr>\n",
              "    <tr>\n",
              "      <th>sum</th>\n",
              "      <td>11807.000000</td>\n",
              "      <td>71100.000000</td>\n",
              "      <td>19343.000000</td>\n",
              "    </tr>\n",
              "    <tr>\n",
              "      <th>mean</th>\n",
              "      <td>0.395823</td>\n",
              "      <td>0.575904</td>\n",
              "      <td>0.658194</td>\n",
              "    </tr>\n",
              "    <tr>\n",
              "      <th rowspan=\"3\" valign=\"top\">pred13_rf_best_rule_53</th>\n",
              "      <th>count</th>\n",
              "      <td>29829.000000</td>\n",
              "      <td>123458.000000</td>\n",
              "      <td>29388.000000</td>\n",
              "    </tr>\n",
              "    <tr>\n",
              "      <th>sum</th>\n",
              "      <td>9501.000000</td>\n",
              "      <td>68681.000000</td>\n",
              "      <td>18817.000000</td>\n",
              "    </tr>\n",
              "    <tr>\n",
              "      <th>mean</th>\n",
              "      <td>0.318516</td>\n",
              "      <td>0.556311</td>\n",
              "      <td>0.640295</td>\n",
              "    </tr>\n",
              "    <tr>\n",
              "      <th rowspan=\"3\" valign=\"top\">pred14_rf_best_rule_54</th>\n",
              "      <th>count</th>\n",
              "      <td>29829.000000</td>\n",
              "      <td>123458.000000</td>\n",
              "      <td>29388.000000</td>\n",
              "    </tr>\n",
              "    <tr>\n",
              "      <th>sum</th>\n",
              "      <td>7316.000000</td>\n",
              "      <td>66104.000000</td>\n",
              "      <td>18248.000000</td>\n",
              "    </tr>\n",
              "    <tr>\n",
              "      <th>mean</th>\n",
              "      <td>0.245265</td>\n",
              "      <td>0.535437</td>\n",
              "      <td>0.620934</td>\n",
              "    </tr>\n",
              "    <tr>\n",
              "      <th rowspan=\"3\" valign=\"top\">pred16_rf_best_rule_56</th>\n",
              "      <th>count</th>\n",
              "      <td>29829.000000</td>\n",
              "      <td>123458.000000</td>\n",
              "      <td>29388.000000</td>\n",
              "    </tr>\n",
              "    <tr>\n",
              "      <th>sum</th>\n",
              "      <td>3930.000000</td>\n",
              "      <td>60614.000000</td>\n",
              "      <td>17075.000000</td>\n",
              "    </tr>\n",
              "    <tr>\n",
              "      <th>mean</th>\n",
              "      <td>0.131751</td>\n",
              "      <td>0.490969</td>\n",
              "      <td>0.581019</td>\n",
              "    </tr>\n",
              "    <tr>\n",
              "      <th rowspan=\"3\" valign=\"top\">pred17_rf_best_rule_57</th>\n",
              "      <th>count</th>\n",
              "      <td>29829.000000</td>\n",
              "      <td>123458.000000</td>\n",
              "      <td>29388.000000</td>\n",
              "    </tr>\n",
              "    <tr>\n",
              "      <th>sum</th>\n",
              "      <td>2725.000000</td>\n",
              "      <td>57755.000000</td>\n",
              "      <td>16468.000000</td>\n",
              "    </tr>\n",
              "    <tr>\n",
              "      <th>mean</th>\n",
              "      <td>0.091354</td>\n",
              "      <td>0.467811</td>\n",
              "      <td>0.560365</td>\n",
              "    </tr>\n",
              "    <tr>\n",
              "      <th rowspan=\"3\" valign=\"top\">pred18_rf_best_rule_58</th>\n",
              "      <th>count</th>\n",
              "      <td>29829.000000</td>\n",
              "      <td>123458.000000</td>\n",
              "      <td>29388.000000</td>\n",
              "    </tr>\n",
              "    <tr>\n",
              "      <th>sum</th>\n",
              "      <td>1813.000000</td>\n",
              "      <td>54855.000000</td>\n",
              "      <td>15817.000000</td>\n",
              "    </tr>\n",
              "    <tr>\n",
              "      <th>mean</th>\n",
              "      <td>0.060780</td>\n",
              "      <td>0.444321</td>\n",
              "      <td>0.538213</td>\n",
              "    </tr>\n",
              "    <tr>\n",
              "      <th rowspan=\"3\" valign=\"top\">pred19_rf_best_rule_59</th>\n",
              "      <th>count</th>\n",
              "      <td>29829.000000</td>\n",
              "      <td>123458.000000</td>\n",
              "      <td>29388.000000</td>\n",
              "    </tr>\n",
              "    <tr>\n",
              "      <th>sum</th>\n",
              "      <td>1180.000000</td>\n",
              "      <td>51829.000000</td>\n",
              "      <td>15133.000000</td>\n",
              "    </tr>\n",
              "    <tr>\n",
              "      <th>mean</th>\n",
              "      <td>0.039559</td>\n",
              "      <td>0.419811</td>\n",
              "      <td>0.514938</td>\n",
              "    </tr>\n",
              "  </tbody>\n",
              "</table>\n",
              "</div>"
            ],
            "text/plain": [
              "split                                       test          train    validation\n",
              "pred0_manual_cci             count  29829.000000  123458.000000  29388.000000\n",
              "                             sum      799.000000    3162.000000    875.000000\n",
              "                             mean       0.026786       0.025612      0.029774\n",
              "pred1_manual_prev_g1         count  29829.000000  123458.000000  29388.000000\n",
              "                             sum    15601.000000   62117.000000  15585.000000\n",
              "                             mean       0.523015       0.503143      0.530318\n",
              "pred2_manual_prev_g1_and_snp count  29829.000000  123458.000000  29388.000000\n",
              "                             sum    10455.000000   41609.000000  10902.000000\n",
              "                             mean       0.350498       0.337030      0.370968\n",
              "pred3_manual_gdp_and_fastd   count  29829.000000  123458.000000  29388.000000\n",
              "                             sum    29822.000000  107032.000000  29388.000000\n",
              "                             mean       0.999765       0.866951      1.000000\n",
              "pred4_manual_gdp_and_wti30d  count  29829.000000  123458.000000  29388.000000\n",
              "                             sum        0.000000    5673.000000      0.000000\n",
              "                             mean       0.000000       0.045951      0.000000\n",
              "pred5_clf_10                 count  29829.000000  123458.000000  29388.000000\n",
              "                             sum    25644.000000   98448.000000  27563.000000\n",
              "                             mean       0.859700       0.797421      0.937900\n",
              "pred6_clf_best               count  29829.000000  123458.000000  29388.000000\n",
              "                             sum    19828.000000   78085.000000  21163.000000\n",
              "                             mean       0.664722       0.632482      0.720124\n",
              "pred7_clf_best_rule_66       count  29829.000000  123458.000000  29388.000000\n",
              "                             sum     8504.000000   31404.000000   6415.000000\n",
              "                             mean       0.285092       0.254370      0.218286\n",
              "pred8_clf_best_rule_78       count  29829.000000  123458.000000  29388.000000\n",
              "                             sum     5419.000000   23345.000000   3751.000000\n",
              "                             mean       0.181669       0.189093      0.127637\n",
              "pred9_rf_best_rule_55        count  29829.000000  123458.000000  29388.000000\n",
              "                             sum     5466.000000   63447.000000  17685.000000\n",
              "                             mean       0.183244       0.513916      0.601776\n",
              "pred10_rf_best_rule_60       count  29829.000000  123458.000000  29388.000000\n",
              "                             sum      695.000000   48759.000000  14427.000000\n",
              "                             mean       0.023299       0.394944      0.490915\n",
              "pred11_rf_best_rule_51       count  29829.000000  123458.000000  29388.000000\n",
              "                             sum    14315.000000   73457.000000  19899.000000\n",
              "                             mean       0.479902       0.594996      0.677113\n",
              "pred12_rf_best_rule_52       count  29829.000000  123458.000000  29388.000000\n",
              "                             sum    11807.000000   71100.000000  19343.000000\n",
              "                             mean       0.395823       0.575904      0.658194\n",
              "pred13_rf_best_rule_53       count  29829.000000  123458.000000  29388.000000\n",
              "                             sum     9501.000000   68681.000000  18817.000000\n",
              "                             mean       0.318516       0.556311      0.640295\n",
              "pred14_rf_best_rule_54       count  29829.000000  123458.000000  29388.000000\n",
              "                             sum     7316.000000   66104.000000  18248.000000\n",
              "                             mean       0.245265       0.535437      0.620934\n",
              "pred16_rf_best_rule_56       count  29829.000000  123458.000000  29388.000000\n",
              "                             sum     3930.000000   60614.000000  17075.000000\n",
              "                             mean       0.131751       0.490969      0.581019\n",
              "pred17_rf_best_rule_57       count  29829.000000  123458.000000  29388.000000\n",
              "                             sum     2725.000000   57755.000000  16468.000000\n",
              "                             mean       0.091354       0.467811      0.560365\n",
              "pred18_rf_best_rule_58       count  29829.000000  123458.000000  29388.000000\n",
              "                             sum     1813.000000   54855.000000  15817.000000\n",
              "                             mean       0.060780       0.444321      0.538213\n",
              "pred19_rf_best_rule_59       count  29829.000000  123458.000000  29388.000000\n",
              "                             sum     1180.000000   51829.000000  15133.000000\n",
              "                             mean       0.039559       0.419811      0.514938"
            ]
          },
          "execution_count": 192,
          "metadata": {},
          "output_type": "execute_result"
        }
      ],
      "source": [
        "# 10 predictions stats (check TEST set)\n",
        "new_df.groupby('split')[PREDICTIONS].agg(['count','sum','mean']).T"
      ]
    },
    {
      "cell_type": "markdown",
      "metadata": {
        "id": "bgdAGlbaw0GH"
      },
      "source": [
        "# 3) Trading Simulations\n",
        "\n",
        "* create simulation 1 features: like \"sim1_pred0\" ... \"sim1_predLast\""
      ]
    },
    {
      "cell_type": "markdown",
      "metadata": {
        "id": "fcxkRiorDdDa"
      },
      "source": [
        "## 3.1) Investing $100 on every positive prediction\n",
        "* fees = 0.1% for each buy and sell operation ==> 0.2% for buy+sell operation"
      ]
    },
    {
      "cell_type": "code",
      "execution_count": 193,
      "metadata": {
        "id": "CgH1paM8DjgB"
      },
      "outputs": [],
      "source": [
        "# current prediction\n",
        "pred = 'pred6_clf_best'"
      ]
    },
    {
      "cell_type": "code",
      "execution_count": 194,
      "metadata": {
        "colab": {
          "base_uri": "https://localhost:8080/"
        },
        "id": "OyqKoZ6CDkkr",
        "outputId": "622a0882-6489-41d5-9bd0-58fa998a6ec1"
      },
      "outputs": [
        {
          "data": {
            "text/plain": [
              "29829"
            ]
          },
          "execution_count": 194,
          "metadata": {},
          "output_type": "execute_result"
        }
      ],
      "source": [
        "# Total Number of Investment Opportunities\n",
        "new_df[new_df.split=='test'].Close.count()"
      ]
    },
    {
      "cell_type": "code",
      "execution_count": 195,
      "metadata": {
        "colab": {
          "base_uri": "https://localhost:8080/"
        },
        "id": "0Yatp1u8DmVS",
        "outputId": "2b2b3fc2-0aac-4000-d589-5aeae78b4961"
      },
      "outputs": [
        {
          "data": {
            "text/plain": [
              "947"
            ]
          },
          "execution_count": 195,
          "metadata": {},
          "output_type": "execute_result"
        }
      ],
      "source": [
        "# Total Number of Days (~4 years of trading)\n",
        "new_df[new_df.split=='test'].Date.nunique()"
      ]
    },
    {
      "cell_type": "code",
      "execution_count": 196,
      "metadata": {
        "colab": {
          "base_uri": "https://localhost:8080/"
        },
        "id": "IESBIJT6Dnu-",
        "outputId": "0fd8e022-e5ba-4c84-8016-9e842fe815b9"
      },
      "outputs": [
        {
          "data": {
            "text/plain": [
              "['growth_future_5d', 'is_positive_growth_5d_future']"
            ]
          },
          "execution_count": 196,
          "metadata": {},
          "output_type": "execute_result"
        }
      ],
      "source": [
        "# check actual future growth with 'growth_future_5d', correctness of the prediction with 'is_positive_growth_5d_future'\n",
        "TO_PREDICT"
      ]
    },
    {
      "cell_type": "code",
      "execution_count": 197,
      "metadata": {
        "colab": {
          "base_uri": "https://localhost:8080/",
          "height": 419
        },
        "id": "cSXm1PmhDpVa",
        "outputId": "fed05af4-b591-4195-e022-10f1d05a8798"
      },
      "outputs": [
        {
          "data": {
            "text/html": [
              "<div>\n",
              "<style scoped>\n",
              "    .dataframe tbody tr th:only-of-type {\n",
              "        vertical-align: middle;\n",
              "    }\n",
              "\n",
              "    .dataframe tbody tr th {\n",
              "        vertical-align: top;\n",
              "    }\n",
              "\n",
              "    .dataframe thead th {\n",
              "        text-align: right;\n",
              "    }\n",
              "</style>\n",
              "<table border=\"1\" class=\"dataframe\">\n",
              "  <thead>\n",
              "    <tr style=\"text-align: right;\">\n",
              "      <th></th>\n",
              "      <th>growth_future_5d</th>\n",
              "      <th>is_positive_growth_5d_future</th>\n",
              "      <th>pred6_clf_best</th>\n",
              "    </tr>\n",
              "  </thead>\n",
              "  <tbody>\n",
              "    <tr>\n",
              "      <th>3490</th>\n",
              "      <td>0.963003</td>\n",
              "      <td>0</td>\n",
              "      <td>1</td>\n",
              "    </tr>\n",
              "    <tr>\n",
              "      <th>3491</th>\n",
              "      <td>0.971143</td>\n",
              "      <td>0</td>\n",
              "      <td>1</td>\n",
              "    </tr>\n",
              "    <tr>\n",
              "      <th>3492</th>\n",
              "      <td>0.929709</td>\n",
              "      <td>0</td>\n",
              "      <td>1</td>\n",
              "    </tr>\n",
              "    <tr>\n",
              "      <th>3493</th>\n",
              "      <td>0.980114</td>\n",
              "      <td>0</td>\n",
              "      <td>1</td>\n",
              "    </tr>\n",
              "    <tr>\n",
              "      <th>3494</th>\n",
              "      <td>1.007291</td>\n",
              "      <td>1</td>\n",
              "      <td>1</td>\n",
              "    </tr>\n",
              "    <tr>\n",
              "      <th>...</th>\n",
              "      <td>...</td>\n",
              "      <td>...</td>\n",
              "      <td>...</td>\n",
              "    </tr>\n",
              "    <tr>\n",
              "      <th>5422</th>\n",
              "      <td>NaN</td>\n",
              "      <td>0</td>\n",
              "      <td>0</td>\n",
              "    </tr>\n",
              "    <tr>\n",
              "      <th>5423</th>\n",
              "      <td>NaN</td>\n",
              "      <td>0</td>\n",
              "      <td>0</td>\n",
              "    </tr>\n",
              "    <tr>\n",
              "      <th>5424</th>\n",
              "      <td>NaN</td>\n",
              "      <td>0</td>\n",
              "      <td>0</td>\n",
              "    </tr>\n",
              "    <tr>\n",
              "      <th>5425</th>\n",
              "      <td>NaN</td>\n",
              "      <td>0</td>\n",
              "      <td>0</td>\n",
              "    </tr>\n",
              "    <tr>\n",
              "      <th>5426</th>\n",
              "      <td>NaN</td>\n",
              "      <td>0</td>\n",
              "      <td>0</td>\n",
              "    </tr>\n",
              "  </tbody>\n",
              "</table>\n",
              "<p>182675 rows × 3 columns</p>\n",
              "</div>"
            ],
            "text/plain": [
              "      growth_future_5d  is_positive_growth_5d_future  pred6_clf_best\n",
              "3490          0.963003                             0               1\n",
              "3491          0.971143                             0               1\n",
              "3492          0.929709                             0               1\n",
              "3493          0.980114                             0               1\n",
              "3494          1.007291                             1               1\n",
              "...                ...                           ...             ...\n",
              "5422               NaN                             0               0\n",
              "5423               NaN                             0               0\n",
              "5424               NaN                             0               0\n",
              "5425               NaN                             0               0\n",
              "5426               NaN                             0               0\n",
              "\n",
              "[182675 rows x 3 columns]"
            ]
          },
          "execution_count": 197,
          "metadata": {},
          "output_type": "execute_result"
        }
      ],
      "source": [
        "new_df[['growth_future_5d', to_predict,pred]]"
      ]
    },
    {
      "cell_type": "code",
      "execution_count": 198,
      "metadata": {
        "id": "lPM5eYT8DrHb"
      },
      "outputs": [],
      "source": [
        "# GROSS REVENUE: ONLY when current_prediction equals to 1: invest $100 into that stock (buy), and sell in 1week (sell)\n",
        "new_df['sim1_gross_rev_pred6'] = new_df[pred] * 100 * (new_df['growth_future_5d']-1)"
      ]
    },
    {
      "cell_type": "code",
      "execution_count": 199,
      "metadata": {
        "id": "y1RkuqfJDsYE"
      },
      "outputs": [],
      "source": [
        "# FEES: 0.1% for each operation , 0.2% for buy+sell ONLY when current_prediction equals to one\n",
        "new_df['sim1_fees_pred6'] = -new_df[pred] * 100 * 0.002"
      ]
    },
    {
      "cell_type": "code",
      "execution_count": 200,
      "metadata": {
        "id": "zNYijl95Dtr4"
      },
      "outputs": [],
      "source": [
        "# NET REVENUE: GROSS_REVENUE + FEES\n",
        "new_df['sim1_net_rev_pred6'] = new_df['sim1_gross_rev_pred6'] + new_df['sim1_fees_pred6']"
      ]
    },
    {
      "cell_type": "code",
      "execution_count": 201,
      "metadata": {
        "colab": {
          "base_uri": "https://localhost:8080/",
          "height": 419
        },
        "id": "6Dcueis_Dw5j",
        "outputId": "1417ac4a-a167-4db4-e5e7-7f3f660cec60"
      },
      "outputs": [
        {
          "data": {
            "text/html": [
              "<div>\n",
              "<style scoped>\n",
              "    .dataframe tbody tr th:only-of-type {\n",
              "        vertical-align: middle;\n",
              "    }\n",
              "\n",
              "    .dataframe tbody tr th {\n",
              "        vertical-align: top;\n",
              "    }\n",
              "\n",
              "    .dataframe thead th {\n",
              "        text-align: right;\n",
              "    }\n",
              "</style>\n",
              "<table border=\"1\" class=\"dataframe\">\n",
              "  <thead>\n",
              "    <tr style=\"text-align: right;\">\n",
              "      <th></th>\n",
              "      <th>Date</th>\n",
              "      <th>Ticker</th>\n",
              "      <th>Close</th>\n",
              "      <th>growth_future_5d</th>\n",
              "      <th>is_positive_growth_5d_future</th>\n",
              "      <th>pred6_clf_best</th>\n",
              "      <th>sim1_gross_rev_pred6</th>\n",
              "      <th>sim1_fees_pred6</th>\n",
              "      <th>sim1_net_rev_pred6</th>\n",
              "    </tr>\n",
              "  </thead>\n",
              "  <tbody>\n",
              "    <tr>\n",
              "      <th>8702</th>\n",
              "      <td>2020-09-21</td>\n",
              "      <td>MSFT</td>\n",
              "      <td>202.539993</td>\n",
              "      <td>1.034067</td>\n",
              "      <td>1</td>\n",
              "      <td>1</td>\n",
              "      <td>3.406741</td>\n",
              "      <td>-0.2</td>\n",
              "      <td>3.206741</td>\n",
              "    </tr>\n",
              "    <tr>\n",
              "      <th>8703</th>\n",
              "      <td>2020-09-22</td>\n",
              "      <td>MSFT</td>\n",
              "      <td>207.419998</td>\n",
              "      <td>0.999228</td>\n",
              "      <td>0</td>\n",
              "      <td>1</td>\n",
              "      <td>-0.077153</td>\n",
              "      <td>-0.2</td>\n",
              "      <td>-0.277153</td>\n",
              "    </tr>\n",
              "    <tr>\n",
              "      <th>8704</th>\n",
              "      <td>2020-09-23</td>\n",
              "      <td>MSFT</td>\n",
              "      <td>200.589996</td>\n",
              "      <td>1.048557</td>\n",
              "      <td>1</td>\n",
              "      <td>1</td>\n",
              "      <td>4.855687</td>\n",
              "      <td>-0.2</td>\n",
              "      <td>4.655687</td>\n",
              "    </tr>\n",
              "    <tr>\n",
              "      <th>8705</th>\n",
              "      <td>2020-09-24</td>\n",
              "      <td>MSFT</td>\n",
              "      <td>203.190002</td>\n",
              "      <td>1.045623</td>\n",
              "      <td>1</td>\n",
              "      <td>1</td>\n",
              "      <td>4.562258</td>\n",
              "      <td>-0.2</td>\n",
              "      <td>4.362258</td>\n",
              "    </tr>\n",
              "    <tr>\n",
              "      <th>8706</th>\n",
              "      <td>2020-09-25</td>\n",
              "      <td>MSFT</td>\n",
              "      <td>207.820007</td>\n",
              "      <td>0.992157</td>\n",
              "      <td>0</td>\n",
              "      <td>1</td>\n",
              "      <td>-0.784335</td>\n",
              "      <td>-0.2</td>\n",
              "      <td>-0.984335</td>\n",
              "    </tr>\n",
              "    <tr>\n",
              "      <th>...</th>\n",
              "      <td>...</td>\n",
              "      <td>...</td>\n",
              "      <td>...</td>\n",
              "      <td>...</td>\n",
              "      <td>...</td>\n",
              "      <td>...</td>\n",
              "      <td>...</td>\n",
              "      <td>...</td>\n",
              "      <td>...</td>\n",
              "    </tr>\n",
              "    <tr>\n",
              "      <th>5417</th>\n",
              "      <td>2024-04-23</td>\n",
              "      <td>LT.NS</td>\n",
              "      <td>3610.149902</td>\n",
              "      <td>0.995610</td>\n",
              "      <td>0</td>\n",
              "      <td>1</td>\n",
              "      <td>-0.439036</td>\n",
              "      <td>-0.2</td>\n",
              "      <td>-0.639036</td>\n",
              "    </tr>\n",
              "    <tr>\n",
              "      <th>5418</th>\n",
              "      <td>2024-04-24</td>\n",
              "      <td>LT.NS</td>\n",
              "      <td>3634.850098</td>\n",
              "      <td>0.990275</td>\n",
              "      <td>0</td>\n",
              "      <td>1</td>\n",
              "      <td>-0.972532</td>\n",
              "      <td>-0.2</td>\n",
              "      <td>-1.172532</td>\n",
              "    </tr>\n",
              "    <tr>\n",
              "      <th>5419</th>\n",
              "      <td>2024-04-25</td>\n",
              "      <td>LT.NS</td>\n",
              "      <td>3652.300049</td>\n",
              "      <td>0.958245</td>\n",
              "      <td>0</td>\n",
              "      <td>1</td>\n",
              "      <td>-4.175451</td>\n",
              "      <td>-0.2</td>\n",
              "      <td>-4.375451</td>\n",
              "    </tr>\n",
              "    <tr>\n",
              "      <th>5420</th>\n",
              "      <td>2024-04-26</td>\n",
              "      <td>LT.NS</td>\n",
              "      <td>3605.199951</td>\n",
              "      <td>0.960640</td>\n",
              "      <td>0</td>\n",
              "      <td>1</td>\n",
              "      <td>-3.935979</td>\n",
              "      <td>-0.2</td>\n",
              "      <td>-4.135979</td>\n",
              "    </tr>\n",
              "    <tr>\n",
              "      <th>5421</th>\n",
              "      <td>2024-04-29</td>\n",
              "      <td>LT.NS</td>\n",
              "      <td>3634.300049</td>\n",
              "      <td>0.943166</td>\n",
              "      <td>0</td>\n",
              "      <td>1</td>\n",
              "      <td>-5.683352</td>\n",
              "      <td>-0.2</td>\n",
              "      <td>-5.883352</td>\n",
              "    </tr>\n",
              "  </tbody>\n",
              "</table>\n",
              "<p>19828 rows × 9 columns</p>\n",
              "</div>"
            ],
            "text/plain": [
              "           Date Ticker        Close  growth_future_5d  \\\n",
              "8702 2020-09-21   MSFT   202.539993          1.034067   \n",
              "8703 2020-09-22   MSFT   207.419998          0.999228   \n",
              "8704 2020-09-23   MSFT   200.589996          1.048557   \n",
              "8705 2020-09-24   MSFT   203.190002          1.045623   \n",
              "8706 2020-09-25   MSFT   207.820007          0.992157   \n",
              "...         ...    ...          ...               ...   \n",
              "5417 2024-04-23  LT.NS  3610.149902          0.995610   \n",
              "5418 2024-04-24  LT.NS  3634.850098          0.990275   \n",
              "5419 2024-04-25  LT.NS  3652.300049          0.958245   \n",
              "5420 2024-04-26  LT.NS  3605.199951          0.960640   \n",
              "5421 2024-04-29  LT.NS  3634.300049          0.943166   \n",
              "\n",
              "      is_positive_growth_5d_future  pred6_clf_best  sim1_gross_rev_pred6  \\\n",
              "8702                             1               1              3.406741   \n",
              "8703                             0               1             -0.077153   \n",
              "8704                             1               1              4.855687   \n",
              "8705                             1               1              4.562258   \n",
              "8706                             0               1             -0.784335   \n",
              "...                            ...             ...                   ...   \n",
              "5417                             0               1             -0.439036   \n",
              "5418                             0               1             -0.972532   \n",
              "5419                             0               1             -4.175451   \n",
              "5420                             0               1             -3.935979   \n",
              "5421                             0               1             -5.683352   \n",
              "\n",
              "      sim1_fees_pred6  sim1_net_rev_pred6  \n",
              "8702             -0.2            3.206741  \n",
              "8703             -0.2           -0.277153  \n",
              "8704             -0.2            4.655687  \n",
              "8705             -0.2            4.362258  \n",
              "8706             -0.2           -0.984335  \n",
              "...               ...                 ...  \n",
              "5417             -0.2           -0.639036  \n",
              "5418             -0.2           -1.172532  \n",
              "5419             -0.2           -4.375451  \n",
              "5420             -0.2           -4.135979  \n",
              "5421             -0.2           -5.883352  \n",
              "\n",
              "[19828 rows x 9 columns]"
            ]
          },
          "execution_count": 201,
          "metadata": {},
          "output_type": "execute_result"
        }
      ],
      "source": [
        "COLUMNS_FIN_RESULT = ['Date','Ticker','Close']+TO_PREDICT+ [pred,  'sim1_gross_rev_pred6','sim1_fees_pred6','sim1_net_rev_pred6']\n",
        "new_df[(new_df.split=='test')&(new_df[pred]==1)][COLUMNS_FIN_RESULT]"
      ]
    },
    {
      "cell_type": "code",
      "execution_count": 202,
      "metadata": {
        "colab": {
          "base_uri": "https://localhost:8080/"
        },
        "id": "BJS19COwDymR",
        "outputId": "f01468d3-22fd-45bf-8543-a7931f1a4ef6"
      },
      "outputs": [
        {
          "name": "stdout",
          "output_type": "stream",
          "text": [
            "33.0\n"
          ]
        }
      ],
      "source": [
        "# DAILY INVESTMENTS COUNT\n",
        "filter_test_and_positive_pred = (new_df.split=='test')&(new_df[pred]==1)\n",
        "df_investments_count_daily = pd.DataFrame(new_df[filter_test_and_positive_pred].groupby('Date')[pred].count())\n",
        "sim1_avg_investments_per_day = df_investments_count_daily[pred].quantile(0.75)  # 75% case - how many $100 investments per day do we have?\n",
        "print(sim1_avg_investments_per_day)"
      ]
    },
    {
      "cell_type": "code",
      "execution_count": 203,
      "metadata": {
        "colab": {
          "base_uri": "https://localhost:8080/",
          "height": 80
        },
        "id": "K10MkjYND0sJ",
        "outputId": "954f3c35-469e-4760-f0dc-64d6d9d406ef"
      },
      "outputs": [
        {
          "data": {
            "text/html": [
              "<div>\n",
              "<style scoped>\n",
              "    .dataframe tbody tr th:only-of-type {\n",
              "        vertical-align: middle;\n",
              "    }\n",
              "\n",
              "    .dataframe tbody tr th {\n",
              "        vertical-align: top;\n",
              "    }\n",
              "\n",
              "    .dataframe thead th {\n",
              "        text-align: right;\n",
              "    }\n",
              "</style>\n",
              "<table border=\"1\" class=\"dataframe\">\n",
              "  <thead>\n",
              "    <tr style=\"text-align: right;\">\n",
              "      <th></th>\n",
              "      <th>count</th>\n",
              "      <th>mean</th>\n",
              "      <th>std</th>\n",
              "      <th>min</th>\n",
              "      <th>25%</th>\n",
              "      <th>50%</th>\n",
              "      <th>75%</th>\n",
              "      <th>max</th>\n",
              "    </tr>\n",
              "  </thead>\n",
              "  <tbody>\n",
              "    <tr>\n",
              "      <th>pred6_clf_best</th>\n",
              "      <td>809.0</td>\n",
              "      <td>24.509271</td>\n",
              "      <td>11.989175</td>\n",
              "      <td>1.0</td>\n",
              "      <td>13.0</td>\n",
              "      <td>32.0</td>\n",
              "      <td>33.0</td>\n",
              "      <td>33.0</td>\n",
              "    </tr>\n",
              "  </tbody>\n",
              "</table>\n",
              "</div>"
            ],
            "text/plain": [
              "                count       mean        std  min   25%   50%   75%   max\n",
              "pred6_clf_best  809.0  24.509271  11.989175  1.0  13.0  32.0  33.0  33.0"
            ]
          },
          "execution_count": 203,
          "metadata": {},
          "output_type": "execute_result"
        }
      ],
      "source": [
        "# Distribution: how many times do we trade daily (for the current Prediction)?\n",
        "df_investments_count_daily.describe().T"
      ]
    },
    {
      "cell_type": "code",
      "execution_count": 204,
      "metadata": {
        "colab": {
          "base_uri": "https://localhost:8080/"
        },
        "id": "ilH82pIAD6rV",
        "outputId": "cf02a548-9cbe-44c6-8abc-fe755a96867c"
      },
      "outputs": [
        {
          "data": {
            "text/plain": [
              "sim1_gross_rev_pred6    14477.431798\n",
              "sim1_fees_pred6         -3965.600000\n",
              "sim1_net_rev_pred6      10511.831798\n",
              "dtype: float64"
            ]
          },
          "execution_count": 204,
          "metadata": {},
          "output_type": "execute_result"
        }
      ],
      "source": [
        "new_df[(new_df.split=='test')&(new_df[pred]==1)][['sim1_gross_rev_pred6','sim1_fees_pred6','sim1_net_rev_pred6']].sum()"
      ]
    },
    {
      "cell_type": "markdown",
      "metadata": {
        "id": "NjeHdCq1D9yN"
      },
      "source": [
        "### 3.1.2 Calculate fin. results for all fields\n",
        "* Simplified and approximate calculation"
      ]
    },
    {
      "cell_type": "code",
      "execution_count": 205,
      "metadata": {
        "colab": {
          "base_uri": "https://localhost:8080/"
        },
        "id": "Pp7CbZXSD_zT",
        "outputId": "1074b9fc-b03c-4364-ec8c-257d94cb2aa3"
      },
      "outputs": [
        {
          "name": "stdout",
          "output_type": "stream",
          "text": [
            "Calculating sumulation for prediction pred0_manual_cci:\n",
            "    Count times of investment 799 out of 29829 TEST records\n",
            "    Financial Result: \n",
            " sim1_gross_rev_pred0    309.04589\n",
            "sim1_fees_pred0        -159.80000\n",
            "sim1_net_rev_pred0      149.84589\n",
            "dtype: float64\n",
            "        Count Investments in 4 years (on TEST): 799\n",
            "        Gross Revenue: $309\n",
            "        Fees (0.2% for buy+sell): $159\n",
            "        Net Revenue: $149\n",
            "        Fees are 51 % from Gross Revenue\n",
            "        Capital Required : $1000 (Vbegin)\n",
            "        Final value (Vbegin + Net_revenue) : $1149 (Vfinal)\n",
            "        Average CAGR on TEST (4 years) : 1.036, or 3.6% \n",
            "        Average daily stats: \n",
            "            Average net revenue per investment: $0.19 \n",
            "            Average investments per day: 2 \n",
            "            Q75 investments per day: 2 \n",
            "=============================================+\n",
            "Calculating sumulation for prediction pred1_manual_prev_g1:\n",
            "    Count times of investment 15601 out of 29829 TEST records\n",
            "    Financial Result: \n",
            " sim1_gross_rev_pred1    6913.217124\n",
            "sim1_fees_pred1        -3120.200000\n",
            "sim1_net_rev_pred1      3812.817124\n",
            "dtype: float64\n",
            "        Count Investments in 4 years (on TEST): 15601\n",
            "        Gross Revenue: $6913\n",
            "        Fees (0.2% for buy+sell): $3120\n",
            "        Net Revenue: $3812\n",
            "        Fees are 45 % from Gross Revenue\n",
            "        Capital Required : $11000 (Vbegin)\n",
            "        Final value (Vbegin + Net_revenue) : $14812 (Vfinal)\n",
            "        Average CAGR on TEST (4 years) : 1.077, or 7.7% \n",
            "        Average daily stats: \n",
            "            Average net revenue per investment: $0.24 \n",
            "            Average investments per day: 17 \n",
            "            Q75 investments per day: 22 \n",
            "=============================================+\n",
            "Calculating sumulation for prediction pred2_manual_prev_g1_and_snp:\n",
            "    Count times of investment 10455 out of 29829 TEST records\n",
            "    Financial Result: \n",
            " sim1_gross_rev_pred2    4213.424501\n",
            "sim1_fees_pred2        -2091.000000\n",
            "sim1_net_rev_pred2      2139.624501\n",
            "dtype: float64\n",
            "        Count Investments in 4 years (on TEST): 10455\n",
            "        Gross Revenue: $4213\n",
            "        Fees (0.2% for buy+sell): $2091\n",
            "        Net Revenue: $2139\n",
            "        Fees are 49 % from Gross Revenue\n",
            "        Capital Required : $13000 (Vbegin)\n",
            "        Final value (Vbegin + Net_revenue) : $15139 (Vfinal)\n",
            "        Average CAGR on TEST (4 years) : 1.039, or 3.9% \n",
            "        Average daily stats: \n",
            "            Average net revenue per investment: $0.2 \n",
            "            Average investments per day: 22 \n",
            "            Q75 investments per day: 26 \n",
            "=============================================+\n",
            "Calculating sumulation for prediction pred3_manual_gdp_and_fastd:\n",
            "    Count times of investment 29822 out of 29829 TEST records\n",
            "    Financial Result: \n",
            " sim1_gross_rev_pred3    14893.285316\n",
            "sim1_fees_pred3         -5964.400000\n",
            "sim1_net_rev_pred3       8961.885316\n",
            "dtype: float64\n",
            "        Count Investments in 4 years (on TEST): 29822\n",
            "        Gross Revenue: $14893\n",
            "        Fees (0.2% for buy+sell): $5964\n",
            "        Net Revenue: $8961\n",
            "        Fees are 40 % from Gross Revenue\n",
            "        Capital Required : $16500 (Vbegin)\n",
            "        Final value (Vbegin + Net_revenue) : $25461 (Vfinal)\n",
            "        Average CAGR on TEST (4 years) : 1.115, or 11.5% \n",
            "        Average daily stats: \n",
            "            Average net revenue per investment: $0.3 \n",
            "            Average investments per day: 31 \n",
            "            Q75 investments per day: 33 \n",
            "=============================================+\n",
            "Calculating sumulation for prediction pred4_manual_gdp_and_wti30d:\n",
            "    Count times of investment 0 out of 29829 TEST records\n",
            "Calculating sumulation for prediction pred5_clf_10:\n",
            "    Count times of investment 25644 out of 29829 TEST records\n",
            "    Financial Result: \n",
            " sim1_gross_rev_pred5    15578.953119\n",
            "sim1_fees_pred5         -5128.800000\n",
            "sim1_net_rev_pred5      10483.153119\n",
            "dtype: float64\n",
            "        Count Investments in 4 years (on TEST): 25644\n",
            "        Gross Revenue: $15578\n",
            "        Fees (0.2% for buy+sell): $5128\n",
            "        Net Revenue: $10483\n",
            "        Fees are 32 % from Gross Revenue\n",
            "        Capital Required : $16500 (Vbegin)\n",
            "        Final value (Vbegin + Net_revenue) : $26983 (Vfinal)\n",
            "        Average CAGR on TEST (4 years) : 1.131, or 13.1% \n",
            "        Average daily stats: \n",
            "            Average net revenue per investment: $0.41 \n",
            "            Average investments per day: 31 \n",
            "            Q75 investments per day: 33 \n",
            "=============================================+\n",
            "Calculating sumulation for prediction pred6_clf_best:\n",
            "    Count times of investment 19828 out of 29829 TEST records\n",
            "    Financial Result: \n",
            " sim1_gross_rev_pred6    14477.431798\n",
            "sim1_fees_pred6         -3965.600000\n",
            "sim1_net_rev_pred6      10511.831798\n",
            "dtype: float64\n",
            "        Count Investments in 4 years (on TEST): 19828\n",
            "        Gross Revenue: $14477\n",
            "        Fees (0.2% for buy+sell): $3965\n",
            "        Net Revenue: $10511\n",
            "        Fees are 27 % from Gross Revenue\n",
            "        Capital Required : $16500 (Vbegin)\n",
            "        Final value (Vbegin + Net_revenue) : $27011 (Vfinal)\n",
            "        Average CAGR on TEST (4 years) : 1.131, or 13.1% \n",
            "        Average daily stats: \n",
            "            Average net revenue per investment: $0.53 \n",
            "            Average investments per day: 25 \n",
            "            Q75 investments per day: 33 \n",
            "=============================================+\n",
            "Calculating sumulation for prediction pred7_clf_best_rule_66:\n",
            "    Count times of investment 8504 out of 29829 TEST records\n",
            "    Financial Result: \n",
            " sim1_gross_rev_pred7    6977.651882\n",
            "sim1_fees_pred7        -1700.800000\n",
            "sim1_net_rev_pred7      5276.851882\n",
            "dtype: float64\n",
            "        Count Investments in 4 years (on TEST): 8504\n",
            "        Gross Revenue: $6977\n",
            "        Fees (0.2% for buy+sell): $1700\n",
            "        Net Revenue: $5276\n",
            "        Fees are 24 % from Gross Revenue\n",
            "        Capital Required : $16000 (Vbegin)\n",
            "        Final value (Vbegin + Net_revenue) : $21276 (Vfinal)\n",
            "        Average CAGR on TEST (4 years) : 1.074, or 7.4% \n",
            "        Average daily stats: \n",
            "            Average net revenue per investment: $0.62 \n",
            "            Average investments per day: 19 \n",
            "            Q75 investments per day: 32 \n",
            "=============================================+\n",
            "Calculating sumulation for prediction pred8_clf_best_rule_78:\n",
            "    Count times of investment 5419 out of 29829 TEST records\n",
            "    Financial Result: \n",
            " sim1_gross_rev_pred8    4659.937647\n",
            "sim1_fees_pred8        -1083.800000\n",
            "sim1_net_rev_pred8      3576.137647\n",
            "dtype: float64\n",
            "        Count Investments in 4 years (on TEST): 5419\n",
            "        Gross Revenue: $4659\n",
            "        Fees (0.2% for buy+sell): $1083\n",
            "        Net Revenue: $3576\n",
            "        Fees are 23 % from Gross Revenue\n",
            "        Capital Required : $14500 (Vbegin)\n",
            "        Final value (Vbegin + Net_revenue) : $18076 (Vfinal)\n",
            "        Average CAGR on TEST (4 years) : 1.057, or 5.7% \n",
            "        Average daily stats: \n",
            "            Average net revenue per investment: $0.66 \n",
            "            Average investments per day: 16 \n",
            "            Q75 investments per day: 29 \n",
            "=============================================+\n",
            "Calculating sumulation for prediction pred9_rf_best_rule_55:\n",
            "    Count times of investment 5466 out of 29829 TEST records\n",
            "    Financial Result: \n",
            " sim1_gross_rev_pred9    5150.760675\n",
            "sim1_fees_pred9        -1093.200000\n",
            "sim1_net_rev_pred9      4064.360675\n",
            "dtype: float64\n",
            "        Count Investments in 4 years (on TEST): 5466\n",
            "        Gross Revenue: $5150\n",
            "        Fees (0.2% for buy+sell): $1093\n",
            "        Net Revenue: $4064\n",
            "        Fees are 21 % from Gross Revenue\n",
            "        Capital Required : $6500 (Vbegin)\n",
            "        Final value (Vbegin + Net_revenue) : $10564 (Vfinal)\n",
            "        Average CAGR on TEST (4 years) : 1.129, or 12.9% \n",
            "        Average daily stats: \n",
            "            Average net revenue per investment: $0.74 \n",
            "            Average investments per day: 8 \n",
            "            Q75 investments per day: 13 \n",
            "=============================================+\n",
            "Calculating sumulation for prediction pred10_rf_best_rule_60:\n",
            "    Count times of investment 695 out of 29829 TEST records\n",
            "    Financial Result: \n",
            " sim1_gross_rev_pred10    1407.732816\n",
            "sim1_fees_pred10         -139.000000\n",
            "sim1_net_rev_pred10      1270.332816\n",
            "dtype: float64\n",
            "        Count Investments in 4 years (on TEST): 695\n",
            "        Gross Revenue: $1407\n",
            "        Fees (0.2% for buy+sell): $138\n",
            "        Net Revenue: $1270\n",
            "        Fees are 9 % from Gross Revenue\n",
            "        Capital Required : $3000 (Vbegin)\n",
            "        Final value (Vbegin + Net_revenue) : $4270 (Vfinal)\n",
            "        Average CAGR on TEST (4 years) : 1.092, or 9.2% \n",
            "        Average daily stats: \n",
            "            Average net revenue per investment: $1.83 \n",
            "            Average investments per day: 4 \n",
            "            Q75 investments per day: 6 \n",
            "=============================================+\n",
            "Calculating sumulation for prediction pred11_rf_best_rule_51:\n",
            "    Count times of investment 14315 out of 29829 TEST records\n",
            "    Financial Result: \n",
            " sim1_gross_rev_pred11    10037.583629\n",
            "sim1_fees_pred11         -2863.000000\n",
            "sim1_net_rev_pred11       7189.783629\n",
            "dtype: float64\n",
            "        Count Investments in 4 years (on TEST): 14315\n",
            "        Gross Revenue: $10037\n",
            "        Fees (0.2% for buy+sell): $2863\n",
            "        Net Revenue: $7189\n",
            "        Fees are 28 % from Gross Revenue\n",
            "        Capital Required : $12000 (Vbegin)\n",
            "        Final value (Vbegin + Net_revenue) : $19189 (Vfinal)\n",
            "        Average CAGR on TEST (4 years) : 1.125, or 12.5% \n",
            "        Average daily stats: \n",
            "            Average net revenue per investment: $0.5 \n",
            "            Average investments per day: 16 \n",
            "            Q75 investments per day: 24 \n",
            "=============================================+\n",
            "Calculating sumulation for prediction pred12_rf_best_rule_52:\n",
            "    Count times of investment 11807 out of 29829 TEST records\n",
            "    Financial Result: \n",
            " sim1_gross_rev_pred12    9144.497961\n",
            "sim1_fees_pred12        -2361.400000\n",
            "sim1_net_rev_pred12      6796.297961\n",
            "dtype: float64\n",
            "        Count Investments in 4 years (on TEST): 11807\n",
            "        Gross Revenue: $9144\n",
            "        Fees (0.2% for buy+sell): $2361\n",
            "        Net Revenue: $6796\n",
            "        Fees are 25 % from Gross Revenue\n",
            "        Capital Required : $11000 (Vbegin)\n",
            "        Final value (Vbegin + Net_revenue) : $17796 (Vfinal)\n",
            "        Average CAGR on TEST (4 years) : 1.128, or 12.8% \n",
            "        Average daily stats: \n",
            "            Average net revenue per investment: $0.58 \n",
            "            Average investments per day: 13 \n",
            "            Q75 investments per day: 22 \n",
            "=============================================+\n",
            "Calculating sumulation for prediction pred13_rf_best_rule_53:\n",
            "    Count times of investment 9501 out of 29829 TEST records\n",
            "    Financial Result: \n",
            " sim1_gross_rev_pred13    7962.287037\n",
            "sim1_fees_pred13        -1900.200000\n",
            "sim1_net_rev_pred13      6073.087037\n",
            "dtype: float64\n",
            "        Count Investments in 4 years (on TEST): 9501\n",
            "        Gross Revenue: $7962\n",
            "        Fees (0.2% for buy+sell): $1900\n",
            "        Net Revenue: $6073\n",
            "        Fees are 23 % from Gross Revenue\n",
            "        Capital Required : $9000 (Vbegin)\n",
            "        Final value (Vbegin + Net_revenue) : $15073 (Vfinal)\n",
            "        Average CAGR on TEST (4 years) : 1.138, or 13.8% \n",
            "        Average daily stats: \n",
            "            Average net revenue per investment: $0.64 \n",
            "            Average investments per day: 12 \n",
            "            Q75 investments per day: 18 \n",
            "=============================================+\n",
            "Calculating sumulation for prediction pred14_rf_best_rule_54:\n",
            "    Count times of investment 7316 out of 29829 TEST records\n",
            "    Financial Result: \n",
            " sim1_gross_rev_pred14    6325.312056\n",
            "sim1_fees_pred14        -1463.200000\n",
            "sim1_net_rev_pred14      4871.712056\n",
            "dtype: float64\n",
            "        Count Investments in 4 years (on TEST): 7316\n",
            "        Gross Revenue: $6325\n",
            "        Fees (0.2% for buy+sell): $1463\n",
            "        Net Revenue: $4871\n",
            "        Fees are 23 % from Gross Revenue\n",
            "        Capital Required : $7500 (Vbegin)\n",
            "        Final value (Vbegin + Net_revenue) : $12371 (Vfinal)\n",
            "        Average CAGR on TEST (4 years) : 1.133, or 13.3% \n",
            "        Average daily stats: \n",
            "            Average net revenue per investment: $0.67 \n",
            "            Average investments per day: 10 \n",
            "            Q75 investments per day: 15 \n",
            "=============================================+\n",
            "Calculating sumulation for prediction pred16_rf_best_rule_56:\n",
            "    Count times of investment 3930 out of 29829 TEST records\n",
            "    Financial Result: \n",
            " sim1_gross_rev_pred16    4067.764853\n",
            "sim1_fees_pred16         -786.000000\n",
            "sim1_net_rev_pred16      3286.364853\n",
            "dtype: float64\n",
            "        Count Investments in 4 years (on TEST): 3930\n",
            "        Gross Revenue: $4067\n",
            "        Fees (0.2% for buy+sell): $786\n",
            "        Net Revenue: $3286\n",
            "        Fees are 19 % from Gross Revenue\n",
            "        Capital Required : $5500 (Vbegin)\n",
            "        Final value (Vbegin + Net_revenue) : $8786 (Vfinal)\n",
            "        Average CAGR on TEST (4 years) : 1.124, or 12.4% \n",
            "        Average daily stats: \n",
            "            Average net revenue per investment: $0.84 \n",
            "            Average investments per day: 7 \n",
            "            Q75 investments per day: 11 \n",
            "=============================================+\n",
            "Calculating sumulation for prediction pred17_rf_best_rule_57:\n",
            "    Count times of investment 2725 out of 29829 TEST records\n"
          ]
        },
        {
          "name": "stderr",
          "output_type": "stream",
          "text": [
            "C:\\Users\\rahul\\AppData\\Local\\Temp\\ipykernel_91772\\3632223780.py:14: PerformanceWarning:\n",
            "\n",
            "DataFrame is highly fragmented.  This is usually the result of calling `frame.insert` many times, which has poor performance.  Consider joining all columns at once using pd.concat(axis=1) instead. To get a de-fragmented frame, use `newframe = frame.copy()`\n",
            "\n",
            "C:\\Users\\rahul\\AppData\\Local\\Temp\\ipykernel_91772\\3632223780.py:15: PerformanceWarning:\n",
            "\n",
            "DataFrame is highly fragmented.  This is usually the result of calling `frame.insert` many times, which has poor performance.  Consider joining all columns at once using pd.concat(axis=1) instead. To get a de-fragmented frame, use `newframe = frame.copy()`\n",
            "\n",
            "C:\\Users\\rahul\\AppData\\Local\\Temp\\ipykernel_91772\\3632223780.py:16: PerformanceWarning:\n",
            "\n",
            "DataFrame is highly fragmented.  This is usually the result of calling `frame.insert` many times, which has poor performance.  Consider joining all columns at once using pd.concat(axis=1) instead. To get a de-fragmented frame, use `newframe = frame.copy()`\n",
            "\n",
            "C:\\Users\\rahul\\AppData\\Local\\Temp\\ipykernel_91772\\3632223780.py:14: PerformanceWarning:\n",
            "\n",
            "DataFrame is highly fragmented.  This is usually the result of calling `frame.insert` many times, which has poor performance.  Consider joining all columns at once using pd.concat(axis=1) instead. To get a de-fragmented frame, use `newframe = frame.copy()`\n",
            "\n",
            "C:\\Users\\rahul\\AppData\\Local\\Temp\\ipykernel_91772\\3632223780.py:15: PerformanceWarning:\n",
            "\n",
            "DataFrame is highly fragmented.  This is usually the result of calling `frame.insert` many times, which has poor performance.  Consider joining all columns at once using pd.concat(axis=1) instead. To get a de-fragmented frame, use `newframe = frame.copy()`\n",
            "\n",
            "C:\\Users\\rahul\\AppData\\Local\\Temp\\ipykernel_91772\\3632223780.py:16: PerformanceWarning:\n",
            "\n",
            "DataFrame is highly fragmented.  This is usually the result of calling `frame.insert` many times, which has poor performance.  Consider joining all columns at once using pd.concat(axis=1) instead. To get a de-fragmented frame, use `newframe = frame.copy()`\n",
            "\n"
          ]
        },
        {
          "name": "stdout",
          "output_type": "stream",
          "text": [
            "    Financial Result: \n",
            " sim1_gross_rev_pred17    3075.231043\n",
            "sim1_fees_pred17         -545.000000\n",
            "sim1_net_rev_pred17      2533.431043\n",
            "dtype: float64\n",
            "        Count Investments in 4 years (on TEST): 2725\n",
            "        Gross Revenue: $3075\n",
            "        Fees (0.2% for buy+sell): $544\n",
            "        Net Revenue: $2533\n",
            "        Fees are 17 % from Gross Revenue\n",
            "        Capital Required : $4000 (Vbegin)\n",
            "        Final value (Vbegin + Net_revenue) : $6533 (Vfinal)\n",
            "        Average CAGR on TEST (4 years) : 1.13, or 13.0% \n",
            "        Average daily stats: \n",
            "            Average net revenue per investment: $0.93 \n",
            "            Average investments per day: 6 \n",
            "            Q75 investments per day: 8 \n",
            "=============================================+\n",
            "Calculating sumulation for prediction pred18_rf_best_rule_58:\n",
            "    Count times of investment 1813 out of 29829 TEST records\n",
            "    Financial Result: \n",
            " sim1_gross_rev_pred18    2448.693265\n",
            "sim1_fees_pred18         -362.600000\n",
            "sim1_net_rev_pred18      2088.493265\n",
            "dtype: float64\n",
            "        Count Investments in 4 years (on TEST): 1813\n",
            "        Gross Revenue: $2448\n",
            "        Fees (0.2% for buy+sell): $362\n",
            "        Net Revenue: $2088\n",
            "        Fees are 14 % from Gross Revenue\n",
            "        Capital Required : $4000 (Vbegin)\n",
            "        Final value (Vbegin + Net_revenue) : $6088 (Vfinal)\n",
            "        Average CAGR on TEST (4 years) : 1.111, or 11.1% \n",
            "        Average daily stats: \n",
            "            Average net revenue per investment: $1.15 \n",
            "            Average investments per day: 5 \n",
            "            Q75 investments per day: 8 \n",
            "=============================================+\n",
            "Calculating sumulation for prediction pred19_rf_best_rule_59:\n",
            "    Count times of investment 1180 out of 29829 TEST records\n"
          ]
        },
        {
          "name": "stderr",
          "output_type": "stream",
          "text": [
            "C:\\Users\\rahul\\AppData\\Local\\Temp\\ipykernel_91772\\3632223780.py:14: PerformanceWarning:\n",
            "\n",
            "DataFrame is highly fragmented.  This is usually the result of calling `frame.insert` many times, which has poor performance.  Consider joining all columns at once using pd.concat(axis=1) instead. To get a de-fragmented frame, use `newframe = frame.copy()`\n",
            "\n",
            "C:\\Users\\rahul\\AppData\\Local\\Temp\\ipykernel_91772\\3632223780.py:15: PerformanceWarning:\n",
            "\n",
            "DataFrame is highly fragmented.  This is usually the result of calling `frame.insert` many times, which has poor performance.  Consider joining all columns at once using pd.concat(axis=1) instead. To get a de-fragmented frame, use `newframe = frame.copy()`\n",
            "\n",
            "C:\\Users\\rahul\\AppData\\Local\\Temp\\ipykernel_91772\\3632223780.py:16: PerformanceWarning:\n",
            "\n",
            "DataFrame is highly fragmented.  This is usually the result of calling `frame.insert` many times, which has poor performance.  Consider joining all columns at once using pd.concat(axis=1) instead. To get a de-fragmented frame, use `newframe = frame.copy()`\n",
            "\n",
            "C:\\Users\\rahul\\AppData\\Local\\Temp\\ipykernel_91772\\3632223780.py:14: PerformanceWarning:\n",
            "\n",
            "DataFrame is highly fragmented.  This is usually the result of calling `frame.insert` many times, which has poor performance.  Consider joining all columns at once using pd.concat(axis=1) instead. To get a de-fragmented frame, use `newframe = frame.copy()`\n",
            "\n",
            "C:\\Users\\rahul\\AppData\\Local\\Temp\\ipykernel_91772\\3632223780.py:15: PerformanceWarning:\n",
            "\n",
            "DataFrame is highly fragmented.  This is usually the result of calling `frame.insert` many times, which has poor performance.  Consider joining all columns at once using pd.concat(axis=1) instead. To get a de-fragmented frame, use `newframe = frame.copy()`\n",
            "\n",
            "C:\\Users\\rahul\\AppData\\Local\\Temp\\ipykernel_91772\\3632223780.py:16: PerformanceWarning:\n",
            "\n",
            "DataFrame is highly fragmented.  This is usually the result of calling `frame.insert` many times, which has poor performance.  Consider joining all columns at once using pd.concat(axis=1) instead. To get a de-fragmented frame, use `newframe = frame.copy()`\n",
            "\n"
          ]
        },
        {
          "name": "stdout",
          "output_type": "stream",
          "text": [
            "    Financial Result: \n",
            " sim1_gross_rev_pred19    1937.634329\n",
            "sim1_fees_pred19         -236.000000\n",
            "sim1_net_rev_pred19      1703.434329\n",
            "dtype: float64\n",
            "        Count Investments in 4 years (on TEST): 1180\n",
            "        Gross Revenue: $1937\n",
            "        Fees (0.2% for buy+sell): $235\n",
            "        Net Revenue: $1703\n",
            "        Fees are 12 % from Gross Revenue\n",
            "        Capital Required : $3000 (Vbegin)\n",
            "        Final value (Vbegin + Net_revenue) : $4703 (Vfinal)\n",
            "        Average CAGR on TEST (4 years) : 1.119, or 11.9% \n",
            "        Average daily stats: \n",
            "            Average net revenue per investment: $1.44 \n",
            "            Average investments per day: 5 \n",
            "            Q75 investments per day: 6 \n",
            "=============================================+\n"
          ]
        }
      ],
      "source": [
        "# Calculate fin. result for ALL predictions (manual and produced by models)\n",
        "\n",
        "sim1_results = [] # results in Array\n",
        "\n",
        "# Iterate over all predictions\n",
        "for pred in PREDICTIONS:\n",
        "  print(f'Calculating sumulation for prediction {pred}:')\n",
        "  print(f\"    Count times of investment {len(new_df[(new_df.split=='test')&(new_df[pred]==1)])} out of {len(new_df[(new_df.split=='test')])} TEST records\")\n",
        "\n",
        "  # Prefix: e.g. pred1 or pred10\n",
        "  pred_prefix= pred.split('_')[0]\n",
        "\n",
        "  # Fin. result columns: define new records for EACH positive prediction\n",
        "  new_df['sim1_gross_rev_'+pred_prefix] = new_df[pred] * 100 * (new_df['growth_future_5d']-1)\n",
        "  new_df['sim1_fees_'+pred_prefix] = -new_df[pred] * 100 * 0.002\n",
        "  new_df['sim1_net_rev_'+pred_prefix] = new_df['sim1_gross_rev_'+pred_prefix] + new_df['sim1_fees_'+pred_prefix]\n",
        "\n",
        "  # calculate agg. results for each PREDICTION columns (pred) on TEST\n",
        "  filter_test_and_positive_pred = (new_df.split=='test')&(new_df[pred]==1) # filter records on TEST set, when current prediction is 1 (we invest $100 for 1 week ahead - 5 periods)\n",
        "  sim1_count_investments = len(new_df[filter_test_and_positive_pred])\n",
        "  sim1_gross_rev = new_df[filter_test_and_positive_pred]['sim1_gross_rev_'+pred_prefix].sum()\n",
        "  sim1_fees = new_df[filter_test_and_positive_pred]['sim1_fees_'+pred_prefix].sum()\n",
        "  sim1_net_rev = new_df[filter_test_and_positive_pred]['sim1_net_rev_'+pred_prefix].sum()\n",
        "\n",
        "  if sim1_gross_rev>0:\n",
        "    sim1_fees_percentage = -sim1_fees/sim1_gross_rev\n",
        "  else:\n",
        "    sim1_fees_percentage = None\n",
        "\n",
        "  if sim1_count_investments>0:\n",
        "    sim1_average_net_revenue = sim1_net_rev/sim1_count_investments\n",
        "  else:\n",
        "    sim1_average_net_revenue = None\n",
        "\n",
        "  # APPROXIMATE CAPITAL REQUIRED and CAGR Calculation\n",
        "  df_investments_count_daily = pd.DataFrame(new_df[filter_test_and_positive_pred].groupby('Date')[pred].count())\n",
        "  sim1_avg_investments_per_day = df_investments_count_daily[pred].mean()\n",
        "  sim1_q75_investments_per_day = df_investments_count_daily[pred].quantile(0.75)  # 75% case - how many $100 investments per day do we have?\n",
        "  # df_investments_count_daily[pred].mean()\n",
        "  sim1_capital = 100 * 5 * sim1_q75_investments_per_day # 5 days in a row with positive predictions\n",
        "  # CAGR: average growth per year. E.g. if you have 1.5 return (50% growth in 4 years) --> (1.5)**(1/4) = 1.106 or 10.6% average\n",
        "  sim1_CAGR = ((sim1_capital+sim1_net_rev)/sim1_capital)**(1/4)\n",
        "\n",
        "  # append to DF\n",
        "  sim1_results.append((pred,sim1_count_investments,sim1_gross_rev,sim1_fees,sim1_net_rev,sim1_fees_percentage,sim1_average_net_revenue,sim1_avg_investments_per_day,sim1_capital,sim1_CAGR))\n",
        "\n",
        "\n",
        "  # output for all predictions with some positive predictions\n",
        "  if  sim1_count_investments>1:\n",
        "    print(f\"    Financial Result: \\n {new_df[filter_test_and_positive_pred][['sim1_gross_rev_'+pred_prefix,'sim1_fees_'+pred_prefix,'sim1_net_rev_'+pred_prefix]].sum()}\")\n",
        "    print(f\"        Count Investments in 4 years (on TEST): {sim1_count_investments}\")\n",
        "    print(f\"        Gross Revenue: ${int(sim1_gross_rev)}\")\n",
        "    print(f\"        Fees (0.2% for buy+sell): ${int(-sim1_fees)}\")\n",
        "    print(f\"        Net Revenue: ${int(sim1_net_rev)}\")\n",
        "    print(f\"        Fees are {int(-100.0*sim1_fees/sim1_gross_rev)} % from Gross Revenue\")\n",
        "    print(f\"        Capital Required : ${int(sim1_capital)} (Vbegin)\")\n",
        "    print(f\"        Final value (Vbegin + Net_revenue) : ${int(sim1_capital + sim1_net_rev)} (Vfinal)\")\n",
        "\n",
        "    print(f\"        Average CAGR on TEST (4 years) : {np.round(sim1_CAGR,3)}, or {np.round(100.0*(sim1_CAGR-1),1)}% \")\n",
        "\n",
        "    print(f\"        Average daily stats: \")\n",
        "    print(f\"            Average net revenue per investment: ${np.round(sim1_net_rev/sim1_count_investments,2)} \")\n",
        "    print(f\"            Average investments per day: {int(np.round(sim1_avg_investments_per_day))} \")\n",
        "    print(f\"            Q75 investments per day: {int(np.round(sim1_q75_investments_per_day))} \")\n",
        "    print('=============================================+')\n",
        "\n",
        "\n",
        "# results in a DataFrame from an Array\n",
        "columns_simulation = ['prediction', 'sim1_count_investments', 'sim1_gross_rev', 'sim1_fees', 'sim1_net_rev', 'sim1_fees_percentage','sim1_average_net_revenue','sim1_avg_investments_per_day','sim1_capital','sim1_CAGR']\n",
        "\n",
        "df_sim1_results = pd.DataFrame(sim1_results,columns=columns_simulation)"
      ]
    },
    {
      "cell_type": "code",
      "execution_count": 206,
      "metadata": {
        "id": "06L2zLXMEDUh"
      },
      "outputs": [],
      "source": [
        "df_sim1_results['sim1_growth_capital_4y'] = (df_sim1_results.sim1_net_rev+df_sim1_results.sim1_capital) / df_sim1_results.sim1_capital"
      ]
    },
    {
      "cell_type": "code",
      "execution_count": 207,
      "metadata": {
        "colab": {
          "base_uri": "https://localhost:8080/",
          "height": 782
        },
        "id": "dKoRow8IEEYx",
        "outputId": "f3d350be-0ef6-4ed5-f64b-065636323e9b"
      },
      "outputs": [
        {
          "data": {
            "text/html": [
              "<div>\n",
              "<style scoped>\n",
              "    .dataframe tbody tr th:only-of-type {\n",
              "        vertical-align: middle;\n",
              "    }\n",
              "\n",
              "    .dataframe tbody tr th {\n",
              "        vertical-align: top;\n",
              "    }\n",
              "\n",
              "    .dataframe thead th {\n",
              "        text-align: right;\n",
              "    }\n",
              "</style>\n",
              "<table border=\"1\" class=\"dataframe\">\n",
              "  <thead>\n",
              "    <tr style=\"text-align: right;\">\n",
              "      <th></th>\n",
              "      <th>prediction</th>\n",
              "      <th>sim1_count_investments</th>\n",
              "      <th>sim1_gross_rev</th>\n",
              "      <th>sim1_fees</th>\n",
              "      <th>sim1_net_rev</th>\n",
              "      <th>sim1_fees_percentage</th>\n",
              "      <th>sim1_average_net_revenue</th>\n",
              "      <th>sim1_avg_investments_per_day</th>\n",
              "      <th>sim1_capital</th>\n",
              "      <th>sim1_CAGR</th>\n",
              "      <th>sim1_growth_capital_4y</th>\n",
              "    </tr>\n",
              "  </thead>\n",
              "  <tbody>\n",
              "    <tr>\n",
              "      <th>0</th>\n",
              "      <td>pred0_manual_cci</td>\n",
              "      <td>799</td>\n",
              "      <td>309.045890</td>\n",
              "      <td>-159.8</td>\n",
              "      <td>149.845890</td>\n",
              "      <td>0.517075</td>\n",
              "      <td>0.187542</td>\n",
              "      <td>1.866822</td>\n",
              "      <td>1000.0</td>\n",
              "      <td>1.035523</td>\n",
              "      <td>1.149846</td>\n",
              "    </tr>\n",
              "    <tr>\n",
              "      <th>1</th>\n",
              "      <td>pred1_manual_prev_g1</td>\n",
              "      <td>15601</td>\n",
              "      <td>6913.217124</td>\n",
              "      <td>-3120.2</td>\n",
              "      <td>3812.817124</td>\n",
              "      <td>0.451338</td>\n",
              "      <td>0.244396</td>\n",
              "      <td>16.526483</td>\n",
              "      <td>11000.0</td>\n",
              "      <td>1.077237</td>\n",
              "      <td>1.346620</td>\n",
              "    </tr>\n",
              "    <tr>\n",
              "      <th>2</th>\n",
              "      <td>pred2_manual_prev_g1_and_snp</td>\n",
              "      <td>10455</td>\n",
              "      <td>4213.424501</td>\n",
              "      <td>-2091.0</td>\n",
              "      <td>2139.624501</td>\n",
              "      <td>0.496271</td>\n",
              "      <td>0.204651</td>\n",
              "      <td>21.918239</td>\n",
              "      <td>13000.0</td>\n",
              "      <td>1.038826</td>\n",
              "      <td>1.164587</td>\n",
              "    </tr>\n",
              "    <tr>\n",
              "      <th>3</th>\n",
              "      <td>pred3_manual_gdp_and_fastd</td>\n",
              "      <td>29822</td>\n",
              "      <td>14893.285316</td>\n",
              "      <td>-5964.4</td>\n",
              "      <td>8961.885316</td>\n",
              "      <td>0.400476</td>\n",
              "      <td>0.300513</td>\n",
              "      <td>31.491024</td>\n",
              "      <td>16500.0</td>\n",
              "      <td>1.114555</td>\n",
              "      <td>1.543145</td>\n",
              "    </tr>\n",
              "    <tr>\n",
              "      <th>4</th>\n",
              "      <td>pred4_manual_gdp_and_wti30d</td>\n",
              "      <td>0</td>\n",
              "      <td>0.000000</td>\n",
              "      <td>0.0</td>\n",
              "      <td>0.000000</td>\n",
              "      <td>NaN</td>\n",
              "      <td>NaN</td>\n",
              "      <td>NaN</td>\n",
              "      <td>NaN</td>\n",
              "      <td>NaN</td>\n",
              "      <td>NaN</td>\n",
              "    </tr>\n",
              "    <tr>\n",
              "      <th>5</th>\n",
              "      <td>pred5_clf_10</td>\n",
              "      <td>25644</td>\n",
              "      <td>15578.953119</td>\n",
              "      <td>-5128.8</td>\n",
              "      <td>10483.153119</td>\n",
              "      <td>0.329213</td>\n",
              "      <td>0.408796</td>\n",
              "      <td>31.311355</td>\n",
              "      <td>16500.0</td>\n",
              "      <td>1.130843</td>\n",
              "      <td>1.635343</td>\n",
              "    </tr>\n",
              "    <tr>\n",
              "      <th>6</th>\n",
              "      <td>pred6_clf_best</td>\n",
              "      <td>19828</td>\n",
              "      <td>14477.431798</td>\n",
              "      <td>-3965.6</td>\n",
              "      <td>10511.831798</td>\n",
              "      <td>0.273916</td>\n",
              "      <td>0.530151</td>\n",
              "      <td>24.509271</td>\n",
              "      <td>16500.0</td>\n",
              "      <td>1.131143</td>\n",
              "      <td>1.637081</td>\n",
              "    </tr>\n",
              "    <tr>\n",
              "      <th>7</th>\n",
              "      <td>pred7_clf_best_rule_66</td>\n",
              "      <td>8504</td>\n",
              "      <td>6977.651882</td>\n",
              "      <td>-1700.8</td>\n",
              "      <td>5276.851882</td>\n",
              "      <td>0.243750</td>\n",
              "      <td>0.620514</td>\n",
              "      <td>18.608315</td>\n",
              "      <td>16000.0</td>\n",
              "      <td>1.073858</td>\n",
              "      <td>1.329803</td>\n",
              "    </tr>\n",
              "    <tr>\n",
              "      <th>8</th>\n",
              "      <td>pred8_clf_best_rule_78</td>\n",
              "      <td>5419</td>\n",
              "      <td>4659.937647</td>\n",
              "      <td>-1083.8</td>\n",
              "      <td>3576.137647</td>\n",
              "      <td>0.232578</td>\n",
              "      <td>0.659926</td>\n",
              "      <td>15.891496</td>\n",
              "      <td>14500.0</td>\n",
              "      <td>1.056658</td>\n",
              "      <td>1.246630</td>\n",
              "    </tr>\n",
              "    <tr>\n",
              "      <th>9</th>\n",
              "      <td>pred9_rf_best_rule_55</td>\n",
              "      <td>5466</td>\n",
              "      <td>5150.760675</td>\n",
              "      <td>-1093.2</td>\n",
              "      <td>4064.360675</td>\n",
              "      <td>0.212240</td>\n",
              "      <td>0.743571</td>\n",
              "      <td>8.474419</td>\n",
              "      <td>6500.0</td>\n",
              "      <td>1.129100</td>\n",
              "      <td>1.625286</td>\n",
              "    </tr>\n",
              "    <tr>\n",
              "      <th>10</th>\n",
              "      <td>pred10_rf_best_rule_60</td>\n",
              "      <td>695</td>\n",
              "      <td>1407.732816</td>\n",
              "      <td>-139.0</td>\n",
              "      <td>1270.332816</td>\n",
              "      <td>0.098740</td>\n",
              "      <td>1.827817</td>\n",
              "      <td>4.290123</td>\n",
              "      <td>3000.0</td>\n",
              "      <td>1.092283</td>\n",
              "      <td>1.423444</td>\n",
              "    </tr>\n",
              "    <tr>\n",
              "      <th>11</th>\n",
              "      <td>pred11_rf_best_rule_51</td>\n",
              "      <td>14315</td>\n",
              "      <td>10037.583629</td>\n",
              "      <td>-2863.0</td>\n",
              "      <td>7189.783629</td>\n",
              "      <td>0.285228</td>\n",
              "      <td>0.502255</td>\n",
              "      <td>15.730769</td>\n",
              "      <td>12000.0</td>\n",
              "      <td>1.124533</td>\n",
              "      <td>1.599149</td>\n",
              "    </tr>\n",
              "    <tr>\n",
              "      <th>12</th>\n",
              "      <td>pred12_rf_best_rule_52</td>\n",
              "      <td>11807</td>\n",
              "      <td>9144.497961</td>\n",
              "      <td>-2361.4</td>\n",
              "      <td>6796.297961</td>\n",
              "      <td>0.258232</td>\n",
              "      <td>0.575616</td>\n",
              "      <td>13.493714</td>\n",
              "      <td>11000.0</td>\n",
              "      <td>1.127806</td>\n",
              "      <td>1.617845</td>\n",
              "    </tr>\n",
              "    <tr>\n",
              "      <th>13</th>\n",
              "      <td>pred13_rf_best_rule_53</td>\n",
              "      <td>9501</td>\n",
              "      <td>7962.287037</td>\n",
              "      <td>-1900.2</td>\n",
              "      <td>6073.087037</td>\n",
              "      <td>0.238650</td>\n",
              "      <td>0.639205</td>\n",
              "      <td>11.671990</td>\n",
              "      <td>9000.0</td>\n",
              "      <td>1.137601</td>\n",
              "      <td>1.674787</td>\n",
              "    </tr>\n",
              "    <tr>\n",
              "      <th>14</th>\n",
              "      <td>pred14_rf_best_rule_54</td>\n",
              "      <td>7316</td>\n",
              "      <td>6325.312056</td>\n",
              "      <td>-1463.2</td>\n",
              "      <td>4871.712056</td>\n",
              "      <td>0.231325</td>\n",
              "      <td>0.665898</td>\n",
              "      <td>9.846568</td>\n",
              "      <td>7500.0</td>\n",
              "      <td>1.133293</td>\n",
              "      <td>1.649562</td>\n",
              "    </tr>\n",
              "    <tr>\n",
              "      <th>15</th>\n",
              "      <td>pred16_rf_best_rule_56</td>\n",
              "      <td>3930</td>\n",
              "      <td>4067.764853</td>\n",
              "      <td>-786.0</td>\n",
              "      <td>3286.364853</td>\n",
              "      <td>0.193227</td>\n",
              "      <td>0.836225</td>\n",
              "      <td>7.224265</td>\n",
              "      <td>5500.0</td>\n",
              "      <td>1.124247</td>\n",
              "      <td>1.597521</td>\n",
              "    </tr>\n",
              "    <tr>\n",
              "      <th>16</th>\n",
              "      <td>pred17_rf_best_rule_57</td>\n",
              "      <td>2725</td>\n",
              "      <td>3075.231043</td>\n",
              "      <td>-545.0</td>\n",
              "      <td>2533.431043</td>\n",
              "      <td>0.177222</td>\n",
              "      <td>0.929699</td>\n",
              "      <td>5.975877</td>\n",
              "      <td>4000.0</td>\n",
              "      <td>1.130499</td>\n",
              "      <td>1.633358</td>\n",
              "    </tr>\n",
              "    <tr>\n",
              "      <th>17</th>\n",
              "      <td>pred18_rf_best_rule_58</td>\n",
              "      <td>1813</td>\n",
              "      <td>2448.693265</td>\n",
              "      <td>-362.6</td>\n",
              "      <td>2088.493265</td>\n",
              "      <td>0.148079</td>\n",
              "      <td>1.151954</td>\n",
              "      <td>5.411940</td>\n",
              "      <td>4000.0</td>\n",
              "      <td>1.110740</td>\n",
              "      <td>1.522123</td>\n",
              "    </tr>\n",
              "    <tr>\n",
              "      <th>18</th>\n",
              "      <td>pred19_rf_best_rule_59</td>\n",
              "      <td>1180</td>\n",
              "      <td>1937.634329</td>\n",
              "      <td>-236.0</td>\n",
              "      <td>1703.434329</td>\n",
              "      <td>0.121798</td>\n",
              "      <td>1.443588</td>\n",
              "      <td>4.738956</td>\n",
              "      <td>3000.0</td>\n",
              "      <td>1.118983</td>\n",
              "      <td>1.567811</td>\n",
              "    </tr>\n",
              "  </tbody>\n",
              "</table>\n",
              "</div>"
            ],
            "text/plain": [
              "                      prediction  sim1_count_investments  sim1_gross_rev  \\\n",
              "0               pred0_manual_cci                     799      309.045890   \n",
              "1           pred1_manual_prev_g1                   15601     6913.217124   \n",
              "2   pred2_manual_prev_g1_and_snp                   10455     4213.424501   \n",
              "3     pred3_manual_gdp_and_fastd                   29822    14893.285316   \n",
              "4    pred4_manual_gdp_and_wti30d                       0        0.000000   \n",
              "5                   pred5_clf_10                   25644    15578.953119   \n",
              "6                 pred6_clf_best                   19828    14477.431798   \n",
              "7         pred7_clf_best_rule_66                    8504     6977.651882   \n",
              "8         pred8_clf_best_rule_78                    5419     4659.937647   \n",
              "9          pred9_rf_best_rule_55                    5466     5150.760675   \n",
              "10        pred10_rf_best_rule_60                     695     1407.732816   \n",
              "11        pred11_rf_best_rule_51                   14315    10037.583629   \n",
              "12        pred12_rf_best_rule_52                   11807     9144.497961   \n",
              "13        pred13_rf_best_rule_53                    9501     7962.287037   \n",
              "14        pred14_rf_best_rule_54                    7316     6325.312056   \n",
              "15        pred16_rf_best_rule_56                    3930     4067.764853   \n",
              "16        pred17_rf_best_rule_57                    2725     3075.231043   \n",
              "17        pred18_rf_best_rule_58                    1813     2448.693265   \n",
              "18        pred19_rf_best_rule_59                    1180     1937.634329   \n",
              "\n",
              "    sim1_fees  sim1_net_rev  sim1_fees_percentage  sim1_average_net_revenue  \\\n",
              "0      -159.8    149.845890              0.517075                  0.187542   \n",
              "1     -3120.2   3812.817124              0.451338                  0.244396   \n",
              "2     -2091.0   2139.624501              0.496271                  0.204651   \n",
              "3     -5964.4   8961.885316              0.400476                  0.300513   \n",
              "4         0.0      0.000000                   NaN                       NaN   \n",
              "5     -5128.8  10483.153119              0.329213                  0.408796   \n",
              "6     -3965.6  10511.831798              0.273916                  0.530151   \n",
              "7     -1700.8   5276.851882              0.243750                  0.620514   \n",
              "8     -1083.8   3576.137647              0.232578                  0.659926   \n",
              "9     -1093.2   4064.360675              0.212240                  0.743571   \n",
              "10     -139.0   1270.332816              0.098740                  1.827817   \n",
              "11    -2863.0   7189.783629              0.285228                  0.502255   \n",
              "12    -2361.4   6796.297961              0.258232                  0.575616   \n",
              "13    -1900.2   6073.087037              0.238650                  0.639205   \n",
              "14    -1463.2   4871.712056              0.231325                  0.665898   \n",
              "15     -786.0   3286.364853              0.193227                  0.836225   \n",
              "16     -545.0   2533.431043              0.177222                  0.929699   \n",
              "17     -362.6   2088.493265              0.148079                  1.151954   \n",
              "18     -236.0   1703.434329              0.121798                  1.443588   \n",
              "\n",
              "    sim1_avg_investments_per_day  sim1_capital  sim1_CAGR  \\\n",
              "0                       1.866822        1000.0   1.035523   \n",
              "1                      16.526483       11000.0   1.077237   \n",
              "2                      21.918239       13000.0   1.038826   \n",
              "3                      31.491024       16500.0   1.114555   \n",
              "4                            NaN           NaN        NaN   \n",
              "5                      31.311355       16500.0   1.130843   \n",
              "6                      24.509271       16500.0   1.131143   \n",
              "7                      18.608315       16000.0   1.073858   \n",
              "8                      15.891496       14500.0   1.056658   \n",
              "9                       8.474419        6500.0   1.129100   \n",
              "10                      4.290123        3000.0   1.092283   \n",
              "11                     15.730769       12000.0   1.124533   \n",
              "12                     13.493714       11000.0   1.127806   \n",
              "13                     11.671990        9000.0   1.137601   \n",
              "14                      9.846568        7500.0   1.133293   \n",
              "15                      7.224265        5500.0   1.124247   \n",
              "16                      5.975877        4000.0   1.130499   \n",
              "17                      5.411940        4000.0   1.110740   \n",
              "18                      4.738956        3000.0   1.118983   \n",
              "\n",
              "    sim1_growth_capital_4y  \n",
              "0                 1.149846  \n",
              "1                 1.346620  \n",
              "2                 1.164587  \n",
              "3                 1.543145  \n",
              "4                      NaN  \n",
              "5                 1.635343  \n",
              "6                 1.637081  \n",
              "7                 1.329803  \n",
              "8                 1.246630  \n",
              "9                 1.625286  \n",
              "10                1.423444  \n",
              "11                1.599149  \n",
              "12                1.617845  \n",
              "13                1.674787  \n",
              "14                1.649562  \n",
              "15                1.597521  \n",
              "16                1.633358  \n",
              "17                1.522123  \n",
              "18                1.567811  "
            ]
          },
          "execution_count": 207,
          "metadata": {},
          "output_type": "execute_result"
        }
      ],
      "source": [
        "# final comparison\n",
        "df_sim1_results"
      ]
    },
    {
      "cell_type": "code",
      "execution_count": 208,
      "metadata": {
        "colab": {
          "base_uri": "https://localhost:8080/"
        },
        "id": "c00nU1WeSiS_",
        "outputId": "c634dd59-ff2e-45fb-9b85-1dc71e3252ca"
      },
      "outputs": [
        {
          "data": {
            "text/plain": [
              "1.1376008931743444"
            ]
          },
          "execution_count": 208,
          "metadata": {},
          "output_type": "execute_result"
        }
      ],
      "source": [
        "df_sim1_results['sim1_CAGR'].max()"
      ]
    },
    {
      "cell_type": "code",
      "execution_count": 209,
      "metadata": {
        "colab": {
          "base_uri": "https://localhost:8080/"
        },
        "id": "Y3uI_HYUSuRd",
        "outputId": "c9a9d3b8-b146-44d8-cf33-1f29d991e2db"
      },
      "outputs": [
        {
          "name": "stdout",
          "output_type": "stream",
          "text": [
            "The best simulation results is CAGR: 1.1376008931743444\n"
          ]
        }
      ],
      "source": [
        "#Q1 answer\n",
        "print('The best simulation results is CAGR:', df_sim1_results['sim1_CAGR'].max())\n"
      ]
    },
    {
      "cell_type": "code",
      "execution_count": 210,
      "metadata": {
        "colab": {
          "base_uri": "https://localhost:8080/",
          "height": 542
        },
        "id": "nVqxN-1wEGGj",
        "outputId": "dbfca1c6-788e-4838-e7e9-4b348a10e0a5"
      },
      "outputs": [
        {
          "data": {
            "application/vnd.plotly.v1+json": {
              "config": {
                "plotlyServerURL": "https://plot.ly"
              },
              "data": [
                {
                  "hovertemplate": "sim1_avg_investments_per_day=%{x}<br>sim1_CAGR=%{y}<br>sim1_growth_capital_4y=%{marker.size}<br>prediction=%{text}<extra></extra>",
                  "legendgroup": "",
                  "marker": {
                    "color": "#636efa",
                    "size": [
                      1.1498458895152726,
                      1.3466197385724221,
                      1.1645865000916178,
                      1.5431445645820265,
                      1.6353426132708009,
                      1.6370807150133508,
                      1.329803242654137,
                      1.2466301825618147,
                      1.6252862577080416,
                      1.42344427185313,
                      1.5991486357675853,
                      1.6178452691737013,
                      1.674787448526467,
                      1.6495616074461272,
                      1.5975208823263394,
                      1.6333577608334982,
                      1.5221233161758614,
                      1.5678114428943508
                    ],
                    "sizemode": "area",
                    "sizeref": 0.004186968621316168,
                    "symbol": "circle"
                  },
                  "mode": "markers+text",
                  "name": "",
                  "orientation": "v",
                  "showlegend": false,
                  "text": [
                    "pred0_manual_cci",
                    "pred1_manual_prev_g1",
                    "pred2_manual_prev_g1_and_snp",
                    "pred3_manual_gdp_and_fastd",
                    "pred5_clf_10",
                    "pred6_clf_best",
                    "pred7_clf_best_rule_66",
                    "pred8_clf_best_rule_78",
                    "pred9_rf_best_rule_55",
                    "pred10_rf_best_rule_60",
                    "pred11_rf_best_rule_51",
                    "pred12_rf_best_rule_52",
                    "pred13_rf_best_rule_53",
                    "pred14_rf_best_rule_54",
                    "pred16_rf_best_rule_56",
                    "pred17_rf_best_rule_57",
                    "pred18_rf_best_rule_58",
                    "pred19_rf_best_rule_59"
                  ],
                  "textposition": "top center",
                  "type": "scatter",
                  "x": [
                    1.8668224299065421,
                    16.526483050847457,
                    21.91823899371069,
                    31.49102428722281,
                    31.31135531135531,
                    24.50927070457355,
                    18.60831509846827,
                    15.89149560117302,
                    8.474418604651163,
                    4.290123456790123,
                    15.73076923076923,
                    13.493714285714285,
                    11.671990171990172,
                    9.846567967698519,
                    7.224264705882353,
                    5.975877192982456,
                    5.411940298507463,
                    4.738955823293173
                  ],
                  "xaxis": "x",
                  "y": [
                    1.035523381042123,
                    1.077236955940904,
                    1.0388263041107977,
                    1.114555382053512,
                    1.1308426728007999,
                    1.1311430283203134,
                    1.073857975331838,
                    1.0566579122515698,
                    1.1291001518751962,
                    1.0922828561636901,
                    1.1245330088648087,
                    1.1278055977310522,
                    1.1376008931743444,
                    1.1332928140865173,
                    1.1242467375403338,
                    1.1304993841618283,
                    1.1107401219432398,
                    1.11898291974846
                  ],
                  "yaxis": "y"
                }
              ],
              "layout": {
                "legend": {
                  "itemsizing": "constant",
                  "tracegroupgap": 0
                },
                "template": {
                  "data": {
                    "bar": [
                      {
                        "error_x": {
                          "color": "#2a3f5f"
                        },
                        "error_y": {
                          "color": "#2a3f5f"
                        },
                        "marker": {
                          "line": {
                            "color": "#E5ECF6",
                            "width": 0.5
                          },
                          "pattern": {
                            "fillmode": "overlay",
                            "size": 10,
                            "solidity": 0.2
                          }
                        },
                        "type": "bar"
                      }
                    ],
                    "barpolar": [
                      {
                        "marker": {
                          "line": {
                            "color": "#E5ECF6",
                            "width": 0.5
                          },
                          "pattern": {
                            "fillmode": "overlay",
                            "size": 10,
                            "solidity": 0.2
                          }
                        },
                        "type": "barpolar"
                      }
                    ],
                    "carpet": [
                      {
                        "aaxis": {
                          "endlinecolor": "#2a3f5f",
                          "gridcolor": "white",
                          "linecolor": "white",
                          "minorgridcolor": "white",
                          "startlinecolor": "#2a3f5f"
                        },
                        "baxis": {
                          "endlinecolor": "#2a3f5f",
                          "gridcolor": "white",
                          "linecolor": "white",
                          "minorgridcolor": "white",
                          "startlinecolor": "#2a3f5f"
                        },
                        "type": "carpet"
                      }
                    ],
                    "choropleth": [
                      {
                        "colorbar": {
                          "outlinewidth": 0,
                          "ticks": ""
                        },
                        "type": "choropleth"
                      }
                    ],
                    "contour": [
                      {
                        "colorbar": {
                          "outlinewidth": 0,
                          "ticks": ""
                        },
                        "colorscale": [
                          [
                            0,
                            "#0d0887"
                          ],
                          [
                            0.1111111111111111,
                            "#46039f"
                          ],
                          [
                            0.2222222222222222,
                            "#7201a8"
                          ],
                          [
                            0.3333333333333333,
                            "#9c179e"
                          ],
                          [
                            0.4444444444444444,
                            "#bd3786"
                          ],
                          [
                            0.5555555555555556,
                            "#d8576b"
                          ],
                          [
                            0.6666666666666666,
                            "#ed7953"
                          ],
                          [
                            0.7777777777777778,
                            "#fb9f3a"
                          ],
                          [
                            0.8888888888888888,
                            "#fdca26"
                          ],
                          [
                            1,
                            "#f0f921"
                          ]
                        ],
                        "type": "contour"
                      }
                    ],
                    "contourcarpet": [
                      {
                        "colorbar": {
                          "outlinewidth": 0,
                          "ticks": ""
                        },
                        "type": "contourcarpet"
                      }
                    ],
                    "heatmap": [
                      {
                        "colorbar": {
                          "outlinewidth": 0,
                          "ticks": ""
                        },
                        "colorscale": [
                          [
                            0,
                            "#0d0887"
                          ],
                          [
                            0.1111111111111111,
                            "#46039f"
                          ],
                          [
                            0.2222222222222222,
                            "#7201a8"
                          ],
                          [
                            0.3333333333333333,
                            "#9c179e"
                          ],
                          [
                            0.4444444444444444,
                            "#bd3786"
                          ],
                          [
                            0.5555555555555556,
                            "#d8576b"
                          ],
                          [
                            0.6666666666666666,
                            "#ed7953"
                          ],
                          [
                            0.7777777777777778,
                            "#fb9f3a"
                          ],
                          [
                            0.8888888888888888,
                            "#fdca26"
                          ],
                          [
                            1,
                            "#f0f921"
                          ]
                        ],
                        "type": "heatmap"
                      }
                    ],
                    "heatmapgl": [
                      {
                        "colorbar": {
                          "outlinewidth": 0,
                          "ticks": ""
                        },
                        "colorscale": [
                          [
                            0,
                            "#0d0887"
                          ],
                          [
                            0.1111111111111111,
                            "#46039f"
                          ],
                          [
                            0.2222222222222222,
                            "#7201a8"
                          ],
                          [
                            0.3333333333333333,
                            "#9c179e"
                          ],
                          [
                            0.4444444444444444,
                            "#bd3786"
                          ],
                          [
                            0.5555555555555556,
                            "#d8576b"
                          ],
                          [
                            0.6666666666666666,
                            "#ed7953"
                          ],
                          [
                            0.7777777777777778,
                            "#fb9f3a"
                          ],
                          [
                            0.8888888888888888,
                            "#fdca26"
                          ],
                          [
                            1,
                            "#f0f921"
                          ]
                        ],
                        "type": "heatmapgl"
                      }
                    ],
                    "histogram": [
                      {
                        "marker": {
                          "pattern": {
                            "fillmode": "overlay",
                            "size": 10,
                            "solidity": 0.2
                          }
                        },
                        "type": "histogram"
                      }
                    ],
                    "histogram2d": [
                      {
                        "colorbar": {
                          "outlinewidth": 0,
                          "ticks": ""
                        },
                        "colorscale": [
                          [
                            0,
                            "#0d0887"
                          ],
                          [
                            0.1111111111111111,
                            "#46039f"
                          ],
                          [
                            0.2222222222222222,
                            "#7201a8"
                          ],
                          [
                            0.3333333333333333,
                            "#9c179e"
                          ],
                          [
                            0.4444444444444444,
                            "#bd3786"
                          ],
                          [
                            0.5555555555555556,
                            "#d8576b"
                          ],
                          [
                            0.6666666666666666,
                            "#ed7953"
                          ],
                          [
                            0.7777777777777778,
                            "#fb9f3a"
                          ],
                          [
                            0.8888888888888888,
                            "#fdca26"
                          ],
                          [
                            1,
                            "#f0f921"
                          ]
                        ],
                        "type": "histogram2d"
                      }
                    ],
                    "histogram2dcontour": [
                      {
                        "colorbar": {
                          "outlinewidth": 0,
                          "ticks": ""
                        },
                        "colorscale": [
                          [
                            0,
                            "#0d0887"
                          ],
                          [
                            0.1111111111111111,
                            "#46039f"
                          ],
                          [
                            0.2222222222222222,
                            "#7201a8"
                          ],
                          [
                            0.3333333333333333,
                            "#9c179e"
                          ],
                          [
                            0.4444444444444444,
                            "#bd3786"
                          ],
                          [
                            0.5555555555555556,
                            "#d8576b"
                          ],
                          [
                            0.6666666666666666,
                            "#ed7953"
                          ],
                          [
                            0.7777777777777778,
                            "#fb9f3a"
                          ],
                          [
                            0.8888888888888888,
                            "#fdca26"
                          ],
                          [
                            1,
                            "#f0f921"
                          ]
                        ],
                        "type": "histogram2dcontour"
                      }
                    ],
                    "mesh3d": [
                      {
                        "colorbar": {
                          "outlinewidth": 0,
                          "ticks": ""
                        },
                        "type": "mesh3d"
                      }
                    ],
                    "parcoords": [
                      {
                        "line": {
                          "colorbar": {
                            "outlinewidth": 0,
                            "ticks": ""
                          }
                        },
                        "type": "parcoords"
                      }
                    ],
                    "pie": [
                      {
                        "automargin": true,
                        "type": "pie"
                      }
                    ],
                    "scatter": [
                      {
                        "fillpattern": {
                          "fillmode": "overlay",
                          "size": 10,
                          "solidity": 0.2
                        },
                        "type": "scatter"
                      }
                    ],
                    "scatter3d": [
                      {
                        "line": {
                          "colorbar": {
                            "outlinewidth": 0,
                            "ticks": ""
                          }
                        },
                        "marker": {
                          "colorbar": {
                            "outlinewidth": 0,
                            "ticks": ""
                          }
                        },
                        "type": "scatter3d"
                      }
                    ],
                    "scattercarpet": [
                      {
                        "marker": {
                          "colorbar": {
                            "outlinewidth": 0,
                            "ticks": ""
                          }
                        },
                        "type": "scattercarpet"
                      }
                    ],
                    "scattergeo": [
                      {
                        "marker": {
                          "colorbar": {
                            "outlinewidth": 0,
                            "ticks": ""
                          }
                        },
                        "type": "scattergeo"
                      }
                    ],
                    "scattergl": [
                      {
                        "marker": {
                          "colorbar": {
                            "outlinewidth": 0,
                            "ticks": ""
                          }
                        },
                        "type": "scattergl"
                      }
                    ],
                    "scattermapbox": [
                      {
                        "marker": {
                          "colorbar": {
                            "outlinewidth": 0,
                            "ticks": ""
                          }
                        },
                        "type": "scattermapbox"
                      }
                    ],
                    "scatterpolar": [
                      {
                        "marker": {
                          "colorbar": {
                            "outlinewidth": 0,
                            "ticks": ""
                          }
                        },
                        "type": "scatterpolar"
                      }
                    ],
                    "scatterpolargl": [
                      {
                        "marker": {
                          "colorbar": {
                            "outlinewidth": 0,
                            "ticks": ""
                          }
                        },
                        "type": "scatterpolargl"
                      }
                    ],
                    "scatterternary": [
                      {
                        "marker": {
                          "colorbar": {
                            "outlinewidth": 0,
                            "ticks": ""
                          }
                        },
                        "type": "scatterternary"
                      }
                    ],
                    "surface": [
                      {
                        "colorbar": {
                          "outlinewidth": 0,
                          "ticks": ""
                        },
                        "colorscale": [
                          [
                            0,
                            "#0d0887"
                          ],
                          [
                            0.1111111111111111,
                            "#46039f"
                          ],
                          [
                            0.2222222222222222,
                            "#7201a8"
                          ],
                          [
                            0.3333333333333333,
                            "#9c179e"
                          ],
                          [
                            0.4444444444444444,
                            "#bd3786"
                          ],
                          [
                            0.5555555555555556,
                            "#d8576b"
                          ],
                          [
                            0.6666666666666666,
                            "#ed7953"
                          ],
                          [
                            0.7777777777777778,
                            "#fb9f3a"
                          ],
                          [
                            0.8888888888888888,
                            "#fdca26"
                          ],
                          [
                            1,
                            "#f0f921"
                          ]
                        ],
                        "type": "surface"
                      }
                    ],
                    "table": [
                      {
                        "cells": {
                          "fill": {
                            "color": "#EBF0F8"
                          },
                          "line": {
                            "color": "white"
                          }
                        },
                        "header": {
                          "fill": {
                            "color": "#C8D4E3"
                          },
                          "line": {
                            "color": "white"
                          }
                        },
                        "type": "table"
                      }
                    ]
                  },
                  "layout": {
                    "annotationdefaults": {
                      "arrowcolor": "#2a3f5f",
                      "arrowhead": 0,
                      "arrowwidth": 1
                    },
                    "autotypenumbers": "strict",
                    "coloraxis": {
                      "colorbar": {
                        "outlinewidth": 0,
                        "ticks": ""
                      }
                    },
                    "colorscale": {
                      "diverging": [
                        [
                          0,
                          "#8e0152"
                        ],
                        [
                          0.1,
                          "#c51b7d"
                        ],
                        [
                          0.2,
                          "#de77ae"
                        ],
                        [
                          0.3,
                          "#f1b6da"
                        ],
                        [
                          0.4,
                          "#fde0ef"
                        ],
                        [
                          0.5,
                          "#f7f7f7"
                        ],
                        [
                          0.6,
                          "#e6f5d0"
                        ],
                        [
                          0.7,
                          "#b8e186"
                        ],
                        [
                          0.8,
                          "#7fbc41"
                        ],
                        [
                          0.9,
                          "#4d9221"
                        ],
                        [
                          1,
                          "#276419"
                        ]
                      ],
                      "sequential": [
                        [
                          0,
                          "#0d0887"
                        ],
                        [
                          0.1111111111111111,
                          "#46039f"
                        ],
                        [
                          0.2222222222222222,
                          "#7201a8"
                        ],
                        [
                          0.3333333333333333,
                          "#9c179e"
                        ],
                        [
                          0.4444444444444444,
                          "#bd3786"
                        ],
                        [
                          0.5555555555555556,
                          "#d8576b"
                        ],
                        [
                          0.6666666666666666,
                          "#ed7953"
                        ],
                        [
                          0.7777777777777778,
                          "#fb9f3a"
                        ],
                        [
                          0.8888888888888888,
                          "#fdca26"
                        ],
                        [
                          1,
                          "#f0f921"
                        ]
                      ],
                      "sequentialminus": [
                        [
                          0,
                          "#0d0887"
                        ],
                        [
                          0.1111111111111111,
                          "#46039f"
                        ],
                        [
                          0.2222222222222222,
                          "#7201a8"
                        ],
                        [
                          0.3333333333333333,
                          "#9c179e"
                        ],
                        [
                          0.4444444444444444,
                          "#bd3786"
                        ],
                        [
                          0.5555555555555556,
                          "#d8576b"
                        ],
                        [
                          0.6666666666666666,
                          "#ed7953"
                        ],
                        [
                          0.7777777777777778,
                          "#fb9f3a"
                        ],
                        [
                          0.8888888888888888,
                          "#fdca26"
                        ],
                        [
                          1,
                          "#f0f921"
                        ]
                      ]
                    },
                    "colorway": [
                      "#636efa",
                      "#EF553B",
                      "#00cc96",
                      "#ab63fa",
                      "#FFA15A",
                      "#19d3f3",
                      "#FF6692",
                      "#B6E880",
                      "#FF97FF",
                      "#FECB52"
                    ],
                    "font": {
                      "color": "#2a3f5f"
                    },
                    "geo": {
                      "bgcolor": "white",
                      "lakecolor": "white",
                      "landcolor": "#E5ECF6",
                      "showlakes": true,
                      "showland": true,
                      "subunitcolor": "white"
                    },
                    "hoverlabel": {
                      "align": "left"
                    },
                    "hovermode": "closest",
                    "mapbox": {
                      "style": "light"
                    },
                    "paper_bgcolor": "white",
                    "plot_bgcolor": "#E5ECF6",
                    "polar": {
                      "angularaxis": {
                        "gridcolor": "white",
                        "linecolor": "white",
                        "ticks": ""
                      },
                      "bgcolor": "#E5ECF6",
                      "radialaxis": {
                        "gridcolor": "white",
                        "linecolor": "white",
                        "ticks": ""
                      }
                    },
                    "scene": {
                      "xaxis": {
                        "backgroundcolor": "#E5ECF6",
                        "gridcolor": "white",
                        "gridwidth": 2,
                        "linecolor": "white",
                        "showbackground": true,
                        "ticks": "",
                        "zerolinecolor": "white"
                      },
                      "yaxis": {
                        "backgroundcolor": "#E5ECF6",
                        "gridcolor": "white",
                        "gridwidth": 2,
                        "linecolor": "white",
                        "showbackground": true,
                        "ticks": "",
                        "zerolinecolor": "white"
                      },
                      "zaxis": {
                        "backgroundcolor": "#E5ECF6",
                        "gridcolor": "white",
                        "gridwidth": 2,
                        "linecolor": "white",
                        "showbackground": true,
                        "ticks": "",
                        "zerolinecolor": "white"
                      }
                    },
                    "shapedefaults": {
                      "line": {
                        "color": "#2a3f5f"
                      }
                    },
                    "ternary": {
                      "aaxis": {
                        "gridcolor": "white",
                        "linecolor": "white",
                        "ticks": ""
                      },
                      "baxis": {
                        "gridcolor": "white",
                        "linecolor": "white",
                        "ticks": ""
                      },
                      "bgcolor": "#E5ECF6",
                      "caxis": {
                        "gridcolor": "white",
                        "linecolor": "white",
                        "ticks": ""
                      }
                    },
                    "title": {
                      "x": 0.05
                    },
                    "xaxis": {
                      "automargin": true,
                      "gridcolor": "white",
                      "linecolor": "white",
                      "ticks": "",
                      "title": {
                        "standoff": 15
                      },
                      "zerolinecolor": "white",
                      "zerolinewidth": 2
                    },
                    "yaxis": {
                      "automargin": true,
                      "gridcolor": "white",
                      "linecolor": "white",
                      "ticks": "",
                      "title": {
                        "standoff": 15
                      },
                      "zerolinecolor": "white",
                      "zerolinewidth": 2
                    }
                  }
                },
                "title": {
                  "text": "Compound Annual Growth vs. Time spent (Average investments per day)"
                },
                "xaxis": {
                  "anchor": "y",
                  "domain": [
                    0,
                    1
                  ],
                  "title": {
                    "text": "sim1_avg_investments_per_day"
                  }
                },
                "yaxis": {
                  "anchor": "x",
                  "domain": [
                    0,
                    1
                  ],
                  "title": {
                    "text": "sim1_CAGR"
                  }
                }
              }
            }
          },
          "metadata": {},
          "output_type": "display_data"
        }
      ],
      "source": [
        "# Create the scatter plot\n",
        "fig = px.scatter(\n",
        "    df_sim1_results.dropna(),\n",
        "    x='sim1_avg_investments_per_day',\n",
        "    y='sim1_CAGR',\n",
        "    size='sim1_growth_capital_4y',  # Use the 'size' parameter for sim1_CAGR\n",
        "    text='prediction',\n",
        "    title='Compound Annual Growth vs. Time spent (Average investments per day)',\n",
        "    labels={'sim1_capital': 'Initial Capital Requirement', 'growth_capital_4y': '4-Year Capital Growth'}\n",
        ")\n",
        "\n",
        "# Update the layout to improve readability of the annotations\n",
        "fig.update_traces(textposition='top center')\n",
        "\n",
        "# Show the plot\n",
        "fig.show()"
      ]
    },
    {
      "cell_type": "markdown",
      "metadata": {},
      "source": [
        "Question 1 (2 points): Find the new global best CAGR with Random Forest tuning\n",
        "The idea: You may have noticed that the Random Forest predictions provide close to maximum CAGR results (\"1.1291\" for pred9_rf_best_rule_55, \"1.0923\" for pred10_rf_best_rule_60) with less effort (average trades per day).\n",
        "\n",
        "In this task, you are asked to define new predictors with custom threshold rules from 0.51 to 0.54 and from 0.56 to 0.59 to cover the full interval from 0.51 to 0.60. You should be able to observe one peak of financial performance and understand why we don't need to extend the interval with more predictions on other thresholds.\n",
        "\n",
        "Before defining new predictors: modify the code to generate the dataframe df_scores for Random Forest classifier rf_best and not a Decision Tree (clf_best). Look at for precision/recall rates for different threshold values. You'll see that the precision rate goes up with a higher threshold, but recall (and total number of deals) goes down. However, don't be misled by this, as the financial simulation may show a different view (even with higher precision and fewer trades, you may obtain worse results).\n",
        "\n",
        "Define new Random Forest predictions (with names predxx_rf_best_rule_yy) based on the missing thresholds to cover the full interval 0.51..0.60\n",
        "\n",
        "Review the last dataframe with the simulation results (df_sim1_results). Find the best simulation results. Do you see that one of the new predictors could deliver the new best CAGR? Write down the new best CAGR value as an answer.\n",
        "\n"
      ]
    },
    {
      "cell_type": "markdown",
      "metadata": {},
      "source": [
        "1.1376008931743444"
      ]
    }
  ],
  "metadata": {
    "colab": {
      "collapsed_sections": [
        "_Uu1B9NuqP8w"
      ],
      "provenance": []
    },
    "kernelspec": {
      "display_name": "Python 3",
      "name": "python3"
    },
    "language_info": {
      "codemirror_mode": {
        "name": "ipython",
        "version": 3
      },
      "file_extension": ".py",
      "mimetype": "text/x-python",
      "name": "python",
      "nbconvert_exporter": "python",
      "pygments_lexer": "ipython3",
      "version": "3.11.5"
    }
  },
  "nbformat": 4,
  "nbformat_minor": 0
}
